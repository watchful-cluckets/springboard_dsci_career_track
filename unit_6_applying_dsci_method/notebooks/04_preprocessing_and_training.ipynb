{
 "cells": [
  {
   "cell_type": "markdown",
   "metadata": {},
   "source": [
    "# Introduction"
   ]
  },
  {
   "cell_type": "markdown",
   "metadata": {},
   "source": [
    "In preceding notebooks, performed preliminary assessments of data quality and refined the question to be answered. You found a small number of data values that gave clear choices about whether to replace values or drop a whole row. You determined that predicting the adult weekend ticket price was your primary aim. You threw away records with missing price data, but not before making the most of the other available data to look for any patterns between the states. You didn't see any and decided to treat all states equally; the state label didn't seem to be particularly useful.\n",
    "\n",
    "In this notebook you'll start to build machine learning models. Before even starting with learning a machine learning model, however, start by considering how useful the mean value is as a predictor. This is more than just a pedagogical device. You never want to go to stakeholders with a machine learning model only to have the CEO point out that it performs worse than just guessing the average! Your first model is a baseline performance comparitor for any subsequent model. You then build up the process of efficiently and robustly creating and assessing models against it. The development we lay out may be little slower than in the real world, but this step of the capstone is definitely more than just instructional. It is good practice to build up an understanding that the machine learning pipelines you build work as expected. You can validate steps with your own functions for checking expected equivalence between, say, pandas and sklearn implementations."
   ]
  },
  {
   "cell_type": "markdown",
   "metadata": {},
   "source": [
    "# Imports"
   ]
  },
  {
   "cell_type": "code",
   "execution_count": 1,
   "metadata": {
    "ExecuteTime": {
     "end_time": "2021-08-11T22:28:02.610713Z",
     "start_time": "2021-08-11T22:28:02.607490Z"
    }
   },
   "outputs": [],
   "source": [
    "import datetime\n",
    "import glob\n",
    "import itertools\n",
    "import json\n",
    "import os\n",
    "import pickle\n",
    "import random\n",
    "import re\n",
    "from string import punctuation"
   ]
  },
  {
   "cell_type": "code",
   "execution_count": 2,
   "metadata": {
    "ExecuteTime": {
     "end_time": "2021-08-11T22:28:04.063341Z",
     "start_time": "2021-08-11T22:28:02.611982Z"
    }
   },
   "outputs": [],
   "source": [
    "import fuzzywuzzy\n",
    "import geopandas as gpd\n",
    "import humanize\n",
    "import missingno as msno\n",
    "import numpy as np\n",
    "import pandas as pd\n",
    "import recordlinkage\n",
    "import scipy as sp\n",
    "import statistics\n",
    "import statsmodels.formula.api as smf\n",
    "from pandas_profiling import ProfileReport"
   ]
  },
  {
   "cell_type": "code",
   "execution_count": 3,
   "metadata": {
    "ExecuteTime": {
     "end_time": "2021-08-11T22:28:04.202430Z",
     "start_time": "2021-08-11T22:28:04.064665Z"
    }
   },
   "outputs": [],
   "source": [
    "SMALL_SIZE = 10\n",
    "MEDIUM_SIZE = 14\n",
    "BIGGER_SIZE = 18\n",
    "MAPBOX_STYLE = \"dark\"\n",
    "MAPBOX_HEIGHT = 800\n",
    "%matplotlib inline\n",
    "import seaborn as sns\n",
    "import matplotlib as mpl\n",
    "import matplotlib.font_manager\n",
    "import matplotlib.pyplot as plt\n",
    "import plotly.express as px\n",
    "import plotly.graph_objects as go\n",
    "from matplotlib.ticker import PercentFormatter\n",
    "px.set_mapbox_access_token(os.getenv(\"MAPBOX_TOKEN\"))\n",
    "matplotlib.font_manager.findSystemFonts(fontpaths=None, fontext=\"ttf\")\n",
    "plt.style.use(\"seaborn-colorblind\")\n",
    "plt.rcParams[\"font.family\"] = \"sans-serif\"\n",
    "plt.rcParams[\"font.sans-serif\"] = \"Open Sans\"\n",
    "plt.rcParams[\"figure.figsize\"] = 15, 6\n",
    "plt.rc('font', size=SMALL_SIZE)          # controls default text sizes\n",
    "plt.rc('axes', titlesize=SMALL_SIZE)     # fontsize of the axes title\n",
    "plt.rc('axes', labelsize=MEDIUM_SIZE)    # fontsize of the x and y labels\n",
    "plt.rc('xtick', labelsize=SMALL_SIZE)    # fontsize of the tick labels\n",
    "plt.rc('ytick', labelsize=SMALL_SIZE)    # fontsize of the tick labels\n",
    "plt.rc('legend', fontsize=SMALL_SIZE)    # legend fontsize\n",
    "plt.rc('figure', titlesize=BIGGER_SIZE)  # fontsize of the figure title"
   ]
  },
  {
   "cell_type": "code",
   "execution_count": 4,
   "metadata": {
    "ExecuteTime": {
     "end_time": "2021-08-11T22:28:04.215107Z",
     "start_time": "2021-08-11T22:28:04.203431Z"
    }
   },
   "outputs": [],
   "source": [
    "import joblib\n",
    "from sklearn import __version__ as sklearn_version\n",
    "from sklearn.decomposition import PCA\n",
    "from sklearn.dummy import DummyRegressor\n",
    "from sklearn.ensemble import RandomForestRegressor\n",
    "from sklearn.feature_selection import SelectKBest, f_regression\n",
    "from sklearn.impute import SimpleImputer\n",
    "from sklearn.linear_model import LinearRegression\n",
    "from sklearn.metrics import mean_absolute_error, mean_squared_error, r2_score\n",
    "from sklearn.model_selection import (GridSearchCV, cross_validate, learning_curve, train_test_split)\n",
    "from sklearn.pipeline import make_pipeline\n",
    "from sklearn.preprocessing import MinMaxScaler, StandardScaler, scale"
   ]
  },
  {
   "cell_type": "code",
   "execution_count": 5,
   "metadata": {
    "ExecuteTime": {
     "end_time": "2021-08-11T22:28:04.217998Z",
     "start_time": "2021-08-11T22:28:04.215978Z"
    }
   },
   "outputs": [],
   "source": [
    "from numpy.random import default_rng\n",
    "RANDOM_SEED = 51\n",
    "rng = default_rng(RANDOM_SEED)"
   ]
  },
  {
   "cell_type": "markdown",
   "metadata": {},
   "source": [
    "# Load Data"
   ]
  },
  {
   "cell_type": "code",
   "execution_count": 6,
   "metadata": {
    "ExecuteTime": {
     "end_time": "2021-08-11T22:28:04.243082Z",
     "start_time": "2021-08-11T22:28:04.218904Z"
    },
    "scrolled": true
   },
   "outputs": [
    {
     "data": {
      "text/html": [
       "<div>\n",
       "<style scoped>\n",
       "    .dataframe tbody tr th:only-of-type {\n",
       "        vertical-align: middle;\n",
       "    }\n",
       "\n",
       "    .dataframe tbody tr th {\n",
       "        vertical-align: top;\n",
       "    }\n",
       "\n",
       "    .dataframe thead th {\n",
       "        text-align: right;\n",
       "    }\n",
       "</style>\n",
       "<table border=\"1\" class=\"dataframe\">\n",
       "  <thead>\n",
       "    <tr style=\"text-align: right;\">\n",
       "      <th></th>\n",
       "      <th>adult_weekday</th>\n",
       "      <th>adult_weekend</th>\n",
       "      <th>average_snowfall</th>\n",
       "      <th>base_elev</th>\n",
       "      <th>daysopenlast_year</th>\n",
       "      <th>double</th>\n",
       "      <th>fast_quads</th>\n",
       "      <th>fast_sixes</th>\n",
       "      <th>longest_run_mi</th>\n",
       "      <th>name</th>\n",
       "      <th>...</th>\n",
       "      <th>resorts_per_100kcapita</th>\n",
       "      <th>resorts_per_100ksq_mile</th>\n",
       "      <th>resort_skiable_area_ac_state_ratio</th>\n",
       "      <th>resort_days_open_state_ratio</th>\n",
       "      <th>resort_terrain_park_state_ratio</th>\n",
       "      <th>resort_night_skiing_state_ratio</th>\n",
       "      <th>total_chairs_runs_ratio</th>\n",
       "      <th>total_chairs_skiable_ratio</th>\n",
       "      <th>fastQuads_runs_ratio</th>\n",
       "      <th>fastQuads_skiable_ratio</th>\n",
       "    </tr>\n",
       "  </thead>\n",
       "  <tbody>\n",
       "    <tr>\n",
       "      <th>0</th>\n",
       "      <td>65.0</td>\n",
       "      <td>85.0</td>\n",
       "      <td>669.0</td>\n",
       "      <td>250</td>\n",
       "      <td>150.0</td>\n",
       "      <td>0</td>\n",
       "      <td>2</td>\n",
       "      <td>0</td>\n",
       "      <td>1.0</td>\n",
       "      <td>alyeska_resort</td>\n",
       "      <td>...</td>\n",
       "      <td>0.410091</td>\n",
       "      <td>0.450867</td>\n",
       "      <td>0.706140</td>\n",
       "      <td>0.434783</td>\n",
       "      <td>0.500000</td>\n",
       "      <td>0.948276</td>\n",
       "      <td>0.092105</td>\n",
       "      <td>0.004348</td>\n",
       "      <td>0.026316</td>\n",
       "      <td>0.001242</td>\n",
       "    </tr>\n",
       "    <tr>\n",
       "      <th>1</th>\n",
       "      <td>47.0</td>\n",
       "      <td>53.0</td>\n",
       "      <td>350.0</td>\n",
       "      <td>1200</td>\n",
       "      <td>45.0</td>\n",
       "      <td>4</td>\n",
       "      <td>0</td>\n",
       "      <td>0</td>\n",
       "      <td>2.0</td>\n",
       "      <td>eaglecrest_ski_area</td>\n",
       "      <td>...</td>\n",
       "      <td>0.410091</td>\n",
       "      <td>0.450867</td>\n",
       "      <td>0.280702</td>\n",
       "      <td>0.130435</td>\n",
       "      <td>0.250000</td>\n",
       "      <td>NaN</td>\n",
       "      <td>0.111111</td>\n",
       "      <td>0.006250</td>\n",
       "      <td>0.000000</td>\n",
       "      <td>0.000000</td>\n",
       "    </tr>\n",
       "    <tr>\n",
       "      <th>2</th>\n",
       "      <td>30.0</td>\n",
       "      <td>34.0</td>\n",
       "      <td>69.0</td>\n",
       "      <td>1796</td>\n",
       "      <td>150.0</td>\n",
       "      <td>0</td>\n",
       "      <td>0</td>\n",
       "      <td>0</td>\n",
       "      <td>1.0</td>\n",
       "      <td>hilltop_ski_area</td>\n",
       "      <td>...</td>\n",
       "      <td>0.410091</td>\n",
       "      <td>0.450867</td>\n",
       "      <td>0.013158</td>\n",
       "      <td>0.434783</td>\n",
       "      <td>0.250000</td>\n",
       "      <td>0.051724</td>\n",
       "      <td>0.230769</td>\n",
       "      <td>0.100000</td>\n",
       "      <td>0.000000</td>\n",
       "      <td>0.000000</td>\n",
       "    </tr>\n",
       "    <tr>\n",
       "      <th>3</th>\n",
       "      <td>89.0</td>\n",
       "      <td>89.0</td>\n",
       "      <td>260.0</td>\n",
       "      <td>9200</td>\n",
       "      <td>122.0</td>\n",
       "      <td>1</td>\n",
       "      <td>0</td>\n",
       "      <td>1</td>\n",
       "      <td>2.0</td>\n",
       "      <td>arizona_snowbowl</td>\n",
       "      <td>...</td>\n",
       "      <td>0.027477</td>\n",
       "      <td>1.754540</td>\n",
       "      <td>0.492708</td>\n",
       "      <td>0.514768</td>\n",
       "      <td>0.666667</td>\n",
       "      <td>NaN</td>\n",
       "      <td>0.145455</td>\n",
       "      <td>0.010296</td>\n",
       "      <td>0.000000</td>\n",
       "      <td>0.000000</td>\n",
       "    </tr>\n",
       "    <tr>\n",
       "      <th>4</th>\n",
       "      <td>74.0</td>\n",
       "      <td>78.0</td>\n",
       "      <td>250.0</td>\n",
       "      <td>9200</td>\n",
       "      <td>115.0</td>\n",
       "      <td>1</td>\n",
       "      <td>1</td>\n",
       "      <td>0</td>\n",
       "      <td>1.2</td>\n",
       "      <td>sunrise_park_resort</td>\n",
       "      <td>...</td>\n",
       "      <td>0.027477</td>\n",
       "      <td>1.754540</td>\n",
       "      <td>0.507292</td>\n",
       "      <td>0.485232</td>\n",
       "      <td>0.333333</td>\n",
       "      <td>1.000000</td>\n",
       "      <td>0.107692</td>\n",
       "      <td>0.008750</td>\n",
       "      <td>0.015385</td>\n",
       "      <td>0.001250</td>\n",
       "    </tr>\n",
       "  </tbody>\n",
       "</table>\n",
       "<p>5 rows × 42 columns</p>\n",
       "</div>"
      ],
      "text/plain": [
       "   adult_weekday  adult_weekend  average_snowfall  base_elev  \\\n",
       "0           65.0           85.0             669.0        250   \n",
       "1           47.0           53.0             350.0       1200   \n",
       "2           30.0           34.0              69.0       1796   \n",
       "3           89.0           89.0             260.0       9200   \n",
       "4           74.0           78.0             250.0       9200   \n",
       "\n",
       "   daysopenlast_year  double  fast_quads  fast_sixes  longest_run_mi  \\\n",
       "0              150.0       0           2           0             1.0   \n",
       "1               45.0       4           0           0             2.0   \n",
       "2              150.0       0           0           0             1.0   \n",
       "3              122.0       1           0           1             2.0   \n",
       "4              115.0       1           1           0             1.2   \n",
       "\n",
       "                  name  ...  resorts_per_100kcapita  resorts_per_100ksq_mile  \\\n",
       "0       alyeska_resort  ...                0.410091                 0.450867   \n",
       "1  eaglecrest_ski_area  ...                0.410091                 0.450867   \n",
       "2     hilltop_ski_area  ...                0.410091                 0.450867   \n",
       "3     arizona_snowbowl  ...                0.027477                 1.754540   \n",
       "4  sunrise_park_resort  ...                0.027477                 1.754540   \n",
       "\n",
       "   resort_skiable_area_ac_state_ratio resort_days_open_state_ratio  \\\n",
       "0                            0.706140                     0.434783   \n",
       "1                            0.280702                     0.130435   \n",
       "2                            0.013158                     0.434783   \n",
       "3                            0.492708                     0.514768   \n",
       "4                            0.507292                     0.485232   \n",
       "\n",
       "   resort_terrain_park_state_ratio  resort_night_skiing_state_ratio  \\\n",
       "0                         0.500000                         0.948276   \n",
       "1                         0.250000                              NaN   \n",
       "2                         0.250000                         0.051724   \n",
       "3                         0.666667                              NaN   \n",
       "4                         0.333333                         1.000000   \n",
       "\n",
       "   total_chairs_runs_ratio total_chairs_skiable_ratio  fastQuads_runs_ratio  \\\n",
       "0                 0.092105                   0.004348              0.026316   \n",
       "1                 0.111111                   0.006250              0.000000   \n",
       "2                 0.230769                   0.100000              0.000000   \n",
       "3                 0.145455                   0.010296              0.000000   \n",
       "4                 0.107692                   0.008750              0.015385   \n",
       "\n",
       "   fastQuads_skiable_ratio  \n",
       "0                 0.001242  \n",
       "1                 0.000000  \n",
       "2                 0.000000  \n",
       "3                 0.000000  \n",
       "4                 0.001250  \n",
       "\n",
       "[5 rows x 42 columns]"
      ]
     },
     "execution_count": 6,
     "metadata": {},
     "output_type": "execute_result"
    }
   ],
   "source": [
    "ski_data = pd.read_csv(\"../data/ski_data_features.csv\")\n",
    "ski_data.head()"
   ]
  },
  {
   "cell_type": "markdown",
   "metadata": {},
   "source": [
    "## Extract Big Mountain Data"
   ]
  },
  {
   "cell_type": "markdown",
   "metadata": {},
   "source": [
    "Big Mountain is your resort. Separate it from the rest of the data to use later."
   ]
  },
  {
   "cell_type": "code",
   "execution_count": 7,
   "metadata": {
    "ExecuteTime": {
     "end_time": "2021-08-11T22:28:04.247234Z",
     "start_time": "2021-08-11T22:28:04.244363Z"
    }
   },
   "outputs": [],
   "source": [
    "target_resort = \"big_mountain_resort\"\n",
    "big_mountain = ski_data[ski_data.name == target_resort]"
   ]
  },
  {
   "cell_type": "code",
   "execution_count": 8,
   "metadata": {
    "ExecuteTime": {
     "end_time": "2021-08-11T22:28:04.256030Z",
     "start_time": "2021-08-11T22:28:04.248404Z"
    }
   },
   "outputs": [
    {
     "data": {
      "text/html": [
       "<div>\n",
       "<style scoped>\n",
       "    .dataframe tbody tr th:only-of-type {\n",
       "        vertical-align: middle;\n",
       "    }\n",
       "\n",
       "    .dataframe tbody tr th {\n",
       "        vertical-align: top;\n",
       "    }\n",
       "\n",
       "    .dataframe thead th {\n",
       "        text-align: right;\n",
       "    }\n",
       "</style>\n",
       "<table border=\"1\" class=\"dataframe\">\n",
       "  <thead>\n",
       "    <tr style=\"text-align: right;\">\n",
       "      <th></th>\n",
       "      <th>121</th>\n",
       "    </tr>\n",
       "  </thead>\n",
       "  <tbody>\n",
       "    <tr>\n",
       "      <th>adult_weekday</th>\n",
       "      <td>81.0</td>\n",
       "    </tr>\n",
       "    <tr>\n",
       "      <th>adult_weekend</th>\n",
       "      <td>81.0</td>\n",
       "    </tr>\n",
       "    <tr>\n",
       "      <th>average_snowfall</th>\n",
       "      <td>333.0</td>\n",
       "    </tr>\n",
       "    <tr>\n",
       "      <th>base_elev</th>\n",
       "      <td>4464</td>\n",
       "    </tr>\n",
       "    <tr>\n",
       "      <th>daysopenlast_year</th>\n",
       "      <td>123.0</td>\n",
       "    </tr>\n",
       "    <tr>\n",
       "      <th>double</th>\n",
       "      <td>0</td>\n",
       "    </tr>\n",
       "    <tr>\n",
       "      <th>fast_quads</th>\n",
       "      <td>3</td>\n",
       "    </tr>\n",
       "    <tr>\n",
       "      <th>fast_sixes</th>\n",
       "      <td>0</td>\n",
       "    </tr>\n",
       "    <tr>\n",
       "      <th>longest_run_mi</th>\n",
       "      <td>3.3</td>\n",
       "    </tr>\n",
       "    <tr>\n",
       "      <th>name</th>\n",
       "      <td>big_mountain_resort</td>\n",
       "    </tr>\n",
       "    <tr>\n",
       "      <th>night_skiing_ac</th>\n",
       "      <td>600.0</td>\n",
       "    </tr>\n",
       "    <tr>\n",
       "      <th>projecteddays_open</th>\n",
       "      <td>123.0</td>\n",
       "    </tr>\n",
       "    <tr>\n",
       "      <th>quad</th>\n",
       "      <td>2</td>\n",
       "    </tr>\n",
       "    <tr>\n",
       "      <th>region</th>\n",
       "      <td>montana</td>\n",
       "    </tr>\n",
       "    <tr>\n",
       "      <th>runs</th>\n",
       "      <td>105.0</td>\n",
       "    </tr>\n",
       "    <tr>\n",
       "      <th>skiable_terrain_ac</th>\n",
       "      <td>3000.0</td>\n",
       "    </tr>\n",
       "    <tr>\n",
       "      <th>snow_making_ac</th>\n",
       "      <td>600.0</td>\n",
       "    </tr>\n",
       "    <tr>\n",
       "      <th>state</th>\n",
       "      <td>montana</td>\n",
       "    </tr>\n",
       "    <tr>\n",
       "      <th>summit_elev</th>\n",
       "      <td>6817</td>\n",
       "    </tr>\n",
       "    <tr>\n",
       "      <th>surface</th>\n",
       "      <td>3</td>\n",
       "    </tr>\n",
       "    <tr>\n",
       "      <th>terrain_parks_resort</th>\n",
       "      <td>4.0</td>\n",
       "    </tr>\n",
       "    <tr>\n",
       "      <th>total_chairs</th>\n",
       "      <td>14</td>\n",
       "    </tr>\n",
       "    <tr>\n",
       "      <th>trams</th>\n",
       "      <td>0</td>\n",
       "    </tr>\n",
       "    <tr>\n",
       "      <th>triple</th>\n",
       "      <td>6</td>\n",
       "    </tr>\n",
       "    <tr>\n",
       "      <th>vertical_drop</th>\n",
       "      <td>2353</td>\n",
       "    </tr>\n",
       "    <tr>\n",
       "      <th>years_open</th>\n",
       "      <td>72.0</td>\n",
       "    </tr>\n",
       "    <tr>\n",
       "      <th>price_delta</th>\n",
       "      <td>0.0</td>\n",
       "    </tr>\n",
       "    <tr>\n",
       "      <th>resort_cnt</th>\n",
       "      <td>12</td>\n",
       "    </tr>\n",
       "    <tr>\n",
       "      <th>skiable_area_ac</th>\n",
       "      <td>21410.0</td>\n",
       "    </tr>\n",
       "    <tr>\n",
       "      <th>days_open</th>\n",
       "      <td>951.0</td>\n",
       "    </tr>\n",
       "    <tr>\n",
       "      <th>terrain_parks_state</th>\n",
       "      <td>27.0</td>\n",
       "    </tr>\n",
       "    <tr>\n",
       "      <th>nightskiing_ac</th>\n",
       "      <td>710.0</td>\n",
       "    </tr>\n",
       "    <tr>\n",
       "      <th>resorts_per_100kcapita</th>\n",
       "      <td>1.122778</td>\n",
       "    </tr>\n",
       "    <tr>\n",
       "      <th>resorts_per_100ksq_mile</th>\n",
       "      <td>8.161045</td>\n",
       "    </tr>\n",
       "    <tr>\n",
       "      <th>resort_skiable_area_ac_state_ratio</th>\n",
       "      <td>0.140121</td>\n",
       "    </tr>\n",
       "    <tr>\n",
       "      <th>resort_days_open_state_ratio</th>\n",
       "      <td>0.129338</td>\n",
       "    </tr>\n",
       "    <tr>\n",
       "      <th>resort_terrain_park_state_ratio</th>\n",
       "      <td>0.148148</td>\n",
       "    </tr>\n",
       "    <tr>\n",
       "      <th>resort_night_skiing_state_ratio</th>\n",
       "      <td>0.84507</td>\n",
       "    </tr>\n",
       "    <tr>\n",
       "      <th>total_chairs_runs_ratio</th>\n",
       "      <td>0.133333</td>\n",
       "    </tr>\n",
       "    <tr>\n",
       "      <th>total_chairs_skiable_ratio</th>\n",
       "      <td>0.004667</td>\n",
       "    </tr>\n",
       "    <tr>\n",
       "      <th>fastQuads_runs_ratio</th>\n",
       "      <td>0.028571</td>\n",
       "    </tr>\n",
       "    <tr>\n",
       "      <th>fastQuads_skiable_ratio</th>\n",
       "      <td>0.001</td>\n",
       "    </tr>\n",
       "  </tbody>\n",
       "</table>\n",
       "</div>"
      ],
      "text/plain": [
       "                                                    121\n",
       "adult_weekday                                      81.0\n",
       "adult_weekend                                      81.0\n",
       "average_snowfall                                  333.0\n",
       "base_elev                                          4464\n",
       "daysopenlast_year                                 123.0\n",
       "double                                                0\n",
       "fast_quads                                            3\n",
       "fast_sixes                                            0\n",
       "longest_run_mi                                      3.3\n",
       "name                                big_mountain_resort\n",
       "night_skiing_ac                                   600.0\n",
       "projecteddays_open                                123.0\n",
       "quad                                                  2\n",
       "region                                          montana\n",
       "runs                                              105.0\n",
       "skiable_terrain_ac                               3000.0\n",
       "snow_making_ac                                    600.0\n",
       "state                                           montana\n",
       "summit_elev                                        6817\n",
       "surface                                               3\n",
       "terrain_parks_resort                                4.0\n",
       "total_chairs                                         14\n",
       "trams                                                 0\n",
       "triple                                                6\n",
       "vertical_drop                                      2353\n",
       "years_open                                         72.0\n",
       "price_delta                                         0.0\n",
       "resort_cnt                                           12\n",
       "skiable_area_ac                                 21410.0\n",
       "days_open                                         951.0\n",
       "terrain_parks_state                                27.0\n",
       "nightskiing_ac                                    710.0\n",
       "resorts_per_100kcapita                         1.122778\n",
       "resorts_per_100ksq_mile                        8.161045\n",
       "resort_skiable_area_ac_state_ratio             0.140121\n",
       "resort_days_open_state_ratio                   0.129338\n",
       "resort_terrain_park_state_ratio                0.148148\n",
       "resort_night_skiing_state_ratio                 0.84507\n",
       "total_chairs_runs_ratio                        0.133333\n",
       "total_chairs_skiable_ratio                     0.004667\n",
       "fastQuads_runs_ratio                           0.028571\n",
       "fastQuads_skiable_ratio                           0.001"
      ]
     },
     "execution_count": 8,
     "metadata": {},
     "output_type": "execute_result"
    }
   ],
   "source": [
    "big_mountain.T"
   ]
  },
  {
   "cell_type": "code",
   "execution_count": 9,
   "metadata": {
    "ExecuteTime": {
     "end_time": "2021-08-11T22:28:04.261250Z",
     "start_time": "2021-08-11T22:28:04.258267Z"
    }
   },
   "outputs": [
    {
     "data": {
      "text/plain": [
       "(270, 42)"
      ]
     },
     "execution_count": 9,
     "metadata": {},
     "output_type": "execute_result"
    }
   ],
   "source": [
    "ski_data.shape"
   ]
  },
  {
   "cell_type": "code",
   "execution_count": 10,
   "metadata": {
    "ExecuteTime": {
     "end_time": "2021-08-11T22:28:04.265942Z",
     "start_time": "2021-08-11T22:28:04.261979Z"
    }
   },
   "outputs": [],
   "source": [
    "ski_data = ski_data[ski_data.name != target_resort]"
   ]
  },
  {
   "cell_type": "code",
   "execution_count": 11,
   "metadata": {
    "ExecuteTime": {
     "end_time": "2021-08-11T22:28:04.271089Z",
     "start_time": "2021-08-11T22:28:04.266687Z"
    }
   },
   "outputs": [
    {
     "data": {
      "text/plain": [
       "(269, 42)"
      ]
     },
     "execution_count": 11,
     "metadata": {},
     "output_type": "execute_result"
    }
   ],
   "source": [
    "ski_data.shape"
   ]
  },
  {
   "cell_type": "markdown",
   "metadata": {},
   "source": [
    "## Train/Test Split"
   ]
  },
  {
   "cell_type": "markdown",
   "metadata": {},
   "source": [
    "So far, you've treated ski resort data as a single entity. In machine learning, when you train your model on all of your data, you end up with no data set aside to evaluate model performance. You could keep making more and more complex models that fit the data better and better and not realise you were overfitting to that one set of samples. By partitioning the data into training and testing splits, without letting a model (or missing-value imputation) learn anything about the test split, you have a somewhat independent assessment of how your model might perform in the future. An often overlooked subtlety here is that people all too frequently use the test set to assess model performance _and then compare multiple models to pick the best_. This means their overall model selection process is  fitting to one specific data set, now the test split. You could keep going, trying to get better and better performance on that one data set, but that's  where cross-validation becomes especially useful. While training models, a test split is very useful as a final check on expected future performance."
   ]
  },
  {
   "cell_type": "markdown",
   "metadata": {},
   "source": [
    "What partition sizes would you have with a 70/30 train/test split?"
   ]
  },
  {
   "cell_type": "code",
   "execution_count": 12,
   "metadata": {
    "ExecuteTime": {
     "end_time": "2021-08-11T22:28:04.276203Z",
     "start_time": "2021-08-11T22:28:04.271840Z"
    }
   },
   "outputs": [
    {
     "data": {
      "text/plain": [
       "(188.29999999999998, 80.7)"
      ]
     },
     "execution_count": 12,
     "metadata": {},
     "output_type": "execute_result"
    }
   ],
   "source": [
    "len(ski_data) * 0.7, len(ski_data) * 0.3"
   ]
  },
  {
   "cell_type": "markdown",
   "metadata": {},
   "source": [
    "<div class=\"alert alert-block alert-warning\">\n",
    "<b>MY CUSTOM ADDITION</b></div>\n",
    "\n",
    "Remember when I advised not dropping the ticket price columns? You will want to rid yourself of them now. Why? \n",
    "\n",
    "1. Recall the tight linear relationship between `adult_weekend` and `adult_weekday`? Since `adult_weekend` is our target variable, the one we want to predict, if you build a model with `adult_weekday` included as a feature, you should end up with a model that finds the linear relationship between the two and ignores most other features.\n",
    "2. The field `price_delta` is calculated using `adult_weekend` the target variable. If `price_delta` is left in as a feature, that's called \"future information\" or \"data leakage\" and the model gets to cheat because you've given it the answer: `adult_weekend` == `adult_weekday` +/- `price_delta`.\n",
    "\n",
    "As an experiment, leave these fields in and see what happens."
   ]
  },
  {
   "cell_type": "code",
   "execution_count": 13,
   "metadata": {
    "ExecuteTime": {
     "end_time": "2021-08-11T22:28:04.280517Z",
     "start_time": "2021-08-11T22:28:04.276944Z"
    }
   },
   "outputs": [],
   "source": [
    "# drop columsn containing future information\n",
    "target_col = \"adult_weekend\"\n",
    "drop_cols = [\"adult_weekday\", \"price_delta\", target_col]"
   ]
  },
  {
   "cell_type": "markdown",
   "metadata": {},
   "source": [
    "<div class=\"alert alert-block alert-warning\">\n",
    "<b></b></div>"
   ]
  },
  {
   "cell_type": "code",
   "execution_count": 14,
   "metadata": {
    "ExecuteTime": {
     "end_time": "2021-08-11T22:28:04.286978Z",
     "start_time": "2021-08-11T22:28:04.281259Z"
    }
   },
   "outputs": [],
   "source": [
    "X_train, X_test, y_train, y_test = train_test_split(\n",
    "    ski_data.drop(columns=drop_cols),\n",
    "    ski_data[target_col],\n",
    "    test_size=0.3,\n",
    "    random_state=RANDOM_SEED,\n",
    ")"
   ]
  },
  {
   "cell_type": "code",
   "execution_count": 15,
   "metadata": {
    "ExecuteTime": {
     "end_time": "2021-08-11T22:28:04.290532Z",
     "start_time": "2021-08-11T22:28:04.287720Z"
    }
   },
   "outputs": [
    {
     "data": {
      "text/plain": [
       "((188, 39), (81, 39))"
      ]
     },
     "execution_count": 15,
     "metadata": {},
     "output_type": "execute_result"
    }
   ],
   "source": [
    "X_train.shape, X_test.shape"
   ]
  },
  {
   "cell_type": "code",
   "execution_count": 16,
   "metadata": {
    "ExecuteTime": {
     "end_time": "2021-08-11T22:28:04.295713Z",
     "start_time": "2021-08-11T22:28:04.291328Z"
    }
   },
   "outputs": [
    {
     "data": {
      "text/plain": [
       "((188,), (81,))"
      ]
     },
     "execution_count": 16,
     "metadata": {},
     "output_type": "execute_result"
    }
   ],
   "source": [
    "y_train.shape, y_test.shape"
   ]
  },
  {
   "cell_type": "code",
   "execution_count": 17,
   "metadata": {
    "ExecuteTime": {
     "end_time": "2021-08-11T22:28:04.302667Z",
     "start_time": "2021-08-11T22:28:04.296460Z"
    }
   },
   "outputs": [
    {
     "data": {
      "text/plain": [
       "((188, 36), (81, 36))"
      ]
     },
     "execution_count": 17,
     "metadata": {},
     "output_type": "execute_result"
    }
   ],
   "source": [
    "# Code task 1 #\n",
    "# Save the 'Name', 'state', and 'Region' columns from the train/test data into names_train and names_test\n",
    "# Then drop those columns from `X_train` and `X_test`. Use 'inplace=True'\n",
    "names_list = [\"name\", \"state\", \"region\"]\n",
    "names_train = X_train[names_list]\n",
    "names_test = X_test[names_list]\n",
    "X_train.drop(columns=names_list, inplace=True)\n",
    "X_test.drop(columns=names_list, inplace=True)\n",
    "X_train.shape, X_test.shape"
   ]
  },
  {
   "cell_type": "code",
   "execution_count": 18,
   "metadata": {
    "ExecuteTime": {
     "end_time": "2021-08-11T22:28:04.308753Z",
     "start_time": "2021-08-11T22:28:04.303399Z"
    }
   },
   "outputs": [
    {
     "data": {
      "text/plain": [
       "average_snowfall                      float64\n",
       "base_elev                               int64\n",
       "daysopenlast_year                     float64\n",
       "double                                  int64\n",
       "fast_quads                              int64\n",
       "fast_sixes                              int64\n",
       "longest_run_mi                        float64\n",
       "night_skiing_ac                       float64\n",
       "projecteddays_open                    float64\n",
       "quad                                    int64\n",
       "runs                                  float64\n",
       "skiable_terrain_ac                    float64\n",
       "snow_making_ac                        float64\n",
       "summit_elev                             int64\n",
       "surface                                 int64\n",
       "terrain_parks_resort                  float64\n",
       "total_chairs                            int64\n",
       "trams                                   int64\n",
       "triple                                  int64\n",
       "vertical_drop                           int64\n",
       "years_open                            float64\n",
       "resort_cnt                              int64\n",
       "skiable_area_ac                       float64\n",
       "days_open                             float64\n",
       "terrain_parks_state                   float64\n",
       "nightskiing_ac                        float64\n",
       "resorts_per_100kcapita                float64\n",
       "resorts_per_100ksq_mile               float64\n",
       "resort_skiable_area_ac_state_ratio    float64\n",
       "resort_days_open_state_ratio          float64\n",
       "resort_terrain_park_state_ratio       float64\n",
       "resort_night_skiing_state_ratio       float64\n",
       "total_chairs_runs_ratio               float64\n",
       "total_chairs_skiable_ratio            float64\n",
       "fastQuads_runs_ratio                  float64\n",
       "fastQuads_skiable_ratio               float64\n",
       "dtype: object"
      ]
     },
     "execution_count": 18,
     "metadata": {},
     "output_type": "execute_result"
    }
   ],
   "source": [
    "# Code task 2 #\n",
    "# Check the `dtypes` attribute of `X_train` to verify all features are numeric\n",
    "X_train.dtypes"
   ]
  },
  {
   "cell_type": "code",
   "execution_count": 19,
   "metadata": {
    "ExecuteTime": {
     "end_time": "2021-08-11T22:28:04.315646Z",
     "start_time": "2021-08-11T22:28:04.309906Z"
    }
   },
   "outputs": [
    {
     "data": {
      "text/plain": [
       "average_snowfall                      float64\n",
       "base_elev                               int64\n",
       "daysopenlast_year                     float64\n",
       "double                                  int64\n",
       "fast_quads                              int64\n",
       "fast_sixes                              int64\n",
       "longest_run_mi                        float64\n",
       "night_skiing_ac                       float64\n",
       "projecteddays_open                    float64\n",
       "quad                                    int64\n",
       "runs                                  float64\n",
       "skiable_terrain_ac                    float64\n",
       "snow_making_ac                        float64\n",
       "summit_elev                             int64\n",
       "surface                                 int64\n",
       "terrain_parks_resort                  float64\n",
       "total_chairs                            int64\n",
       "trams                                   int64\n",
       "triple                                  int64\n",
       "vertical_drop                           int64\n",
       "years_open                            float64\n",
       "resort_cnt                              int64\n",
       "skiable_area_ac                       float64\n",
       "days_open                             float64\n",
       "terrain_parks_state                   float64\n",
       "nightskiing_ac                        float64\n",
       "resorts_per_100kcapita                float64\n",
       "resorts_per_100ksq_mile               float64\n",
       "resort_skiable_area_ac_state_ratio    float64\n",
       "resort_days_open_state_ratio          float64\n",
       "resort_terrain_park_state_ratio       float64\n",
       "resort_night_skiing_state_ratio       float64\n",
       "total_chairs_runs_ratio               float64\n",
       "total_chairs_skiable_ratio            float64\n",
       "fastQuads_runs_ratio                  float64\n",
       "fastQuads_skiable_ratio               float64\n",
       "dtype: object"
      ]
     },
     "execution_count": 19,
     "metadata": {},
     "output_type": "execute_result"
    }
   ],
   "source": [
    "# Code task 3#\n",
    "# Repeat this check for the test split in `X_test`\n",
    "X_test.dtypes"
   ]
  },
  {
   "cell_type": "markdown",
   "metadata": {},
   "source": [
    "You have only numeric features in your X now!"
   ]
  },
  {
   "cell_type": "markdown",
   "metadata": {},
   "source": [
    "# Initial Naive Model"
   ]
  },
  {
   "cell_type": "markdown",
   "metadata": {},
   "source": [
    "A good place to start is to see how good the mean is as a predictor. In other words, what if you simply say your best guess is the average price?"
   ]
  },
  {
   "cell_type": "code",
   "execution_count": 20,
   "metadata": {
    "ExecuteTime": {
     "end_time": "2021-08-11T22:28:04.322841Z",
     "start_time": "2021-08-11T22:28:04.316642Z"
    }
   },
   "outputs": [
    {
     "data": {
      "text/plain": [
       "64.66244680851064"
      ]
     },
     "execution_count": 20,
     "metadata": {},
     "output_type": "execute_result"
    }
   ],
   "source": [
    "# Code task 4#\n",
    "# Calculate the mean of `y_train`\n",
    "train_mean = y_train.mean()\n",
    "train_mean"
   ]
  },
  {
   "cell_type": "markdown",
   "metadata": {},
   "source": [
    "`sklearn`'s `DummyRegressor` easily does this:"
   ]
  },
  {
   "cell_type": "code",
   "execution_count": 21,
   "metadata": {
    "ExecuteTime": {
     "end_time": "2021-08-11T22:28:04.328254Z",
     "start_time": "2021-08-11T22:28:04.323826Z"
    }
   },
   "outputs": [
    {
     "name": "stdout",
     "output_type": "stream",
     "text": [
      "[[64.66244681]]\n"
     ]
    }
   ],
   "source": [
    "# Code task 5#\n",
    "# Fit the dummy regressor on the training data\n",
    "# Hint, call its `.fit()` method with `X_train` and `y_train` as arguments\n",
    "# Then print the object's `constant_` attribute and verify it's the same as the mean above\n",
    "dumb_reg = DummyRegressor(strategy=\"mean\")\n",
    "dumb_reg.fit(X_train, y_train)\n",
    "assert dumb_reg.constant_ == train_mean, \"Something is wrong\"\n",
    "print(dumb_reg.constant_)"
   ]
  },
  {
   "cell_type": "markdown",
   "metadata": {},
   "source": [
    "How good is this? How closely does this match, or explain, the actual values? There are many ways of assessing how good one set of values agrees with another, which brings us to the subject of metrics."
   ]
  },
  {
   "cell_type": "markdown",
   "metadata": {},
   "source": [
    "## Performance Metrics"
   ]
  },
  {
   "cell_type": "markdown",
   "metadata": {},
   "source": [
    "### R-squared"
   ]
  },
  {
   "cell_type": "markdown",
   "metadata": {},
   "source": [
    "One measure is $R^2$, the [coefficient of determination](https://en.wikipedia.org/wiki/Coefficient_of_determination). This is a measure of the proportion of variance in the dependent variable (our ticket price) that is predicted by our \"model\". The linked Wikipedia articles gives a nice explanation of how negative values can arise. This is frequently a cause of confusion for newcomers who, reasonably, ask how can a squared value be negative?\n",
    "\n",
    "Recall the mean can be denoted by $\\bar{y}$, where\n",
    "\n",
    "$$\\bar{y} = \\frac{1}{n}\\sum_{i=1}^ny_i$$\n",
    "\n",
    "and where $y_i$ are the individual values of the dependent variable.\n",
    "\n",
    "The total sum of squares (error), can be expressed as\n",
    "\n",
    "$$SS_{tot} = \\sum_i(y_i-\\bar{y})^2$$\n",
    "\n",
    "The above formula should be familiar as it's simply the variance without the denominator to scale (divide) by the sample size.\n",
    "\n",
    "The residual sum of squares is similarly defined to be\n",
    "\n",
    "$$SS_{res} = \\sum_i(y_i-\\hat{y})^2$$\n",
    "\n",
    "where $\\hat{y}$ are our predicted values for the depended variable.\n",
    "\n",
    "The coefficient of determination, $R^2$, here is given by\n",
    "\n",
    "$$R^2 = 1 - \\frac{SS_{res}}{SS_{tot}}$$\n",
    "\n",
    "Putting it into words, it's one minus the ratio of the residual variance to the original variance. Thus, the baseline model here, which always predicts $\\bar{y}$, should give $R^2=0$. A model that perfectly predicts the observed values would have no residual error and so give $R^2=1$. Models that do worse than predicting the mean will have increased the sum of squares of residuals and so produce a negative $R^2$."
   ]
  },
  {
   "cell_type": "code",
   "execution_count": 22,
   "metadata": {
    "ExecuteTime": {
     "end_time": "2021-08-11T22:28:04.333195Z",
     "start_time": "2021-08-11T22:28:04.329182Z"
    }
   },
   "outputs": [],
   "source": [
    "# Code task 6#\n",
    "# Calculate the R^2 as defined above\n",
    "def r_squared(y, ypred):\n",
    "    \"\"\"R-squared score.\n",
    "\n",
    "    Calculate the R-squared, or coefficient of determination, of the input.\n",
    "\n",
    "    Arguments:\n",
    "    y -- the observed values\n",
    "    ypred -- the predicted values\n",
    "    \"\"\"\n",
    "    ybar = np.sum(y) / len(y)  # yes, we could use np.mean(y)\n",
    "    sum_sq_tot = np.sum((y - ybar) ** 2)  # total sum of squares error\n",
    "    sum_sq_res = np.sum((y - ypred) ** 2)  # residual sum of squares error\n",
    "    R2 = 1.0 - (sum_sq_res / sum_sq_tot)\n",
    "    return R2"
   ]
  },
  {
   "cell_type": "markdown",
   "metadata": {},
   "source": [
    "Make your predictions by creating an array of length the size of the training set with the single value of the mean."
   ]
  },
  {
   "cell_type": "code",
   "execution_count": 23,
   "metadata": {
    "ExecuteTime": {
     "end_time": "2021-08-11T22:28:04.339018Z",
     "start_time": "2021-08-11T22:28:04.334076Z"
    }
   },
   "outputs": [
    {
     "data": {
      "text/plain": [
       "array([64.66244681, 64.66244681, 64.66244681, 64.66244681, 64.66244681])"
      ]
     },
     "execution_count": 23,
     "metadata": {},
     "output_type": "execute_result"
    }
   ],
   "source": [
    "y_tr_pred_ = train_mean * np.ones(len(y_train))\n",
    "y_tr_pred_[:5]"
   ]
  },
  {
   "cell_type": "markdown",
   "metadata": {},
   "source": [
    "Remember the `sklearn` dummy regressor? "
   ]
  },
  {
   "cell_type": "code",
   "execution_count": 24,
   "metadata": {
    "ExecuteTime": {
     "end_time": "2021-08-11T22:28:04.344017Z",
     "start_time": "2021-08-11T22:28:04.339939Z"
    }
   },
   "outputs": [
    {
     "data": {
      "text/plain": [
       "array([64.66244681, 64.66244681, 64.66244681, 64.66244681, 64.66244681])"
      ]
     },
     "execution_count": 24,
     "metadata": {},
     "output_type": "execute_result"
    }
   ],
   "source": [
    "y_tr_pred = dumb_reg.predict(X_train)\n",
    "y_tr_pred[:5]"
   ]
  },
  {
   "cell_type": "markdown",
   "metadata": {},
   "source": [
    "You can see that `DummyRegressor` produces exactly the same results and saves you having to mess about broadcasting the mean (or whichever other statistic we used - check out the [documentation](https://scikit-learn.org/stable/modules/generated/sklearn.dummy.DummyRegressor.html) to see what's available) to an array of the appropriate length. It also gives you an object with `fit()` and `predict()` methods as well so you can use them as conveniently as any other `sklearn` estimator."
   ]
  },
  {
   "cell_type": "code",
   "execution_count": 25,
   "metadata": {
    "ExecuteTime": {
     "end_time": "2021-08-11T22:28:04.350053Z",
     "start_time": "2021-08-11T22:28:04.344929Z"
    }
   },
   "outputs": [
    {
     "data": {
      "text/plain": [
       "0.0"
      ]
     },
     "execution_count": 25,
     "metadata": {},
     "output_type": "execute_result"
    }
   ],
   "source": [
    "r_squared(y_train, y_tr_pred)"
   ]
  },
  {
   "cell_type": "markdown",
   "metadata": {},
   "source": [
    "Exactly as expected, if you use the average value as your prediction, you get an $R^2$ of zero _on our training set_. What if you use this \"model\" to predict unseen values from the test set? Remember, of course, that your \"model\" is trained on the training set; you still use the training set mean as your prediction."
   ]
  },
  {
   "cell_type": "markdown",
   "metadata": {},
   "source": [
    "Make your predictions by creating an array of length the size of the test set with the single value of the (training) mean."
   ]
  },
  {
   "cell_type": "code",
   "execution_count": 26,
   "metadata": {
    "ExecuteTime": {
     "end_time": "2021-08-11T22:28:04.356182Z",
     "start_time": "2021-08-11T22:28:04.351005Z"
    }
   },
   "outputs": [
    {
     "data": {
      "text/plain": [
       "-2.2991887115519916e-05"
      ]
     },
     "execution_count": 26,
     "metadata": {},
     "output_type": "execute_result"
    }
   ],
   "source": [
    "y_te_pred = train_mean * np.ones(len(y_test))\n",
    "r_squared(y_test, y_te_pred)"
   ]
  },
  {
   "cell_type": "markdown",
   "metadata": {},
   "source": [
    "Generally, you can expect performance on a test set to be slightly worse than on the training set. As you are getting an $R^2$ of zero on the training set, there's nowhere to go but negative!"
   ]
  },
  {
   "cell_type": "markdown",
   "metadata": {},
   "source": [
    "$R^2$ is a common metric, and interpretable in terms of the amount of variance explained, it's less appealing if you want an idea of how \"close\" your predictions are to the true values. Metrics that summarise the difference between predicted and actual values are _mean absolute error_ and _mean squared error_."
   ]
  },
  {
   "cell_type": "markdown",
   "metadata": {},
   "source": [
    "### Mean Absolute Error"
   ]
  },
  {
   "cell_type": "markdown",
   "metadata": {},
   "source": [
    "This is very simply the average of the absolute errors:\n",
    "\n",
    "$$MAE = \\frac{1}{n}\\sum_i^n|y_i - \\hat{y}|$$"
   ]
  },
  {
   "cell_type": "code",
   "execution_count": 27,
   "metadata": {
    "ExecuteTime": {
     "end_time": "2021-08-11T22:28:04.363200Z",
     "start_time": "2021-08-11T22:28:04.360780Z"
    }
   },
   "outputs": [],
   "source": [
    "# Code task 7#\n",
    "# Calculate the MAE as defined above\n",
    "def mae(y, ypred):\n",
    "    \"\"\"Mean absolute error.\n",
    "\n",
    "    Calculate the mean absolute error of the arguments\n",
    "\n",
    "    Arguments:\n",
    "    y -- the observed values\n",
    "    ypred -- the predicted values\n",
    "    \"\"\"\n",
    "    abs_error = np.abs(y - ypred)\n",
    "    mae = np.mean(abs_error)\n",
    "    return mae"
   ]
  },
  {
   "cell_type": "code",
   "execution_count": 28,
   "metadata": {
    "ExecuteTime": {
     "end_time": "2021-08-11T22:28:04.369058Z",
     "start_time": "2021-08-11T22:28:04.364230Z"
    }
   },
   "outputs": [
    {
     "data": {
      "text/plain": [
       "18.02853214124038"
      ]
     },
     "execution_count": 28,
     "metadata": {},
     "output_type": "execute_result"
    }
   ],
   "source": [
    "mae(y_train, y_tr_pred)"
   ]
  },
  {
   "cell_type": "code",
   "execution_count": 29,
   "metadata": {
    "ExecuteTime": {
     "end_time": "2021-08-11T22:28:04.374266Z",
     "start_time": "2021-08-11T22:28:04.369806Z"
    }
   },
   "outputs": [
    {
     "data": {
      "text/plain": [
       "19.172370633044395"
      ]
     },
     "execution_count": 29,
     "metadata": {},
     "output_type": "execute_result"
    }
   ],
   "source": [
    "mae(y_test, y_te_pred)"
   ]
  },
  {
   "cell_type": "markdown",
   "metadata": {},
   "source": [
    "Mean absolute error is arguably the most intuitive of all the metrics, this essentially tells you that, on average, you might expect to be off by around \\\\$19 if you guessed ticket price based on an average of known values."
   ]
  },
  {
   "cell_type": "markdown",
   "metadata": {},
   "source": [
    "### Mean Squared Error"
   ]
  },
  {
   "cell_type": "markdown",
   "metadata": {},
   "source": [
    "Another common metric (and an important one internally for optimizing machine learning models) is the mean squared error. This is simply the average of the square of the errors:\n",
    "\n",
    "$$MSE = \\frac{1}{n}\\sum_i^n(y_i - \\hat{y})^2$$"
   ]
  },
  {
   "cell_type": "code",
   "execution_count": 30,
   "metadata": {
    "ExecuteTime": {
     "end_time": "2021-08-11T22:28:04.379013Z",
     "start_time": "2021-08-11T22:28:04.375221Z"
    },
    "scrolled": true
   },
   "outputs": [],
   "source": [
    "# Code task 8#\n",
    "# Calculate the MSE as defined above\n",
    "def mse(y, ypred):\n",
    "    \"\"\"Mean square error.\n",
    "\n",
    "    Calculate the mean square error of the arguments\n",
    "\n",
    "    Arguments:\n",
    "    y -- the observed values\n",
    "    ypred -- the predicted values\n",
    "    \"\"\"\n",
    "    sq_error = (y - ypred) ** 2\n",
    "    mse = np.mean(sq_error)\n",
    "    return mse"
   ]
  },
  {
   "cell_type": "code",
   "execution_count": 31,
   "metadata": {
    "ExecuteTime": {
     "end_time": "2021-08-11T22:28:04.386958Z",
     "start_time": "2021-08-11T22:28:04.380033Z"
    }
   },
   "outputs": [
    {
     "data": {
      "text/plain": [
       "623.1549716727023"
      ]
     },
     "execution_count": 31,
     "metadata": {},
     "output_type": "execute_result"
    }
   ],
   "source": [
    "mse(y_train, y_tr_pred)"
   ]
  },
  {
   "cell_type": "code",
   "execution_count": 32,
   "metadata": {
    "ExecuteTime": {
     "end_time": "2021-08-11T22:28:04.392176Z",
     "start_time": "2021-08-11T22:28:04.387678Z"
    }
   },
   "outputs": [
    {
     "data": {
      "text/plain": [
       "578.5318197509905"
      ]
     },
     "execution_count": 32,
     "metadata": {},
     "output_type": "execute_result"
    }
   ],
   "source": [
    "mse(y_test, y_te_pred)"
   ]
  },
  {
   "cell_type": "markdown",
   "metadata": {},
   "source": [
    "So here, you get a slightly better MSE on the test set than you did on the train set. And what does a squared error mean anyway? To convert this back to our measurement space, we often take the square root, to form the _root mean square error_ thus:"
   ]
  },
  {
   "cell_type": "code",
   "execution_count": 33,
   "metadata": {
    "ExecuteTime": {
     "end_time": "2021-08-11T22:28:04.397574Z",
     "start_time": "2021-08-11T22:28:04.393168Z"
    }
   },
   "outputs": [
    {
     "data": {
      "text/plain": [
       "array([24.96307216, 24.05268841])"
      ]
     },
     "execution_count": 33,
     "metadata": {},
     "output_type": "execute_result"
    }
   ],
   "source": [
    "np.sqrt([mse(y_train, y_tr_pred), mse(y_test, y_te_pred)])"
   ]
  },
  {
   "cell_type": "markdown",
   "metadata": {},
   "source": [
    "### sklearn metrics"
   ]
  },
  {
   "cell_type": "markdown",
   "metadata": {},
   "source": [
    "Functions are good, but you don't want to have to define functions every time we want to assess performance. `sklearn.metrics` provides many commonly used metrics, included the ones above."
   ]
  },
  {
   "cell_type": "code",
   "execution_count": 34,
   "metadata": {
    "ExecuteTime": {
     "end_time": "2021-08-11T22:28:04.403646Z",
     "start_time": "2021-08-11T22:28:04.398432Z"
    }
   },
   "outputs": [
    {
     "name": "stdout",
     "output_type": "stream",
     "text": [
      "R2 (0.0, -2.2991887115519916e-05)\n",
      "MAE (18.02853214124038, 19.17237063304439)\n",
      "MSE (623.1549716727026, 578.5318197509906)\n"
     ]
    }
   ],
   "source": [
    "print(f'R2 {r2_score(y_train, y_tr_pred), r2_score(y_test, y_te_pred)}')\n",
    "print(f'MAE {mean_absolute_error(y_train, y_tr_pred), mean_absolute_error(y_test, y_te_pred)}')\n",
    "print(f'MSE {mean_squared_error(y_train, y_tr_pred), mean_squared_error(y_test, y_te_pred)}')"
   ]
  },
  {
   "cell_type": "markdown",
   "metadata": {},
   "source": [
    "## Note On Calculating Metrics"
   ]
  },
  {
   "cell_type": "markdown",
   "metadata": {},
   "source": [
    "When calling functions to calculate metrics, it is important to take care in the order of the arguments. Two of the metrics above actually don't care if the arguments are reversed; one does. Which one cares?"
   ]
  },
  {
   "cell_type": "markdown",
   "metadata": {},
   "source": [
    "In a Jupyter code cell, running `r2_score?` will bring up the docstring for the function, and `r2_score??` will bring up the actual code of the function! Try them and compare the source for `sklearn`'s function with yours. Feel free to explore what happens when you reverse the order of the arguments and compare behaviour of `sklearn`'s function and yours."
   ]
  },
  {
   "cell_type": "code",
   "execution_count": 35,
   "metadata": {
    "ExecuteTime": {
     "end_time": "2021-08-11T22:28:04.408083Z",
     "start_time": "2021-08-11T22:28:04.404503Z"
    }
   },
   "outputs": [
    {
     "data": {
      "text/plain": [
       "(0.0, 0.0)"
      ]
     },
     "execution_count": 35,
     "metadata": {},
     "output_type": "execute_result"
    }
   ],
   "source": [
    "# train set - sklearn\n",
    "# correct order, incorrect order\n",
    "r2_score(y_train, y_tr_pred), r2_score(y_tr_pred, y_train)"
   ]
  },
  {
   "cell_type": "code",
   "execution_count": 36,
   "metadata": {
    "ExecuteTime": {
     "end_time": "2021-08-11T22:28:04.413228Z",
     "start_time": "2021-08-11T22:28:04.409057Z"
    }
   },
   "outputs": [
    {
     "data": {
      "text/plain": [
       "(-2.2991887115519916e-05, 0.0)"
      ]
     },
     "execution_count": 36,
     "metadata": {},
     "output_type": "execute_result"
    }
   ],
   "source": [
    "# test set - sklearn\n",
    "# correct order, incorrect order\n",
    "r2_score(y_test, y_te_pred), r2_score(y_te_pred, y_test)"
   ]
  },
  {
   "cell_type": "code",
   "execution_count": 37,
   "metadata": {
    "ExecuteTime": {
     "end_time": "2021-08-11T22:28:04.419467Z",
     "start_time": "2021-08-11T22:28:04.414033Z"
    }
   },
   "outputs": [
    {
     "name": "stderr",
     "output_type": "stream",
     "text": [
      "/tmp/ipykernel_634107/2193220549.py:15: RuntimeWarning: divide by zero encountered in double_scalars\n",
      "  R2 = 1.0 - (sum_sq_res / sum_sq_tot)\n"
     ]
    },
    {
     "data": {
      "text/plain": [
       "(0.0, -inf)"
      ]
     },
     "execution_count": 37,
     "metadata": {},
     "output_type": "execute_result"
    }
   ],
   "source": [
    "# train set - using our homebrew function\n",
    "# correct order, incorrect order\n",
    "r_squared(y_train, y_tr_pred), r_squared(y_tr_pred, y_train)"
   ]
  },
  {
   "cell_type": "code",
   "execution_count": 38,
   "metadata": {
    "ExecuteTime": {
     "end_time": "2021-08-11T22:28:04.424658Z",
     "start_time": "2021-08-11T22:28:04.420431Z"
    }
   },
   "outputs": [
    {
     "name": "stderr",
     "output_type": "stream",
     "text": [
      "/tmp/ipykernel_634107/2193220549.py:15: RuntimeWarning: divide by zero encountered in double_scalars\n",
      "  R2 = 1.0 - (sum_sq_res / sum_sq_tot)\n"
     ]
    },
    {
     "data": {
      "text/plain": [
       "(-2.2991887115519916e-05, -inf)"
      ]
     },
     "execution_count": 38,
     "metadata": {},
     "output_type": "execute_result"
    }
   ],
   "source": [
    "# test set - using our homebrew function\n",
    "# correct order, incorrect order\n",
    "r_squared(y_test, y_te_pred), r_squared(y_te_pred, y_test)"
   ]
  },
  {
   "cell_type": "markdown",
   "metadata": {},
   "source": [
    "You can get very different results swapping the argument order. It's worth highlighting this because data scientists do this too much in the real world! Don't be one of them! Frequently the argument order doesn't matter, but it will bite you when you do it with a function that does care. It's sloppy, bad practice and if you don't make a habit of putting arguments in the right order, you will forget!\n",
    "\n",
    "Remember:\n",
    "* argument order matters,\n",
    "* check function syntax with `func?` in a code cell"
   ]
  },
  {
   "cell_type": "markdown",
   "metadata": {},
   "source": [
    "# Initial Linear Model"
   ]
  },
  {
   "cell_type": "markdown",
   "metadata": {},
   "source": [
    "Recall when performing EDA, you imputed (filled in) some missing values in pandas. You did this judiciously for exploratory/visualization purposes. You left many missing values in the data. You can impute missing values using scikit-learn, but note that you should learn values to impute from a train split and apply that to the test split to then assess how well your imputation worked."
   ]
  },
  {
   "cell_type": "markdown",
   "metadata": {},
   "source": [
    "## Impute missing values with median"
   ]
  },
  {
   "cell_type": "markdown",
   "metadata": {},
   "source": [
    "There's missing values. Recall from your data exploration that many distributions were skewed. Your first thought might be to impute missing values using the median."
   ]
  },
  {
   "cell_type": "code",
   "execution_count": 39,
   "metadata": {
    "ExecuteTime": {
     "end_time": "2021-08-11T22:28:04.434966Z",
     "start_time": "2021-08-11T22:28:04.425473Z"
    }
   },
   "outputs": [
    {
     "data": {
      "text/plain": [
       "average_snowfall                       125.000000\n",
       "base_elev                             1325.000000\n",
       "daysopenlast_year                      110.000000\n",
       "double                                   1.000000\n",
       "fast_quads                               0.000000\n",
       "fast_sixes                               0.000000\n",
       "longest_run_mi                           1.000000\n",
       "night_skiing_ac                         72.500000\n",
       "projecteddays_open                     117.000000\n",
       "quad                                     0.500000\n",
       "runs                                    31.000000\n",
       "skiable_terrain_ac                     176.500000\n",
       "snow_making_ac                         100.000000\n",
       "summit_elev                           2225.000000\n",
       "surface                                  2.000000\n",
       "terrain_parks_resort                     2.000000\n",
       "total_chairs                             7.000000\n",
       "trams                                    0.000000\n",
       "triple                                   1.000000\n",
       "vertical_drop                          812.500000\n",
       "years_open                              58.000000\n",
       "resort_cnt                              15.000000\n",
       "skiable_area_ac                       4406.000000\n",
       "days_open                             1490.000000\n",
       "terrain_parks_state                     40.000000\n",
       "nightskiing_ac                         642.000000\n",
       "resorts_per_100kcapita                   0.248243\n",
       "resorts_per_100ksq_mile                 21.134744\n",
       "resort_skiable_area_ac_state_ratio       0.052966\n",
       "resort_days_open_state_ratio             0.075708\n",
       "resort_terrain_park_state_ratio          0.069767\n",
       "resort_night_skiing_state_ratio          0.084507\n",
       "total_chairs_runs_ratio                  0.194237\n",
       "total_chairs_skiable_ratio               0.039763\n",
       "fastQuads_runs_ratio                     0.000000\n",
       "fastQuads_skiable_ratio                  0.000000\n",
       "dtype: float64"
      ]
     },
     "execution_count": 39,
     "metadata": {},
     "output_type": "execute_result"
    }
   ],
   "source": [
    "# These are the values we'll use to fill in any missing values\n",
    "X_defaults_median = X_train.median()\n",
    "X_defaults_median"
   ]
  },
  {
   "cell_type": "code",
   "execution_count": 40,
   "metadata": {
    "ExecuteTime": {
     "end_time": "2021-08-11T22:28:04.449073Z",
     "start_time": "2021-08-11T22:28:04.435759Z"
    }
   },
   "outputs": [],
   "source": [
    "# Code task 9 #\n",
    "# Call `X_train` and `X_test`'s `fillna()` method, passing `X_defaults_median` as the values to use\n",
    "# Assign the results to `X_tr` and `X_te`, respectively\n",
    "X_tr = X_train.fillna(X_defaults_median)\n",
    "X_te = X_test.fillna(X_defaults_median)"
   ]
  },
  {
   "cell_type": "markdown",
   "metadata": {},
   "source": [
    "### Scale the data"
   ]
  },
  {
   "cell_type": "markdown",
   "metadata": {},
   "source": [
    "As you have features measured in many different units, with numbers that vary by orders of magnitude, start off by scaling them to put them all on a consistent scale. The [StandardScaler](https://scikit-learn.org/stable/modules/generated/sklearn.preprocessing.StandardScaler.html) scales each feature to zero mean and unit variance."
   ]
  },
  {
   "cell_type": "code",
   "execution_count": 41,
   "metadata": {
    "ExecuteTime": {
     "end_time": "2021-08-11T22:28:04.457129Z",
     "start_time": "2021-08-11T22:28:04.449845Z"
    }
   },
   "outputs": [],
   "source": [
    "# Code task 10#\n",
    "# Call the StandardScaler`s fit method on `X_tr` to fit the scaler\n",
    "# then use it's `transform()` method to apply the scaling to both the train and test split\n",
    "# data (`X_tr` and `X_te`), naming the results `X_tr_scaled` and `X_te_scaled`, respectively\n",
    "scaler = StandardScaler()\n",
    "scaler.fit(X_tr)\n",
    "X_tr_scaled = scaler.transform(X_tr)\n",
    "X_te_scaled = scaler.transform(X_te)"
   ]
  },
  {
   "cell_type": "markdown",
   "metadata": {},
   "source": [
    "### Train the model on the train split"
   ]
  },
  {
   "cell_type": "code",
   "execution_count": 42,
   "metadata": {
    "ExecuteTime": {
     "end_time": "2021-08-11T22:28:04.461205Z",
     "start_time": "2021-08-11T22:28:04.457878Z"
    }
   },
   "outputs": [],
   "source": [
    "lm = LinearRegression().fit(X_tr_scaled, y_train)"
   ]
  },
  {
   "cell_type": "markdown",
   "metadata": {},
   "source": [
    "### Make predictions using the model on both train and test splits"
   ]
  },
  {
   "cell_type": "code",
   "execution_count": 43,
   "metadata": {
    "ExecuteTime": {
     "end_time": "2021-08-11T22:28:04.466680Z",
     "start_time": "2021-08-11T22:28:04.461919Z"
    }
   },
   "outputs": [],
   "source": [
    "# Code task 11#\n",
    "# Call the `predict()` method of the model (`lm`) on both the (scaled) train and test data\n",
    "# Assign the predictions to `y_tr_pred` and `y_te_pred`, respectively\n",
    "y_tr_pred = lm.predict(X_tr_scaled)\n",
    "y_te_pred = lm.predict(X_te_scaled)"
   ]
  },
  {
   "cell_type": "markdown",
   "metadata": {},
   "source": [
    "### Assess model performance"
   ]
  },
  {
   "cell_type": "code",
   "execution_count": 44,
   "metadata": {
    "ExecuteTime": {
     "end_time": "2021-08-11T22:28:04.472601Z",
     "start_time": "2021-08-11T22:28:04.467386Z"
    }
   },
   "outputs": [
    {
     "data": {
      "text/plain": [
       "(0.8412891552865114, 0.7187495103407981)"
      ]
     },
     "execution_count": 44,
     "metadata": {},
     "output_type": "execute_result"
    }
   ],
   "source": [
    "# r^2 - train, test\n",
    "median_r2 = r2_score(y_train, y_tr_pred), r2_score(y_test, y_te_pred)\n",
    "median_r2"
   ]
  },
  {
   "cell_type": "markdown",
   "metadata": {},
   "source": [
    "Recall that you estimated ticket price by simply using a known average. As expected, this produced an $R^2$ of zero for both the training and test set, because $R^2$ tells us how much of the variance you're explaining beyond that of using just the mean, and you were using just the mean. Here we see that our simple linear regression model explains over 80% of the variance on the train set and over 70% on the test set. Clearly you are onto something, although the much lower value for the test set suggests you're overfitting somewhat. This isn't a surprise as you've made no effort to select a parsimonious set of features or deal with multicollinearity in our data."
   ]
  },
  {
   "cell_type": "code",
   "execution_count": 45,
   "metadata": {
    "ExecuteTime": {
     "end_time": "2021-08-11T22:28:04.478060Z",
     "start_time": "2021-08-11T22:28:04.473291Z"
    }
   },
   "outputs": [
    {
     "data": {
      "text/plain": [
       "(7.848625004322187, 9.311873995554036)"
      ]
     },
     "execution_count": 45,
     "metadata": {},
     "output_type": "execute_result"
    }
   ],
   "source": [
    "# Code task 12#\n",
    "# Now calculate the mean absolute error scores using `sklearn`'s `mean_absolute_error` function\n",
    "# as we did above for R^2\n",
    "# MAE - train, test\n",
    "median_mae = mean_absolute_error(y_train, y_tr_pred), mean_absolute_error(y_test, y_te_pred)\n",
    "median_mae"
   ]
  },
  {
   "cell_type": "markdown",
   "metadata": {},
   "source": [
    "Using this model, then, on average you'd expect to estimate a ticket price within \\\\$9 or so of the real price. This is much, much better than the \\\\$19 from just guessing using the average. There may be something to this machine learning lark after all!"
   ]
  },
  {
   "cell_type": "code",
   "execution_count": 46,
   "metadata": {
    "ExecuteTime": {
     "end_time": "2021-08-11T22:28:04.483312Z",
     "start_time": "2021-08-11T22:28:04.478733Z"
    }
   },
   "outputs": [
    {
     "data": {
      "text/plain": [
       "(98.90145194158468, 162.70861661024935)"
      ]
     },
     "execution_count": 46,
     "metadata": {},
     "output_type": "execute_result"
    }
   ],
   "source": [
    "# Code task 13#\n",
    "# And also do the same using `sklearn`'s `mean_squared_error`\n",
    "# MSE - train, test\n",
    "median_mse = mean_squared_error(y_train, y_tr_pred), mean_squared_error(y_test, y_te_pred)\n",
    "median_mse"
   ]
  },
  {
   "cell_type": "markdown",
   "metadata": {},
   "source": [
    "## Impute missing values with mean"
   ]
  },
  {
   "cell_type": "markdown",
   "metadata": {},
   "source": [
    "You chose to use the median for filling missing values because of the skew of many of our predictor feature distributions. What if you wanted to try something else, such as the mean?"
   ]
  },
  {
   "cell_type": "code",
   "execution_count": 47,
   "metadata": {
    "ExecuteTime": {
     "end_time": "2021-08-11T22:28:04.489850Z",
     "start_time": "2021-08-11T22:28:04.484000Z"
    }
   },
   "outputs": [
    {
     "data": {
      "text/plain": [
       "average_snowfall                       171.618785\n",
       "base_elev                             3111.728723\n",
       "daysopenlast_year                      112.043478\n",
       "double                                   1.845745\n",
       "fast_quads                               0.760638\n",
       "fast_sixes                               0.095745\n",
       "longest_run_mi                           1.324865\n",
       "night_skiing_ac                         94.132075\n",
       "projecteddays_open                     117.208589\n",
       "quad                                     0.973404\n",
       "runs                                    42.602151\n",
       "skiable_terrain_ac                     513.478495\n",
       "snow_making_ac                         142.445122\n",
       "summit_elev                           4230.728723\n",
       "surface                                  2.420213\n",
       "terrain_parks_resort                     2.645570\n",
       "total_chairs                             7.712766\n",
       "trams                                    0.122340\n",
       "triple                                   1.494681\n",
       "vertical_drop                         1107.063830\n",
       "years_open                              57.271277\n",
       "resort_cnt                              15.973404\n",
       "skiable_area_ac                       8931.797872\n",
       "days_open                             1518.909574\n",
       "terrain_parks_state                     39.079787\n",
       "nightskiing_ac                         986.957447\n",
       "resorts_per_100kcapita                   0.437204\n",
       "resorts_per_100ksq_mile                 40.919976\n",
       "resort_skiable_area_ac_state_ratio       0.099800\n",
       "resort_days_open_state_ratio             0.121853\n",
       "resort_terrain_park_state_ratio          0.121954\n",
       "resort_night_skiing_state_ratio          0.155261\n",
       "total_chairs_runs_ratio                  0.265836\n",
       "total_chairs_skiable_ratio               0.062266\n",
       "fastQuads_runs_ratio                     0.011130\n",
       "fastQuads_skiable_ratio                  0.001645\n",
       "dtype: float64"
      ]
     },
     "execution_count": 47,
     "metadata": {},
     "output_type": "execute_result"
    }
   ],
   "source": [
    "# Code task 14#\n",
    "# As we did for the median above, calculate mean values for imputing missing values\n",
    "# These are the values we'll use to fill in any missing values\n",
    "X_defaults_mean = X_train.mean()\n",
    "X_defaults_mean"
   ]
  },
  {
   "cell_type": "markdown",
   "metadata": {},
   "source": [
    "By eye, you can immediately tell that your replacement values are much higher than those from using the median."
   ]
  },
  {
   "cell_type": "markdown",
   "metadata": {},
   "source": [
    "<div class=\"alert alert-block alert-info\">\n",
    "<b>MY CUSTOM ADDITION</b> When doing something \"by-eye\" best to show it.</div>"
   ]
  },
  {
   "cell_type": "code",
   "execution_count": 48,
   "metadata": {
    "ExecuteTime": {
     "end_time": "2021-08-11T22:28:04.496551Z",
     "start_time": "2021-08-11T22:28:04.490560Z"
    }
   },
   "outputs": [
    {
     "data": {
      "text/plain": [
       "terrain_parks_state                    -2.0\n",
       "years_open                             -1.0\n",
       "projecteddays_open                      0.0\n",
       "daysopenlast_year                       2.0\n",
       "days_open                               2.0\n",
       "resort_cnt                              6.0\n",
       "total_chairs                           10.0\n",
       "surface                                21.0\n",
       "night_skiing_ac                        30.0\n",
       "terrain_parks_resort                   32.0\n",
       "longest_run_mi                         32.0\n",
       "vertical_drop                          36.0\n",
       "average_snowfall                       37.0\n",
       "runs                                   37.0\n",
       "total_chairs_runs_ratio                37.0\n",
       "snow_making_ac                         42.0\n",
       "triple                                 49.0\n",
       "nightskiing_ac                         54.0\n",
       "total_chairs_skiable_ratio             57.0\n",
       "resort_days_open_state_ratio           61.0\n",
       "resort_terrain_park_state_ratio        75.0\n",
       "resorts_per_100kcapita                 76.0\n",
       "resort_night_skiing_state_ratio        84.0\n",
       "double                                 85.0\n",
       "resort_skiable_area_ac_state_ratio     88.0\n",
       "summit_elev                            90.0\n",
       "resorts_per_100ksq_mile                94.0\n",
       "quad                                   95.0\n",
       "skiable_area_ac                       103.0\n",
       "base_elev                             135.0\n",
       "skiable_terrain_ac                    191.0\n",
       "trams                                   inf\n",
       "fast_sixes                              inf\n",
       "fast_quads                              inf\n",
       "fastQuads_runs_ratio                    inf\n",
       "fastQuads_skiable_ratio                 inf\n",
       "dtype: float64"
      ]
     },
     "execution_count": 48,
     "metadata": {},
     "output_type": "execute_result"
    }
   ],
   "source": [
    "round(100 * (X_defaults_mean - X_defaults_median) / X_defaults_median, 0).sort_values()"
   ]
  },
  {
   "cell_type": "markdown",
   "metadata": {
    "ExecuteTime": {
     "end_time": "2021-08-11T15:58:01.150613Z",
     "start_time": "2021-08-11T15:58:01.147139Z"
    }
   },
   "source": [
    "<div class=\"alert alert-block alert-info\">\n",
    "<b></b></div>"
   ]
  },
  {
   "cell_type": "code",
   "execution_count": 49,
   "metadata": {
    "ExecuteTime": {
     "end_time": "2021-08-11T22:28:04.509693Z",
     "start_time": "2021-08-11T22:28:04.497244Z"
    }
   },
   "outputs": [],
   "source": [
    "X_tr = X_train.fillna(X_defaults_mean)\n",
    "X_te = X_test.fillna(X_defaults_mean)"
   ]
  },
  {
   "cell_type": "markdown",
   "metadata": {},
   "source": [
    "### Scale the data"
   ]
  },
  {
   "cell_type": "code",
   "execution_count": 50,
   "metadata": {
    "ExecuteTime": {
     "end_time": "2021-08-11T22:28:04.517671Z",
     "start_time": "2021-08-11T22:28:04.510459Z"
    }
   },
   "outputs": [],
   "source": [
    "scaler = StandardScaler()\n",
    "scaler.fit(X_tr)\n",
    "X_tr_scaled = scaler.transform(X_tr)\n",
    "X_te_scaled = scaler.transform(X_te)"
   ]
  },
  {
   "cell_type": "markdown",
   "metadata": {},
   "source": [
    "### Train the model on the train split"
   ]
  },
  {
   "cell_type": "code",
   "execution_count": 51,
   "metadata": {
    "ExecuteTime": {
     "end_time": "2021-08-11T22:28:04.521008Z",
     "start_time": "2021-08-11T22:28:04.518612Z"
    }
   },
   "outputs": [],
   "source": [
    "lm = LinearRegression().fit(X_tr_scaled, y_train)"
   ]
  },
  {
   "cell_type": "markdown",
   "metadata": {},
   "source": [
    "### Make predictions using the model on both train and test splits"
   ]
  },
  {
   "cell_type": "code",
   "execution_count": 52,
   "metadata": {
    "ExecuteTime": {
     "end_time": "2021-08-11T22:28:04.525777Z",
     "start_time": "2021-08-11T22:28:04.521693Z"
    }
   },
   "outputs": [],
   "source": [
    "y_tr_pred = lm.predict(X_tr_scaled)\n",
    "y_te_pred = lm.predict(X_te_scaled)"
   ]
  },
  {
   "cell_type": "markdown",
   "metadata": {},
   "source": [
    "### Assess model performance"
   ]
  },
  {
   "cell_type": "code",
   "execution_count": 53,
   "metadata": {
    "ExecuteTime": {
     "end_time": "2021-08-11T22:28:04.531641Z",
     "start_time": "2021-08-11T22:28:04.526470Z"
    }
   },
   "outputs": [
    {
     "data": {
      "text/plain": [
       "(0.8399941566572605, 0.724160958792183)"
      ]
     },
     "execution_count": 53,
     "metadata": {},
     "output_type": "execute_result"
    }
   ],
   "source": [
    "r2_score(y_train, y_tr_pred), r2_score(y_test, y_te_pred)"
   ]
  },
  {
   "cell_type": "code",
   "execution_count": 54,
   "metadata": {
    "ExecuteTime": {
     "end_time": "2021-08-11T22:28:04.536402Z",
     "start_time": "2021-08-11T22:28:04.532305Z"
    }
   },
   "outputs": [
    {
     "data": {
      "text/plain": [
       "(7.866253121620914, 9.27279086247017)"
      ]
     },
     "execution_count": 54,
     "metadata": {},
     "output_type": "execute_result"
    }
   ],
   "source": [
    "mean_absolute_error(y_train, y_tr_pred), mean_absolute_error(y_test, y_te_pred)"
   ]
  },
  {
   "cell_type": "code",
   "execution_count": 55,
   "metadata": {
    "ExecuteTime": {
     "end_time": "2021-08-11T22:28:04.541822Z",
     "start_time": "2021-08-11T22:28:04.537260Z"
    }
   },
   "outputs": [
    {
     "data": {
      "text/plain": [
       "(99.70843677571173, 159.5779934691149)"
      ]
     },
     "execution_count": 55,
     "metadata": {},
     "output_type": "execute_result"
    }
   ],
   "source": [
    "mean_squared_error(y_train, y_tr_pred), mean_squared_error(y_test, y_te_pred)"
   ]
  },
  {
   "cell_type": "markdown",
   "metadata": {},
   "source": [
    "These results don't seem very different to when you used the median for imputing missing values. Perhaps it doesn't make much difference here. Maybe your overtraining dominates. Maybe other feature transformations, such as taking the log, would help. You could try with just a subset of features rather than using all of them as inputs.\n",
    "\n",
    "To perform the median/mean comparison, you copied and pasted a lot of code just to change the function for imputing missing values. It would make more sense to write a function that performed the sequence of steps:\n",
    "1. impute missing values\n",
    "2. scale the features\n",
    "3. train a model\n",
    "4. calculate model performance\n",
    "\n",
    "But these are common steps and `sklearn` provides something much better than writing custom functions."
   ]
  },
  {
   "cell_type": "markdown",
   "metadata": {},
   "source": [
    "## Pipelines"
   ]
  },
  {
   "cell_type": "markdown",
   "metadata": {},
   "source": [
    "One of the most important and useful components of `sklearn` is the [pipeline](https://scikit-learn.org/stable/modules/generated/sklearn.pipeline.Pipeline.html). In place of `panda`'s `fillna` DataFrame method, there is `sklearn`'s `SimpleImputer`. Remember the first linear model above performed the steps:\n",
    "\n",
    "1. replace missing values with the median for each feature\n",
    "2. scale the data to zero mean and unit variance\n",
    "3. train a linear regression model\n",
    "\n",
    "and all these steps were trained on the train split and then applied to the test split for assessment.\n",
    "\n",
    "The pipeline below defines exactly those same steps. Crucially, the resultant `Pipeline` object has a `fit()` method and a `predict()` method, just like the `LinearRegression()` object itself. Just as you might create a linear regression model and train it with `.fit()` and predict with `.predict()`, you can wrap the entire process of imputing and feature scaling and regression in a single object you can train with `.fit()` and predict with `.predict()`. And that's basically a pipeline: a model on steroids."
   ]
  },
  {
   "cell_type": "markdown",
   "metadata": {},
   "source": [
    "### Define a pipeline"
   ]
  },
  {
   "cell_type": "code",
   "execution_count": 56,
   "metadata": {
    "ExecuteTime": {
     "end_time": "2021-08-11T22:28:04.546372Z",
     "start_time": "2021-08-11T22:28:04.542543Z"
    }
   },
   "outputs": [],
   "source": [
    "pipe = make_pipeline(\n",
    "    SimpleImputer(strategy=\"median\"),\n",
    "    StandardScaler(),\n",
    "    LinearRegression()\n",
    ")"
   ]
  },
  {
   "cell_type": "code",
   "execution_count": 57,
   "metadata": {
    "ExecuteTime": {
     "end_time": "2021-08-11T22:28:04.551578Z",
     "start_time": "2021-08-11T22:28:04.547079Z"
    }
   },
   "outputs": [
    {
     "data": {
      "text/plain": [
       "sklearn.pipeline.Pipeline"
      ]
     },
     "execution_count": 57,
     "metadata": {},
     "output_type": "execute_result"
    }
   ],
   "source": [
    "type(pipe)"
   ]
  },
  {
   "cell_type": "code",
   "execution_count": 58,
   "metadata": {
    "ExecuteTime": {
     "end_time": "2021-08-11T22:28:04.556667Z",
     "start_time": "2021-08-11T22:28:04.552278Z"
    }
   },
   "outputs": [
    {
     "data": {
      "text/plain": [
       "(True, True)"
      ]
     },
     "execution_count": 58,
     "metadata": {},
     "output_type": "execute_result"
    }
   ],
   "source": [
    "hasattr(pipe, \"fit\"), hasattr(pipe, \"predict\")"
   ]
  },
  {
   "cell_type": "markdown",
   "metadata": {},
   "source": [
    "### Fit the pipeline"
   ]
  },
  {
   "cell_type": "markdown",
   "metadata": {},
   "source": [
    "Here, a single call to the pipeline's `fit()` method combines the steps of learning the imputation (determining what values to use to fill the missing ones), the scaling (determining the mean to subtract and the variance to divide by), and then training the model. It does this all in the one call with the training data as arguments."
   ]
  },
  {
   "cell_type": "code",
   "execution_count": 59,
   "metadata": {
    "ExecuteTime": {
     "end_time": "2021-08-11T22:28:04.567378Z",
     "start_time": "2021-08-11T22:28:04.557368Z"
    }
   },
   "outputs": [
    {
     "data": {
      "text/plain": [
       "Pipeline(steps=[('simpleimputer', SimpleImputer(strategy='median')),\n",
       "                ('standardscaler', StandardScaler()),\n",
       "                ('linearregression', LinearRegression())])"
      ]
     },
     "execution_count": 59,
     "metadata": {},
     "output_type": "execute_result"
    }
   ],
   "source": [
    "# Code task 15 #\n",
    "# Call the pipe's `fit()` method with `X_train` and `y_train` as arguments\n",
    "pipe.fit(X_train, y_train)"
   ]
  },
  {
   "cell_type": "markdown",
   "metadata": {},
   "source": [
    "### Make predictions"
   ]
  },
  {
   "cell_type": "code",
   "execution_count": 60,
   "metadata": {
    "ExecuteTime": {
     "end_time": "2021-08-11T22:28:04.573539Z",
     "start_time": "2021-08-11T22:28:04.568147Z"
    }
   },
   "outputs": [],
   "source": [
    "y_tr_pred = pipe.predict(X_train)\n",
    "y_te_pred = pipe.predict(X_test)"
   ]
  },
  {
   "cell_type": "markdown",
   "metadata": {},
   "source": [
    "### Assess performance"
   ]
  },
  {
   "cell_type": "code",
   "execution_count": 61,
   "metadata": {
    "ExecuteTime": {
     "end_time": "2021-08-11T22:28:04.577973Z",
     "start_time": "2021-08-11T22:28:04.574355Z"
    }
   },
   "outputs": [],
   "source": [
    "pipe_median_r2 = r2_score(y_train, y_tr_pred), r2_score(y_test, y_te_pred)\n",
    "pipe_median_mae = mean_absolute_error(y_train, y_tr_pred), mean_absolute_error(y_test, y_te_pred)\n",
    "pipe_median_mse = mean_squared_error(y_train, y_tr_pred), mean_squared_error(y_test, y_te_pred)"
   ]
  },
  {
   "cell_type": "code",
   "execution_count": 62,
   "metadata": {
    "ExecuteTime": {
     "end_time": "2021-08-11T22:28:04.584249Z",
     "start_time": "2021-08-11T22:28:04.578754Z"
    }
   },
   "outputs": [
    {
     "name": "stdout",
     "output_type": "stream",
     "text": [
      "Pipeline R2: (0.8412891552865114, 0.7187495103407981)\n",
      "Manual R2: (0.8412891552865114, 0.7187495103407981)\n",
      "----------\n",
      "Pipeline MAE: (7.848625004322187, 9.311873995554036)\n",
      "Manual MAE: (7.848625004322187, 9.311873995554036)\n",
      "----------\n",
      "Pipeline MSE: (98.90145194158468, 162.70861661024935)\n",
      "Manual MSE: (98.90145194158468, 162.70861661024935)\n"
     ]
    }
   ],
   "source": [
    "# R2\n",
    "print(f'Pipeline R2: {pipe_median_r2}')\n",
    "print(f'Manual R2: {median_r2}')\n",
    "assert median_r2 == pipe_median_r2, \"Oops, the pipeline != manual\"\n",
    "print(\"-\" * 10)\n",
    "\n",
    "# MAE\n",
    "print(f'Pipeline MAE: {pipe_median_mae}')\n",
    "print(f'Manual MAE: {median_mae}')\n",
    "assert median_mae == pipe_median_mae, \"Oops, the pipeline != manual\"\n",
    "print(\"-\" * 10)\n",
    "\n",
    "\n",
    "# MSE\n",
    "print(f'Pipeline MSE: {pipe_median_mse}')\n",
    "print(f'Manual MSE: {median_mse}')\n",
    "assert median_mse == pipe_median_mse, \"Oops, the pipeline != manual\""
   ]
  },
  {
   "cell_type": "markdown",
   "metadata": {},
   "source": [
    "These results confirm the pipeline is doing exactly what's expected, and results are identical to your earlier steps. This allows you to move faster but with confidence."
   ]
  },
  {
   "cell_type": "markdown",
   "metadata": {},
   "source": [
    "# Refined Linear Model"
   ]
  },
  {
   "cell_type": "markdown",
   "metadata": {},
   "source": [
    "You suspected the model was overfitting. This is no real surprise given the number of features you blindly used. It's likely a judicious subset of features would generalize better. `sklearn` has a number of feature selection functions available. The one you'll use here is `SelectKBest` which, as you might guess, selects the k best features. You can read about SelectKBest \n",
    "[here](https://scikit-learn.org/stable/modules/generated/sklearn.feature_selection.SelectKBest.html#sklearn.feature_selection.SelectKBest). `f_regression` is just the [score function](https://scikit-learn.org/stable/modules/generated/sklearn.feature_selection.f_regression.html#sklearn.feature_selection.f_regression) you're using because you're performing regression. It's important to choose an appropriate one for your machine learning task."
   ]
  },
  {
   "cell_type": "markdown",
   "metadata": {},
   "source": [
    "## Define a pipeline"
   ]
  },
  {
   "cell_type": "markdown",
   "metadata": {},
   "source": [
    "Redefine your pipeline to include this feature selection step:"
   ]
  },
  {
   "cell_type": "code",
   "execution_count": 63,
   "metadata": {
    "ExecuteTime": {
     "end_time": "2021-08-11T22:28:04.588280Z",
     "start_time": "2021-08-11T22:28:04.585050Z"
    }
   },
   "outputs": [],
   "source": [
    "# Code task 16 #\n",
    "# Add `SelectKBest` as a step in the pipeline between `StandardScaler()` and `LinearRegression()`\n",
    "# Don't forget to tell it to use `f_regression` as its score function\n",
    "pipe = make_pipeline(\n",
    "    SimpleImputer(strategy=\"median\"),\n",
    "    StandardScaler(),\n",
    "    SelectKBest(f_regression),\n",
    "    LinearRegression()\n",
    ")"
   ]
  },
  {
   "cell_type": "markdown",
   "metadata": {},
   "source": [
    "## Fit the pipeline"
   ]
  },
  {
   "cell_type": "code",
   "execution_count": 64,
   "metadata": {
    "ExecuteTime": {
     "end_time": "2021-08-11T22:28:04.599359Z",
     "start_time": "2021-08-11T22:28:04.589046Z"
    }
   },
   "outputs": [
    {
     "data": {
      "text/plain": [
       "Pipeline(steps=[('simpleimputer', SimpleImputer(strategy='median')),\n",
       "                ('standardscaler', StandardScaler()),\n",
       "                ('selectkbest',\n",
       "                 SelectKBest(score_func=<function f_regression at 0x7f046a56cc10>)),\n",
       "                ('linearregression', LinearRegression())])"
      ]
     },
     "execution_count": 64,
     "metadata": {},
     "output_type": "execute_result"
    }
   ],
   "source": [
    "pipe.fit(X_train, y_train)"
   ]
  },
  {
   "cell_type": "markdown",
   "metadata": {},
   "source": [
    "## Assess performance"
   ]
  },
  {
   "cell_type": "code",
   "execution_count": 65,
   "metadata": {
    "ExecuteTime": {
     "end_time": "2021-08-11T22:28:04.604338Z",
     "start_time": "2021-08-11T22:28:04.600237Z"
    }
   },
   "outputs": [],
   "source": [
    "y_tr_pred = pipe.predict(X_train)\n",
    "y_te_pred = pipe.predict(X_test)"
   ]
  },
  {
   "cell_type": "code",
   "execution_count": 66,
   "metadata": {
    "ExecuteTime": {
     "end_time": "2021-08-11T22:28:04.609831Z",
     "start_time": "2021-08-11T22:28:04.605069Z"
    }
   },
   "outputs": [
    {
     "data": {
      "text/plain": [
       "(0.7740823088305325, 0.6299661768069948)"
      ]
     },
     "execution_count": 66,
     "metadata": {},
     "output_type": "execute_result"
    }
   ],
   "source": [
    "r2_score(y_train, y_tr_pred), r2_score(y_test, y_te_pred)"
   ]
  },
  {
   "cell_type": "code",
   "execution_count": 67,
   "metadata": {
    "ExecuteTime": {
     "end_time": "2021-08-11T22:28:04.614654Z",
     "start_time": "2021-08-11T22:28:04.610546Z"
    }
   },
   "outputs": [
    {
     "data": {
      "text/plain": [
       "(9.459758699512784, 10.998887073060592)"
      ]
     },
     "execution_count": 67,
     "metadata": {},
     "output_type": "execute_result"
    }
   ],
   "source": [
    "mean_absolute_error(y_train, y_tr_pred), mean_absolute_error(y_test, y_te_pred)"
   ]
  },
  {
   "cell_type": "markdown",
   "metadata": {},
   "source": [
    "This has made things worse! Clearly selecting a subset of features has an impact on performance. `SelectKBest` defaults to k=10. You've just seen that 10 is worse than using all features. What is the best k? You could create a new pipeline with a different value of k:"
   ]
  },
  {
   "cell_type": "markdown",
   "metadata": {},
   "source": [
    "## Define a new pipeline to select a different number of features"
   ]
  },
  {
   "cell_type": "code",
   "execution_count": 68,
   "metadata": {
    "ExecuteTime": {
     "end_time": "2021-08-11T22:28:04.619540Z",
     "start_time": "2021-08-11T22:28:04.615598Z"
    }
   },
   "outputs": [],
   "source": [
    "# Code task 17 #\n",
    "# Modify the `SelectKBest` step to use a value of 15 for k\n",
    "pipe15 = make_pipeline(\n",
    "    SimpleImputer(strategy=\"median\"),\n",
    "    StandardScaler(),\n",
    "    SelectKBest(f_regression, k=15),\n",
    "    LinearRegression(),\n",
    ")"
   ]
  },
  {
   "cell_type": "markdown",
   "metadata": {},
   "source": [
    "## Fit the pipeline"
   ]
  },
  {
   "cell_type": "code",
   "execution_count": 69,
   "metadata": {
    "ExecuteTime": {
     "end_time": "2021-08-11T22:28:04.631273Z",
     "start_time": "2021-08-11T22:28:04.620378Z"
    }
   },
   "outputs": [
    {
     "data": {
      "text/plain": [
       "Pipeline(steps=[('simpleimputer', SimpleImputer(strategy='median')),\n",
       "                ('standardscaler', StandardScaler()),\n",
       "                ('selectkbest',\n",
       "                 SelectKBest(k=15,\n",
       "                             score_func=<function f_regression at 0x7f046a56cc10>)),\n",
       "                ('linearregression', LinearRegression())])"
      ]
     },
     "execution_count": 69,
     "metadata": {},
     "output_type": "execute_result"
    }
   ],
   "source": [
    "pipe15.fit(X_train, y_train)"
   ]
  },
  {
   "cell_type": "markdown",
   "metadata": {},
   "source": [
    "## Assess performance on train and test data"
   ]
  },
  {
   "cell_type": "code",
   "execution_count": 70,
   "metadata": {
    "ExecuteTime": {
     "end_time": "2021-08-11T22:28:04.637215Z",
     "start_time": "2021-08-11T22:28:04.632187Z"
    }
   },
   "outputs": [],
   "source": [
    "y_tr_pred = pipe15.predict(X_train)\n",
    "y_te_pred = pipe15.predict(X_test)"
   ]
  },
  {
   "cell_type": "code",
   "execution_count": 71,
   "metadata": {
    "ExecuteTime": {
     "end_time": "2021-08-11T22:28:04.641421Z",
     "start_time": "2021-08-11T22:28:04.638110Z"
    }
   },
   "outputs": [
    {
     "data": {
      "text/plain": [
       "(0.7932098228788244, 0.6656832982853444)"
      ]
     },
     "execution_count": 71,
     "metadata": {},
     "output_type": "execute_result"
    }
   ],
   "source": [
    "r2_score(y_train, y_tr_pred), r2_score(y_test, y_te_pred)"
   ]
  },
  {
   "cell_type": "code",
   "execution_count": 72,
   "metadata": {
    "ExecuteTime": {
     "end_time": "2021-08-11T22:28:04.646672Z",
     "start_time": "2021-08-11T22:28:04.642198Z"
    }
   },
   "outputs": [
    {
     "data": {
      "text/plain": [
       "(9.167107497685238, 10.217717992356802)"
      ]
     },
     "execution_count": 72,
     "metadata": {},
     "output_type": "execute_result"
    }
   ],
   "source": [
    "mean_absolute_error(y_train, y_tr_pred), mean_absolute_error(y_test, y_te_pred)"
   ]
  },
  {
   "cell_type": "markdown",
   "metadata": {},
   "source": [
    "You could keep going, trying different values of k, training a model, measuring performance on the test set, and then picking the model with the best test set performance. There's a fundamental problem with this approach: _you're tuning the model to the arbitrary test set_! If you continue this way you'll end up with a model works well on the particular quirks of our test set _but fails to generalize to new data_. The whole point of keeping a test set is for it to be a set of that new data, to check how well our model might perform on data it hasn't seen.\n",
    "\n",
    "The way around this is a technique called _cross-validation_. You partition the training set into k folds, train our model on k-1 of those folds, and calculate performance on the fold not used in training. This procedure then cycles through k times with a different fold held back each time. Thus you end up building k models on k sets of data with k estimates of how the model performs on unseen data but without having to touch the test set."
   ]
  },
  {
   "cell_type": "markdown",
   "metadata": {},
   "source": [
    "## Assessing performance using cross-validation"
   ]
  },
  {
   "cell_type": "code",
   "execution_count": 73,
   "metadata": {
    "ExecuteTime": {
     "end_time": "2021-08-11T22:28:04.682811Z",
     "start_time": "2021-08-11T22:28:04.647581Z"
    }
   },
   "outputs": [],
   "source": [
    "cv_results = cross_validate(pipe15, X_train, y_train, cv=5)"
   ]
  },
  {
   "cell_type": "code",
   "execution_count": 74,
   "metadata": {
    "ExecuteTime": {
     "end_time": "2021-08-11T22:28:04.686439Z",
     "start_time": "2021-08-11T22:28:04.683661Z"
    }
   },
   "outputs": [
    {
     "data": {
      "text/plain": [
       "array([0.37406703, 0.82123913, 0.77250065, 0.60846461, 0.76953226])"
      ]
     },
     "execution_count": 74,
     "metadata": {},
     "output_type": "execute_result"
    }
   ],
   "source": [
    "cv_scores = cv_results[\"test_score\"]\n",
    "cv_scores"
   ]
  },
  {
   "cell_type": "markdown",
   "metadata": {},
   "source": [
    "Without using the same random state for initializing the CV folds, your actual numbers will be different."
   ]
  },
  {
   "cell_type": "code",
   "execution_count": 75,
   "metadata": {
    "ExecuteTime": {
     "end_time": "2021-08-11T22:28:04.691334Z",
     "start_time": "2021-08-11T22:28:04.687249Z"
    }
   },
   "outputs": [
    {
     "data": {
      "text/plain": [
       "(0.6691607355627143, 0.16410102582937314)"
      ]
     },
     "execution_count": 75,
     "metadata": {},
     "output_type": "execute_result"
    }
   ],
   "source": [
    "np.mean(cv_scores), np.std(cv_scores)"
   ]
  },
  {
   "cell_type": "markdown",
   "metadata": {},
   "source": [
    "These results highlight that assessing model performance in inherently open to variability. You'll get different results depending on the quirks of which points are in which fold. An advantage of this is that you can also obtain an estimate of the variability, or uncertainty, in your performance estimate."
   ]
  },
  {
   "cell_type": "code",
   "execution_count": 76,
   "metadata": {
    "ExecuteTime": {
     "end_time": "2021-08-11T22:28:04.696650Z",
     "start_time": "2021-08-11T22:28:04.692034Z"
    }
   },
   "outputs": [
    {
     "data": {
      "text/plain": [
       "array([0.34, 1.  ])"
      ]
     },
     "execution_count": 76,
     "metadata": {},
     "output_type": "execute_result"
    }
   ],
   "source": [
    "np.round(\n",
    "    (\n",
    "        np.mean(cv_scores) - 2 * np.std(cv_scores),\n",
    "        np.mean(cv_scores) + 2 * np.std(cv_scores),\n",
    "    ),\n",
    "    2,\n",
    ")"
   ]
  },
  {
   "cell_type": "markdown",
   "metadata": {},
   "source": [
    "## Hyperparameter search using GridSearchCV"
   ]
  },
  {
   "cell_type": "markdown",
   "metadata": {},
   "source": [
    "Pulling the above together, we have:\n",
    "* a pipeline that\n",
    "    * imputes missing values\n",
    "    * scales the data\n",
    "    * selects the k best features\n",
    "    * trains a linear regression model\n",
    "* a technique (cross-validation) for estimating model performance\n",
    "\n",
    "Now you want to use cross-validation for multiple values of k and use cross-validation to pick the value of k that gives the best performance. `make_pipeline` automatically names each step as the lowercase name of the step and the parameters of the step are then accessed by appending a double underscore followed by the parameter name. You know the name of the step will be 'selectkbest' and you know the parameter is 'k'.\n",
    "\n",
    "You can also list the names of all the parameters in a pipeline like this:"
   ]
  },
  {
   "cell_type": "code",
   "execution_count": 77,
   "metadata": {
    "ExecuteTime": {
     "end_time": "2021-08-11T22:28:04.702949Z",
     "start_time": "2021-08-11T22:28:04.697455Z"
    }
   },
   "outputs": [
    {
     "name": "stdout",
     "output_type": "stream",
     "text": [
      "memory\n",
      "steps\n",
      "verbose\n",
      "simpleimputer\n",
      "standardscaler\n",
      "selectkbest\n",
      "linearregression\n",
      "simpleimputer__add_indicator\n",
      "simpleimputer__copy\n",
      "simpleimputer__fill_value\n",
      "simpleimputer__missing_values\n",
      "simpleimputer__strategy\n",
      "simpleimputer__verbose\n",
      "standardscaler__copy\n",
      "standardscaler__with_mean\n",
      "standardscaler__with_std\n",
      "selectkbest__k\n",
      "selectkbest__score_func\n",
      "linearregression__copy_X\n",
      "linearregression__fit_intercept\n",
      "linearregression__n_jobs\n",
      "linearregression__normalize\n",
      "linearregression__positive\n"
     ]
    }
   ],
   "source": [
    "# Code task 18 #\n",
    "# Call `pipe`'s `get_params()` method to get a dict of available parameters and print their names\n",
    "# using dict's `keys()` method\n",
    "for key in pipe.get_params().keys():\n",
    "    print(key)"
   ]
  },
  {
   "cell_type": "markdown",
   "metadata": {},
   "source": [
    "The above can be particularly useful as your pipelines becomes more complex (you can even nest pipelines within pipelines)."
   ]
  },
  {
   "cell_type": "code",
   "execution_count": 78,
   "metadata": {
    "ExecuteTime": {
     "end_time": "2021-08-11T22:28:04.706662Z",
     "start_time": "2021-08-11T22:28:04.703653Z"
    }
   },
   "outputs": [
    {
     "name": "stdout",
     "output_type": "stream",
     "text": [
      "{'selectkbest__k': [1, 2, 3, 4, 5, 6, 7, 8, 9, 10, 11, 12, 13, 14, 15, 16, 17, 18, 19, 20, 21, 22, 23, 24, 25, 26, 27, 28, 29, 30, 31, 32, 33, 34, 35, 36]}\n"
     ]
    }
   ],
   "source": [
    "k = [k + 1 for k in range(len(X_train.columns))]\n",
    "grid_params = {\"selectkbest__k\": k}\n",
    "print(grid_params)"
   ]
  },
  {
   "cell_type": "markdown",
   "metadata": {},
   "source": [
    "Now you have a range of `k` to investigate. Is 1 feature best? 2? 3? 4? All of them? You could write a for loop and iterate over each possible value, doing all the housekeeping oyurselves to track the best value of k. But this is  a common task so there's a built in function in `sklearn`. This is [`GridSearchCV`](https://scikit-learn.org/stable/modules/generated/sklearn.model_selection.GridSearchCV.html).\n",
    "This takes the pipeline object, in fact it takes anything with a `.fit()` and `.predict()` method. In simple cases with no feature selection or imputation or feature scaling etc. you may see the classifier or regressor object itself directly passed into `GridSearchCV`. The other key input is the parameters and values to search over. Optional parameters include the cross-validation strategy and number of CPUs to use."
   ]
  },
  {
   "cell_type": "code",
   "execution_count": 79,
   "metadata": {
    "ExecuteTime": {
     "end_time": "2021-08-11T22:28:04.711175Z",
     "start_time": "2021-08-11T22:28:04.707359Z"
    }
   },
   "outputs": [],
   "source": [
    "lr_grid_cv = GridSearchCV(pipe, param_grid=grid_params, cv=5, n_jobs=-1)"
   ]
  },
  {
   "cell_type": "code",
   "execution_count": 80,
   "metadata": {
    "ExecuteTime": {
     "end_time": "2021-08-11T22:28:06.177064Z",
     "start_time": "2021-08-11T22:28:04.711870Z"
    }
   },
   "outputs": [
    {
     "data": {
      "text/plain": [
       "GridSearchCV(cv=5,\n",
       "             estimator=Pipeline(steps=[('simpleimputer',\n",
       "                                        SimpleImputer(strategy='median')),\n",
       "                                       ('standardscaler', StandardScaler()),\n",
       "                                       ('selectkbest',\n",
       "                                        SelectKBest(score_func=<function f_regression at 0x7f046a56cc10>)),\n",
       "                                       ('linearregression',\n",
       "                                        LinearRegression())]),\n",
       "             n_jobs=-1,\n",
       "             param_grid={'selectkbest__k': [1, 2, 3, 4, 5, 6, 7, 8, 9, 10, 11,\n",
       "                                            12, 13, 14, 15, 16, 17, 18, 19, 20,\n",
       "                                            21, 22, 23, 24, 25, 26, 27, 28, 29,\n",
       "                                            30, ...]})"
      ]
     },
     "execution_count": 80,
     "metadata": {},
     "output_type": "execute_result"
    }
   ],
   "source": [
    "lr_grid_cv.fit(X_train, y_train)"
   ]
  },
  {
   "cell_type": "code",
   "execution_count": 81,
   "metadata": {
    "ExecuteTime": {
     "end_time": "2021-08-11T22:28:06.187679Z",
     "start_time": "2021-08-11T22:28:06.185115Z"
    }
   },
   "outputs": [],
   "source": [
    "score_mean = lr_grid_cv.cv_results_[\"mean_test_score\"]\n",
    "score_std = lr_grid_cv.cv_results_[\"std_test_score\"]\n",
    "cv_k = [k for k in lr_grid_cv.cv_results_[\"param_selectkbest__k\"]]"
   ]
  },
  {
   "cell_type": "code",
   "execution_count": 82,
   "metadata": {
    "ExecuteTime": {
     "end_time": "2021-08-11T22:28:06.194125Z",
     "start_time": "2021-08-11T22:28:06.188481Z"
    }
   },
   "outputs": [
    {
     "data": {
      "text/plain": [
       "{'selectkbest__k': 7}"
      ]
     },
     "execution_count": 82,
     "metadata": {},
     "output_type": "execute_result"
    }
   ],
   "source": [
    "# Code task 19 #\n",
    "# Print the `best_params_` attribute of `lr_grid_cv`\n",
    "lr_grid_cv.best_params_"
   ]
  },
  {
   "cell_type": "code",
   "execution_count": 83,
   "metadata": {
    "ExecuteTime": {
     "end_time": "2021-08-11T22:28:06.369506Z",
     "start_time": "2021-08-11T22:28:06.194913Z"
    }
   },
   "outputs": [
    {
     "name": "stderr",
     "output_type": "stream",
     "text": [
      "WARNING:matplotlib.font_manager:findfont: Font family ['sans-serif'] not found. Falling back to DejaVu Sans.\n",
      "WARNING:matplotlib.font_manager:findfont: Generic family 'sans-serif' not found because none of the following families were found: Open Sans\n",
      "WARNING:matplotlib.font_manager:findfont: Font family ['sans-serif'] not found. Falling back to DejaVu Sans.\n",
      "WARNING:matplotlib.font_manager:findfont: Generic family 'sans-serif' not found because none of the following families were found: Open Sans\n"
     ]
    },
    {
     "data": {
      "image/png": "[encoded data removed]",
      "text/plain": [
       "<Figure size 1080x432 with 1 Axes>"
      ]
     },
     "metadata": {
      "needs_background": "light"
     },
     "output_type": "display_data"
    }
   ],
   "source": [
    "# Code task 20 #\n",
    "# Assign the value of k from the above dict of `best_params_` and assign it to `best_k`\n",
    "best_k = lr_grid_cv.best_params_[\"selectkbest__k\"]\n",
    "plt.subplots()\n",
    "plt.errorbar(cv_k, score_mean, yerr=score_std)\n",
    "plt.axvline(x=best_k, c=\"r\", ls=\"--\", alpha=0.5)\n",
    "plt.xlabel(\"k\")\n",
    "plt.ylabel(\"CV score (r-squared)\")\n",
    "plt.title(\"Pipeline mean CV score (error bars +/- 1sd)\");"
   ]
  },
  {
   "cell_type": "markdown",
   "metadata": {},
   "source": [
    "The above suggests a good value for k is 8. There was an initial rapid increase with k, followed by a slow decline. Also noticeable is the variance of the results greatly increase above k=8. As you increasingly overfit, expect greater swings in performance as different points move in and out of the train/test folds."
   ]
  },
  {
   "cell_type": "markdown",
   "metadata": {},
   "source": [
    "Which features were most useful? Step into your best model, shown below. Starting with the fitted grid search object, you get the best estimator, then the named step 'selectkbest', for which you can its `get_support()` method for a logical mask of the features selected."
   ]
  },
  {
   "cell_type": "code",
   "execution_count": 84,
   "metadata": {
    "ExecuteTime": {
     "end_time": "2021-08-11T22:28:06.372272Z",
     "start_time": "2021-08-11T22:28:06.370366Z"
    }
   },
   "outputs": [],
   "source": [
    "selected = lr_grid_cv.best_estimator_.named_steps.selectkbest.get_support()"
   ]
  },
  {
   "cell_type": "markdown",
   "metadata": {},
   "source": [
    "Similarly, instead of using the 'selectkbest' named step, you can access the named step for the linear regression model and, from that, grab the model coefficients via its `coef_` attribute:"
   ]
  },
  {
   "cell_type": "code",
   "execution_count": 85,
   "metadata": {
    "ExecuteTime": {
     "end_time": "2021-08-11T22:28:06.379387Z",
     "start_time": "2021-08-11T22:28:06.373016Z"
    }
   },
   "outputs": [
    {
     "data": {
      "text/plain": [
       "snow_making_ac    8.139313\n",
       "vertical_drop     7.703800\n",
       "fast_quads        6.324287\n",
       "total_chairs      5.125146\n",
       "longest_run_mi    2.194277\n",
       "runs             -0.682407\n",
       "trams            -2.267332\n",
       "dtype: float64"
      ]
     },
     "execution_count": 85,
     "metadata": {},
     "output_type": "execute_result"
    }
   ],
   "source": [
    "# Code task 21 #\n",
    "# Get the linear model coefficients from the `coef_` attribute and store in `coefs`,\n",
    "# get the matching feature names from the column names of the dataframe,\n",
    "# and display the results as a pandas Series with `coefs` as the values and `features` as the index,\n",
    "# sorting the values in descending order\n",
    "coefs = lr_grid_cv.best_estimator_.named_steps.linearregression.coef_\n",
    "features = X_train.columns[selected]\n",
    "lin_mod_feat_imps = pd.Series(coefs, index=features).sort_values(ascending=False)\n",
    "lin_mod_feat_imps"
   ]
  },
  {
   "cell_type": "markdown",
   "metadata": {},
   "source": [
    "These results suggest that vertical drop is your biggest positive feature. This makes intuitive sense and is consistent with what you saw during the EDA work. Also, you see the area covered by snow making equipment is a strong positive as well. People like guaranteed skiing! The skiable terrain area is negatively associated with ticket price! This seems odd. People will pay less for larger resorts? There could be all manner of reasons for this. It could be  an effect whereby larger resorts can host more visitors at any one time and so can charge less per ticket. As has been mentioned previously, the data are missing information about visitor numbers. Bear in mind,  the coefficient for skiable terrain is negative _for this model_. For example, if you kept the total number of chairs and fastQuads constant, but increased the skiable terrain extent, you might imagine the resort is worse off because the chairlift capacity is stretched thinner."
   ]
  },
  {
   "cell_type": "markdown",
   "metadata": {},
   "source": [
    "# Random Forest Model"
   ]
  },
  {
   "cell_type": "markdown",
   "metadata": {},
   "source": [
    "A model that can work very well in a lot of cases is the random forest. For regression, this is provided by `sklearn`'s `RandomForestRegressor` class.\n",
    "\n",
    "Time to stop the bad practice of repeatedly checking performance on the test split. Instead, go straight from defining the pipeline to assessing performance using cross-validation. `cross_validate` will perform the fitting as part of the process. This uses the default settings for the random forest so you'll then proceed to investigate some different hyperparameters."
   ]
  },
  {
   "cell_type": "markdown",
   "metadata": {},
   "source": [
    "## Define a pipeline"
   ]
  },
  {
   "cell_type": "code",
   "execution_count": 86,
   "metadata": {
    "ExecuteTime": {
     "end_time": "2021-08-11T22:28:06.385885Z",
     "start_time": "2021-08-11T22:28:06.380454Z"
    }
   },
   "outputs": [],
   "source": [
    "# Code task 22 #\n",
    "# Define a pipeline comprising the steps:\n",
    "# SimpleImputer() with a strategy of 'median'\n",
    "# StandardScaler(),\n",
    "# and then RandomForestRegressor() with a random state of 47\n",
    "RF_pipe = make_pipeline(\n",
    "    SimpleImputer(strategy='median'),\n",
    "    StandardScaler(),\n",
    "    RandomForestRegressor(random_state=RANDOM_SEED)\n",
    ")"
   ]
  },
  {
   "cell_type": "markdown",
   "metadata": {},
   "source": [
    "## Fit the pipeline using CV"
   ]
  },
  {
   "cell_type": "code",
   "execution_count": 87,
   "metadata": {
    "ExecuteTime": {
     "end_time": "2021-08-11T22:28:07.280006Z",
     "start_time": "2021-08-11T22:28:06.386714Z"
    }
   },
   "outputs": [],
   "source": [
    "# Code task 23 #\n",
    "# Call `cross_validate` to estimate the pipeline's performance.\n",
    "# Pass it the random forest pipe object, `X_train` and `y_train`,\n",
    "# and get it to use 5-fold cross-validation\n",
    "rf_default_cv_results = cross_validate(RF_pipe, X_train, y_train, cv=5)"
   ]
  },
  {
   "cell_type": "code",
   "execution_count": 88,
   "metadata": {
    "ExecuteTime": {
     "end_time": "2021-08-11T22:28:07.283278Z",
     "start_time": "2021-08-11T22:28:07.280918Z"
    }
   },
   "outputs": [
    {
     "data": {
      "text/plain": [
       "array([0.6047725 , 0.76518362, 0.77108351, 0.65969584, 0.75344743])"
      ]
     },
     "execution_count": 88,
     "metadata": {},
     "output_type": "execute_result"
    }
   ],
   "source": [
    "rf_cv_scores = rf_default_cv_results[\"test_score\"]\n",
    "rf_cv_scores"
   ]
  },
  {
   "cell_type": "code",
   "execution_count": 89,
   "metadata": {
    "ExecuteTime": {
     "end_time": "2021-08-11T22:28:07.295207Z",
     "start_time": "2021-08-11T22:28:07.283987Z"
    }
   },
   "outputs": [
    {
     "data": {
      "text/plain": [
       "(0.710836580578581, 0.0667292148389386)"
      ]
     },
     "execution_count": 89,
     "metadata": {},
     "output_type": "execute_result"
    }
   ],
   "source": [
    "np.mean(rf_cv_scores), np.std(rf_cv_scores)"
   ]
  },
  {
   "cell_type": "markdown",
   "metadata": {},
   "source": [
    "## Hyperparameter search using GridSearchCV"
   ]
  },
  {
   "cell_type": "markdown",
   "metadata": {},
   "source": [
    "Random forest has a number of hyperparameters that can be explored, however here you'll limit yourselves to exploring some different values for the number of trees. You'll try it with and without feature scaling, and try both the mean and median as strategies for imputing missing values."
   ]
  },
  {
   "cell_type": "code",
   "execution_count": 90,
   "metadata": {
    "ExecuteTime": {
     "end_time": "2021-08-11T22:28:07.301105Z",
     "start_time": "2021-08-11T22:28:07.296026Z"
    }
   },
   "outputs": [
    {
     "data": {
      "text/plain": [
       "{'randomforestregressor__n_estimators': [10,\n",
       "  12,\n",
       "  16,\n",
       "  20,\n",
       "  26,\n",
       "  33,\n",
       "  42,\n",
       "  54,\n",
       "  69,\n",
       "  88,\n",
       "  112,\n",
       "  143,\n",
       "  183,\n",
       "  233,\n",
       "  297,\n",
       "  379,\n",
       "  483,\n",
       "  615,\n",
       "  784,\n",
       "  1000],\n",
       " 'standardscaler': [StandardScaler(), None],\n",
       " 'simpleimputer__strategy': ['mean', 'median']}"
      ]
     },
     "execution_count": 90,
     "metadata": {},
     "output_type": "execute_result"
    }
   ],
   "source": [
    "n_est = [int(n) for n in np.logspace(start=1, stop=3, num=20)]\n",
    "grid_params = {\n",
    "    \"randomforestregressor__n_estimators\": n_est,\n",
    "    \"standardscaler\": [StandardScaler(), None],\n",
    "    \"simpleimputer__strategy\": [\"mean\", \"median\"],\n",
    "}\n",
    "grid_params"
   ]
  },
  {
   "cell_type": "code",
   "execution_count": 91,
   "metadata": {
    "ExecuteTime": {
     "end_time": "2021-08-11T22:28:07.305741Z",
     "start_time": "2021-08-11T22:28:07.301952Z"
    }
   },
   "outputs": [],
   "source": [
    "# Code task 24#\n",
    "# Call `GridSearchCV` with the random forest pipeline, passing in the above `grid_params`\n",
    "# dict for parameters to evaluate, 5-fold cross-validation, and all available CPU cores (if desired)\n",
    "rf_grid_cv = GridSearchCV(RF_pipe, param_grid=grid_params, cv=5, n_jobs=-1)"
   ]
  },
  {
   "cell_type": "code",
   "execution_count": 92,
   "metadata": {
    "ExecuteTime": {
     "end_time": "2021-08-11T22:28:29.007344Z",
     "start_time": "2021-08-11T22:28:07.306556Z"
    }
   },
   "outputs": [
    {
     "data": {
      "text/plain": [
       "GridSearchCV(cv=5,\n",
       "             estimator=Pipeline(steps=[('simpleimputer',\n",
       "                                        SimpleImputer(strategy='median')),\n",
       "                                       ('standardscaler', StandardScaler()),\n",
       "                                       ('randomforestregressor',\n",
       "                                        RandomForestRegressor(random_state=51))]),\n",
       "             n_jobs=-1,\n",
       "             param_grid={'randomforestregressor__n_estimators': [10, 12, 16, 20,\n",
       "                                                                 26, 33, 42, 54,\n",
       "                                                                 69, 88, 112,\n",
       "                                                                 143, 183, 233,\n",
       "                                                                 297, 379, 483,\n",
       "                                                                 615, 784,\n",
       "                                                                 1000],\n",
       "                         'simpleimputer__strategy': ['mean', 'median'],\n",
       "                         'standardscaler': [StandardScaler(), None]})"
      ]
     },
     "execution_count": 92,
     "metadata": {},
     "output_type": "execute_result"
    }
   ],
   "source": [
    "# Code task 25 #\n",
    "# Now call the `GridSearchCV`'s `fit()` method with `X_train` and `y_train` as arguments\n",
    "# to actually start the grid search. This may take a minute or two.\n",
    "rf_grid_cv.fit(X_train, y_train)"
   ]
  },
  {
   "cell_type": "code",
   "execution_count": 93,
   "metadata": {
    "ExecuteTime": {
     "end_time": "2021-08-11T22:28:29.011114Z",
     "start_time": "2021-08-11T22:28:29.008407Z"
    }
   },
   "outputs": [
    {
     "data": {
      "text/plain": [
       "{'randomforestregressor__n_estimators': 379,\n",
       " 'simpleimputer__strategy': 'median',\n",
       " 'standardscaler': StandardScaler()}"
      ]
     },
     "execution_count": 93,
     "metadata": {},
     "output_type": "execute_result"
    }
   ],
   "source": [
    "# Code task 26 #\n",
    "# Print the best params (`best_params_` attribute) from the grid search\n",
    "rf_grid_cv.best_params_"
   ]
  },
  {
   "cell_type": "markdown",
   "metadata": {},
   "source": [
    "It looks like imputing with the median helps, but scaling the features doesn't."
   ]
  },
  {
   "cell_type": "code",
   "execution_count": 94,
   "metadata": {
    "ExecuteTime": {
     "end_time": "2021-08-11T22:28:32.373878Z",
     "start_time": "2021-08-11T22:28:29.012224Z"
    }
   },
   "outputs": [
    {
     "data": {
      "text/plain": [
       "array([0.61857279, 0.78236869, 0.76339337, 0.67383321, 0.75644732])"
      ]
     },
     "execution_count": 94,
     "metadata": {},
     "output_type": "execute_result"
    }
   ],
   "source": [
    "rf_best_cv_results = cross_validate(rf_grid_cv.best_estimator_, X_train, y_train, cv=5)\n",
    "rf_best_scores = rf_best_cv_results[\"test_score\"]\n",
    "rf_best_scores"
   ]
  },
  {
   "cell_type": "code",
   "execution_count": 95,
   "metadata": {
    "ExecuteTime": {
     "end_time": "2021-08-11T22:28:32.377070Z",
     "start_time": "2021-08-11T22:28:32.374647Z"
    }
   },
   "outputs": [
    {
     "data": {
      "text/plain": [
       "(0.7189230747150589, 0.062472872134423596)"
      ]
     },
     "execution_count": 95,
     "metadata": {},
     "output_type": "execute_result"
    }
   ],
   "source": [
    "np.mean(rf_best_scores), np.std(rf_best_scores)"
   ]
  },
  {
   "cell_type": "markdown",
   "metadata": {},
   "source": [
    "You've marginally improved upon the default CV results. Random forest has many more hyperparameters you could tune, but we won't dive into that here."
   ]
  },
  {
   "cell_type": "code",
   "execution_count": 96,
   "metadata": {
    "ExecuteTime": {
     "end_time": "2021-08-11T22:28:32.682215Z",
     "start_time": "2021-08-11T22:28:32.377808Z"
    }
   },
   "outputs": [
    {
     "data": {
      "image/png": "[encoded data removed]",
      "text/plain": [
       "<Figure size 1080x432 with 1 Axes>"
      ]
     },
     "metadata": {
      "needs_background": "light"
     },
     "output_type": "display_data"
    }
   ],
   "source": [
    "# Code task 27#\n",
    "# Plot a barplot of the random forest's feature importances,\n",
    "# assigning the `feature_importances_` attribute of\n",
    "# `rf_grid_cv.best_estimator_.named_steps.randomforestregressor` to the name `imps` to then\n",
    "# create a pandas Series object of the feature importances, with the index given by the\n",
    "# training data column names, sorting the values in descending order\n",
    "plt.subplots()\n",
    "imps = rf_grid_cv.best_estimator_.named_steps.randomforestregressor.feature_importances_\n",
    "rf_feat_imps = pd.Series(imps, index=X_train.columns).sort_values(ascending=False)\n",
    "rf_feat_imps.plot(kind=\"bar\")\n",
    "plt.xlabel(\"features\")\n",
    "plt.ylabel(\"importance\")\n",
    "plt.title(\"Best random forest regressor feature importances\");"
   ]
  },
  {
   "cell_type": "markdown",
   "metadata": {},
   "source": [
    "Encouragingly, the dominant top four features are in common with your linear model:\n",
    "* fastQuads\n",
    "* Runs\n",
    "* Snow Making_ac\n",
    "* vertical_drop"
   ]
  },
  {
   "cell_type": "markdown",
   "metadata": {
    "ExecuteTime": {
     "end_time": "2021-08-11T22:00:52.862348Z",
     "start_time": "2021-08-11T22:00:52.860070Z"
    }
   },
   "source": [
    "<div class=\"alert alert-block alert-info\">\n",
    "<b>MY CUSTOM ADDITION -- SHOW IT!</b></div>"
   ]
  },
  {
   "cell_type": "code",
   "execution_count": 97,
   "metadata": {
    "ExecuteTime": {
     "end_time": "2021-08-11T22:28:32.685232Z",
     "start_time": "2021-08-11T22:28:32.683080Z"
    }
   },
   "outputs": [
    {
     "name": "stdout",
     "output_type": "stream",
     "text": [
      "In Linear but not RF: {'longest_run_mi', 'total_chairs'}\n"
     ]
    }
   ],
   "source": [
    "print(\n",
    "    f'In Linear but not RF: {set(lin_mod_feat_imps.index[:5]).difference(set(rf_feat_imps.index[:5]))}'\n",
    ")"
   ]
  },
  {
   "cell_type": "code",
   "execution_count": 98,
   "metadata": {
    "ExecuteTime": {
     "end_time": "2021-08-11T22:28:32.693286Z",
     "start_time": "2021-08-11T22:28:32.685959Z"
    }
   },
   "outputs": [
    {
     "name": "stdout",
     "output_type": "stream",
     "text": [
      "In RF but not Linear: {'runs', 'skiable_terrain_ac'}\n"
     ]
    }
   ],
   "source": [
    "print(\n",
    "    f'In RF but not Linear: {set(rf_feat_imps.index[:5]).difference(set(lin_mod_feat_imps.index[:5]))}'\n",
    ")"
   ]
  },
  {
   "cell_type": "markdown",
   "metadata": {},
   "source": [
    "<div class=\"alert alert-block alert-info\">\n",
    "<b></b></div>"
   ]
  },
  {
   "cell_type": "markdown",
   "metadata": {},
   "source": [
    "# Final Model Selection"
   ]
  },
  {
   "cell_type": "markdown",
   "metadata": {},
   "source": [
    "Time to select your final model to use for further business modeling! It would be good to revisit the above model selection; there is undoubtedly more that could be done to explore possible hyperparameters.\n",
    "It would also be worthwhile to investigate removing the least useful features. Gathering or calculating, and storing, features adds business cost and dependencies, so if features genuinely are not needed they should be removed.\n",
    "Building a simpler model with fewer features can also have the advantage of being easier to sell (and/or explain) to stakeholders.\n",
    "Certainly there seem to be four strong features here and so a model using only those would probably work well.\n",
    "However, you want to explore some different scenarios where other features vary so keep the fuller \n",
    "model for now. \n",
    "The business is waiting for this model and you have something that you have confidence in to be much better than guessing with the average price.\n",
    "\n",
    "Or, rather, you have two \"somethings\". You built a best linear model and a best random forest model. You need to finally choose between them. You can calculate the mean absolute error using cross-validation. Although `cross-validate` defaults to the $R^2$ [metric for scoring](https://scikit-learn.org/stable/modules/model_evaluation.html#scoring) regression, you can specify the mean absolute error as an alternative via\n",
    "the `scoring` parameter."
   ]
  },
  {
   "cell_type": "markdown",
   "metadata": {},
   "source": [
    "## Linear regression model performance"
   ]
  },
  {
   "cell_type": "code",
   "execution_count": 99,
   "metadata": {
    "ExecuteTime": {
     "end_time": "2021-08-11T22:28:32.714254Z",
     "start_time": "2021-08-11T22:28:32.693965Z"
    }
   },
   "outputs": [],
   "source": [
    "# 'neg_mean_absolute_error' uses the (negative of) the mean absolute error\n",
    "lr_neg_mae = cross_validate(\n",
    "    lr_grid_cv.best_estimator_,\n",
    "    X_train,\n",
    "    y_train,\n",
    "    scoring=\"neg_mean_absolute_error\",\n",
    "    cv=5,\n",
    "    n_jobs=-1,\n",
    ")"
   ]
  },
  {
   "cell_type": "code",
   "execution_count": 100,
   "metadata": {
    "ExecuteTime": {
     "end_time": "2021-08-11T22:28:32.720067Z",
     "start_time": "2021-08-11T22:28:32.715399Z"
    }
   },
   "outputs": [
    {
     "data": {
      "text/plain": [
       "(10.0152550851037, 1.13678383497758)"
      ]
     },
     "execution_count": 100,
     "metadata": {},
     "output_type": "execute_result"
    }
   ],
   "source": [
    "lr_mae_mean = np.mean(-1 * lr_neg_mae[\"test_score\"])\n",
    "lr_mae_std = np.std(-1 * lr_neg_mae[\"test_score\"])\n",
    "lr_mae_mean, lr_mae_std"
   ]
  },
  {
   "cell_type": "code",
   "execution_count": 101,
   "metadata": {
    "ExecuteTime": {
     "end_time": "2021-08-11T22:28:32.729536Z",
     "start_time": "2021-08-11T22:28:32.721888Z"
    }
   },
   "outputs": [
    {
     "data": {
      "text/plain": [
       "10.890505849497153"
      ]
     },
     "execution_count": 101,
     "metadata": {},
     "output_type": "execute_result"
    }
   ],
   "source": [
    "mean_absolute_error(y_test, lr_grid_cv.best_estimator_.predict(X_test))"
   ]
  },
  {
   "cell_type": "markdown",
   "metadata": {},
   "source": [
    "## Random forest regression model performance"
   ]
  },
  {
   "cell_type": "code",
   "execution_count": 102,
   "metadata": {
    "ExecuteTime": {
     "end_time": "2021-08-11T22:28:33.589536Z",
     "start_time": "2021-08-11T22:28:32.730939Z"
    }
   },
   "outputs": [],
   "source": [
    "rf_neg_mae = cross_validate(\n",
    "    rf_grid_cv.best_estimator_,\n",
    "    X_train,\n",
    "    y_train,\n",
    "    scoring=\"neg_mean_absolute_error\",\n",
    "    cv=5,\n",
    "    n_jobs=-1,\n",
    ")"
   ]
  },
  {
   "cell_type": "code",
   "execution_count": 103,
   "metadata": {
    "ExecuteTime": {
     "end_time": "2021-08-11T22:28:33.595024Z",
     "start_time": "2021-08-11T22:28:33.590740Z"
    }
   },
   "outputs": [
    {
     "data": {
      "text/plain": [
       "(9.510072820216413, 0.7580746633741362)"
      ]
     },
     "execution_count": 103,
     "metadata": {},
     "output_type": "execute_result"
    }
   ],
   "source": [
    "rf_mae_mean = np.mean(-1 * rf_neg_mae[\"test_score\"])\n",
    "rf_mae_std = np.std(-1 * rf_neg_mae[\"test_score\"])\n",
    "rf_mae_mean, rf_mae_std"
   ]
  },
  {
   "cell_type": "code",
   "execution_count": 104,
   "metadata": {
    "ExecuteTime": {
     "end_time": "2021-08-11T22:28:33.656991Z",
     "start_time": "2021-08-11T22:28:33.596751Z"
    }
   },
   "outputs": [
    {
     "data": {
      "text/plain": [
       "10.1584634678654"
      ]
     },
     "execution_count": 104,
     "metadata": {},
     "output_type": "execute_result"
    }
   ],
   "source": [
    "mean_absolute_error(y_test, rf_grid_cv.best_estimator_.predict(X_test))"
   ]
  },
  {
   "cell_type": "markdown",
   "metadata": {},
   "source": [
    "## Conclusion"
   ]
  },
  {
   "cell_type": "markdown",
   "metadata": {},
   "source": [
    "The random forest model has a lower cross-validation mean absolute error by almost \\\\$1. It also exhibits less variability. Verifying performance on the test set produces performance consistent with the cross-validation results."
   ]
  },
  {
   "cell_type": "markdown",
   "metadata": {},
   "source": [
    "# Data quantity assessment"
   ]
  },
  {
   "cell_type": "markdown",
   "metadata": {},
   "source": [
    "Finally, you need to advise the business whether it needs to undertake further data collection. Would more data be useful? We're often led to believe more data is always good, but gathering data invariably has a cost associated with it. Assess this trade off by seeing how performance varies with differing data set sizes. The `learning_curve` function does this conveniently."
   ]
  },
  {
   "cell_type": "code",
   "execution_count": 105,
   "metadata": {
    "ExecuteTime": {
     "end_time": "2021-08-11T22:28:34.075400Z",
     "start_time": "2021-08-11T22:28:33.658286Z"
    }
   },
   "outputs": [],
   "source": [
    "fractions = [0.2, 0.25, 0.3, 0.35, 0.4, 0.45, 0.5, 0.6, 0.75, 0.8, 1.0]\n",
    "train_size, train_scores, test_scores = learning_curve(\n",
    "    pipe, X_train, y_train, train_sizes=fractions\n",
    ")\n",
    "train_scores_mean = np.mean(train_scores, axis=1)\n",
    "train_scores_std = np.std(train_scores, axis=1)\n",
    "test_scores_mean = np.mean(test_scores, axis=1)\n",
    "test_scores_std = np.std(test_scores, axis=1)"
   ]
  },
  {
   "cell_type": "code",
   "execution_count": 106,
   "metadata": {
    "ExecuteTime": {
     "end_time": "2021-08-11T22:28:34.190047Z",
     "start_time": "2021-08-11T22:28:34.076319Z"
    }
   },
   "outputs": [
    {
     "data": {
      "image/png": "[encoded data removed]",
      "text/plain": [
       "<Figure size 1080x432 with 1 Axes>"
      ]
     },
     "metadata": {
      "needs_background": "light"
     },
     "output_type": "display_data"
    }
   ],
   "source": [
    "plt.subplots()\n",
    "plt.errorbar(train_size, test_scores_mean, yerr=test_scores_std)\n",
    "plt.xlabel(\"Training set size\")\n",
    "plt.ylabel(\"CV scores\")\n",
    "plt.title(\"Cross-validation score as training set size increases\");"
   ]
  },
  {
   "cell_type": "markdown",
   "metadata": {},
   "source": [
    "This shows that you seem to have plenty of data. There's an initial rapid improvement in model scores as one would expect, but it's essentially levelled off by around a sample size of 40-50."
   ]
  },
  {
   "cell_type": "markdown",
   "metadata": {},
   "source": [
    "# Save best model object from pipeline"
   ]
  },
  {
   "cell_type": "code",
   "execution_count": 107,
   "metadata": {
    "ExecuteTime": {
     "end_time": "2021-08-11T22:28:34.193445Z",
     "start_time": "2021-08-11T22:28:34.190799Z"
    }
   },
   "outputs": [],
   "source": [
    "# Code task 28#\n",
    "# This may not be \"production grade ML deployment\" practice, but adding some basic\n",
    "# information to your saved models can save your bacon in development.\n",
    "# Just what version model have you just loaded to reuse? What version of `sklearn`\n",
    "# created it? When did you make it?\n",
    "# Assign the pandas version number (`pd.__version__`) to the `pandas_version` attribute,\n",
    "# the numpy version (`np.__version__`) to the `numpy_version` attribute,\n",
    "# the sklearn version (`sklearn_version`) to the `sklearn_version` attribute,\n",
    "# and the current datetime (`datetime.datetime.now()`) to the `build_datetime` attribute\n",
    "# Let's call this model version '1.0'\n",
    "best_model = rf_grid_cv.best_estimator_\n",
    "best_model.version = \"1.0.0\"\n",
    "best_model.pandas_version = pd.__version__\n",
    "best_model.numpy_version = np.__version__\n",
    "best_model.sklearn_version = sklearn_version\n",
    "best_model.X_columns = [col for col in X_train.columns]\n",
    "best_model.build_datetime = datetime.datetime.now()"
   ]
  },
  {
   "cell_type": "code",
   "execution_count": 108,
   "metadata": {
    "ExecuteTime": {
     "end_time": "2021-08-11T22:28:34.311555Z",
     "start_time": "2021-08-11T22:28:34.194144Z"
    }
   },
   "outputs": [
    {
     "data": {
      "text/plain": [
       "['../models/ski_resort_pricing_model.joblib']"
      ]
     },
     "execution_count": 108,
     "metadata": {},
     "output_type": "execute_result"
    }
   ],
   "source": [
    "# save the model to disk\n",
    "filename = '../models/ski_resort_pricing_model.joblib'\n",
    "joblib.dump(best_model, filename)"
   ]
  },
  {
   "cell_type": "markdown",
   "metadata": {},
   "source": [
    "# Summary"
   ]
  },
  {
   "cell_type": "markdown",
   "metadata": {},
   "source": [
    "**Q: 1** Write a summary of the work in this notebook. Capture the fact that you gained a baseline idea of performance by simply taking the average price and how well that did. Then highlight that you built a linear model and the features that found. Comment on the estimate of its performance from cross-validation and whether its performance on the test split was consistent with this estimate. Also highlight that a random forest regressor was tried, what preprocessing steps were found to be best, and again what its estimated performance via cross-validation was and whether its performance on the test set was consistent with that. State which model you have decided to use going forwards and why. This summary should provide a quick overview for someone wanting to know quickly why the given model was chosen for the next part of the business problem to help guide important business decisions."
   ]
  },
  {
   "cell_type": "markdown",
   "metadata": {},
   "source": [
    "**A: 1** Your answer here"
   ]
  },
  {
   "cell_type": "code",
   "execution_count": null,
   "metadata": {},
   "outputs": [],
   "source": []
  }
 ],
 "metadata": {
  "kernelspec": {
   "display_name": "Python 3 (ipykernel)",
   "language": "python",
   "name": "python3"
  },
  "language_info": {
   "codemirror_mode": {
    "name": "ipython",
    "version": 3
   },
   "file_extension": ".py",
   "mimetype": "text/x-python",
   "name": "python",
   "nbconvert_exporter": "python",
   "pygments_lexer": "ipython3",
   "version": "3.8.0"
  },
  "toc": {
   "base_numbering": 1,
   "nav_menu": {},
   "number_sections": true,
   "sideBar": true,
   "skip_h1_title": false,
   "title_cell": "Table of Contents",
   "title_sidebar": "Contents",
   "toc_cell": false,
   "toc_position": {
    "height": "calc(100% - 180px)",
    "left": "10px",
    "top": "150px",
    "width": "407px"
   },
   "toc_section_display": true,
   "toc_window_display": true
  },
  "varInspector": {
   "cols": {
    "lenName": 16,
    "lenType": 16,
    "lenVar": 40
   },
   "kernels_config": {
    "python": {
     "delete_cmd_postfix": "",
     "delete_cmd_prefix": "del ",
     "library": "var_list.py",
     "varRefreshCmd": "print(var_dic_list())"
    },
    "r": {
     "delete_cmd_postfix": ") ",
     "delete_cmd_prefix": "rm(",
     "library": "var_list.r",
     "varRefreshCmd": "cat(var_dic_list()) "
    }
   },
   "types_to_exclude": [
    "module",
    "function",
    "builtin_function_or_method",
    "instance",
    "_Feature"
   ],
   "window_display": false
  }
 },
 "nbformat": 4,
 "nbformat_minor": 4
}
