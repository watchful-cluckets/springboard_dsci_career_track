{
 "cells": [
  {
   "cell_type": "markdown",
   "id": "46ae5a55",
   "metadata": {},
   "source": [
    "A self-contained notebook for code associated with concepts you will face in [Statistical Thinking in Python (Part 2)](https://campus.datacamp.com/courses/statistical-thinking-in-python-part-2)"
   ]
  },
  {
   "cell_type": "markdown",
   "id": "60ee76d1",
   "metadata": {
    "heading_collapsed": true
   },
   "source": [
    "# Imports"
   ]
  },
  {
   "cell_type": "code",
   "execution_count": 1,
   "id": "a8a8bfe8",
   "metadata": {
    "ExecuteTime": {
     "end_time": "2021-08-20T18:31:05.095570Z",
     "start_time": "2021-08-20T18:31:05.093301Z"
    },
    "hidden": true
   },
   "outputs": [],
   "source": [
    "import datetime\n",
    "import glob\n",
    "import itertools\n",
    "import json\n",
    "import os\n",
    "import pickle\n",
    "import random\n",
    "import re\n",
    "from string import punctuation"
   ]
  },
  {
   "cell_type": "code",
   "execution_count": 2,
   "id": "b84ba959",
   "metadata": {
    "ExecuteTime": {
     "end_time": "2021-08-20T18:31:06.611773Z",
     "start_time": "2021-08-20T18:31:05.097844Z"
    },
    "hidden": true
   },
   "outputs": [],
   "source": [
    "import statistics\n",
    "\n",
    "import fuzzywuzzy\n",
    "import geopandas as gpd\n",
    "import humanize\n",
    "import missingno as msno\n",
    "import numpy as np\n",
    "import pandas as pd\n",
    "import recordlinkage\n",
    "import scipy as sp\n",
    "import statsmodels.formula.api as smf\n",
    "from pandas_profiling import ProfileReport"
   ]
  },
  {
   "cell_type": "code",
   "execution_count": 3,
   "id": "a1cdca0d",
   "metadata": {
    "ExecuteTime": {
     "end_time": "2021-08-20T18:31:06.760007Z",
     "start_time": "2021-08-20T18:31:06.612843Z"
    },
    "hidden": true
   },
   "outputs": [],
   "source": [
    "SMALL_SIZE = 10\n",
    "MEDIUM_SIZE = 14\n",
    "BIGGER_SIZE = 18\n",
    "MAPBOX_STYLE = \"dark\"\n",
    "MAPBOX_HEIGHT = 800\n",
    "%matplotlib inline\n",
    "import matplotlib as mpl\n",
    "import matplotlib.font_manager\n",
    "import matplotlib.pyplot as plt\n",
    "import plotly.express as px\n",
    "import plotly.graph_objects as go\n",
    "import seaborn as sns\n",
    "from matplotlib.ticker import PercentFormatter\n",
    "\n",
    "px.set_mapbox_access_token(os.getenv(\"MAPBOX_TOKEN\"))\n",
    "matplotlib.font_manager.findSystemFonts(fontpaths=None, fontext=\"ttf\")\n",
    "plt.style.use(\"seaborn-colorblind\")\n",
    "plt.rcParams[\"font.family\"] = \"sans-serif\"\n",
    "plt.rcParams[\"font.sans-serif\"] = \"Open Sans\"\n",
    "plt.rcParams[\"figure.figsize\"] = 15, 6\n",
    "plt.rc(\"font\", size=SMALL_SIZE)  # controls default text sizes\n",
    "plt.rc(\"axes\", titlesize=SMALL_SIZE)  # fontsize of the axes title\n",
    "plt.rc(\"axes\", labelsize=MEDIUM_SIZE)  # fontsize of the x and y labels\n",
    "plt.rc(\"xtick\", labelsize=SMALL_SIZE)  # fontsize of the tick labels\n",
    "plt.rc(\"ytick\", labelsize=SMALL_SIZE)  # fontsize of the tick labels\n",
    "plt.rc(\"legend\", fontsize=SMALL_SIZE)  # legend fontsize\n",
    "plt.rc(\"figure\", titlesize=BIGGER_SIZE)  # fontsize of the figure title"
   ]
  },
  {
   "cell_type": "markdown",
   "id": "197e4413",
   "metadata": {
    "heading_collapsed": true
   },
   "source": [
    "# Functions"
   ]
  },
  {
   "cell_type": "code",
   "execution_count": 4,
   "id": "995189ae",
   "metadata": {
    "ExecuteTime": {
     "end_time": "2021-08-20T18:31:06.763386Z",
     "start_time": "2021-08-20T18:31:06.761047Z"
    },
    "hidden": true
   },
   "outputs": [],
   "source": [
    "def pearson_r(x, y):\n",
    "    \"\"\"Compute Pearson correlation coefficient between two arrays.\"\"\"\n",
    "\n",
    "    # Compute correlation matrix: corr_mat\n",
    "    corr_mat = np.corrcoef(x, y)\n",
    "\n",
    "    # Return entry [0,1]\n",
    "    return corr_mat[0, 1]"
   ]
  },
  {
   "cell_type": "code",
   "execution_count": 5,
   "id": "b974b99c",
   "metadata": {
    "ExecuteTime": {
     "end_time": "2021-08-20T18:31:06.768550Z",
     "start_time": "2021-08-20T18:31:06.764311Z"
    },
    "hidden": true
   },
   "outputs": [],
   "source": [
    "def ecdf(data):\n",
    "    \"\"\"Compute ECDF for a one-dimensional array of measurements.\"\"\"\n",
    "\n",
    "    # Number of data points: n\n",
    "    n = len(data)\n",
    "\n",
    "    # x-data for the ECDF: x\n",
    "    x = np.sort(data)\n",
    "\n",
    "    # y-data for the ECDF: y\n",
    "    y = np.arange(1, n + 1) / n\n",
    "\n",
    "    return x, y"
   ]
  },
  {
   "cell_type": "code",
   "execution_count": 6,
   "id": "7f877799",
   "metadata": {
    "ExecuteTime": {
     "end_time": "2021-08-20T18:31:06.773377Z",
     "start_time": "2021-08-20T18:31:06.769477Z"
    },
    "hidden": true
   },
   "outputs": [],
   "source": [
    "def bootstrap_replicate_1d(data, func):\n",
    "    \"\"\"Generate bootstrap replicate of 1D data.\"\"\"\n",
    "\n",
    "    bs_sample = np.random.choice(data, len(data))\n",
    "    return func(bs_sample)"
   ]
  },
  {
   "cell_type": "code",
   "execution_count": 7,
   "id": "17593612",
   "metadata": {
    "ExecuteTime": {
     "end_time": "2021-08-20T18:31:06.778389Z",
     "start_time": "2021-08-20T18:31:06.774286Z"
    },
    "hidden": true
   },
   "outputs": [],
   "source": [
    "def draw_bs_reps(data, func, size=None):\n",
    "    \"\"\"Draw bootstrap replicates.\"\"\"\n",
    "\n",
    "    # Initialize array of replicates\n",
    "    bs_replicates = np.empty(size)\n",
    "\n",
    "    # Generate replicates\n",
    "    for i in range(size):\n",
    "        bs_replicates[i] = bootstrap_replicate_1d(data, func)\n",
    "    return bs_replicates"
   ]
  },
  {
   "cell_type": "code",
   "execution_count": 8,
   "id": "27b888ec",
   "metadata": {
    "ExecuteTime": {
     "end_time": "2021-08-20T18:31:06.784838Z",
     "start_time": "2021-08-20T18:31:06.780497Z"
    },
    "hidden": true
   },
   "outputs": [],
   "source": [
    "def draw_bs_pairs_linreg(x, y, size=1):\n",
    "    \"\"\"Perform pairs bootstrap for linear regression.\"\"\"\n",
    "\n",
    "    # Set up array of indices to sample from: inds\n",
    "    inds = np.arange(0, len(x))\n",
    "\n",
    "    # Initialize replicates: bs_slope_reps, bs_intercept_reps\n",
    "    bs_slope_reps = np.empty(size)\n",
    "    bs_intercept_reps = np.empty(size)\n",
    "\n",
    "    # Generate replicates\n",
    "    for i in range(size):\n",
    "        bs_inds = np.random.choice(inds, size=len(inds))\n",
    "        bs_x, bs_y = x[bs_inds], y[bs_inds]\n",
    "        bs_slope_reps[i], bs_intercept_reps[i] = np.polyfit(bs_x, bs_y, deg=1)\n",
    "\n",
    "    return bs_slope_reps, bs_intercept_reps"
   ]
  },
  {
   "cell_type": "code",
   "execution_count": 9,
   "id": "12f5d81a",
   "metadata": {
    "ExecuteTime": {
     "end_time": "2021-08-20T18:31:06.789771Z",
     "start_time": "2021-08-20T18:31:06.785659Z"
    },
    "hidden": true
   },
   "outputs": [],
   "source": [
    "def permutation_sample(data1, data2):\n",
    "    \"\"\"Generate a permutation sample from two data sets.\"\"\"\n",
    "\n",
    "    # Concatenate the data sets: data\n",
    "    data = np.concatenate([data1, data2])\n",
    "\n",
    "    # Permute the concatenated array: permuted_data\n",
    "    permuted_data = np.random.permutation(data)\n",
    "\n",
    "    # Split the permuted array into two: perm_sample_1, perm_sample_2\n",
    "    perm_sample_1 = permuted_data[: len(data1)]\n",
    "    perm_sample_2 = permuted_data[len(data1) :]\n",
    "\n",
    "    return perm_sample_1, perm_sample_2"
   ]
  },
  {
   "cell_type": "code",
   "execution_count": 10,
   "id": "39defb35",
   "metadata": {
    "ExecuteTime": {
     "end_time": "2021-08-20T18:31:06.794522Z",
     "start_time": "2021-08-20T18:31:06.790516Z"
    },
    "hidden": true
   },
   "outputs": [],
   "source": [
    "def draw_perm_reps(data_1, data_2, func, size=1):\n",
    "    \"\"\"Generate multiple permutation replicates.\"\"\"\n",
    "\n",
    "    # Initialize array of replicates: perm_replicates\n",
    "    perm_replicates = np.empty(size)\n",
    "\n",
    "    for i in range(size):\n",
    "        # Generate permutation sample\n",
    "        perm_sample_1, perm_sample_2 = permutation_sample(data_1, data_2)\n",
    "\n",
    "        # Compute the test statistic\n",
    "        perm_replicates[i] = func(perm_sample_1, perm_sample_2)\n",
    "\n",
    "    return perm_replicates"
   ]
  },
  {
   "cell_type": "code",
   "execution_count": 11,
   "id": "1bc5a6d5",
   "metadata": {
    "ExecuteTime": {
     "end_time": "2021-08-20T18:31:06.799200Z",
     "start_time": "2021-08-20T18:31:06.795255Z"
    },
    "hidden": true
   },
   "outputs": [],
   "source": [
    "def diff_of_means(data_1, data_2):\n",
    "    \"\"\"Difference in means of two arrays.\"\"\"\n",
    "\n",
    "    # The difference of means of data_1, data_2: diff\n",
    "    diff = data_1.mean() - data_2.mean()\n",
    "\n",
    "    return diff"
   ]
  },
  {
   "cell_type": "markdown",
   "id": "edc2dbe1",
   "metadata": {
    "heading_collapsed": true
   },
   "source": [
    "# Parameter Estimation by Optimization"
   ]
  },
  {
   "cell_type": "markdown",
   "id": "085cb6e6",
   "metadata": {
    "hidden": true
   },
   "source": [
    "## Optimal Parameters"
   ]
  },
  {
   "cell_type": "markdown",
   "id": "bb805b4e",
   "metadata": {
    "hidden": true
   },
   "source": [
    "If you assume that no-hitters are described as a Poisson process, then the time between no-hitters is Exponentially distributed."
   ]
  },
  {
   "cell_type": "code",
   "execution_count": 12,
   "id": "9dc81fe9",
   "metadata": {
    "ExecuteTime": {
     "end_time": "2021-08-20T18:31:06.807196Z",
     "start_time": "2021-08-20T18:31:06.799936Z"
    },
    "hidden": true
   },
   "outputs": [],
   "source": [
    "nohitter_times = np.array(\n",
    "    [\n",
    "        843,\n",
    "        1613,\n",
    "        1101,\n",
    "        215,\n",
    "        684,\n",
    "        814,\n",
    "        278,\n",
    "        324,\n",
    "        161,\n",
    "        219,\n",
    "        545,\n",
    "        715,\n",
    "        966,\n",
    "        624,\n",
    "        29,\n",
    "        450,\n",
    "        107,\n",
    "        20,\n",
    "        91,\n",
    "        1325,\n",
    "        124,\n",
    "        1468,\n",
    "        104,\n",
    "        1309,\n",
    "        429,\n",
    "        62,\n",
    "        1878,\n",
    "        1104,\n",
    "        123,\n",
    "        251,\n",
    "        93,\n",
    "        188,\n",
    "        983,\n",
    "        166,\n",
    "        96,\n",
    "        702,\n",
    "        23,\n",
    "        524,\n",
    "        26,\n",
    "        299,\n",
    "        59,\n",
    "        39,\n",
    "        12,\n",
    "        2,\n",
    "        308,\n",
    "        1114,\n",
    "        813,\n",
    "        887,\n",
    "        645,\n",
    "        2088,\n",
    "        42,\n",
    "        2090,\n",
    "        11,\n",
    "        886,\n",
    "        1665,\n",
    "        1084,\n",
    "        2900,\n",
    "        2432,\n",
    "        750,\n",
    "        4021,\n",
    "        1070,\n",
    "        1765,\n",
    "        1322,\n",
    "        26,\n",
    "        548,\n",
    "        1525,\n",
    "        77,\n",
    "        2181,\n",
    "        2752,\n",
    "        127,\n",
    "        2147,\n",
    "        211,\n",
    "        41,\n",
    "        1575,\n",
    "        151,\n",
    "        479,\n",
    "        697,\n",
    "        557,\n",
    "        2267,\n",
    "        542,\n",
    "        392,\n",
    "        73,\n",
    "        603,\n",
    "        233,\n",
    "        255,\n",
    "        528,\n",
    "        397,\n",
    "        1529,\n",
    "        1023,\n",
    "        1194,\n",
    "        462,\n",
    "        583,\n",
    "        37,\n",
    "        943,\n",
    "        996,\n",
    "        480,\n",
    "        1497,\n",
    "        717,\n",
    "        224,\n",
    "        219,\n",
    "        1531,\n",
    "        498,\n",
    "        44,\n",
    "        288,\n",
    "        267,\n",
    "        600,\n",
    "        52,\n",
    "        269,\n",
    "        1086,\n",
    "        386,\n",
    "        176,\n",
    "        2199,\n",
    "        216,\n",
    "        54,\n",
    "        675,\n",
    "        1243,\n",
    "        463,\n",
    "        650,\n",
    "        171,\n",
    "        327,\n",
    "        110,\n",
    "        774,\n",
    "        509,\n",
    "        8,\n",
    "        197,\n",
    "        136,\n",
    "        12,\n",
    "        1124,\n",
    "        64,\n",
    "        380,\n",
    "        811,\n",
    "        232,\n",
    "        192,\n",
    "        731,\n",
    "        715,\n",
    "        226,\n",
    "        605,\n",
    "        539,\n",
    "        1491,\n",
    "        323,\n",
    "        240,\n",
    "        179,\n",
    "        702,\n",
    "        156,\n",
    "        82,\n",
    "        1397,\n",
    "        354,\n",
    "        778,\n",
    "        603,\n",
    "        1001,\n",
    "        385,\n",
    "        986,\n",
    "        203,\n",
    "        149,\n",
    "        576,\n",
    "        445,\n",
    "        180,\n",
    "        1403,\n",
    "        252,\n",
    "        675,\n",
    "        1351,\n",
    "        2983,\n",
    "        1568,\n",
    "        45,\n",
    "        899,\n",
    "        3260,\n",
    "        1025,\n",
    "        31,\n",
    "        100,\n",
    "        2055,\n",
    "        4043,\n",
    "        79,\n",
    "        238,\n",
    "        3931,\n",
    "        2351,\n",
    "        595,\n",
    "        110,\n",
    "        215,\n",
    "        0,\n",
    "        563,\n",
    "        206,\n",
    "        660,\n",
    "        242,\n",
    "        577,\n",
    "        179,\n",
    "        157,\n",
    "        192,\n",
    "        192,\n",
    "        1848,\n",
    "        792,\n",
    "        1693,\n",
    "        55,\n",
    "        388,\n",
    "        225,\n",
    "        1134,\n",
    "        1172,\n",
    "        1555,\n",
    "        31,\n",
    "        1582,\n",
    "        1044,\n",
    "        378,\n",
    "        1687,\n",
    "        2915,\n",
    "        280,\n",
    "        765,\n",
    "        2819,\n",
    "        511,\n",
    "        1521,\n",
    "        745,\n",
    "        2491,\n",
    "        580,\n",
    "        2072,\n",
    "        6450,\n",
    "        578,\n",
    "        745,\n",
    "        1075,\n",
    "        1103,\n",
    "        1549,\n",
    "        1520,\n",
    "        138,\n",
    "        1202,\n",
    "        296,\n",
    "        277,\n",
    "        351,\n",
    "        391,\n",
    "        950,\n",
    "        459,\n",
    "        62,\n",
    "        1056,\n",
    "        1128,\n",
    "        139,\n",
    "        420,\n",
    "        87,\n",
    "        71,\n",
    "        814,\n",
    "        603,\n",
    "        1349,\n",
    "        162,\n",
    "        1027,\n",
    "        783,\n",
    "        326,\n",
    "        101,\n",
    "        876,\n",
    "        381,\n",
    "        905,\n",
    "        156,\n",
    "        419,\n",
    "        239,\n",
    "        119,\n",
    "        129,\n",
    "        467,\n",
    "    ]\n",
    ")"
   ]
  },
  {
   "cell_type": "code",
   "execution_count": 13,
   "id": "26b8a9c5",
   "metadata": {
    "ExecuteTime": {
     "end_time": "2021-08-20T18:31:06.933881Z",
     "start_time": "2021-08-20T18:31:06.807934Z"
    },
    "hidden": true
   },
   "outputs": [
    {
     "name": "stderr",
     "output_type": "stream",
     "text": [
      "WARNING:matplotlib.font_manager:findfont: Font family ['sans-serif'] not found. Falling back to DejaVu Sans.\n",
      "WARNING:matplotlib.font_manager:findfont: Generic family 'sans-serif' not found because none of the following families were found: Open Sans\n",
      "WARNING:matplotlib.font_manager:findfont: Font family ['sans-serif'] not found. Falling back to DejaVu Sans.\n",
      "WARNING:matplotlib.font_manager:findfont: Generic family 'sans-serif' not found because none of the following families were found: Open Sans\n"
     ]
    },
    {
     "data": {
      "image/png": "[encoded data removed]",
      "text/plain": [
       "<Figure size 1080x432 with 1 Axes>"
      ]
     },
     "metadata": {
      "needs_background": "light"
     },
     "output_type": "display_data"
    }
   ],
   "source": [
    "# Seed random number generator\n",
    "np.random.seed(42)\n",
    "\n",
    "# Compute mean no-hitter time: tau\n",
    "tau = nohitter_times.mean()\n",
    "\n",
    "# Draw out of an exponential distribution with parameter tau: inter_nohitter_time\n",
    "inter_nohitter_time = np.random.exponential(tau, 100000)\n",
    "\n",
    "# Plot the PDF and label axes\n",
    "plt.hist(inter_nohitter_time, bins=50, density=True, histtype=\"step\")\n",
    "plt.xlabel(\"Games between no-hitters\")\n",
    "plt.ylabel(\"PDF\")\n",
    "\n",
    "# Show the plot\n",
    "plt.show()"
   ]
  },
  {
   "cell_type": "markdown",
   "id": "8761ac25",
   "metadata": {
    "hidden": true
   },
   "source": [
    "## ECDF Actual Data"
   ]
  },
  {
   "cell_type": "code",
   "execution_count": 14,
   "id": "b0311237",
   "metadata": {
    "ExecuteTime": {
     "end_time": "2021-08-20T18:31:07.056546Z",
     "start_time": "2021-08-20T18:31:06.935276Z"
    },
    "hidden": true
   },
   "outputs": [
    {
     "data": {
      "image/png": "[encoded data removed]",
      "text/plain": [
       "<Figure size 1080x432 with 1 Axes>"
      ]
     },
     "metadata": {
      "needs_background": "light"
     },
     "output_type": "display_data"
    }
   ],
   "source": [
    "# Create an ECDF from real data: x, y\n",
    "x, y = ecdf(nohitter_times)\n",
    "\n",
    "# Create a CDF from theoretical samples: x_theor, y_theor\n",
    "x_theor, y_theor = ecdf(inter_nohitter_time)\n",
    "\n",
    "# Overlay the plots\n",
    "plt.plot(x_theor, y_theor)\n",
    "plt.plot(x, y, marker=\".\", linestyle=\"none\")\n",
    "\n",
    "# Margins and axis labels\n",
    "plt.margins(0.02)\n",
    "plt.xlabel(\"Games between no-hitters\")\n",
    "plt.ylabel(\"CDF\")\n",
    "\n",
    "# Show the plot\n",
    "plt.show()"
   ]
  },
  {
   "cell_type": "markdown",
   "id": "948cc5ec",
   "metadata": {
    "hidden": true
   },
   "source": [
    "## Alternate CDFs"
   ]
  },
  {
   "cell_type": "code",
   "execution_count": 15,
   "id": "52fa5278",
   "metadata": {
    "ExecuteTime": {
     "end_time": "2021-08-20T18:31:07.262143Z",
     "start_time": "2021-08-20T18:31:07.057576Z"
    },
    "hidden": true
   },
   "outputs": [
    {
     "data": {
      "image/png": "[encoded data removed]",
      "text/plain": [
       "<Figure size 1080x432 with 1 Axes>"
      ]
     },
     "metadata": {
      "needs_background": "light"
     },
     "output_type": "display_data"
    }
   ],
   "source": [
    "# Plot the theoretical CDFs\n",
    "plt.plot(x_theor, y_theor)\n",
    "plt.plot(x, y, marker=\".\", linestyle=\"none\")\n",
    "plt.margins(0.02)\n",
    "plt.xlabel(\"Games between no-hitters\")\n",
    "plt.ylabel(\"CDF\")\n",
    "\n",
    "# Take samples with half tau: samples_half\n",
    "samples_half = np.random.exponential(0.5 * tau, size=10000)\n",
    "\n",
    "# Take samples with double tau: samples_double\n",
    "samples_double = np.random.exponential(2.0 * tau, size=10000)\n",
    "\n",
    "# Generate CDFs from these samples\n",
    "x_half, y_half = ecdf(samples_half)\n",
    "x_double, y_double = ecdf(samples_double)\n",
    "\n",
    "# Plot these CDFs as lines\n",
    "_ = plt.plot(x_half, y_half)\n",
    "_ = plt.plot(x_double, y_double)\n",
    "\n",
    "# Show the plot\n",
    "plt.show()"
   ]
  },
  {
   "cell_type": "markdown",
   "id": "b9c155d1",
   "metadata": {
    "hidden": true
   },
   "source": [
    "## Optimal residual sum of squares (RSS)"
   ]
  },
  {
   "cell_type": "code",
   "execution_count": 16,
   "id": "9686fdb5",
   "metadata": {
    "ExecuteTime": {
     "end_time": "2021-08-20T18:31:07.272132Z",
     "start_time": "2021-08-20T18:31:07.263104Z"
    },
    "hidden": true
   },
   "outputs": [],
   "source": [
    "illiteracy = np.array(\n",
    "    [\n",
    "        9.5,\n",
    "        49.2,\n",
    "        1.0,\n",
    "        11.2,\n",
    "        9.8,\n",
    "        60.0,\n",
    "        50.2,\n",
    "        51.2,\n",
    "        0.6,\n",
    "        1.0,\n",
    "        8.5,\n",
    "        6.1,\n",
    "        9.8,\n",
    "        1.0,\n",
    "        42.2,\n",
    "        77.2,\n",
    "        18.7,\n",
    "        22.8,\n",
    "        8.5,\n",
    "        43.9,\n",
    "        1.0,\n",
    "        1.0,\n",
    "        1.5,\n",
    "        10.8,\n",
    "        11.9,\n",
    "        3.4,\n",
    "        0.4,\n",
    "        3.1,\n",
    "        6.6,\n",
    "        33.7,\n",
    "        40.4,\n",
    "        2.3,\n",
    "        17.2,\n",
    "        0.7,\n",
    "        36.1,\n",
    "        1.0,\n",
    "        33.2,\n",
    "        55.9,\n",
    "        30.8,\n",
    "        87.4,\n",
    "        15.4,\n",
    "        54.6,\n",
    "        5.1,\n",
    "        1.1,\n",
    "        10.2,\n",
    "        19.8,\n",
    "        0.0,\n",
    "        40.7,\n",
    "        57.2,\n",
    "        59.9,\n",
    "        3.1,\n",
    "        55.7,\n",
    "        22.8,\n",
    "        10.9,\n",
    "        34.7,\n",
    "        32.2,\n",
    "        43.0,\n",
    "        1.3,\n",
    "        1.0,\n",
    "        0.5,\n",
    "        78.4,\n",
    "        34.2,\n",
    "        84.9,\n",
    "        29.1,\n",
    "        31.3,\n",
    "        18.3,\n",
    "        81.8,\n",
    "        39.0,\n",
    "        11.2,\n",
    "        67.0,\n",
    "        4.1,\n",
    "        0.2,\n",
    "        78.1,\n",
    "        1.0,\n",
    "        7.1,\n",
    "        1.0,\n",
    "        29.0,\n",
    "        1.1,\n",
    "        11.7,\n",
    "        73.6,\n",
    "        33.9,\n",
    "        14.0,\n",
    "        0.3,\n",
    "        1.0,\n",
    "        0.8,\n",
    "        71.9,\n",
    "        40.1,\n",
    "        1.0,\n",
    "        2.1,\n",
    "        3.8,\n",
    "        16.5,\n",
    "        4.1,\n",
    "        0.5,\n",
    "        44.4,\n",
    "        46.3,\n",
    "        18.7,\n",
    "        6.5,\n",
    "        36.8,\n",
    "        18.6,\n",
    "        11.1,\n",
    "        22.1,\n",
    "        71.1,\n",
    "        1.0,\n",
    "        0.0,\n",
    "        0.9,\n",
    "        0.7,\n",
    "        45.5,\n",
    "        8.4,\n",
    "        0.0,\n",
    "        3.8,\n",
    "        8.5,\n",
    "        2.0,\n",
    "        1.0,\n",
    "        58.9,\n",
    "        0.3,\n",
    "        1.0,\n",
    "        14.0,\n",
    "        47.0,\n",
    "        4.1,\n",
    "        2.2,\n",
    "        7.2,\n",
    "        0.3,\n",
    "        1.5,\n",
    "        50.5,\n",
    "        1.3,\n",
    "        0.6,\n",
    "        19.1,\n",
    "        6.9,\n",
    "        9.2,\n",
    "        2.2,\n",
    "        0.2,\n",
    "        12.3,\n",
    "        4.9,\n",
    "        4.6,\n",
    "        0.3,\n",
    "        16.5,\n",
    "        65.7,\n",
    "        63.5,\n",
    "        16.8,\n",
    "        0.2,\n",
    "        1.8,\n",
    "        9.6,\n",
    "        15.2,\n",
    "        14.4,\n",
    "        3.3,\n",
    "        10.6,\n",
    "        61.3,\n",
    "        10.9,\n",
    "        32.2,\n",
    "        9.3,\n",
    "        11.6,\n",
    "        20.7,\n",
    "        6.5,\n",
    "        6.7,\n",
    "        3.5,\n",
    "        1.0,\n",
    "        1.6,\n",
    "        20.5,\n",
    "        1.5,\n",
    "        16.7,\n",
    "        2.0,\n",
    "        0.9,\n",
    "    ]\n",
    ")\n",
    "\n",
    "fertility = np.array(\n",
    "    [\n",
    "        1.769,\n",
    "        2.682,\n",
    "        2.077,\n",
    "        2.132,\n",
    "        1.827,\n",
    "        3.872,\n",
    "        2.288,\n",
    "        5.173,\n",
    "        1.393,\n",
    "        1.262,\n",
    "        2.156,\n",
    "        3.026,\n",
    "        2.033,\n",
    "        1.324,\n",
    "        2.816,\n",
    "        5.211,\n",
    "        2.1,\n",
    "        1.781,\n",
    "        1.822,\n",
    "        5.908,\n",
    "        1.881,\n",
    "        1.852,\n",
    "        1.39,\n",
    "        2.281,\n",
    "        2.505,\n",
    "        1.224,\n",
    "        1.361,\n",
    "        1.468,\n",
    "        2.404,\n",
    "        5.52,\n",
    "        4.058,\n",
    "        2.223,\n",
    "        4.859,\n",
    "        1.267,\n",
    "        2.342,\n",
    "        1.579,\n",
    "        6.254,\n",
    "        2.334,\n",
    "        3.961,\n",
    "        6.505,\n",
    "        2.53,\n",
    "        2.823,\n",
    "        2.498,\n",
    "        2.248,\n",
    "        2.508,\n",
    "        3.04,\n",
    "        1.854,\n",
    "        4.22,\n",
    "        5.1,\n",
    "        4.967,\n",
    "        1.325,\n",
    "        4.514,\n",
    "        3.173,\n",
    "        2.308,\n",
    "        4.62,\n",
    "        4.541,\n",
    "        5.637,\n",
    "        1.926,\n",
    "        1.747,\n",
    "        2.294,\n",
    "        5.841,\n",
    "        5.455,\n",
    "        7.069,\n",
    "        2.859,\n",
    "        4.018,\n",
    "        2.513,\n",
    "        5.405,\n",
    "        5.737,\n",
    "        3.363,\n",
    "        4.89,\n",
    "        1.385,\n",
    "        1.505,\n",
    "        6.081,\n",
    "        1.784,\n",
    "        1.378,\n",
    "        1.45,\n",
    "        1.841,\n",
    "        1.37,\n",
    "        2.612,\n",
    "        5.329,\n",
    "        5.33,\n",
    "        3.371,\n",
    "        1.281,\n",
    "        1.871,\n",
    "        2.153,\n",
    "        5.378,\n",
    "        4.45,\n",
    "        1.46,\n",
    "        1.436,\n",
    "        1.612,\n",
    "        3.19,\n",
    "        2.752,\n",
    "        3.35,\n",
    "        4.01,\n",
    "        4.166,\n",
    "        2.642,\n",
    "        2.977,\n",
    "        3.415,\n",
    "        2.295,\n",
    "        3.019,\n",
    "        2.683,\n",
    "        5.165,\n",
    "        1.849,\n",
    "        1.836,\n",
    "        2.518,\n",
    "        2.43,\n",
    "        4.528,\n",
    "        1.263,\n",
    "        1.885,\n",
    "        1.943,\n",
    "        1.899,\n",
    "        1.442,\n",
    "        1.953,\n",
    "        4.697,\n",
    "        1.582,\n",
    "        2.025,\n",
    "        1.841,\n",
    "        5.011,\n",
    "        1.212,\n",
    "        1.502,\n",
    "        2.516,\n",
    "        1.367,\n",
    "        2.089,\n",
    "        4.388,\n",
    "        1.854,\n",
    "        1.748,\n",
    "        2.978,\n",
    "        2.152,\n",
    "        2.362,\n",
    "        1.988,\n",
    "        1.426,\n",
    "        3.29,\n",
    "        3.264,\n",
    "        1.436,\n",
    "        1.393,\n",
    "        2.822,\n",
    "        4.969,\n",
    "        5.659,\n",
    "        3.24,\n",
    "        1.693,\n",
    "        1.647,\n",
    "        2.36,\n",
    "        1.792,\n",
    "        3.45,\n",
    "        1.516,\n",
    "        2.233,\n",
    "        2.563,\n",
    "        5.283,\n",
    "        3.885,\n",
    "        0.966,\n",
    "        2.373,\n",
    "        2.663,\n",
    "        1.251,\n",
    "        2.052,\n",
    "        3.371,\n",
    "        2.093,\n",
    "        2.0,\n",
    "        3.883,\n",
    "        3.852,\n",
    "        3.718,\n",
    "        1.732,\n",
    "        3.928,\n",
    "    ]\n",
    ")"
   ]
  },
  {
   "cell_type": "code",
   "execution_count": 17,
   "id": "16236526",
   "metadata": {
    "ExecuteTime": {
     "end_time": "2021-08-20T18:31:07.386011Z",
     "start_time": "2021-08-20T18:31:07.273168Z"
    },
    "hidden": true
   },
   "outputs": [
    {
     "data": {
      "image/png": "[encoded data removed]",
      "text/plain": [
       "<Figure size 1080x432 with 1 Axes>"
      ]
     },
     "metadata": {
      "needs_background": "light"
     },
     "output_type": "display_data"
    },
    {
     "name": "stdout",
     "output_type": "stream",
     "text": [
      "0.8041324026815341\n"
     ]
    }
   ],
   "source": [
    "# Plot the illiteracy rate versus fertility\n",
    "_ = plt.plot(illiteracy, fertility, marker=\".\", linestyle=\"none\")\n",
    "\n",
    "# Set the margins and label axes\n",
    "plt.margins(0.02)\n",
    "_ = plt.xlabel(\"percent illiterate\")\n",
    "_ = plt.ylabel(\"fertility\")\n",
    "\n",
    "# Show the plot\n",
    "plt.show()\n",
    "\n",
    "# Show the Pearson correlation coefficient\n",
    "print(pearson_r(illiteracy, fertility))"
   ]
  },
  {
   "cell_type": "code",
   "execution_count": 18,
   "id": "0a56d5ff",
   "metadata": {
    "ExecuteTime": {
     "end_time": "2021-08-20T18:31:07.492992Z",
     "start_time": "2021-08-20T18:31:07.387041Z"
    },
    "hidden": true
   },
   "outputs": [
    {
     "name": "stdout",
     "output_type": "stream",
     "text": [
      "slope = 0.04979854809063418 children per woman / percent illiterate\n",
      "intercept = 1.888050610636557 children per woman\n"
     ]
    },
    {
     "data": {
      "image/png": "[encoded data removed]",
      "text/plain": [
       "<Figure size 1080x432 with 1 Axes>"
      ]
     },
     "metadata": {
      "needs_background": "light"
     },
     "output_type": "display_data"
    }
   ],
   "source": [
    "# Plot the illiteracy rate versus fertility\n",
    "_ = plt.plot(illiteracy, fertility, marker=\".\", linestyle=\"none\")\n",
    "plt.margins(0.02)\n",
    "_ = plt.xlabel(\"percent illiterate\")\n",
    "_ = plt.ylabel(\"fertility\")\n",
    "\n",
    "# Perform a linear regression using np.polyfit(): a, b\n",
    "a, b = np.polyfit(illiteracy, fertility, deg=1)\n",
    "\n",
    "# Print the results to the screen\n",
    "print(\"slope =\", a, \"children per woman / percent illiterate\")\n",
    "print(\"intercept =\", b, \"children per woman\")\n",
    "\n",
    "# Make theoretical line to plot\n",
    "x = np.array([0, 100])\n",
    "y = a * x + b\n",
    "\n",
    "# Add regression line to your plot\n",
    "_ = plt.plot(x, y)\n",
    "\n",
    "# Draw the plot\n",
    "plt.show()"
   ]
  },
  {
   "cell_type": "code",
   "execution_count": 19,
   "id": "925cb884",
   "metadata": {
    "ExecuteTime": {
     "end_time": "2021-08-20T18:31:07.611310Z",
     "start_time": "2021-08-20T18:31:07.494002Z"
    },
    "hidden": true
   },
   "outputs": [
    {
     "data": {
      "image/png": "[encoded data removed]",
      "text/plain": [
       "<Figure size 1080x432 with 1 Axes>"
      ]
     },
     "metadata": {
      "needs_background": "light"
     },
     "output_type": "display_data"
    }
   ],
   "source": [
    "# Specify slopes to consider: a_vals\n",
    "a_vals = np.linspace(0, 0.1, 200)\n",
    "\n",
    "# Initialize sum of square of residuals: rss\n",
    "rss = np.empty_like(a_vals)\n",
    "\n",
    "# Compute sum of square of residuals for each value of a_vals\n",
    "for i, a in enumerate(a_vals):\n",
    "    rss[i] = np.sum((fertility - a * illiteracy - b) ** 2)\n",
    "\n",
    "# Plot the RSS\n",
    "plt.plot(a_vals, rss, \"-\")\n",
    "plt.xlabel(\"slope (children per woman / percent illiterate)\")\n",
    "plt.ylabel(\"sum of square of residuals\")\n",
    "\n",
    "plt.show()"
   ]
  },
  {
   "cell_type": "markdown",
   "id": "c3e0888b",
   "metadata": {
    "heading_collapsed": true
   },
   "source": [
    "# Bootstrapping"
   ]
  },
  {
   "cell_type": "markdown",
   "id": "3935e1b6",
   "metadata": {
    "heading_collapsed": true,
    "hidden": true
   },
   "source": [
    "## Bootstrap Sampling"
   ]
  },
  {
   "cell_type": "code",
   "execution_count": 20,
   "id": "ab2b6c47",
   "metadata": {
    "ExecuteTime": {
     "end_time": "2021-08-20T18:31:07.617001Z",
     "start_time": "2021-08-20T18:31:07.612147Z"
    },
    "hidden": true
   },
   "outputs": [],
   "source": [
    "rainfall = np.array(\n",
    "    [\n",
    "        875.5,\n",
    "        648.2,\n",
    "        788.1,\n",
    "        940.3,\n",
    "        491.1,\n",
    "        743.5,\n",
    "        730.1,\n",
    "        686.5,\n",
    "        878.8,\n",
    "        865.6,\n",
    "        654.9,\n",
    "        831.5,\n",
    "        798.1,\n",
    "        681.8,\n",
    "        743.8,\n",
    "        689.1,\n",
    "        752.1,\n",
    "        837.2,\n",
    "        710.6,\n",
    "        749.2,\n",
    "        967.1,\n",
    "        701.2,\n",
    "        619.0,\n",
    "        747.6,\n",
    "        803.4,\n",
    "        645.6,\n",
    "        804.1,\n",
    "        787.4,\n",
    "        646.8,\n",
    "        997.1,\n",
    "        774.0,\n",
    "        734.5,\n",
    "        835.0,\n",
    "        840.7,\n",
    "        659.6,\n",
    "        828.3,\n",
    "        909.7,\n",
    "        856.9,\n",
    "        578.3,\n",
    "        904.2,\n",
    "        883.9,\n",
    "        740.1,\n",
    "        773.9,\n",
    "        741.4,\n",
    "        866.8,\n",
    "        871.1,\n",
    "        712.5,\n",
    "        919.2,\n",
    "        927.9,\n",
    "        809.4,\n",
    "        633.8,\n",
    "        626.8,\n",
    "        871.3,\n",
    "        774.3,\n",
    "        898.8,\n",
    "        789.6,\n",
    "        936.3,\n",
    "        765.4,\n",
    "        882.1,\n",
    "        681.1,\n",
    "        661.3,\n",
    "        847.9,\n",
    "        683.9,\n",
    "        985.7,\n",
    "        771.1,\n",
    "        736.6,\n",
    "        713.2,\n",
    "        774.5,\n",
    "        937.7,\n",
    "        694.5,\n",
    "        598.2,\n",
    "        983.8,\n",
    "        700.2,\n",
    "        901.3,\n",
    "        733.5,\n",
    "        964.4,\n",
    "        609.3,\n",
    "        1035.2,\n",
    "        718.0,\n",
    "        688.6,\n",
    "        736.8,\n",
    "        643.3,\n",
    "        1038.5,\n",
    "        969.0,\n",
    "        802.7,\n",
    "        876.6,\n",
    "        944.7,\n",
    "        786.6,\n",
    "        770.4,\n",
    "        808.6,\n",
    "        761.3,\n",
    "        774.2,\n",
    "        559.3,\n",
    "        674.2,\n",
    "        883.6,\n",
    "        823.9,\n",
    "        960.4,\n",
    "        877.8,\n",
    "        940.6,\n",
    "        831.8,\n",
    "        906.2,\n",
    "        866.5,\n",
    "        674.1,\n",
    "        998.1,\n",
    "        789.3,\n",
    "        915.0,\n",
    "        737.1,\n",
    "        763.0,\n",
    "        666.7,\n",
    "        824.5,\n",
    "        913.8,\n",
    "        905.1,\n",
    "        667.8,\n",
    "        747.4,\n",
    "        784.7,\n",
    "        925.4,\n",
    "        880.2,\n",
    "        1086.9,\n",
    "        764.4,\n",
    "        1050.1,\n",
    "        595.2,\n",
    "        855.2,\n",
    "        726.9,\n",
    "        785.2,\n",
    "        948.8,\n",
    "        970.6,\n",
    "        896.0,\n",
    "        618.4,\n",
    "        572.4,\n",
    "        1146.4,\n",
    "        728.2,\n",
    "        864.2,\n",
    "        793.0,\n",
    "    ]\n",
    ")"
   ]
  },
  {
   "cell_type": "code",
   "execution_count": 21,
   "id": "dee400ab",
   "metadata": {
    "ExecuteTime": {
     "end_time": "2021-08-20T18:31:07.814757Z",
     "start_time": "2021-08-20T18:31:07.617895Z"
    },
    "hidden": true
   },
   "outputs": [
    {
     "data": {
      "image/png": "[encoded data removed]",
      "text/plain": [
       "<Figure size 1080x432 with 1 Axes>"
      ]
     },
     "metadata": {
      "needs_background": "light"
     },
     "output_type": "display_data"
    }
   ],
   "source": [
    "for _ in range(50):\n",
    "    # Generate bootstrap sample: bs_sample\n",
    "    bs_sample = np.random.choice(rainfall, size=len(rainfall))\n",
    "\n",
    "    # Compute and plot ECDF from bootstrap sample\n",
    "    x, y = ecdf(bs_sample)\n",
    "    _ = plt.plot(x, y, marker=\".\", linestyle=\"none\", color=\"gray\", alpha=0.1)\n",
    "\n",
    "# Compute and plot ECDF from original data\n",
    "x, y = ecdf(rainfall)\n",
    "_ = plt.plot(x, y, linestyle=\"none\", marker=\".\")\n",
    "\n",
    "# Make margins and label axes\n",
    "plt.margins(0.02)\n",
    "_ = plt.xlabel(\"yearly rainfall (mm)\")\n",
    "_ = plt.ylabel(\"ECDF\")\n",
    "\n",
    "# Show the plot\n",
    "plt.show()"
   ]
  },
  {
   "cell_type": "markdown",
   "id": "2a0f192b",
   "metadata": {
    "heading_collapsed": true,
    "hidden": true
   },
   "source": [
    "## Bootstrap Confidence Intervals"
   ]
  },
  {
   "cell_type": "code",
   "execution_count": 22,
   "id": "bdd6c3f6",
   "metadata": {
    "ExecuteTime": {
     "end_time": "2021-08-20T18:31:08.272720Z",
     "start_time": "2021-08-20T18:31:07.815718Z"
    },
    "hidden": true
   },
   "outputs": [
    {
     "name": "stdout",
     "output_type": "stream",
     "text": [
      "95% confidence interval = [779.96900376 820.62793233] games\n"
     ]
    },
    {
     "data": {
      "image/png": "[encoded data removed]",
      "text/plain": [
       "<Figure size 1080x432 with 1 Axes>"
      ]
     },
     "metadata": {
      "needs_background": "light"
     },
     "output_type": "display_data"
    }
   ],
   "source": [
    "# Draw bootstrap replicates of the mean no-hitter time (equal to tau): bs_replicates\n",
    "bs_replicates = draw_bs_reps(rainfall, np.mean, 10000)\n",
    "\n",
    "# Compute the 95% confidence interval: conf_int\n",
    "conf_int = np.percentile(bs_replicates, [2.5, 97.5])\n",
    "\n",
    "# Print the confidence interval\n",
    "print(\"95% confidence interval =\", conf_int, \"games\")\n",
    "\n",
    "# Plot the histogram of the replicates\n",
    "plt.hist(bs_replicates, bins=50, density=True)\n",
    "for c in conf_int:\n",
    "    plt.axvline(c, color=\"r\", linewidth=2, linestyle=\"dashed\")\n",
    "plt.xlabel(\"mean annual rainfall (mm)\")\n",
    "plt.ylabel(\"PDF\")\n",
    "\n",
    "# Show the plot\n",
    "plt.show()"
   ]
  },
  {
   "cell_type": "code",
   "execution_count": 23,
   "id": "399d5d5d",
   "metadata": {
    "ExecuteTime": {
     "end_time": "2021-08-20T18:31:08.801109Z",
     "start_time": "2021-08-20T18:31:08.273697Z"
    },
    "hidden": true
   },
   "outputs": [
    {
     "data": {
      "image/png": "[encoded data removed]",
      "text/plain": [
       "<Figure size 1080x432 with 1 Axes>"
      ]
     },
     "metadata": {
      "needs_background": "light"
     },
     "output_type": "display_data"
    }
   ],
   "source": [
    "# Generate 10,000 bootstrap replicates of the variance: bs_replicates\n",
    "bs_replicates = draw_bs_reps(rainfall, np.var, 10000)\n",
    "\n",
    "# Put the variance in units of square centimeters\n",
    "bs_replicates /= 100\n",
    "\n",
    "# Make a histogram of the results\n",
    "_ = plt.hist(bs_replicates, bins=50, density=True)\n",
    "_ = plt.xlabel(\"variance of annual rainfall (sq. cm)\")\n",
    "_ = plt.ylabel(\"PDF\")\n",
    "\n",
    "# Show the plot\n",
    "plt.show()"
   ]
  },
  {
   "cell_type": "code",
   "execution_count": 24,
   "id": "705dc4ac",
   "metadata": {
    "ExecuteTime": {
     "end_time": "2021-08-20T18:31:09.382249Z",
     "start_time": "2021-08-20T18:31:08.802088Z"
    },
    "hidden": true
   },
   "outputs": [
    {
     "name": "stdout",
     "output_type": "stream",
     "text": [
      "95% confidence interval = [663.65229084 869.79741036] games\n"
     ]
    },
    {
     "data": {
      "image/png": "[encoded data removed]",
      "text/plain": [
       "<Figure size 1080x432 with 1 Axes>"
      ]
     },
     "metadata": {
      "needs_background": "light"
     },
     "output_type": "display_data"
    }
   ],
   "source": [
    "# Draw bootstrap replicates of the mean no-hitter time (equal to tau): bs_replicates\n",
    "bs_replicates = draw_bs_reps(nohitter_times, np.mean, 10000)\n",
    "\n",
    "# Compute the 95% confidence interval: conf_int\n",
    "conf_int = np.percentile(bs_replicates, [2.5, 97.5])\n",
    "\n",
    "# Print the confidence interval\n",
    "print(\"95% confidence interval =\", conf_int, \"games\")\n",
    "\n",
    "# Plot the histogram of the replicates\n",
    "_ = plt.hist(bs_replicates, bins=50, density=True)\n",
    "_ = plt.xlabel(r\"$\\tau$ (games)\")\n",
    "_ = plt.ylabel(\"PDF\")\n",
    "\n",
    "# Show the plot\n",
    "plt.show()"
   ]
  },
  {
   "cell_type": "markdown",
   "id": "37f97bc6",
   "metadata": {
    "heading_collapsed": true,
    "hidden": true
   },
   "source": [
    "## Pairs Bootstrap"
   ]
  },
  {
   "cell_type": "code",
   "execution_count": 25,
   "id": "9a8bfcf9",
   "metadata": {
    "ExecuteTime": {
     "end_time": "2021-08-20T18:31:09.665319Z",
     "start_time": "2021-08-20T18:31:09.383035Z"
    },
    "hidden": true
   },
   "outputs": [
    {
     "name": "stdout",
     "output_type": "stream",
     "text": [
      "[0.04389859 0.05528877]\n"
     ]
    },
    {
     "data": {
      "image/png": "[encoded data removed]",
      "text/plain": [
       "<Figure size 1080x432 with 1 Axes>"
      ]
     },
     "metadata": {
      "needs_background": "light"
     },
     "output_type": "display_data"
    }
   ],
   "source": [
    "# Generate replicates of slope and intercept using pairs bootstrap\n",
    "bs_slope_reps, bs_intercept_reps = draw_bs_pairs_linreg(\n",
    "    illiteracy, fertility, size=1000\n",
    ")\n",
    "\n",
    "# Compute and print 95% CI for slope\n",
    "print(np.percentile(bs_slope_reps, [2.5, 97.5]))\n",
    "\n",
    "# Plot the histogram\n",
    "_ = plt.hist(bs_slope_reps, bins=50, density=True)\n",
    "_ = plt.xlabel(\"slope\")\n",
    "_ = plt.ylabel(\"PDF\")\n",
    "plt.show()"
   ]
  },
  {
   "cell_type": "code",
   "execution_count": 26,
   "id": "f94b28d6",
   "metadata": {
    "ExecuteTime": {
     "end_time": "2021-08-20T18:31:09.878951Z",
     "start_time": "2021-08-20T18:31:09.669020Z"
    },
    "hidden": true
   },
   "outputs": [
    {
     "data": {
      "image/png": "[encoded data removed]",
      "text/plain": [
       "<Figure size 1080x432 with 1 Axes>"
      ]
     },
     "metadata": {
      "needs_background": "light"
     },
     "output_type": "display_data"
    }
   ],
   "source": [
    "# Generate array of x-values for bootstrap lines: x\n",
    "x = np.array([0, 100])\n",
    "\n",
    "# Plot the bootstrap lines\n",
    "for i in range(100):\n",
    "    _ = plt.plot(\n",
    "        x,\n",
    "        bs_slope_reps[i] * x + bs_intercept_reps[i],\n",
    "        linewidth=0.5,\n",
    "        alpha=0.2,\n",
    "        color=\"red\",\n",
    "    )\n",
    "\n",
    "# Plot the data\n",
    "_ = plt.plot(illiteracy, fertility, marker=\".\", linestyle=\"none\")\n",
    "\n",
    "# Label axes, set the margins, and show the plot\n",
    "_ = plt.xlabel(\"illiteracy\")\n",
    "_ = plt.ylabel(\"fertility\")\n",
    "plt.margins(0.02)\n",
    "plt.show()"
   ]
  },
  {
   "cell_type": "markdown",
   "id": "02437d84",
   "metadata": {
    "heading_collapsed": true
   },
   "source": [
    "# Hypothesis Testing"
   ]
  },
  {
   "cell_type": "markdown",
   "id": "1dce9513",
   "metadata": {
    "hidden": true
   },
   "source": [
    "1. State the null hypothesis\n",
    "2. Define test stats\n",
    "3. Generate simulated data assuming null hypothesis is true\n",
    "4. Compute test stat for each sim data set\n",
    "5. Compute p-value: fraction of sim data for which test stat is at least as extreme as for the real data"
   ]
  },
  {
   "cell_type": "markdown",
   "id": "72f3e67a",
   "metadata": {
    "hidden": true
   },
   "source": [
    "## Permutation Samples"
   ]
  },
  {
   "cell_type": "code",
   "execution_count": 27,
   "id": "b0e8abf9",
   "metadata": {
    "ExecuteTime": {
     "end_time": "2021-08-20T18:31:09.887784Z",
     "start_time": "2021-08-20T18:31:09.879812Z"
    },
    "hidden": true
   },
   "outputs": [],
   "source": [
    "rain_june = np.array(\n",
    "    [\n",
    "        66.2,\n",
    "        39.7,\n",
    "        76.4,\n",
    "        26.5,\n",
    "        11.2,\n",
    "        61.8,\n",
    "        6.1,\n",
    "        48.4,\n",
    "        89.2,\n",
    "        104.0,\n",
    "        34.0,\n",
    "        60.6,\n",
    "        57.1,\n",
    "        79.1,\n",
    "        90.9,\n",
    "        32.3,\n",
    "        63.8,\n",
    "        78.2,\n",
    "        27.5,\n",
    "        43.4,\n",
    "        30.1,\n",
    "        17.3,\n",
    "        77.5,\n",
    "        44.9,\n",
    "        92.2,\n",
    "        39.6,\n",
    "        79.4,\n",
    "        66.1,\n",
    "        53.5,\n",
    "        98.5,\n",
    "        20.8,\n",
    "        55.5,\n",
    "        39.6,\n",
    "        56.0,\n",
    "        65.1,\n",
    "        14.8,\n",
    "        13.2,\n",
    "        88.1,\n",
    "        8.4,\n",
    "        32.1,\n",
    "        19.6,\n",
    "        40.4,\n",
    "        2.2,\n",
    "        77.5,\n",
    "        105.4,\n",
    "        77.2,\n",
    "        38.0,\n",
    "        27.1,\n",
    "        111.8,\n",
    "        17.2,\n",
    "        26.7,\n",
    "        23.3,\n",
    "        77.2,\n",
    "        87.2,\n",
    "        27.7,\n",
    "        50.6,\n",
    "        60.3,\n",
    "        15.1,\n",
    "        6.0,\n",
    "        29.4,\n",
    "        39.3,\n",
    "        56.3,\n",
    "        80.4,\n",
    "        85.3,\n",
    "        68.4,\n",
    "        72.5,\n",
    "        13.3,\n",
    "        28.4,\n",
    "        14.7,\n",
    "        37.4,\n",
    "        49.5,\n",
    "        57.2,\n",
    "        85.9,\n",
    "        82.1,\n",
    "        31.8,\n",
    "        126.6,\n",
    "        30.7,\n",
    "        41.4,\n",
    "        33.9,\n",
    "        13.5,\n",
    "        99.1,\n",
    "        70.2,\n",
    "        91.8,\n",
    "        61.3,\n",
    "        13.7,\n",
    "        54.9,\n",
    "        62.5,\n",
    "        24.2,\n",
    "        69.4,\n",
    "        83.1,\n",
    "        44.0,\n",
    "        48.5,\n",
    "        11.9,\n",
    "        16.6,\n",
    "        66.4,\n",
    "        90.0,\n",
    "        34.9,\n",
    "        132.8,\n",
    "        33.4,\n",
    "        225.0,\n",
    "        7.6,\n",
    "        40.9,\n",
    "        76.5,\n",
    "        48.0,\n",
    "        140.0,\n",
    "        55.9,\n",
    "        54.1,\n",
    "        46.4,\n",
    "        68.6,\n",
    "        52.2,\n",
    "        108.3,\n",
    "        14.6,\n",
    "        11.3,\n",
    "        29.8,\n",
    "        130.9,\n",
    "        152.4,\n",
    "        61.0,\n",
    "        46.6,\n",
    "        43.9,\n",
    "        30.9,\n",
    "        111.1,\n",
    "        68.5,\n",
    "        42.2,\n",
    "        9.8,\n",
    "        285.6,\n",
    "        56.7,\n",
    "        168.2,\n",
    "        41.2,\n",
    "        47.8,\n",
    "        166.6,\n",
    "        37.8,\n",
    "        45.4,\n",
    "        43.2,\n",
    "    ]\n",
    ")\n",
    "\n",
    "rain_november = np.array(\n",
    "    [\n",
    "        83.6,\n",
    "        30.9,\n",
    "        62.2,\n",
    "        37.0,\n",
    "        41.0,\n",
    "        160.2,\n",
    "        18.2,\n",
    "        122.4,\n",
    "        71.3,\n",
    "        44.2,\n",
    "        49.1,\n",
    "        37.6,\n",
    "        114.5,\n",
    "        28.8,\n",
    "        82.5,\n",
    "        71.9,\n",
    "        50.7,\n",
    "        67.7,\n",
    "        112.0,\n",
    "        63.6,\n",
    "        42.8,\n",
    "        57.2,\n",
    "        99.1,\n",
    "        86.4,\n",
    "        84.4,\n",
    "        38.1,\n",
    "        17.7,\n",
    "        102.2,\n",
    "        101.3,\n",
    "        58.0,\n",
    "        82.0,\n",
    "        101.4,\n",
    "        81.4,\n",
    "        100.1,\n",
    "        54.6,\n",
    "        39.6,\n",
    "        57.5,\n",
    "        29.2,\n",
    "        48.8,\n",
    "        37.3,\n",
    "        115.4,\n",
    "        55.6,\n",
    "        62.0,\n",
    "        95.0,\n",
    "        84.2,\n",
    "        118.1,\n",
    "        153.2,\n",
    "        83.4,\n",
    "        104.7,\n",
    "        59.0,\n",
    "        46.4,\n",
    "        50.0,\n",
    "        147.6,\n",
    "        76.8,\n",
    "        59.9,\n",
    "        101.8,\n",
    "        136.6,\n",
    "        173.0,\n",
    "        92.5,\n",
    "        37.0,\n",
    "        59.8,\n",
    "        142.1,\n",
    "        9.9,\n",
    "        158.2,\n",
    "        72.6,\n",
    "        28.0,\n",
    "        112.9,\n",
    "        119.3,\n",
    "        199.2,\n",
    "        50.7,\n",
    "        44.0,\n",
    "        170.7,\n",
    "        67.2,\n",
    "        21.4,\n",
    "        61.3,\n",
    "        15.6,\n",
    "        106.0,\n",
    "        116.2,\n",
    "        42.3,\n",
    "        38.5,\n",
    "        132.5,\n",
    "        40.8,\n",
    "        147.5,\n",
    "        93.9,\n",
    "        71.4,\n",
    "        87.3,\n",
    "        163.7,\n",
    "        141.4,\n",
    "        62.6,\n",
    "        84.9,\n",
    "        28.8,\n",
    "        121.1,\n",
    "        28.6,\n",
    "        32.4,\n",
    "        112.0,\n",
    "        50.0,\n",
    "        96.9,\n",
    "        81.8,\n",
    "        70.4,\n",
    "        117.5,\n",
    "        41.2,\n",
    "        124.9,\n",
    "        78.2,\n",
    "        93.0,\n",
    "        53.5,\n",
    "        50.5,\n",
    "        42.6,\n",
    "        47.9,\n",
    "        73.1,\n",
    "        129.1,\n",
    "        56.9,\n",
    "        103.3,\n",
    "        60.5,\n",
    "        134.3,\n",
    "        93.1,\n",
    "        49.5,\n",
    "        48.2,\n",
    "        167.9,\n",
    "        27.0,\n",
    "        111.1,\n",
    "        55.4,\n",
    "        36.2,\n",
    "        57.4,\n",
    "        66.8,\n",
    "        58.3,\n",
    "        60.0,\n",
    "        161.6,\n",
    "        112.7,\n",
    "        37.4,\n",
    "        110.6,\n",
    "        56.6,\n",
    "        95.8,\n",
    "        126.8,\n",
    "    ]\n",
    ")"
   ]
  },
  {
   "cell_type": "code",
   "execution_count": 28,
   "id": "2e7f850a",
   "metadata": {
    "ExecuteTime": {
     "end_time": "2021-08-20T18:31:10.108693Z",
     "start_time": "2021-08-20T18:31:09.889025Z"
    },
    "hidden": true
   },
   "outputs": [
    {
     "data": {
      "image/png": "[encoded data removed]",
      "text/plain": [
       "<Figure size 1080x432 with 1 Axes>"
      ]
     },
     "metadata": {
      "needs_background": "light"
     },
     "output_type": "display_data"
    }
   ],
   "source": [
    "for i in range(50):\n",
    "    # Generate permutation samples\n",
    "    perm_sample_1, perm_sample_2 = permutation_sample(rain_june, rain_november)\n",
    "\n",
    "    # Compute ECDFs\n",
    "    x_1, y_1 = ecdf(perm_sample_1)\n",
    "    x_2, y_2 = ecdf(perm_sample_2)\n",
    "\n",
    "    # Plot ECDFs of permutation sample\n",
    "    _ = plt.plot(x_1, y_1, marker=\".\", linestyle=\"none\", color=\"red\", alpha=0.02)\n",
    "    _ = plt.plot(x_2, y_2, marker=\".\", linestyle=\"none\", color=\"blue\", alpha=0.02)\n",
    "\n",
    "# Create and plot ECDFs from original data\n",
    "x_1, y_1 = ecdf(rain_june)\n",
    "x_2, y_2 = ecdf(rain_november)\n",
    "_ = plt.plot(x_1, y_1, marker=\".\", linestyle=\"none\", color=\"red\")\n",
    "_ = plt.plot(x_2, y_2, marker=\".\", linestyle=\"none\", color=\"blue\")\n",
    "\n",
    "# Label axes, set margin, and show plot\n",
    "plt.margins(0.02)\n",
    "_ = plt.xlabel(\"monthly rainfall (mm)\")\n",
    "_ = plt.ylabel(\"ECDF\")\n",
    "plt.show()"
   ]
  },
  {
   "cell_type": "markdown",
   "id": "feddca22",
   "metadata": {
    "hidden": true
   },
   "source": [
    "## Test Statistics"
   ]
  },
  {
   "cell_type": "code",
   "execution_count": 29,
   "id": "5180fcd3",
   "metadata": {
    "ExecuteTime": {
     "end_time": "2021-08-20T18:31:10.113407Z",
     "start_time": "2021-08-20T18:31:10.109691Z"
    },
    "hidden": true
   },
   "outputs": [],
   "source": [
    "force_a = np.array(\n",
    "    [\n",
    "        1.612,\n",
    "        0.605,\n",
    "        0.327,\n",
    "        0.946,\n",
    "        0.541,\n",
    "        1.539,\n",
    "        0.529,\n",
    "        0.628,\n",
    "        1.453,\n",
    "        0.297,\n",
    "        0.703,\n",
    "        0.269,\n",
    "        0.751,\n",
    "        0.245,\n",
    "        1.182,\n",
    "        0.515,\n",
    "        0.435,\n",
    "        0.383,\n",
    "        0.457,\n",
    "        0.73,\n",
    "    ]\n",
    ")\n",
    "\n",
    "force_b = np.array(\n",
    "    [\n",
    "        0.172,\n",
    "        0.142,\n",
    "        0.037,\n",
    "        0.453,\n",
    "        0.355,\n",
    "        0.022,\n",
    "        0.502,\n",
    "        0.273,\n",
    "        0.72,\n",
    "        0.582,\n",
    "        0.198,\n",
    "        0.198,\n",
    "        0.597,\n",
    "        0.516,\n",
    "        0.815,\n",
    "        0.402,\n",
    "        0.605,\n",
    "        0.711,\n",
    "        0.614,\n",
    "        0.468,\n",
    "    ]\n",
    ")"
   ]
  },
  {
   "cell_type": "code",
   "execution_count": 30,
   "id": "d145313d",
   "metadata": {
    "ExecuteTime": {
     "end_time": "2021-08-20T18:31:10.280358Z",
     "start_time": "2021-08-20T18:31:10.115785Z"
    },
    "hidden": true
   },
   "outputs": [
    {
     "name": "stdout",
     "output_type": "stream",
     "text": [
      "p-value = 0.0058\n"
     ]
    }
   ],
   "source": [
    "# Compute difference of mean impact force from experiment: empirical_diff_means\n",
    "empirical_diff_means = diff_of_means(force_a, force_b)\n",
    "\n",
    "# Draw 10,000 permutation replicates: perm_replicates\n",
    "perm_replicates = draw_perm_reps(force_a, force_b, diff_of_means, size=10000)\n",
    "\n",
    "# Compute p-value: p\n",
    "p = np.sum(perm_replicates >= empirical_diff_means) / len(perm_replicates)\n",
    "\n",
    "# Print the result\n",
    "print(\"p-value =\", p)"
   ]
  },
  {
   "cell_type": "markdown",
   "id": "cc01b916",
   "metadata": {
    "hidden": true
   },
   "source": [
    "## Bootstrap Hypothesis Test"
   ]
  },
  {
   "cell_type": "code",
   "execution_count": 31,
   "id": "6996fcfb",
   "metadata": {
    "ExecuteTime": {
     "end_time": "2021-08-20T18:31:10.551436Z",
     "start_time": "2021-08-20T18:31:10.281574Z"
    },
    "hidden": true
   },
   "outputs": [
    {
     "name": "stdout",
     "output_type": "stream",
     "text": [
      "p =  0.0046\n"
     ]
    }
   ],
   "source": [
    "# A one-sample bootstrap hypothesis test\n",
    "\n",
    "# set random seed/\n",
    "np.random.seed(42)\n",
    "\n",
    "# Make an array of translated impact forces: translated_force_b\n",
    "translated_force_b = force_b - np.mean(force_b) + 0.55\n",
    "\n",
    "# Take bootstrap replicates of Frog B's translated impact forces: bs_replicates\n",
    "bs_replicates = draw_bs_reps(translated_force_b, np.mean, 10000)\n",
    "\n",
    "# Compute fraction of replicates that are less than the observed Frog B force: p\n",
    "p = np.sum(bs_replicates <= np.mean(force_b)) / 10000\n",
    "\n",
    "# Print the p-value\n",
    "print(\"p = \", p)"
   ]
  },
  {
   "cell_type": "code",
   "execution_count": 32,
   "id": "eccb6815",
   "metadata": {
    "ExecuteTime": {
     "end_time": "2021-08-20T18:31:11.064842Z",
     "start_time": "2021-08-20T18:31:10.552585Z"
    },
    "hidden": true
   },
   "outputs": [
    {
     "name": "stdout",
     "output_type": "stream",
     "text": [
      "p-value = 0.0042\n"
     ]
    }
   ],
   "source": [
    "# A two-sample bootstrap hypothesis test for difference of means\n",
    "\n",
    "# data\n",
    "forces_concat = np.array(\n",
    "    [\n",
    "        1.612,\n",
    "        0.605,\n",
    "        0.327,\n",
    "        0.946,\n",
    "        0.541,\n",
    "        1.539,\n",
    "        0.529,\n",
    "        0.628,\n",
    "        1.453,\n",
    "        0.297,\n",
    "        0.703,\n",
    "        0.269,\n",
    "        0.751,\n",
    "        0.245,\n",
    "        1.182,\n",
    "        0.515,\n",
    "        0.435,\n",
    "        0.383,\n",
    "        0.457,\n",
    "        0.73,\n",
    "        0.172,\n",
    "        0.142,\n",
    "        0.037,\n",
    "        0.453,\n",
    "        0.355,\n",
    "        0.022,\n",
    "        0.502,\n",
    "        0.273,\n",
    "        0.72,\n",
    "        0.582,\n",
    "        0.198,\n",
    "        0.198,\n",
    "        0.597,\n",
    "        0.516,\n",
    "        0.815,\n",
    "        0.402,\n",
    "        0.605,\n",
    "        0.711,\n",
    "        0.614,\n",
    "        0.468,\n",
    "    ]\n",
    ")\n",
    "\n",
    "# Compute mean of all forces: mean_force\n",
    "mean_force = forces_concat.mean()\n",
    "\n",
    "# Generate shifted arrays\n",
    "force_a_shifted = force_a - np.mean(force_a) + mean_force\n",
    "force_b_shifted = force_b - np.mean(force_b) + mean_force\n",
    "\n",
    "# Compute 10,000 bootstrap replicates from shifted arrays\n",
    "bs_replicates_a = draw_bs_reps(force_a_shifted, np.mean, 10000)\n",
    "bs_replicates_b = draw_bs_reps(force_b_shifted, np.mean, 10000)\n",
    "\n",
    "# Get replicates of difference of means: bs_replicates\n",
    "bs_replicates = bs_replicates_a - bs_replicates_b\n",
    "\n",
    "# Compute and print p-value: p\n",
    "p = np.sum(bs_replicates >= empirical_diff_means) / len(bs_replicates)\n",
    "print(\"p-value =\", p)"
   ]
  },
  {
   "cell_type": "markdown",
   "id": "6664d71b",
   "metadata": {},
   "source": [
    "# Hypothesis Testing Examples"
   ]
  },
  {
   "cell_type": "markdown",
   "id": "b80ada1c",
   "metadata": {
    "heading_collapsed": true
   },
   "source": [
    "## A/B Testing"
   ]
  },
  {
   "cell_type": "markdown",
   "id": "0f8ac712",
   "metadata": {
    "hidden": true
   },
   "source": [
    "A/B testing is often used by organizations to see if a change in strategy gives different, hopefully better, results. Generally, the null hypothesis in an A/B test is that your test statistic is impervious to the change. A low p-value implies that the change in strategy lead to a change in performance. Once again, though, be warned that statistical significance does not mean practical significance. A difference in click-though rate may be statistically significant, but if it is only a couple people more per day, your marketing team may not consider the change worth the cost. A/B testing is just a special case of the hypothesis testing framework we have already been working with, a fun and informative one.\n",
    "\n",
    "Imagine your company has a proposed redesign of the splash page of its website. They are interested in how many more users click through to the website for the redesign versus the original design. You devise a test.\n",
    "\n",
    "Take a set of 1000 visitors to the site and direct 500 of them to the original splash page and 500 of them to the redesigned one. You determine whether or not each of them clicks through to the rest of the website. On the original page, which we'll call page A.\n",
    "\n",
    "45 visitors clicked through, and on the redesigned page, page B, 67 visitors clicked through. This makes you happy because that is almost a 50% increase in the click-through rate. But maybe there really is no difference between the effect of two designs on click-through rate and the difference you saw is due the random chance. You want to check: what is the probability that you would observe at least the observed difference in number of clicks through if that were the case?\n",
    "\n",
    "This is asking exactly the question you can address with a hypothesis test. A permutation test is a good choice here because you can simulate the result as if the redesign had no effect on the click-through rate."
   ]
  },
  {
   "cell_type": "markdown",
   "id": "ed39955e",
   "metadata": {
    "hidden": true
   },
   "source": [
    "### Civil Rights Act Vote"
   ]
  },
  {
   "cell_type": "markdown",
   "id": "4aa501da",
   "metadata": {
    "hidden": true
   },
   "source": [
    "The Civil Rights Act of 1964 was one of the most important pieces of legislation ever passed in the USA. Excluding \"present\" and \"abstain\" votes, 153 House Democrats and 136 Republicans voted yea. However, 91 Democrats and 35 Republicans voted nay. Did party affiliation make a difference in the vote?"
   ]
  },
  {
   "cell_type": "code",
   "execution_count": 33,
   "id": "e64582d8",
   "metadata": {
    "ExecuteTime": {
     "end_time": "2021-08-20T18:31:11.246445Z",
     "start_time": "2021-08-20T18:31:11.065863Z"
    },
    "hidden": true
   },
   "outputs": [
    {
     "name": "stdout",
     "output_type": "stream",
     "text": [
      "p-value = 0.0001\n"
     ]
    }
   ],
   "source": [
    "# Construct arrays of data: dems, reps\n",
    "dem_votes = np.array([True] * 153 + [False] * 91)\n",
    "gop_votes = np.array([True] * 136 + [False] * 35)\n",
    "actual_yeas = np.sum(dem_votes) / np.sum(gop_votes)\n",
    "\n",
    "\n",
    "def frac_yea_dems(dems, reps):\n",
    "    \"\"\"Compute fraction of Democrat yea votes.\"\"\"\n",
    "    frac = np.sum(dems) / len(dems)\n",
    "    return frac\n",
    "\n",
    "\n",
    "# Acquire permutation samples: perm_replicates\n",
    "perm_replicates = draw_perm_reps(dem_votes, gop_votes, frac_yea_dems, 10000)\n",
    "\n",
    "# Compute and print p-value: p\n",
    "p = np.sum(perm_replicates <= 153 / 244) / len(perm_replicates)\n",
    "print(\"p-value =\", p)"
   ]
  },
  {
   "cell_type": "markdown",
   "id": "984f04d3",
   "metadata": {
    "hidden": true
   },
   "source": [
    "### No-Hitters"
   ]
  },
  {
   "cell_type": "markdown",
   "id": "406843dd",
   "metadata": {
    "hidden": true
   },
   "source": [
    "We return to the no-hitter data set. In 1920, Major League Baseball implemented important rule changes that ended the so-called dead ball era. Importantly, the pitcher was no longer allowed to spit on or scuff the ball, an activity that greatly favors pitchers. In this problem you will perform an A/B test to determine if these rule changes resulted in a slower rate of no-hitters (i.e., longer average time between no-hitters) using the difference in mean inter-no-hitter time as your test statistic. The inter-no-hitter times for the respective eras are stored in the arrays nht_dead and nht_live, where \"nht\" is meant to stand for \"no-hitter time.\""
   ]
  },
  {
   "cell_type": "code",
   "execution_count": 34,
   "id": "4f31132e",
   "metadata": {
    "ExecuteTime": {
     "end_time": "2021-08-20T18:31:11.258759Z",
     "start_time": "2021-08-20T18:31:11.247556Z"
    },
    "hidden": true
   },
   "outputs": [],
   "source": [
    "nht_dead = np.array(\n",
    "    [\n",
    "        -1,\n",
    "        894,\n",
    "        10,\n",
    "        130,\n",
    "        1,\n",
    "        934,\n",
    "        29,\n",
    "        6,\n",
    "        485,\n",
    "        254,\n",
    "        372,\n",
    "        81,\n",
    "        191,\n",
    "        355,\n",
    "        180,\n",
    "        286,\n",
    "        47,\n",
    "        269,\n",
    "        361,\n",
    "        173,\n",
    "        246,\n",
    "        492,\n",
    "        462,\n",
    "        1319,\n",
    "        58,\n",
    "        297,\n",
    "        31,\n",
    "        2970,\n",
    "        640,\n",
    "        237,\n",
    "        434,\n",
    "        570,\n",
    "        77,\n",
    "        271,\n",
    "        563,\n",
    "        3365,\n",
    "        89,\n",
    "        0,\n",
    "        379,\n",
    "        221,\n",
    "        479,\n",
    "        367,\n",
    "        628,\n",
    "        843,\n",
    "        1613,\n",
    "        1101,\n",
    "        215,\n",
    "        684,\n",
    "        814,\n",
    "        278,\n",
    "        324,\n",
    "        161,\n",
    "        219,\n",
    "        545,\n",
    "        715,\n",
    "        966,\n",
    "        624,\n",
    "        29,\n",
    "        450,\n",
    "        107,\n",
    "        20,\n",
    "        91,\n",
    "        1325,\n",
    "        124,\n",
    "        1468,\n",
    "        104,\n",
    "        1309,\n",
    "        429,\n",
    "        62,\n",
    "        1878,\n",
    "        1104,\n",
    "        123,\n",
    "        251,\n",
    "        93,\n",
    "        188,\n",
    "        983,\n",
    "        166,\n",
    "        96,\n",
    "        702,\n",
    "        23,\n",
    "        524,\n",
    "        26,\n",
    "        299,\n",
    "        59,\n",
    "        39,\n",
    "        12,\n",
    "        2,\n",
    "        308,\n",
    "        1114,\n",
    "        813,\n",
    "        887,\n",
    "    ]\n",
    ")\n",
    "nht_live = np.array(\n",
    "    [\n",
    "        645,\n",
    "        2088,\n",
    "        42,\n",
    "        2090,\n",
    "        11,\n",
    "        886,\n",
    "        1665,\n",
    "        1084,\n",
    "        2900,\n",
    "        2432,\n",
    "        750,\n",
    "        4021,\n",
    "        1070,\n",
    "        1765,\n",
    "        1322,\n",
    "        26,\n",
    "        548,\n",
    "        1525,\n",
    "        77,\n",
    "        2181,\n",
    "        2752,\n",
    "        127,\n",
    "        2147,\n",
    "        211,\n",
    "        41,\n",
    "        1575,\n",
    "        151,\n",
    "        479,\n",
    "        697,\n",
    "        557,\n",
    "        2267,\n",
    "        542,\n",
    "        392,\n",
    "        73,\n",
    "        603,\n",
    "        233,\n",
    "        255,\n",
    "        528,\n",
    "        397,\n",
    "        1529,\n",
    "        1023,\n",
    "        1194,\n",
    "        462,\n",
    "        583,\n",
    "        37,\n",
    "        943,\n",
    "        996,\n",
    "        480,\n",
    "        1497,\n",
    "        717,\n",
    "        224,\n",
    "        219,\n",
    "        1531,\n",
    "        498,\n",
    "        44,\n",
    "        288,\n",
    "        267,\n",
    "        600,\n",
    "        52,\n",
    "        269,\n",
    "        1086,\n",
    "        386,\n",
    "        176,\n",
    "        2199,\n",
    "        216,\n",
    "        54,\n",
    "        675,\n",
    "        1243,\n",
    "        463,\n",
    "        650,\n",
    "        171,\n",
    "        327,\n",
    "        110,\n",
    "        774,\n",
    "        509,\n",
    "        8,\n",
    "        197,\n",
    "        136,\n",
    "        12,\n",
    "        1124,\n",
    "        64,\n",
    "        380,\n",
    "        811,\n",
    "        232,\n",
    "        192,\n",
    "        731,\n",
    "        715,\n",
    "        226,\n",
    "        605,\n",
    "        539,\n",
    "        1491,\n",
    "        323,\n",
    "        240,\n",
    "        179,\n",
    "        702,\n",
    "        156,\n",
    "        82,\n",
    "        1397,\n",
    "        354,\n",
    "        778,\n",
    "        603,\n",
    "        1001,\n",
    "        385,\n",
    "        986,\n",
    "        203,\n",
    "        149,\n",
    "        576,\n",
    "        445,\n",
    "        180,\n",
    "        1403,\n",
    "        252,\n",
    "        675,\n",
    "        1351,\n",
    "        2983,\n",
    "        1568,\n",
    "        45,\n",
    "        899,\n",
    "        3260,\n",
    "        1025,\n",
    "        31,\n",
    "        100,\n",
    "        2055,\n",
    "        4043,\n",
    "        79,\n",
    "        238,\n",
    "        3931,\n",
    "        2351,\n",
    "        595,\n",
    "        110,\n",
    "        215,\n",
    "        0,\n",
    "        563,\n",
    "        206,\n",
    "        660,\n",
    "        242,\n",
    "        577,\n",
    "        179,\n",
    "        157,\n",
    "        192,\n",
    "        192,\n",
    "        1848,\n",
    "        792,\n",
    "        1693,\n",
    "        55,\n",
    "        388,\n",
    "        225,\n",
    "        1134,\n",
    "        1172,\n",
    "        1555,\n",
    "        31,\n",
    "        1582,\n",
    "        1044,\n",
    "        378,\n",
    "        1687,\n",
    "        2915,\n",
    "        280,\n",
    "        765,\n",
    "        2819,\n",
    "        511,\n",
    "        1521,\n",
    "        745,\n",
    "        2491,\n",
    "        580,\n",
    "        2072,\n",
    "        6450,\n",
    "        578,\n",
    "        745,\n",
    "        1075,\n",
    "        1103,\n",
    "        1549,\n",
    "        1520,\n",
    "        138,\n",
    "        1202,\n",
    "        296,\n",
    "        277,\n",
    "        351,\n",
    "        391,\n",
    "        950,\n",
    "        459,\n",
    "        62,\n",
    "        1056,\n",
    "        1128,\n",
    "        139,\n",
    "        420,\n",
    "        87,\n",
    "        71,\n",
    "        814,\n",
    "        603,\n",
    "        1349,\n",
    "        162,\n",
    "        1027,\n",
    "        783,\n",
    "        326,\n",
    "        101,\n",
    "        876,\n",
    "        381,\n",
    "        905,\n",
    "        156,\n",
    "        419,\n",
    "        239,\n",
    "        119,\n",
    "        129,\n",
    "        467,\n",
    "    ]\n",
    ")"
   ]
  },
  {
   "cell_type": "code",
   "execution_count": 35,
   "id": "0d1eb689",
   "metadata": {
    "ExecuteTime": {
     "end_time": "2021-08-20T18:31:11.484987Z",
     "start_time": "2021-08-20T18:31:11.259789Z"
    },
    "hidden": true
   },
   "outputs": [
    {
     "name": "stdout",
     "output_type": "stream",
     "text": [
      "p-val = 0.0\n"
     ]
    }
   ],
   "source": [
    "# Compute the observed difference in mean inter-no-hitter times: nht_diff_obs\n",
    "nht_diff_obs = diff_of_means(nht_dead, nht_live)\n",
    "\n",
    "# Acquire 10,000 permutation replicates of difference in mean no-hitter time: perm_replicates\n",
    "perm_replicates = draw_perm_reps(nht_dead, nht_live, diff_of_means, size=10000)\n",
    "\n",
    "\n",
    "# Compute and print the p-value: p\n",
    "p = np.sum(perm_replicates <= nht_diff_obs) / len(perm_replicates)\n",
    "print(\"p-val =\", p)"
   ]
  },
  {
   "cell_type": "markdown",
   "id": "7d5d7ff5",
   "metadata": {
    "hidden": true
   },
   "source": [
    "Your p-value is 0.0001, which means that only one out of your 10,000 replicates had a result as extreme as the actual difference between the dead ball and live ball eras. This suggests strong statistical significance. Watch out, though, you could very well have gotten zero replicates that were as extreme as the observed value. This just means that the p-value is quite small, almost certainly smaller than 0.001."
   ]
  },
  {
   "cell_type": "markdown",
   "id": "4e43152c",
   "metadata": {},
   "source": [
    "## Test of Correlation"
   ]
  },
  {
   "cell_type": "markdown",
   "id": "0970bbcc",
   "metadata": {},
   "source": [
    "### Female Illiteracy and Fertility"
   ]
  },
  {
   "cell_type": "markdown",
   "id": "93fa8efe",
   "metadata": {},
   "source": [
    "Hypothesis test on Pearson correlation:\n",
    "\n",
    "The observed correlation between female illiteracy and fertility in the data set of 162 countries may just be by chance; the fertility of a given country may actually be totally independent of its illiteracy. You will test this null hypothesis in the next exercise.\n",
    "\n",
    "To do the test, you need to simulate the data assuming the null hypothesis is true. Of the following choices, which is the best way to do it?\n",
    "\n",
    "Do a permutation test: Permute the illiteracy values but leave the fertility values fixed to generate a new set of (illiteracy, fertility) data. Yes, this exactly simulates the null hypothesis and does so more efficiently than the last option. It is exact because it uses all data and eliminates any correlation because which illiteracy value pairs to which fertility value is shuffled."
   ]
  },
  {
   "cell_type": "code",
   "execution_count": 36,
   "id": "e6f8ef12",
   "metadata": {
    "ExecuteTime": {
     "end_time": "2021-08-20T18:31:12.276308Z",
     "start_time": "2021-08-20T18:31:11.486285Z"
    }
   },
   "outputs": [
    {
     "name": "stdout",
     "output_type": "stream",
     "text": [
      "p-val = 0.0\n"
     ]
    }
   ],
   "source": [
    "# Compute observed correlation: r_obs\n",
    "r_obs = pearson_r(illiteracy, fertility)\n",
    "\n",
    "# Initialize permutation replicates: perm_replicates\n",
    "perm_replicates = np.empty(100000)\n",
    "\n",
    "# Draw replicates\n",
    "for i in range(10000):\n",
    "    # Permute illiteracy measurments: illiteracy_permuted\n",
    "    illiteracy_permuted = np.random.permutation(illiteracy)\n",
    "\n",
    "    # Compute Pearson correlation\n",
    "    perm_replicates[i] = pearson_r(illiteracy_permuted, fertility)\n",
    "\n",
    "# Compute p-value: p\n",
    "p = np.sum(perm_replicates >= r_obs) / len(perm_replicates)\n",
    "print(\"p-val =\", p)"
   ]
  },
  {
   "cell_type": "markdown",
   "id": "2ecfce7b",
   "metadata": {},
   "source": [
    "You got a p-value of zero. In hacker statistics, this means that your p-value is very low, since you never got a single replicate in the 10,000 you took that had a Pearson correlation greater than the observed one. You could try increasing the number of replicates you take to continue to move the upper bound on your p-value lower and lower."
   ]
  },
  {
   "cell_type": "markdown",
   "id": "deda9675",
   "metadata": {},
   "source": [
    "### Neonicotinoid Insecticides"
   ]
  },
  {
   "cell_type": "markdown",
   "id": "fffb46cd",
   "metadata": {},
   "source": [
    "In a recent study, [Straub, et al. (Proc. Roy. Soc. B, 2016)](http://dx.doi.org/10.1098/rspb.2016.0506) investigated the effects of neonicotinoids on the sperm of pollinating bees. In this and the next exercise, you will study how the pesticide treatment affected the count of live sperm per half milliliter of semen.\n",
    "\n",
    "First, we will do EDA, as usual. Plot ECDFs of the alive sperm count for untreated bees (stored in the Numpy array control) and bees treated with pesticide (stored in the Numpy array treated)."
   ]
  },
  {
   "cell_type": "code",
   "execution_count": 37,
   "id": "b2772f54",
   "metadata": {
    "ExecuteTime": {
     "end_time": "2021-08-20T18:31:12.284976Z",
     "start_time": "2021-08-20T18:31:12.277309Z"
    }
   },
   "outputs": [],
   "source": [
    "control = np.array(\n",
    "    [\n",
    "        4.159234,\n",
    "        4.408002,\n",
    "        0.172812,\n",
    "        3.498278,\n",
    "        3.104912,\n",
    "        5.164174,\n",
    "        6.615262,\n",
    "        4.633066,\n",
    "        0.170408,\n",
    "        2.65,\n",
    "        0.0875,\n",
    "        1.997148,\n",
    "        6.92668,\n",
    "        4.574932,\n",
    "        3.896466,\n",
    "        5.209814,\n",
    "        3.70625,\n",
    "        0.0,\n",
    "        4.62545,\n",
    "        3.01444,\n",
    "        0.732652,\n",
    "        0.4,\n",
    "        6.518382,\n",
    "        5.225,\n",
    "        6.218742,\n",
    "        6.840358,\n",
    "        1.211308,\n",
    "        0.368252,\n",
    "        3.59937,\n",
    "        4.212158,\n",
    "        6.052364,\n",
    "        2.115532,\n",
    "        6.60413,\n",
    "        5.26074,\n",
    "        6.05695,\n",
    "        6.481172,\n",
    "        3.171522,\n",
    "        3.057228,\n",
    "        0.218808,\n",
    "        5.215112,\n",
    "        4.465168,\n",
    "        2.28909,\n",
    "        3.732572,\n",
    "        2.17087,\n",
    "        1.834326,\n",
    "        6.074862,\n",
    "        5.841978,\n",
    "        8.524892,\n",
    "        4.698492,\n",
    "        2.965624,\n",
    "        2.324206,\n",
    "        3.409412,\n",
    "        4.830726,\n",
    "        0.1,\n",
    "        0.0,\n",
    "        4.101432,\n",
    "        3.478162,\n",
    "        1.009688,\n",
    "        4.999296,\n",
    "        4.32196,\n",
    "        0.299592,\n",
    "        3.606032,\n",
    "        7.54026,\n",
    "        4.284024,\n",
    "        0.057494,\n",
    "        6.036668,\n",
    "        2.924084,\n",
    "        4.150144,\n",
    "        1.256926,\n",
    "        4.666502,\n",
    "        4.806594,\n",
    "        2.52478,\n",
    "        2.027654,\n",
    "        2.52283,\n",
    "        4.735598,\n",
    "        2.033236,\n",
    "        0.0,\n",
    "        6.177294,\n",
    "        2.601834,\n",
    "        3.544408,\n",
    "        3.6045,\n",
    "        5.520346,\n",
    "        4.80698,\n",
    "        3.002478,\n",
    "        3.559816,\n",
    "        7.075844,\n",
    "        10.0,\n",
    "        0.139772,\n",
    "        6.17171,\n",
    "        3.201232,\n",
    "        8.459546,\n",
    "        0.17857,\n",
    "        7.088276,\n",
    "        5.496662,\n",
    "        5.415086,\n",
    "        1.932282,\n",
    "        3.02838,\n",
    "        7.47996,\n",
    "        1.86259,\n",
    "        7.838498,\n",
    "        2.242718,\n",
    "        3.292958,\n",
    "        6.363644,\n",
    "        4.386898,\n",
    "        8.47533,\n",
    "        4.156304,\n",
    "        1.463956,\n",
    "        4.533628,\n",
    "        5.573922,\n",
    "        1.29454,\n",
    "        7.547504,\n",
    "        3.92466,\n",
    "        5.820258,\n",
    "        4.118522,\n",
    "        4.125,\n",
    "        2.286698,\n",
    "        0.591882,\n",
    "        1.273124,\n",
    "        0.0,\n",
    "        0.0,\n",
    "        0.0,\n",
    "        12.22502,\n",
    "        7.601604,\n",
    "        5.56798,\n",
    "        1.679914,\n",
    "        8.77096,\n",
    "        5.823942,\n",
    "        0.258374,\n",
    "        0.0,\n",
    "        5.899236,\n",
    "        5.486354,\n",
    "        2.053148,\n",
    "        3.25541,\n",
    "        2.72564,\n",
    "        3.364066,\n",
    "        2.43427,\n",
    "        5.282548,\n",
    "        3.963666,\n",
    "        0.24851,\n",
    "        0.347916,\n",
    "        4.046862,\n",
    "        5.461436,\n",
    "        4.066104,\n",
    "        0.0,\n",
    "        0.065,\n",
    "    ]\n",
    ")\n",
    "treated = np.array(\n",
    "    [\n",
    "        1.342686,\n",
    "        1.058476,\n",
    "        3.793784,\n",
    "        0.40428,\n",
    "        4.528388,\n",
    "        2.142966,\n",
    "        3.937742,\n",
    "        0.1375,\n",
    "        6.919164,\n",
    "        0.0,\n",
    "        3.597812,\n",
    "        5.196538,\n",
    "        2.78955,\n",
    "        2.3229,\n",
    "        1.090636,\n",
    "        5.323916,\n",
    "        1.021618,\n",
    "        0.931836,\n",
    "        2.78,\n",
    "        0.412202,\n",
    "        1.180934,\n",
    "        2.8674,\n",
    "        0.0,\n",
    "        0.064354,\n",
    "        3.008348,\n",
    "        0.876634,\n",
    "        0.0,\n",
    "        4.971712,\n",
    "        7.280658,\n",
    "        4.79732,\n",
    "        2.084956,\n",
    "        3.251514,\n",
    "        1.9405,\n",
    "        1.566192,\n",
    "        0.58894,\n",
    "        5.219658,\n",
    "        0.977976,\n",
    "        3.124584,\n",
    "        1.297564,\n",
    "        1.433328,\n",
    "        4.24337,\n",
    "        0.880964,\n",
    "        2.376566,\n",
    "        3.763658,\n",
    "        1.918426,\n",
    "        3.74,\n",
    "        3.841726,\n",
    "        4.69964,\n",
    "        4.386876,\n",
    "        0.0,\n",
    "        1.127432,\n",
    "        1.845452,\n",
    "        0.690314,\n",
    "        4.185602,\n",
    "        2.284732,\n",
    "        7.237594,\n",
    "        2.185148,\n",
    "        2.799124,\n",
    "        3.43218,\n",
    "        0.63354,\n",
    "        1.142496,\n",
    "        0.586,\n",
    "        2.372858,\n",
    "        1.80032,\n",
    "        3.329306,\n",
    "        4.028804,\n",
    "        3.474156,\n",
    "        7.508752,\n",
    "        2.032824,\n",
    "        1.336556,\n",
    "        1.906496,\n",
    "        1.396046,\n",
    "        2.488104,\n",
    "        4.759114,\n",
    "        1.07853,\n",
    "        3.19927,\n",
    "        3.814252,\n",
    "        4.275962,\n",
    "        2.817056,\n",
    "        0.552198,\n",
    "        3.27194,\n",
    "        5.11525,\n",
    "        2.064628,\n",
    "        0.0,\n",
    "        3.34101,\n",
    "        6.177322,\n",
    "        0.0,\n",
    "        3.66415,\n",
    "        2.352582,\n",
    "        1.531696,\n",
    "    ]\n",
    ")"
   ]
  },
  {
   "cell_type": "code",
   "execution_count": 38,
   "id": "270541b2",
   "metadata": {
    "ExecuteTime": {
     "end_time": "2021-08-20T18:31:12.406181Z",
     "start_time": "2021-08-20T18:31:12.285900Z"
    }
   },
   "outputs": [
    {
     "data": {
      "image/png": "[encoded data removed]",
      "text/plain": [
       "<Figure size 1080x432 with 1 Axes>"
      ]
     },
     "metadata": {
      "needs_background": "light"
     },
     "output_type": "display_data"
    }
   ],
   "source": [
    "# Compute x,y values for ECDFs\n",
    "x_control, y_control = ecdf(control)\n",
    "x_treated, y_treated = ecdf(treated)\n",
    "\n",
    "# Plot the ECDFs\n",
    "plt.plot(x_control, y_control, marker=\".\", linestyle=\"none\")\n",
    "plt.plot(x_treated, y_treated, marker=\".\", linestyle=\"none\")\n",
    "\n",
    "# Set the margins\n",
    "plt.margins(0.02)\n",
    "\n",
    "# Add a legend\n",
    "plt.legend((\"control\", \"treated\"), loc=\"lower right\")\n",
    "\n",
    "# Label axes and show plot\n",
    "plt.xlabel(\"millions of alive sperm per mL\")\n",
    "plt.ylabel(\"ECDF\")\n",
    "plt.show()"
   ]
  },
  {
   "cell_type": "markdown",
   "id": "aeb3e354",
   "metadata": {},
   "source": [
    "Bootstrap hypothesis test on bee sperm counts\n",
    "\n",
    "Null hypothesis: On average, male bees treated with neonicotinoid insecticide have the same number of active sperm per milliliter of semen than do untreated male bees. You will use the difference of means as your test statistic."
   ]
  },
  {
   "cell_type": "code",
   "execution_count": 39,
   "id": "147a2087",
   "metadata": {
    "ExecuteTime": {
     "end_time": "2021-08-20T18:31:12.901287Z",
     "start_time": "2021-08-20T18:31:12.407191Z"
    }
   },
   "outputs": [
    {
     "name": "stdout",
     "output_type": "stream",
     "text": [
      "p-value = 0.0002\n"
     ]
    }
   ],
   "source": [
    "# Compute the difference in mean sperm count: diff_means\n",
    "diff_means = np.mean(control) - np.mean(treated)\n",
    "\n",
    "# Compute mean of pooled data: mean_count\n",
    "mean_count = np.mean(np.concatenate((control, treated)))\n",
    "\n",
    "# Generate shifted data sets\n",
    "control_shifted = control - np.mean(control) + mean_count\n",
    "treated_shifted = treated - np.mean(treated) + mean_count\n",
    "\n",
    "# Generate bootstrap replicates\n",
    "bs_reps_control = draw_bs_reps(control_shifted, np.mean, size=10000)\n",
    "bs_reps_treated = draw_bs_reps(treated_shifted, np.mean, size=10000)\n",
    "\n",
    "# Get replicates of difference of means: bs_replicates\n",
    "bs_replicates = bs_reps_control - bs_reps_treated\n",
    "\n",
    "# Compute and print p-value: p\n",
    "p = np.sum(bs_replicates >= np.mean(control) - np.mean(treated)) / len(bs_replicates)\n",
    "print(\"p-value =\", p)"
   ]
  },
  {
   "cell_type": "markdown",
   "id": "29e28b22",
   "metadata": {},
   "source": [
    "The p-value is small, most likely less than 0.0001, since you never saw a bootstrap replicated with a difference of means at least as extreme as what was observed. In fact, when I did the calculation with 10 million replicates, I got a p-value of 2e-05."
   ]
  }
 ],
 "metadata": {
  "kernelspec": {
   "display_name": "Python 3 (ipykernel)",
   "language": "python",
   "name": "python3"
  },
  "language_info": {
   "codemirror_mode": {
    "name": "ipython",
    "version": 3
   },
   "file_extension": ".py",
   "mimetype": "text/x-python",
   "name": "python",
   "nbconvert_exporter": "python",
   "pygments_lexer": "ipython3",
   "version": "3.8.0"
  },
  "toc": {
   "base_numbering": 1,
   "nav_menu": {},
   "number_sections": true,
   "sideBar": true,
   "skip_h1_title": false,
   "title_cell": "Table of Contents",
   "title_sidebar": "Contents",
   "toc_cell": false,
   "toc_position": {
    "height": "calc(100% - 180px)",
    "left": "10px",
    "top": "150px",
    "width": "349.091px"
   },
   "toc_section_display": true,
   "toc_window_display": true
  },
  "varInspector": {
   "cols": {
    "lenName": 16,
    "lenType": 16,
    "lenVar": 40
   },
   "kernels_config": {
    "python": {
     "delete_cmd_postfix": "",
     "delete_cmd_prefix": "del ",
     "library": "var_list.py",
     "varRefreshCmd": "print(var_dic_list())"
    },
    "r": {
     "delete_cmd_postfix": ") ",
     "delete_cmd_prefix": "rm(",
     "library": "var_list.r",
     "varRefreshCmd": "cat(var_dic_list()) "
    }
   },
   "types_to_exclude": [
    "module",
    "function",
    "builtin_function_or_method",
    "instance",
    "_Feature"
   ],
   "window_display": false
  }
 },
 "nbformat": 4,
 "nbformat_minor": 5
}
