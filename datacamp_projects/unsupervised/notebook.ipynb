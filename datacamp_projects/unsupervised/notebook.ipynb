{
 "cells": [
  {
   "cell_type": "markdown",
   "id": "79b685ca",
   "metadata": {},
   "source": [
    "# Imports"
   ]
  },
  {
   "cell_type": "code",
   "execution_count": 1,
   "id": "a7ca8503",
   "metadata": {
    "ExecuteTime": {
     "end_time": "2021-09-21T22:14:26.817661Z",
     "start_time": "2021-09-21T22:14:26.814946Z"
    }
   },
   "outputs": [],
   "source": [
    "import datetime\n",
    "import glob\n",
    "import itertools\n",
    "import json\n",
    "import os\n",
    "import pickle\n",
    "import random\n",
    "import re\n",
    "from string import punctuation"
   ]
  },
  {
   "cell_type": "code",
   "execution_count": 2,
   "id": "d9110f66",
   "metadata": {
    "ExecuteTime": {
     "end_time": "2021-09-21T22:14:28.493458Z",
     "start_time": "2021-09-21T22:14:27.373936Z"
    }
   },
   "outputs": [],
   "source": [
    "import statistics\n",
    "\n",
    "import fuzzywuzzy\n",
    "import geopandas as gpd\n",
    "import humanize\n",
    "import missingno as msno\n",
    "import numpy as np\n",
    "import pandas as pd\n",
    "import recordlinkage\n",
    "import scipy as sp\n",
    "import statsmodels.formula.api as smf\n",
    "from pandas_profiling import ProfileReport"
   ]
  },
  {
   "cell_type": "code",
   "execution_count": 3,
   "id": "6ace0d30",
   "metadata": {
    "ExecuteTime": {
     "end_time": "2021-09-21T22:14:28.639852Z",
     "start_time": "2021-09-21T22:14:28.507905Z"
    }
   },
   "outputs": [],
   "source": [
    "SMALL_SIZE = 10\n",
    "MEDIUM_SIZE = 14\n",
    "BIGGER_SIZE = 18\n",
    "MAPBOX_STYLE = \"dark\"\n",
    "MAPBOX_HEIGHT = 800\n",
    "%matplotlib inline\n",
    "import matplotlib as mpl\n",
    "import matplotlib.font_manager\n",
    "import matplotlib.pyplot as plt\n",
    "import plotly.express as px\n",
    "import plotly.graph_objects as go\n",
    "import seaborn as sns\n",
    "from matplotlib.ticker import PercentFormatter\n",
    "\n",
    "px.set_mapbox_access_token(os.getenv(\"MAPBOX_TOKEN\"))\n",
    "matplotlib.font_manager.findSystemFonts(fontpaths=None, fontext=\"ttf\")\n",
    "plt.style.use(\"seaborn-colorblind\")\n",
    "plt.rcParams[\"font.family\"] = \"sans-serif\"\n",
    "plt.rcParams[\"font.sans-serif\"] = \"Open Sans\"\n",
    "plt.rcParams[\"figure.figsize\"] = 15, 6\n",
    "plt.rc('font', size=SMALL_SIZE)          # controls default text sizes\n",
    "plt.rc('axes', titlesize=SMALL_SIZE)     # fontsize of the axes title\n",
    "plt.rc('axes', labelsize=MEDIUM_SIZE)    # fontsize of the x and y labels\n",
    "plt.rc('xtick', labelsize=SMALL_SIZE)    # fontsize of the tick labels\n",
    "plt.rc('ytick', labelsize=SMALL_SIZE)    # fontsize of the tick labels\n",
    "plt.rc('legend', fontsize=SMALL_SIZE)    # legend fontsize\n",
    "plt.rc('figure', titlesize=BIGGER_SIZE)  # fontsize of the figure title"
   ]
  },
  {
   "cell_type": "code",
   "execution_count": 4,
   "id": "00ca4ce5",
   "metadata": {
    "ExecuteTime": {
     "end_time": "2021-09-21T22:14:29.038991Z",
     "start_time": "2021-09-21T22:14:29.019226Z"
    }
   },
   "outputs": [],
   "source": [
    "from sklearn import __version__ as sklearn_version\n",
    "from sklearn.cluster import KMeans\n",
    "from sklearn.decomposition import NMF, PCA\n",
    "from sklearn.dummy import DummyRegressor\n",
    "from sklearn.ensemble import RandomForestRegressor\n",
    "from sklearn.feature_selection import SelectKBest, f_regression\n",
    "from sklearn.impute import SimpleImputer\n",
    "from sklearn.linear_model import LinearRegression, LogisticRegression\n",
    "from sklearn.manifold import TSNE\n",
    "from sklearn.metrics import (average_precision_score, classification_report,\n",
    "                             confusion_matrix, mean_absolute_error,\n",
    "                             mean_squared_error, plot_precision_recall_curve,\n",
    "                             precision_recall_curve, r2_score, roc_auc_score,\n",
    "                             roc_curve)\n",
    "from sklearn.model_selection import (GridSearchCV, KFold, cross_val_score,\n",
    "                                     cross_validate, learning_curve,\n",
    "                                     train_test_split)\n",
    "from sklearn.neighbors import KNeighborsClassifier\n",
    "from sklearn.pipeline import Pipeline, make_pipeline\n",
    "from sklearn.preprocessing import (LabelEncoder, MaxAbsScaler, MinMaxScaler, Normalizer,\n",
    "                                   StandardScaler, normalize, scale)"
   ]
  },
  {
   "cell_type": "markdown",
   "id": "b739a5f8",
   "metadata": {},
   "source": [
    "# Grains"
   ]
  },
  {
   "cell_type": "markdown",
   "id": "f91416bc",
   "metadata": {},
   "source": [
    "## Data"
   ]
  },
  {
   "cell_type": "code",
   "execution_count": 5,
   "id": "6989c776",
   "metadata": {
    "ExecuteTime": {
     "end_time": "2021-09-21T22:14:30.876836Z",
     "start_time": "2021-09-21T22:14:30.867997Z"
    }
   },
   "outputs": [],
   "source": [
    "df = pd.read_csv('datasets/grains/seeds.csv', header=None)\n",
    "varieties = pd.read_csv('datasets/grains/varieties.csv', header=None)\n",
    "assert df.shape[0] == varieties.shape[0], \"Data size mismatch\""
   ]
  },
  {
   "cell_type": "code",
   "execution_count": 6,
   "id": "bfc68f4c",
   "metadata": {
    "ExecuteTime": {
     "end_time": "2021-09-21T22:14:31.527636Z",
     "start_time": "2021-09-21T22:14:31.511303Z"
    }
   },
   "outputs": [
    {
     "name": "stdout",
     "output_type": "stream",
     "text": [
      "(210, 8)\n"
     ]
    },
    {
     "data": {
      "text/html": [
       "<div>\n",
       "<style scoped>\n",
       "    .dataframe tbody tr th:only-of-type {\n",
       "        vertical-align: middle;\n",
       "    }\n",
       "\n",
       "    .dataframe tbody tr th {\n",
       "        vertical-align: top;\n",
       "    }\n",
       "\n",
       "    .dataframe thead th {\n",
       "        text-align: right;\n",
       "    }\n",
       "</style>\n",
       "<table border=\"1\" class=\"dataframe\">\n",
       "  <thead>\n",
       "    <tr style=\"text-align: right;\">\n",
       "      <th></th>\n",
       "      <th>0</th>\n",
       "      <th>1</th>\n",
       "      <th>2</th>\n",
       "      <th>3</th>\n",
       "      <th>4</th>\n",
       "      <th>5</th>\n",
       "      <th>6</th>\n",
       "      <th>7</th>\n",
       "    </tr>\n",
       "  </thead>\n",
       "  <tbody>\n",
       "    <tr>\n",
       "      <th>54</th>\n",
       "      <td>14.52</td>\n",
       "      <td>14.60</td>\n",
       "      <td>0.8557</td>\n",
       "      <td>5.741</td>\n",
       "      <td>3.113</td>\n",
       "      <td>1.481</td>\n",
       "      <td>5.487</td>\n",
       "      <td>1</td>\n",
       "    </tr>\n",
       "    <tr>\n",
       "      <th>131</th>\n",
       "      <td>18.94</td>\n",
       "      <td>16.32</td>\n",
       "      <td>0.8942</td>\n",
       "      <td>6.144</td>\n",
       "      <td>3.825</td>\n",
       "      <td>2.908</td>\n",
       "      <td>5.949</td>\n",
       "      <td>2</td>\n",
       "    </tr>\n",
       "    <tr>\n",
       "      <th>113</th>\n",
       "      <td>19.14</td>\n",
       "      <td>16.61</td>\n",
       "      <td>0.8722</td>\n",
       "      <td>6.259</td>\n",
       "      <td>3.737</td>\n",
       "      <td>6.682</td>\n",
       "      <td>6.053</td>\n",
       "      <td>2</td>\n",
       "    </tr>\n",
       "    <tr>\n",
       "      <th>157</th>\n",
       "      <td>12.13</td>\n",
       "      <td>13.73</td>\n",
       "      <td>0.8081</td>\n",
       "      <td>5.394</td>\n",
       "      <td>2.745</td>\n",
       "      <td>4.825</td>\n",
       "      <td>5.220</td>\n",
       "      <td>3</td>\n",
       "    </tr>\n",
       "    <tr>\n",
       "      <th>55</th>\n",
       "      <td>15.03</td>\n",
       "      <td>14.77</td>\n",
       "      <td>0.8658</td>\n",
       "      <td>5.702</td>\n",
       "      <td>3.212</td>\n",
       "      <td>1.933</td>\n",
       "      <td>5.439</td>\n",
       "      <td>1</td>\n",
       "    </tr>\n",
       "    <tr>\n",
       "      <th>48</th>\n",
       "      <td>14.79</td>\n",
       "      <td>14.52</td>\n",
       "      <td>0.8819</td>\n",
       "      <td>5.545</td>\n",
       "      <td>3.291</td>\n",
       "      <td>2.704</td>\n",
       "      <td>5.111</td>\n",
       "      <td>1</td>\n",
       "    </tr>\n",
       "    <tr>\n",
       "      <th>27</th>\n",
       "      <td>12.74</td>\n",
       "      <td>13.67</td>\n",
       "      <td>0.8564</td>\n",
       "      <td>5.395</td>\n",
       "      <td>2.956</td>\n",
       "      <td>2.504</td>\n",
       "      <td>4.869</td>\n",
       "      <td>1</td>\n",
       "    </tr>\n",
       "    <tr>\n",
       "      <th>134</th>\n",
       "      <td>15.56</td>\n",
       "      <td>14.89</td>\n",
       "      <td>0.8823</td>\n",
       "      <td>5.776</td>\n",
       "      <td>3.408</td>\n",
       "      <td>4.972</td>\n",
       "      <td>5.847</td>\n",
       "      <td>2</td>\n",
       "    </tr>\n",
       "    <tr>\n",
       "      <th>85</th>\n",
       "      <td>18.27</td>\n",
       "      <td>16.09</td>\n",
       "      <td>0.8870</td>\n",
       "      <td>6.173</td>\n",
       "      <td>3.651</td>\n",
       "      <td>2.443</td>\n",
       "      <td>6.197</td>\n",
       "      <td>2</td>\n",
       "    </tr>\n",
       "    <tr>\n",
       "      <th>80</th>\n",
       "      <td>16.53</td>\n",
       "      <td>15.34</td>\n",
       "      <td>0.8823</td>\n",
       "      <td>5.875</td>\n",
       "      <td>3.467</td>\n",
       "      <td>5.532</td>\n",
       "      <td>5.880</td>\n",
       "      <td>2</td>\n",
       "    </tr>\n",
       "  </tbody>\n",
       "</table>\n",
       "</div>"
      ],
      "text/plain": [
       "         0      1       2      3      4      5      6  7\n",
       "54   14.52  14.60  0.8557  5.741  3.113  1.481  5.487  1\n",
       "131  18.94  16.32  0.8942  6.144  3.825  2.908  5.949  2\n",
       "113  19.14  16.61  0.8722  6.259  3.737  6.682  6.053  2\n",
       "157  12.13  13.73  0.8081  5.394  2.745  4.825  5.220  3\n",
       "55   15.03  14.77  0.8658  5.702  3.212  1.933  5.439  1\n",
       "48   14.79  14.52  0.8819  5.545  3.291  2.704  5.111  1\n",
       "27   12.74  13.67  0.8564  5.395  2.956  2.504  4.869  1\n",
       "134  15.56  14.89  0.8823  5.776  3.408  4.972  5.847  2\n",
       "85   18.27  16.09  0.8870  6.173  3.651  2.443  6.197  2\n",
       "80   16.53  15.34  0.8823  5.875  3.467  5.532  5.880  2"
      ]
     },
     "execution_count": 6,
     "metadata": {},
     "output_type": "execute_result"
    }
   ],
   "source": [
    "print(df.shape)\n",
    "df.sample(10)"
   ]
  },
  {
   "cell_type": "code",
   "execution_count": 7,
   "id": "d3f0de0b",
   "metadata": {
    "ExecuteTime": {
     "end_time": "2021-09-21T22:14:32.171242Z",
     "start_time": "2021-09-21T22:14:32.163536Z"
    }
   },
   "outputs": [
    {
     "name": "stdout",
     "output_type": "stream",
     "text": [
      "(210, 1)\n"
     ]
    },
    {
     "data": {
      "text/html": [
       "<div>\n",
       "<style scoped>\n",
       "    .dataframe tbody tr th:only-of-type {\n",
       "        vertical-align: middle;\n",
       "    }\n",
       "\n",
       "    .dataframe tbody tr th {\n",
       "        vertical-align: top;\n",
       "    }\n",
       "\n",
       "    .dataframe thead th {\n",
       "        text-align: right;\n",
       "    }\n",
       "</style>\n",
       "<table border=\"1\" class=\"dataframe\">\n",
       "  <thead>\n",
       "    <tr style=\"text-align: right;\">\n",
       "      <th></th>\n",
       "      <th>0</th>\n",
       "    </tr>\n",
       "  </thead>\n",
       "  <tbody>\n",
       "    <tr>\n",
       "      <th>168</th>\n",
       "      <td>Canadian_wheat</td>\n",
       "    </tr>\n",
       "    <tr>\n",
       "      <th>69</th>\n",
       "      <td>Kama_wheat</td>\n",
       "    </tr>\n",
       "    <tr>\n",
       "      <th>99</th>\n",
       "      <td>Rosa_wheat</td>\n",
       "    </tr>\n",
       "    <tr>\n",
       "      <th>36</th>\n",
       "      <td>Kama_wheat</td>\n",
       "    </tr>\n",
       "    <tr>\n",
       "      <th>126</th>\n",
       "      <td>Rosa_wheat</td>\n",
       "    </tr>\n",
       "    <tr>\n",
       "      <th>39</th>\n",
       "      <td>Kama_wheat</td>\n",
       "    </tr>\n",
       "    <tr>\n",
       "      <th>120</th>\n",
       "      <td>Rosa_wheat</td>\n",
       "    </tr>\n",
       "    <tr>\n",
       "      <th>103</th>\n",
       "      <td>Rosa_wheat</td>\n",
       "    </tr>\n",
       "    <tr>\n",
       "      <th>104</th>\n",
       "      <td>Rosa_wheat</td>\n",
       "    </tr>\n",
       "    <tr>\n",
       "      <th>84</th>\n",
       "      <td>Rosa_wheat</td>\n",
       "    </tr>\n",
       "  </tbody>\n",
       "</table>\n",
       "</div>"
      ],
      "text/plain": [
       "                  0\n",
       "168  Canadian_wheat\n",
       "69       Kama_wheat\n",
       "99       Rosa_wheat\n",
       "36       Kama_wheat\n",
       "126      Rosa_wheat\n",
       "39       Kama_wheat\n",
       "120      Rosa_wheat\n",
       "103      Rosa_wheat\n",
       "104      Rosa_wheat\n",
       "84       Rosa_wheat"
      ]
     },
     "execution_count": 7,
     "metadata": {},
     "output_type": "execute_result"
    }
   ],
   "source": [
    "print(varieties.shape)\n",
    "varieties.sample(10)"
   ]
  },
  {
   "cell_type": "code",
   "execution_count": 8,
   "id": "d84dd76d",
   "metadata": {
    "ExecuteTime": {
     "end_time": "2021-09-21T22:14:32.857322Z",
     "start_time": "2021-09-21T22:14:32.852562Z"
    }
   },
   "outputs": [],
   "source": [
    "# reverse engineered:\n",
    "#   variety -> 7\n",
    "#   width   -> 4\n",
    "#   length  -> 3\n",
    "variety_numbers = df[7]\n",
    "grains = df[[4, 3]].to_numpy()\n",
    "samples = df.drop(7, axis=1).to_numpy()\n",
    "varieties = varieties[0].to_list()"
   ]
  },
  {
   "cell_type": "markdown",
   "id": "9b1f674a",
   "metadata": {},
   "source": [
    "## KMeans Clustering"
   ]
  },
  {
   "cell_type": "code",
   "execution_count": 9,
   "id": "e41f6720",
   "metadata": {
    "ExecuteTime": {
     "end_time": "2021-09-21T22:14:34.877896Z",
     "start_time": "2021-09-21T22:14:34.590026Z"
    }
   },
   "outputs": [
    {
     "name": "stderr",
     "output_type": "stream",
     "text": [
      "WARNING:matplotlib.font_manager:findfont: Font family ['sans-serif'] not found. Falling back to DejaVu Sans.\n",
      "WARNING:matplotlib.font_manager:findfont: Generic family 'sans-serif' not found because none of the following families were found: Open Sans\n",
      "WARNING:matplotlib.font_manager:findfont: Font family ['sans-serif'] not found. Falling back to DejaVu Sans.\n",
      "WARNING:matplotlib.font_manager:findfont: Generic family 'sans-serif' not found because none of the following families were found: Open Sans\n"
     ]
    },
    {
     "data": {
      "image/png": "[encoded data removed]",
      "text/plain": [
       "<Figure size 1080x432 with 1 Axes>"
      ]
     },
     "metadata": {
      "needs_background": "light"
     },
     "output_type": "display_data"
    }
   ],
   "source": [
    "# How many clusters? Elbow of inertia\n",
    "ks = range(1, 6)\n",
    "inertias = []\n",
    "\n",
    "for k in ks:\n",
    "    # Create a KMeans instance with k clusters: model\n",
    "    model = KMeans(n_clusters=k)\n",
    "    \n",
    "    # Fit model to samples\n",
    "    model.fit(samples)\n",
    "    \n",
    "    # Append the inertia to the list of inertias\n",
    "    inertias.append(model.inertia_)\n",
    "    \n",
    "# Plot ks vs inertias\n",
    "plt.plot(ks, inertias, '-o')\n",
    "plt.xlabel('number of clusters, k')\n",
    "plt.ylabel('inertia')\n",
    "plt.xticks(ks)\n",
    "plt.show()"
   ]
  },
  {
   "cell_type": "code",
   "execution_count": 10,
   "id": "d32ae4d1",
   "metadata": {
    "ExecuteTime": {
     "end_time": "2021-09-21T22:14:35.777912Z",
     "start_time": "2021-09-21T22:14:35.755452Z"
    }
   },
   "outputs": [
    {
     "name": "stdout",
     "output_type": "stream",
     "text": [
      "varieties  Canadian_wheat  Kama_wheat  Rosa_wheat\n",
      "labels                                           \n",
      "0                      68           9           0\n",
      "1                       0           1          60\n",
      "2                       2          60          10\n"
     ]
    }
   ],
   "source": [
    "# Create a KMeans model with 3 clusters: model\n",
    "model = KMeans(n_clusters=3)\n",
    "\n",
    "# Use fit_predict to fit model and obtain cluster labels: labels\n",
    "labels = model.fit_predict(samples)\n",
    "\n",
    "# Create a DataFrame with clusters and varieties as columns: df\n",
    "df = pd.DataFrame({'labels': labels, 'varieties': varieties})\n",
    "\n",
    "# Create crosstab: ct\n",
    "ct = pd.crosstab(df['labels'], df['varieties'])\n",
    "\n",
    "# Display ct\n",
    "print(ct)"
   ]
  },
  {
   "cell_type": "markdown",
   "id": "bfc34f58",
   "metadata": {},
   "source": [
    "## Hierarchical Clustering"
   ]
  },
  {
   "cell_type": "code",
   "execution_count": 11,
   "id": "ba0b0807",
   "metadata": {
    "ExecuteTime": {
     "end_time": "2021-09-21T22:14:40.469927Z",
     "start_time": "2021-09-21T22:14:37.138759Z"
    }
   },
   "outputs": [
    {
     "name": "stderr",
     "output_type": "stream",
     "text": [
      "WARNING:matplotlib.font_manager:findfont: Font family ['sans-serif'] not found. Falling back to DejaVu Sans.\n",
      "WARNING:matplotlib.font_manager:findfont: Generic family 'sans-serif' not found because none of the following families were found: Open Sans\n"
     ]
    },
    {
     "data": {
      "image/png": "[encoded data removed]",
      "text/plain": [
       "<Figure size 1080x432 with 1 Axes>"
      ]
     },
     "metadata": {
      "needs_background": "light"
     },
     "output_type": "display_data"
    }
   ],
   "source": [
    "# Calculate the linkage: mergings\n",
    "mergings = sp.cluster.hierarchy.linkage(samples, method='complete')\n",
    "\n",
    "# Plot the dendrogram, using varieties as labels\n",
    "sp.cluster.hierarchy.dendrogram(\n",
    "    mergings,\n",
    "    labels=varieties,\n",
    "    leaf_rotation=90,\n",
    "    leaf_font_size=6,\n",
    ")\n",
    "plt.show()"
   ]
  },
  {
   "cell_type": "code",
   "execution_count": 12,
   "id": "4a514bce",
   "metadata": {
    "ExecuteTime": {
     "end_time": "2021-09-21T22:14:40.563155Z",
     "start_time": "2021-09-21T22:14:40.552126Z"
    }
   },
   "outputs": [
    {
     "name": "stdout",
     "output_type": "stream",
     "text": [
      "varieties  Canadian_wheat  Kama_wheat  Rosa_wheat\n",
      "labels                                           \n",
      "1                       0           0          47\n",
      "2                       0          52          23\n",
      "3                      13           1           0\n",
      "4                      57          17           0\n"
     ]
    }
   ],
   "source": [
    "# Use fcluster to extract labels: labels\n",
    "labels = sp.cluster.hierarchy.fcluster(mergings, 6, criterion='distance')\n",
    "\n",
    "# Create a DataFrame with labels and varieties as columns: df\n",
    "df = pd.DataFrame({'labels': labels, 'varieties': varieties})\n",
    "\n",
    "# Create crosstab: ct\n",
    "ct = pd.crosstab(df.labels, df.varieties)\n",
    "\n",
    "# Display ct\n",
    "print(ct)"
   ]
  },
  {
   "cell_type": "markdown",
   "id": "fd0d72bc",
   "metadata": {},
   "source": [
    "## t-distributed Stochastic Neighbor Embedding (t-SNE)"
   ]
  },
  {
   "cell_type": "code",
   "execution_count": 13,
   "id": "a18b0584",
   "metadata": {
    "ExecuteTime": {
     "end_time": "2021-09-21T22:14:42.146308Z",
     "start_time": "2021-09-21T22:14:41.625895Z"
    }
   },
   "outputs": [
    {
     "data": {
      "image/png": "[encoded data removed]",
      "text/plain": [
       "<Figure size 1080x432 with 1 Axes>"
      ]
     },
     "metadata": {
      "needs_background": "light"
     },
     "output_type": "display_data"
    }
   ],
   "source": [
    "# Create a TSNE instance: model\n",
    "model = TSNE(learning_rate=200)\n",
    "\n",
    "# Apply fit_transform to samples: tsne_features\n",
    "tsne_features = model.fit_transform(samples)\n",
    "\n",
    "# Select the 0th feature: xs\n",
    "xs = tsne_features[:,0]\n",
    "\n",
    "# Select the 1st feature: ys\n",
    "ys = tsne_features[:,1]\n",
    "\n",
    "# Scatter plot, coloring by variety_numbers\n",
    "plt.scatter(xs, ys, c=variety_numbers)\n",
    "plt.show()"
   ]
  },
  {
   "cell_type": "markdown",
   "id": "1475a01c",
   "metadata": {},
   "source": [
    "## PCA"
   ]
  },
  {
   "cell_type": "code",
   "execution_count": 14,
   "id": "da59d1fb",
   "metadata": {
    "ExecuteTime": {
     "end_time": "2021-09-21T22:14:43.659848Z",
     "start_time": "2021-09-21T22:14:43.492263Z"
    }
   },
   "outputs": [
    {
     "name": "stdout",
     "output_type": "stream",
     "text": [
      "Raw R2: 0.8604149377143469\n",
      "PCA R2: 8.935982743022041e-17\n"
     ]
    },
    {
     "data": {
      "image/png": "[encoded data removed]",
      "text/plain": [
       "<Figure size 1080x432 with 1 Axes>"
      ]
     },
     "metadata": {
      "needs_background": "light"
     },
     "output_type": "display_data"
    }
   ],
   "source": [
    "# Assign the 0th column of grains: width\n",
    "width = grains[:, 0]\n",
    "length = grains[:, 1]\n",
    "\n",
    "# Create PCA instance: model\n",
    "model = PCA()\n",
    "pca_features = model.fit_transform(grains)\n",
    "xs = pca_features[:,0]\n",
    "ys = pca_features[:,1]\n",
    "\n",
    "# Get the mean of the grain samples: mean\n",
    "model_mean = model.mean_\n",
    "first_pc = model.components_[0, :]\n",
    "\n",
    "# Scatter plot xs vs ys\n",
    "fig, ax = plt.subplots()\n",
    "plt.scatter(width, length, label=\"Raw\", alpha=0.5, s=8)\n",
    "plt.scatter(xs, ys, label=\"PCA transform\", alpha=0.5, s=8)\n",
    "plt.arrow(model_mean[0], model_mean[1], first_pc[0], first_pc[1], color='red', width=0.1)\n",
    "plt.xlabel('Grain width')\n",
    "plt.ylabel('Grain length')\n",
    "plt.legend()\n",
    "plt.axis('equal')\n",
    "ax.spines['left'].set_position('zero')\n",
    "ax.spines['right'].set_color('none')\n",
    "ax.spines['bottom'].set_position('zero')\n",
    "ax.spines['top'].set_color('none')\n",
    "\n",
    "# Calculate the Pearson correlation\n",
    "correlation, pvalue = sp.stats.pearsonr(width, length)\n",
    "pca_correlation, pvalue = sp.stats.pearsonr(xs, ys)\n",
    "print(\"Raw R2:\", correlation)\n",
    "print(\"PCA R2:\", pca_correlation)"
   ]
  },
  {
   "cell_type": "markdown",
   "id": "f360335a",
   "metadata": {},
   "source": [
    "# Wines"
   ]
  },
  {
   "cell_type": "code",
   "execution_count": 15,
   "id": "25391fd6",
   "metadata": {
    "ExecuteTime": {
     "end_time": "2021-09-21T22:14:45.845988Z",
     "start_time": "2021-09-21T22:14:45.844197Z"
    }
   },
   "outputs": [],
   "source": [
    "## Data"
   ]
  },
  {
   "cell_type": "code",
   "execution_count": 16,
   "id": "c181d8ed",
   "metadata": {
    "ExecuteTime": {
     "end_time": "2021-09-21T22:14:47.224050Z",
     "start_time": "2021-09-21T22:14:47.219932Z"
    }
   },
   "outputs": [],
   "source": [
    "df = pd.read_csv('datasets/wine.csv')"
   ]
  },
  {
   "cell_type": "code",
   "execution_count": 17,
   "id": "f7d21cff",
   "metadata": {
    "ExecuteTime": {
     "end_time": "2021-09-21T22:14:48.225975Z",
     "start_time": "2021-09-21T22:14:48.211578Z"
    }
   },
   "outputs": [
    {
     "data": {
      "text/html": [
       "<div>\n",
       "<style scoped>\n",
       "    .dataframe tbody tr th:only-of-type {\n",
       "        vertical-align: middle;\n",
       "    }\n",
       "\n",
       "    .dataframe tbody tr th {\n",
       "        vertical-align: top;\n",
       "    }\n",
       "\n",
       "    .dataframe thead th {\n",
       "        text-align: right;\n",
       "    }\n",
       "</style>\n",
       "<table border=\"1\" class=\"dataframe\">\n",
       "  <thead>\n",
       "    <tr style=\"text-align: right;\">\n",
       "      <th></th>\n",
       "      <th>class_label</th>\n",
       "      <th>class_name</th>\n",
       "      <th>alcohol</th>\n",
       "      <th>malic_acid</th>\n",
       "      <th>ash</th>\n",
       "      <th>alcalinity_of_ash</th>\n",
       "      <th>magnesium</th>\n",
       "      <th>total_phenols</th>\n",
       "      <th>flavanoids</th>\n",
       "      <th>nonflavanoid_phenols</th>\n",
       "      <th>proanthocyanins</th>\n",
       "      <th>color_intensity</th>\n",
       "      <th>hue</th>\n",
       "      <th>od280</th>\n",
       "      <th>proline</th>\n",
       "    </tr>\n",
       "  </thead>\n",
       "  <tbody>\n",
       "    <tr>\n",
       "      <th>96</th>\n",
       "      <td>2</td>\n",
       "      <td>Grignolino</td>\n",
       "      <td>11.81</td>\n",
       "      <td>2.12</td>\n",
       "      <td>2.74</td>\n",
       "      <td>21.5</td>\n",
       "      <td>134</td>\n",
       "      <td>1.60</td>\n",
       "      <td>0.99</td>\n",
       "      <td>0.14</td>\n",
       "      <td>1.56</td>\n",
       "      <td>2.50</td>\n",
       "      <td>0.95</td>\n",
       "      <td>2.26</td>\n",
       "      <td>625</td>\n",
       "    </tr>\n",
       "    <tr>\n",
       "      <th>140</th>\n",
       "      <td>3</td>\n",
       "      <td>Barbera</td>\n",
       "      <td>12.93</td>\n",
       "      <td>2.81</td>\n",
       "      <td>2.70</td>\n",
       "      <td>21.0</td>\n",
       "      <td>96</td>\n",
       "      <td>1.54</td>\n",
       "      <td>0.50</td>\n",
       "      <td>0.53</td>\n",
       "      <td>0.75</td>\n",
       "      <td>4.60</td>\n",
       "      <td>0.77</td>\n",
       "      <td>2.31</td>\n",
       "      <td>600</td>\n",
       "    </tr>\n",
       "    <tr>\n",
       "      <th>91</th>\n",
       "      <td>2</td>\n",
       "      <td>Grignolino</td>\n",
       "      <td>12.00</td>\n",
       "      <td>1.51</td>\n",
       "      <td>2.42</td>\n",
       "      <td>22.0</td>\n",
       "      <td>86</td>\n",
       "      <td>1.45</td>\n",
       "      <td>1.25</td>\n",
       "      <td>0.50</td>\n",
       "      <td>1.63</td>\n",
       "      <td>3.60</td>\n",
       "      <td>1.05</td>\n",
       "      <td>2.65</td>\n",
       "      <td>450</td>\n",
       "    </tr>\n",
       "    <tr>\n",
       "      <th>98</th>\n",
       "      <td>2</td>\n",
       "      <td>Grignolino</td>\n",
       "      <td>12.37</td>\n",
       "      <td>1.07</td>\n",
       "      <td>2.10</td>\n",
       "      <td>18.5</td>\n",
       "      <td>88</td>\n",
       "      <td>3.52</td>\n",
       "      <td>3.75</td>\n",
       "      <td>0.24</td>\n",
       "      <td>1.95</td>\n",
       "      <td>4.50</td>\n",
       "      <td>1.04</td>\n",
       "      <td>2.77</td>\n",
       "      <td>660</td>\n",
       "    </tr>\n",
       "    <tr>\n",
       "      <th>136</th>\n",
       "      <td>3</td>\n",
       "      <td>Barbera</td>\n",
       "      <td>12.25</td>\n",
       "      <td>4.72</td>\n",
       "      <td>2.54</td>\n",
       "      <td>21.0</td>\n",
       "      <td>89</td>\n",
       "      <td>1.38</td>\n",
       "      <td>0.47</td>\n",
       "      <td>0.53</td>\n",
       "      <td>0.80</td>\n",
       "      <td>3.85</td>\n",
       "      <td>0.75</td>\n",
       "      <td>1.27</td>\n",
       "      <td>720</td>\n",
       "    </tr>\n",
       "    <tr>\n",
       "      <th>5</th>\n",
       "      <td>1</td>\n",
       "      <td>Barolo</td>\n",
       "      <td>14.20</td>\n",
       "      <td>1.76</td>\n",
       "      <td>2.45</td>\n",
       "      <td>15.2</td>\n",
       "      <td>112</td>\n",
       "      <td>3.27</td>\n",
       "      <td>3.39</td>\n",
       "      <td>0.34</td>\n",
       "      <td>1.97</td>\n",
       "      <td>6.75</td>\n",
       "      <td>1.05</td>\n",
       "      <td>2.85</td>\n",
       "      <td>1450</td>\n",
       "    </tr>\n",
       "    <tr>\n",
       "      <th>173</th>\n",
       "      <td>3</td>\n",
       "      <td>Barbera</td>\n",
       "      <td>13.71</td>\n",
       "      <td>5.65</td>\n",
       "      <td>2.45</td>\n",
       "      <td>20.5</td>\n",
       "      <td>95</td>\n",
       "      <td>1.68</td>\n",
       "      <td>0.61</td>\n",
       "      <td>0.52</td>\n",
       "      <td>1.06</td>\n",
       "      <td>7.70</td>\n",
       "      <td>0.64</td>\n",
       "      <td>1.74</td>\n",
       "      <td>740</td>\n",
       "    </tr>\n",
       "    <tr>\n",
       "      <th>71</th>\n",
       "      <td>2</td>\n",
       "      <td>Grignolino</td>\n",
       "      <td>13.86</td>\n",
       "      <td>1.51</td>\n",
       "      <td>2.67</td>\n",
       "      <td>25.0</td>\n",
       "      <td>86</td>\n",
       "      <td>2.95</td>\n",
       "      <td>2.86</td>\n",
       "      <td>0.21</td>\n",
       "      <td>1.87</td>\n",
       "      <td>3.38</td>\n",
       "      <td>1.36</td>\n",
       "      <td>3.16</td>\n",
       "      <td>410</td>\n",
       "    </tr>\n",
       "    <tr>\n",
       "      <th>116</th>\n",
       "      <td>2</td>\n",
       "      <td>Grignolino</td>\n",
       "      <td>11.82</td>\n",
       "      <td>1.47</td>\n",
       "      <td>1.99</td>\n",
       "      <td>20.8</td>\n",
       "      <td>86</td>\n",
       "      <td>1.98</td>\n",
       "      <td>1.60</td>\n",
       "      <td>0.30</td>\n",
       "      <td>1.53</td>\n",
       "      <td>1.95</td>\n",
       "      <td>0.95</td>\n",
       "      <td>3.33</td>\n",
       "      <td>495</td>\n",
       "    </tr>\n",
       "    <tr>\n",
       "      <th>8</th>\n",
       "      <td>1</td>\n",
       "      <td>Barolo</td>\n",
       "      <td>14.83</td>\n",
       "      <td>1.64</td>\n",
       "      <td>2.17</td>\n",
       "      <td>14.0</td>\n",
       "      <td>97</td>\n",
       "      <td>2.80</td>\n",
       "      <td>2.98</td>\n",
       "      <td>0.29</td>\n",
       "      <td>1.98</td>\n",
       "      <td>5.20</td>\n",
       "      <td>1.08</td>\n",
       "      <td>2.85</td>\n",
       "      <td>1045</td>\n",
       "    </tr>\n",
       "  </tbody>\n",
       "</table>\n",
       "</div>"
      ],
      "text/plain": [
       "     class_label  class_name  alcohol  malic_acid   ash  alcalinity_of_ash  \\\n",
       "96             2  Grignolino    11.81        2.12  2.74               21.5   \n",
       "140            3     Barbera    12.93        2.81  2.70               21.0   \n",
       "91             2  Grignolino    12.00        1.51  2.42               22.0   \n",
       "98             2  Grignolino    12.37        1.07  2.10               18.5   \n",
       "136            3     Barbera    12.25        4.72  2.54               21.0   \n",
       "5              1      Barolo    14.20        1.76  2.45               15.2   \n",
       "173            3     Barbera    13.71        5.65  2.45               20.5   \n",
       "71             2  Grignolino    13.86        1.51  2.67               25.0   \n",
       "116            2  Grignolino    11.82        1.47  1.99               20.8   \n",
       "8              1      Barolo    14.83        1.64  2.17               14.0   \n",
       "\n",
       "     magnesium  total_phenols  flavanoids  nonflavanoid_phenols  \\\n",
       "96         134           1.60        0.99                  0.14   \n",
       "140         96           1.54        0.50                  0.53   \n",
       "91          86           1.45        1.25                  0.50   \n",
       "98          88           3.52        3.75                  0.24   \n",
       "136         89           1.38        0.47                  0.53   \n",
       "5          112           3.27        3.39                  0.34   \n",
       "173         95           1.68        0.61                  0.52   \n",
       "71          86           2.95        2.86                  0.21   \n",
       "116         86           1.98        1.60                  0.30   \n",
       "8           97           2.80        2.98                  0.29   \n",
       "\n",
       "     proanthocyanins  color_intensity   hue  od280  proline  \n",
       "96              1.56             2.50  0.95   2.26      625  \n",
       "140             0.75             4.60  0.77   2.31      600  \n",
       "91              1.63             3.60  1.05   2.65      450  \n",
       "98              1.95             4.50  1.04   2.77      660  \n",
       "136             0.80             3.85  0.75   1.27      720  \n",
       "5               1.97             6.75  1.05   2.85     1450  \n",
       "173             1.06             7.70  0.64   1.74      740  \n",
       "71              1.87             3.38  1.36   3.16      410  \n",
       "116             1.53             1.95  0.95   3.33      495  \n",
       "8               1.98             5.20  1.08   2.85     1045  "
      ]
     },
     "execution_count": 17,
     "metadata": {},
     "output_type": "execute_result"
    }
   ],
   "source": [
    "df.sample(10)"
   ]
  },
  {
   "cell_type": "markdown",
   "id": "ceb2c0a0",
   "metadata": {},
   "source": [
    "## Scale"
   ]
  },
  {
   "cell_type": "code",
   "execution_count": 18,
   "id": "9a669561",
   "metadata": {
    "ExecuteTime": {
     "end_time": "2021-09-21T22:14:49.591406Z",
     "start_time": "2021-09-21T22:14:49.584649Z"
    }
   },
   "outputs": [
    {
     "name": "stderr",
     "output_type": "stream",
     "text": [
      "/home/kcavagnolo/.pyenv/versions/3.8.0/lib/python3.8/site-packages/pandas/core/apply.py:169: FutureWarning: Dropping of nuisance columns in DataFrame reductions (with 'numeric_only=None') is deprecated; in a future version this will raise TypeError.  Select only valid columns before calling the reduction.\n",
      "  return getattr(obj, f)()\n"
     ]
    },
    {
     "data": {
      "text/plain": [
       "class_label                 0.600679\n",
       "alcohol                     0.659062\n",
       "malic_acid                  1.248015\n",
       "ash                         0.075265\n",
       "alcalinity_of_ash          11.152686\n",
       "magnesium                 203.989335\n",
       "total_phenols               0.391690\n",
       "flavanoids                  0.997719\n",
       "nonflavanoid_phenols        0.015489\n",
       "proanthocyanins             0.327595\n",
       "color_intensity             5.374449\n",
       "hue                         0.052245\n",
       "od280                       0.504086\n",
       "proline                 99166.717355\n",
       "dtype: float64"
      ]
     },
     "execution_count": 18,
     "metadata": {},
     "output_type": "execute_result"
    }
   ],
   "source": [
    "df.agg(np.var)"
   ]
  },
  {
   "cell_type": "code",
   "execution_count": 19,
   "id": "3af5a28b",
   "metadata": {
    "ExecuteTime": {
     "end_time": "2021-09-21T22:14:50.461016Z",
     "start_time": "2021-09-21T22:14:50.194570Z"
    }
   },
   "outputs": [
    {
     "data": {
      "text/plain": [
       "<AxesSubplot:>"
      ]
     },
     "execution_count": 19,
     "metadata": {},
     "output_type": "execute_result"
    },
    {
     "data": {
      "image/png": "[encoded data removed]",
      "text/plain": [
       "<Figure size 1080x432 with 1 Axes>"
      ]
     },
     "metadata": {
      "needs_background": "light"
     },
     "output_type": "display_data"
    }
   ],
   "source": [
    "sns.boxplot(data=df)"
   ]
  },
  {
   "cell_type": "code",
   "execution_count": 20,
   "id": "351931da",
   "metadata": {
    "ExecuteTime": {
     "end_time": "2021-09-21T22:14:51.552745Z",
     "start_time": "2021-09-21T22:14:51.548773Z"
    }
   },
   "outputs": [],
   "source": [
    "samples = df.drop([\"class_label\", \"class_name\"], axis=1).to_numpy()"
   ]
  },
  {
   "cell_type": "code",
   "execution_count": 21,
   "id": "36773903",
   "metadata": {
    "ExecuteTime": {
     "end_time": "2021-09-21T22:14:52.468116Z",
     "start_time": "2021-09-21T22:14:52.227193Z"
    }
   },
   "outputs": [
    {
     "data": {
      "text/plain": [
       "<AxesSubplot:>"
      ]
     },
     "execution_count": 21,
     "metadata": {},
     "output_type": "execute_result"
    },
    {
     "data": {
      "image/png": "[encoded data removed]",
      "text/plain": [
       "<Figure size 1080x432 with 1 Axes>"
      ]
     },
     "metadata": {
      "needs_background": "light"
     },
     "output_type": "display_data"
    }
   ],
   "source": [
    "scaler = StandardScaler()\n",
    "sns.boxplot(data=scaler.fit_transform(samples))"
   ]
  },
  {
   "cell_type": "markdown",
   "id": "1337da66",
   "metadata": {},
   "source": [
    "## KMeans Clustering"
   ]
  },
  {
   "cell_type": "code",
   "execution_count": 22,
   "id": "4b2a43b6",
   "metadata": {
    "ExecuteTime": {
     "end_time": "2021-09-21T22:14:53.873209Z",
     "start_time": "2021-09-21T22:14:53.870596Z"
    }
   },
   "outputs": [],
   "source": [
    "# build steps\n",
    "scalar = StandardScaler()\n",
    "model = KMeans()\n",
    "pipeline = make_pipeline(scaler, model)"
   ]
  },
  {
   "cell_type": "code",
   "execution_count": 23,
   "id": "108d5991",
   "metadata": {
    "ExecuteTime": {
     "end_time": "2021-09-21T22:14:54.624201Z",
     "start_time": "2021-09-21T22:14:54.595168Z"
    }
   },
   "outputs": [
    {
     "data": {
      "text/plain": [
       "Pipeline(steps=[('standardscaler', StandardScaler()), ('kmeans', KMeans())])"
      ]
     },
     "execution_count": 23,
     "metadata": {},
     "output_type": "execute_result"
    }
   ],
   "source": [
    "pipeline.fit(samples)"
   ]
  },
  {
   "cell_type": "code",
   "execution_count": 24,
   "id": "167702cd",
   "metadata": {
    "ExecuteTime": {
     "end_time": "2021-09-21T22:14:56.528144Z",
     "start_time": "2021-09-21T22:14:55.388478Z"
    }
   },
   "outputs": [
    {
     "name": "stdout",
     "output_type": "stream",
     "text": [
      "Tuned Parameters: {'kmeans__n_clusters': 14}\n",
      "Best score: -284.9366864554969\n"
     ]
    }
   ],
   "source": [
    "# Setup the hyperparameter grid\n",
    "k_space = [x for x in range(1, 15)]\n",
    "param_grid = {f'{pipeline.steps[1][0]}__n_clusters': k_space}\n",
    "\n",
    "# Instantiate the GridSearchCV object: logreg_cv\n",
    "cv = KFold(n_splits=5)\n",
    "model_cv = GridSearchCV(pipeline, param_grid, cv=cv, n_jobs=-1)\n",
    "\n",
    "# Fit it to the data\n",
    "model_cv.fit(samples)\n",
    "\n",
    "# Print the tuned parameters and score\n",
    "print(\"Tuned Parameters: {}\".format(\n",
    "    model_cv.best_params_))\n",
    "print(\"Best score: {}\".format(model_cv.best_score_))"
   ]
  },
  {
   "cell_type": "markdown",
   "id": "4a49dedc",
   "metadata": {},
   "source": [
    "# Fish"
   ]
  },
  {
   "cell_type": "markdown",
   "id": "b1b60a7c",
   "metadata": {},
   "source": [
    "## Data"
   ]
  },
  {
   "cell_type": "code",
   "execution_count": 25,
   "id": "7913152c",
   "metadata": {
    "ExecuteTime": {
     "end_time": "2021-09-21T22:15:01.017982Z",
     "start_time": "2021-09-21T22:15:01.012678Z"
    }
   },
   "outputs": [],
   "source": [
    "df = pd.read_csv('datasets/fish.csv', header=None)"
   ]
  },
  {
   "cell_type": "code",
   "execution_count": 26,
   "id": "6b36ee8a",
   "metadata": {
    "ExecuteTime": {
     "end_time": "2021-09-21T22:15:01.638063Z",
     "start_time": "2021-09-21T22:15:01.625073Z"
    }
   },
   "outputs": [
    {
     "data": {
      "text/html": [
       "<div>\n",
       "<style scoped>\n",
       "    .dataframe tbody tr th:only-of-type {\n",
       "        vertical-align: middle;\n",
       "    }\n",
       "\n",
       "    .dataframe tbody tr th {\n",
       "        vertical-align: top;\n",
       "    }\n",
       "\n",
       "    .dataframe thead th {\n",
       "        text-align: right;\n",
       "    }\n",
       "</style>\n",
       "<table border=\"1\" class=\"dataframe\">\n",
       "  <thead>\n",
       "    <tr style=\"text-align: right;\">\n",
       "      <th></th>\n",
       "      <th>0</th>\n",
       "      <th>1</th>\n",
       "      <th>2</th>\n",
       "      <th>3</th>\n",
       "      <th>4</th>\n",
       "      <th>5</th>\n",
       "      <th>6</th>\n",
       "    </tr>\n",
       "  </thead>\n",
       "  <tbody>\n",
       "    <tr>\n",
       "      <th>16</th>\n",
       "      <td>Bream</td>\n",
       "      <td>700.0</td>\n",
       "      <td>30.4</td>\n",
       "      <td>33.0</td>\n",
       "      <td>38.5</td>\n",
       "      <td>38.8</td>\n",
       "      <td>13.5</td>\n",
       "    </tr>\n",
       "    <tr>\n",
       "      <th>66</th>\n",
       "      <td>Smelt</td>\n",
       "      <td>19.7</td>\n",
       "      <td>13.2</td>\n",
       "      <td>14.3</td>\n",
       "      <td>15.2</td>\n",
       "      <td>18.9</td>\n",
       "      <td>13.6</td>\n",
       "    </tr>\n",
       "    <tr>\n",
       "      <th>37</th>\n",
       "      <td>Roach</td>\n",
       "      <td>87.0</td>\n",
       "      <td>18.2</td>\n",
       "      <td>19.8</td>\n",
       "      <td>22.2</td>\n",
       "      <td>25.3</td>\n",
       "      <td>14.3</td>\n",
       "    </tr>\n",
       "    <tr>\n",
       "      <th>84</th>\n",
       "      <td>Pike</td>\n",
       "      <td>1650.0</td>\n",
       "      <td>59.0</td>\n",
       "      <td>63.4</td>\n",
       "      <td>68.0</td>\n",
       "      <td>15.9</td>\n",
       "      <td>11.0</td>\n",
       "    </tr>\n",
       "    <tr>\n",
       "      <th>35</th>\n",
       "      <td>Roach</td>\n",
       "      <td>69.0</td>\n",
       "      <td>16.5</td>\n",
       "      <td>18.2</td>\n",
       "      <td>20.3</td>\n",
       "      <td>26.1</td>\n",
       "      <td>13.9</td>\n",
       "    </tr>\n",
       "    <tr>\n",
       "      <th>53</th>\n",
       "      <td>Roach</td>\n",
       "      <td>390.0</td>\n",
       "      <td>29.5</td>\n",
       "      <td>31.7</td>\n",
       "      <td>35.0</td>\n",
       "      <td>27.1</td>\n",
       "      <td>15.3</td>\n",
       "    </tr>\n",
       "    <tr>\n",
       "      <th>67</th>\n",
       "      <td>Smelt</td>\n",
       "      <td>19.9</td>\n",
       "      <td>13.8</td>\n",
       "      <td>15.0</td>\n",
       "      <td>16.2</td>\n",
       "      <td>18.1</td>\n",
       "      <td>11.6</td>\n",
       "    </tr>\n",
       "    <tr>\n",
       "      <th>22</th>\n",
       "      <td>Bream</td>\n",
       "      <td>680.0</td>\n",
       "      <td>31.8</td>\n",
       "      <td>35.0</td>\n",
       "      <td>40.6</td>\n",
       "      <td>38.1</td>\n",
       "      <td>15.1</td>\n",
       "    </tr>\n",
       "    <tr>\n",
       "      <th>49</th>\n",
       "      <td>Roach</td>\n",
       "      <td>200.0</td>\n",
       "      <td>22.1</td>\n",
       "      <td>23.5</td>\n",
       "      <td>26.8</td>\n",
       "      <td>27.6</td>\n",
       "      <td>15.4</td>\n",
       "    </tr>\n",
       "    <tr>\n",
       "      <th>74</th>\n",
       "      <td>Pike</td>\n",
       "      <td>456.0</td>\n",
       "      <td>40.0</td>\n",
       "      <td>42.5</td>\n",
       "      <td>45.5</td>\n",
       "      <td>16.0</td>\n",
       "      <td>9.5</td>\n",
       "    </tr>\n",
       "  </tbody>\n",
       "</table>\n",
       "</div>"
      ],
      "text/plain": [
       "        0       1     2     3     4     5     6\n",
       "16  Bream   700.0  30.4  33.0  38.5  38.8  13.5\n",
       "66  Smelt    19.7  13.2  14.3  15.2  18.9  13.6\n",
       "37  Roach    87.0  18.2  19.8  22.2  25.3  14.3\n",
       "84   Pike  1650.0  59.0  63.4  68.0  15.9  11.0\n",
       "35  Roach    69.0  16.5  18.2  20.3  26.1  13.9\n",
       "53  Roach   390.0  29.5  31.7  35.0  27.1  15.3\n",
       "67  Smelt    19.9  13.8  15.0  16.2  18.1  11.6\n",
       "22  Bream   680.0  31.8  35.0  40.6  38.1  15.1\n",
       "49  Roach   200.0  22.1  23.5  26.8  27.6  15.4\n",
       "74   Pike   456.0  40.0  42.5  45.5  16.0   9.5"
      ]
     },
     "execution_count": 26,
     "metadata": {},
     "output_type": "execute_result"
    }
   ],
   "source": [
    "df.sample(10)"
   ]
  },
  {
   "cell_type": "code",
   "execution_count": 27,
   "id": "f8a483d0",
   "metadata": {
    "ExecuteTime": {
     "end_time": "2021-09-21T22:15:04.893951Z",
     "start_time": "2021-09-21T22:15:04.890324Z"
    }
   },
   "outputs": [],
   "source": [
    "species = df[0]\n",
    "df.drop(0, axis=1, inplace=True)\n",
    "samples = df.to_numpy()"
   ]
  },
  {
   "cell_type": "markdown",
   "id": "a1ecee86",
   "metadata": {},
   "source": [
    "## KMeans Clustering"
   ]
  },
  {
   "cell_type": "code",
   "execution_count": 28,
   "id": "469a45dc",
   "metadata": {
    "ExecuteTime": {
     "end_time": "2021-09-21T22:15:06.284853Z",
     "start_time": "2021-09-21T22:15:06.282514Z"
    }
   },
   "outputs": [],
   "source": [
    "# pipeline\n",
    "scaler = StandardScaler()\n",
    "model = KMeans(n_clusters=4)\n",
    "pipeline = make_pipeline(scaler, model)"
   ]
  },
  {
   "cell_type": "code",
   "execution_count": 29,
   "id": "2e732900",
   "metadata": {
    "ExecuteTime": {
     "end_time": "2021-09-21T22:15:07.023217Z",
     "start_time": "2021-09-21T22:15:06.999072Z"
    }
   },
   "outputs": [
    {
     "name": "stdout",
     "output_type": "stream",
     "text": [
      "species  Bream  Pike  Roach  Smelt\n",
      "labels                            \n",
      "0            1     0     19      1\n",
      "1           33     0      1      0\n",
      "2            0    17      0      0\n",
      "3            0     0      0     13\n"
     ]
    }
   ],
   "source": [
    "# Fit the pipeline to samples\n",
    "pipeline.fit(samples)\n",
    "\n",
    "# Calculate the cluster labels: labels\n",
    "labels = pipeline.predict(samples)\n",
    "\n",
    "# Create a DataFrame with labels and species as columns: df\n",
    "df_ct = pd.DataFrame({\"labels\": labels, \"species\": species})\n",
    "\n",
    "# Create crosstab: ct\n",
    "ct = pd.crosstab(df_ct.labels, df_ct.species)\n",
    "\n",
    "# Display ct\n",
    "print(ct)"
   ]
  },
  {
   "cell_type": "markdown",
   "id": "161b7936",
   "metadata": {},
   "source": [
    "## Intrinsic Dimensions"
   ]
  },
  {
   "cell_type": "code",
   "execution_count": 30,
   "id": "4a66a828",
   "metadata": {
    "ExecuteTime": {
     "end_time": "2021-09-21T22:15:08.559517Z",
     "start_time": "2021-09-21T22:15:08.412674Z"
    }
   },
   "outputs": [
    {
     "data": {
      "text/plain": [
       "([<matplotlib.axis.XTick at 0x7f7ebbbe49a0>,\n",
       "  <matplotlib.axis.XTick at 0x7f7ebbbe4b80>,\n",
       "  <matplotlib.axis.XTick at 0x7f7ebbbee4f0>,\n",
       "  <matplotlib.axis.XTick at 0x7f7f3fe85610>,\n",
       "  <matplotlib.axis.XTick at 0x7f7f3fe85ac0>,\n",
       "  <matplotlib.axis.XTick at 0x7f7f3fe85e50>],\n",
       " [Text(0, 0, ''),\n",
       "  Text(0, 0, ''),\n",
       "  Text(0, 0, ''),\n",
       "  Text(0, 0, ''),\n",
       "  Text(0, 0, ''),\n",
       "  Text(0, 0, '')])"
      ]
     },
     "execution_count": 30,
     "metadata": {},
     "output_type": "execute_result"
    },
    {
     "data": {
      "image/png": "[encoded data removed]",
      "text/plain": [
       "<Figure size 1080x432 with 1 Axes>"
      ]
     },
     "metadata": {
      "needs_background": "light"
     },
     "output_type": "display_data"
    }
   ],
   "source": [
    "# Create pipeline: pipeline\n",
    "scaler = StandardScaler()\n",
    "pca = PCA()\n",
    "pipeline = make_pipeline(scaler, pca)\n",
    "\n",
    "# Fit the pipeline to 'samples'\n",
    "pipeline.fit(samples)\n",
    "\n",
    "# Plot the explained variances\n",
    "features = range(0, pca.n_components_)\n",
    "plt.bar(features, pca.explained_variance_ratio_)\n",
    "plt.xlabel('PCA feature')\n",
    "plt.ylabel('Explained variance')\n",
    "plt.xticks(features)"
   ]
  },
  {
   "cell_type": "code",
   "execution_count": 31,
   "id": "6766638c",
   "metadata": {
    "ExecuteTime": {
     "end_time": "2021-09-21T22:15:09.144801Z",
     "start_time": "2021-09-21T22:15:09.136146Z"
    }
   },
   "outputs": [
    {
     "data": {
      "text/html": [
       "<div>\n",
       "<style scoped>\n",
       "    .dataframe tbody tr th:only-of-type {\n",
       "        vertical-align: middle;\n",
       "    }\n",
       "\n",
       "    .dataframe tbody tr th {\n",
       "        vertical-align: top;\n",
       "    }\n",
       "\n",
       "    .dataframe thead th {\n",
       "        text-align: right;\n",
       "    }\n",
       "</style>\n",
       "<table border=\"1\" class=\"dataframe\">\n",
       "  <thead>\n",
       "    <tr style=\"text-align: right;\">\n",
       "      <th></th>\n",
       "      <th>PC1</th>\n",
       "      <th>PC2</th>\n",
       "      <th>PC3</th>\n",
       "      <th>PC4</th>\n",
       "      <th>PC5</th>\n",
       "      <th>PC6</th>\n",
       "    </tr>\n",
       "    <tr>\n",
       "      <th>feature</th>\n",
       "      <th></th>\n",
       "      <th></th>\n",
       "      <th></th>\n",
       "      <th></th>\n",
       "      <th></th>\n",
       "      <th></th>\n",
       "    </tr>\n",
       "  </thead>\n",
       "  <tbody>\n",
       "    <tr>\n",
       "      <th>1</th>\n",
       "      <td>0.482436</td>\n",
       "      <td>-0.022969</td>\n",
       "      <td>-0.330179</td>\n",
       "      <td>0.810968</td>\n",
       "      <td>0.000248</td>\n",
       "      <td>0.006311</td>\n",
       "    </tr>\n",
       "    <tr>\n",
       "      <th>2</th>\n",
       "      <td>0.496622</td>\n",
       "      <td>0.120741</td>\n",
       "      <td>0.174025</td>\n",
       "      <td>-0.225946</td>\n",
       "      <td>-0.504754</td>\n",
       "      <td>0.634568</td>\n",
       "    </tr>\n",
       "    <tr>\n",
       "      <th>3</th>\n",
       "      <td>0.498907</td>\n",
       "      <td>0.101658</td>\n",
       "      <td>0.158914</td>\n",
       "      <td>-0.223189</td>\n",
       "      <td>-0.289235</td>\n",
       "      <td>-0.762911</td>\n",
       "    </tr>\n",
       "    <tr>\n",
       "      <th>4</th>\n",
       "      <td>0.503418</td>\n",
       "      <td>0.038466</td>\n",
       "      <td>0.085967</td>\n",
       "      <td>-0.264596</td>\n",
       "      <td>0.807748</td>\n",
       "      <td>0.123417</td>\n",
       "    </tr>\n",
       "    <tr>\n",
       "      <th>5</th>\n",
       "      <td>0.127925</td>\n",
       "      <td>-0.687801</td>\n",
       "      <td>-0.617391</td>\n",
       "      <td>-0.346926</td>\n",
       "      <td>-0.095052</td>\n",
       "      <td>0.000933</td>\n",
       "    </tr>\n",
       "    <tr>\n",
       "      <th>6</th>\n",
       "      <td>0.043808</td>\n",
       "      <td>-0.707113</td>\n",
       "      <td>0.668492</td>\n",
       "      <td>0.226047</td>\n",
       "      <td>0.008619</td>\n",
       "      <td>0.004274</td>\n",
       "    </tr>\n",
       "  </tbody>\n",
       "</table>\n",
       "</div>"
      ],
      "text/plain": [
       "              PC1       PC2       PC3       PC4       PC5       PC6\n",
       "feature                                                            \n",
       "1        0.482436 -0.022969 -0.330179  0.810968  0.000248  0.006311\n",
       "2        0.496622  0.120741  0.174025 -0.225946 -0.504754  0.634568\n",
       "3        0.498907  0.101658  0.158914 -0.223189 -0.289235 -0.762911\n",
       "4        0.503418  0.038466  0.085967 -0.264596  0.807748  0.123417\n",
       "5        0.127925 -0.687801 -0.617391 -0.346926 -0.095052  0.000933\n",
       "6        0.043808 -0.707113  0.668492  0.226047  0.008619  0.004274"
      ]
     },
     "execution_count": 31,
     "metadata": {},
     "output_type": "execute_result"
    }
   ],
   "source": [
    "# component loadings or weights (correlation coefficient between original variables and the component)\n",
    "# component loadings represents the elements of the eigenvector\n",
    "# the squared loadings within the PCs always sums to 1\n",
    "loadings = pca.components_\n",
    "num_pc = pca.n_features_\n",
    "pc_list = [\"PC\" + str(i) for i in list(range(1, num_pc + 1))]\n",
    "loadings_df = pd.DataFrame.from_dict(dict(zip(pc_list, loadings)))\n",
    "loadings_df['feature'] = df.columns.values\n",
    "loadings_df = loadings_df.set_index('feature')\n",
    "loadings_df"
   ]
  },
  {
   "cell_type": "code",
   "execution_count": 32,
   "id": "93b71c67",
   "metadata": {
    "ExecuteTime": {
     "end_time": "2021-09-21T22:15:10.821838Z",
     "start_time": "2021-09-21T22:15:10.569654Z"
    }
   },
   "outputs": [
    {
     "data": {
      "image/png": "[encoded data removed]",
      "text/plain": [
       "<Figure size 1080x432 with 2 Axes>"
      ]
     },
     "metadata": {
      "needs_background": "light"
     },
     "output_type": "display_data"
    }
   ],
   "source": [
    "ax = sns.heatmap(loadings_df, annot=True, cmap='Spectral')"
   ]
  },
  {
   "cell_type": "markdown",
   "id": "0b831627",
   "metadata": {},
   "source": [
    "# Stocks"
   ]
  },
  {
   "cell_type": "markdown",
   "id": "39fb31a0",
   "metadata": {},
   "source": [
    "## Data"
   ]
  },
  {
   "cell_type": "code",
   "execution_count": 33,
   "id": "b83b583b",
   "metadata": {
    "ExecuteTime": {
     "end_time": "2021-09-21T22:15:12.706301Z",
     "start_time": "2021-09-21T22:15:12.670277Z"
    }
   },
   "outputs": [],
   "source": [
    "df = pd.read_csv('datasets/company-stock-movements-2010-2015-incl.csv')"
   ]
  },
  {
   "cell_type": "code",
   "execution_count": 34,
   "id": "00a5658b",
   "metadata": {
    "ExecuteTime": {
     "end_time": "2021-09-21T22:15:13.501124Z",
     "start_time": "2021-09-21T22:15:13.485628Z"
    }
   },
   "outputs": [
    {
     "data": {
      "text/html": [
       "<div>\n",
       "<style scoped>\n",
       "    .dataframe tbody tr th:only-of-type {\n",
       "        vertical-align: middle;\n",
       "    }\n",
       "\n",
       "    .dataframe tbody tr th {\n",
       "        vertical-align: top;\n",
       "    }\n",
       "\n",
       "    .dataframe thead th {\n",
       "        text-align: right;\n",
       "    }\n",
       "</style>\n",
       "<table border=\"1\" class=\"dataframe\">\n",
       "  <thead>\n",
       "    <tr style=\"text-align: right;\">\n",
       "      <th></th>\n",
       "      <th>Unnamed: 0</th>\n",
       "      <th>2010-01-04</th>\n",
       "      <th>2010-01-05</th>\n",
       "      <th>2010-01-06</th>\n",
       "      <th>2010-01-07</th>\n",
       "      <th>2010-01-08</th>\n",
       "      <th>2010-01-11</th>\n",
       "      <th>2010-01-12</th>\n",
       "      <th>2010-01-13</th>\n",
       "      <th>2010-01-14</th>\n",
       "      <th>...</th>\n",
       "      <th>2013-10-16</th>\n",
       "      <th>2013-10-17</th>\n",
       "      <th>2013-10-18</th>\n",
       "      <th>2013-10-21</th>\n",
       "      <th>2013-10-22</th>\n",
       "      <th>2013-10-23</th>\n",
       "      <th>2013-10-24</th>\n",
       "      <th>2013-10-25</th>\n",
       "      <th>2013-10-28</th>\n",
       "      <th>2013-10-29</th>\n",
       "    </tr>\n",
       "  </thead>\n",
       "  <tbody>\n",
       "    <tr>\n",
       "      <th>7</th>\n",
       "      <td>Canon</td>\n",
       "      <td>0.730000</td>\n",
       "      <td>0.369999</td>\n",
       "      <td>-0.099999</td>\n",
       "      <td>-0.169999</td>\n",
       "      <td>0.030003</td>\n",
       "      <td>0.110001</td>\n",
       "      <td>-0.079998</td>\n",
       "      <td>0.140000</td>\n",
       "      <td>0.389999</td>\n",
       "      <td>...</td>\n",
       "      <td>0.209999</td>\n",
       "      <td>0.560002</td>\n",
       "      <td>0.069999</td>\n",
       "      <td>0.119999</td>\n",
       "      <td>0.050003</td>\n",
       "      <td>-0.459999</td>\n",
       "      <td>0.259998</td>\n",
       "      <td>-0.109999</td>\n",
       "      <td>0.090001</td>\n",
       "      <td>-0.110001</td>\n",
       "    </tr>\n",
       "    <tr>\n",
       "      <th>45</th>\n",
       "      <td>Sony</td>\n",
       "      <td>0.500000</td>\n",
       "      <td>0.160000</td>\n",
       "      <td>-0.029999</td>\n",
       "      <td>0.059999</td>\n",
       "      <td>0.369999</td>\n",
       "      <td>-0.119999</td>\n",
       "      <td>0.100001</td>\n",
       "      <td>0.380001</td>\n",
       "      <td>0.140000</td>\n",
       "      <td>...</td>\n",
       "      <td>0.130001</td>\n",
       "      <td>0.280001</td>\n",
       "      <td>-0.260000</td>\n",
       "      <td>0.010000</td>\n",
       "      <td>0.020001</td>\n",
       "      <td>-0.149999</td>\n",
       "      <td>-0.060002</td>\n",
       "      <td>0.010000</td>\n",
       "      <td>0.010000</td>\n",
       "      <td>-0.030000</td>\n",
       "    </tr>\n",
       "    <tr>\n",
       "      <th>29</th>\n",
       "      <td>Lookheed Martin</td>\n",
       "      <td>0.979995</td>\n",
       "      <td>1.029999</td>\n",
       "      <td>0.410004</td>\n",
       "      <td>-1.759994</td>\n",
       "      <td>1.260003</td>\n",
       "      <td>0.209999</td>\n",
       "      <td>0.209999</td>\n",
       "      <td>0.719993</td>\n",
       "      <td>0.049995</td>\n",
       "      <td>...</td>\n",
       "      <td>1.199997</td>\n",
       "      <td>1.790001</td>\n",
       "      <td>-0.710007</td>\n",
       "      <td>-3.599991</td>\n",
       "      <td>0.460007</td>\n",
       "      <td>1.979996</td>\n",
       "      <td>0.599991</td>\n",
       "      <td>1.589996</td>\n",
       "      <td>-0.529999</td>\n",
       "      <td>0.260010</td>\n",
       "    </tr>\n",
       "    <tr>\n",
       "      <th>43</th>\n",
       "      <td>SAP</td>\n",
       "      <td>-0.119999</td>\n",
       "      <td>-0.160000</td>\n",
       "      <td>0.579998</td>\n",
       "      <td>0.529999</td>\n",
       "      <td>0.530003</td>\n",
       "      <td>0.239997</td>\n",
       "      <td>-0.030003</td>\n",
       "      <td>-0.209999</td>\n",
       "      <td>-1.080002</td>\n",
       "      <td>...</td>\n",
       "      <td>0.580002</td>\n",
       "      <td>0.069999</td>\n",
       "      <td>1.629997</td>\n",
       "      <td>-0.939994</td>\n",
       "      <td>0.800003</td>\n",
       "      <td>0.200005</td>\n",
       "      <td>-0.340004</td>\n",
       "      <td>-0.360001</td>\n",
       "      <td>-0.229996</td>\n",
       "      <td>-0.670006</td>\n",
       "    </tr>\n",
       "    <tr>\n",
       "      <th>39</th>\n",
       "      <td>Pfizer</td>\n",
       "      <td>0.660000</td>\n",
       "      <td>-0.260000</td>\n",
       "      <td>-0.060000</td>\n",
       "      <td>-0.109998</td>\n",
       "      <td>0.059999</td>\n",
       "      <td>0.000000</td>\n",
       "      <td>-0.029999</td>\n",
       "      <td>0.339998</td>\n",
       "      <td>0.179998</td>\n",
       "      <td>...</td>\n",
       "      <td>0.539999</td>\n",
       "      <td>0.440000</td>\n",
       "      <td>0.319999</td>\n",
       "      <td>-0.069999</td>\n",
       "      <td>0.300001</td>\n",
       "      <td>-0.050000</td>\n",
       "      <td>-0.069999</td>\n",
       "      <td>0.130001</td>\n",
       "      <td>0.289999</td>\n",
       "      <td>0.410000</td>\n",
       "    </tr>\n",
       "    <tr>\n",
       "      <th>37</th>\n",
       "      <td>Novartis</td>\n",
       "      <td>-1.139999</td>\n",
       "      <td>-0.050000</td>\n",
       "      <td>-0.500000</td>\n",
       "      <td>0.029999</td>\n",
       "      <td>-0.079998</td>\n",
       "      <td>0.180000</td>\n",
       "      <td>0.360000</td>\n",
       "      <td>-0.020001</td>\n",
       "      <td>0.410000</td>\n",
       "      <td>...</td>\n",
       "      <td>0.450004</td>\n",
       "      <td>0.150002</td>\n",
       "      <td>0.479996</td>\n",
       "      <td>0.490005</td>\n",
       "      <td>1.010002</td>\n",
       "      <td>0.300003</td>\n",
       "      <td>-0.310006</td>\n",
       "      <td>-0.240006</td>\n",
       "      <td>0.050003</td>\n",
       "      <td>-0.239997</td>\n",
       "    </tr>\n",
       "    <tr>\n",
       "      <th>8</th>\n",
       "      <td>Caterpillar</td>\n",
       "      <td>0.899997</td>\n",
       "      <td>0.700001</td>\n",
       "      <td>0.250000</td>\n",
       "      <td>0.369999</td>\n",
       "      <td>1.090000</td>\n",
       "      <td>3.179996</td>\n",
       "      <td>-0.769996</td>\n",
       "      <td>0.230004</td>\n",
       "      <td>-0.119998</td>\n",
       "      <td>...</td>\n",
       "      <td>0.209999</td>\n",
       "      <td>0.519996</td>\n",
       "      <td>1.029998</td>\n",
       "      <td>-0.020004</td>\n",
       "      <td>1.290001</td>\n",
       "      <td>-0.390000</td>\n",
       "      <td>1.209999</td>\n",
       "      <td>0.449997</td>\n",
       "      <td>-0.220001</td>\n",
       "      <td>0.159996</td>\n",
       "    </tr>\n",
       "    <tr>\n",
       "      <th>3</th>\n",
       "      <td>American express</td>\n",
       "      <td>0.109997</td>\n",
       "      <td>0.000000</td>\n",
       "      <td>0.260002</td>\n",
       "      <td>0.720002</td>\n",
       "      <td>0.190003</td>\n",
       "      <td>-0.270001</td>\n",
       "      <td>0.750000</td>\n",
       "      <td>0.300004</td>\n",
       "      <td>0.639999</td>\n",
       "      <td>...</td>\n",
       "      <td>0.680001</td>\n",
       "      <td>2.290001</td>\n",
       "      <td>0.409996</td>\n",
       "      <td>-0.069999</td>\n",
       "      <td>0.100006</td>\n",
       "      <td>0.069999</td>\n",
       "      <td>0.130005</td>\n",
       "      <td>1.849999</td>\n",
       "      <td>0.040001</td>\n",
       "      <td>0.540001</td>\n",
       "    </tr>\n",
       "    <tr>\n",
       "      <th>34</th>\n",
       "      <td>Mitsubishi</td>\n",
       "      <td>0.060000</td>\n",
       "      <td>0.020000</td>\n",
       "      <td>0.010000</td>\n",
       "      <td>0.040000</td>\n",
       "      <td>0.060000</td>\n",
       "      <td>-0.020000</td>\n",
       "      <td>-0.010000</td>\n",
       "      <td>0.030000</td>\n",
       "      <td>0.090000</td>\n",
       "      <td>...</td>\n",
       "      <td>0.070000</td>\n",
       "      <td>0.070000</td>\n",
       "      <td>0.020000</td>\n",
       "      <td>0.010000</td>\n",
       "      <td>-0.010000</td>\n",
       "      <td>-0.020000</td>\n",
       "      <td>0.020000</td>\n",
       "      <td>0.020000</td>\n",
       "      <td>-0.010000</td>\n",
       "      <td>0.040000</td>\n",
       "    </tr>\n",
       "    <tr>\n",
       "      <th>14</th>\n",
       "      <td>Dell</td>\n",
       "      <td>-0.080000</td>\n",
       "      <td>0.100000</td>\n",
       "      <td>-0.170000</td>\n",
       "      <td>0.150000</td>\n",
       "      <td>0.050000</td>\n",
       "      <td>0.000000</td>\n",
       "      <td>0.230000</td>\n",
       "      <td>-0.040000</td>\n",
       "      <td>-0.250000</td>\n",
       "      <td>...</td>\n",
       "      <td>0.009000</td>\n",
       "      <td>0.010000</td>\n",
       "      <td>-0.020000</td>\n",
       "      <td>0.010000</td>\n",
       "      <td>-0.005000</td>\n",
       "      <td>-0.005000</td>\n",
       "      <td>0.010000</td>\n",
       "      <td>-0.010000</td>\n",
       "      <td>-0.010000</td>\n",
       "      <td>0.020000</td>\n",
       "    </tr>\n",
       "  </tbody>\n",
       "</table>\n",
       "<p>10 rows × 964 columns</p>\n",
       "</div>"
      ],
      "text/plain": [
       "          Unnamed: 0  2010-01-04  2010-01-05  2010-01-06  2010-01-07  \\\n",
       "7              Canon    0.730000    0.369999   -0.099999   -0.169999   \n",
       "45              Sony    0.500000    0.160000   -0.029999    0.059999   \n",
       "29   Lookheed Martin    0.979995    1.029999    0.410004   -1.759994   \n",
       "43               SAP   -0.119999   -0.160000    0.579998    0.529999   \n",
       "39            Pfizer    0.660000   -0.260000   -0.060000   -0.109998   \n",
       "37          Novartis   -1.139999   -0.050000   -0.500000    0.029999   \n",
       "8        Caterpillar    0.899997    0.700001    0.250000    0.369999   \n",
       "3   American express    0.109997    0.000000    0.260002    0.720002   \n",
       "34        Mitsubishi    0.060000    0.020000    0.010000    0.040000   \n",
       "14              Dell   -0.080000    0.100000   -0.170000    0.150000   \n",
       "\n",
       "    2010-01-08  2010-01-11  2010-01-12  2010-01-13  2010-01-14  ...  \\\n",
       "7     0.030003    0.110001   -0.079998    0.140000    0.389999  ...   \n",
       "45    0.369999   -0.119999    0.100001    0.380001    0.140000  ...   \n",
       "29    1.260003    0.209999    0.209999    0.719993    0.049995  ...   \n",
       "43    0.530003    0.239997   -0.030003   -0.209999   -1.080002  ...   \n",
       "39    0.059999    0.000000   -0.029999    0.339998    0.179998  ...   \n",
       "37   -0.079998    0.180000    0.360000   -0.020001    0.410000  ...   \n",
       "8     1.090000    3.179996   -0.769996    0.230004   -0.119998  ...   \n",
       "3     0.190003   -0.270001    0.750000    0.300004    0.639999  ...   \n",
       "34    0.060000   -0.020000   -0.010000    0.030000    0.090000  ...   \n",
       "14    0.050000    0.000000    0.230000   -0.040000   -0.250000  ...   \n",
       "\n",
       "    2013-10-16  2013-10-17  2013-10-18  2013-10-21  2013-10-22  2013-10-23  \\\n",
       "7     0.209999    0.560002    0.069999    0.119999    0.050003   -0.459999   \n",
       "45    0.130001    0.280001   -0.260000    0.010000    0.020001   -0.149999   \n",
       "29    1.199997    1.790001   -0.710007   -3.599991    0.460007    1.979996   \n",
       "43    0.580002    0.069999    1.629997   -0.939994    0.800003    0.200005   \n",
       "39    0.539999    0.440000    0.319999   -0.069999    0.300001   -0.050000   \n",
       "37    0.450004    0.150002    0.479996    0.490005    1.010002    0.300003   \n",
       "8     0.209999    0.519996    1.029998   -0.020004    1.290001   -0.390000   \n",
       "3     0.680001    2.290001    0.409996   -0.069999    0.100006    0.069999   \n",
       "34    0.070000    0.070000    0.020000    0.010000   -0.010000   -0.020000   \n",
       "14    0.009000    0.010000   -0.020000    0.010000   -0.005000   -0.005000   \n",
       "\n",
       "    2013-10-24  2013-10-25  2013-10-28  2013-10-29  \n",
       "7     0.259998   -0.109999    0.090001   -0.110001  \n",
       "45   -0.060002    0.010000    0.010000   -0.030000  \n",
       "29    0.599991    1.589996   -0.529999    0.260010  \n",
       "43   -0.340004   -0.360001   -0.229996   -0.670006  \n",
       "39   -0.069999    0.130001    0.289999    0.410000  \n",
       "37   -0.310006   -0.240006    0.050003   -0.239997  \n",
       "8     1.209999    0.449997   -0.220001    0.159996  \n",
       "3     0.130005    1.849999    0.040001    0.540001  \n",
       "34    0.020000    0.020000   -0.010000    0.040000  \n",
       "14    0.010000   -0.010000   -0.010000    0.020000  \n",
       "\n",
       "[10 rows x 964 columns]"
      ]
     },
     "execution_count": 34,
     "metadata": {},
     "output_type": "execute_result"
    }
   ],
   "source": [
    "df.sample(10)"
   ]
  },
  {
   "cell_type": "code",
   "execution_count": 35,
   "id": "14edb243",
   "metadata": {
    "ExecuteTime": {
     "end_time": "2021-09-21T22:15:13.909076Z",
     "start_time": "2021-09-21T22:15:13.906375Z"
    }
   },
   "outputs": [],
   "source": [
    "companies = df[\"Unnamed: 0\"].to_list()\n",
    "movements = df.drop(\"Unnamed: 0\", axis=1).to_numpy()"
   ]
  },
  {
   "cell_type": "markdown",
   "id": "c954b48b",
   "metadata": {},
   "source": [
    "## Normalize"
   ]
  },
  {
   "cell_type": "code",
   "execution_count": 36,
   "id": "a42b65d1",
   "metadata": {
    "ExecuteTime": {
     "end_time": "2021-09-21T22:15:15.993012Z",
     "start_time": "2021-09-21T22:15:15.943575Z"
    }
   },
   "outputs": [
    {
     "data": {
      "text/plain": [
       "Pipeline(steps=[('normalizer', Normalizer()),\n",
       "                ('kmeans', KMeans(n_clusters=10))])"
      ]
     },
     "execution_count": 36,
     "metadata": {},
     "output_type": "execute_result"
    }
   ],
   "source": [
    "# Create a normalizer: normalizer\n",
    "normalizer = Normalizer()\n",
    "\n",
    "# Create a KMeans model with 10 clusters: kmeans\n",
    "kmeans = KMeans(n_clusters=10)\n",
    "\n",
    "# Make a pipeline chaining normalizer and kmeans: pipeline\n",
    "pipeline = make_pipeline(normalizer, kmeans)\n",
    "\n",
    "# Fit pipeline to the daily price movements\n",
    "pipeline.fit(movements)"
   ]
  },
  {
   "cell_type": "code",
   "execution_count": 37,
   "id": "73392b4c",
   "metadata": {
    "ExecuteTime": {
     "end_time": "2021-09-21T22:15:17.281570Z",
     "start_time": "2021-09-21T22:15:17.269840Z"
    },
    "scrolled": true
   },
   "outputs": [
    {
     "name": "stdout",
     "output_type": "stream",
     "text": [
      "    labels                           companies\n",
      "29       0                     Lookheed Martin\n",
      "36       0                    Northrop Grumman\n",
      "19       1                     GlaxoSmithKline\n",
      "52       1                            Unilever\n",
      "6        1            British American Tobacco\n",
      "49       1                               Total\n",
      "46       1                      Sanofi-Aventis\n",
      "37       1                            Novartis\n",
      "43       1                                 SAP\n",
      "42       1                   Royal Dutch Shell\n",
      "39       1                              Pfizer\n",
      "30       2                          MasterCard\n",
      "32       2                                  3M\n",
      "35       2                            Navistar\n",
      "44       2                        Schlumberger\n",
      "47       2                            Symantec\n",
      "50       2  Taiwan Semiconductor Manufacturing\n",
      "51       2                   Texas instruments\n",
      "53       2                       Valero Energy\n",
      "57       2                               Exxon\n",
      "58       2                               Xerox\n",
      "23       2                                 IBM\n",
      "59       2                               Yahoo\n",
      "4        2                              Boeing\n",
      "2        2                              Amazon\n",
      "3        2                    American express\n",
      "16       2                   General Electrics\n",
      "10       2                      ConocoPhillips\n",
      "17       2                     Google/Alphabet\n",
      "13       2                   DuPont de Nemours\n",
      "12       2                             Chevron\n",
      "20       2                          Home Depot\n",
      "8        2                         Caterpillar\n",
      "1        2                                 AIG\n",
      "26       3                      JPMorgan Chase\n",
      "5        3                     Bank of America\n",
      "18       3                       Goldman Sachs\n",
      "55       3                         Wells Fargo\n",
      "45       4                                Sony\n",
      "48       4                              Toyota\n",
      "7        4                               Canon\n",
      "21       4                               Honda\n",
      "15       4                                Ford\n",
      "34       4                          Mitsubishi\n",
      "22       5                                  HP\n",
      "14       5                                Dell\n",
      "54       6                            Walgreen\n",
      "40       7                      Procter Gamble\n",
      "9        7                   Colgate-Palmolive\n",
      "56       7                            Wal-Mart\n",
      "27       7                      Kimberly-Clark\n",
      "25       7                   Johnson & Johnson\n",
      "41       8                       Philip Morris\n",
      "38       8                               Pepsi\n",
      "31       8                           McDonalds\n",
      "28       8                           Coca Cola\n",
      "33       9                           Microsoft\n",
      "24       9                               Intel\n",
      "11       9                               Cisco\n",
      "0        9                               Apple\n"
     ]
    }
   ],
   "source": [
    "# Predict the cluster labels: labels\n",
    "labels = pipeline.predict(movements)\n",
    "\n",
    "# Create a DataFrame aligning labels and companies: df\n",
    "df = pd.DataFrame({'labels': labels, 'companies': companies})\n",
    "\n",
    "# Display df sorted by cluster label\n",
    "print(df.sort_values(by=[\"labels\"]))"
   ]
  },
  {
   "cell_type": "markdown",
   "id": "182a1a74",
   "metadata": {},
   "source": [
    "## Hierarchical Clustering"
   ]
  },
  {
   "cell_type": "code",
   "execution_count": 38,
   "id": "984525a9",
   "metadata": {
    "ExecuteTime": {
     "end_time": "2021-09-21T22:15:20.377491Z",
     "start_time": "2021-09-21T22:15:19.405895Z"
    }
   },
   "outputs": [
    {
     "data": {
      "image/png": "[encoded data removed]",
      "text/plain": [
       "<Figure size 1080x432 with 1 Axes>"
      ]
     },
     "metadata": {
      "needs_background": "light"
     },
     "output_type": "display_data"
    }
   ],
   "source": [
    "# Normalize the movements: normalized_movements\n",
    "normalized_movements = normalize(movements)\n",
    "\n",
    "# Calculate the linkage: mergings\n",
    "mergings = sp.cluster.hierarchy.linkage(normalized_movements,\n",
    "                                        method='complete')\n",
    "\n",
    "# Plot the dendrogram\n",
    "_ = sp.cluster.hierarchy.dendrogram(mergings,\n",
    "                                    labels=companies,\n",
    "                                    leaf_rotation=90,\n",
    "                                    leaf_font_size=6)"
   ]
  },
  {
   "cell_type": "code",
   "execution_count": 39,
   "id": "6725a8e9",
   "metadata": {
    "ExecuteTime": {
     "end_time": "2021-09-21T22:15:21.189092Z",
     "start_time": "2021-09-21T22:15:20.540973Z"
    }
   },
   "outputs": [
    {
     "name": "stderr",
     "output_type": "stream",
     "text": [
      "/home/kcavagnolo/.pyenv/versions/3.8.0/lib/python3.8/site-packages/seaborn/matrix.py:649: UserWarning: Clustering large matrix with scipy. Installing `fastcluster` may give better performance.\n",
      "  warnings.warn(msg)\n"
     ]
    },
    {
     "data": {
      "text/plain": [
       "<seaborn.matrix.ClusterGrid at 0x7f7f40093100>"
      ]
     },
     "execution_count": 39,
     "metadata": {},
     "output_type": "execute_result"
    },
    {
     "data": {
      "image/png": "[encoded data removed]",
      "text/plain": [
       "<Figure size 720x720 with 4 Axes>"
      ]
     },
     "metadata": {
      "needs_background": "light"
     },
     "output_type": "display_data"
    }
   ],
   "source": [
    "sns.clustermap(normalized_movements, standard_scale=1)"
   ]
  },
  {
   "cell_type": "markdown",
   "id": "57618888",
   "metadata": {},
   "source": [
    "## t-SNE"
   ]
  },
  {
   "cell_type": "code",
   "execution_count": 40,
   "id": "767bd17e",
   "metadata": {
    "ExecuteTime": {
     "end_time": "2021-09-21T22:15:22.871852Z",
     "start_time": "2021-09-21T22:15:22.277027Z"
    }
   },
   "outputs": [
    {
     "data": {
      "image/png": "[encoded data removed]",
      "text/plain": [
       "<Figure size 1080x1080 with 1 Axes>"
      ]
     },
     "metadata": {
      "needs_background": "light"
     },
     "output_type": "display_data"
    }
   ],
   "source": [
    "# Create a TSNE instance: model\n",
    "model = TSNE(learning_rate=50)\n",
    "\n",
    "# Apply fit_transform to normalized_movements: tsne_features\n",
    "tsne_features = model.fit_transform(normalized_movements)\n",
    "\n",
    "# Select the 0th feature: xs\n",
    "xs = tsne_features[:, 0]\n",
    "\n",
    "# Select the 1th feature: ys\n",
    "ys = tsne_features[:, 1]\n",
    "\n",
    "# Scatter plot\n",
    "fig, ax = plt.subplots(figsize=(15, 15))\n",
    "plt.scatter(xs, ys, c=labels)\n",
    "\n",
    "# Annotate the points\n",
    "for x, y, company in zip(xs, ys, companies):\n",
    "    plt.annotate(company, (x, y), fontsize=10, alpha=0.75)"
   ]
  },
  {
   "cell_type": "markdown",
   "id": "055f390d",
   "metadata": {},
   "source": [
    "# Eurovision"
   ]
  },
  {
   "cell_type": "markdown",
   "id": "9c49f2d7",
   "metadata": {},
   "source": [
    "## Data"
   ]
  },
  {
   "cell_type": "code",
   "execution_count": 41,
   "id": "1fb33143",
   "metadata": {
    "ExecuteTime": {
     "end_time": "2021-09-21T22:15:27.201681Z",
     "start_time": "2021-09-21T22:15:27.198014Z"
    }
   },
   "outputs": [],
   "source": [
    "df = pd.read_csv('datasets/eurovision-2016.csv')"
   ]
  },
  {
   "cell_type": "code",
   "execution_count": 42,
   "id": "6e16f0e7",
   "metadata": {
    "ExecuteTime": {
     "end_time": "2021-09-21T22:15:27.975274Z",
     "start_time": "2021-09-21T22:15:27.963611Z"
    }
   },
   "outputs": [
    {
     "data": {
      "text/html": [
       "<div>\n",
       "<style scoped>\n",
       "    .dataframe tbody tr th:only-of-type {\n",
       "        vertical-align: middle;\n",
       "    }\n",
       "\n",
       "    .dataframe tbody tr th {\n",
       "        vertical-align: top;\n",
       "    }\n",
       "\n",
       "    .dataframe thead th {\n",
       "        text-align: right;\n",
       "    }\n",
       "</style>\n",
       "<table border=\"1\" class=\"dataframe\">\n",
       "  <thead>\n",
       "    <tr style=\"text-align: right;\">\n",
       "      <th></th>\n",
       "      <th>From country</th>\n",
       "      <th>To country</th>\n",
       "      <th>Jury A</th>\n",
       "      <th>Jury B</th>\n",
       "      <th>Jury C</th>\n",
       "      <th>Jury D</th>\n",
       "      <th>Jury E</th>\n",
       "      <th>Jury Rank</th>\n",
       "      <th>Televote Rank</th>\n",
       "      <th>Jury Points</th>\n",
       "      <th>Televote Points</th>\n",
       "    </tr>\n",
       "  </thead>\n",
       "  <tbody>\n",
       "    <tr>\n",
       "      <th>0</th>\n",
       "      <td>Albania</td>\n",
       "      <td>Belgium</td>\n",
       "      <td>20</td>\n",
       "      <td>16</td>\n",
       "      <td>24</td>\n",
       "      <td>22</td>\n",
       "      <td>24</td>\n",
       "      <td>25</td>\n",
       "      <td>14</td>\n",
       "      <td>NaN</td>\n",
       "      <td>NaN</td>\n",
       "    </tr>\n",
       "    <tr>\n",
       "      <th>1</th>\n",
       "      <td>Albania</td>\n",
       "      <td>Czech Republic</td>\n",
       "      <td>21</td>\n",
       "      <td>15</td>\n",
       "      <td>25</td>\n",
       "      <td>23</td>\n",
       "      <td>16</td>\n",
       "      <td>22</td>\n",
       "      <td>22</td>\n",
       "      <td>NaN</td>\n",
       "      <td>NaN</td>\n",
       "    </tr>\n",
       "    <tr>\n",
       "      <th>2</th>\n",
       "      <td>Albania</td>\n",
       "      <td>The Netherlands</td>\n",
       "      <td>22</td>\n",
       "      <td>14</td>\n",
       "      <td>23</td>\n",
       "      <td>24</td>\n",
       "      <td>21</td>\n",
       "      <td>24</td>\n",
       "      <td>24</td>\n",
       "      <td>NaN</td>\n",
       "      <td>NaN</td>\n",
       "    </tr>\n",
       "    <tr>\n",
       "      <th>3</th>\n",
       "      <td>Albania</td>\n",
       "      <td>Azerbaijan</td>\n",
       "      <td>19</td>\n",
       "      <td>12</td>\n",
       "      <td>11</td>\n",
       "      <td>21</td>\n",
       "      <td>11</td>\n",
       "      <td>13</td>\n",
       "      <td>19</td>\n",
       "      <td>NaN</td>\n",
       "      <td>NaN</td>\n",
       "    </tr>\n",
       "    <tr>\n",
       "      <th>4</th>\n",
       "      <td>Albania</td>\n",
       "      <td>Hungary</td>\n",
       "      <td>8</td>\n",
       "      <td>13</td>\n",
       "      <td>9</td>\n",
       "      <td>14</td>\n",
       "      <td>9</td>\n",
       "      <td>10</td>\n",
       "      <td>10</td>\n",
       "      <td>1.0</td>\n",
       "      <td>1.0</td>\n",
       "    </tr>\n",
       "    <tr>\n",
       "      <th>5</th>\n",
       "      <td>Albania</td>\n",
       "      <td>Italy</td>\n",
       "      <td>4</td>\n",
       "      <td>10</td>\n",
       "      <td>3</td>\n",
       "      <td>7</td>\n",
       "      <td>2</td>\n",
       "      <td>3</td>\n",
       "      <td>2</td>\n",
       "      <td>8.0</td>\n",
       "      <td>10.0</td>\n",
       "    </tr>\n",
       "    <tr>\n",
       "      <th>6</th>\n",
       "      <td>Albania</td>\n",
       "      <td>Israel</td>\n",
       "      <td>10</td>\n",
       "      <td>2</td>\n",
       "      <td>18</td>\n",
       "      <td>4</td>\n",
       "      <td>12</td>\n",
       "      <td>8</td>\n",
       "      <td>17</td>\n",
       "      <td>3.0</td>\n",
       "      <td>NaN</td>\n",
       "    </tr>\n",
       "    <tr>\n",
       "      <th>7</th>\n",
       "      <td>Albania</td>\n",
       "      <td>Bulgaria</td>\n",
       "      <td>11</td>\n",
       "      <td>3</td>\n",
       "      <td>6</td>\n",
       "      <td>13</td>\n",
       "      <td>6</td>\n",
       "      <td>7</td>\n",
       "      <td>3</td>\n",
       "      <td>4.0</td>\n",
       "      <td>8.0</td>\n",
       "    </tr>\n",
       "    <tr>\n",
       "      <th>8</th>\n",
       "      <td>Albania</td>\n",
       "      <td>Sweden</td>\n",
       "      <td>16</td>\n",
       "      <td>8</td>\n",
       "      <td>15</td>\n",
       "      <td>6</td>\n",
       "      <td>15</td>\n",
       "      <td>11</td>\n",
       "      <td>8</td>\n",
       "      <td>NaN</td>\n",
       "      <td>3.0</td>\n",
       "    </tr>\n",
       "    <tr>\n",
       "      <th>9</th>\n",
       "      <td>Albania</td>\n",
       "      <td>Germany</td>\n",
       "      <td>18</td>\n",
       "      <td>17</td>\n",
       "      <td>20</td>\n",
       "      <td>11</td>\n",
       "      <td>17</td>\n",
       "      <td>18</td>\n",
       "      <td>15</td>\n",
       "      <td>NaN</td>\n",
       "      <td>NaN</td>\n",
       "    </tr>\n",
       "  </tbody>\n",
       "</table>\n",
       "</div>"
      ],
      "text/plain": [
       "  From country       To country  Jury A  Jury B  Jury C  Jury D  Jury E  \\\n",
       "0      Albania          Belgium      20      16      24      22      24   \n",
       "1      Albania   Czech Republic      21      15      25      23      16   \n",
       "2      Albania  The Netherlands      22      14      23      24      21   \n",
       "3      Albania       Azerbaijan      19      12      11      21      11   \n",
       "4      Albania          Hungary       8      13       9      14       9   \n",
       "5      Albania            Italy       4      10       3       7       2   \n",
       "6      Albania           Israel      10       2      18       4      12   \n",
       "7      Albania         Bulgaria      11       3       6      13       6   \n",
       "8      Albania           Sweden      16       8      15       6      15   \n",
       "9      Albania          Germany      18      17      20      11      17   \n",
       "\n",
       "   Jury Rank  Televote Rank  Jury Points  Televote Points  \n",
       "0         25             14          NaN              NaN  \n",
       "1         22             22          NaN              NaN  \n",
       "2         24             24          NaN              NaN  \n",
       "3         13             19          NaN              NaN  \n",
       "4         10             10          1.0              1.0  \n",
       "5          3              2          8.0             10.0  \n",
       "6          8             17          3.0              NaN  \n",
       "7          7              3          4.0              8.0  \n",
       "8         11              8          NaN              3.0  \n",
       "9         18             15          NaN              NaN  "
      ]
     },
     "execution_count": 42,
     "metadata": {},
     "output_type": "execute_result"
    }
   ],
   "source": [
    "df.head(10)"
   ]
  },
  {
   "cell_type": "code",
   "execution_count": 43,
   "id": "5fad3e86",
   "metadata": {
    "ExecuteTime": {
     "end_time": "2021-09-21T22:15:28.825162Z",
     "start_time": "2021-09-21T22:15:28.822101Z"
    }
   },
   "outputs": [],
   "source": [
    "df.columns = [x.lower().replace(\" \",\"_\") for x in df.columns]\n",
    "df.fillna(0, inplace=True)"
   ]
  },
  {
   "cell_type": "code",
   "execution_count": 44,
   "id": "ecd1bec6",
   "metadata": {
    "ExecuteTime": {
     "end_time": "2021-09-21T22:15:29.760104Z",
     "start_time": "2021-09-21T22:15:29.751282Z"
    }
   },
   "outputs": [
    {
     "data": {
      "text/html": [
       "<div>\n",
       "<style scoped>\n",
       "    .dataframe tbody tr th:only-of-type {\n",
       "        vertical-align: middle;\n",
       "    }\n",
       "\n",
       "    .dataframe tbody tr th {\n",
       "        vertical-align: top;\n",
       "    }\n",
       "\n",
       "    .dataframe thead th {\n",
       "        text-align: right;\n",
       "    }\n",
       "</style>\n",
       "<table border=\"1\" class=\"dataframe\">\n",
       "  <thead>\n",
       "    <tr style=\"text-align: right;\">\n",
       "      <th></th>\n",
       "      <th>from_country</th>\n",
       "      <th>to_country</th>\n",
       "      <th>jury_a</th>\n",
       "      <th>jury_b</th>\n",
       "      <th>jury_c</th>\n",
       "      <th>jury_d</th>\n",
       "      <th>jury_e</th>\n",
       "      <th>jury_rank</th>\n",
       "      <th>televote_rank</th>\n",
       "      <th>jury_points</th>\n",
       "      <th>televote_points</th>\n",
       "    </tr>\n",
       "  </thead>\n",
       "  <tbody>\n",
       "    <tr>\n",
       "      <th>0</th>\n",
       "      <td>Albania</td>\n",
       "      <td>Belgium</td>\n",
       "      <td>20</td>\n",
       "      <td>16</td>\n",
       "      <td>24</td>\n",
       "      <td>22</td>\n",
       "      <td>24</td>\n",
       "      <td>25</td>\n",
       "      <td>14</td>\n",
       "      <td>0.0</td>\n",
       "      <td>0.0</td>\n",
       "    </tr>\n",
       "    <tr>\n",
       "      <th>1</th>\n",
       "      <td>Albania</td>\n",
       "      <td>Czech Republic</td>\n",
       "      <td>21</td>\n",
       "      <td>15</td>\n",
       "      <td>25</td>\n",
       "      <td>23</td>\n",
       "      <td>16</td>\n",
       "      <td>22</td>\n",
       "      <td>22</td>\n",
       "      <td>0.0</td>\n",
       "      <td>0.0</td>\n",
       "    </tr>\n",
       "    <tr>\n",
       "      <th>2</th>\n",
       "      <td>Albania</td>\n",
       "      <td>The Netherlands</td>\n",
       "      <td>22</td>\n",
       "      <td>14</td>\n",
       "      <td>23</td>\n",
       "      <td>24</td>\n",
       "      <td>21</td>\n",
       "      <td>24</td>\n",
       "      <td>24</td>\n",
       "      <td>0.0</td>\n",
       "      <td>0.0</td>\n",
       "    </tr>\n",
       "    <tr>\n",
       "      <th>3</th>\n",
       "      <td>Albania</td>\n",
       "      <td>Azerbaijan</td>\n",
       "      <td>19</td>\n",
       "      <td>12</td>\n",
       "      <td>11</td>\n",
       "      <td>21</td>\n",
       "      <td>11</td>\n",
       "      <td>13</td>\n",
       "      <td>19</td>\n",
       "      <td>0.0</td>\n",
       "      <td>0.0</td>\n",
       "    </tr>\n",
       "    <tr>\n",
       "      <th>4</th>\n",
       "      <td>Albania</td>\n",
       "      <td>Hungary</td>\n",
       "      <td>8</td>\n",
       "      <td>13</td>\n",
       "      <td>9</td>\n",
       "      <td>14</td>\n",
       "      <td>9</td>\n",
       "      <td>10</td>\n",
       "      <td>10</td>\n",
       "      <td>1.0</td>\n",
       "      <td>1.0</td>\n",
       "    </tr>\n",
       "  </tbody>\n",
       "</table>\n",
       "</div>"
      ],
      "text/plain": [
       "  from_country       to_country  jury_a  jury_b  jury_c  jury_d  jury_e  \\\n",
       "0      Albania          Belgium      20      16      24      22      24   \n",
       "1      Albania   Czech Republic      21      15      25      23      16   \n",
       "2      Albania  The Netherlands      22      14      23      24      21   \n",
       "3      Albania       Azerbaijan      19      12      11      21      11   \n",
       "4      Albania          Hungary       8      13       9      14       9   \n",
       "\n",
       "   jury_rank  televote_rank  jury_points  televote_points  \n",
       "0         25             14          0.0              0.0  \n",
       "1         22             22          0.0              0.0  \n",
       "2         24             24          0.0              0.0  \n",
       "3         13             19          0.0              0.0  \n",
       "4         10             10          1.0              1.0  "
      ]
     },
     "execution_count": 44,
     "metadata": {},
     "output_type": "execute_result"
    }
   ],
   "source": [
    "df.head()"
   ]
  },
  {
   "cell_type": "code",
   "execution_count": 45,
   "id": "8f6636ae",
   "metadata": {
    "ExecuteTime": {
     "end_time": "2021-09-21T22:15:30.346445Z",
     "start_time": "2021-09-21T22:15:30.338191Z"
    }
   },
   "outputs": [],
   "source": [
    "# reconstructing the samples used in DC tutorial\n",
    "samples = df.pivot_table(index=\"from_country\",\n",
    "                         columns=\"to_country\",\n",
    "                         values=\"televote_points\").fillna(\n",
    "                             max(df.televote_points)).to_numpy()"
   ]
  },
  {
   "cell_type": "code",
   "execution_count": 46,
   "id": "fdd6881f",
   "metadata": {
    "ExecuteTime": {
     "end_time": "2021-09-21T22:15:30.884448Z",
     "start_time": "2021-09-21T22:15:30.882497Z"
    }
   },
   "outputs": [],
   "source": [
    "country_names = df.from_country.unique()"
   ]
  },
  {
   "cell_type": "markdown",
   "id": "554cc8cf",
   "metadata": {},
   "source": [
    "## Hierarchical Clustering"
   ]
  },
  {
   "cell_type": "code",
   "execution_count": 47,
   "id": "d0a69c5f",
   "metadata": {
    "ExecuteTime": {
     "end_time": "2021-09-21T22:15:32.487581Z",
     "start_time": "2021-09-21T22:15:32.111433Z"
    }
   },
   "outputs": [
    {
     "name": "stderr",
     "output_type": "stream",
     "text": [
      "WARNING:matplotlib.font_manager:findfont: Font family ['sans-serif'] not found. Falling back to DejaVu Sans.\n",
      "WARNING:matplotlib.font_manager:findfont: Generic family 'sans-serif' not found because none of the following families were found: Open Sans\n"
     ]
    },
    {
     "data": {
      "image/png": "[encoded data removed]",
      "text/plain": [
       "<Figure size 1080x432 with 1 Axes>"
      ]
     },
     "metadata": {
      "needs_background": "light"
     },
     "output_type": "display_data"
    }
   ],
   "source": [
    "# Calculate the linkage: mergings\n",
    "mergings = sp.cluster.hierarchy.linkage(samples, method='single')\n",
    "\n",
    "# Plot the dendrogram\n",
    "sp.cluster.hierarchy.dendrogram(mergings, labels=country_names, leaf_rotation=90)\n",
    "plt.show()"
   ]
  },
  {
   "cell_type": "markdown",
   "id": "ad255828",
   "metadata": {},
   "source": [
    "# Wikipedia Articles"
   ]
  },
  {
   "cell_type": "code",
   "execution_count": 48,
   "id": "9245a70b",
   "metadata": {
    "ExecuteTime": {
     "end_time": "2021-09-21T22:15:34.684003Z",
     "start_time": "2021-09-21T22:15:34.681849Z"
    }
   },
   "outputs": [],
   "source": [
    "# the below data emerges from a prior analysis\n",
    "\n",
    "# Import TfidfVectorizer\n",
    "#from sklearn.feature_extraction.text import TfidfVectorizer\n",
    "\n",
    "# Create a TfidfVectorizer: tfidf\n",
    "#tfidf = TfidfVectorizer()\n",
    "\n",
    "# Apply fit_transform to document: csr_mat\n",
    "#csr_mat = tfidf.fit_transform(documents)\n",
    "\n",
    "# Print result of toarray() method\n",
    "#print(csr_mat.toarray())\n",
    "\n",
    "# Get the words: words\n",
    "#words = tfidf.get_feature_names()\n",
    "\n",
    "# Print words\n",
    "#print(words)"
   ]
  },
  {
   "cell_type": "code",
   "execution_count": 49,
   "id": "6db9b046",
   "metadata": {
    "ExecuteTime": {
     "end_time": "2021-09-21T22:15:35.414748Z",
     "start_time": "2021-09-21T22:15:35.362927Z"
    }
   },
   "outputs": [
    {
     "data": {
      "text/html": [
       "<div>\n",
       "<style scoped>\n",
       "    .dataframe tbody tr th:only-of-type {\n",
       "        vertical-align: middle;\n",
       "    }\n",
       "\n",
       "    .dataframe tbody tr th {\n",
       "        vertical-align: top;\n",
       "    }\n",
       "\n",
       "    .dataframe thead th {\n",
       "        text-align: right;\n",
       "    }\n",
       "</style>\n",
       "<table border=\"1\" class=\"dataframe\">\n",
       "  <thead>\n",
       "    <tr style=\"text-align: right;\">\n",
       "      <th></th>\n",
       "      <th>Unnamed: 0</th>\n",
       "      <th>HTTP 404</th>\n",
       "      <th>Alexa Internet</th>\n",
       "      <th>Internet Explorer</th>\n",
       "      <th>HTTP cookie</th>\n",
       "      <th>Google Search</th>\n",
       "      <th>Tumblr</th>\n",
       "      <th>Hypertext Transfer Protocol</th>\n",
       "      <th>Social search</th>\n",
       "      <th>Firefox</th>\n",
       "      <th>...</th>\n",
       "      <th>Chad Kroeger</th>\n",
       "      <th>Nate Ruess</th>\n",
       "      <th>The Wanted</th>\n",
       "      <th>Stevie Nicks</th>\n",
       "      <th>Arctic Monkeys</th>\n",
       "      <th>Black Sabbath</th>\n",
       "      <th>Skrillex</th>\n",
       "      <th>Red Hot Chili Peppers</th>\n",
       "      <th>Sepsis</th>\n",
       "      <th>Adam Levine</th>\n",
       "    </tr>\n",
       "  </thead>\n",
       "  <tbody>\n",
       "    <tr>\n",
       "      <th>5478</th>\n",
       "      <td>5478</td>\n",
       "      <td>0.0</td>\n",
       "      <td>0.0</td>\n",
       "      <td>0.0</td>\n",
       "      <td>0.0</td>\n",
       "      <td>0.000000</td>\n",
       "      <td>0.00000</td>\n",
       "      <td>0.0</td>\n",
       "      <td>0.0</td>\n",
       "      <td>0.0</td>\n",
       "      <td>...</td>\n",
       "      <td>0.0</td>\n",
       "      <td>0.0</td>\n",
       "      <td>0.0</td>\n",
       "      <td>0.000000</td>\n",
       "      <td>0.000000</td>\n",
       "      <td>0.000000</td>\n",
       "      <td>0.00000</td>\n",
       "      <td>0.000000</td>\n",
       "      <td>0.000000</td>\n",
       "      <td>0.000000</td>\n",
       "    </tr>\n",
       "    <tr>\n",
       "      <th>13045</th>\n",
       "      <td>13045</td>\n",
       "      <td>0.0</td>\n",
       "      <td>0.0</td>\n",
       "      <td>0.0</td>\n",
       "      <td>0.0</td>\n",
       "      <td>0.000000</td>\n",
       "      <td>0.04229</td>\n",
       "      <td>0.0</td>\n",
       "      <td>0.0</td>\n",
       "      <td>0.0</td>\n",
       "      <td>...</td>\n",
       "      <td>0.0</td>\n",
       "      <td>0.0</td>\n",
       "      <td>0.0</td>\n",
       "      <td>0.000000</td>\n",
       "      <td>0.000000</td>\n",
       "      <td>0.000000</td>\n",
       "      <td>0.02977</td>\n",
       "      <td>0.000000</td>\n",
       "      <td>0.000000</td>\n",
       "      <td>0.000000</td>\n",
       "    </tr>\n",
       "    <tr>\n",
       "      <th>4847</th>\n",
       "      <td>4847</td>\n",
       "      <td>0.0</td>\n",
       "      <td>0.0</td>\n",
       "      <td>0.0</td>\n",
       "      <td>0.0</td>\n",
       "      <td>0.000000</td>\n",
       "      <td>0.00000</td>\n",
       "      <td>0.0</td>\n",
       "      <td>0.0</td>\n",
       "      <td>0.0</td>\n",
       "      <td>...</td>\n",
       "      <td>0.0</td>\n",
       "      <td>0.0</td>\n",
       "      <td>0.0</td>\n",
       "      <td>0.000000</td>\n",
       "      <td>0.000000</td>\n",
       "      <td>0.000000</td>\n",
       "      <td>0.00000</td>\n",
       "      <td>0.000000</td>\n",
       "      <td>0.000000</td>\n",
       "      <td>0.000000</td>\n",
       "    </tr>\n",
       "    <tr>\n",
       "      <th>13072</th>\n",
       "      <td>13072</td>\n",
       "      <td>0.0</td>\n",
       "      <td>0.0</td>\n",
       "      <td>0.0</td>\n",
       "      <td>0.0</td>\n",
       "      <td>0.000000</td>\n",
       "      <td>0.00000</td>\n",
       "      <td>0.0</td>\n",
       "      <td>0.0</td>\n",
       "      <td>0.0</td>\n",
       "      <td>...</td>\n",
       "      <td>0.0</td>\n",
       "      <td>0.0</td>\n",
       "      <td>0.0</td>\n",
       "      <td>0.000000</td>\n",
       "      <td>0.000000</td>\n",
       "      <td>0.000000</td>\n",
       "      <td>0.00000</td>\n",
       "      <td>0.000000</td>\n",
       "      <td>0.000000</td>\n",
       "      <td>0.000000</td>\n",
       "    </tr>\n",
       "    <tr>\n",
       "      <th>1893</th>\n",
       "      <td>1893</td>\n",
       "      <td>0.0</td>\n",
       "      <td>0.0</td>\n",
       "      <td>0.0</td>\n",
       "      <td>0.0</td>\n",
       "      <td>0.000000</td>\n",
       "      <td>0.00000</td>\n",
       "      <td>0.0</td>\n",
       "      <td>0.0</td>\n",
       "      <td>0.0</td>\n",
       "      <td>...</td>\n",
       "      <td>0.0</td>\n",
       "      <td>0.0</td>\n",
       "      <td>0.0</td>\n",
       "      <td>0.025591</td>\n",
       "      <td>0.000000</td>\n",
       "      <td>0.000000</td>\n",
       "      <td>0.00000</td>\n",
       "      <td>0.000000</td>\n",
       "      <td>0.000000</td>\n",
       "      <td>0.014806</td>\n",
       "    </tr>\n",
       "    <tr>\n",
       "      <th>10104</th>\n",
       "      <td>10104</td>\n",
       "      <td>0.0</td>\n",
       "      <td>0.0</td>\n",
       "      <td>0.0</td>\n",
       "      <td>0.0</td>\n",
       "      <td>0.000000</td>\n",
       "      <td>0.00000</td>\n",
       "      <td>0.0</td>\n",
       "      <td>0.0</td>\n",
       "      <td>0.0</td>\n",
       "      <td>...</td>\n",
       "      <td>0.0</td>\n",
       "      <td>0.0</td>\n",
       "      <td>0.0</td>\n",
       "      <td>0.000000</td>\n",
       "      <td>0.000000</td>\n",
       "      <td>0.000000</td>\n",
       "      <td>0.00000</td>\n",
       "      <td>0.000000</td>\n",
       "      <td>0.000000</td>\n",
       "      <td>0.000000</td>\n",
       "    </tr>\n",
       "    <tr>\n",
       "      <th>8765</th>\n",
       "      <td>8765</td>\n",
       "      <td>0.0</td>\n",
       "      <td>0.0</td>\n",
       "      <td>0.0</td>\n",
       "      <td>0.0</td>\n",
       "      <td>0.000000</td>\n",
       "      <td>0.00000</td>\n",
       "      <td>0.0</td>\n",
       "      <td>0.0</td>\n",
       "      <td>0.0</td>\n",
       "      <td>...</td>\n",
       "      <td>0.0</td>\n",
       "      <td>0.0</td>\n",
       "      <td>0.0</td>\n",
       "      <td>0.000000</td>\n",
       "      <td>0.000000</td>\n",
       "      <td>0.000000</td>\n",
       "      <td>0.00000</td>\n",
       "      <td>0.000000</td>\n",
       "      <td>0.000000</td>\n",
       "      <td>0.000000</td>\n",
       "    </tr>\n",
       "    <tr>\n",
       "      <th>12728</th>\n",
       "      <td>12728</td>\n",
       "      <td>0.0</td>\n",
       "      <td>0.0</td>\n",
       "      <td>0.0</td>\n",
       "      <td>0.0</td>\n",
       "      <td>0.000000</td>\n",
       "      <td>0.00000</td>\n",
       "      <td>0.0</td>\n",
       "      <td>0.0</td>\n",
       "      <td>0.0</td>\n",
       "      <td>...</td>\n",
       "      <td>0.0</td>\n",
       "      <td>0.0</td>\n",
       "      <td>0.0</td>\n",
       "      <td>0.006562</td>\n",
       "      <td>0.000000</td>\n",
       "      <td>0.010598</td>\n",
       "      <td>0.00000</td>\n",
       "      <td>0.000000</td>\n",
       "      <td>0.000000</td>\n",
       "      <td>0.000000</td>\n",
       "    </tr>\n",
       "    <tr>\n",
       "      <th>10673</th>\n",
       "      <td>10673</td>\n",
       "      <td>0.0</td>\n",
       "      <td>0.0</td>\n",
       "      <td>0.0</td>\n",
       "      <td>0.0</td>\n",
       "      <td>0.000000</td>\n",
       "      <td>0.00000</td>\n",
       "      <td>0.0</td>\n",
       "      <td>0.0</td>\n",
       "      <td>0.0</td>\n",
       "      <td>...</td>\n",
       "      <td>0.0</td>\n",
       "      <td>0.0</td>\n",
       "      <td>0.0</td>\n",
       "      <td>0.000000</td>\n",
       "      <td>0.000000</td>\n",
       "      <td>0.000000</td>\n",
       "      <td>0.00000</td>\n",
       "      <td>0.000000</td>\n",
       "      <td>0.026584</td>\n",
       "      <td>0.000000</td>\n",
       "    </tr>\n",
       "    <tr>\n",
       "      <th>11544</th>\n",
       "      <td>11544</td>\n",
       "      <td>0.0</td>\n",
       "      <td>0.0</td>\n",
       "      <td>0.0</td>\n",
       "      <td>0.0</td>\n",
       "      <td>0.003901</td>\n",
       "      <td>0.00000</td>\n",
       "      <td>0.0</td>\n",
       "      <td>0.0</td>\n",
       "      <td>0.0</td>\n",
       "      <td>...</td>\n",
       "      <td>0.0</td>\n",
       "      <td>0.0</td>\n",
       "      <td>0.0</td>\n",
       "      <td>0.000000</td>\n",
       "      <td>0.010444</td>\n",
       "      <td>0.002396</td>\n",
       "      <td>0.00000</td>\n",
       "      <td>0.004979</td>\n",
       "      <td>0.012850</td>\n",
       "      <td>0.000000</td>\n",
       "    </tr>\n",
       "  </tbody>\n",
       "</table>\n",
       "<p>10 rows × 61 columns</p>\n",
       "</div>"
      ],
      "text/plain": [
       "       Unnamed: 0  HTTP 404  Alexa Internet  Internet Explorer  HTTP cookie  \\\n",
       "5478         5478       0.0             0.0                0.0          0.0   \n",
       "13045       13045       0.0             0.0                0.0          0.0   \n",
       "4847         4847       0.0             0.0                0.0          0.0   \n",
       "13072       13072       0.0             0.0                0.0          0.0   \n",
       "1893         1893       0.0             0.0                0.0          0.0   \n",
       "10104       10104       0.0             0.0                0.0          0.0   \n",
       "8765         8765       0.0             0.0                0.0          0.0   \n",
       "12728       12728       0.0             0.0                0.0          0.0   \n",
       "10673       10673       0.0             0.0                0.0          0.0   \n",
       "11544       11544       0.0             0.0                0.0          0.0   \n",
       "\n",
       "       Google Search   Tumblr  Hypertext Transfer Protocol  Social search  \\\n",
       "5478        0.000000  0.00000                          0.0            0.0   \n",
       "13045       0.000000  0.04229                          0.0            0.0   \n",
       "4847        0.000000  0.00000                          0.0            0.0   \n",
       "13072       0.000000  0.00000                          0.0            0.0   \n",
       "1893        0.000000  0.00000                          0.0            0.0   \n",
       "10104       0.000000  0.00000                          0.0            0.0   \n",
       "8765        0.000000  0.00000                          0.0            0.0   \n",
       "12728       0.000000  0.00000                          0.0            0.0   \n",
       "10673       0.000000  0.00000                          0.0            0.0   \n",
       "11544       0.003901  0.00000                          0.0            0.0   \n",
       "\n",
       "       Firefox  ...  Chad Kroeger  Nate Ruess  The Wanted  Stevie Nicks  \\\n",
       "5478       0.0  ...           0.0         0.0         0.0      0.000000   \n",
       "13045      0.0  ...           0.0         0.0         0.0      0.000000   \n",
       "4847       0.0  ...           0.0         0.0         0.0      0.000000   \n",
       "13072      0.0  ...           0.0         0.0         0.0      0.000000   \n",
       "1893       0.0  ...           0.0         0.0         0.0      0.025591   \n",
       "10104      0.0  ...           0.0         0.0         0.0      0.000000   \n",
       "8765       0.0  ...           0.0         0.0         0.0      0.000000   \n",
       "12728      0.0  ...           0.0         0.0         0.0      0.006562   \n",
       "10673      0.0  ...           0.0         0.0         0.0      0.000000   \n",
       "11544      0.0  ...           0.0         0.0         0.0      0.000000   \n",
       "\n",
       "       Arctic Monkeys  Black Sabbath  Skrillex  Red Hot Chili Peppers  \\\n",
       "5478         0.000000       0.000000   0.00000               0.000000   \n",
       "13045        0.000000       0.000000   0.02977               0.000000   \n",
       "4847         0.000000       0.000000   0.00000               0.000000   \n",
       "13072        0.000000       0.000000   0.00000               0.000000   \n",
       "1893         0.000000       0.000000   0.00000               0.000000   \n",
       "10104        0.000000       0.000000   0.00000               0.000000   \n",
       "8765         0.000000       0.000000   0.00000               0.000000   \n",
       "12728        0.000000       0.010598   0.00000               0.000000   \n",
       "10673        0.000000       0.000000   0.00000               0.000000   \n",
       "11544        0.010444       0.002396   0.00000               0.004979   \n",
       "\n",
       "         Sepsis  Adam Levine  \n",
       "5478   0.000000     0.000000  \n",
       "13045  0.000000     0.000000  \n",
       "4847   0.000000     0.000000  \n",
       "13072  0.000000     0.000000  \n",
       "1893   0.000000     0.014806  \n",
       "10104  0.000000     0.000000  \n",
       "8765   0.000000     0.000000  \n",
       "12728  0.000000     0.000000  \n",
       "10673  0.026584     0.000000  \n",
       "11544  0.012850     0.000000  \n",
       "\n",
       "[10 rows x 61 columns]"
      ]
     },
     "execution_count": 49,
     "metadata": {},
     "output_type": "execute_result"
    }
   ],
   "source": [
    "df = pd.read_csv('datasets/wikipedia_articles/wikipedia-vectors.csv')\n",
    "df.sample(10)"
   ]
  },
  {
   "cell_type": "code",
   "execution_count": 50,
   "id": "9463c46e",
   "metadata": {
    "ExecuteTime": {
     "end_time": "2021-09-21T22:15:36.172082Z",
     "start_time": "2021-09-21T22:15:36.133830Z"
    }
   },
   "outputs": [
    {
     "data": {
      "text/html": [
       "<div>\n",
       "<style scoped>\n",
       "    .dataframe tbody tr th:only-of-type {\n",
       "        vertical-align: middle;\n",
       "    }\n",
       "\n",
       "    .dataframe tbody tr th {\n",
       "        vertical-align: top;\n",
       "    }\n",
       "\n",
       "    .dataframe thead th {\n",
       "        text-align: right;\n",
       "    }\n",
       "</style>\n",
       "<table border=\"1\" class=\"dataframe\">\n",
       "  <thead>\n",
       "    <tr style=\"text-align: right;\">\n",
       "      <th></th>\n",
       "      <th>http_404</th>\n",
       "      <th>alexa_internet</th>\n",
       "      <th>internet_explorer</th>\n",
       "      <th>http_cookie</th>\n",
       "      <th>google_search</th>\n",
       "      <th>tumblr</th>\n",
       "      <th>hypertext_transfer_protocol</th>\n",
       "      <th>social_search</th>\n",
       "      <th>firefox</th>\n",
       "      <th>linkedin</th>\n",
       "      <th>...</th>\n",
       "      <th>chad_kroeger</th>\n",
       "      <th>nate_ruess</th>\n",
       "      <th>the_wanted</th>\n",
       "      <th>stevie_nicks</th>\n",
       "      <th>arctic_monkeys</th>\n",
       "      <th>black_sabbath</th>\n",
       "      <th>skrillex</th>\n",
       "      <th>red_hot_chili_peppers</th>\n",
       "      <th>sepsis</th>\n",
       "      <th>adam_levine</th>\n",
       "    </tr>\n",
       "  </thead>\n",
       "  <tbody>\n",
       "    <tr>\n",
       "      <th>10107</th>\n",
       "      <td>0.0</td>\n",
       "      <td>0.000000</td>\n",
       "      <td>0.000000</td>\n",
       "      <td>0.0</td>\n",
       "      <td>0.000000</td>\n",
       "      <td>0.0</td>\n",
       "      <td>0.000000</td>\n",
       "      <td>0.0</td>\n",
       "      <td>0.0</td>\n",
       "      <td>0.0</td>\n",
       "      <td>...</td>\n",
       "      <td>0.0</td>\n",
       "      <td>0.000000</td>\n",
       "      <td>0.0</td>\n",
       "      <td>0.000000</td>\n",
       "      <td>0.000000</td>\n",
       "      <td>0.0</td>\n",
       "      <td>0.0</td>\n",
       "      <td>0.000000</td>\n",
       "      <td>0.000000</td>\n",
       "      <td>0.0</td>\n",
       "    </tr>\n",
       "    <tr>\n",
       "      <th>2508</th>\n",
       "      <td>0.0</td>\n",
       "      <td>0.000000</td>\n",
       "      <td>0.000000</td>\n",
       "      <td>0.0</td>\n",
       "      <td>0.000000</td>\n",
       "      <td>0.0</td>\n",
       "      <td>0.000000</td>\n",
       "      <td>0.0</td>\n",
       "      <td>0.0</td>\n",
       "      <td>0.0</td>\n",
       "      <td>...</td>\n",
       "      <td>0.0</td>\n",
       "      <td>0.000000</td>\n",
       "      <td>0.0</td>\n",
       "      <td>0.000000</td>\n",
       "      <td>0.000000</td>\n",
       "      <td>0.0</td>\n",
       "      <td>0.0</td>\n",
       "      <td>0.000000</td>\n",
       "      <td>0.004937</td>\n",
       "      <td>0.0</td>\n",
       "    </tr>\n",
       "    <tr>\n",
       "      <th>7846</th>\n",
       "      <td>0.0</td>\n",
       "      <td>0.000000</td>\n",
       "      <td>0.000000</td>\n",
       "      <td>0.0</td>\n",
       "      <td>0.000000</td>\n",
       "      <td>0.0</td>\n",
       "      <td>0.000000</td>\n",
       "      <td>0.0</td>\n",
       "      <td>0.0</td>\n",
       "      <td>0.0</td>\n",
       "      <td>...</td>\n",
       "      <td>0.0</td>\n",
       "      <td>0.000000</td>\n",
       "      <td>0.0</td>\n",
       "      <td>0.000000</td>\n",
       "      <td>0.000000</td>\n",
       "      <td>0.0</td>\n",
       "      <td>0.0</td>\n",
       "      <td>0.003437</td>\n",
       "      <td>0.004434</td>\n",
       "      <td>0.0</td>\n",
       "    </tr>\n",
       "    <tr>\n",
       "      <th>12573</th>\n",
       "      <td>0.0</td>\n",
       "      <td>0.000000</td>\n",
       "      <td>0.000000</td>\n",
       "      <td>0.0</td>\n",
       "      <td>0.006649</td>\n",
       "      <td>0.0</td>\n",
       "      <td>0.009221</td>\n",
       "      <td>0.0</td>\n",
       "      <td>0.0</td>\n",
       "      <td>0.0</td>\n",
       "      <td>...</td>\n",
       "      <td>0.0</td>\n",
       "      <td>0.000000</td>\n",
       "      <td>0.0</td>\n",
       "      <td>0.000000</td>\n",
       "      <td>0.000000</td>\n",
       "      <td>0.0</td>\n",
       "      <td>0.0</td>\n",
       "      <td>0.000000</td>\n",
       "      <td>0.000000</td>\n",
       "      <td>0.0</td>\n",
       "    </tr>\n",
       "    <tr>\n",
       "      <th>8862</th>\n",
       "      <td>0.0</td>\n",
       "      <td>0.000000</td>\n",
       "      <td>0.000000</td>\n",
       "      <td>0.0</td>\n",
       "      <td>0.000000</td>\n",
       "      <td>0.0</td>\n",
       "      <td>0.000000</td>\n",
       "      <td>0.0</td>\n",
       "      <td>0.0</td>\n",
       "      <td>0.0</td>\n",
       "      <td>...</td>\n",
       "      <td>0.0</td>\n",
       "      <td>0.000000</td>\n",
       "      <td>0.0</td>\n",
       "      <td>0.000000</td>\n",
       "      <td>0.000000</td>\n",
       "      <td>0.0</td>\n",
       "      <td>0.0</td>\n",
       "      <td>0.005812</td>\n",
       "      <td>0.007500</td>\n",
       "      <td>0.0</td>\n",
       "    </tr>\n",
       "    <tr>\n",
       "      <th>6040</th>\n",
       "      <td>0.0</td>\n",
       "      <td>0.020709</td>\n",
       "      <td>0.001923</td>\n",
       "      <td>0.0</td>\n",
       "      <td>0.000000</td>\n",
       "      <td>0.0</td>\n",
       "      <td>0.000000</td>\n",
       "      <td>0.0</td>\n",
       "      <td>0.0</td>\n",
       "      <td>0.0</td>\n",
       "      <td>...</td>\n",
       "      <td>0.0</td>\n",
       "      <td>0.000000</td>\n",
       "      <td>0.0</td>\n",
       "      <td>0.000000</td>\n",
       "      <td>0.000000</td>\n",
       "      <td>0.0</td>\n",
       "      <td>0.0</td>\n",
       "      <td>0.000000</td>\n",
       "      <td>0.009255</td>\n",
       "      <td>0.0</td>\n",
       "    </tr>\n",
       "    <tr>\n",
       "      <th>1640</th>\n",
       "      <td>0.0</td>\n",
       "      <td>0.000000</td>\n",
       "      <td>0.000000</td>\n",
       "      <td>0.0</td>\n",
       "      <td>0.000000</td>\n",
       "      <td>0.0</td>\n",
       "      <td>0.000000</td>\n",
       "      <td>0.0</td>\n",
       "      <td>0.0</td>\n",
       "      <td>0.0</td>\n",
       "      <td>...</td>\n",
       "      <td>0.0</td>\n",
       "      <td>0.000000</td>\n",
       "      <td>0.0</td>\n",
       "      <td>0.000000</td>\n",
       "      <td>0.000000</td>\n",
       "      <td>0.0</td>\n",
       "      <td>0.0</td>\n",
       "      <td>0.000000</td>\n",
       "      <td>0.000000</td>\n",
       "      <td>0.0</td>\n",
       "    </tr>\n",
       "    <tr>\n",
       "      <th>10369</th>\n",
       "      <td>0.0</td>\n",
       "      <td>0.000000</td>\n",
       "      <td>0.000000</td>\n",
       "      <td>0.0</td>\n",
       "      <td>0.000000</td>\n",
       "      <td>0.0</td>\n",
       "      <td>0.000000</td>\n",
       "      <td>0.0</td>\n",
       "      <td>0.0</td>\n",
       "      <td>0.0</td>\n",
       "      <td>...</td>\n",
       "      <td>0.0</td>\n",
       "      <td>0.043062</td>\n",
       "      <td>0.0</td>\n",
       "      <td>0.017369</td>\n",
       "      <td>0.010189</td>\n",
       "      <td>0.0</td>\n",
       "      <td>0.0</td>\n",
       "      <td>0.000000</td>\n",
       "      <td>0.006268</td>\n",
       "      <td>0.0</td>\n",
       "    </tr>\n",
       "    <tr>\n",
       "      <th>10609</th>\n",
       "      <td>0.0</td>\n",
       "      <td>0.000000</td>\n",
       "      <td>0.000000</td>\n",
       "      <td>0.0</td>\n",
       "      <td>0.000000</td>\n",
       "      <td>0.0</td>\n",
       "      <td>0.000000</td>\n",
       "      <td>0.0</td>\n",
       "      <td>0.0</td>\n",
       "      <td>0.0</td>\n",
       "      <td>...</td>\n",
       "      <td>0.0</td>\n",
       "      <td>0.000000</td>\n",
       "      <td>0.0</td>\n",
       "      <td>0.000000</td>\n",
       "      <td>0.000000</td>\n",
       "      <td>0.0</td>\n",
       "      <td>0.0</td>\n",
       "      <td>0.000000</td>\n",
       "      <td>0.000000</td>\n",
       "      <td>0.0</td>\n",
       "    </tr>\n",
       "    <tr>\n",
       "      <th>9372</th>\n",
       "      <td>0.0</td>\n",
       "      <td>0.000000</td>\n",
       "      <td>0.000000</td>\n",
       "      <td>0.0</td>\n",
       "      <td>0.000000</td>\n",
       "      <td>0.0</td>\n",
       "      <td>0.000000</td>\n",
       "      <td>0.0</td>\n",
       "      <td>0.0</td>\n",
       "      <td>0.0</td>\n",
       "      <td>...</td>\n",
       "      <td>0.0</td>\n",
       "      <td>0.000000</td>\n",
       "      <td>0.0</td>\n",
       "      <td>0.000000</td>\n",
       "      <td>0.000000</td>\n",
       "      <td>0.0</td>\n",
       "      <td>0.0</td>\n",
       "      <td>0.000000</td>\n",
       "      <td>0.000000</td>\n",
       "      <td>0.0</td>\n",
       "    </tr>\n",
       "  </tbody>\n",
       "</table>\n",
       "<p>10 rows × 60 columns</p>\n",
       "</div>"
      ],
      "text/plain": [
       "       http_404  alexa_internet  internet_explorer  http_cookie  \\\n",
       "10107       0.0        0.000000           0.000000          0.0   \n",
       "2508        0.0        0.000000           0.000000          0.0   \n",
       "7846        0.0        0.000000           0.000000          0.0   \n",
       "12573       0.0        0.000000           0.000000          0.0   \n",
       "8862        0.0        0.000000           0.000000          0.0   \n",
       "6040        0.0        0.020709           0.001923          0.0   \n",
       "1640        0.0        0.000000           0.000000          0.0   \n",
       "10369       0.0        0.000000           0.000000          0.0   \n",
       "10609       0.0        0.000000           0.000000          0.0   \n",
       "9372        0.0        0.000000           0.000000          0.0   \n",
       "\n",
       "       google_search  tumblr  hypertext_transfer_protocol  social_search  \\\n",
       "10107       0.000000     0.0                     0.000000            0.0   \n",
       "2508        0.000000     0.0                     0.000000            0.0   \n",
       "7846        0.000000     0.0                     0.000000            0.0   \n",
       "12573       0.006649     0.0                     0.009221            0.0   \n",
       "8862        0.000000     0.0                     0.000000            0.0   \n",
       "6040        0.000000     0.0                     0.000000            0.0   \n",
       "1640        0.000000     0.0                     0.000000            0.0   \n",
       "10369       0.000000     0.0                     0.000000            0.0   \n",
       "10609       0.000000     0.0                     0.000000            0.0   \n",
       "9372        0.000000     0.0                     0.000000            0.0   \n",
       "\n",
       "       firefox  linkedin  ...  chad_kroeger  nate_ruess  the_wanted  \\\n",
       "10107      0.0       0.0  ...           0.0    0.000000         0.0   \n",
       "2508       0.0       0.0  ...           0.0    0.000000         0.0   \n",
       "7846       0.0       0.0  ...           0.0    0.000000         0.0   \n",
       "12573      0.0       0.0  ...           0.0    0.000000         0.0   \n",
       "8862       0.0       0.0  ...           0.0    0.000000         0.0   \n",
       "6040       0.0       0.0  ...           0.0    0.000000         0.0   \n",
       "1640       0.0       0.0  ...           0.0    0.000000         0.0   \n",
       "10369      0.0       0.0  ...           0.0    0.043062         0.0   \n",
       "10609      0.0       0.0  ...           0.0    0.000000         0.0   \n",
       "9372       0.0       0.0  ...           0.0    0.000000         0.0   \n",
       "\n",
       "       stevie_nicks  arctic_monkeys  black_sabbath  skrillex  \\\n",
       "10107      0.000000        0.000000            0.0       0.0   \n",
       "2508       0.000000        0.000000            0.0       0.0   \n",
       "7846       0.000000        0.000000            0.0       0.0   \n",
       "12573      0.000000        0.000000            0.0       0.0   \n",
       "8862       0.000000        0.000000            0.0       0.0   \n",
       "6040       0.000000        0.000000            0.0       0.0   \n",
       "1640       0.000000        0.000000            0.0       0.0   \n",
       "10369      0.017369        0.010189            0.0       0.0   \n",
       "10609      0.000000        0.000000            0.0       0.0   \n",
       "9372       0.000000        0.000000            0.0       0.0   \n",
       "\n",
       "       red_hot_chili_peppers    sepsis  adam_levine  \n",
       "10107               0.000000  0.000000          0.0  \n",
       "2508                0.000000  0.004937          0.0  \n",
       "7846                0.003437  0.004434          0.0  \n",
       "12573               0.000000  0.000000          0.0  \n",
       "8862                0.005812  0.007500          0.0  \n",
       "6040                0.000000  0.009255          0.0  \n",
       "1640                0.000000  0.000000          0.0  \n",
       "10369               0.000000  0.006268          0.0  \n",
       "10609               0.000000  0.000000          0.0  \n",
       "9372                0.000000  0.000000          0.0  \n",
       "\n",
       "[10 rows x 60 columns]"
      ]
     },
     "execution_count": 50,
     "metadata": {},
     "output_type": "execute_result"
    }
   ],
   "source": [
    "df.columns = [x.lower().replace(\" \",\"_\") for x in df.columns]\n",
    "df.drop(\"unnamed:_0\", axis=1, inplace=True)\n",
    "df.sample(10)"
   ]
  },
  {
   "cell_type": "code",
   "execution_count": 51,
   "id": "357054e1",
   "metadata": {
    "ExecuteTime": {
     "end_time": "2021-09-21T22:15:36.825857Z",
     "start_time": "2021-09-21T22:15:36.818945Z"
    }
   },
   "outputs": [],
   "source": [
    "titles = list(df.columns)\n",
    "articles = sp.sparse.csr_matrix(df.values).T"
   ]
  },
  {
   "cell_type": "code",
   "execution_count": 52,
   "id": "9004a85e",
   "metadata": {
    "ExecuteTime": {
     "end_time": "2021-09-21T22:15:37.307415Z",
     "start_time": "2021-09-21T22:15:37.304051Z"
    }
   },
   "outputs": [],
   "source": [
    "from sklearn.decomposition import TruncatedSVD\n",
    "from sklearn.cluster import KMeans\n",
    "from sklearn.pipeline import make_pipeline\n",
    "\n",
    "# Create a TruncatedSVD instance: svd\n",
    "svd = TruncatedSVD(n_components=50)\n",
    "\n",
    "# Create a KMeans instance: kmeans\n",
    "kmeans = KMeans(n_clusters=6)\n",
    "\n",
    "# Create a pipeline: pipeline\n",
    "pipeline = make_pipeline(svd, kmeans)"
   ]
  },
  {
   "cell_type": "code",
   "execution_count": 53,
   "id": "32eef9e4",
   "metadata": {
    "ExecuteTime": {
     "end_time": "2021-09-21T22:15:39.040702Z",
     "start_time": "2021-09-21T22:15:38.789833Z"
    }
   },
   "outputs": [
    {
     "name": "stdout",
     "output_type": "stream",
     "text": [
      "    label                                        article\n",
      "0       0                                       http_404\n",
      "1       0                                 alexa_internet\n",
      "2       0                              internet_explorer\n",
      "3       0                                    http_cookie\n",
      "4       0                                  google_search\n",
      "5       0                                         tumblr\n",
      "6       0                    hypertext_transfer_protocol\n",
      "7       0                                  social_search\n",
      "8       0                                        firefox\n",
      "9       0                                       linkedin\n",
      "30      1                  france_national_football_team\n",
      "31      1                              cristiano_ronaldo\n",
      "32      1                                   arsenal_f.c.\n",
      "33      1                                 radamel_falcao\n",
      "34      1                             zlatan_ibrahimović\n",
      "38      1                                         neymar\n",
      "36      1              2014_fifa_world_cup_qualification\n",
      "37      1                                       football\n",
      "39      1                                  franck_ribéry\n",
      "35      1                colombia_national_football_team\n",
      "26      2                                     mila_kunis\n",
      "28      2                                  anne_hathaway\n",
      "27      2                                 dakota_fanning\n",
      "25      2                                  russell_crowe\n",
      "29      2                               jennifer_aniston\n",
      "23      2                           catherine_zeta-jones\n",
      "22      2                              denzel_washington\n",
      "21      2                             michael_fassbender\n",
      "20      2                                 angelina_jolie\n",
      "24      2                                   jessica_biel\n",
      "57      3                          red_hot_chili_peppers\n",
      "56      3                                       skrillex\n",
      "55      3                                  black_sabbath\n",
      "54      3                                 arctic_monkeys\n",
      "53      3                                   stevie_nicks\n",
      "52      3                                     the_wanted\n",
      "51      3                                     nate_ruess\n",
      "50      3                                   chad_kroeger\n",
      "59      3                                    adam_levine\n",
      "58      3                                         sepsis\n",
      "10      4                                 global_warming\n",
      "19      4  2007_united_nations_climate_change_conference\n",
      "12      4                                   nigel_lawson\n",
      "18      4  2010_united_nations_climate_change_conference\n",
      "17      4  greenhouse_gas_emissions_by_the_united_states\n",
      "16      4                                        350.org\n",
      "15      4                                 kyoto_protocol\n",
      "14      4                                 climate_change\n",
      "13      4                               connie_hedegaard\n",
      "11      4       nationally_appropriate_mitigation_action\n",
      "49      5                                       lymphoma\n",
      "47      5                                          fever\n",
      "46      5                                     prednisone\n",
      "45      5                                    hepatitis_c\n",
      "44      5                                           gout\n",
      "43      5                                       leukemia\n",
      "41      5                                    hepatitis_b\n",
      "40      5                                    tonsillitis\n",
      "48      5                                     gabapentin\n",
      "42      5                                    doxycycline\n"
     ]
    }
   ],
   "source": [
    "# Fit the pipeline to articles\n",
    "pipeline.fit(articles)\n",
    "\n",
    "# Calculate the cluster labels: labels\n",
    "labels = pipeline.predict(articles)\n",
    "\n",
    "# Create a DataFrame aligning labels and titles: df\n",
    "df = pd.DataFrame({'label': labels, 'article': titles})\n",
    "\n",
    "# Display df sorted by cluster label\n",
    "print(df.sort_values('label'))"
   ]
  },
  {
   "cell_type": "code",
   "execution_count": 54,
   "id": "95e8ad1d",
   "metadata": {
    "ExecuteTime": {
     "end_time": "2021-09-21T22:15:40.396271Z",
     "start_time": "2021-09-21T22:15:40.341278Z"
    }
   },
   "outputs": [
    {
     "name": "stdout",
     "output_type": "stream",
     "text": [
      "[[0.   0.   0.   0.   0.   0.44]\n",
      " [0.   0.   0.   0.   0.   0.57]\n",
      " [0.   0.   0.   0.   0.   0.4 ]\n",
      " [0.   0.   0.   0.   0.   0.38]\n",
      " [0.   0.   0.   0.   0.   0.49]\n",
      " [0.01 0.01 0.01 0.03 0.   0.33]\n",
      " [0.   0.   0.02 0.   0.01 0.36]\n",
      " [0.   0.   0.   0.   0.   0.49]\n",
      " [0.02 0.01 0.   0.02 0.03 0.48]\n",
      " [0.01 0.03 0.03 0.07 0.02 0.34]\n",
      " [0.   0.   0.53 0.   0.03 0.  ]\n",
      " [0.   0.   0.36 0.   0.   0.  ]\n",
      " [0.01 0.01 0.31 0.06 0.01 0.02]\n",
      " [0.   0.01 0.34 0.01 0.   0.  ]\n",
      " [0.   0.   0.43 0.   0.04 0.  ]\n",
      " [0.   0.   0.48 0.   0.   0.  ]\n",
      " [0.01 0.02 0.38 0.03 0.   0.01]\n",
      " [0.   0.   0.48 0.   0.   0.  ]\n",
      " [0.   0.01 0.55 0.   0.   0.  ]\n",
      " [0.   0.   0.47 0.   0.   0.  ]\n",
      " [0.   0.01 0.02 0.52 0.06 0.01]\n",
      " [0.   0.   0.   0.51 0.   0.  ]\n",
      " [0.   0.01 0.   0.42 0.   0.  ]\n",
      " [0.   0.   0.   0.44 0.   0.  ]\n",
      " [0.   0.   0.   0.5  0.   0.  ]\n",
      " [0.1  0.09 0.   0.38 0.   0.01]\n",
      " [0.   0.   0.   0.57 0.   0.01]\n",
      " [0.01 0.01 0.   0.47 0.   0.01]\n",
      " [0.   0.   0.   0.58 0.   0.  ]\n",
      " [0.   0.   0.   0.53 0.01 0.01]\n",
      " [0.   0.41 0.   0.   0.   0.  ]\n",
      " [0.   0.61 0.   0.01 0.   0.  ]\n",
      " [0.01 0.27 0.   0.02 0.01 0.  ]\n",
      " [0.   0.64 0.   0.   0.   0.  ]\n",
      " [0.   0.61 0.   0.   0.   0.  ]\n",
      " [0.   0.34 0.   0.   0.   0.  ]\n",
      " [0.01 0.32 0.02 0.   0.01 0.  ]\n",
      " [0.01 0.21 0.01 0.05 0.02 0.01]\n",
      " [0.01 0.47 0.   0.02 0.   0.  ]\n",
      " [0.   0.64 0.   0.   0.   0.  ]\n",
      " [0.   0.   0.   0.   0.48 0.  ]\n",
      " [0.   0.   0.   0.   0.49 0.  ]\n",
      " [0.   0.   0.   0.   0.38 0.01]\n",
      " [0.   0.   0.   0.01 0.54 0.  ]\n",
      " [0.   0.   0.01 0.   0.42 0.  ]\n",
      " [0.   0.   0.   0.   0.51 0.  ]\n",
      " [0.   0.   0.   0.   0.37 0.  ]\n",
      " [0.   0.   0.04 0.   0.23 0.  ]\n",
      " [0.01 0.   0.02 0.01 0.33 0.04]\n",
      " [0.   0.   0.   0.   0.42 0.  ]\n",
      " [0.31 0.   0.   0.   0.   0.  ]\n",
      " [0.37 0.   0.   0.   0.   0.  ]\n",
      " [0.4  0.03 0.   0.02 0.   0.02]\n",
      " [0.38 0.   0.   0.04 0.   0.01]\n",
      " [0.44 0.   0.   0.   0.   0.  ]\n",
      " [0.46 0.   0.   0.   0.   0.  ]\n",
      " [0.28 0.   0.   0.05 0.   0.02]\n",
      " [0.45 0.   0.   0.   0.01 0.  ]\n",
      " [0.29 0.01 0.01 0.01 0.19 0.01]\n",
      " [0.38 0.01 0.   0.1  0.01 0.  ]]\n"
     ]
    },
    {
     "name": "stderr",
     "output_type": "stream",
     "text": [
      "/home/kcavagnolo/.pyenv/versions/3.8.0/lib/python3.8/site-packages/sklearn/decomposition/_nmf.py:312: FutureWarning: The 'init' value, when 'init=None' and n_components is less than n_samples and n_features, will be changed from 'nndsvd' to 'nndsvda' in 1.1 (renaming of 0.26).\n",
      "  warnings.warn((\"The 'init' value, when 'init=None' and \"\n"
     ]
    }
   ],
   "source": [
    "# Create an NMF instance: model\n",
    "model = NMF(n_components=6)\n",
    "\n",
    "# Fit the model to articles\n",
    "model.fit(articles)\n",
    "\n",
    "# Transform the articles: nmf_features\n",
    "nmf_features = model.transform(articles)\n",
    "\n",
    "# Print the NMF features\n",
    "print(nmf_features.round(2))"
   ]
  },
  {
   "cell_type": "code",
   "execution_count": 55,
   "id": "0ebc43f9",
   "metadata": {
    "ExecuteTime": {
     "end_time": "2021-09-21T22:15:41.216308Z",
     "start_time": "2021-09-21T22:15:41.210105Z"
    }
   },
   "outputs": [
    {
     "name": "stdout",
     "output_type": "stream",
     "text": [
      "                      0    1    2         3    4    5\n",
      "anne_hathaway  0.003845  0.0  0.0  0.575717  0.0  0.0\n",
      "                     0         1    2         3    4    5\n",
      "denzel_washington  0.0  0.005601  0.0  0.422384  0.0  0.0\n"
     ]
    }
   ],
   "source": [
    "# Create a pandas DataFrame: df\n",
    "df = pd.DataFrame(nmf_features, index=titles)\n",
    "\n",
    "# Print the row for 'Anne Hathaway'\n",
    "print(df[df.index == 'anne_hathaway'])\n",
    "\n",
    "# Print the row for 'Denzel Washington'\n",
    "print(df[df.index == 'denzel_washington'])"
   ]
  },
  {
   "cell_type": "code",
   "execution_count": 56,
   "id": "daedd645",
   "metadata": {
    "ExecuteTime": {
     "end_time": "2021-09-21T22:15:42.152084Z",
     "start_time": "2021-09-21T22:15:42.006549Z"
    }
   },
   "outputs": [
    {
     "ename": "NameError",
     "evalue": "name 'words' is not defined",
     "output_type": "error",
     "traceback": [
      "\u001b[0;31m---------------------------------------------------------------------------\u001b[0m",
      "\u001b[0;31mNameError\u001b[0m                                 Traceback (most recent call last)",
      "\u001b[0;32m/tmp/ipykernel_186807/872170311.py\u001b[0m in \u001b[0;36m<module>\u001b[0;34m\u001b[0m\n\u001b[1;32m      1\u001b[0m \u001b[0;31m# Create a DataFrame: components_df\u001b[0m\u001b[0;34m\u001b[0m\u001b[0;34m\u001b[0m\u001b[0;34m\u001b[0m\u001b[0m\n\u001b[0;32m----> 2\u001b[0;31m \u001b[0mcomponents_df\u001b[0m \u001b[0;34m=\u001b[0m \u001b[0mpd\u001b[0m\u001b[0;34m.\u001b[0m\u001b[0mDataFrame\u001b[0m\u001b[0;34m(\u001b[0m\u001b[0mmodel\u001b[0m\u001b[0;34m.\u001b[0m\u001b[0mcomponents_\u001b[0m\u001b[0;34m,\u001b[0m \u001b[0mcolumns\u001b[0m\u001b[0;34m=\u001b[0m\u001b[0mwords\u001b[0m\u001b[0;34m)\u001b[0m\u001b[0;34m\u001b[0m\u001b[0;34m\u001b[0m\u001b[0m\n\u001b[0m\u001b[1;32m      3\u001b[0m \u001b[0;34m\u001b[0m\u001b[0m\n\u001b[1;32m      4\u001b[0m \u001b[0;31m# Print the shape of the DataFrame\u001b[0m\u001b[0;34m\u001b[0m\u001b[0;34m\u001b[0m\u001b[0;34m\u001b[0m\u001b[0m\n\u001b[1;32m      5\u001b[0m \u001b[0mprint\u001b[0m\u001b[0;34m(\u001b[0m\u001b[0mcomponents_df\u001b[0m\u001b[0;34m.\u001b[0m\u001b[0mshape\u001b[0m\u001b[0;34m)\u001b[0m\u001b[0;34m\u001b[0m\u001b[0;34m\u001b[0m\u001b[0m\n",
      "\u001b[0;31mNameError\u001b[0m: name 'words' is not defined"
     ]
    }
   ],
   "source": [
    "# Create a DataFrame: components_df\n",
    "components_df = pd.DataFrame(model.components_, columns=words)\n",
    "\n",
    "# Print the shape of the DataFrame\n",
    "print(components_df.shape)\n",
    "\n",
    "# Select row 3: component\n",
    "component = components_df.iloc[3]\n",
    "\n",
    "# Print result of nlargest\n",
    "print(component.nlargest())"
   ]
  },
  {
   "cell_type": "code",
   "execution_count": 57,
   "id": "63ce37c3",
   "metadata": {
    "ExecuteTime": {
     "end_time": "2021-09-21T22:15:42.602917Z",
     "start_time": "2021-09-21T22:15:42.598778Z"
    }
   },
   "outputs": [
    {
     "name": "stdout",
     "output_type": "stream",
     "text": [
      "cristiano_ronaldo                1.000000\n",
      "franck_ribéry                    0.999972\n",
      "radamel_falcao                   0.999942\n",
      "zlatan_ibrahimović               0.999942\n",
      "france_national_football_team    0.999923\n",
      "dtype: float64\n"
     ]
    }
   ],
   "source": [
    "# Normalize the NMF features: norm_features\n",
    "norm_features = normalize(nmf_features)\n",
    "\n",
    "# Create a DataFrame: df\n",
    "df = pd.DataFrame(norm_features, index=titles)\n",
    "\n",
    "# Select the row corresponding to 'Cristiano Ronaldo': article\n",
    "article = df.loc['cristiano_ronaldo']\n",
    "\n",
    "# Compute the dot products: similarities\n",
    "similarities = df.dot(article)\n",
    "\n",
    "# Display those with the largest cosine similarity\n",
    "print(similarities.nlargest())"
   ]
  },
  {
   "cell_type": "markdown",
   "id": "cb8d948c",
   "metadata": {},
   "source": [
    "# LCD Digits"
   ]
  },
  {
   "cell_type": "code",
   "execution_count": 58,
   "id": "2f69c50b",
   "metadata": {
    "ExecuteTime": {
     "end_time": "2021-09-21T22:15:44.860589Z",
     "start_time": "2021-09-21T22:15:44.858438Z"
    }
   },
   "outputs": [],
   "source": [
    "def show_as_image(sample):\n",
    "    bitmap = sample.reshape((13, 8))\n",
    "    plt.figure()\n",
    "    plt.imshow(bitmap, cmap='gray', interpolation='nearest')\n",
    "    plt.colorbar()"
   ]
  },
  {
   "cell_type": "code",
   "execution_count": 59,
   "id": "c4c70d39",
   "metadata": {
    "ExecuteTime": {
     "end_time": "2021-09-21T22:15:45.287797Z",
     "start_time": "2021-09-21T22:15:45.282092Z"
    }
   },
   "outputs": [],
   "source": [
    "df = pd.read_csv('datasets/lcd-digits.csv', header=None)"
   ]
  },
  {
   "cell_type": "code",
   "execution_count": 60,
   "id": "831703c5",
   "metadata": {
    "ExecuteTime": {
     "end_time": "2021-09-21T22:15:45.684861Z",
     "start_time": "2021-09-21T22:15:45.683102Z"
    }
   },
   "outputs": [],
   "source": [
    "samples = df.to_numpy()"
   ]
  },
  {
   "cell_type": "code",
   "execution_count": 61,
   "id": "dd7abc2c",
   "metadata": {
    "ExecuteTime": {
     "end_time": "2021-09-21T22:15:46.251051Z",
     "start_time": "2021-09-21T22:15:46.114751Z"
    }
   },
   "outputs": [
    {
     "data": {
      "text/plain": [
       "<matplotlib.colorbar.Colorbar at 0x7f7f401d96a0>"
      ]
     },
     "execution_count": 61,
     "metadata": {},
     "output_type": "execute_result"
    },
    {
     "data": {
      "image/png": "[encoded data removed]",
      "text/plain": [
       "<Figure size 1080x432 with 2 Axes>"
      ]
     },
     "metadata": {
      "needs_background": "light"
     },
     "output_type": "display_data"
    }
   ],
   "source": [
    "# Select the 0th row: digit\n",
    "digit = samples[0]\n",
    "\n",
    "# Reshape digit to a 13x8 array: bitmap\n",
    "bitmap = digit.reshape(13, 8)\n",
    "\n",
    "# Use plt.imshow to display bitmap\n",
    "plt.imshow(bitmap, cmap='gray', interpolation='nearest')\n",
    "plt.colorbar()"
   ]
  },
  {
   "cell_type": "markdown",
   "id": "6802c990",
   "metadata": {},
   "source": [
    "## Non-negative Matrix Factorization (NMF)"
   ]
  },
  {
   "cell_type": "code",
   "execution_count": 62,
   "id": "0c807ff4",
   "metadata": {
    "ExecuteTime": {
     "end_time": "2021-09-21T22:15:48.601322Z",
     "start_time": "2021-09-21T22:15:47.637654Z"
    },
    "scrolled": false
   },
   "outputs": [
    {
     "name": "stderr",
     "output_type": "stream",
     "text": [
      "/home/kcavagnolo/.pyenv/versions/3.8.0/lib/python3.8/site-packages/sklearn/decomposition/_nmf.py:312: FutureWarning: The 'init' value, when 'init=None' and n_components is less than n_samples and n_features, will be changed from 'nndsvd' to 'nndsvda' in 1.1 (renaming of 0.26).\n",
      "  warnings.warn((\"The 'init' value, when 'init=None' and \"\n"
     ]
    },
    {
     "name": "stdout",
     "output_type": "stream",
     "text": [
      "[4.76823559e-01 0.00000000e+00 0.00000000e+00 5.90605054e-01\n",
      " 4.81559442e-01 0.00000000e+00 7.37551667e-16]\n"
     ]
    },
    {
     "data": {
      "image/png": "[encoded data removed]",
      "text/plain": [
       "<Figure size 1080x432 with 2 Axes>"
      ]
     },
     "metadata": {
      "needs_background": "light"
     },
     "output_type": "display_data"
    },
    {
     "data": {
      "image/png": "[encoded data removed]",
      "text/plain": [
       "<Figure size 1080x432 with 2 Axes>"
      ]
     },
     "metadata": {
      "needs_background": "light"
     },
     "output_type": "display_data"
    },
    {
     "data": {
      "image/png": "[encoded data removed]",
      "text/plain": [
       "<Figure size 1080x432 with 2 Axes>"
      ]
     },
     "metadata": {
      "needs_background": "light"
     },
     "output_type": "display_data"
    },
    {
     "data": {
      "image/png": "[encoded data removed]",
      "text/plain": [
       "<Figure size 1080x432 with 2 Axes>"
      ]
     },
     "metadata": {
      "needs_background": "light"
     },
     "output_type": "display_data"
    },
    {
     "data": {
      "image/png": "[encoded data removed]",
      "text/plain": [
       "<Figure size 1080x432 with 2 Axes>"
      ]
     },
     "metadata": {
      "needs_background": "light"
     },
     "output_type": "display_data"
    },
    {
     "data": {
      "image/png": "[encoded data removed]",
      "text/plain": [
       "<Figure size 1080x432 with 2 Axes>"
      ]
     },
     "metadata": {
      "needs_background": "light"
     },
     "output_type": "display_data"
    },
    {
     "data": {
      "image/png": "[encoded data removed]",
      "text/plain": [
       "<Figure size 1080x432 with 2 Axes>"
      ]
     },
     "metadata": {
      "needs_background": "light"
     },
     "output_type": "display_data"
    }
   ],
   "source": [
    "# Create an NMF model: model\n",
    "model = NMF(n_components=7)\n",
    "\n",
    "# Apply fit_transform to samples: features\n",
    "features = model.fit_transform(samples)\n",
    "\n",
    "# Call show_as_image on each component\n",
    "for component in model.components_:\n",
    "    show_as_image(component)\n",
    "\n",
    "# Assign the 0th row of features: digit_features\n",
    "digit_features = features[0]\n",
    "\n",
    "# Print digit_features\n",
    "print(digit_features)"
   ]
  },
  {
   "cell_type": "markdown",
   "id": "464377d5",
   "metadata": {},
   "source": [
    "## NMF != PCA"
   ]
  },
  {
   "cell_type": "code",
   "execution_count": 63,
   "id": "442805de",
   "metadata": {
    "ExecuteTime": {
     "end_time": "2021-09-21T22:15:50.126250Z",
     "start_time": "2021-09-21T22:15:49.158714Z"
    },
    "scrolled": false
   },
   "outputs": [
    {
     "data": {
      "image/png": "[encoded data removed]",
      "text/plain": [
       "<Figure size 1080x432 with 2 Axes>"
      ]
     },
     "metadata": {
      "needs_background": "light"
     },
     "output_type": "display_data"
    },
    {
     "data": {
      "image/png": "[encoded data removed]",
      "text/plain": [
       "<Figure size 1080x432 with 2 Axes>"
      ]
     },
     "metadata": {
      "needs_background": "light"
     },
     "output_type": "display_data"
    },
    {
     "data": {
      "image/png": "[encoded data removed]",
      "text/plain": [
       "<Figure size 1080x432 with 2 Axes>"
      ]
     },
     "metadata": {
      "needs_background": "light"
     },
     "output_type": "display_data"
    },
    {
     "data": {
      "image/png": "[encoded data removed]",
      "text/plain": [
       "<Figure size 1080x432 with 2 Axes>"
      ]
     },
     "metadata": {
      "needs_background": "light"
     },
     "output_type": "display_data"
    },
    {
     "data": {
      "image/png": "[encoded data removed]",
      "text/plain": [
       "<Figure size 1080x432 with 2 Axes>"
      ]
     },
     "metadata": {
      "needs_background": "light"
     },
     "output_type": "display_data"
    },
    {
     "data": {
      "image/png": "[encoded data removed]",
      "text/plain": [
       "<Figure size 1080x432 with 2 Axes>"
      ]
     },
     "metadata": {
      "needs_background": "light"
     },
     "output_type": "display_data"
    },
    {
     "data": {
      "image/png": "[encoded data removed]",
      "text/plain": [
       "<Figure size 1080x432 with 2 Axes>"
      ]
     },
     "metadata": {
      "needs_background": "light"
     },
     "output_type": "display_data"
    }
   ],
   "source": [
    "# NMF != PCA\n",
    "\n",
    "# Create a PCA instance: model\n",
    "model = PCA(n_components=7)\n",
    "\n",
    "# Apply fit_transform to samples: features\n",
    "features = model.fit_transform(samples)\n",
    "\n",
    "# Call show_as_image on each component\n",
    "for component in model.components_:\n",
    "    show_as_image(component)    "
   ]
  },
  {
   "cell_type": "markdown",
   "id": "0b4cef77",
   "metadata": {},
   "source": [
    "# Musical Artists"
   ]
  },
  {
   "cell_type": "code",
   "execution_count": 64,
   "id": "a13e2229",
   "metadata": {
    "ExecuteTime": {
     "end_time": "2021-09-21T22:15:51.201299Z",
     "start_time": "2021-09-21T22:15:51.193535Z"
    }
   },
   "outputs": [
    {
     "data": {
      "text/html": [
       "<div>\n",
       "<style scoped>\n",
       "    .dataframe tbody tr th:only-of-type {\n",
       "        vertical-align: middle;\n",
       "    }\n",
       "\n",
       "    .dataframe tbody tr th {\n",
       "        vertical-align: top;\n",
       "    }\n",
       "\n",
       "    .dataframe thead th {\n",
       "        text-align: right;\n",
       "    }\n",
       "</style>\n",
       "<table border=\"1\" class=\"dataframe\">\n",
       "  <thead>\n",
       "    <tr style=\"text-align: right;\">\n",
       "      <th></th>\n",
       "      <th>user_offset</th>\n",
       "      <th>artist_offset</th>\n",
       "      <th>playcount</th>\n",
       "    </tr>\n",
       "  </thead>\n",
       "  <tbody>\n",
       "    <tr>\n",
       "      <th>426</th>\n",
       "      <td>56</td>\n",
       "      <td>2</td>\n",
       "      <td>152</td>\n",
       "    </tr>\n",
       "    <tr>\n",
       "      <th>498</th>\n",
       "      <td>67</td>\n",
       "      <td>6</td>\n",
       "      <td>148</td>\n",
       "    </tr>\n",
       "    <tr>\n",
       "      <th>1645</th>\n",
       "      <td>253</td>\n",
       "      <td>79</td>\n",
       "      <td>219</td>\n",
       "    </tr>\n",
       "    <tr>\n",
       "      <th>1072</th>\n",
       "      <td>160</td>\n",
       "      <td>103</td>\n",
       "      <td>73</td>\n",
       "    </tr>\n",
       "    <tr>\n",
       "      <th>838</th>\n",
       "      <td>125</td>\n",
       "      <td>66</td>\n",
       "      <td>114</td>\n",
       "    </tr>\n",
       "    <tr>\n",
       "      <th>50</th>\n",
       "      <td>9</td>\n",
       "      <td>12</td>\n",
       "      <td>79</td>\n",
       "    </tr>\n",
       "    <tr>\n",
       "      <th>2135</th>\n",
       "      <td>336</td>\n",
       "      <td>54</td>\n",
       "      <td>59</td>\n",
       "    </tr>\n",
       "    <tr>\n",
       "      <th>444</th>\n",
       "      <td>59</td>\n",
       "      <td>45</td>\n",
       "      <td>64</td>\n",
       "    </tr>\n",
       "    <tr>\n",
       "      <th>2459</th>\n",
       "      <td>398</td>\n",
       "      <td>47</td>\n",
       "      <td>69</td>\n",
       "    </tr>\n",
       "    <tr>\n",
       "      <th>2186</th>\n",
       "      <td>348</td>\n",
       "      <td>92</td>\n",
       "      <td>545</td>\n",
       "    </tr>\n",
       "  </tbody>\n",
       "</table>\n",
       "</div>"
      ],
      "text/plain": [
       "      user_offset  artist_offset  playcount\n",
       "426            56              2        152\n",
       "498            67              6        148\n",
       "1645          253             79        219\n",
       "1072          160            103         73\n",
       "838           125             66        114\n",
       "50              9             12         79\n",
       "2135          336             54         59\n",
       "444            59             45         64\n",
       "2459          398             47         69\n",
       "2186          348             92        545"
      ]
     },
     "execution_count": 64,
     "metadata": {},
     "output_type": "execute_result"
    }
   ],
   "source": [
    "df = pd.read_csv('datasets/musical_artists/scrobbler-small-sample.csv')\n",
    "artist_names = pd.read_csv('datasets/musical_artists/artists.csv', header=None)\n",
    "artist_names = artist_names[0].to_list()\n",
    "df.sample(10)"
   ]
  },
  {
   "cell_type": "code",
   "execution_count": 65,
   "id": "34bae23d",
   "metadata": {
    "ExecuteTime": {
     "end_time": "2021-09-21T22:15:51.813155Z",
     "start_time": "2021-09-21T22:15:51.806617Z"
    }
   },
   "outputs": [
    {
     "name": "stdout",
     "output_type": "stream",
     "text": [
      "(111, 500)\n"
     ]
    }
   ],
   "source": [
    "# reconstruct the sparse matrix representation\n",
    "n_rows = df.artist_offset.max() + 1\n",
    "n_cols = df.user_offset.max() + 1\n",
    "data = np.zeros((n_rows, n_cols))\n",
    "print(data.shape)\n",
    "\n",
    "for row in zip(df.artist_offset, df.user_offset, df.playcount):\n",
    "    data[row[0], row[1]] = row[2]\n",
    "artists = sp.sparse.csr_matrix(data)"
   ]
  },
  {
   "cell_type": "code",
   "execution_count": 66,
   "id": "a9d2735d",
   "metadata": {
    "ExecuteTime": {
     "end_time": "2021-09-21T22:15:52.394425Z",
     "start_time": "2021-09-21T22:15:52.357850Z"
    }
   },
   "outputs": [
    {
     "name": "stderr",
     "output_type": "stream",
     "text": [
      "/home/kcavagnolo/.pyenv/versions/3.8.0/lib/python3.8/site-packages/sklearn/decomposition/_nmf.py:312: FutureWarning: The 'init' value, when 'init=None' and n_components is less than n_samples and n_features, will be changed from 'nndsvd' to 'nndsvda' in 1.1 (renaming of 0.26).\n",
      "  warnings.warn((\"The 'init' value, when 'init=None' and \"\n"
     ]
    }
   ],
   "source": [
    "# Create a MaxAbsScaler: scaler\n",
    "scaler = MaxAbsScaler()\n",
    "\n",
    "# Create an NMF model: nmf\n",
    "nmf = NMF(n_components=20)\n",
    "\n",
    "# Create a Normalizer: normalizer\n",
    "normalizer = Normalizer()\n",
    "\n",
    "# Create a pipeline: pipeline\n",
    "pipeline = make_pipeline(scaler, nmf, normalizer)\n",
    "\n",
    "# Apply fit_transform to artists: norm_features\n",
    "norm_features = pipeline.fit_transform(artists)"
   ]
  },
  {
   "cell_type": "code",
   "execution_count": 67,
   "id": "1e66a373",
   "metadata": {
    "ExecuteTime": {
     "end_time": "2021-09-21T22:15:52.992006Z",
     "start_time": "2021-09-21T22:15:52.987946Z"
    }
   },
   "outputs": [
    {
     "name": "stdout",
     "output_type": "stream",
     "text": [
      "Bruce Springsteen    1.000000\n",
      "Neil Young           0.957446\n",
      "Van Morrison         0.876885\n",
      "Leonard Cohen        0.869343\n",
      "Bob Dylan            0.864532\n",
      "dtype: float64\n"
     ]
    }
   ],
   "source": [
    "# Create a DataFrame: df\n",
    "df = pd.DataFrame(norm_features, index=artist_names)\n",
    "\n",
    "# Select row of 'Bruce Springsteen': artist\n",
    "artist = df.loc[\"Bruce Springsteen\"]\n",
    "\n",
    "# Compute cosine similarities: similarities\n",
    "similarities = df.dot(artist)\n",
    "\n",
    "# Display those with highest cosine similarity\n",
    "print(similarities.nlargest())"
   ]
  },
  {
   "cell_type": "code",
   "execution_count": null,
   "id": "556a496c",
   "metadata": {},
   "outputs": [],
   "source": []
  }
 ],
 "metadata": {
  "kernelspec": {
   "display_name": "Python 3 (ipykernel)",
   "language": "python",
   "name": "python3"
  },
  "language_info": {
   "codemirror_mode": {
    "name": "ipython",
    "version": 3
   },
   "file_extension": ".py",
   "mimetype": "text/x-python",
   "name": "python",
   "nbconvert_exporter": "python",
   "pygments_lexer": "ipython3",
   "version": "3.8.0"
  },
  "toc": {
   "base_numbering": 1,
   "nav_menu": {},
   "number_sections": true,
   "sideBar": true,
   "skip_h1_title": false,
   "title_cell": "Table of Contents",
   "title_sidebar": "Contents",
   "toc_cell": false,
   "toc_position": {},
   "toc_section_display": true,
   "toc_window_display": true
  },
  "varInspector": {
   "cols": {
    "lenName": 16,
    "lenType": 16,
    "lenVar": 40
   },
   "kernels_config": {
    "python": {
     "delete_cmd_postfix": "",
     "delete_cmd_prefix": "del ",
     "library": "var_list.py",
     "varRefreshCmd": "print(var_dic_list())"
    },
    "r": {
     "delete_cmd_postfix": ") ",
     "delete_cmd_prefix": "rm(",
     "library": "var_list.r",
     "varRefreshCmd": "cat(var_dic_list()) "
    }
   },
   "types_to_exclude": [
    "module",
    "function",
    "builtin_function_or_method",
    "instance",
    "_Feature"
   ],
   "window_display": false
  }
 },
 "nbformat": 4,
 "nbformat_minor": 5
}
