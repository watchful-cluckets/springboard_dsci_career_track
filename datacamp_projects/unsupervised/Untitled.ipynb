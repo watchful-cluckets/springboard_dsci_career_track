{
 "cells": [
  {
   "cell_type": "markdown",
   "id": "79b685ca",
   "metadata": {
    "heading_collapsed": true
   },
   "source": [
    "# Imports"
   ]
  },
  {
   "cell_type": "code",
   "execution_count": 1,
   "id": "a7ca8503",
   "metadata": {
    "ExecuteTime": {
     "end_time": "2021-09-16T19:34:13.949739Z",
     "start_time": "2021-09-16T19:34:13.946744Z"
    },
    "hidden": true
   },
   "outputs": [],
   "source": [
    "import datetime\n",
    "import glob\n",
    "import itertools\n",
    "import json\n",
    "import os\n",
    "import pickle\n",
    "import random\n",
    "import re\n",
    "from string import punctuation"
   ]
  },
  {
   "cell_type": "code",
   "execution_count": 2,
   "id": "d9110f66",
   "metadata": {
    "ExecuteTime": {
     "end_time": "2021-09-16T19:34:15.569222Z",
     "start_time": "2021-09-16T19:34:14.311000Z"
    },
    "hidden": true
   },
   "outputs": [],
   "source": [
    "import statistics\n",
    "\n",
    "import fuzzywuzzy\n",
    "import geopandas as gpd\n",
    "import humanize\n",
    "import missingno as msno\n",
    "import numpy as np\n",
    "import pandas as pd\n",
    "import recordlinkage\n",
    "import scipy as sp\n",
    "import statsmodels.formula.api as smf\n",
    "from pandas_profiling import ProfileReport"
   ]
  },
  {
   "cell_type": "code",
   "execution_count": 3,
   "id": "6ace0d30",
   "metadata": {
    "ExecuteTime": {
     "end_time": "2021-09-16T19:34:15.720001Z",
     "start_time": "2021-09-16T19:34:15.579176Z"
    },
    "hidden": true
   },
   "outputs": [],
   "source": [
    "SMALL_SIZE = 10\n",
    "MEDIUM_SIZE = 14\n",
    "BIGGER_SIZE = 18\n",
    "MAPBOX_STYLE = \"dark\"\n",
    "MAPBOX_HEIGHT = 800\n",
    "%matplotlib inline\n",
    "import matplotlib as mpl\n",
    "import matplotlib.font_manager\n",
    "import matplotlib.pyplot as plt\n",
    "import plotly.express as px\n",
    "import plotly.graph_objects as go\n",
    "import seaborn as sns\n",
    "from matplotlib.ticker import PercentFormatter\n",
    "\n",
    "px.set_mapbox_access_token(os.getenv(\"MAPBOX_TOKEN\"))\n",
    "matplotlib.font_manager.findSystemFonts(fontpaths=None, fontext=\"ttf\")\n",
    "plt.style.use(\"seaborn-colorblind\")\n",
    "plt.rcParams[\"font.family\"] = \"sans-serif\"\n",
    "plt.rcParams[\"font.sans-serif\"] = \"Open Sans\"\n",
    "plt.rcParams[\"figure.figsize\"] = 15, 6\n",
    "plt.rc('font', size=SMALL_SIZE)          # controls default text sizes\n",
    "plt.rc('axes', titlesize=SMALL_SIZE)     # fontsize of the axes title\n",
    "plt.rc('axes', labelsize=MEDIUM_SIZE)    # fontsize of the x and y labels\n",
    "plt.rc('xtick', labelsize=SMALL_SIZE)    # fontsize of the tick labels\n",
    "plt.rc('ytick', labelsize=SMALL_SIZE)    # fontsize of the tick labels\n",
    "plt.rc('legend', fontsize=SMALL_SIZE)    # legend fontsize\n",
    "plt.rc('figure', titlesize=BIGGER_SIZE)  # fontsize of the figure title"
   ]
  },
  {
   "cell_type": "code",
   "execution_count": 170,
   "id": "00ca4ce5",
   "metadata": {
    "ExecuteTime": {
     "end_time": "2021-09-16T20:25:30.190359Z",
     "start_time": "2021-09-16T20:25:30.183083Z"
    },
    "hidden": true
   },
   "outputs": [],
   "source": [
    "from sklearn import __version__ as sklearn_version\n",
    "from sklearn.cluster import KMeans\n",
    "from sklearn.decomposition import PCA\n",
    "from sklearn.dummy import DummyRegressor\n",
    "from sklearn.ensemble import RandomForestRegressor\n",
    "from sklearn.feature_selection import SelectKBest, f_regression\n",
    "from sklearn.impute import SimpleImputer\n",
    "from sklearn.linear_model import LinearRegression, LogisticRegression\n",
    "from sklearn.manifold import TSNE\n",
    "from sklearn.metrics import (average_precision_score, classification_report,\n",
    "                             confusion_matrix, mean_absolute_error,\n",
    "                             mean_squared_error, plot_precision_recall_curve,\n",
    "                             precision_recall_curve, r2_score, roc_auc_score,\n",
    "                             roc_curve)\n",
    "from sklearn.model_selection import (GridSearchCV, KFold, cross_val_score,\n",
    "                                     cross_validate, learning_curve,\n",
    "                                     train_test_split)\n",
    "from sklearn.neighbors import KNeighborsClassifier\n",
    "from sklearn.pipeline import Pipeline, make_pipeline\n",
    "from sklearn.preprocessing import (LabelEncoder, MinMaxScaler, Normalizer,\n",
    "                                   StandardScaler, normalize, scale)"
   ]
  },
  {
   "cell_type": "markdown",
   "id": "b739a5f8",
   "metadata": {
    "heading_collapsed": true
   },
   "source": [
    "# Grains"
   ]
  },
  {
   "cell_type": "markdown",
   "id": "8aae7497",
   "metadata": {
    "hidden": true
   },
   "source": [
    "## Data"
   ]
  },
  {
   "cell_type": "code",
   "execution_count": 323,
   "id": "6989c776",
   "metadata": {
    "ExecuteTime": {
     "end_time": "2021-09-16T22:50:00.197700Z",
     "start_time": "2021-09-16T22:50:00.190792Z"
    },
    "hidden": true
   },
   "outputs": [],
   "source": [
    "df = pd.read_csv('datasets/grains/seeds.csv', header=None)\n",
    "varieties = pd.read_csv('datasets/grains/varieties.csv', header=None)\n",
    "assert df.shape[0] == varieties.shape[0], \"Data size mismatch\""
   ]
  },
  {
   "cell_type": "code",
   "execution_count": 324,
   "id": "bfc68f4c",
   "metadata": {
    "ExecuteTime": {
     "end_time": "2021-09-16T22:50:00.385535Z",
     "start_time": "2021-09-16T22:50:00.376344Z"
    },
    "hidden": true
   },
   "outputs": [
    {
     "name": "stdout",
     "output_type": "stream",
     "text": [
      "(210, 8)\n"
     ]
    },
    {
     "data": {
      "text/html": [
       "<div>\n",
       "<style scoped>\n",
       "    .dataframe tbody tr th:only-of-type {\n",
       "        vertical-align: middle;\n",
       "    }\n",
       "\n",
       "    .dataframe tbody tr th {\n",
       "        vertical-align: top;\n",
       "    }\n",
       "\n",
       "    .dataframe thead th {\n",
       "        text-align: right;\n",
       "    }\n",
       "</style>\n",
       "<table border=\"1\" class=\"dataframe\">\n",
       "  <thead>\n",
       "    <tr style=\"text-align: right;\">\n",
       "      <th></th>\n",
       "      <th>0</th>\n",
       "      <th>1</th>\n",
       "      <th>2</th>\n",
       "      <th>3</th>\n",
       "      <th>4</th>\n",
       "      <th>5</th>\n",
       "      <th>6</th>\n",
       "      <th>7</th>\n",
       "    </tr>\n",
       "  </thead>\n",
       "  <tbody>\n",
       "    <tr>\n",
       "      <th>145</th>\n",
       "      <td>11.21</td>\n",
       "      <td>13.13</td>\n",
       "      <td>0.8167</td>\n",
       "      <td>5.279</td>\n",
       "      <td>2.687</td>\n",
       "      <td>6.169</td>\n",
       "      <td>5.275</td>\n",
       "      <td>3</td>\n",
       "    </tr>\n",
       "    <tr>\n",
       "      <th>198</th>\n",
       "      <td>12.62</td>\n",
       "      <td>13.67</td>\n",
       "      <td>0.8481</td>\n",
       "      <td>5.410</td>\n",
       "      <td>2.911</td>\n",
       "      <td>3.306</td>\n",
       "      <td>5.231</td>\n",
       "      <td>3</td>\n",
       "    </tr>\n",
       "    <tr>\n",
       "      <th>91</th>\n",
       "      <td>18.76</td>\n",
       "      <td>16.20</td>\n",
       "      <td>0.8984</td>\n",
       "      <td>6.172</td>\n",
       "      <td>3.796</td>\n",
       "      <td>3.120</td>\n",
       "      <td>6.053</td>\n",
       "      <td>2</td>\n",
       "    </tr>\n",
       "    <tr>\n",
       "      <th>153</th>\n",
       "      <td>11.18</td>\n",
       "      <td>13.04</td>\n",
       "      <td>0.8266</td>\n",
       "      <td>5.220</td>\n",
       "      <td>2.693</td>\n",
       "      <td>3.332</td>\n",
       "      <td>5.001</td>\n",
       "      <td>3</td>\n",
       "    </tr>\n",
       "    <tr>\n",
       "      <th>5</th>\n",
       "      <td>14.38</td>\n",
       "      <td>14.21</td>\n",
       "      <td>0.8951</td>\n",
       "      <td>5.386</td>\n",
       "      <td>3.312</td>\n",
       "      <td>2.462</td>\n",
       "      <td>4.956</td>\n",
       "      <td>1</td>\n",
       "    </tr>\n",
       "    <tr>\n",
       "      <th>50</th>\n",
       "      <td>14.43</td>\n",
       "      <td>14.40</td>\n",
       "      <td>0.8751</td>\n",
       "      <td>5.585</td>\n",
       "      <td>3.272</td>\n",
       "      <td>3.975</td>\n",
       "      <td>5.144</td>\n",
       "      <td>1</td>\n",
       "    </tr>\n",
       "    <tr>\n",
       "      <th>208</th>\n",
       "      <td>11.84</td>\n",
       "      <td>13.21</td>\n",
       "      <td>0.8521</td>\n",
       "      <td>5.175</td>\n",
       "      <td>2.836</td>\n",
       "      <td>3.598</td>\n",
       "      <td>5.044</td>\n",
       "      <td>3</td>\n",
       "    </tr>\n",
       "    <tr>\n",
       "      <th>96</th>\n",
       "      <td>19.31</td>\n",
       "      <td>16.59</td>\n",
       "      <td>0.8815</td>\n",
       "      <td>6.341</td>\n",
       "      <td>3.810</td>\n",
       "      <td>3.477</td>\n",
       "      <td>6.238</td>\n",
       "      <td>2</td>\n",
       "    </tr>\n",
       "    <tr>\n",
       "      <th>123</th>\n",
       "      <td>18.43</td>\n",
       "      <td>15.97</td>\n",
       "      <td>0.9077</td>\n",
       "      <td>5.980</td>\n",
       "      <td>3.771</td>\n",
       "      <td>2.984</td>\n",
       "      <td>5.905</td>\n",
       "      <td>2</td>\n",
       "    </tr>\n",
       "    <tr>\n",
       "      <th>62</th>\n",
       "      <td>12.36</td>\n",
       "      <td>13.19</td>\n",
       "      <td>0.8923</td>\n",
       "      <td>5.076</td>\n",
       "      <td>3.042</td>\n",
       "      <td>3.220</td>\n",
       "      <td>4.605</td>\n",
       "      <td>1</td>\n",
       "    </tr>\n",
       "  </tbody>\n",
       "</table>\n",
       "</div>"
      ],
      "text/plain": [
       "         0      1       2      3      4      5      6  7\n",
       "145  11.21  13.13  0.8167  5.279  2.687  6.169  5.275  3\n",
       "198  12.62  13.67  0.8481  5.410  2.911  3.306  5.231  3\n",
       "91   18.76  16.20  0.8984  6.172  3.796  3.120  6.053  2\n",
       "153  11.18  13.04  0.8266  5.220  2.693  3.332  5.001  3\n",
       "5    14.38  14.21  0.8951  5.386  3.312  2.462  4.956  1\n",
       "50   14.43  14.40  0.8751  5.585  3.272  3.975  5.144  1\n",
       "208  11.84  13.21  0.8521  5.175  2.836  3.598  5.044  3\n",
       "96   19.31  16.59  0.8815  6.341  3.810  3.477  6.238  2\n",
       "123  18.43  15.97  0.9077  5.980  3.771  2.984  5.905  2\n",
       "62   12.36  13.19  0.8923  5.076  3.042  3.220  4.605  1"
      ]
     },
     "execution_count": 324,
     "metadata": {},
     "output_type": "execute_result"
    }
   ],
   "source": [
    "print(df.shape)\n",
    "df.sample(10)"
   ]
  },
  {
   "cell_type": "code",
   "execution_count": 325,
   "id": "d3f0de0b",
   "metadata": {
    "ExecuteTime": {
     "end_time": "2021-09-16T22:50:00.520742Z",
     "start_time": "2021-09-16T22:50:00.515452Z"
    },
    "hidden": true
   },
   "outputs": [
    {
     "name": "stdout",
     "output_type": "stream",
     "text": [
      "(210, 1)\n"
     ]
    },
    {
     "data": {
      "text/html": [
       "<div>\n",
       "<style scoped>\n",
       "    .dataframe tbody tr th:only-of-type {\n",
       "        vertical-align: middle;\n",
       "    }\n",
       "\n",
       "    .dataframe tbody tr th {\n",
       "        vertical-align: top;\n",
       "    }\n",
       "\n",
       "    .dataframe thead th {\n",
       "        text-align: right;\n",
       "    }\n",
       "</style>\n",
       "<table border=\"1\" class=\"dataframe\">\n",
       "  <thead>\n",
       "    <tr style=\"text-align: right;\">\n",
       "      <th></th>\n",
       "      <th>0</th>\n",
       "    </tr>\n",
       "  </thead>\n",
       "  <tbody>\n",
       "    <tr>\n",
       "      <th>164</th>\n",
       "      <td>Canadian_wheat</td>\n",
       "    </tr>\n",
       "    <tr>\n",
       "      <th>114</th>\n",
       "      <td>Rosa_wheat</td>\n",
       "    </tr>\n",
       "    <tr>\n",
       "      <th>153</th>\n",
       "      <td>Canadian_wheat</td>\n",
       "    </tr>\n",
       "    <tr>\n",
       "      <th>86</th>\n",
       "      <td>Rosa_wheat</td>\n",
       "    </tr>\n",
       "    <tr>\n",
       "      <th>207</th>\n",
       "      <td>Canadian_wheat</td>\n",
       "    </tr>\n",
       "    <tr>\n",
       "      <th>125</th>\n",
       "      <td>Rosa_wheat</td>\n",
       "    </tr>\n",
       "    <tr>\n",
       "      <th>22</th>\n",
       "      <td>Kama_wheat</td>\n",
       "    </tr>\n",
       "    <tr>\n",
       "      <th>203</th>\n",
       "      <td>Canadian_wheat</td>\n",
       "    </tr>\n",
       "    <tr>\n",
       "      <th>18</th>\n",
       "      <td>Kama_wheat</td>\n",
       "    </tr>\n",
       "    <tr>\n",
       "      <th>56</th>\n",
       "      <td>Kama_wheat</td>\n",
       "    </tr>\n",
       "  </tbody>\n",
       "</table>\n",
       "</div>"
      ],
      "text/plain": [
       "                  0\n",
       "164  Canadian_wheat\n",
       "114      Rosa_wheat\n",
       "153  Canadian_wheat\n",
       "86       Rosa_wheat\n",
       "207  Canadian_wheat\n",
       "125      Rosa_wheat\n",
       "22       Kama_wheat\n",
       "203  Canadian_wheat\n",
       "18       Kama_wheat\n",
       "56       Kama_wheat"
      ]
     },
     "execution_count": 325,
     "metadata": {},
     "output_type": "execute_result"
    }
   ],
   "source": [
    "print(varieties.shape)\n",
    "varieties.sample(10)"
   ]
  },
  {
   "cell_type": "code",
   "execution_count": 326,
   "id": "d84dd76d",
   "metadata": {
    "ExecuteTime": {
     "end_time": "2021-09-16T22:50:01.447899Z",
     "start_time": "2021-09-16T22:50:01.444528Z"
    },
    "hidden": true
   },
   "outputs": [],
   "source": [
    "variety_numbers = df[7]\n",
    "samples = df.drop(7, axis=1).to_numpy()\n",
    "varieties = varieties[0].to_list()"
   ]
  },
  {
   "cell_type": "markdown",
   "id": "b159057f",
   "metadata": {
    "hidden": true
   },
   "source": [
    "## KMeans Clustering"
   ]
  },
  {
   "cell_type": "code",
   "execution_count": 352,
   "id": "e41f6720",
   "metadata": {
    "ExecuteTime": {
     "end_time": "2021-09-16T23:00:01.717608Z",
     "start_time": "2021-09-16T23:00:01.494650Z"
    },
    "hidden": true
   },
   "outputs": [
    {
     "data": {
      "image/png": "[encoded data removed]",
      "text/plain": [
       "<Figure size 1080x432 with 1 Axes>"
      ]
     },
     "metadata": {
      "needs_background": "light"
     },
     "output_type": "display_data"
    }
   ],
   "source": [
    "# How many clusters? Elbow of inertia\n",
    "ks = range(1, 6)\n",
    "inertias = []\n",
    "\n",
    "for k in ks:\n",
    "    # Create a KMeans instance with k clusters: model\n",
    "    model = KMeans(n_clusters=k)\n",
    "    \n",
    "    # Fit model to samples\n",
    "    model.fit(samples)\n",
    "    \n",
    "    # Append the inertia to the list of inertias\n",
    "    inertias.append(model.inertia_)\n",
    "    \n",
    "# Plot ks vs inertias\n",
    "plt.plot(ks, inertias, '-o')\n",
    "plt.xlabel('number of clusters, k')\n",
    "plt.ylabel('inertia')\n",
    "plt.xticks(ks)\n",
    "plt.show()"
   ]
  },
  {
   "cell_type": "code",
   "execution_count": 328,
   "id": "d32ae4d1",
   "metadata": {
    "ExecuteTime": {
     "end_time": "2021-09-16T22:50:03.557435Z",
     "start_time": "2021-09-16T22:50:03.532908Z"
    },
    "hidden": true
   },
   "outputs": [
    {
     "name": "stdout",
     "output_type": "stream",
     "text": [
      "varieties  Canadian_wheat  Kama_wheat  Rosa_wheat\n",
      "labels                                           \n",
      "0                       0           1          60\n",
      "1                      68           9           0\n",
      "2                       2          60          10\n"
     ]
    }
   ],
   "source": [
    "# Create a KMeans model with 3 clusters: model\n",
    "model = KMeans(n_clusters=3)\n",
    "\n",
    "# Use fit_predict to fit model and obtain cluster labels: labels\n",
    "labels = model.fit_predict(samples)\n",
    "\n",
    "# Create a DataFrame with clusters and varieties as columns: df\n",
    "df = pd.DataFrame({'labels': labels, 'varieties': varieties})\n",
    "\n",
    "# Create crosstab: ct\n",
    "ct = pd.crosstab(df['labels'], df['varieties'])\n",
    "\n",
    "# Display ct\n",
    "print(ct)"
   ]
  },
  {
   "cell_type": "markdown",
   "id": "dffbf860",
   "metadata": {
    "hidden": true
   },
   "source": [
    "## Hierarchical Clustering"
   ]
  },
  {
   "cell_type": "code",
   "execution_count": 329,
   "id": "ba0b0807",
   "metadata": {
    "ExecuteTime": {
     "end_time": "2021-09-16T22:50:07.523961Z",
     "start_time": "2021-09-16T22:50:04.145034Z"
    },
    "hidden": true
   },
   "outputs": [
    {
     "data": {
      "image/png": "[encoded data removed]",
      "text/plain": [
       "<Figure size 1080x432 with 1 Axes>"
      ]
     },
     "metadata": {
      "needs_background": "light"
     },
     "output_type": "display_data"
    }
   ],
   "source": [
    "# Calculate the linkage: mergings\n",
    "mergings = sp.cluster.hierarchy.linkage(samples, method='complete')\n",
    "\n",
    "# Plot the dendrogram, using varieties as labels\n",
    "sp.cluster.hierarchy.dendrogram(\n",
    "    mergings,\n",
    "    labels=varieties,\n",
    "    leaf_rotation=90,\n",
    "    leaf_font_size=6,\n",
    ")\n",
    "plt.show()"
   ]
  },
  {
   "cell_type": "code",
   "execution_count": 330,
   "id": "4fb92490",
   "metadata": {
    "ExecuteTime": {
     "end_time": "2021-09-16T22:50:07.600432Z",
     "start_time": "2021-09-16T22:50:07.587350Z"
    },
    "hidden": true
   },
   "outputs": [
    {
     "name": "stdout",
     "output_type": "stream",
     "text": [
      "varieties  Canadian_wheat  Kama_wheat  Rosa_wheat\n",
      "labels                                           \n",
      "1                       0           0          47\n",
      "2                       0          52          23\n",
      "3                      13           1           0\n",
      "4                      57          17           0\n"
     ]
    }
   ],
   "source": [
    "# Use fcluster to extract labels: labels\n",
    "labels = sp.cluster.hierarchy.fcluster(mergings, 6, criterion='distance')\n",
    "\n",
    "# Create a DataFrame with labels and varieties as columns: df\n",
    "df = pd.DataFrame({'labels': labels, 'varieties': varieties})\n",
    "\n",
    "# Create crosstab: ct\n",
    "ct = pd.crosstab(df.labels, df.varieties)\n",
    "\n",
    "# Display ct\n",
    "print(ct)"
   ]
  },
  {
   "cell_type": "markdown",
   "id": "83c8e76e",
   "metadata": {
    "hidden": true
   },
   "source": [
    "## t-distributed Stochastic Neighbor Embedding (t-SNE)"
   ]
  },
  {
   "cell_type": "code",
   "execution_count": 331,
   "id": "f2c8616e",
   "metadata": {
    "ExecuteTime": {
     "end_time": "2021-09-16T22:50:10.361091Z",
     "start_time": "2021-09-16T22:50:09.692756Z"
    },
    "hidden": true
   },
   "outputs": [
    {
     "data": {
      "image/png": "[encoded data removed]",
      "text/plain": [
       "<Figure size 1080x432 with 1 Axes>"
      ]
     },
     "metadata": {
      "needs_background": "light"
     },
     "output_type": "display_data"
    }
   ],
   "source": [
    "# Create a TSNE instance: model\n",
    "model = TSNE(learning_rate=200)\n",
    "\n",
    "# Apply fit_transform to samples: tsne_features\n",
    "tsne_features = model.fit_transform(samples)\n",
    "\n",
    "# Select the 0th feature: xs\n",
    "xs = tsne_features[:,0]\n",
    "\n",
    "# Select the 1st feature: ys\n",
    "ys = tsne_features[:,1]\n",
    "\n",
    "# Scatter plot, coloring by variety_numbers\n",
    "plt.scatter(xs, ys, c=variety_numbers)\n",
    "plt.show()"
   ]
  },
  {
   "cell_type": "markdown",
   "id": "f360335a",
   "metadata": {},
   "source": [
    "# Wines"
   ]
  },
  {
   "cell_type": "code",
   "execution_count": 353,
   "id": "cd520c16",
   "metadata": {
    "ExecuteTime": {
     "end_time": "2021-09-16T23:01:05.488500Z",
     "start_time": "2021-09-16T23:01:05.486543Z"
    }
   },
   "outputs": [],
   "source": [
    "## Data"
   ]
  },
  {
   "cell_type": "code",
   "execution_count": 94,
   "id": "c181d8ed",
   "metadata": {
    "ExecuteTime": {
     "end_time": "2021-09-16T19:57:04.264914Z",
     "start_time": "2021-09-16T19:57:04.257067Z"
    }
   },
   "outputs": [],
   "source": [
    "df = pd.read_csv('datasets/wine.csv')"
   ]
  },
  {
   "cell_type": "code",
   "execution_count": 95,
   "id": "f7d21cff",
   "metadata": {
    "ExecuteTime": {
     "end_time": "2021-09-16T19:57:08.820326Z",
     "start_time": "2021-09-16T19:57:08.795132Z"
    }
   },
   "outputs": [
    {
     "data": {
      "text/html": [
       "<div>\n",
       "<style scoped>\n",
       "    .dataframe tbody tr th:only-of-type {\n",
       "        vertical-align: middle;\n",
       "    }\n",
       "\n",
       "    .dataframe tbody tr th {\n",
       "        vertical-align: top;\n",
       "    }\n",
       "\n",
       "    .dataframe thead th {\n",
       "        text-align: right;\n",
       "    }\n",
       "</style>\n",
       "<table border=\"1\" class=\"dataframe\">\n",
       "  <thead>\n",
       "    <tr style=\"text-align: right;\">\n",
       "      <th></th>\n",
       "      <th>class_label</th>\n",
       "      <th>class_name</th>\n",
       "      <th>alcohol</th>\n",
       "      <th>malic_acid</th>\n",
       "      <th>ash</th>\n",
       "      <th>alcalinity_of_ash</th>\n",
       "      <th>magnesium</th>\n",
       "      <th>total_phenols</th>\n",
       "      <th>flavanoids</th>\n",
       "      <th>nonflavanoid_phenols</th>\n",
       "      <th>proanthocyanins</th>\n",
       "      <th>color_intensity</th>\n",
       "      <th>hue</th>\n",
       "      <th>od280</th>\n",
       "      <th>proline</th>\n",
       "    </tr>\n",
       "  </thead>\n",
       "  <tbody>\n",
       "    <tr>\n",
       "      <th>114</th>\n",
       "      <td>2</td>\n",
       "      <td>Grignolino</td>\n",
       "      <td>12.08</td>\n",
       "      <td>1.39</td>\n",
       "      <td>2.50</td>\n",
       "      <td>22.5</td>\n",
       "      <td>84</td>\n",
       "      <td>2.56</td>\n",
       "      <td>2.29</td>\n",
       "      <td>0.43</td>\n",
       "      <td>1.04</td>\n",
       "      <td>2.90</td>\n",
       "      <td>0.93</td>\n",
       "      <td>3.19</td>\n",
       "      <td>385</td>\n",
       "    </tr>\n",
       "    <tr>\n",
       "      <th>128</th>\n",
       "      <td>2</td>\n",
       "      <td>Grignolino</td>\n",
       "      <td>12.37</td>\n",
       "      <td>1.63</td>\n",
       "      <td>2.30</td>\n",
       "      <td>24.5</td>\n",
       "      <td>88</td>\n",
       "      <td>2.22</td>\n",
       "      <td>2.45</td>\n",
       "      <td>0.40</td>\n",
       "      <td>1.90</td>\n",
       "      <td>2.12</td>\n",
       "      <td>0.89</td>\n",
       "      <td>2.78</td>\n",
       "      <td>342</td>\n",
       "    </tr>\n",
       "    <tr>\n",
       "      <th>112</th>\n",
       "      <td>2</td>\n",
       "      <td>Grignolino</td>\n",
       "      <td>11.76</td>\n",
       "      <td>2.68</td>\n",
       "      <td>2.92</td>\n",
       "      <td>20.0</td>\n",
       "      <td>103</td>\n",
       "      <td>1.75</td>\n",
       "      <td>2.03</td>\n",
       "      <td>0.60</td>\n",
       "      <td>1.05</td>\n",
       "      <td>3.80</td>\n",
       "      <td>1.23</td>\n",
       "      <td>2.50</td>\n",
       "      <td>607</td>\n",
       "    </tr>\n",
       "    <tr>\n",
       "      <th>52</th>\n",
       "      <td>1</td>\n",
       "      <td>Barolo</td>\n",
       "      <td>13.82</td>\n",
       "      <td>1.75</td>\n",
       "      <td>2.42</td>\n",
       "      <td>14.0</td>\n",
       "      <td>111</td>\n",
       "      <td>3.88</td>\n",
       "      <td>3.74</td>\n",
       "      <td>0.32</td>\n",
       "      <td>1.87</td>\n",
       "      <td>7.05</td>\n",
       "      <td>1.01</td>\n",
       "      <td>3.26</td>\n",
       "      <td>1190</td>\n",
       "    </tr>\n",
       "    <tr>\n",
       "      <th>64</th>\n",
       "      <td>2</td>\n",
       "      <td>Grignolino</td>\n",
       "      <td>12.17</td>\n",
       "      <td>1.45</td>\n",
       "      <td>2.53</td>\n",
       "      <td>19.0</td>\n",
       "      <td>104</td>\n",
       "      <td>1.89</td>\n",
       "      <td>1.75</td>\n",
       "      <td>0.45</td>\n",
       "      <td>1.03</td>\n",
       "      <td>2.95</td>\n",
       "      <td>1.45</td>\n",
       "      <td>2.23</td>\n",
       "      <td>355</td>\n",
       "    </tr>\n",
       "    <tr>\n",
       "      <th>164</th>\n",
       "      <td>3</td>\n",
       "      <td>Barbera</td>\n",
       "      <td>13.78</td>\n",
       "      <td>2.76</td>\n",
       "      <td>2.30</td>\n",
       "      <td>22.0</td>\n",
       "      <td>90</td>\n",
       "      <td>1.35</td>\n",
       "      <td>0.68</td>\n",
       "      <td>0.41</td>\n",
       "      <td>1.03</td>\n",
       "      <td>9.58</td>\n",
       "      <td>0.70</td>\n",
       "      <td>1.68</td>\n",
       "      <td>615</td>\n",
       "    </tr>\n",
       "    <tr>\n",
       "      <th>65</th>\n",
       "      <td>2</td>\n",
       "      <td>Grignolino</td>\n",
       "      <td>12.37</td>\n",
       "      <td>1.21</td>\n",
       "      <td>2.56</td>\n",
       "      <td>18.1</td>\n",
       "      <td>98</td>\n",
       "      <td>2.42</td>\n",
       "      <td>2.65</td>\n",
       "      <td>0.37</td>\n",
       "      <td>2.08</td>\n",
       "      <td>4.60</td>\n",
       "      <td>1.19</td>\n",
       "      <td>2.30</td>\n",
       "      <td>678</td>\n",
       "    </tr>\n",
       "    <tr>\n",
       "      <th>168</th>\n",
       "      <td>3</td>\n",
       "      <td>Barbera</td>\n",
       "      <td>13.58</td>\n",
       "      <td>2.58</td>\n",
       "      <td>2.69</td>\n",
       "      <td>24.5</td>\n",
       "      <td>105</td>\n",
       "      <td>1.55</td>\n",
       "      <td>0.84</td>\n",
       "      <td>0.39</td>\n",
       "      <td>1.54</td>\n",
       "      <td>8.66</td>\n",
       "      <td>0.74</td>\n",
       "      <td>1.80</td>\n",
       "      <td>750</td>\n",
       "    </tr>\n",
       "    <tr>\n",
       "      <th>86</th>\n",
       "      <td>2</td>\n",
       "      <td>Grignolino</td>\n",
       "      <td>12.16</td>\n",
       "      <td>1.61</td>\n",
       "      <td>2.31</td>\n",
       "      <td>22.8</td>\n",
       "      <td>90</td>\n",
       "      <td>1.78</td>\n",
       "      <td>1.69</td>\n",
       "      <td>0.43</td>\n",
       "      <td>1.56</td>\n",
       "      <td>2.45</td>\n",
       "      <td>1.33</td>\n",
       "      <td>2.26</td>\n",
       "      <td>495</td>\n",
       "    </tr>\n",
       "    <tr>\n",
       "      <th>56</th>\n",
       "      <td>1</td>\n",
       "      <td>Barolo</td>\n",
       "      <td>14.22</td>\n",
       "      <td>1.70</td>\n",
       "      <td>2.30</td>\n",
       "      <td>16.3</td>\n",
       "      <td>118</td>\n",
       "      <td>3.20</td>\n",
       "      <td>3.00</td>\n",
       "      <td>0.26</td>\n",
       "      <td>2.03</td>\n",
       "      <td>6.38</td>\n",
       "      <td>0.94</td>\n",
       "      <td>3.31</td>\n",
       "      <td>970</td>\n",
       "    </tr>\n",
       "  </tbody>\n",
       "</table>\n",
       "</div>"
      ],
      "text/plain": [
       "     class_label  class_name  alcohol  malic_acid   ash  alcalinity_of_ash  \\\n",
       "114            2  Grignolino    12.08        1.39  2.50               22.5   \n",
       "128            2  Grignolino    12.37        1.63  2.30               24.5   \n",
       "112            2  Grignolino    11.76        2.68  2.92               20.0   \n",
       "52             1      Barolo    13.82        1.75  2.42               14.0   \n",
       "64             2  Grignolino    12.17        1.45  2.53               19.0   \n",
       "164            3     Barbera    13.78        2.76  2.30               22.0   \n",
       "65             2  Grignolino    12.37        1.21  2.56               18.1   \n",
       "168            3     Barbera    13.58        2.58  2.69               24.5   \n",
       "86             2  Grignolino    12.16        1.61  2.31               22.8   \n",
       "56             1      Barolo    14.22        1.70  2.30               16.3   \n",
       "\n",
       "     magnesium  total_phenols  flavanoids  nonflavanoid_phenols  \\\n",
       "114         84           2.56        2.29                  0.43   \n",
       "128         88           2.22        2.45                  0.40   \n",
       "112        103           1.75        2.03                  0.60   \n",
       "52         111           3.88        3.74                  0.32   \n",
       "64         104           1.89        1.75                  0.45   \n",
       "164         90           1.35        0.68                  0.41   \n",
       "65          98           2.42        2.65                  0.37   \n",
       "168        105           1.55        0.84                  0.39   \n",
       "86          90           1.78        1.69                  0.43   \n",
       "56         118           3.20        3.00                  0.26   \n",
       "\n",
       "     proanthocyanins  color_intensity   hue  od280  proline  \n",
       "114             1.04             2.90  0.93   3.19      385  \n",
       "128             1.90             2.12  0.89   2.78      342  \n",
       "112             1.05             3.80  1.23   2.50      607  \n",
       "52              1.87             7.05  1.01   3.26     1190  \n",
       "64              1.03             2.95  1.45   2.23      355  \n",
       "164             1.03             9.58  0.70   1.68      615  \n",
       "65              2.08             4.60  1.19   2.30      678  \n",
       "168             1.54             8.66  0.74   1.80      750  \n",
       "86              1.56             2.45  1.33   2.26      495  \n",
       "56              2.03             6.38  0.94   3.31      970  "
      ]
     },
     "execution_count": 95,
     "metadata": {},
     "output_type": "execute_result"
    }
   ],
   "source": [
    "df.sample(10)"
   ]
  },
  {
   "cell_type": "markdown",
   "id": "f2335aa6",
   "metadata": {},
   "source": [
    "## Scale"
   ]
  },
  {
   "cell_type": "code",
   "execution_count": 96,
   "id": "9a669561",
   "metadata": {
    "ExecuteTime": {
     "end_time": "2021-09-16T19:57:30.086941Z",
     "start_time": "2021-09-16T19:57:30.080040Z"
    }
   },
   "outputs": [
    {
     "name": "stderr",
     "output_type": "stream",
     "text": [
      "/home/kcavagnolo/.pyenv/versions/3.8.0/lib/python3.8/site-packages/pandas/core/apply.py:169: FutureWarning: Dropping of nuisance columns in DataFrame reductions (with 'numeric_only=None') is deprecated; in a future version this will raise TypeError.  Select only valid columns before calling the reduction.\n",
      "  return getattr(obj, f)()\n"
     ]
    },
    {
     "data": {
      "text/plain": [
       "class_label                 0.600679\n",
       "alcohol                     0.659062\n",
       "malic_acid                  1.248015\n",
       "ash                         0.075265\n",
       "alcalinity_of_ash          11.152686\n",
       "magnesium                 203.989335\n",
       "total_phenols               0.391690\n",
       "flavanoids                  0.997719\n",
       "nonflavanoid_phenols        0.015489\n",
       "proanthocyanins             0.327595\n",
       "color_intensity             5.374449\n",
       "hue                         0.052245\n",
       "od280                       0.504086\n",
       "proline                 99166.717355\n",
       "dtype: float64"
      ]
     },
     "execution_count": 96,
     "metadata": {},
     "output_type": "execute_result"
    }
   ],
   "source": [
    "df.agg(np.var)"
   ]
  },
  {
   "cell_type": "code",
   "execution_count": 97,
   "id": "3af5a28b",
   "metadata": {
    "ExecuteTime": {
     "end_time": "2021-09-16T19:57:58.518724Z",
     "start_time": "2021-09-16T19:57:58.214887Z"
    }
   },
   "outputs": [
    {
     "data": {
      "text/plain": [
       "<AxesSubplot:>"
      ]
     },
     "execution_count": 97,
     "metadata": {},
     "output_type": "execute_result"
    },
    {
     "data": {
      "image/png": "[encoded data removed]",
      "text/plain": [
       "<Figure size 1080x432 with 1 Axes>"
      ]
     },
     "metadata": {
      "needs_background": "light"
     },
     "output_type": "display_data"
    }
   ],
   "source": [
    "sns.boxplot(data=df)"
   ]
  },
  {
   "cell_type": "code",
   "execution_count": 98,
   "id": "351931da",
   "metadata": {
    "ExecuteTime": {
     "end_time": "2021-09-16T19:59:31.419962Z",
     "start_time": "2021-09-16T19:59:31.415727Z"
    }
   },
   "outputs": [],
   "source": [
    "samples = df.drop([\"class_label\", \"class_name\"], axis=1).to_numpy()"
   ]
  },
  {
   "cell_type": "code",
   "execution_count": 145,
   "id": "36773903",
   "metadata": {
    "ExecuteTime": {
     "end_time": "2021-09-16T20:15:40.505921Z",
     "start_time": "2021-09-16T20:15:40.287835Z"
    }
   },
   "outputs": [
    {
     "data": {
      "text/plain": [
       "<AxesSubplot:>"
      ]
     },
     "execution_count": 145,
     "metadata": {},
     "output_type": "execute_result"
    },
    {
     "data": {
      "image/png": "[encoded data removed]",
      "text/plain": [
       "<Figure size 1080x432 with 1 Axes>"
      ]
     },
     "metadata": {
      "needs_background": "light"
     },
     "output_type": "display_data"
    }
   ],
   "source": [
    "scaler = StandardScaler()\n",
    "sns.boxplot(data=scaler.fit_transform(samples))"
   ]
  },
  {
   "cell_type": "markdown",
   "id": "06c8284d",
   "metadata": {},
   "source": [
    "## KMeans Clustering"
   ]
  },
  {
   "cell_type": "code",
   "execution_count": 146,
   "id": "4b2a43b6",
   "metadata": {
    "ExecuteTime": {
     "end_time": "2021-09-16T20:15:44.071758Z",
     "start_time": "2021-09-16T20:15:44.069485Z"
    }
   },
   "outputs": [],
   "source": [
    "# build steps\n",
    "scalar = StandardScaler()\n",
    "model = KMeans()\n",
    "pipeline = make_pipeline(scaler, model)"
   ]
  },
  {
   "cell_type": "code",
   "execution_count": 147,
   "id": "108d5991",
   "metadata": {
    "ExecuteTime": {
     "end_time": "2021-09-16T20:15:44.319278Z",
     "start_time": "2021-09-16T20:15:44.266222Z"
    }
   },
   "outputs": [
    {
     "data": {
      "text/plain": [
       "Pipeline(steps=[('standardscaler', StandardScaler()), ('kmeans', KMeans())])"
      ]
     },
     "execution_count": 147,
     "metadata": {},
     "output_type": "execute_result"
    }
   ],
   "source": [
    "pipeline.fit(samples)"
   ]
  },
  {
   "cell_type": "code",
   "execution_count": 148,
   "id": "167702cd",
   "metadata": {
    "ExecuteTime": {
     "end_time": "2021-09-16T20:15:44.895563Z",
     "start_time": "2021-09-16T20:15:44.475051Z"
    }
   },
   "outputs": [
    {
     "name": "stdout",
     "output_type": "stream",
     "text": [
      "Tuned Parameters: {'kmeans__n_clusters': 13}\n",
      "Best score: -281.60050901417543\n"
     ]
    }
   ],
   "source": [
    "# Setup the hyperparameter grid\n",
    "k_space = [x for x in range(1, 15)]\n",
    "param_grid = {f'{pipeline.steps[1][0]}__n_clusters': k_space}\n",
    "\n",
    "# Instantiate the GridSearchCV object: logreg_cv\n",
    "cv = KFold(n_splits=5)\n",
    "model_cv = GridSearchCV(pipeline, param_grid, cv=cv, n_jobs=-1)\n",
    "\n",
    "# Fit it to the data\n",
    "model_cv.fit(samples)\n",
    "\n",
    "# Print the tuned parameters and score\n",
    "print(\"Tuned Parameters: {}\".format(\n",
    "    model_cv.best_params_))\n",
    "print(\"Best score: {}\".format(model_cv.best_score_))"
   ]
  },
  {
   "cell_type": "markdown",
   "id": "4a49dedc",
   "metadata": {},
   "source": [
    "# Fish"
   ]
  },
  {
   "cell_type": "markdown",
   "id": "1ac56470",
   "metadata": {},
   "source": [
    "## Data"
   ]
  },
  {
   "cell_type": "code",
   "execution_count": 155,
   "id": "7913152c",
   "metadata": {
    "ExecuteTime": {
     "end_time": "2021-09-16T20:20:17.570638Z",
     "start_time": "2021-09-16T20:20:17.565290Z"
    }
   },
   "outputs": [],
   "source": [
    "df = pd.read_csv('datasets/fish.csv', header=None)"
   ]
  },
  {
   "cell_type": "code",
   "execution_count": 156,
   "id": "6b36ee8a",
   "metadata": {
    "ExecuteTime": {
     "end_time": "2021-09-16T20:20:17.823543Z",
     "start_time": "2021-09-16T20:20:17.813182Z"
    }
   },
   "outputs": [
    {
     "data": {
      "text/html": [
       "<div>\n",
       "<style scoped>\n",
       "    .dataframe tbody tr th:only-of-type {\n",
       "        vertical-align: middle;\n",
       "    }\n",
       "\n",
       "    .dataframe tbody tr th {\n",
       "        vertical-align: top;\n",
       "    }\n",
       "\n",
       "    .dataframe thead th {\n",
       "        text-align: right;\n",
       "    }\n",
       "</style>\n",
       "<table border=\"1\" class=\"dataframe\">\n",
       "  <thead>\n",
       "    <tr style=\"text-align: right;\">\n",
       "      <th></th>\n",
       "      <th>0</th>\n",
       "      <th>1</th>\n",
       "      <th>2</th>\n",
       "      <th>3</th>\n",
       "      <th>4</th>\n",
       "      <th>5</th>\n",
       "      <th>6</th>\n",
       "    </tr>\n",
       "  </thead>\n",
       "  <tbody>\n",
       "    <tr>\n",
       "      <th>19</th>\n",
       "      <td>Bream</td>\n",
       "      <td>575.0</td>\n",
       "      <td>31.3</td>\n",
       "      <td>34.0</td>\n",
       "      <td>39.5</td>\n",
       "      <td>38.3</td>\n",
       "      <td>14.1</td>\n",
       "    </tr>\n",
       "    <tr>\n",
       "      <th>61</th>\n",
       "      <td>Smelt</td>\n",
       "      <td>9.9</td>\n",
       "      <td>11.3</td>\n",
       "      <td>11.8</td>\n",
       "      <td>13.1</td>\n",
       "      <td>16.9</td>\n",
       "      <td>8.9</td>\n",
       "    </tr>\n",
       "    <tr>\n",
       "      <th>45</th>\n",
       "      <td>Roach</td>\n",
       "      <td>140.0</td>\n",
       "      <td>21.0</td>\n",
       "      <td>22.5</td>\n",
       "      <td>25.0</td>\n",
       "      <td>26.2</td>\n",
       "      <td>13.3</td>\n",
       "    </tr>\n",
       "    <tr>\n",
       "      <th>29</th>\n",
       "      <td>Bream</td>\n",
       "      <td>920.0</td>\n",
       "      <td>35.0</td>\n",
       "      <td>38.5</td>\n",
       "      <td>44.1</td>\n",
       "      <td>40.9</td>\n",
       "      <td>14.3</td>\n",
       "    </tr>\n",
       "    <tr>\n",
       "      <th>68</th>\n",
       "      <td>Pike</td>\n",
       "      <td>200.0</td>\n",
       "      <td>30.0</td>\n",
       "      <td>32.3</td>\n",
       "      <td>34.8</td>\n",
       "      <td>16.0</td>\n",
       "      <td>9.7</td>\n",
       "    </tr>\n",
       "    <tr>\n",
       "      <th>62</th>\n",
       "      <td>Smelt</td>\n",
       "      <td>9.8</td>\n",
       "      <td>11.4</td>\n",
       "      <td>12.0</td>\n",
       "      <td>13.2</td>\n",
       "      <td>16.7</td>\n",
       "      <td>8.7</td>\n",
       "    </tr>\n",
       "    <tr>\n",
       "      <th>75</th>\n",
       "      <td>Pike</td>\n",
       "      <td>510.0</td>\n",
       "      <td>40.0</td>\n",
       "      <td>42.5</td>\n",
       "      <td>45.5</td>\n",
       "      <td>15.0</td>\n",
       "      <td>9.8</td>\n",
       "    </tr>\n",
       "    <tr>\n",
       "      <th>44</th>\n",
       "      <td>Roach</td>\n",
       "      <td>160.0</td>\n",
       "      <td>20.5</td>\n",
       "      <td>22.5</td>\n",
       "      <td>25.3</td>\n",
       "      <td>27.8</td>\n",
       "      <td>15.1</td>\n",
       "    </tr>\n",
       "    <tr>\n",
       "      <th>79</th>\n",
       "      <td>Pike</td>\n",
       "      <td>770.0</td>\n",
       "      <td>44.8</td>\n",
       "      <td>48.0</td>\n",
       "      <td>51.2</td>\n",
       "      <td>15.0</td>\n",
       "      <td>10.5</td>\n",
       "    </tr>\n",
       "    <tr>\n",
       "      <th>67</th>\n",
       "      <td>Smelt</td>\n",
       "      <td>19.9</td>\n",
       "      <td>13.8</td>\n",
       "      <td>15.0</td>\n",
       "      <td>16.2</td>\n",
       "      <td>18.1</td>\n",
       "      <td>11.6</td>\n",
       "    </tr>\n",
       "  </tbody>\n",
       "</table>\n",
       "</div>"
      ],
      "text/plain": [
       "        0      1     2     3     4     5     6\n",
       "19  Bream  575.0  31.3  34.0  39.5  38.3  14.1\n",
       "61  Smelt    9.9  11.3  11.8  13.1  16.9   8.9\n",
       "45  Roach  140.0  21.0  22.5  25.0  26.2  13.3\n",
       "29  Bream  920.0  35.0  38.5  44.1  40.9  14.3\n",
       "68   Pike  200.0  30.0  32.3  34.8  16.0   9.7\n",
       "62  Smelt    9.8  11.4  12.0  13.2  16.7   8.7\n",
       "75   Pike  510.0  40.0  42.5  45.5  15.0   9.8\n",
       "44  Roach  160.0  20.5  22.5  25.3  27.8  15.1\n",
       "79   Pike  770.0  44.8  48.0  51.2  15.0  10.5\n",
       "67  Smelt   19.9  13.8  15.0  16.2  18.1  11.6"
      ]
     },
     "execution_count": 156,
     "metadata": {},
     "output_type": "execute_result"
    }
   ],
   "source": [
    "df.sample(10)"
   ]
  },
  {
   "cell_type": "code",
   "execution_count": 161,
   "id": "f8a483d0",
   "metadata": {
    "ExecuteTime": {
     "end_time": "2021-09-16T20:21:05.942950Z",
     "start_time": "2021-09-16T20:21:05.939732Z"
    }
   },
   "outputs": [],
   "source": [
    "species = df[0]\n",
    "samples = df.drop(0, axis=1).to_numpy()"
   ]
  },
  {
   "cell_type": "markdown",
   "id": "0230b458",
   "metadata": {},
   "source": [
    "## KMeans Clustering"
   ]
  },
  {
   "cell_type": "code",
   "execution_count": 162,
   "id": "469a45dc",
   "metadata": {
    "ExecuteTime": {
     "end_time": "2021-09-16T20:21:06.450282Z",
     "start_time": "2021-09-16T20:21:06.448000Z"
    }
   },
   "outputs": [],
   "source": [
    "# pipeline\n",
    "scaler = StandardScaler()\n",
    "model = KMeans(n_clusters=4)\n",
    "pipeline = make_pipeline(scaler, model)"
   ]
  },
  {
   "cell_type": "code",
   "execution_count": 163,
   "id": "2e732900",
   "metadata": {
    "ExecuteTime": {
     "end_time": "2021-09-16T20:21:06.905318Z",
     "start_time": "2021-09-16T20:21:06.880969Z"
    }
   },
   "outputs": [
    {
     "name": "stdout",
     "output_type": "stream",
     "text": [
      "species  Bream  Pike  Roach  Smelt\n",
      "labels                            \n",
      "0            0    17      0      0\n",
      "1           33     0      1      0\n",
      "2            0     0      0     13\n",
      "3            1     0     19      1\n"
     ]
    }
   ],
   "source": [
    "# Fit the pipeline to samples\n",
    "pipeline.fit(samples)\n",
    "\n",
    "# Calculate the cluster labels: labels\n",
    "labels = pipeline.predict(samples)\n",
    "\n",
    "# Create a DataFrame with labels and species as columns: df\n",
    "df = pd.DataFrame({\"labels\": labels, \"species\": species})\n",
    "\n",
    "# Create crosstab: ct\n",
    "ct = pd.crosstab(df.labels, df.species)\n",
    "\n",
    "# Display ct\n",
    "print(ct)"
   ]
  },
  {
   "cell_type": "markdown",
   "id": "0b831627",
   "metadata": {},
   "source": [
    "# Stocks"
   ]
  },
  {
   "cell_type": "markdown",
   "id": "3b47e9f3",
   "metadata": {},
   "source": [
    "## Data"
   ]
  },
  {
   "cell_type": "code",
   "execution_count": 332,
   "id": "b83b583b",
   "metadata": {
    "ExecuteTime": {
     "end_time": "2021-09-16T22:52:37.563456Z",
     "start_time": "2021-09-16T22:52:37.512466Z"
    }
   },
   "outputs": [],
   "source": [
    "df = pd.read_csv('datasets/company-stock-movements-2010-2015-incl.csv')"
   ]
  },
  {
   "cell_type": "code",
   "execution_count": 333,
   "id": "00a5658b",
   "metadata": {
    "ExecuteTime": {
     "end_time": "2021-09-16T22:52:37.715914Z",
     "start_time": "2021-09-16T22:52:37.698785Z"
    }
   },
   "outputs": [
    {
     "data": {
      "text/html": [
       "<div>\n",
       "<style scoped>\n",
       "    .dataframe tbody tr th:only-of-type {\n",
       "        vertical-align: middle;\n",
       "    }\n",
       "\n",
       "    .dataframe tbody tr th {\n",
       "        vertical-align: top;\n",
       "    }\n",
       "\n",
       "    .dataframe thead th {\n",
       "        text-align: right;\n",
       "    }\n",
       "</style>\n",
       "<table border=\"1\" class=\"dataframe\">\n",
       "  <thead>\n",
       "    <tr style=\"text-align: right;\">\n",
       "      <th></th>\n",
       "      <th>Unnamed: 0</th>\n",
       "      <th>2010-01-04</th>\n",
       "      <th>2010-01-05</th>\n",
       "      <th>2010-01-06</th>\n",
       "      <th>2010-01-07</th>\n",
       "      <th>2010-01-08</th>\n",
       "      <th>2010-01-11</th>\n",
       "      <th>2010-01-12</th>\n",
       "      <th>2010-01-13</th>\n",
       "      <th>2010-01-14</th>\n",
       "      <th>...</th>\n",
       "      <th>2013-10-16</th>\n",
       "      <th>2013-10-17</th>\n",
       "      <th>2013-10-18</th>\n",
       "      <th>2013-10-21</th>\n",
       "      <th>2013-10-22</th>\n",
       "      <th>2013-10-23</th>\n",
       "      <th>2013-10-24</th>\n",
       "      <th>2013-10-25</th>\n",
       "      <th>2013-10-28</th>\n",
       "      <th>2013-10-29</th>\n",
       "    </tr>\n",
       "  </thead>\n",
       "  <tbody>\n",
       "    <tr>\n",
       "      <th>55</th>\n",
       "      <td>Wells Fargo</td>\n",
       "      <td>0.300000</td>\n",
       "      <td>0.800000</td>\n",
       "      <td>0.080000</td>\n",
       "      <td>1.009998</td>\n",
       "      <td>-0.039999</td>\n",
       "      <td>-0.290001</td>\n",
       "      <td>-0.389999</td>\n",
       "      <td>0.590000</td>\n",
       "      <td>0.490000</td>\n",
       "      <td>...</td>\n",
       "      <td>0.299999</td>\n",
       "      <td>0.639999</td>\n",
       "      <td>-0.040001</td>\n",
       "      <td>-0.020000</td>\n",
       "      <td>0.189999</td>\n",
       "      <td>-0.150002</td>\n",
       "      <td>-0.240001</td>\n",
       "      <td>0.220002</td>\n",
       "      <td>0.000000</td>\n",
       "      <td>-0.049999</td>\n",
       "    </tr>\n",
       "    <tr>\n",
       "      <th>48</th>\n",
       "      <td>Toyota</td>\n",
       "      <td>0.330002</td>\n",
       "      <td>0.599999</td>\n",
       "      <td>0.489998</td>\n",
       "      <td>0.680000</td>\n",
       "      <td>1.260002</td>\n",
       "      <td>0.070000</td>\n",
       "      <td>0.070000</td>\n",
       "      <td>0.200004</td>\n",
       "      <td>1.410003</td>\n",
       "      <td>...</td>\n",
       "      <td>0.740005</td>\n",
       "      <td>0.650009</td>\n",
       "      <td>0.520004</td>\n",
       "      <td>0.010010</td>\n",
       "      <td>-1.819992</td>\n",
       "      <td>-0.009995</td>\n",
       "      <td>0.220001</td>\n",
       "      <td>-0.119996</td>\n",
       "      <td>-0.630005</td>\n",
       "      <td>0.449997</td>\n",
       "    </tr>\n",
       "    <tr>\n",
       "      <th>40</th>\n",
       "      <td>Procter Gamble</td>\n",
       "      <td>0.009998</td>\n",
       "      <td>0.009998</td>\n",
       "      <td>-0.090001</td>\n",
       "      <td>-0.060002</td>\n",
       "      <td>0.079998</td>\n",
       "      <td>0.119999</td>\n",
       "      <td>0.189998</td>\n",
       "      <td>0.479999</td>\n",
       "      <td>0.160004</td>\n",
       "      <td>...</td>\n",
       "      <td>0.989998</td>\n",
       "      <td>1.229996</td>\n",
       "      <td>0.020005</td>\n",
       "      <td>-0.299996</td>\n",
       "      <td>1.069999</td>\n",
       "      <td>0.570008</td>\n",
       "      <td>-0.159996</td>\n",
       "      <td>-0.550003</td>\n",
       "      <td>1.190002</td>\n",
       "      <td>1.000000</td>\n",
       "    </tr>\n",
       "    <tr>\n",
       "      <th>4</th>\n",
       "      <td>Boeing</td>\n",
       "      <td>0.459999</td>\n",
       "      <td>1.770000</td>\n",
       "      <td>1.549999</td>\n",
       "      <td>2.690003</td>\n",
       "      <td>0.059997</td>\n",
       "      <td>-1.080002</td>\n",
       "      <td>0.360000</td>\n",
       "      <td>0.549999</td>\n",
       "      <td>0.530002</td>\n",
       "      <td>...</td>\n",
       "      <td>1.559997</td>\n",
       "      <td>2.480003</td>\n",
       "      <td>0.019997</td>\n",
       "      <td>-1.220001</td>\n",
       "      <td>0.480003</td>\n",
       "      <td>3.020004</td>\n",
       "      <td>-0.029999</td>\n",
       "      <td>1.940002</td>\n",
       "      <td>1.130005</td>\n",
       "      <td>0.309998</td>\n",
       "    </tr>\n",
       "    <tr>\n",
       "      <th>23</th>\n",
       "      <td>IBM</td>\n",
       "      <td>1.270004</td>\n",
       "      <td>-0.829987</td>\n",
       "      <td>-0.679993</td>\n",
       "      <td>-0.319992</td>\n",
       "      <td>1.779999</td>\n",
       "      <td>-1.580002</td>\n",
       "      <td>1.479996</td>\n",
       "      <td>-0.160003</td>\n",
       "      <td>1.759995</td>\n",
       "      <td>...</td>\n",
       "      <td>1.309998</td>\n",
       "      <td>0.990006</td>\n",
       "      <td>-1.020004</td>\n",
       "      <td>-1.559997</td>\n",
       "      <td>1.619995</td>\n",
       "      <td>0.680008</td>\n",
       "      <td>1.370010</td>\n",
       "      <td>-1.579987</td>\n",
       "      <td>0.310013</td>\n",
       "      <td>4.500000</td>\n",
       "    </tr>\n",
       "    <tr>\n",
       "      <th>37</th>\n",
       "      <td>Novartis</td>\n",
       "      <td>-1.139999</td>\n",
       "      <td>-0.050000</td>\n",
       "      <td>-0.500000</td>\n",
       "      <td>0.029999</td>\n",
       "      <td>-0.079998</td>\n",
       "      <td>0.180000</td>\n",
       "      <td>0.360000</td>\n",
       "      <td>-0.020001</td>\n",
       "      <td>0.410000</td>\n",
       "      <td>...</td>\n",
       "      <td>0.450004</td>\n",
       "      <td>0.150002</td>\n",
       "      <td>0.479996</td>\n",
       "      <td>0.490005</td>\n",
       "      <td>1.010002</td>\n",
       "      <td>0.300003</td>\n",
       "      <td>-0.310006</td>\n",
       "      <td>-0.240006</td>\n",
       "      <td>0.050003</td>\n",
       "      <td>-0.239997</td>\n",
       "    </tr>\n",
       "    <tr>\n",
       "      <th>20</th>\n",
       "      <td>Home Depot</td>\n",
       "      <td>-0.480000</td>\n",
       "      <td>0.149999</td>\n",
       "      <td>-0.099998</td>\n",
       "      <td>0.260000</td>\n",
       "      <td>-0.020000</td>\n",
       "      <td>-0.840000</td>\n",
       "      <td>-0.170000</td>\n",
       "      <td>0.129999</td>\n",
       "      <td>0.179998</td>\n",
       "      <td>...</td>\n",
       "      <td>-0.500000</td>\n",
       "      <td>1.229996</td>\n",
       "      <td>-0.570000</td>\n",
       "      <td>0.020005</td>\n",
       "      <td>-0.180000</td>\n",
       "      <td>0.540001</td>\n",
       "      <td>1.360001</td>\n",
       "      <td>-0.300003</td>\n",
       "      <td>-0.090004</td>\n",
       "      <td>1.050003</td>\n",
       "    </tr>\n",
       "    <tr>\n",
       "      <th>45</th>\n",
       "      <td>Sony</td>\n",
       "      <td>0.500000</td>\n",
       "      <td>0.160000</td>\n",
       "      <td>-0.029999</td>\n",
       "      <td>0.059999</td>\n",
       "      <td>0.369999</td>\n",
       "      <td>-0.119999</td>\n",
       "      <td>0.100001</td>\n",
       "      <td>0.380001</td>\n",
       "      <td>0.140000</td>\n",
       "      <td>...</td>\n",
       "      <td>0.130001</td>\n",
       "      <td>0.280001</td>\n",
       "      <td>-0.260000</td>\n",
       "      <td>0.010000</td>\n",
       "      <td>0.020001</td>\n",
       "      <td>-0.149999</td>\n",
       "      <td>-0.060002</td>\n",
       "      <td>0.010000</td>\n",
       "      <td>0.010000</td>\n",
       "      <td>-0.030000</td>\n",
       "    </tr>\n",
       "    <tr>\n",
       "      <th>31</th>\n",
       "      <td>McDonalds</td>\n",
       "      <td>0.149998</td>\n",
       "      <td>-0.360001</td>\n",
       "      <td>-0.750000</td>\n",
       "      <td>0.650002</td>\n",
       "      <td>-0.430000</td>\n",
       "      <td>0.300000</td>\n",
       "      <td>0.630001</td>\n",
       "      <td>-0.270001</td>\n",
       "      <td>0.090001</td>\n",
       "      <td>...</td>\n",
       "      <td>0.919998</td>\n",
       "      <td>0.279999</td>\n",
       "      <td>-0.500000</td>\n",
       "      <td>0.889999</td>\n",
       "      <td>0.440003</td>\n",
       "      <td>-0.870003</td>\n",
       "      <td>0.269996</td>\n",
       "      <td>0.000000</td>\n",
       "      <td>0.680001</td>\n",
       "      <td>0.430000</td>\n",
       "    </tr>\n",
       "    <tr>\n",
       "      <th>22</th>\n",
       "      <td>HP</td>\n",
       "      <td>0.910002</td>\n",
       "      <td>0.530000</td>\n",
       "      <td>-0.349997</td>\n",
       "      <td>0.010000</td>\n",
       "      <td>0.489999</td>\n",
       "      <td>-0.149998</td>\n",
       "      <td>-0.060001</td>\n",
       "      <td>0.020001</td>\n",
       "      <td>0.279996</td>\n",
       "      <td>...</td>\n",
       "      <td>0.350001</td>\n",
       "      <td>0.259999</td>\n",
       "      <td>-0.050000</td>\n",
       "      <td>0.030001</td>\n",
       "      <td>0.470001</td>\n",
       "      <td>-0.079999</td>\n",
       "      <td>0.100000</td>\n",
       "      <td>-0.080002</td>\n",
       "      <td>-0.130000</td>\n",
       "      <td>-0.120002</td>\n",
       "    </tr>\n",
       "  </tbody>\n",
       "</table>\n",
       "<p>10 rows × 964 columns</p>\n",
       "</div>"
      ],
      "text/plain": [
       "        Unnamed: 0  2010-01-04  2010-01-05  2010-01-06  2010-01-07  \\\n",
       "55     Wells Fargo    0.300000    0.800000    0.080000    1.009998   \n",
       "48          Toyota    0.330002    0.599999    0.489998    0.680000   \n",
       "40  Procter Gamble    0.009998    0.009998   -0.090001   -0.060002   \n",
       "4           Boeing    0.459999    1.770000    1.549999    2.690003   \n",
       "23             IBM    1.270004   -0.829987   -0.679993   -0.319992   \n",
       "37        Novartis   -1.139999   -0.050000   -0.500000    0.029999   \n",
       "20      Home Depot   -0.480000    0.149999   -0.099998    0.260000   \n",
       "45            Sony    0.500000    0.160000   -0.029999    0.059999   \n",
       "31       McDonalds    0.149998   -0.360001   -0.750000    0.650002   \n",
       "22              HP    0.910002    0.530000   -0.349997    0.010000   \n",
       "\n",
       "    2010-01-08  2010-01-11  2010-01-12  2010-01-13  2010-01-14  ...  \\\n",
       "55   -0.039999   -0.290001   -0.389999    0.590000    0.490000  ...   \n",
       "48    1.260002    0.070000    0.070000    0.200004    1.410003  ...   \n",
       "40    0.079998    0.119999    0.189998    0.479999    0.160004  ...   \n",
       "4     0.059997   -1.080002    0.360000    0.549999    0.530002  ...   \n",
       "23    1.779999   -1.580002    1.479996   -0.160003    1.759995  ...   \n",
       "37   -0.079998    0.180000    0.360000   -0.020001    0.410000  ...   \n",
       "20   -0.020000   -0.840000   -0.170000    0.129999    0.179998  ...   \n",
       "45    0.369999   -0.119999    0.100001    0.380001    0.140000  ...   \n",
       "31   -0.430000    0.300000    0.630001   -0.270001    0.090001  ...   \n",
       "22    0.489999   -0.149998   -0.060001    0.020001    0.279996  ...   \n",
       "\n",
       "    2013-10-16  2013-10-17  2013-10-18  2013-10-21  2013-10-22  2013-10-23  \\\n",
       "55    0.299999    0.639999   -0.040001   -0.020000    0.189999   -0.150002   \n",
       "48    0.740005    0.650009    0.520004    0.010010   -1.819992   -0.009995   \n",
       "40    0.989998    1.229996    0.020005   -0.299996    1.069999    0.570008   \n",
       "4     1.559997    2.480003    0.019997   -1.220001    0.480003    3.020004   \n",
       "23    1.309998    0.990006   -1.020004   -1.559997    1.619995    0.680008   \n",
       "37    0.450004    0.150002    0.479996    0.490005    1.010002    0.300003   \n",
       "20   -0.500000    1.229996   -0.570000    0.020005   -0.180000    0.540001   \n",
       "45    0.130001    0.280001   -0.260000    0.010000    0.020001   -0.149999   \n",
       "31    0.919998    0.279999   -0.500000    0.889999    0.440003   -0.870003   \n",
       "22    0.350001    0.259999   -0.050000    0.030001    0.470001   -0.079999   \n",
       "\n",
       "    2013-10-24  2013-10-25  2013-10-28  2013-10-29  \n",
       "55   -0.240001    0.220002    0.000000   -0.049999  \n",
       "48    0.220001   -0.119996   -0.630005    0.449997  \n",
       "40   -0.159996   -0.550003    1.190002    1.000000  \n",
       "4    -0.029999    1.940002    1.130005    0.309998  \n",
       "23    1.370010   -1.579987    0.310013    4.500000  \n",
       "37   -0.310006   -0.240006    0.050003   -0.239997  \n",
       "20    1.360001   -0.300003   -0.090004    1.050003  \n",
       "45   -0.060002    0.010000    0.010000   -0.030000  \n",
       "31    0.269996    0.000000    0.680001    0.430000  \n",
       "22    0.100000   -0.080002   -0.130000   -0.120002  \n",
       "\n",
       "[10 rows x 964 columns]"
      ]
     },
     "execution_count": 333,
     "metadata": {},
     "output_type": "execute_result"
    }
   ],
   "source": [
    "df.sample(10)"
   ]
  },
  {
   "cell_type": "code",
   "execution_count": 334,
   "id": "14edb243",
   "metadata": {
    "ExecuteTime": {
     "end_time": "2021-09-16T22:52:38.112393Z",
     "start_time": "2021-09-16T22:52:38.109251Z"
    }
   },
   "outputs": [],
   "source": [
    "companies = df[\"Unnamed: 0\"].to_list()\n",
    "movements = df.drop(\"Unnamed: 0\", axis=1).to_numpy()"
   ]
  },
  {
   "cell_type": "markdown",
   "id": "6e06b810",
   "metadata": {},
   "source": [
    "## Normalize"
   ]
  },
  {
   "cell_type": "code",
   "execution_count": 335,
   "id": "a42b65d1",
   "metadata": {
    "ExecuteTime": {
     "end_time": "2021-09-16T22:52:38.555194Z",
     "start_time": "2021-09-16T22:52:38.472621Z"
    }
   },
   "outputs": [
    {
     "data": {
      "text/plain": [
       "Pipeline(steps=[('normalizer', Normalizer()),\n",
       "                ('kmeans', KMeans(n_clusters=10))])"
      ]
     },
     "execution_count": 335,
     "metadata": {},
     "output_type": "execute_result"
    }
   ],
   "source": [
    "# Create a normalizer: normalizer\n",
    "normalizer = Normalizer()\n",
    "\n",
    "# Create a KMeans model with 10 clusters: kmeans\n",
    "kmeans = KMeans(n_clusters=10)\n",
    "\n",
    "# Make a pipeline chaining normalizer and kmeans: pipeline\n",
    "pipeline = make_pipeline(normalizer, kmeans)\n",
    "\n",
    "# Fit pipeline to the daily price movements\n",
    "pipeline.fit(movements)"
   ]
  },
  {
   "cell_type": "code",
   "execution_count": 336,
   "id": "73392b4c",
   "metadata": {
    "ExecuteTime": {
     "end_time": "2021-09-16T22:52:39.529034Z",
     "start_time": "2021-09-16T22:52:39.513511Z"
    },
    "scrolled": true
   },
   "outputs": [
    {
     "name": "stdout",
     "output_type": "stream",
     "text": [
      "    labels                           companies\n",
      "59       0                               Yahoo\n",
      "15       0                                Ford\n",
      "35       0                            Navistar\n",
      "1        0                                 AIG\n",
      "57       1                               Exxon\n",
      "53       1                       Valero Energy\n",
      "44       1                        Schlumberger\n",
      "42       1                   Royal Dutch Shell\n",
      "8        1                         Caterpillar\n",
      "58       1                               Xerox\n",
      "10       1                      ConocoPhillips\n",
      "32       1                                  3M\n",
      "12       1                             Chevron\n",
      "13       1                   DuPont de Nemours\n",
      "31       1                           McDonalds\n",
      "16       1                   General Electrics\n",
      "2        1                              Amazon\n",
      "23       1                                 IBM\n",
      "36       2                    Northrop Grumman\n",
      "29       2                     Lookheed Martin\n",
      "4        2                              Boeing\n",
      "28       3                           Coca Cola\n",
      "38       3                               Pepsi\n",
      "45       4                                Sony\n",
      "21       4                               Honda\n",
      "48       4                              Toyota\n",
      "7        4                               Canon\n",
      "34       4                          Mitsubishi\n",
      "18       5                       Goldman Sachs\n",
      "3        5                    American express\n",
      "26       5                      JPMorgan Chase\n",
      "55       5                         Wells Fargo\n",
      "5        5                     Bank of America\n",
      "47       6                            Symantec\n",
      "51       6                   Texas instruments\n",
      "0        6                               Apple\n",
      "33       6                           Microsoft\n",
      "14       6                                Dell\n",
      "17       6                     Google/Alphabet\n",
      "24       6                               Intel\n",
      "22       6                                  HP\n",
      "11       6                               Cisco\n",
      "50       7  Taiwan Semiconductor Manufacturing\n",
      "49       7                               Total\n",
      "46       7                      Sanofi-Aventis\n",
      "52       7                            Unilever\n",
      "20       7                          Home Depot\n",
      "6        7            British American Tobacco\n",
      "19       7                     GlaxoSmithKline\n",
      "37       7                            Novartis\n",
      "30       7                          MasterCard\n",
      "25       7                   Johnson & Johnson\n",
      "43       7                                 SAP\n",
      "39       7                              Pfizer\n",
      "41       8                       Philip Morris\n",
      "40       8                      Procter Gamble\n",
      "9        8                   Colgate-Palmolive\n",
      "27       8                      Kimberly-Clark\n",
      "56       8                            Wal-Mart\n",
      "54       9                            Walgreen\n"
     ]
    }
   ],
   "source": [
    "# Predict the cluster labels: labels\n",
    "labels = pipeline.predict(movements)\n",
    "\n",
    "# Create a DataFrame aligning labels and companies: df\n",
    "df = pd.DataFrame({'labels': labels, 'companies': companies})\n",
    "\n",
    "# Display df sorted by cluster label\n",
    "print(df.sort_values(by=[\"labels\"]))"
   ]
  },
  {
   "cell_type": "markdown",
   "id": "e977382f",
   "metadata": {},
   "source": [
    "## Hierarchical Clustering"
   ]
  },
  {
   "cell_type": "code",
   "execution_count": 337,
   "id": "984525a9",
   "metadata": {
    "ExecuteTime": {
     "end_time": "2021-09-16T22:52:41.347908Z",
     "start_time": "2021-09-16T22:52:40.325681Z"
    }
   },
   "outputs": [
    {
     "data": {
      "image/png": "[encoded data removed]",
      "text/plain": [
       "<Figure size 1080x432 with 1 Axes>"
      ]
     },
     "metadata": {
      "needs_background": "light"
     },
     "output_type": "display_data"
    }
   ],
   "source": [
    "# Normalize the movements: normalized_movements\n",
    "normalized_movements = normalize(movements)\n",
    "\n",
    "# Calculate the linkage: mergings\n",
    "mergings = sp.cluster.hierarchy.linkage(normalized_movements,\n",
    "                                        method='complete')\n",
    "\n",
    "# Plot the dendrogram\n",
    "_ = sp.cluster.hierarchy.dendrogram(mergings,\n",
    "                                    labels=companies,\n",
    "                                    leaf_rotation=90,\n",
    "                                    leaf_font_size=6)"
   ]
  },
  {
   "cell_type": "code",
   "execution_count": 338,
   "id": "7a67b630",
   "metadata": {
    "ExecuteTime": {
     "end_time": "2021-09-16T22:52:42.080030Z",
     "start_time": "2021-09-16T22:52:41.411415Z"
    }
   },
   "outputs": [
    {
     "name": "stderr",
     "output_type": "stream",
     "text": [
      "/home/kcavagnolo/.pyenv/versions/3.8.0/lib/python3.8/site-packages/seaborn/matrix.py:649: UserWarning: Clustering large matrix with scipy. Installing `fastcluster` may give better performance.\n",
      "  warnings.warn(msg)\n"
     ]
    },
    {
     "data": {
      "text/plain": [
       "<seaborn.matrix.ClusterGrid at 0x7f6d857d4640>"
      ]
     },
     "execution_count": 338,
     "metadata": {},
     "output_type": "execute_result"
    },
    {
     "data": {
      "image/png": "[encoded data removed]",
      "text/plain": [
       "<Figure size 720x720 with 4 Axes>"
      ]
     },
     "metadata": {
      "needs_background": "light"
     },
     "output_type": "display_data"
    }
   ],
   "source": [
    "sns.clustermap(normalized_movements, standard_scale=1)"
   ]
  },
  {
   "cell_type": "markdown",
   "id": "8a76dd90",
   "metadata": {},
   "source": [
    "## t-SNE"
   ]
  },
  {
   "cell_type": "code",
   "execution_count": 350,
   "id": "170ba467",
   "metadata": {
    "ExecuteTime": {
     "end_time": "2021-09-16T22:55:57.330801Z",
     "start_time": "2021-09-16T22:55:56.509193Z"
    }
   },
   "outputs": [
    {
     "data": {
      "image/png": "[encoded data removed]",
      "text/plain": [
       "<Figure size 1080x1080 with 1 Axes>"
      ]
     },
     "metadata": {
      "needs_background": "light"
     },
     "output_type": "display_data"
    }
   ],
   "source": [
    "# Create a TSNE instance: model\n",
    "model = TSNE(learning_rate=50)\n",
    "\n",
    "# Apply fit_transform to normalized_movements: tsne_features\n",
    "tsne_features = model.fit_transform(normalized_movements)\n",
    "\n",
    "# Select the 0th feature: xs\n",
    "xs = tsne_features[:, 0]\n",
    "\n",
    "# Select the 1th feature: ys\n",
    "ys = tsne_features[:, 1]\n",
    "\n",
    "# Scatter plot\n",
    "fig, ax = plt.subplots(figsize=(15, 15))\n",
    "plt.scatter(xs, ys, c=labels)\n",
    "\n",
    "# Annotate the points\n",
    "for x, y, company in zip(xs, ys, companies):\n",
    "    plt.annotate(company, (x, y), fontsize=10, alpha=0.75)"
   ]
  },
  {
   "cell_type": "markdown",
   "id": "c47f1253",
   "metadata": {},
   "source": [
    "# Eurovision"
   ]
  },
  {
   "cell_type": "markdown",
   "id": "6a0aee21",
   "metadata": {},
   "source": [
    "## Data"
   ]
  },
  {
   "cell_type": "code",
   "execution_count": 276,
   "id": "214641cf",
   "metadata": {
    "ExecuteTime": {
     "end_time": "2021-09-16T22:19:58.882588Z",
     "start_time": "2021-09-16T22:19:58.874746Z"
    }
   },
   "outputs": [],
   "source": [
    "df = pd.read_csv('datasets/eurovision-2016.csv')"
   ]
  },
  {
   "cell_type": "code",
   "execution_count": 277,
   "id": "4137ffb7",
   "metadata": {
    "ExecuteTime": {
     "end_time": "2021-09-16T22:19:59.070974Z",
     "start_time": "2021-09-16T22:19:59.059705Z"
    }
   },
   "outputs": [
    {
     "data": {
      "text/html": [
       "<div>\n",
       "<style scoped>\n",
       "    .dataframe tbody tr th:only-of-type {\n",
       "        vertical-align: middle;\n",
       "    }\n",
       "\n",
       "    .dataframe tbody tr th {\n",
       "        vertical-align: top;\n",
       "    }\n",
       "\n",
       "    .dataframe thead th {\n",
       "        text-align: right;\n",
       "    }\n",
       "</style>\n",
       "<table border=\"1\" class=\"dataframe\">\n",
       "  <thead>\n",
       "    <tr style=\"text-align: right;\">\n",
       "      <th></th>\n",
       "      <th>From country</th>\n",
       "      <th>To country</th>\n",
       "      <th>Jury A</th>\n",
       "      <th>Jury B</th>\n",
       "      <th>Jury C</th>\n",
       "      <th>Jury D</th>\n",
       "      <th>Jury E</th>\n",
       "      <th>Jury Rank</th>\n",
       "      <th>Televote Rank</th>\n",
       "      <th>Jury Points</th>\n",
       "      <th>Televote Points</th>\n",
       "    </tr>\n",
       "  </thead>\n",
       "  <tbody>\n",
       "    <tr>\n",
       "      <th>0</th>\n",
       "      <td>Albania</td>\n",
       "      <td>Belgium</td>\n",
       "      <td>20</td>\n",
       "      <td>16</td>\n",
       "      <td>24</td>\n",
       "      <td>22</td>\n",
       "      <td>24</td>\n",
       "      <td>25</td>\n",
       "      <td>14</td>\n",
       "      <td>NaN</td>\n",
       "      <td>NaN</td>\n",
       "    </tr>\n",
       "    <tr>\n",
       "      <th>1</th>\n",
       "      <td>Albania</td>\n",
       "      <td>Czech Republic</td>\n",
       "      <td>21</td>\n",
       "      <td>15</td>\n",
       "      <td>25</td>\n",
       "      <td>23</td>\n",
       "      <td>16</td>\n",
       "      <td>22</td>\n",
       "      <td>22</td>\n",
       "      <td>NaN</td>\n",
       "      <td>NaN</td>\n",
       "    </tr>\n",
       "    <tr>\n",
       "      <th>2</th>\n",
       "      <td>Albania</td>\n",
       "      <td>The Netherlands</td>\n",
       "      <td>22</td>\n",
       "      <td>14</td>\n",
       "      <td>23</td>\n",
       "      <td>24</td>\n",
       "      <td>21</td>\n",
       "      <td>24</td>\n",
       "      <td>24</td>\n",
       "      <td>NaN</td>\n",
       "      <td>NaN</td>\n",
       "    </tr>\n",
       "    <tr>\n",
       "      <th>3</th>\n",
       "      <td>Albania</td>\n",
       "      <td>Azerbaijan</td>\n",
       "      <td>19</td>\n",
       "      <td>12</td>\n",
       "      <td>11</td>\n",
       "      <td>21</td>\n",
       "      <td>11</td>\n",
       "      <td>13</td>\n",
       "      <td>19</td>\n",
       "      <td>NaN</td>\n",
       "      <td>NaN</td>\n",
       "    </tr>\n",
       "    <tr>\n",
       "      <th>4</th>\n",
       "      <td>Albania</td>\n",
       "      <td>Hungary</td>\n",
       "      <td>8</td>\n",
       "      <td>13</td>\n",
       "      <td>9</td>\n",
       "      <td>14</td>\n",
       "      <td>9</td>\n",
       "      <td>10</td>\n",
       "      <td>10</td>\n",
       "      <td>1.0</td>\n",
       "      <td>1.0</td>\n",
       "    </tr>\n",
       "    <tr>\n",
       "      <th>5</th>\n",
       "      <td>Albania</td>\n",
       "      <td>Italy</td>\n",
       "      <td>4</td>\n",
       "      <td>10</td>\n",
       "      <td>3</td>\n",
       "      <td>7</td>\n",
       "      <td>2</td>\n",
       "      <td>3</td>\n",
       "      <td>2</td>\n",
       "      <td>8.0</td>\n",
       "      <td>10.0</td>\n",
       "    </tr>\n",
       "    <tr>\n",
       "      <th>6</th>\n",
       "      <td>Albania</td>\n",
       "      <td>Israel</td>\n",
       "      <td>10</td>\n",
       "      <td>2</td>\n",
       "      <td>18</td>\n",
       "      <td>4</td>\n",
       "      <td>12</td>\n",
       "      <td>8</td>\n",
       "      <td>17</td>\n",
       "      <td>3.0</td>\n",
       "      <td>NaN</td>\n",
       "    </tr>\n",
       "    <tr>\n",
       "      <th>7</th>\n",
       "      <td>Albania</td>\n",
       "      <td>Bulgaria</td>\n",
       "      <td>11</td>\n",
       "      <td>3</td>\n",
       "      <td>6</td>\n",
       "      <td>13</td>\n",
       "      <td>6</td>\n",
       "      <td>7</td>\n",
       "      <td>3</td>\n",
       "      <td>4.0</td>\n",
       "      <td>8.0</td>\n",
       "    </tr>\n",
       "    <tr>\n",
       "      <th>8</th>\n",
       "      <td>Albania</td>\n",
       "      <td>Sweden</td>\n",
       "      <td>16</td>\n",
       "      <td>8</td>\n",
       "      <td>15</td>\n",
       "      <td>6</td>\n",
       "      <td>15</td>\n",
       "      <td>11</td>\n",
       "      <td>8</td>\n",
       "      <td>NaN</td>\n",
       "      <td>3.0</td>\n",
       "    </tr>\n",
       "    <tr>\n",
       "      <th>9</th>\n",
       "      <td>Albania</td>\n",
       "      <td>Germany</td>\n",
       "      <td>18</td>\n",
       "      <td>17</td>\n",
       "      <td>20</td>\n",
       "      <td>11</td>\n",
       "      <td>17</td>\n",
       "      <td>18</td>\n",
       "      <td>15</td>\n",
       "      <td>NaN</td>\n",
       "      <td>NaN</td>\n",
       "    </tr>\n",
       "  </tbody>\n",
       "</table>\n",
       "</div>"
      ],
      "text/plain": [
       "  From country       To country  Jury A  Jury B  Jury C  Jury D  Jury E  \\\n",
       "0      Albania          Belgium      20      16      24      22      24   \n",
       "1      Albania   Czech Republic      21      15      25      23      16   \n",
       "2      Albania  The Netherlands      22      14      23      24      21   \n",
       "3      Albania       Azerbaijan      19      12      11      21      11   \n",
       "4      Albania          Hungary       8      13       9      14       9   \n",
       "5      Albania            Italy       4      10       3       7       2   \n",
       "6      Albania           Israel      10       2      18       4      12   \n",
       "7      Albania         Bulgaria      11       3       6      13       6   \n",
       "8      Albania           Sweden      16       8      15       6      15   \n",
       "9      Albania          Germany      18      17      20      11      17   \n",
       "\n",
       "   Jury Rank  Televote Rank  Jury Points  Televote Points  \n",
       "0         25             14          NaN              NaN  \n",
       "1         22             22          NaN              NaN  \n",
       "2         24             24          NaN              NaN  \n",
       "3         13             19          NaN              NaN  \n",
       "4         10             10          1.0              1.0  \n",
       "5          3              2          8.0             10.0  \n",
       "6          8             17          3.0              NaN  \n",
       "7          7              3          4.0              8.0  \n",
       "8         11              8          NaN              3.0  \n",
       "9         18             15          NaN              NaN  "
      ]
     },
     "execution_count": 277,
     "metadata": {},
     "output_type": "execute_result"
    }
   ],
   "source": [
    "df.head(10)"
   ]
  },
  {
   "cell_type": "code",
   "execution_count": 278,
   "id": "fca583a7",
   "metadata": {
    "ExecuteTime": {
     "end_time": "2021-09-16T22:20:00.428485Z",
     "start_time": "2021-09-16T22:20:00.425526Z"
    }
   },
   "outputs": [],
   "source": [
    "df.columns = [x.lower().replace(\" \",\"_\") for x in df.columns]\n",
    "df.fillna(0, inplace=True)"
   ]
  },
  {
   "cell_type": "code",
   "execution_count": 279,
   "id": "5b0d5c58",
   "metadata": {
    "ExecuteTime": {
     "end_time": "2021-09-16T22:20:00.813577Z",
     "start_time": "2021-09-16T22:20:00.803003Z"
    }
   },
   "outputs": [
    {
     "data": {
      "text/html": [
       "<div>\n",
       "<style scoped>\n",
       "    .dataframe tbody tr th:only-of-type {\n",
       "        vertical-align: middle;\n",
       "    }\n",
       "\n",
       "    .dataframe tbody tr th {\n",
       "        vertical-align: top;\n",
       "    }\n",
       "\n",
       "    .dataframe thead th {\n",
       "        text-align: right;\n",
       "    }\n",
       "</style>\n",
       "<table border=\"1\" class=\"dataframe\">\n",
       "  <thead>\n",
       "    <tr style=\"text-align: right;\">\n",
       "      <th></th>\n",
       "      <th>from_country</th>\n",
       "      <th>to_country</th>\n",
       "      <th>jury_a</th>\n",
       "      <th>jury_b</th>\n",
       "      <th>jury_c</th>\n",
       "      <th>jury_d</th>\n",
       "      <th>jury_e</th>\n",
       "      <th>jury_rank</th>\n",
       "      <th>televote_rank</th>\n",
       "      <th>jury_points</th>\n",
       "      <th>televote_points</th>\n",
       "    </tr>\n",
       "  </thead>\n",
       "  <tbody>\n",
       "    <tr>\n",
       "      <th>0</th>\n",
       "      <td>Albania</td>\n",
       "      <td>Belgium</td>\n",
       "      <td>20</td>\n",
       "      <td>16</td>\n",
       "      <td>24</td>\n",
       "      <td>22</td>\n",
       "      <td>24</td>\n",
       "      <td>25</td>\n",
       "      <td>14</td>\n",
       "      <td>0.0</td>\n",
       "      <td>0.0</td>\n",
       "    </tr>\n",
       "    <tr>\n",
       "      <th>1</th>\n",
       "      <td>Albania</td>\n",
       "      <td>Czech Republic</td>\n",
       "      <td>21</td>\n",
       "      <td>15</td>\n",
       "      <td>25</td>\n",
       "      <td>23</td>\n",
       "      <td>16</td>\n",
       "      <td>22</td>\n",
       "      <td>22</td>\n",
       "      <td>0.0</td>\n",
       "      <td>0.0</td>\n",
       "    </tr>\n",
       "    <tr>\n",
       "      <th>2</th>\n",
       "      <td>Albania</td>\n",
       "      <td>The Netherlands</td>\n",
       "      <td>22</td>\n",
       "      <td>14</td>\n",
       "      <td>23</td>\n",
       "      <td>24</td>\n",
       "      <td>21</td>\n",
       "      <td>24</td>\n",
       "      <td>24</td>\n",
       "      <td>0.0</td>\n",
       "      <td>0.0</td>\n",
       "    </tr>\n",
       "    <tr>\n",
       "      <th>3</th>\n",
       "      <td>Albania</td>\n",
       "      <td>Azerbaijan</td>\n",
       "      <td>19</td>\n",
       "      <td>12</td>\n",
       "      <td>11</td>\n",
       "      <td>21</td>\n",
       "      <td>11</td>\n",
       "      <td>13</td>\n",
       "      <td>19</td>\n",
       "      <td>0.0</td>\n",
       "      <td>0.0</td>\n",
       "    </tr>\n",
       "    <tr>\n",
       "      <th>4</th>\n",
       "      <td>Albania</td>\n",
       "      <td>Hungary</td>\n",
       "      <td>8</td>\n",
       "      <td>13</td>\n",
       "      <td>9</td>\n",
       "      <td>14</td>\n",
       "      <td>9</td>\n",
       "      <td>10</td>\n",
       "      <td>10</td>\n",
       "      <td>1.0</td>\n",
       "      <td>1.0</td>\n",
       "    </tr>\n",
       "  </tbody>\n",
       "</table>\n",
       "</div>"
      ],
      "text/plain": [
       "  from_country       to_country  jury_a  jury_b  jury_c  jury_d  jury_e  \\\n",
       "0      Albania          Belgium      20      16      24      22      24   \n",
       "1      Albania   Czech Republic      21      15      25      23      16   \n",
       "2      Albania  The Netherlands      22      14      23      24      21   \n",
       "3      Albania       Azerbaijan      19      12      11      21      11   \n",
       "4      Albania          Hungary       8      13       9      14       9   \n",
       "\n",
       "   jury_rank  televote_rank  jury_points  televote_points  \n",
       "0         25             14          0.0              0.0  \n",
       "1         22             22          0.0              0.0  \n",
       "2         24             24          0.0              0.0  \n",
       "3         13             19          0.0              0.0  \n",
       "4         10             10          1.0              1.0  "
      ]
     },
     "execution_count": 279,
     "metadata": {},
     "output_type": "execute_result"
    }
   ],
   "source": [
    "df.head()"
   ]
  },
  {
   "cell_type": "code",
   "execution_count": 286,
   "id": "89846df1",
   "metadata": {
    "ExecuteTime": {
     "end_time": "2021-09-16T22:23:36.487429Z",
     "start_time": "2021-09-16T22:23:36.469814Z"
    }
   },
   "outputs": [],
   "source": [
    "# reconstructing the samples used in DC tutorial\n",
    "samples = df.pivot_table(index=\"from_country\",\n",
    "                         columns=\"to_country\",\n",
    "                         values=\"televote_points\").fillna(\n",
    "                             max(df.televote_points)).to_numpy()"
   ]
  },
  {
   "cell_type": "code",
   "execution_count": 287,
   "id": "20dfbaa7",
   "metadata": {
    "ExecuteTime": {
     "end_time": "2021-09-16T22:23:36.695437Z",
     "start_time": "2021-09-16T22:23:36.692936Z"
    }
   },
   "outputs": [],
   "source": [
    "country_names = df.from_country.unique()"
   ]
  },
  {
   "cell_type": "markdown",
   "id": "16449ae3",
   "metadata": {},
   "source": [
    "## Hierarchical Clustering"
   ]
  },
  {
   "cell_type": "code",
   "execution_count": 289,
   "id": "74058ca2",
   "metadata": {
    "ExecuteTime": {
     "end_time": "2021-09-16T22:23:54.267680Z",
     "start_time": "2021-09-16T22:23:53.901585Z"
    }
   },
   "outputs": [
    {
     "name": "stderr",
     "output_type": "stream",
     "text": [
      "WARNING:matplotlib.font_manager:findfont: Font family ['sans-serif'] not found. Falling back to DejaVu Sans.\n",
      "WARNING:matplotlib.font_manager:findfont: Generic family 'sans-serif' not found because none of the following families were found: Open Sans\n"
     ]
    },
    {
     "data": {
      "image/png": "[encoded data removed]",
      "text/plain": [
       "<Figure size 1080x432 with 1 Axes>"
      ]
     },
     "metadata": {
      "needs_background": "light"
     },
     "output_type": "display_data"
    }
   ],
   "source": [
    "# Calculate the linkage: mergings\n",
    "mergings = sp.cluster.hierarchy.linkage(samples, method='single')\n",
    "\n",
    "# Plot the dendrogram\n",
    "sp.cluster.hierarchy.dendrogram(mergings, labels=country_names, leaf_rotation=90)\n",
    "plt.show()"
   ]
  }
 ],
 "metadata": {
  "kernelspec": {
   "display_name": "Python 3 (ipykernel)",
   "language": "python",
   "name": "python3"
  },
  "language_info": {
   "codemirror_mode": {
    "name": "ipython",
    "version": 3
   },
   "file_extension": ".py",
   "mimetype": "text/x-python",
   "name": "python",
   "nbconvert_exporter": "python",
   "pygments_lexer": "ipython3",
   "version": "3.8.0"
  },
  "toc": {
   "base_numbering": 1,
   "nav_menu": {},
   "number_sections": true,
   "sideBar": true,
   "skip_h1_title": false,
   "title_cell": "Table of Contents",
   "title_sidebar": "Contents",
   "toc_cell": false,
   "toc_position": {},
   "toc_section_display": true,
   "toc_window_display": true
  },
  "varInspector": {
   "cols": {
    "lenName": 16,
    "lenType": 16,
    "lenVar": 40
   },
   "kernels_config": {
    "python": {
     "delete_cmd_postfix": "",
     "delete_cmd_prefix": "del ",
     "library": "var_list.py",
     "varRefreshCmd": "print(var_dic_list())"
    },
    "r": {
     "delete_cmd_postfix": ") ",
     "delete_cmd_prefix": "rm(",
     "library": "var_list.r",
     "varRefreshCmd": "cat(var_dic_list()) "
    }
   },
   "types_to_exclude": [
    "module",
    "function",
    "builtin_function_or_method",
    "instance",
    "_Feature"
   ],
   "window_display": false
  }
 },
 "nbformat": 4,
 "nbformat_minor": 5
}
