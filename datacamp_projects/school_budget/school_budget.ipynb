{
 "cells": [
  {
   "cell_type": "markdown",
   "id": "60017afb",
   "metadata": {
    "heading_collapsed": true
   },
   "source": [
    "# Imports"
   ]
  },
  {
   "cell_type": "code",
   "execution_count": 1,
   "id": "14bee72d",
   "metadata": {
    "ExecuteTime": {
     "end_time": "2021-09-30T23:59:51.998212Z",
     "start_time": "2021-09-30T23:59:51.995409Z"
    },
    "hidden": true
   },
   "outputs": [],
   "source": [
    "import datetime\n",
    "import glob\n",
    "import itertools\n",
    "import json\n",
    "import os\n",
    "import pickle\n",
    "import random\n",
    "import re\n",
    "from string import punctuation"
   ]
  },
  {
   "cell_type": "code",
   "execution_count": 2,
   "id": "b0d99bff",
   "metadata": {
    "ExecuteTime": {
     "end_time": "2021-09-30T23:59:53.325481Z",
     "start_time": "2021-09-30T23:59:51.999432Z"
    },
    "hidden": true
   },
   "outputs": [],
   "source": [
    "import statistics\n",
    "\n",
    "import fuzzywuzzy\n",
    "import geopandas as gpd\n",
    "import humanize\n",
    "import janitor\n",
    "import missingno as msno\n",
    "import numpy as np\n",
    "import pandas as pd\n",
    "import recordlinkage\n",
    "import scipy as sp\n",
    "import statsmodels.formula.api as smf\n",
    "from pandas_profiling import ProfileReport"
   ]
  },
  {
   "cell_type": "code",
   "execution_count": 3,
   "id": "cd0ede1f",
   "metadata": {
    "ExecuteTime": {
     "end_time": "2021-09-30T23:59:53.566672Z",
     "start_time": "2021-09-30T23:59:53.327113Z"
    },
    "hidden": true
   },
   "outputs": [],
   "source": [
    "SMALL_SIZE = 10\n",
    "MEDIUM_SIZE = 14\n",
    "BIGGER_SIZE = 18\n",
    "MAPBOX_STYLE = \"dark\"\n",
    "MAPBOX_HEIGHT = 800\n",
    "%matplotlib inline\n",
    "import seaborn as sns\n",
    "import matplotlib as mpl\n",
    "import matplotlib.font_manager\n",
    "import matplotlib.pyplot as plt\n",
    "import plotly.express as px\n",
    "import plotly.graph_objects as go\n",
    "from matplotlib.ticker import PercentFormatter\n",
    "px.set_mapbox_access_token(os.getenv(\"MAPBOX_TOKEN\"))\n",
    "matplotlib.font_manager.findSystemFonts(fontpaths=None, fontext=\"ttf\")\n",
    "plt.style.use(\"seaborn-colorblind\")\n",
    "plt.rcParams[\"font.family\"] = \"sans-serif\"\n",
    "plt.rcParams[\"font.sans-serif\"] = \"Open Sans\"\n",
    "plt.rcParams[\"figure.figsize\"] = 15, 6\n",
    "plt.rc('font', size=SMALL_SIZE)          # controls default text sizes\n",
    "plt.rc('axes', titlesize=SMALL_SIZE)     # fontsize of the axes title\n",
    "plt.rc('axes', labelsize=MEDIUM_SIZE)    # fontsize of the x and y labels\n",
    "plt.rc('xtick', labelsize=SMALL_SIZE)    # fontsize of the tick labels\n",
    "plt.rc('ytick', labelsize=SMALL_SIZE)    # fontsize of the tick labels\n",
    "plt.rc('legend', fontsize=SMALL_SIZE)    # legend fontsize\n",
    "plt.rc('figure', titlesize=BIGGER_SIZE)  # fontsize of the figure title"
   ]
  },
  {
   "cell_type": "code",
   "execution_count": 4,
   "id": "973196f0",
   "metadata": {
    "ExecuteTime": {
     "end_time": "2021-09-30T23:59:53.585622Z",
     "start_time": "2021-09-30T23:59:53.567719Z"
    },
    "hidden": true
   },
   "outputs": [],
   "source": [
    "from mlxtend.plotting import plot_decision_regions\n",
    "from sklearn import __version__ as sklearn_version\n",
    "from sklearn.cluster import KMeans\n",
    "from sklearn.decomposition import NMF, PCA\n",
    "from sklearn.dummy import DummyRegressor\n",
    "from sklearn.ensemble import (AdaBoostClassifier, BaggingClassifier, GradientBoostingClassifier,\n",
    "                              GradientBoostingRegressor, RandomForestClassifier, RandomForestRegressor,\n",
    "                              VotingClassifier)\n",
    "from sklearn.feature_selection import SelectKBest, f_regression\n",
    "from sklearn.impute import SimpleImputer\n",
    "from sklearn.linear_model import LinearRegression, LogisticRegression\n",
    "from sklearn.manifold import TSNE\n",
    "from sklearn.metrics import (accuracy_score, average_precision_score, classification_report,\n",
    "                             confusion_matrix, mean_absolute_error,\n",
    "                             mean_squared_error, plot_precision_recall_curve,\n",
    "                             precision_recall_curve, r2_score, roc_auc_score,\n",
    "                             roc_curve)\n",
    "from sklearn.model_selection import (GridSearchCV, KFold, cross_val_score,\n",
    "                                     cross_validate, learning_curve,\n",
    "                                     train_test_split)\n",
    "from sklearn.neighbors import KNeighborsClassifier\n",
    "from sklearn.pipeline import Pipeline, make_pipeline\n",
    "from sklearn.preprocessing import (LabelEncoder, MaxAbsScaler, MinMaxScaler, Normalizer,\n",
    "                                   StandardScaler, normalize, scale)\n",
    "from sklearn.tree import DecisionTreeClassifier, DecisionTreeRegressor"
   ]
  },
  {
   "cell_type": "code",
   "execution_count": 5,
   "id": "b3cc0f2d",
   "metadata": {
    "ExecuteTime": {
     "end_time": "2021-09-30T23:59:53.696809Z",
     "start_time": "2021-09-30T23:59:53.586398Z"
    },
    "hidden": true
   },
   "outputs": [
    {
     "name": "stdout",
     "output_type": "stream",
     "text": [
      "Author: Ken Cavagnolo\n",
      "\n",
      "Last updated: Thu Sep 30 2021\n",
      "\n",
      "Python implementation: CPython\n",
      "Python version       : 3.8.0\n",
      "IPython version      : 7.25.0\n",
      "\n",
      "jupyter : 1.0.0\n",
      "notebook: 6.4.0\n",
      "pandas  : 1.3.0\n",
      "numpy   : 1.19.5\n",
      "scipy   : 1.7.0\n",
      "\n",
      "Compiler    : GCC 10.3.0\n",
      "OS          : Linux\n",
      "Release     : 5.13.0-7614-generic\n",
      "Machine     : x86_64\n",
      "Processor   : x86_64\n",
      "CPU cores   : 12\n",
      "Architecture: 64bit\n",
      "\n",
      "Hostname: goldfinch\n",
      "\n",
      "Git hash: 3a34f6ef9528de3af72bc8af0d57f8331fdf589b\n",
      "\n"
     ]
    }
   ],
   "source": [
    "import joblib\n",
    "import requests\n",
    "from dotenv import load_dotenv\n",
    "load_dotenv()\n",
    "APIKEY = os.getenv(\"SOME_KEY\")\n",
    "%reload_ext watermark\n",
    "%watermark -a 'Ken Cavagnolo' -n -u -v -m -h -g -p jupyter,notebook,pandas,numpy,scipy"
   ]
  },
  {
   "cell_type": "markdown",
   "id": "ee2d34f4",
   "metadata": {
    "heading_collapsed": true
   },
   "source": [
    "# GPU Check"
   ]
  },
  {
   "cell_type": "code",
   "execution_count": 6,
   "id": "9629d10e",
   "metadata": {
    "ExecuteTime": {
     "end_time": "2021-09-30T23:59:57.334062Z",
     "start_time": "2021-09-30T23:59:53.697984Z"
    },
    "hidden": true
   },
   "outputs": [
    {
     "name": "stderr",
     "output_type": "stream",
     "text": [
      "2021-09-30 16:59:56.020611: I tensorflow/core/platform/cpu_feature_guard.cc:142] This TensorFlow binary is optimized with oneAPI Deep Neural Network Library (oneDNN) to use the following CPU instructions in performance-critical operations:  AVX2 FMA\n",
      "To enable them in other operations, rebuild TensorFlow with the appropriate compiler flags.\n",
      "2021-09-30 16:59:56.680784: I tensorflow/core/common_runtime/gpu/gpu_device.cc:1510] Created device /job:localhost/replica:0/task:0/device:GPU:0 with 2397 MB memory:  -> device: 0, name: NVIDIA GeForce GTX 1660 Ti, pci bus id: 0000:07:00.0, compute capability: 7.5\n"
     ]
    },
    {
     "name": "stdout",
     "output_type": "stream",
     "text": [
      "--------------------\n",
      "<<< Testing Tensorflow >>>\n",
      "<<< Version:  2.6.0\n",
      "<<< Eager mode:  True\n",
      "<<< Hub version:  0.12.0\n",
      "<<< GPU is available\n",
      "<<< Code check...\n",
      "Hello, TensorFlow!\n",
      "[[22 28]\n",
      " [49 64]]\n",
      "--------------------\n",
      "--------------------\n",
      "<<< Testing Torch >>>\n",
      "<<< Version: 1.9.0+cu102\n",
      "<<< GPU is available\n",
      "<<< CUDA is available\n",
      "<<< Code check...\n",
      "tensor([[0.1308, 0.6518, 0.8631],\n",
      "        [0.5766, 0.3691, 0.9857],\n",
      "        [0.7482, 0.4292, 0.9746],\n",
      "        [0.8863, 0.4579, 0.3413],\n",
      "        [0.9111, 0.9163, 0.9647]])\n",
      "--------------------\n"
     ]
    },
    {
     "name": "stderr",
     "output_type": "stream",
     "text": [
      "2021-09-30 16:59:57.290356: I tensorflow/core/common_runtime/gpu/gpu_device.cc:1510] Created device /device:GPU:0 with 2397 MB memory:  -> device: 0, name: NVIDIA GeForce GTX 1660 Ti, pci bus id: 0000:07:00.0, compute capability: 7.5\n"
     ]
    }
   ],
   "source": [
    "import tensorflow as tf\n",
    "import tensorflow_hub as hub\n",
    "import torch\n",
    "from tensorflow.python.client import device_lib\n",
    "\n",
    "hello = tf.constant(\"Hello, TensorFlow!\")\n",
    "with tf.device(\"/gpu:0\"):\n",
    "    a = tf.constant([1.0, 2.0, 3.0, 4.0, 5.0, 6.0], shape=[2, 3], name=\"a\")\n",
    "    b = tf.constant([1.0, 2.0, 3.0, 4.0, 5.0, 6.0], shape=[3, 2], name=\"b\")\n",
    "    c = tf.matmul(a, b)\n",
    "print(\"-\" * 20)\n",
    "print(\"<<< Testing Tensorflow >>>\")\n",
    "print(\"<<< Version: \", tf.__version__)\n",
    "print(\"<<< Eager mode: \", tf.executing_eagerly())\n",
    "print(\"<<< Hub version: \", hub.__version__)\n",
    "print(\n",
    "    \"<<< GPU is\",\n",
    "    \"available\" if tf.config.list_physical_devices(\"GPU\") else \"NOT AVAILABLE\",\n",
    ")\n",
    "print(\"<<< Code check...\")\n",
    "tf.print(hello)\n",
    "tf.print(c)\n",
    "print(\"-\" * 20)\n",
    "\n",
    "# torch\n",
    "print(\"-\" * 20)\n",
    "print(\"<<< Testing Torch >>>\")\n",
    "print(f\"<<< Version: {torch.__version__}\")\n",
    "print(\n",
    "    \"<<< GPU is\",\n",
    "    \"available\"\n",
    "    if any(\"GPU\" in d.name for d in device_lib.list_local_devices())\n",
    "    else \"NOT AVAILABLE\",\n",
    ")\n",
    "print(\"<<< CUDA is\", \"available\" if torch.cuda.is_available() else \"NOT AVAILABLE\")\n",
    "print(\"<<< Code check...\")\n",
    "x = torch.rand(5, 3)\n",
    "print(x)\n",
    "print(\"-\" * 20)\n"
   ]
  },
  {
   "cell_type": "markdown",
   "id": "2d59d3dd",
   "metadata": {
    "heading_collapsed": true
   },
   "source": [
    "# Functions"
   ]
  },
  {
   "cell_type": "code",
   "execution_count": 7,
   "id": "030168d4",
   "metadata": {
    "ExecuteTime": {
     "end_time": "2021-09-30T23:59:57.342014Z",
     "start_time": "2021-09-30T23:59:57.335021Z"
    },
    "hidden": true
   },
   "outputs": [],
   "source": [
    "def multilabel_sample(y, size=1000, min_count=5, seed=None):\n",
    "    \"\"\" Takes a matrix of binary labels `y` and returns\n",
    "        the indices for a sample of size `size` if\n",
    "        `size` > 1 or `size` * len(y) if size =< 1.\n",
    "\n",
    "        The sample is guaranteed to have > `min_count` of\n",
    "        each label.\n",
    "    \"\"\"\n",
    "    try:\n",
    "        if (np.unique(y).astype(int) != np.array([0, 1])).any():\n",
    "            raise ValueError()\n",
    "    except (TypeError, ValueError):\n",
    "        raise ValueError(\n",
    "            'multilabel_sample only works with binary indicator matrices')\n",
    "\n",
    "    if (y.sum(axis=0) < min_count).any():\n",
    "        raise ValueError(\n",
    "            'Some classes do not have enough examples. Change min_count if necessary.'\n",
    "        )\n",
    "\n",
    "    if size <= 1:\n",
    "        size = np.floor(y.shape[0] * size)\n",
    "\n",
    "    if y.shape[1] * min_count > size:\n",
    "        msg = \"Size less than number of columns * min_count, returning {} items instead of {}.\"\n",
    "        warn(msg.format(y.shape[1] * min_count, size))\n",
    "        size = y.shape[1] * min_count\n",
    "\n",
    "    rng = np.random.RandomState(\n",
    "        seed if seed is not None else np.random.randint(1))\n",
    "\n",
    "    if isinstance(y, pd.DataFrame):\n",
    "        choices = y.index\n",
    "        y = y.values\n",
    "    else:\n",
    "        choices = np.arange(y.shape[0])\n",
    "\n",
    "    sample_idxs = np.array([], dtype=choices.dtype)\n",
    "\n",
    "    # first, guarantee > min_count of each label\n",
    "    for j in range(y.shape[1]):\n",
    "        label_choices = choices[y[:, j] == 1]\n",
    "        label_idxs_sampled = rng.choice(label_choices,\n",
    "                                        size=min_count,\n",
    "                                        replace=False)\n",
    "        sample_idxs = np.concatenate([label_idxs_sampled, sample_idxs])\n",
    "\n",
    "    sample_idxs = np.unique(sample_idxs)\n",
    "\n",
    "    # now that we have at least min_count of each, we can just random sample\n",
    "    sample_count = int(size - sample_idxs.shape[0])\n",
    "\n",
    "    # get sample_count indices from remaining choices\n",
    "    remaining_choices = np.setdiff1d(choices, sample_idxs)\n",
    "    remaining_sampled = rng.choice(remaining_choices,\n",
    "                                   size=sample_count,\n",
    "                                   replace=False)\n",
    "\n",
    "    return np.concatenate([sample_idxs, remaining_sampled])"
   ]
  },
  {
   "cell_type": "code",
   "execution_count": 8,
   "id": "844ef300",
   "metadata": {
    "ExecuteTime": {
     "end_time": "2021-09-30T23:59:57.353193Z",
     "start_time": "2021-09-30T23:59:57.343716Z"
    },
    "hidden": true
   },
   "outputs": [],
   "source": [
    "def multilabel_sample_dataframe(df, labels, size, min_count=5, seed=None):\n",
    "    \"\"\" Takes a dataframe `df` and returns a sample of size `size` where all\n",
    "        classes in the binary matrix `labels` are represented at\n",
    "        least `min_count` times.\n",
    "    \"\"\"\n",
    "    idxs = multilabel_sample(labels, size=size, min_count=min_count, seed=seed)\n",
    "    return df.loc[idxs]"
   ]
  },
  {
   "cell_type": "code",
   "execution_count": 9,
   "id": "8a701d56",
   "metadata": {
    "ExecuteTime": {
     "end_time": "2021-09-30T23:59:57.362823Z",
     "start_time": "2021-09-30T23:59:57.355889Z"
    },
    "hidden": true
   },
   "outputs": [],
   "source": [
    "def multilabel_train_test_split(X, Y, size, min_count=5, seed=None):\n",
    "    \"\"\" Takes a features matrix `X` and a label matrix `Y` and\n",
    "        returns (X_train, X_test, Y_train, Y_test) where all\n",
    "        classes in Y are represented at least `min_count` times.\n",
    "    \"\"\"\n",
    "    index = Y.index if isinstance(Y, pd.DataFrame) else np.arange(Y.shape[0])\n",
    "\n",
    "    test_set_idxs = multilabel_sample(Y,\n",
    "                                      size=size,\n",
    "                                      min_count=min_count,\n",
    "                                      seed=seed)\n",
    "    train_set_idxs = np.setdiff1d(index, test_set_idxs)\n",
    "\n",
    "    test_set_mask = index.isin(test_set_idxs)\n",
    "    train_set_mask = ~test_set_mask\n",
    "\n",
    "    return (X[train_set_mask], X[test_set_mask], Y[train_set_mask],\n",
    "            Y[test_set_mask])"
   ]
  },
  {
   "cell_type": "code",
   "execution_count": 10,
   "id": "aa5283e9",
   "metadata": {
    "ExecuteTime": {
     "end_time": "2021-09-30T23:59:57.373654Z",
     "start_time": "2021-09-30T23:59:57.364402Z"
    },
    "hidden": true
   },
   "outputs": [],
   "source": [
    "def score_submission(pred_path=None,\n",
    "                     holdout_path=None):\n",
    "    # this happens on the backend to get the score\n",
    "    holdout_labels = pd.get_dummies(\n",
    "        pd.read_csv(holdout_path,\n",
    "                    index_col=0).apply(lambda x: x.astype('category'), axis=0))\n",
    "\n",
    "    preds = pd.read_csv(pred_path, index_col=0)\n",
    "\n",
    "    # make sure that format is correct\n",
    "    assert (preds.columns == holdout_labels.columns).all()\n",
    "    assert (preds.index == holdout_labels.index).all()\n",
    "\n",
    "    return _multi_multi_log_loss(preds.values, holdout_labels.values)"
   ]
  },
  {
   "cell_type": "markdown",
   "id": "74f562f8",
   "metadata": {},
   "source": [
    "# Load Data"
   ]
  },
  {
   "cell_type": "code",
   "execution_count": 11,
   "id": "67d40630",
   "metadata": {
    "ExecuteTime": {
     "end_time": "2021-09-30T23:59:58.324878Z",
     "start_time": "2021-09-30T23:59:57.375533Z"
    }
   },
   "outputs": [
    {
     "name": "stderr",
     "output_type": "stream",
     "text": [
      "/home/kcavagnolo/.pyenv/versions/3.8.0/lib/python3.8/site-packages/IPython/core/interactiveshell.py:3441: DtypeWarning: Columns (5,11) have mixed types.Specify dtype option on import or set low_memory=False.\n",
      "  exec(code_obj, self.user_global_ns, self.user_ns)\n"
     ]
    }
   ],
   "source": [
    "# load data and use pyjanitor to clean\n",
    "train_df = pd.read_csv(\"datasets/train.csv\", index_col=0)\n",
    "test_df = pd.read_csv(\"datasets/test.csv\", index_col=0)\n",
    "holdout_df = pd.read_csv(\"datasets/holdout.csv\", index_col=0)"
   ]
  },
  {
   "cell_type": "code",
   "execution_count": 12,
   "id": "12043b56",
   "metadata": {
    "ExecuteTime": {
     "end_time": "2021-09-30T23:59:58.481169Z",
     "start_time": "2021-09-30T23:59:58.327236Z"
    }
   },
   "outputs": [
    {
     "data": {
      "text/html": [
       "<div>\n",
       "<style scoped>\n",
       "    .dataframe tbody tr th:only-of-type {\n",
       "        vertical-align: middle;\n",
       "    }\n",
       "\n",
       "    .dataframe tbody tr th {\n",
       "        vertical-align: top;\n",
       "    }\n",
       "\n",
       "    .dataframe thead th {\n",
       "        text-align: right;\n",
       "    }\n",
       "</style>\n",
       "<table border=\"1\" class=\"dataframe\">\n",
       "  <thead>\n",
       "    <tr style=\"text-align: right;\">\n",
       "      <th></th>\n",
       "      <th>Function</th>\n",
       "      <th>Use</th>\n",
       "      <th>Sharing</th>\n",
       "      <th>Reporting</th>\n",
       "      <th>Student_Type</th>\n",
       "      <th>Position_Type</th>\n",
       "      <th>Object_Type</th>\n",
       "      <th>Pre_K</th>\n",
       "      <th>Operating_Status</th>\n",
       "      <th>Object_Description</th>\n",
       "      <th>...</th>\n",
       "      <th>Sub_Object_Description</th>\n",
       "      <th>Location_Description</th>\n",
       "      <th>FTE</th>\n",
       "      <th>Function_Description</th>\n",
       "      <th>Facility_or_Department</th>\n",
       "      <th>Position_Extra</th>\n",
       "      <th>Total</th>\n",
       "      <th>Program_Description</th>\n",
       "      <th>Fund_Description</th>\n",
       "      <th>Text_1</th>\n",
       "    </tr>\n",
       "  </thead>\n",
       "  <tbody>\n",
       "    <tr>\n",
       "      <th>153883</th>\n",
       "      <td>Extended Time &amp; Tutoring</td>\n",
       "      <td>Instruction</td>\n",
       "      <td>Shared Services</td>\n",
       "      <td>Non-School</td>\n",
       "      <td>Special Education</td>\n",
       "      <td>TA</td>\n",
       "      <td>Base Salary/Compensation</td>\n",
       "      <td>NO_LABEL</td>\n",
       "      <td>PreK-12 Operating</td>\n",
       "      <td>NaN</td>\n",
       "      <td>...</td>\n",
       "      <td>NaN</td>\n",
       "      <td>SCHOOL SUPPORT</td>\n",
       "      <td>0.048000</td>\n",
       "      <td>NaN</td>\n",
       "      <td>NaN</td>\n",
       "      <td>NaN</td>\n",
       "      <td>1224.274462</td>\n",
       "      <td>NaN</td>\n",
       "      <td>NaN</td>\n",
       "      <td>NaN</td>\n",
       "    </tr>\n",
       "    <tr>\n",
       "      <th>266842</th>\n",
       "      <td>Substitute Compensation</td>\n",
       "      <td>Instruction</td>\n",
       "      <td>School Reported</td>\n",
       "      <td>School</td>\n",
       "      <td>Unspecified</td>\n",
       "      <td>Substitute</td>\n",
       "      <td>Base Salary/Compensation</td>\n",
       "      <td>NO_LABEL</td>\n",
       "      <td>PreK-12 Operating</td>\n",
       "      <td>SALARIES OF PART TIME EMPLOYEE</td>\n",
       "      <td>...</td>\n",
       "      <td>NaN</td>\n",
       "      <td>NaN</td>\n",
       "      <td>0.008621</td>\n",
       "      <td>UNALLOC BUDGETS/SCHOOLS</td>\n",
       "      <td>NaN</td>\n",
       "      <td>PROFESSIONAL-INSTRUCTIONAL</td>\n",
       "      <td>219.945877</td>\n",
       "      <td>GENERAL ELEMENTARY EDUCATION</td>\n",
       "      <td>NaN</td>\n",
       "      <td>REGULAR INSTRUCTION</td>\n",
       "    </tr>\n",
       "    <tr>\n",
       "      <th>142139</th>\n",
       "      <td>Extended Time &amp; Tutoring</td>\n",
       "      <td>Instruction</td>\n",
       "      <td>Shared Services</td>\n",
       "      <td>Non-School</td>\n",
       "      <td>Unspecified</td>\n",
       "      <td>Teacher</td>\n",
       "      <td>Other Compensation/Stipend</td>\n",
       "      <td>PreK</td>\n",
       "      <td>PreK-12 Operating</td>\n",
       "      <td>Salaries And Wages For Teachers And Other Prof...</td>\n",
       "      <td>...</td>\n",
       "      <td>Extended Year</td>\n",
       "      <td>Summer School</td>\n",
       "      <td>NaN</td>\n",
       "      <td>Instruction</td>\n",
       "      <td>Instruction And Curriculum</td>\n",
       "      <td>TEACHER BACHELOR</td>\n",
       "      <td>2555.200289</td>\n",
       "      <td>PRE-K</td>\n",
       "      <td>Lower Strands Prj.</td>\n",
       "      <td>EXTENDED YEAR</td>\n",
       "    </tr>\n",
       "    <tr>\n",
       "      <th>191528</th>\n",
       "      <td>Teacher Compensation</td>\n",
       "      <td>Instruction</td>\n",
       "      <td>School Reported</td>\n",
       "      <td>School</td>\n",
       "      <td>NO_LABEL</td>\n",
       "      <td>Teacher</td>\n",
       "      <td>NO_LABEL</td>\n",
       "      <td>NO_LABEL</td>\n",
       "      <td>PreK-12 Operating</td>\n",
       "      <td>NaN</td>\n",
       "      <td>...</td>\n",
       "      <td>NaN</td>\n",
       "      <td>NaN</td>\n",
       "      <td>1.000000</td>\n",
       "      <td>NaN</td>\n",
       "      <td>NaN</td>\n",
       "      <td>MS ENGLISH</td>\n",
       "      <td>83679.770000</td>\n",
       "      <td>MIDDLE SCHOOL PROGRAM  6-8</td>\n",
       "      <td>General Fund</td>\n",
       "      <td>NaN</td>\n",
       "    </tr>\n",
       "    <tr>\n",
       "      <th>390177</th>\n",
       "      <td>Special Population Program Management &amp; Support</td>\n",
       "      <td>NO_LABEL</td>\n",
       "      <td>Shared Services</td>\n",
       "      <td>Non-School</td>\n",
       "      <td>NO_LABEL</td>\n",
       "      <td>NO_LABEL</td>\n",
       "      <td>Travel &amp; Conferences</td>\n",
       "      <td>NO_LABEL</td>\n",
       "      <td>PreK-12 Operating</td>\n",
       "      <td>TRAVEL - EMPLOYEES</td>\n",
       "      <td>...</td>\n",
       "      <td>NaN</td>\n",
       "      <td>ADMIN. SERVICES</td>\n",
       "      <td>NaN</td>\n",
       "      <td>PUPIL SERVICES</td>\n",
       "      <td>NaN</td>\n",
       "      <td>NaN</td>\n",
       "      <td>225.240000</td>\n",
       "      <td>ARRA - IDEA Title VI,B Flow Thru funds</td>\n",
       "      <td>Special Education</td>\n",
       "      <td>NaN</td>\n",
       "    </tr>\n",
       "  </tbody>\n",
       "</table>\n",
       "<p>5 rows × 25 columns</p>\n",
       "</div>"
      ],
      "text/plain": [
       "                                               Function          Use  \\\n",
       "153883                         Extended Time & Tutoring  Instruction   \n",
       "266842                          Substitute Compensation  Instruction   \n",
       "142139                         Extended Time & Tutoring  Instruction   \n",
       "191528                             Teacher Compensation  Instruction   \n",
       "390177  Special Population Program Management & Support     NO_LABEL   \n",
       "\n",
       "                Sharing   Reporting       Student_Type Position_Type  \\\n",
       "153883  Shared Services  Non-School  Special Education            TA   \n",
       "266842  School Reported      School        Unspecified    Substitute   \n",
       "142139  Shared Services  Non-School        Unspecified       Teacher   \n",
       "191528  School Reported      School           NO_LABEL       Teacher   \n",
       "390177  Shared Services  Non-School           NO_LABEL      NO_LABEL   \n",
       "\n",
       "                       Object_Type     Pre_K   Operating_Status  \\\n",
       "153883    Base Salary/Compensation  NO_LABEL  PreK-12 Operating   \n",
       "266842    Base Salary/Compensation  NO_LABEL  PreK-12 Operating   \n",
       "142139  Other Compensation/Stipend      PreK  PreK-12 Operating   \n",
       "191528                    NO_LABEL  NO_LABEL  PreK-12 Operating   \n",
       "390177        Travel & Conferences  NO_LABEL  PreK-12 Operating   \n",
       "\n",
       "                                       Object_Description  ...  \\\n",
       "153883                                                NaN  ...   \n",
       "266842                     SALARIES OF PART TIME EMPLOYEE  ...   \n",
       "142139  Salaries And Wages For Teachers And Other Prof...  ...   \n",
       "191528                                                NaN  ...   \n",
       "390177                                 TRAVEL - EMPLOYEES  ...   \n",
       "\n",
       "       Sub_Object_Description Location_Description       FTE  \\\n",
       "153883                    NaN       SCHOOL SUPPORT  0.048000   \n",
       "266842                    NaN                  NaN  0.008621   \n",
       "142139          Extended Year        Summer School       NaN   \n",
       "191528                    NaN                  NaN  1.000000   \n",
       "390177                    NaN      ADMIN. SERVICES       NaN   \n",
       "\n",
       "           Function_Description      Facility_or_Department  \\\n",
       "153883                      NaN                         NaN   \n",
       "266842  UNALLOC BUDGETS/SCHOOLS                         NaN   \n",
       "142139              Instruction  Instruction And Curriculum   \n",
       "191528                      NaN                         NaN   \n",
       "390177           PUPIL SERVICES                         NaN   \n",
       "\n",
       "                    Position_Extra         Total  \\\n",
       "153883                         NaN   1224.274462   \n",
       "266842  PROFESSIONAL-INSTRUCTIONAL    219.945877   \n",
       "142139            TEACHER BACHELOR   2555.200289   \n",
       "191528                 MS ENGLISH   83679.770000   \n",
       "390177                         NaN    225.240000   \n",
       "\n",
       "                           Program_Description    Fund_Description  \\\n",
       "153883                                     NaN                 NaN   \n",
       "266842            GENERAL ELEMENTARY EDUCATION                 NaN   \n",
       "142139                                   PRE-K  Lower Strands Prj.   \n",
       "191528              MIDDLE SCHOOL PROGRAM  6-8        General Fund   \n",
       "390177  ARRA - IDEA Title VI,B Flow Thru funds   Special Education   \n",
       "\n",
       "                     Text_1  \n",
       "153883                  NaN  \n",
       "266842  REGULAR INSTRUCTION  \n",
       "142139        EXTENDED YEAR  \n",
       "191528                  NaN  \n",
       "390177                  NaN  \n",
       "\n",
       "[5 rows x 25 columns]"
      ]
     },
     "execution_count": 12,
     "metadata": {},
     "output_type": "execute_result"
    }
   ],
   "source": [
    "train_df.sample(5)"
   ]
  },
  {
   "cell_type": "code",
   "execution_count": 13,
   "id": "82ac41e5",
   "metadata": {
    "ExecuteTime": {
     "end_time": "2021-09-30T23:59:58.483958Z",
     "start_time": "2021-09-30T23:59:58.482203Z"
    }
   },
   "outputs": [],
   "source": [
    "# inspect\n",
    "#profile_report = train_df.profile_report(sort=None,\n",
    "#                                         explorative=True,\n",
    "#                                         html={\"style\": {\n",
    "#                                             \"full_width\": True\n",
    "#                                         }},\n",
    "#                                         progress_bar=True)\n",
    "#profile_report.to_file(\"docs/train_profile.html\")"
   ]
  },
  {
   "cell_type": "markdown",
   "id": "c40be7f6",
   "metadata": {},
   "source": [
    "# EDA"
   ]
  },
  {
   "cell_type": "markdown",
   "id": "fc51a221",
   "metadata": {},
   "source": [
    "## Categorical Features"
   ]
  },
  {
   "cell_type": "code",
   "execution_count": 14,
   "id": "2e846bcd",
   "metadata": {
    "ExecuteTime": {
     "end_time": "2021-09-30T23:59:58.996274Z",
     "start_time": "2021-09-30T23:59:58.484844Z"
    }
   },
   "outputs": [
    {
     "name": "stdout",
     "output_type": "stream",
     "text": [
      "Possibly categorical columns...\n",
      "  Function\n",
      "  Object_Type\n",
      "  Operating_Status\n",
      "  Position_Type\n",
      "  Pre_K\n",
      "  Reporting\n",
      "  Sharing\n",
      "  Student_Type\n",
      "  Text_3\n",
      "  Use\n"
     ]
    }
   ],
   "source": [
    "# look for possible categorical columns\n",
    "MIN_CATEGORIES = 2\n",
    "MAX_CATEGORIES = 40\n",
    "categorical_cols = []\n",
    "print(\"Possibly categorical columns...\")   \n",
    "for col in sorted(train_df.select_dtypes(include=[\"object\"]).columns):\n",
    "    if MIN_CATEGORIES < len(train_df[col].value_counts()) < MAX_CATEGORIES:\n",
    "        categorical_cols.append(col)\n",
    "        print(f\"  {col}\")\n",
    "if len(categorical_cols) == 0:\n",
    "    print(\"   None\")"
   ]
  },
  {
   "cell_type": "code",
   "execution_count": 15,
   "id": "147b8b6d",
   "metadata": {
    "ExecuteTime": {
     "end_time": "2021-09-30T23:59:59.193102Z",
     "start_time": "2021-09-30T23:59:58.997194Z"
    }
   },
   "outputs": [
    {
     "data": {
      "text/html": [
       "<div>\n",
       "<style scoped>\n",
       "    .dataframe tbody tr th:only-of-type {\n",
       "        vertical-align: middle;\n",
       "    }\n",
       "\n",
       "    .dataframe tbody tr th {\n",
       "        vertical-align: top;\n",
       "    }\n",
       "\n",
       "    .dataframe thead th {\n",
       "        text-align: right;\n",
       "    }\n",
       "</style>\n",
       "<table border=\"1\" class=\"dataframe\">\n",
       "  <thead>\n",
       "    <tr style=\"text-align: right;\">\n",
       "      <th></th>\n",
       "      <th>Function</th>\n",
       "      <th>Use</th>\n",
       "      <th>Sharing</th>\n",
       "      <th>Reporting</th>\n",
       "      <th>Student_Type</th>\n",
       "      <th>Position_Type</th>\n",
       "      <th>Object_Type</th>\n",
       "      <th>Pre_K</th>\n",
       "      <th>Operating_Status</th>\n",
       "      <th>Object_Description</th>\n",
       "      <th>...</th>\n",
       "      <th>Sub_Object_Description</th>\n",
       "      <th>Location_Description</th>\n",
       "      <th>FTE</th>\n",
       "      <th>Function_Description</th>\n",
       "      <th>Facility_or_Department</th>\n",
       "      <th>Position_Extra</th>\n",
       "      <th>Total</th>\n",
       "      <th>Program_Description</th>\n",
       "      <th>Fund_Description</th>\n",
       "      <th>Text_1</th>\n",
       "    </tr>\n",
       "  </thead>\n",
       "  <tbody>\n",
       "    <tr>\n",
       "      <th>411979</th>\n",
       "      <td>Teacher Compensation</td>\n",
       "      <td>Instruction</td>\n",
       "      <td>School Reported</td>\n",
       "      <td>School</td>\n",
       "      <td>Unspecified</td>\n",
       "      <td>Teacher</td>\n",
       "      <td>Benefits</td>\n",
       "      <td>NO_LABEL</td>\n",
       "      <td>PreK-12 Operating</td>\n",
       "      <td>EMPLOYEE BENEFITS</td>\n",
       "      <td>...</td>\n",
       "      <td>NaN</td>\n",
       "      <td>NaN</td>\n",
       "      <td>NaN</td>\n",
       "      <td>NON-PROJECT</td>\n",
       "      <td>NaN</td>\n",
       "      <td>PROFESSIONAL-INSTRUCTIONAL</td>\n",
       "      <td>1249.540000</td>\n",
       "      <td>GENERAL K-8 EDUCATION</td>\n",
       "      <td>NaN</td>\n",
       "      <td>REGULAR INSTRUCTION</td>\n",
       "    </tr>\n",
       "    <tr>\n",
       "      <th>305270</th>\n",
       "      <td>Aides Compensation</td>\n",
       "      <td>Instruction</td>\n",
       "      <td>School Reported</td>\n",
       "      <td>School</td>\n",
       "      <td>Unspecified</td>\n",
       "      <td>TA</td>\n",
       "      <td>Benefits</td>\n",
       "      <td>NO_LABEL</td>\n",
       "      <td>PreK-12 Operating</td>\n",
       "      <td>EMPLOYEE BENEFITS</td>\n",
       "      <td>...</td>\n",
       "      <td>NaN</td>\n",
       "      <td>NaN</td>\n",
       "      <td>NaN</td>\n",
       "      <td>MISCELLANEOUS DONATIONS</td>\n",
       "      <td>NaN</td>\n",
       "      <td>PARAPROFESSIONAL</td>\n",
       "      <td>582.440000</td>\n",
       "      <td>GENERAL ELEMENTARY EDUCATION</td>\n",
       "      <td>NaN</td>\n",
       "      <td>REGULAR INSTRUCTION</td>\n",
       "    </tr>\n",
       "    <tr>\n",
       "      <th>342484</th>\n",
       "      <td>Teacher Compensation</td>\n",
       "      <td>Instruction</td>\n",
       "      <td>School Reported</td>\n",
       "      <td>School</td>\n",
       "      <td>Poverty</td>\n",
       "      <td>Teacher</td>\n",
       "      <td>Other Compensation/Stipend</td>\n",
       "      <td>NO_LABEL</td>\n",
       "      <td>PreK-12 Operating</td>\n",
       "      <td>ADDITIONAL/EXTRA DUTY PAY/STIP</td>\n",
       "      <td>...</td>\n",
       "      <td>NaN</td>\n",
       "      <td>NaN</td>\n",
       "      <td>NaN</td>\n",
       "      <td>TITLE I</td>\n",
       "      <td>NaN</td>\n",
       "      <td>PROFESSIONAL-INSTRUCTIONAL</td>\n",
       "      <td>299.097360</td>\n",
       "      <td>GENERAL HIGH SCHOOL EDUCATION</td>\n",
       "      <td>NaN</td>\n",
       "      <td>REGULAR INSTRUCTION</td>\n",
       "    </tr>\n",
       "    <tr>\n",
       "      <th>269479</th>\n",
       "      <td>Teacher Compensation</td>\n",
       "      <td>Instruction</td>\n",
       "      <td>School Reported</td>\n",
       "      <td>School</td>\n",
       "      <td>Unspecified</td>\n",
       "      <td>Teacher</td>\n",
       "      <td>Other Compensation/Stipend</td>\n",
       "      <td>Non PreK</td>\n",
       "      <td>PreK-12 Operating</td>\n",
       "      <td>Salaries And Wages For Teachers And Other Prof...</td>\n",
       "      <td>...</td>\n",
       "      <td>Salaries And Wages For Teachers And Other Prof...</td>\n",
       "      <td>School</td>\n",
       "      <td>NaN</td>\n",
       "      <td>Instruction</td>\n",
       "      <td>All Campus Payroll</td>\n",
       "      <td>TEACHER BACHELOR</td>\n",
       "      <td>130.504434</td>\n",
       "      <td>Basic Educational Services</td>\n",
       "      <td>General Operating Fund</td>\n",
       "      <td>MISCELLANEOUS</td>\n",
       "    </tr>\n",
       "    <tr>\n",
       "      <th>113836</th>\n",
       "      <td>Special Population Program Management &amp; Support</td>\n",
       "      <td>ISPD</td>\n",
       "      <td>Leadership &amp; Management</td>\n",
       "      <td>Non-School</td>\n",
       "      <td>Special Education</td>\n",
       "      <td>Non-Position</td>\n",
       "      <td>Other Compensation/Stipend</td>\n",
       "      <td>Non PreK</td>\n",
       "      <td>PreK-12 Operating</td>\n",
       "      <td>Personal Services - Clerical</td>\n",
       "      <td>...</td>\n",
       "      <td>NaN</td>\n",
       "      <td>Central Office</td>\n",
       "      <td>0.0</td>\n",
       "      <td>NaN</td>\n",
       "      <td>STUDENT SUPPORT SERVICES</td>\n",
       "      <td>TIME CARD CLASSIFIED Addl</td>\n",
       "      <td>1093.675918</td>\n",
       "      <td>District Administration</td>\n",
       "      <td>General Purpose School</td>\n",
       "      <td>NaN</td>\n",
       "    </tr>\n",
       "  </tbody>\n",
       "</table>\n",
       "<p>5 rows × 25 columns</p>\n",
       "</div>"
      ],
      "text/plain": [
       "                                               Function          Use  \\\n",
       "411979                             Teacher Compensation  Instruction   \n",
       "305270                               Aides Compensation  Instruction   \n",
       "342484                             Teacher Compensation  Instruction   \n",
       "269479                             Teacher Compensation  Instruction   \n",
       "113836  Special Population Program Management & Support         ISPD   \n",
       "\n",
       "                        Sharing   Reporting       Student_Type Position_Type  \\\n",
       "411979          School Reported      School        Unspecified       Teacher   \n",
       "305270          School Reported      School        Unspecified            TA   \n",
       "342484          School Reported      School            Poverty       Teacher   \n",
       "269479          School Reported      School        Unspecified       Teacher   \n",
       "113836  Leadership & Management  Non-School  Special Education  Non-Position   \n",
       "\n",
       "                       Object_Type     Pre_K   Operating_Status  \\\n",
       "411979                    Benefits  NO_LABEL  PreK-12 Operating   \n",
       "305270                    Benefits  NO_LABEL  PreK-12 Operating   \n",
       "342484  Other Compensation/Stipend  NO_LABEL  PreK-12 Operating   \n",
       "269479  Other Compensation/Stipend  Non PreK  PreK-12 Operating   \n",
       "113836  Other Compensation/Stipend  Non PreK  PreK-12 Operating   \n",
       "\n",
       "                                       Object_Description  ...  \\\n",
       "411979                                  EMPLOYEE BENEFITS  ...   \n",
       "305270                                  EMPLOYEE BENEFITS  ...   \n",
       "342484                     ADDITIONAL/EXTRA DUTY PAY/STIP  ...   \n",
       "269479  Salaries And Wages For Teachers And Other Prof...  ...   \n",
       "113836                       Personal Services - Clerical  ...   \n",
       "\n",
       "                                   Sub_Object_Description  \\\n",
       "411979                                                NaN   \n",
       "305270                                                NaN   \n",
       "342484                                                NaN   \n",
       "269479  Salaries And Wages For Teachers And Other Prof...   \n",
       "113836                                                NaN   \n",
       "\n",
       "       Location_Description  FTE     Function_Description  \\\n",
       "411979                  NaN  NaN              NON-PROJECT   \n",
       "305270                  NaN  NaN  MISCELLANEOUS DONATIONS   \n",
       "342484                  NaN  NaN                  TITLE I   \n",
       "269479              School   NaN              Instruction   \n",
       "113836       Central Office  0.0                      NaN   \n",
       "\n",
       "          Facility_or_Department              Position_Extra        Total  \\\n",
       "411979                       NaN  PROFESSIONAL-INSTRUCTIONAL  1249.540000   \n",
       "305270                       NaN            PARAPROFESSIONAL   582.440000   \n",
       "342484                       NaN  PROFESSIONAL-INSTRUCTIONAL   299.097360   \n",
       "269479        All Campus Payroll            TEACHER BACHELOR   130.504434   \n",
       "113836  STUDENT SUPPORT SERVICES   TIME CARD CLASSIFIED Addl  1093.675918   \n",
       "\n",
       "                  Program_Description        Fund_Description  \\\n",
       "411979          GENERAL K-8 EDUCATION                     NaN   \n",
       "305270   GENERAL ELEMENTARY EDUCATION                     NaN   \n",
       "342484  GENERAL HIGH SCHOOL EDUCATION                     NaN   \n",
       "269479     Basic Educational Services  General Operating Fund   \n",
       "113836        District Administration  General Purpose School   \n",
       "\n",
       "                     Text_1  \n",
       "411979  REGULAR INSTRUCTION  \n",
       "305270  REGULAR INSTRUCTION  \n",
       "342484  REGULAR INSTRUCTION  \n",
       "269479       MISCELLANEOUS   \n",
       "113836                  NaN  \n",
       "\n",
       "[5 rows x 25 columns]"
      ]
     },
     "execution_count": 15,
     "metadata": {},
     "output_type": "execute_result"
    }
   ],
   "source": [
    "# change the column type\n",
    "categorical_cols.remove(\"Text_3\")\n",
    "categorize_feature = lambda x: x.astype(\"category\")\n",
    "train_df[categorical_cols].apply(categorize_feature, axis=0)\n",
    "train_df.sample(5)"
   ]
  },
  {
   "cell_type": "code",
   "execution_count": 16,
   "id": "32b1cb5a",
   "metadata": {
    "ExecuteTime": {
     "end_time": "2021-09-30T23:59:59.514484Z",
     "start_time": "2021-09-30T23:59:59.194164Z"
    }
   },
   "outputs": [
    {
     "data": {
      "text/plain": [
       "Text(0, 0.5, 'Number of unique values')"
      ]
     },
     "execution_count": 16,
     "metadata": {},
     "output_type": "execute_result"
    },
    {
     "name": "stderr",
     "output_type": "stream",
     "text": [
      "WARNING:matplotlib.font_manager:findfont: Font family ['sans-serif'] not found. Falling back to DejaVu Sans.\n",
      "WARNING:matplotlib.font_manager:findfont: Generic family 'sans-serif' not found because none of the following families were found: Open Sans\n",
      "WARNING:matplotlib.font_manager:findfont: Font family ['sans-serif'] not found. Falling back to DejaVu Sans.\n",
      "WARNING:matplotlib.font_manager:findfont: Generic family 'sans-serif' not found because none of the following families were found: Open Sans\n"
     ]
    },
    {
     "data": {
      "image/png": "[encoded data removed]",
      "text/plain": [
       "<Figure size 1080x432 with 1 Axes>"
      ]
     },
     "metadata": {
      "needs_background": "light"
     },
     "output_type": "display_data"
    }
   ],
   "source": [
    "# display unique values for each feature\n",
    "n_unique_features = train_df[categorical_cols].apply(pd.Series.nunique).sort_values(ascending=False)\n",
    "sns.barplot(x=n_unique_features.index, y=n_unique_features.values)\n",
    "plt.xlabel('Feature')\n",
    "plt.ylabel('Number of unique values')"
   ]
  },
  {
   "cell_type": "code",
   "execution_count": 17,
   "id": "c9fb27a9",
   "metadata": {
    "ExecuteTime": {
     "end_time": "2021-09-30T23:59:59.907022Z",
     "start_time": "2021-09-30T23:59:59.515531Z"
    }
   },
   "outputs": [
    {
     "data": {
      "text/html": [
       "<div>\n",
       "<style scoped>\n",
       "    .dataframe tbody tr th:only-of-type {\n",
       "        vertical-align: middle;\n",
       "    }\n",
       "\n",
       "    .dataframe tbody tr th {\n",
       "        vertical-align: top;\n",
       "    }\n",
       "\n",
       "    .dataframe thead th {\n",
       "        text-align: right;\n",
       "    }\n",
       "</style>\n",
       "<table border=\"1\" class=\"dataframe\">\n",
       "  <thead>\n",
       "    <tr style=\"text-align: right;\">\n",
       "      <th></th>\n",
       "      <th>Function_Aides Compensation</th>\n",
       "      <th>Function_Career &amp; Academic Counseling</th>\n",
       "      <th>Function_Communications</th>\n",
       "      <th>Function_Curriculum Development</th>\n",
       "      <th>Function_Data Processing &amp; Information Services</th>\n",
       "      <th>Function_Development &amp; Fundraising</th>\n",
       "      <th>Function_Enrichment</th>\n",
       "      <th>Function_Extended Time &amp; Tutoring</th>\n",
       "      <th>Function_Facilities &amp; Maintenance</th>\n",
       "      <th>Function_Facilities Planning</th>\n",
       "      <th>...</th>\n",
       "      <th>Student_Type_Special Education</th>\n",
       "      <th>Student_Type_Unspecified</th>\n",
       "      <th>Use_Business Services</th>\n",
       "      <th>Use_ISPD</th>\n",
       "      <th>Use_Instruction</th>\n",
       "      <th>Use_Leadership</th>\n",
       "      <th>Use_NO_LABEL</th>\n",
       "      <th>Use_O&amp;M</th>\n",
       "      <th>Use_Pupil Services &amp; Enrichment</th>\n",
       "      <th>Use_Untracked Budget Set-Aside</th>\n",
       "    </tr>\n",
       "  </thead>\n",
       "  <tbody>\n",
       "    <tr>\n",
       "      <th>97602</th>\n",
       "      <td>0</td>\n",
       "      <td>0</td>\n",
       "      <td>0</td>\n",
       "      <td>0</td>\n",
       "      <td>0</td>\n",
       "      <td>0</td>\n",
       "      <td>0</td>\n",
       "      <td>0</td>\n",
       "      <td>0</td>\n",
       "      <td>0</td>\n",
       "      <td>...</td>\n",
       "      <td>0</td>\n",
       "      <td>0</td>\n",
       "      <td>0</td>\n",
       "      <td>0</td>\n",
       "      <td>1</td>\n",
       "      <td>0</td>\n",
       "      <td>0</td>\n",
       "      <td>0</td>\n",
       "      <td>0</td>\n",
       "      <td>0</td>\n",
       "    </tr>\n",
       "    <tr>\n",
       "      <th>348247</th>\n",
       "      <td>0</td>\n",
       "      <td>0</td>\n",
       "      <td>0</td>\n",
       "      <td>0</td>\n",
       "      <td>0</td>\n",
       "      <td>0</td>\n",
       "      <td>0</td>\n",
       "      <td>1</td>\n",
       "      <td>0</td>\n",
       "      <td>0</td>\n",
       "      <td>...</td>\n",
       "      <td>0</td>\n",
       "      <td>1</td>\n",
       "      <td>0</td>\n",
       "      <td>0</td>\n",
       "      <td>1</td>\n",
       "      <td>0</td>\n",
       "      <td>0</td>\n",
       "      <td>0</td>\n",
       "      <td>0</td>\n",
       "      <td>0</td>\n",
       "    </tr>\n",
       "    <tr>\n",
       "      <th>212694</th>\n",
       "      <td>0</td>\n",
       "      <td>0</td>\n",
       "      <td>0</td>\n",
       "      <td>0</td>\n",
       "      <td>0</td>\n",
       "      <td>0</td>\n",
       "      <td>0</td>\n",
       "      <td>0</td>\n",
       "      <td>0</td>\n",
       "      <td>0</td>\n",
       "      <td>...</td>\n",
       "      <td>0</td>\n",
       "      <td>1</td>\n",
       "      <td>0</td>\n",
       "      <td>0</td>\n",
       "      <td>1</td>\n",
       "      <td>0</td>\n",
       "      <td>0</td>\n",
       "      <td>0</td>\n",
       "      <td>0</td>\n",
       "      <td>0</td>\n",
       "    </tr>\n",
       "    <tr>\n",
       "      <th>270117</th>\n",
       "      <td>0</td>\n",
       "      <td>0</td>\n",
       "      <td>0</td>\n",
       "      <td>0</td>\n",
       "      <td>0</td>\n",
       "      <td>0</td>\n",
       "      <td>0</td>\n",
       "      <td>0</td>\n",
       "      <td>0</td>\n",
       "      <td>0</td>\n",
       "      <td>...</td>\n",
       "      <td>0</td>\n",
       "      <td>1</td>\n",
       "      <td>0</td>\n",
       "      <td>0</td>\n",
       "      <td>0</td>\n",
       "      <td>1</td>\n",
       "      <td>0</td>\n",
       "      <td>0</td>\n",
       "      <td>0</td>\n",
       "      <td>0</td>\n",
       "    </tr>\n",
       "    <tr>\n",
       "      <th>140874</th>\n",
       "      <td>0</td>\n",
       "      <td>0</td>\n",
       "      <td>0</td>\n",
       "      <td>0</td>\n",
       "      <td>0</td>\n",
       "      <td>0</td>\n",
       "      <td>0</td>\n",
       "      <td>0</td>\n",
       "      <td>0</td>\n",
       "      <td>0</td>\n",
       "      <td>...</td>\n",
       "      <td>0</td>\n",
       "      <td>0</td>\n",
       "      <td>0</td>\n",
       "      <td>0</td>\n",
       "      <td>0</td>\n",
       "      <td>0</td>\n",
       "      <td>1</td>\n",
       "      <td>0</td>\n",
       "      <td>0</td>\n",
       "      <td>0</td>\n",
       "    </tr>\n",
       "  </tbody>\n",
       "</table>\n",
       "<p>5 rows × 104 columns</p>\n",
       "</div>"
      ],
      "text/plain": [
       "        Function_Aides Compensation  Function_Career & Academic Counseling  \\\n",
       "97602                             0                                      0   \n",
       "348247                            0                                      0   \n",
       "212694                            0                                      0   \n",
       "270117                            0                                      0   \n",
       "140874                            0                                      0   \n",
       "\n",
       "        Function_Communications  Function_Curriculum Development  \\\n",
       "97602                         0                                0   \n",
       "348247                        0                                0   \n",
       "212694                        0                                0   \n",
       "270117                        0                                0   \n",
       "140874                        0                                0   \n",
       "\n",
       "        Function_Data Processing & Information Services  \\\n",
       "97602                                                 0   \n",
       "348247                                                0   \n",
       "212694                                                0   \n",
       "270117                                                0   \n",
       "140874                                                0   \n",
       "\n",
       "        Function_Development & Fundraising  Function_Enrichment  \\\n",
       "97602                                    0                    0   \n",
       "348247                                   0                    0   \n",
       "212694                                   0                    0   \n",
       "270117                                   0                    0   \n",
       "140874                                   0                    0   \n",
       "\n",
       "        Function_Extended Time & Tutoring  Function_Facilities & Maintenance  \\\n",
       "97602                                   0                                  0   \n",
       "348247                                  1                                  0   \n",
       "212694                                  0                                  0   \n",
       "270117                                  0                                  0   \n",
       "140874                                  0                                  0   \n",
       "\n",
       "        Function_Facilities Planning  ...  Student_Type_Special Education  \\\n",
       "97602                              0  ...                               0   \n",
       "348247                             0  ...                               0   \n",
       "212694                             0  ...                               0   \n",
       "270117                             0  ...                               0   \n",
       "140874                             0  ...                               0   \n",
       "\n",
       "        Student_Type_Unspecified  Use_Business Services  Use_ISPD  \\\n",
       "97602                          0                      0         0   \n",
       "348247                         1                      0         0   \n",
       "212694                         1                      0         0   \n",
       "270117                         1                      0         0   \n",
       "140874                         0                      0         0   \n",
       "\n",
       "        Use_Instruction  Use_Leadership  Use_NO_LABEL  Use_O&M  \\\n",
       "97602                 1               0             0        0   \n",
       "348247                1               0             0        0   \n",
       "212694                1               0             0        0   \n",
       "270117                0               1             0        0   \n",
       "140874                0               0             1        0   \n",
       "\n",
       "        Use_Pupil Services & Enrichment  Use_Untracked Budget Set-Aside  \n",
       "97602                                 0                               0  \n",
       "348247                                0                               0  \n",
       "212694                                0                               0  \n",
       "270117                                0                               0  \n",
       "140874                                0                               0  \n",
       "\n",
       "[5 rows x 104 columns]"
      ]
     },
     "execution_count": 17,
     "metadata": {},
     "output_type": "execute_result"
    }
   ],
   "source": [
    "categorical_dummies = pd.get_dummies(train_df[categorical_cols])\n",
    "categorical_dummies.sample(5)"
   ]
  },
  {
   "cell_type": "markdown",
   "id": "bba24e9f",
   "metadata": {},
   "source": [
    "## Numerical Features"
   ]
  },
  {
   "cell_type": "code",
   "execution_count": 18,
   "id": "90a58bed",
   "metadata": {
    "ExecuteTime": {
     "end_time": "2021-09-30T23:59:59.913118Z",
     "start_time": "2021-09-30T23:59:59.907980Z"
    }
   },
   "outputs": [
    {
     "name": "stdout",
     "output_type": "stream",
     "text": [
      "Numeric columns...\n",
      "  FTE\n",
      "  Total\n"
     ]
    }
   ],
   "source": [
    "# look for possible numeric columns\n",
    "numeric_cols = []\n",
    "print(\"Numeric columns...\")\n",
    "for c in sorted(train_df.select_dtypes(include=[\"number\"]).columns):\n",
    "    print(f\"  {c}\")\n",
    "    numeric_cols.append(c)"
   ]
  },
  {
   "cell_type": "code",
   "execution_count": 19,
   "id": "b28f7fe4",
   "metadata": {
    "ExecuteTime": {
     "end_time": "2021-09-30T23:59:59.920791Z",
     "start_time": "2021-09-30T23:59:59.914331Z"
    }
   },
   "outputs": [],
   "source": [
    "numeric_data = train_df[numeric_cols].fillna(-1000)"
   ]
  },
  {
   "cell_type": "markdown",
   "id": "960454a3",
   "metadata": {},
   "source": [
    "## Text Features"
   ]
  },
  {
   "cell_type": "code",
   "execution_count": 20,
   "id": "9cdd6da0",
   "metadata": {
    "ExecuteTime": {
     "end_time": "2021-09-30T23:59:59.926783Z",
     "start_time": "2021-09-30T23:59:59.922163Z"
    }
   },
   "outputs": [
    {
     "name": "stdout",
     "output_type": "stream",
     "text": [
      "Text columns...\n",
      "  Facility_or_Department\n",
      "  Function_Description\n",
      "  Fund_Description\n",
      "  Job_Title_Description\n",
      "  Location_Description\n",
      "  Object_Description\n",
      "  Position_Extra\n",
      "  Program_Description\n",
      "  SubFund_Description\n",
      "  Sub_Object_Description\n",
      "  Text_1\n",
      "  Text_2\n",
      "  Text_3\n",
      "  Text_4\n"
     ]
    }
   ],
   "source": [
    "non_text_cols = numeric_cols + categorical_cols\n",
    "text_cols = []\n",
    "print(\"Text columns...\")\n",
    "for c in sorted(train_df.columns):\n",
    "    if c not in non_text_cols:\n",
    "        print(f\"  {c}\")\n",
    "        text_cols.append(c)"
   ]
  },
  {
   "cell_type": "code",
   "execution_count": 21,
   "id": "82bd62d6",
   "metadata": {
    "ExecuteTime": {
     "end_time": "2021-10-01T00:00:12.680162Z",
     "start_time": "2021-09-30T23:59:59.927873Z"
    }
   },
   "outputs": [
    {
     "name": "stdout",
     "output_type": "stream",
     "text": [
      "There are 5039 tokens in the dataset\n",
      "There are 3512 alpha-numeric tokens in the dataset\n"
     ]
    }
   ],
   "source": [
    "# Import the CountVectorizer\n",
    "from sklearn.feature_extraction.text import CountVectorizer\n",
    "\n",
    "# Create the basic token pattern\n",
    "TOKENS_BASIC = '\\\\S+(?=\\\\s+)'\n",
    "\n",
    "# Create the alphanumeric token pattern\n",
    "TOKENS_ALPHANUMERIC = '[A-Za-z0-9]+(?=\\\\s+)'\n",
    "\n",
    "# Instantiate basic CountVectorizer: vec_basic\n",
    "vec_basic = CountVectorizer(token_pattern=TOKENS_BASIC)\n",
    "\n",
    "# Instantiate alphanumeric CountVectorizer: vec_alphanumeric\n",
    "vec_alphanumeric = CountVectorizer(token_pattern=TOKENS_ALPHANUMERIC)\n",
    "\n",
    "# Join all text items in a row that have a space in between\n",
    "text_vector = train_df[text_cols].fillna(\"\").apply(lambda x: \" \".join(x), axis=1)\n",
    "\n",
    "# Fit and transform vec_basic\n",
    "vec_basic.fit_transform(text_vector)\n",
    "\n",
    "# Print number of tokens of vec_basic\n",
    "print(\"There are {} tokens in the dataset\".format(len(vec_basic.get_feature_names())))\n",
    "\n",
    "# Fit and transform vec_alphanumeric\n",
    "vec_alphanumeric.fit_transform(text_vector)\n",
    "\n",
    "# Print number of tokens of vec_alphanumeric\n",
    "print(\"There are {} alpha-numeric tokens in the dataset\".format(len(vec_alphanumeric.get_feature_names())))"
   ]
  },
  {
   "cell_type": "markdown",
   "id": "41d641c7",
   "metadata": {},
   "source": [
    "# Preprocessing"
   ]
  },
  {
   "cell_type": "code",
   "execution_count": 22,
   "id": "52588c72",
   "metadata": {
    "ExecuteTime": {
     "end_time": "2021-10-01T00:00:13.634956Z",
     "start_time": "2021-10-01T00:00:12.681110Z"
    }
   },
   "outputs": [
    {
     "name": "stdout",
     "output_type": "stream",
     "text": [
      "X_train info:\n",
      "<class 'pandas.core.frame.DataFrame'>\n",
      "Int64Index: 320222 entries, 134338 to 415831\n",
      "Data columns (total 2 columns):\n",
      " #   Column  Non-Null Count   Dtype  \n",
      "---  ------  --------------   -----  \n",
      " 0   FTE     320222 non-null  float64\n",
      " 1   Total   320222 non-null  float64\n",
      "dtypes: float64(2)\n",
      "memory usage: 7.3 MB\n",
      "None\n",
      "\n",
      "X_test info:\n",
      "<class 'pandas.core.frame.DataFrame'>\n",
      "Int64Index: 80055 entries, 326408 to 413949\n",
      "Data columns (total 2 columns):\n",
      " #   Column  Non-Null Count  Dtype  \n",
      "---  ------  --------------  -----  \n",
      " 0   FTE     80055 non-null  float64\n",
      " 1   Total   80055 non-null  float64\n",
      "dtypes: float64(2)\n",
      "memory usage: 1.8 MB\n",
      "None\n",
      "\n",
      "y_train info:\n",
      "<class 'pandas.core.frame.DataFrame'>\n",
      "Int64Index: 320222 entries, 134338 to 415831\n",
      "Columns: 104 entries, Function_Aides Compensation to Use_Untracked Budget Set-Aside\n",
      "dtypes: uint8(104)\n",
      "memory usage: 34.2 MB\n",
      "None\n",
      "\n",
      "y_test info:\n",
      "<class 'pandas.core.frame.DataFrame'>\n",
      "Int64Index: 80055 entries, 326408 to 413949\n",
      "Columns: 104 entries, Function_Aides Compensation to Use_Untracked Budget Set-Aside\n",
      "dtypes: uint8(104)\n",
      "memory usage: 8.6 MB\n",
      "None\n"
     ]
    }
   ],
   "source": [
    "# Create training and test sets\n",
    "X_train, X_test, y_train, y_test = multilabel_train_test_split(\n",
    "    numeric_data, categorical_dummies, size=0.2, seed=42)\n",
    "\n",
    "# Print the info\n",
    "print(\"X_train info:\")\n",
    "print(X_train.info())\n",
    "print(\"\\nX_test info:\")\n",
    "print(X_test.info())\n",
    "print(\"\\ny_train info:\")\n",
    "print(y_train.info())\n",
    "print(\"\\ny_test info:\")\n",
    "print(y_test.info())"
   ]
  },
  {
   "cell_type": "markdown",
   "id": "24e878b8",
   "metadata": {},
   "source": [
    "# Modeling"
   ]
  },
  {
   "cell_type": "code",
   "execution_count": 23,
   "id": "06f07b2e",
   "metadata": {
    "ExecuteTime": {
     "end_time": "2021-10-01T00:00:13.637926Z",
     "start_time": "2021-10-01T00:00:13.635847Z"
    }
   },
   "outputs": [],
   "source": [
    "# model name\n",
    "model_name = \"models/ovr_logreg.joblib\""
   ]
  },
  {
   "cell_type": "code",
   "execution_count": 24,
   "id": "e15975ba",
   "metadata": {
    "ExecuteTime": {
     "end_time": "2021-10-01T00:02:03.251041Z",
     "start_time": "2021-10-01T00:00:13.638770Z"
    }
   },
   "outputs": [
    {
     "name": "stdout",
     "output_type": "stream",
     "text": [
      "Accuracy: 0.0\n"
     ]
    },
    {
     "data": {
      "text/plain": [
       "['models/ovr_logreg.joblib']"
      ]
     },
     "execution_count": 24,
     "metadata": {},
     "output_type": "execute_result"
    }
   ],
   "source": [
    "# Import classifiers\n",
    "from sklearn.linear_model import LogisticRegression\n",
    "from sklearn.multiclass import OneVsRestClassifier\n",
    "\n",
    "# Instantiate the classifier: clf\n",
    "clf = OneVsRestClassifier(LogisticRegression())\n",
    "\n",
    "# Fit the classifier to the training data\n",
    "clf.fit(X_train, y_train)\n",
    "\n",
    "# Print the accuracy\n",
    "print(\"Accuracy: {}\".format(clf.score(X_test, y_test)))\n",
    "\n",
    "# save model\n",
    "joblib.dump(clf, model_name) "
   ]
  },
  {
   "cell_type": "code",
   "execution_count": 25,
   "id": "1f64aec4",
   "metadata": {
    "ExecuteTime": {
     "end_time": "2021-10-01T00:02:09.707171Z",
     "start_time": "2021-10-01T00:02:03.252306Z"
    }
   },
   "outputs": [],
   "source": [
    "# reload model\n",
    "clf = joblib.load(model_name) \n",
    "\n",
    "# Generate predictions: predictions\n",
    "predictions = clf.predict_proba(test_df[numeric_cols].fillna(-1000))\n",
    "\n",
    "# Format predictions in DataFrame: prediction_df\n",
    "prediction_df = pd.DataFrame(columns=pd.get_dummies(train_df[categorical_cols]).columns,\n",
    "                             index=test_df.index,\n",
    "                             data=predictions)\n",
    "\n",
    "\n",
    "# Save prediction_df to csv\n",
    "prediction_df.to_csv(\"datasets/predictions.csv\")"
   ]
  },
  {
   "cell_type": "markdown",
   "id": "ae89b65b",
   "metadata": {
    "ExecuteTime": {
     "end_time": "2021-09-30T23:35:17.622863Z",
     "start_time": "2021-09-30T23:35:17.619628Z"
    }
   },
   "source": [
    "<div class=\"alert alert-block alert-danger\">\n",
    "<b>WARNING</b></div>"
   ]
  },
  {
   "cell_type": "markdown",
   "id": "990c87c2",
   "metadata": {},
   "source": [
    "Sorry, this exercise ends here because the peeps at Datacamp ensured that their tutorial is not fully reproducible by using a `score_submission` function that relies on a hidden file they do not share."
   ]
  },
  {
   "cell_type": "markdown",
   "id": "df20147b",
   "metadata": {},
   "source": [
    "<div class=\"alert alert-block alert-danger\">\n",
    "<b>:(</b></div>"
   ]
  },
  {
   "cell_type": "code",
   "execution_count": null,
   "id": "cbec9164",
   "metadata": {},
   "outputs": [],
   "source": []
  }
 ],
 "metadata": {
  "kernelspec": {
   "display_name": "Python 3 (ipykernel)",
   "language": "python",
   "name": "python3"
  },
  "language_info": {
   "codemirror_mode": {
    "name": "ipython",
    "version": 3
   },
   "file_extension": ".py",
   "mimetype": "text/x-python",
   "name": "python",
   "nbconvert_exporter": "python",
   "pygments_lexer": "ipython3",
   "version": "3.8.0"
  },
  "toc": {
   "base_numbering": 1,
   "nav_menu": {},
   "number_sections": true,
   "sideBar": true,
   "skip_h1_title": false,
   "title_cell": "Table of Contents",
   "title_sidebar": "Contents",
   "toc_cell": false,
   "toc_position": {},
   "toc_section_display": true,
   "toc_window_display": true
  },
  "varInspector": {
   "cols": {
    "lenName": 16,
    "lenType": 16,
    "lenVar": 40
   },
   "kernels_config": {
    "python": {
     "delete_cmd_postfix": "",
     "delete_cmd_prefix": "del ",
     "library": "var_list.py",
     "varRefreshCmd": "print(var_dic_list())"
    },
    "r": {
     "delete_cmd_postfix": ") ",
     "delete_cmd_prefix": "rm(",
     "library": "var_list.r",
     "varRefreshCmd": "cat(var_dic_list()) "
    }
   },
   "types_to_exclude": [
    "module",
    "function",
    "builtin_function_or_method",
    "instance",
    "_Feature"
   ],
   "window_display": false
  }
 },
 "nbformat": 4,
 "nbformat_minor": 5
}
