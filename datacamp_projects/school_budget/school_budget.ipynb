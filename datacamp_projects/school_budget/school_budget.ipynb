{
 "cells": [
  {
   "cell_type": "markdown",
   "id": "60017afb",
   "metadata": {
    "heading_collapsed": true
   },
   "source": [
    "# Imports"
   ]
  },
  {
   "cell_type": "code",
   "execution_count": 1,
   "id": "14bee72d",
   "metadata": {
    "ExecuteTime": {
     "end_time": "2021-09-30T23:19:10.809191Z",
     "start_time": "2021-09-30T23:19:10.806241Z"
    },
    "hidden": true
   },
   "outputs": [],
   "source": [
    "import datetime\n",
    "import glob\n",
    "import itertools\n",
    "import json\n",
    "import os\n",
    "import pickle\n",
    "import random\n",
    "import re\n",
    "from string import punctuation"
   ]
  },
  {
   "cell_type": "code",
   "execution_count": 2,
   "id": "b0d99bff",
   "metadata": {
    "ExecuteTime": {
     "end_time": "2021-09-30T23:19:12.533889Z",
     "start_time": "2021-09-30T23:19:10.966963Z"
    },
    "hidden": true
   },
   "outputs": [],
   "source": [
    "import statistics\n",
    "\n",
    "import fuzzywuzzy\n",
    "import geopandas as gpd\n",
    "import humanize\n",
    "import janitor\n",
    "import missingno as msno\n",
    "import numpy as np\n",
    "import pandas as pd\n",
    "import recordlinkage\n",
    "import scipy as sp\n",
    "import statsmodels.formula.api as smf\n",
    "from pandas_profiling import ProfileReport"
   ]
  },
  {
   "cell_type": "code",
   "execution_count": 3,
   "id": "cd0ede1f",
   "metadata": {
    "ExecuteTime": {
     "end_time": "2021-09-30T23:19:12.727623Z",
     "start_time": "2021-09-30T23:19:12.563337Z"
    },
    "hidden": true
   },
   "outputs": [],
   "source": [
    "SMALL_SIZE = 10\n",
    "MEDIUM_SIZE = 14\n",
    "BIGGER_SIZE = 18\n",
    "MAPBOX_STYLE = \"dark\"\n",
    "MAPBOX_HEIGHT = 800\n",
    "%matplotlib inline\n",
    "import seaborn as sns\n",
    "import matplotlib as mpl\n",
    "import matplotlib.font_manager\n",
    "import matplotlib.pyplot as plt\n",
    "import plotly.express as px\n",
    "import plotly.graph_objects as go\n",
    "from matplotlib.ticker import PercentFormatter\n",
    "px.set_mapbox_access_token(os.getenv(\"MAPBOX_TOKEN\"))\n",
    "matplotlib.font_manager.findSystemFonts(fontpaths=None, fontext=\"ttf\")\n",
    "plt.style.use(\"seaborn-colorblind\")\n",
    "plt.rcParams[\"font.family\"] = \"sans-serif\"\n",
    "plt.rcParams[\"font.sans-serif\"] = \"Open Sans\"\n",
    "plt.rcParams[\"figure.figsize\"] = 15, 6\n",
    "plt.rc('font', size=SMALL_SIZE)          # controls default text sizes\n",
    "plt.rc('axes', titlesize=SMALL_SIZE)     # fontsize of the axes title\n",
    "plt.rc('axes', labelsize=MEDIUM_SIZE)    # fontsize of the x and y labels\n",
    "plt.rc('xtick', labelsize=SMALL_SIZE)    # fontsize of the tick labels\n",
    "plt.rc('ytick', labelsize=SMALL_SIZE)    # fontsize of the tick labels\n",
    "plt.rc('legend', fontsize=SMALL_SIZE)    # legend fontsize\n",
    "plt.rc('figure', titlesize=BIGGER_SIZE)  # fontsize of the figure title"
   ]
  },
  {
   "cell_type": "code",
   "execution_count": 4,
   "id": "973196f0",
   "metadata": {
    "ExecuteTime": {
     "end_time": "2021-09-30T23:19:12.787420Z",
     "start_time": "2021-09-30T23:19:12.758630Z"
    },
    "hidden": true
   },
   "outputs": [],
   "source": [
    "from mlxtend.plotting import plot_decision_regions\n",
    "from sklearn import __version__ as sklearn_version\n",
    "from sklearn.cluster import KMeans\n",
    "from sklearn.decomposition import NMF, PCA\n",
    "from sklearn.dummy import DummyRegressor\n",
    "from sklearn.ensemble import (AdaBoostClassifier, BaggingClassifier, GradientBoostingClassifier,\n",
    "                              GradientBoostingRegressor, RandomForestClassifier, RandomForestRegressor,\n",
    "                              VotingClassifier)\n",
    "from sklearn.feature_selection import SelectKBest, f_regression\n",
    "from sklearn.impute import SimpleImputer\n",
    "from sklearn.linear_model import LinearRegression, LogisticRegression\n",
    "from sklearn.manifold import TSNE\n",
    "from sklearn.metrics import (accuracy_score, average_precision_score, classification_report,\n",
    "                             confusion_matrix, mean_absolute_error,\n",
    "                             mean_squared_error, plot_precision_recall_curve,\n",
    "                             precision_recall_curve, r2_score, roc_auc_score,\n",
    "                             roc_curve)\n",
    "from sklearn.model_selection import (GridSearchCV, KFold, cross_val_score,\n",
    "                                     cross_validate, learning_curve,\n",
    "                                     train_test_split)\n",
    "from sklearn.neighbors import KNeighborsClassifier\n",
    "from sklearn.pipeline import Pipeline, make_pipeline\n",
    "from sklearn.preprocessing import (LabelEncoder, MaxAbsScaler, MinMaxScaler, Normalizer,\n",
    "                                   StandardScaler, normalize, scale)\n",
    "from sklearn.tree import DecisionTreeClassifier, DecisionTreeRegressor"
   ]
  },
  {
   "cell_type": "code",
   "execution_count": 5,
   "id": "25e160b0",
   "metadata": {
    "ExecuteTime": {
     "end_time": "2021-09-30T23:19:12.962591Z",
     "start_time": "2021-09-30T23:19:12.831845Z"
    },
    "hidden": true
   },
   "outputs": [
    {
     "name": "stdout",
     "output_type": "stream",
     "text": [
      "Author: Ken Cavagnolo\n",
      "\n",
      "Last updated: Thu Sep 30 2021\n",
      "\n",
      "Python implementation: CPython\n",
      "Python version       : 3.8.0\n",
      "IPython version      : 7.25.0\n",
      "\n",
      "jupyter : 1.0.0\n",
      "notebook: 6.4.0\n",
      "pandas  : 1.3.0\n",
      "numpy   : 1.19.5\n",
      "scipy   : 1.7.0\n",
      "\n",
      "Compiler    : GCC 10.3.0\n",
      "OS          : Linux\n",
      "Release     : 5.13.0-7614-generic\n",
      "Machine     : x86_64\n",
      "Processor   : x86_64\n",
      "CPU cores   : 12\n",
      "Architecture: 64bit\n",
      "\n",
      "Hostname: goldfinch\n",
      "\n",
      "Git hash: 56e394cc4e7c99906bce093665acbadca18265e6\n",
      "\n"
     ]
    }
   ],
   "source": [
    "import joblib\n",
    "import requests\n",
    "from dotenv import load_dotenv\n",
    "load_dotenv()\n",
    "APIKEY = os.getenv(\"SOME_KEY\")\n",
    "%reload_ext watermark\n",
    "%watermark -a 'Ken Cavagnolo' -n -u -v -m -h -g -p jupyter,notebook,pandas,numpy,scipy"
   ]
  },
  {
   "cell_type": "markdown",
   "id": "ee2d34f4",
   "metadata": {
    "heading_collapsed": true
   },
   "source": [
    "# GPU Check"
   ]
  },
  {
   "cell_type": "code",
   "execution_count": null,
   "id": "9629d10e",
   "metadata": {
    "ExecuteTime": {
     "end_time": "2021-09-30T22:48:48.764322Z",
     "start_time": "2021-09-30T22:48:45.003805Z"
    },
    "hidden": true
   },
   "outputs": [],
   "source": [
    "import tensorflow as tf\n",
    "import tensorflow_hub as hub\n",
    "import torch\n",
    "from tensorflow.python.client import device_lib\n",
    "\n",
    "hello = tf.constant(\"Hello, TensorFlow!\")\n",
    "with tf.device(\"/gpu:0\"):\n",
    "    a = tf.constant([1.0, 2.0, 3.0, 4.0, 5.0, 6.0], shape=[2, 3], name=\"a\")\n",
    "    b = tf.constant([1.0, 2.0, 3.0, 4.0, 5.0, 6.0], shape=[3, 2], name=\"b\")\n",
    "    c = tf.matmul(a, b)\n",
    "print(\"-\" * 20)\n",
    "print(\"<<< Testing Tensorflow >>>\")\n",
    "print(\"<<< Version: \", tf.__version__)\n",
    "print(\"<<< Eager mode: \", tf.executing_eagerly())\n",
    "print(\"<<< Hub version: \", hub.__version__)\n",
    "print(\n",
    "    \"<<< GPU is\",\n",
    "    \"available\" if tf.config.list_physical_devices(\"GPU\") else \"NOT AVAILABLE\",\n",
    ")\n",
    "print(\"<<< Code check...\")\n",
    "tf.print(hello)\n",
    "tf.print(c)\n",
    "print(\"-\" * 20)\n",
    "\n",
    "# torch\n",
    "print(\"-\" * 20)\n",
    "print(\"<<< Testing Torch >>>\")\n",
    "print(f\"<<< Version: {torch.__version__}\")\n",
    "print(\n",
    "    \"<<< GPU is\",\n",
    "    \"available\"\n",
    "    if any(\"GPU\" in d.name for d in device_lib.list_local_devices())\n",
    "    else \"NOT AVAILABLE\",\n",
    ")\n",
    "print(\"<<< CUDA is\", \"available\" if torch.cuda.is_available() else \"NOT AVAILABLE\")\n",
    "print(\"<<< Code check...\")\n",
    "x = torch.rand(5, 3)\n",
    "print(x)\n",
    "print(\"-\" * 20)\n"
   ]
  },
  {
   "cell_type": "markdown",
   "id": "2d59d3dd",
   "metadata": {
    "heading_collapsed": true
   },
   "source": [
    "# Functions"
   ]
  },
  {
   "cell_type": "code",
   "execution_count": 6,
   "id": "f530c571",
   "metadata": {
    "ExecuteTime": {
     "end_time": "2021-09-30T23:19:20.288263Z",
     "start_time": "2021-09-30T23:19:20.274038Z"
    },
    "hidden": true
   },
   "outputs": [],
   "source": [
    "def multilabel_sample(y, size=1000, min_count=5, seed=None):\n",
    "    \"\"\" Takes a matrix of binary labels `y` and returns\n",
    "        the indices for a sample of size `size` if\n",
    "        `size` > 1 or `size` * len(y) if size =< 1.\n",
    "\n",
    "        The sample is guaranteed to have > `min_count` of\n",
    "        each label.\n",
    "    \"\"\"\n",
    "    try:\n",
    "        if (np.unique(y).astype(int) != np.array([0, 1])).any():\n",
    "            raise ValueError()\n",
    "    except (TypeError, ValueError):\n",
    "        raise ValueError(\n",
    "            'multilabel_sample only works with binary indicator matrices')\n",
    "\n",
    "    if (y.sum(axis=0) < min_count).any():\n",
    "        raise ValueError(\n",
    "            'Some classes do not have enough examples. Change min_count if necessary.'\n",
    "        )\n",
    "\n",
    "    if size <= 1:\n",
    "        size = np.floor(y.shape[0] * size)\n",
    "\n",
    "    if y.shape[1] * min_count > size:\n",
    "        msg = \"Size less than number of columns * min_count, returning {} items instead of {}.\"\n",
    "        warn(msg.format(y.shape[1] * min_count, size))\n",
    "        size = y.shape[1] * min_count\n",
    "\n",
    "    rng = np.random.RandomState(\n",
    "        seed if seed is not None else np.random.randint(1))\n",
    "\n",
    "    if isinstance(y, pd.DataFrame):\n",
    "        choices = y.index\n",
    "        y = y.values\n",
    "    else:\n",
    "        choices = np.arange(y.shape[0])\n",
    "\n",
    "    sample_idxs = np.array([], dtype=choices.dtype)\n",
    "\n",
    "    # first, guarantee > min_count of each label\n",
    "    for j in range(y.shape[1]):\n",
    "        label_choices = choices[y[:, j] == 1]\n",
    "        label_idxs_sampled = rng.choice(label_choices,\n",
    "                                        size=min_count,\n",
    "                                        replace=False)\n",
    "        sample_idxs = np.concatenate([label_idxs_sampled, sample_idxs])\n",
    "\n",
    "    sample_idxs = np.unique(sample_idxs)\n",
    "\n",
    "    # now that we have at least min_count of each, we can just random sample\n",
    "    sample_count = int(size - sample_idxs.shape[0])\n",
    "\n",
    "    # get sample_count indices from remaining choices\n",
    "    remaining_choices = np.setdiff1d(choices, sample_idxs)\n",
    "    remaining_sampled = rng.choice(remaining_choices,\n",
    "                                   size=sample_count,\n",
    "                                   replace=False)\n",
    "\n",
    "    return np.concatenate([sample_idxs, remaining_sampled])"
   ]
  },
  {
   "cell_type": "code",
   "execution_count": 7,
   "id": "aa6bf293",
   "metadata": {
    "ExecuteTime": {
     "end_time": "2021-09-30T23:19:20.442962Z",
     "start_time": "2021-09-30T23:19:20.439649Z"
    },
    "hidden": true
   },
   "outputs": [],
   "source": [
    "def multilabel_sample_dataframe(df, labels, size, min_count=5, seed=None):\n",
    "    \"\"\" Takes a dataframe `df` and returns a sample of size `size` where all\n",
    "        classes in the binary matrix `labels` are represented at\n",
    "        least `min_count` times.\n",
    "    \"\"\"\n",
    "    idxs = multilabel_sample(labels, size=size, min_count=min_count, seed=seed)\n",
    "    return df.loc[idxs]"
   ]
  },
  {
   "cell_type": "code",
   "execution_count": 8,
   "id": "8a701d56",
   "metadata": {
    "ExecuteTime": {
     "end_time": "2021-09-30T23:19:20.600755Z",
     "start_time": "2021-09-30T23:19:20.596427Z"
    },
    "hidden": true
   },
   "outputs": [],
   "source": [
    "def multilabel_train_test_split(X, Y, size, min_count=5, seed=None):\n",
    "    \"\"\" Takes a features matrix `X` and a label matrix `Y` and\n",
    "        returns (X_train, X_test, Y_train, Y_test) where all\n",
    "        classes in Y are represented at least `min_count` times.\n",
    "    \"\"\"\n",
    "    index = Y.index if isinstance(Y, pd.DataFrame) else np.arange(Y.shape[0])\n",
    "\n",
    "    test_set_idxs = multilabel_sample(Y,\n",
    "                                      size=size,\n",
    "                                      min_count=min_count,\n",
    "                                      seed=seed)\n",
    "    train_set_idxs = np.setdiff1d(index, test_set_idxs)\n",
    "\n",
    "    test_set_mask = index.isin(test_set_idxs)\n",
    "    train_set_mask = ~test_set_mask\n",
    "\n",
    "    return (X[train_set_mask], X[test_set_mask], Y[train_set_mask],\n",
    "            Y[test_set_mask])"
   ]
  },
  {
   "cell_type": "code",
   "execution_count": 9,
   "id": "8a0189c1",
   "metadata": {
    "ExecuteTime": {
     "end_time": "2021-09-30T23:19:20.746329Z",
     "start_time": "2021-09-30T23:19:20.742968Z"
    },
    "hidden": true
   },
   "outputs": [],
   "source": [
    "def score_submission(pred_path=None,\n",
    "                     holdout_path=None):\n",
    "    # this happens on the backend to get the score\n",
    "    holdout_labels = pd.get_dummies(\n",
    "        pd.read_csv(holdout_path,\n",
    "                    index_col=0).apply(lambda x: x.astype('category'), axis=0))\n",
    "\n",
    "    preds = pd.read_csv(pred_path, index_col=0)\n",
    "\n",
    "    # make sure that format is correct\n",
    "    assert (preds.columns == holdout_labels.columns).all()\n",
    "    assert (preds.index == holdout_labels.index).all()\n",
    "\n",
    "    return _multi_multi_log_loss(preds.values, holdout_labels.values)"
   ]
  },
  {
   "cell_type": "markdown",
   "id": "74f562f8",
   "metadata": {},
   "source": [
    "# Load Data"
   ]
  },
  {
   "cell_type": "code",
   "execution_count": 114,
   "id": "67d40630",
   "metadata": {
    "ExecuteTime": {
     "end_time": "2021-09-30T23:53:13.585380Z",
     "start_time": "2021-09-30T23:53:12.675174Z"
    }
   },
   "outputs": [
    {
     "name": "stderr",
     "output_type": "stream",
     "text": [
      "/home/kcavagnolo/.pyenv/versions/3.8.0/lib/python3.8/site-packages/IPython/core/interactiveshell.py:3441: DtypeWarning: Columns (5,11) have mixed types.Specify dtype option on import or set low_memory=False.\n",
      "  exec(code_obj, self.user_global_ns, self.user_ns)\n"
     ]
    }
   ],
   "source": [
    "# load data and use pyjanitor to clean\n",
    "train_df = pd.read_csv(\"datasets/train.csv\", index_col=0)\n",
    "test_df = pd.read_csv(\"datasets/test.csv\", index_col=0)\n",
    "holdout_df = pd.read_csv(\"datasets/holdout.csv\", index_col=0)"
   ]
  },
  {
   "cell_type": "code",
   "execution_count": 115,
   "id": "12043b56",
   "metadata": {
    "ExecuteTime": {
     "end_time": "2021-09-30T23:53:15.203509Z",
     "start_time": "2021-09-30T23:53:15.184044Z"
    }
   },
   "outputs": [
    {
     "data": {
      "text/html": [
       "<div>\n",
       "<style scoped>\n",
       "    .dataframe tbody tr th:only-of-type {\n",
       "        vertical-align: middle;\n",
       "    }\n",
       "\n",
       "    .dataframe tbody tr th {\n",
       "        vertical-align: top;\n",
       "    }\n",
       "\n",
       "    .dataframe thead th {\n",
       "        text-align: right;\n",
       "    }\n",
       "</style>\n",
       "<table border=\"1\" class=\"dataframe\">\n",
       "  <thead>\n",
       "    <tr style=\"text-align: right;\">\n",
       "      <th></th>\n",
       "      <th>Function</th>\n",
       "      <th>Use</th>\n",
       "      <th>Sharing</th>\n",
       "      <th>Reporting</th>\n",
       "      <th>Student_Type</th>\n",
       "      <th>Position_Type</th>\n",
       "      <th>Object_Type</th>\n",
       "      <th>Pre_K</th>\n",
       "      <th>Operating_Status</th>\n",
       "      <th>Object_Description</th>\n",
       "      <th>...</th>\n",
       "      <th>Sub_Object_Description</th>\n",
       "      <th>Location_Description</th>\n",
       "      <th>FTE</th>\n",
       "      <th>Function_Description</th>\n",
       "      <th>Facility_or_Department</th>\n",
       "      <th>Position_Extra</th>\n",
       "      <th>Total</th>\n",
       "      <th>Program_Description</th>\n",
       "      <th>Fund_Description</th>\n",
       "      <th>Text_1</th>\n",
       "    </tr>\n",
       "  </thead>\n",
       "  <tbody>\n",
       "    <tr>\n",
       "      <th>57239</th>\n",
       "      <td>Instructional Materials &amp; Supplies</td>\n",
       "      <td>Instruction</td>\n",
       "      <td>School Reported</td>\n",
       "      <td>School</td>\n",
       "      <td>NO_LABEL</td>\n",
       "      <td>NO_LABEL</td>\n",
       "      <td>Supplies/Materials</td>\n",
       "      <td>NO_LABEL</td>\n",
       "      <td>PreK-12 Operating</td>\n",
       "      <td>SUPPLIES</td>\n",
       "      <td>...</td>\n",
       "      <td>NaN</td>\n",
       "      <td>NaN</td>\n",
       "      <td>NaN</td>\n",
       "      <td>INSTRUCTION</td>\n",
       "      <td>NaN</td>\n",
       "      <td>NaN</td>\n",
       "      <td>315.410000</td>\n",
       "      <td>SPECIAL EDUCATION CATEGORY III</td>\n",
       "      <td>General Fund</td>\n",
       "      <td>NaN</td>\n",
       "    </tr>\n",
       "    <tr>\n",
       "      <th>243442</th>\n",
       "      <td>Extended Time &amp; Tutoring</td>\n",
       "      <td>Instruction</td>\n",
       "      <td>School Reported</td>\n",
       "      <td>School</td>\n",
       "      <td>At Risk</td>\n",
       "      <td>Teacher</td>\n",
       "      <td>Other Compensation/Stipend</td>\n",
       "      <td>Non PreK</td>\n",
       "      <td>PreK-12 Operating</td>\n",
       "      <td>Salaries And Wages For Teachers And Other Prof...</td>\n",
       "      <td>...</td>\n",
       "      <td>Extended Day</td>\n",
       "      <td>School</td>\n",
       "      <td>NaN</td>\n",
       "      <td>Instruction</td>\n",
       "      <td>Instruction And Curriculum</td>\n",
       "      <td>TEACHER BACHELOR</td>\n",
       "      <td>77.953218</td>\n",
       "      <td>\"Title I, Part A Schoolwide Activities Related...</td>\n",
       "      <td>General Operating Fund</td>\n",
       "      <td>EXTENDED DAYS</td>\n",
       "    </tr>\n",
       "    <tr>\n",
       "      <th>283316</th>\n",
       "      <td>Food Services</td>\n",
       "      <td>O&amp;M</td>\n",
       "      <td>School Reported</td>\n",
       "      <td>School</td>\n",
       "      <td>Unspecified</td>\n",
       "      <td>Non-Position</td>\n",
       "      <td>Supplies/Materials</td>\n",
       "      <td>NO_LABEL</td>\n",
       "      <td>PreK-12 Operating</td>\n",
       "      <td>SMALL KITCHEN SUPPLIES</td>\n",
       "      <td>...</td>\n",
       "      <td>NaN</td>\n",
       "      <td>NaN</td>\n",
       "      <td>NaN</td>\n",
       "      <td>NON-PROJECT</td>\n",
       "      <td>NaN</td>\n",
       "      <td>UNDESIGNATED</td>\n",
       "      <td>2435.790000</td>\n",
       "      <td>FOOD PREPARATION/SERVING</td>\n",
       "      <td>NaN</td>\n",
       "      <td>FOOD SERVICES OPERATIONS</td>\n",
       "    </tr>\n",
       "    <tr>\n",
       "      <th>445474</th>\n",
       "      <td>Substitute Compensation</td>\n",
       "      <td>Instruction</td>\n",
       "      <td>School Reported</td>\n",
       "      <td>School</td>\n",
       "      <td>Unspecified</td>\n",
       "      <td>Substitute</td>\n",
       "      <td>Benefits</td>\n",
       "      <td>NO_LABEL</td>\n",
       "      <td>PreK-12 Operating</td>\n",
       "      <td>RETIREMENT CONTRIB.</td>\n",
       "      <td>...</td>\n",
       "      <td>NaN</td>\n",
       "      <td>NaN</td>\n",
       "      <td>NaN</td>\n",
       "      <td>EMPLOYEE RETIREMENT</td>\n",
       "      <td>NaN</td>\n",
       "      <td>UNDESIGNATED</td>\n",
       "      <td>46.460000</td>\n",
       "      <td>EMPLOYEE BENEFITS</td>\n",
       "      <td>NaN</td>\n",
       "      <td>EMPLOYEE BENEFITS</td>\n",
       "    </tr>\n",
       "    <tr>\n",
       "      <th>48780</th>\n",
       "      <td>Curriculum Development</td>\n",
       "      <td>NO_LABEL</td>\n",
       "      <td>Leadership &amp; Management</td>\n",
       "      <td>Non-School</td>\n",
       "      <td>NO_LABEL</td>\n",
       "      <td>NO_LABEL</td>\n",
       "      <td>Supplies/Materials</td>\n",
       "      <td>NO_LABEL</td>\n",
       "      <td>PreK-12 Operating</td>\n",
       "      <td>SUPPLIES</td>\n",
       "      <td>...</td>\n",
       "      <td>NaN</td>\n",
       "      <td>ADMIN. SERVICES</td>\n",
       "      <td>NaN</td>\n",
       "      <td>INSTRUCTION</td>\n",
       "      <td>NaN</td>\n",
       "      <td>NaN</td>\n",
       "      <td>-619.750000</td>\n",
       "      <td>Misc</td>\n",
       "      <td>General Fund</td>\n",
       "      <td>NaN</td>\n",
       "    </tr>\n",
       "  </tbody>\n",
       "</table>\n",
       "<p>5 rows × 25 columns</p>\n",
       "</div>"
      ],
      "text/plain": [
       "                                  Function          Use  \\\n",
       "57239   Instructional Materials & Supplies  Instruction   \n",
       "243442            Extended Time & Tutoring  Instruction   \n",
       "283316                       Food Services          O&M   \n",
       "445474             Substitute Compensation  Instruction   \n",
       "48780               Curriculum Development     NO_LABEL   \n",
       "\n",
       "                        Sharing   Reporting Student_Type Position_Type  \\\n",
       "57239           School Reported      School     NO_LABEL      NO_LABEL   \n",
       "243442          School Reported      School      At Risk       Teacher   \n",
       "283316          School Reported      School  Unspecified  Non-Position   \n",
       "445474          School Reported      School  Unspecified    Substitute   \n",
       "48780   Leadership & Management  Non-School     NO_LABEL      NO_LABEL   \n",
       "\n",
       "                       Object_Type     Pre_K   Operating_Status  \\\n",
       "57239           Supplies/Materials  NO_LABEL  PreK-12 Operating   \n",
       "243442  Other Compensation/Stipend  Non PreK  PreK-12 Operating   \n",
       "283316          Supplies/Materials  NO_LABEL  PreK-12 Operating   \n",
       "445474                    Benefits  NO_LABEL  PreK-12 Operating   \n",
       "48780           Supplies/Materials  NO_LABEL  PreK-12 Operating   \n",
       "\n",
       "                                       Object_Description  ...  \\\n",
       "57239                                            SUPPLIES  ...   \n",
       "243442  Salaries And Wages For Teachers And Other Prof...  ...   \n",
       "283316                             SMALL KITCHEN SUPPLIES  ...   \n",
       "445474                                RETIREMENT CONTRIB.  ...   \n",
       "48780                                            SUPPLIES  ...   \n",
       "\n",
       "       Sub_Object_Description Location_Description FTE Function_Description  \\\n",
       "57239                     NaN                  NaN NaN          INSTRUCTION   \n",
       "243442           Extended Day              School  NaN          Instruction   \n",
       "283316                    NaN                  NaN NaN          NON-PROJECT   \n",
       "445474                    NaN                  NaN NaN  EMPLOYEE RETIREMENT   \n",
       "48780                     NaN      ADMIN. SERVICES NaN          INSTRUCTION   \n",
       "\n",
       "            Facility_or_Department    Position_Extra        Total  \\\n",
       "57239                          NaN               NaN   315.410000   \n",
       "243442  Instruction And Curriculum  TEACHER BACHELOR    77.953218   \n",
       "283316                         NaN      UNDESIGNATED  2435.790000   \n",
       "445474                         NaN      UNDESIGNATED    46.460000   \n",
       "48780                          NaN               NaN  -619.750000   \n",
       "\n",
       "                                      Program_Description  \\\n",
       "57239                      SPECIAL EDUCATION CATEGORY III   \n",
       "243442  \"Title I, Part A Schoolwide Activities Related...   \n",
       "283316                           FOOD PREPARATION/SERVING   \n",
       "445474                                  EMPLOYEE BENEFITS   \n",
       "48780                                                Misc   \n",
       "\n",
       "              Fund_Description                    Text_1  \n",
       "57239             General Fund                       NaN  \n",
       "243442  General Operating Fund             EXTENDED DAYS  \n",
       "283316                     NaN  FOOD SERVICES OPERATIONS  \n",
       "445474                     NaN         EMPLOYEE BENEFITS  \n",
       "48780             General Fund                       NaN  \n",
       "\n",
       "[5 rows x 25 columns]"
      ]
     },
     "execution_count": 115,
     "metadata": {},
     "output_type": "execute_result"
    }
   ],
   "source": [
    "train_df.sample(5)"
   ]
  },
  {
   "cell_type": "code",
   "execution_count": 57,
   "id": "82ac41e5",
   "metadata": {
    "ExecuteTime": {
     "end_time": "2021-09-30T23:28:29.428920Z",
     "start_time": "2021-09-30T23:28:29.426466Z"
    }
   },
   "outputs": [],
   "source": [
    "# inspect\n",
    "#profile_report = train_df.profile_report(sort=None,\n",
    "#                                         explorative=True,\n",
    "#                                         html={\"style\": {\n",
    "#                                             \"full_width\": True\n",
    "#                                         }},\n",
    "#                                         progress_bar=True)\n",
    "#profile_report.to_file(\"docs/train_profile.html\")"
   ]
  },
  {
   "cell_type": "markdown",
   "id": "6d7d1337",
   "metadata": {},
   "source": [
    "# EDA"
   ]
  },
  {
   "cell_type": "markdown",
   "id": "18cc97ad",
   "metadata": {},
   "source": [
    "## Categorical Features"
   ]
  },
  {
   "cell_type": "code",
   "execution_count": 116,
   "id": "2e846bcd",
   "metadata": {
    "ExecuteTime": {
     "end_time": "2021-09-30T23:53:18.412767Z",
     "start_time": "2021-09-30T23:53:17.902361Z"
    }
   },
   "outputs": [
    {
     "name": "stdout",
     "output_type": "stream",
     "text": [
      "Possibly categorical columns...\n",
      "  Function\n",
      "  Use\n",
      "  Sharing\n",
      "  Reporting\n",
      "  Student_Type\n",
      "  Position_Type\n",
      "  Object_Type\n",
      "  Pre_K\n",
      "  Operating_Status\n",
      "  Text_3\n"
     ]
    }
   ],
   "source": [
    "# look for possible categorical columns\n",
    "MIN_CATEGORIES = 2\n",
    "MAX_CATEGORIES = 40\n",
    "categorical_cols = []\n",
    "print(\"Possibly categorical columns...\")   \n",
    "for col in train_df.select_dtypes(include=[\"object\"]).columns:\n",
    "    if MIN_CATEGORIES < len(train_df[col].value_counts()) < MAX_CATEGORIES:\n",
    "        categorical_cols.append(col)\n",
    "        print(f\"  {col}\")\n",
    "if len(categorical_cols) == 0:\n",
    "    print(\"   None\")"
   ]
  },
  {
   "cell_type": "code",
   "execution_count": 117,
   "id": "147b8b6d",
   "metadata": {
    "ExecuteTime": {
     "end_time": "2021-09-30T23:53:20.196013Z",
     "start_time": "2021-09-30T23:53:19.993575Z"
    }
   },
   "outputs": [
    {
     "data": {
      "text/html": [
       "<div>\n",
       "<style scoped>\n",
       "    .dataframe tbody tr th:only-of-type {\n",
       "        vertical-align: middle;\n",
       "    }\n",
       "\n",
       "    .dataframe tbody tr th {\n",
       "        vertical-align: top;\n",
       "    }\n",
       "\n",
       "    .dataframe thead th {\n",
       "        text-align: right;\n",
       "    }\n",
       "</style>\n",
       "<table border=\"1\" class=\"dataframe\">\n",
       "  <thead>\n",
       "    <tr style=\"text-align: right;\">\n",
       "      <th></th>\n",
       "      <th>Function</th>\n",
       "      <th>Use</th>\n",
       "      <th>Sharing</th>\n",
       "      <th>Reporting</th>\n",
       "      <th>Student_Type</th>\n",
       "      <th>Position_Type</th>\n",
       "      <th>Object_Type</th>\n",
       "      <th>Pre_K</th>\n",
       "      <th>Operating_Status</th>\n",
       "      <th>Object_Description</th>\n",
       "      <th>...</th>\n",
       "      <th>Sub_Object_Description</th>\n",
       "      <th>Location_Description</th>\n",
       "      <th>FTE</th>\n",
       "      <th>Function_Description</th>\n",
       "      <th>Facility_or_Department</th>\n",
       "      <th>Position_Extra</th>\n",
       "      <th>Total</th>\n",
       "      <th>Program_Description</th>\n",
       "      <th>Fund_Description</th>\n",
       "      <th>Text_1</th>\n",
       "    </tr>\n",
       "  </thead>\n",
       "  <tbody>\n",
       "    <tr>\n",
       "      <th>14366</th>\n",
       "      <td>Substitute Compensation</td>\n",
       "      <td>Instruction</td>\n",
       "      <td>School Reported</td>\n",
       "      <td>School</td>\n",
       "      <td>Unspecified</td>\n",
       "      <td>Substitute</td>\n",
       "      <td>Base Salary/Compensation</td>\n",
       "      <td>NO_LABEL</td>\n",
       "      <td>PreK-12 Operating</td>\n",
       "      <td>SALARIES OF PART TIME EMPLOYEE</td>\n",
       "      <td>...</td>\n",
       "      <td>NaN</td>\n",
       "      <td>NaN</td>\n",
       "      <td>0.00431</td>\n",
       "      <td>NON-PROJECT</td>\n",
       "      <td>NaN</td>\n",
       "      <td>PROFESSIONAL-INSTRUCTIONAL</td>\n",
       "      <td>109.477938</td>\n",
       "      <td>INSTRUCTIONAL STAFF TRAINING</td>\n",
       "      <td>NaN</td>\n",
       "      <td>INSTRUCTIONAL STAFF</td>\n",
       "    </tr>\n",
       "    <tr>\n",
       "      <th>96306</th>\n",
       "      <td>NO_LABEL</td>\n",
       "      <td>NO_LABEL</td>\n",
       "      <td>NO_LABEL</td>\n",
       "      <td>NO_LABEL</td>\n",
       "      <td>NO_LABEL</td>\n",
       "      <td>NO_LABEL</td>\n",
       "      <td>NO_LABEL</td>\n",
       "      <td>NO_LABEL</td>\n",
       "      <td>Non-Operating</td>\n",
       "      <td>Telephone Service</td>\n",
       "      <td>...</td>\n",
       "      <td>Communications *</td>\n",
       "      <td>NaN</td>\n",
       "      <td>NaN</td>\n",
       "      <td>State and Federal Projects Coordination Services*</td>\n",
       "      <td>NaN</td>\n",
       "      <td>NaN</td>\n",
       "      <td>-283.110000</td>\n",
       "      <td>NaN</td>\n",
       "      <td>Title I - Disadvantaged Children/Targeted Assi...</td>\n",
       "      <td>ESEA TITLE I</td>\n",
       "    </tr>\n",
       "    <tr>\n",
       "      <th>379878</th>\n",
       "      <td>School Administration</td>\n",
       "      <td>Leadership</td>\n",
       "      <td>School Reported</td>\n",
       "      <td>School</td>\n",
       "      <td>Unspecified</td>\n",
       "      <td>Principal</td>\n",
       "      <td>Base Salary/Compensation</td>\n",
       "      <td>Non PreK</td>\n",
       "      <td>PreK-12 Operating</td>\n",
       "      <td>Personal Services - Principals</td>\n",
       "      <td>...</td>\n",
       "      <td>NaN</td>\n",
       "      <td>NaN</td>\n",
       "      <td>1.00000</td>\n",
       "      <td>NaN</td>\n",
       "      <td>NaN</td>\n",
       "      <td>PRINCIPAL</td>\n",
       "      <td>83940.560000</td>\n",
       "      <td>Principal's Office</td>\n",
       "      <td>General Purpose School</td>\n",
       "      <td>NaN</td>\n",
       "    </tr>\n",
       "    <tr>\n",
       "      <th>76402</th>\n",
       "      <td>Student Transportation</td>\n",
       "      <td>O&amp;M</td>\n",
       "      <td>Shared Services</td>\n",
       "      <td>Non-School</td>\n",
       "      <td>Special Education</td>\n",
       "      <td>Other</td>\n",
       "      <td>Other Compensation/Stipend</td>\n",
       "      <td>NO_LABEL</td>\n",
       "      <td>PreK-12 Operating</td>\n",
       "      <td>PART-TIME EXTRA PAY</td>\n",
       "      <td>...</td>\n",
       "      <td>NaN</td>\n",
       "      <td>GARAGE</td>\n",
       "      <td>NaN</td>\n",
       "      <td>NON-PROJECT</td>\n",
       "      <td>NaN</td>\n",
       "      <td>CRAFTS, TRADES, AND SERVICES</td>\n",
       "      <td>81.742160</td>\n",
       "      <td>TRANSPORTATION-OPERATIONS</td>\n",
       "      <td>NaN</td>\n",
       "      <td>STUDENT TRANSPORTATION</td>\n",
       "    </tr>\n",
       "    <tr>\n",
       "      <th>34166</th>\n",
       "      <td>Social &amp; Emotional</td>\n",
       "      <td>Pupil Services &amp; Enrichment</td>\n",
       "      <td>School Reported</td>\n",
       "      <td>School</td>\n",
       "      <td>Unspecified</td>\n",
       "      <td>Guidance Counselor</td>\n",
       "      <td>Base Salary/Compensation</td>\n",
       "      <td>Non PreK</td>\n",
       "      <td>PreK-12 Operating</td>\n",
       "      <td>Salaries And Wages For Teachers And Other Prof...</td>\n",
       "      <td>...</td>\n",
       "      <td>Salaries And Wages For Teachers And Other Prof...</td>\n",
       "      <td>School</td>\n",
       "      <td>0.35000</td>\n",
       "      <td>\"Guidance, Counseling And Evaluation Services\"</td>\n",
       "      <td>All Campus Payroll</td>\n",
       "      <td>COUNSELOR MIDDLE SCHOOL</td>\n",
       "      <td>30372.944250</td>\n",
       "      <td>Undistributed</td>\n",
       "      <td>General Operating Fund</td>\n",
       "      <td>REGULAR PAY</td>\n",
       "    </tr>\n",
       "  </tbody>\n",
       "</table>\n",
       "<p>5 rows × 25 columns</p>\n",
       "</div>"
      ],
      "text/plain": [
       "                       Function                          Use          Sharing  \\\n",
       "14366   Substitute Compensation                  Instruction  School Reported   \n",
       "96306                  NO_LABEL                     NO_LABEL         NO_LABEL   \n",
       "379878    School Administration                   Leadership  School Reported   \n",
       "76402    Student Transportation                          O&M  Shared Services   \n",
       "34166        Social & Emotional  Pupil Services & Enrichment  School Reported   \n",
       "\n",
       "         Reporting       Student_Type       Position_Type  \\\n",
       "14366       School        Unspecified          Substitute   \n",
       "96306     NO_LABEL           NO_LABEL            NO_LABEL   \n",
       "379878      School        Unspecified           Principal   \n",
       "76402   Non-School  Special Education               Other   \n",
       "34166       School        Unspecified  Guidance Counselor   \n",
       "\n",
       "                       Object_Type     Pre_K   Operating_Status  \\\n",
       "14366     Base Salary/Compensation  NO_LABEL  PreK-12 Operating   \n",
       "96306                     NO_LABEL  NO_LABEL      Non-Operating   \n",
       "379878    Base Salary/Compensation  Non PreK  PreK-12 Operating   \n",
       "76402   Other Compensation/Stipend  NO_LABEL  PreK-12 Operating   \n",
       "34166     Base Salary/Compensation  Non PreK  PreK-12 Operating   \n",
       "\n",
       "                                       Object_Description  ...  \\\n",
       "14366                      SALARIES OF PART TIME EMPLOYEE  ...   \n",
       "96306                                   Telephone Service  ...   \n",
       "379878                     Personal Services - Principals  ...   \n",
       "76402                                 PART-TIME EXTRA PAY  ...   \n",
       "34166   Salaries And Wages For Teachers And Other Prof...  ...   \n",
       "\n",
       "                                   Sub_Object_Description  \\\n",
       "14366                                                 NaN   \n",
       "96306                                    Communications *   \n",
       "379878                                                NaN   \n",
       "76402                                                 NaN   \n",
       "34166   Salaries And Wages For Teachers And Other Prof...   \n",
       "\n",
       "       Location_Description      FTE  \\\n",
       "14366                   NaN  0.00431   \n",
       "96306                   NaN      NaN   \n",
       "379878                  NaN  1.00000   \n",
       "76402                GARAGE      NaN   \n",
       "34166               School   0.35000   \n",
       "\n",
       "                                     Function_Description  \\\n",
       "14366                                         NON-PROJECT   \n",
       "96306   State and Federal Projects Coordination Services*   \n",
       "379878                                                NaN   \n",
       "76402                                         NON-PROJECT   \n",
       "34166      \"Guidance, Counseling And Evaluation Services\"   \n",
       "\n",
       "       Facility_or_Department                Position_Extra         Total  \\\n",
       "14366                     NaN    PROFESSIONAL-INSTRUCTIONAL    109.477938   \n",
       "96306                     NaN                           NaN   -283.110000   \n",
       "379878                    NaN                     PRINCIPAL  83940.560000   \n",
       "76402                     NaN  CRAFTS, TRADES, AND SERVICES     81.742160   \n",
       "34166      All Campus Payroll       COUNSELOR MIDDLE SCHOOL  30372.944250   \n",
       "\n",
       "                 Program_Description  \\\n",
       "14366   INSTRUCTIONAL STAFF TRAINING   \n",
       "96306                            NaN   \n",
       "379878            Principal's Office   \n",
       "76402      TRANSPORTATION-OPERATIONS   \n",
       "34166                  Undistributed   \n",
       "\n",
       "                                         Fund_Description  \\\n",
       "14366                                                 NaN   \n",
       "96306   Title I - Disadvantaged Children/Targeted Assi...   \n",
       "379878                             General Purpose School   \n",
       "76402                                                 NaN   \n",
       "34166                              General Operating Fund   \n",
       "\n",
       "                        Text_1  \n",
       "14366      INSTRUCTIONAL STAFF  \n",
       "96306             ESEA TITLE I  \n",
       "379878                     NaN  \n",
       "76402   STUDENT TRANSPORTATION  \n",
       "34166              REGULAR PAY  \n",
       "\n",
       "[5 rows x 25 columns]"
      ]
     },
     "execution_count": 117,
     "metadata": {},
     "output_type": "execute_result"
    }
   ],
   "source": [
    "# change the column type\n",
    "categorical_cols.remove(\"Text_3\")\n",
    "categorize_feature = lambda x: x.astype(\"category\")\n",
    "train_df[categorical_cols].apply(categorize_feature, axis=0)\n",
    "train_df.sample(5)"
   ]
  },
  {
   "cell_type": "code",
   "execution_count": 118,
   "id": "32b1cb5a",
   "metadata": {
    "ExecuteTime": {
     "end_time": "2021-09-30T23:53:22.050891Z",
     "start_time": "2021-09-30T23:53:21.757838Z"
    }
   },
   "outputs": [
    {
     "data": {
      "text/plain": [
       "Text(0, 0.5, 'Number of unique values')"
      ]
     },
     "execution_count": 118,
     "metadata": {},
     "output_type": "execute_result"
    },
    {
     "data": {
      "image/png": "[encoded data removed]",
      "text/plain": [
       "<Figure size 1080x432 with 1 Axes>"
      ]
     },
     "metadata": {
      "needs_background": "light"
     },
     "output_type": "display_data"
    }
   ],
   "source": [
    "# display unique values for each feature\n",
    "n_unique_features = train_df[categorical_cols].apply(pd.Series.nunique).sort_values(ascending=False)\n",
    "sns.barplot(x=n_unique_features.index, y=n_unique_features.values)\n",
    "plt.xlabel('Feature')\n",
    "plt.ylabel('Number of unique values')"
   ]
  },
  {
   "cell_type": "code",
   "execution_count": 119,
   "id": "8b6a77e0",
   "metadata": {
    "ExecuteTime": {
     "end_time": "2021-09-30T23:53:24.239160Z",
     "start_time": "2021-09-30T23:53:23.846324Z"
    }
   },
   "outputs": [
    {
     "data": {
      "text/html": [
       "<div>\n",
       "<style scoped>\n",
       "    .dataframe tbody tr th:only-of-type {\n",
       "        vertical-align: middle;\n",
       "    }\n",
       "\n",
       "    .dataframe tbody tr th {\n",
       "        vertical-align: top;\n",
       "    }\n",
       "\n",
       "    .dataframe thead th {\n",
       "        text-align: right;\n",
       "    }\n",
       "</style>\n",
       "<table border=\"1\" class=\"dataframe\">\n",
       "  <thead>\n",
       "    <tr style=\"text-align: right;\">\n",
       "      <th></th>\n",
       "      <th>Function_Aides Compensation</th>\n",
       "      <th>Function_Career &amp; Academic Counseling</th>\n",
       "      <th>Function_Communications</th>\n",
       "      <th>Function_Curriculum Development</th>\n",
       "      <th>Function_Data Processing &amp; Information Services</th>\n",
       "      <th>Function_Development &amp; Fundraising</th>\n",
       "      <th>Function_Enrichment</th>\n",
       "      <th>Function_Extended Time &amp; Tutoring</th>\n",
       "      <th>Function_Facilities &amp; Maintenance</th>\n",
       "      <th>Function_Facilities Planning</th>\n",
       "      <th>...</th>\n",
       "      <th>Object_Type_Rent/Utilities</th>\n",
       "      <th>Object_Type_Substitute Compensation</th>\n",
       "      <th>Object_Type_Supplies/Materials</th>\n",
       "      <th>Object_Type_Travel &amp; Conferences</th>\n",
       "      <th>Pre_K_NO_LABEL</th>\n",
       "      <th>Pre_K_Non PreK</th>\n",
       "      <th>Pre_K_PreK</th>\n",
       "      <th>Operating_Status_Non-Operating</th>\n",
       "      <th>Operating_Status_Operating, Not PreK-12</th>\n",
       "      <th>Operating_Status_PreK-12 Operating</th>\n",
       "    </tr>\n",
       "  </thead>\n",
       "  <tbody>\n",
       "    <tr>\n",
       "      <th>280100</th>\n",
       "      <td>0</td>\n",
       "      <td>0</td>\n",
       "      <td>0</td>\n",
       "      <td>0</td>\n",
       "      <td>0</td>\n",
       "      <td>0</td>\n",
       "      <td>0</td>\n",
       "      <td>0</td>\n",
       "      <td>0</td>\n",
       "      <td>0</td>\n",
       "      <td>...</td>\n",
       "      <td>0</td>\n",
       "      <td>0</td>\n",
       "      <td>0</td>\n",
       "      <td>0</td>\n",
       "      <td>1</td>\n",
       "      <td>0</td>\n",
       "      <td>0</td>\n",
       "      <td>0</td>\n",
       "      <td>0</td>\n",
       "      <td>1</td>\n",
       "    </tr>\n",
       "    <tr>\n",
       "      <th>88547</th>\n",
       "      <td>0</td>\n",
       "      <td>0</td>\n",
       "      <td>0</td>\n",
       "      <td>0</td>\n",
       "      <td>0</td>\n",
       "      <td>0</td>\n",
       "      <td>0</td>\n",
       "      <td>0</td>\n",
       "      <td>0</td>\n",
       "      <td>0</td>\n",
       "      <td>...</td>\n",
       "      <td>0</td>\n",
       "      <td>1</td>\n",
       "      <td>0</td>\n",
       "      <td>0</td>\n",
       "      <td>0</td>\n",
       "      <td>1</td>\n",
       "      <td>0</td>\n",
       "      <td>0</td>\n",
       "      <td>0</td>\n",
       "      <td>1</td>\n",
       "    </tr>\n",
       "    <tr>\n",
       "      <th>360738</th>\n",
       "      <td>0</td>\n",
       "      <td>0</td>\n",
       "      <td>0</td>\n",
       "      <td>0</td>\n",
       "      <td>0</td>\n",
       "      <td>0</td>\n",
       "      <td>0</td>\n",
       "      <td>0</td>\n",
       "      <td>0</td>\n",
       "      <td>0</td>\n",
       "      <td>...</td>\n",
       "      <td>0</td>\n",
       "      <td>0</td>\n",
       "      <td>0</td>\n",
       "      <td>0</td>\n",
       "      <td>1</td>\n",
       "      <td>0</td>\n",
       "      <td>0</td>\n",
       "      <td>0</td>\n",
       "      <td>0</td>\n",
       "      <td>1</td>\n",
       "    </tr>\n",
       "    <tr>\n",
       "      <th>44579</th>\n",
       "      <td>0</td>\n",
       "      <td>0</td>\n",
       "      <td>0</td>\n",
       "      <td>0</td>\n",
       "      <td>0</td>\n",
       "      <td>0</td>\n",
       "      <td>0</td>\n",
       "      <td>0</td>\n",
       "      <td>0</td>\n",
       "      <td>0</td>\n",
       "      <td>...</td>\n",
       "      <td>0</td>\n",
       "      <td>0</td>\n",
       "      <td>0</td>\n",
       "      <td>0</td>\n",
       "      <td>1</td>\n",
       "      <td>0</td>\n",
       "      <td>0</td>\n",
       "      <td>0</td>\n",
       "      <td>0</td>\n",
       "      <td>1</td>\n",
       "    </tr>\n",
       "    <tr>\n",
       "      <th>218956</th>\n",
       "      <td>0</td>\n",
       "      <td>0</td>\n",
       "      <td>0</td>\n",
       "      <td>0</td>\n",
       "      <td>0</td>\n",
       "      <td>0</td>\n",
       "      <td>0</td>\n",
       "      <td>0</td>\n",
       "      <td>0</td>\n",
       "      <td>0</td>\n",
       "      <td>...</td>\n",
       "      <td>0</td>\n",
       "      <td>0</td>\n",
       "      <td>0</td>\n",
       "      <td>0</td>\n",
       "      <td>0</td>\n",
       "      <td>0</td>\n",
       "      <td>1</td>\n",
       "      <td>0</td>\n",
       "      <td>0</td>\n",
       "      <td>1</td>\n",
       "    </tr>\n",
       "  </tbody>\n",
       "</table>\n",
       "<p>5 rows × 104 columns</p>\n",
       "</div>"
      ],
      "text/plain": [
       "        Function_Aides Compensation  Function_Career & Academic Counseling  \\\n",
       "280100                            0                                      0   \n",
       "88547                             0                                      0   \n",
       "360738                            0                                      0   \n",
       "44579                             0                                      0   \n",
       "218956                            0                                      0   \n",
       "\n",
       "        Function_Communications  Function_Curriculum Development  \\\n",
       "280100                        0                                0   \n",
       "88547                         0                                0   \n",
       "360738                        0                                0   \n",
       "44579                         0                                0   \n",
       "218956                        0                                0   \n",
       "\n",
       "        Function_Data Processing & Information Services  \\\n",
       "280100                                                0   \n",
       "88547                                                 0   \n",
       "360738                                                0   \n",
       "44579                                                 0   \n",
       "218956                                                0   \n",
       "\n",
       "        Function_Development & Fundraising  Function_Enrichment  \\\n",
       "280100                                   0                    0   \n",
       "88547                                    0                    0   \n",
       "360738                                   0                    0   \n",
       "44579                                    0                    0   \n",
       "218956                                   0                    0   \n",
       "\n",
       "        Function_Extended Time & Tutoring  Function_Facilities & Maintenance  \\\n",
       "280100                                  0                                  0   \n",
       "88547                                   0                                  0   \n",
       "360738                                  0                                  0   \n",
       "44579                                   0                                  0   \n",
       "218956                                  0                                  0   \n",
       "\n",
       "        Function_Facilities Planning  ...  Object_Type_Rent/Utilities  \\\n",
       "280100                             0  ...                           0   \n",
       "88547                              0  ...                           0   \n",
       "360738                             0  ...                           0   \n",
       "44579                              0  ...                           0   \n",
       "218956                             0  ...                           0   \n",
       "\n",
       "        Object_Type_Substitute Compensation  Object_Type_Supplies/Materials  \\\n",
       "280100                                    0                               0   \n",
       "88547                                     1                               0   \n",
       "360738                                    0                               0   \n",
       "44579                                     0                               0   \n",
       "218956                                    0                               0   \n",
       "\n",
       "        Object_Type_Travel & Conferences  Pre_K_NO_LABEL  Pre_K_Non PreK  \\\n",
       "280100                                 0               1               0   \n",
       "88547                                  0               0               1   \n",
       "360738                                 0               1               0   \n",
       "44579                                  0               1               0   \n",
       "218956                                 0               0               0   \n",
       "\n",
       "        Pre_K_PreK  Operating_Status_Non-Operating  \\\n",
       "280100           0                               0   \n",
       "88547            0                               0   \n",
       "360738           0                               0   \n",
       "44579            0                               0   \n",
       "218956           1                               0   \n",
       "\n",
       "        Operating_Status_Operating, Not PreK-12  \\\n",
       "280100                                        0   \n",
       "88547                                         0   \n",
       "360738                                        0   \n",
       "44579                                         0   \n",
       "218956                                        0   \n",
       "\n",
       "        Operating_Status_PreK-12 Operating  \n",
       "280100                                   1  \n",
       "88547                                    1  \n",
       "360738                                   1  \n",
       "44579                                    1  \n",
       "218956                                   1  \n",
       "\n",
       "[5 rows x 104 columns]"
      ]
     },
     "execution_count": 119,
     "metadata": {},
     "output_type": "execute_result"
    }
   ],
   "source": [
    "categorical_dummies = pd.get_dummies(train_df[categorical_cols])\n",
    "categorical_dummies.sample(5)"
   ]
  },
  {
   "cell_type": "markdown",
   "id": "f7823ce4",
   "metadata": {},
   "source": [
    "## Numerical Features"
   ]
  },
  {
   "cell_type": "code",
   "execution_count": 120,
   "id": "050e593b",
   "metadata": {
    "ExecuteTime": {
     "end_time": "2021-09-30T23:53:25.791337Z",
     "start_time": "2021-09-30T23:53:25.786990Z"
    }
   },
   "outputs": [
    {
     "name": "stdout",
     "output_type": "stream",
     "text": [
      "Numeric columns...\n",
      "  FTE\n",
      "  Total\n"
     ]
    }
   ],
   "source": [
    "# look for possible numeric columns\n",
    "numeric_cols = train_df.select_dtypes(include=[\"number\"]).columns.to_list()\n",
    "print(\"Numeric columns...\")\n",
    "for c in numeric_cols:\n",
    "    print(f\"  {c}\")"
   ]
  },
  {
   "cell_type": "code",
   "execution_count": 121,
   "id": "3347d33b",
   "metadata": {
    "ExecuteTime": {
     "end_time": "2021-09-30T23:53:27.375454Z",
     "start_time": "2021-09-30T23:53:27.370627Z"
    }
   },
   "outputs": [],
   "source": [
    "numeric_data = train_df[numeric_cols].fillna(-1000)"
   ]
  },
  {
   "cell_type": "markdown",
   "id": "a7c4463a",
   "metadata": {},
   "source": [
    "## Text Features"
   ]
  },
  {
   "cell_type": "code",
   "execution_count": 122,
   "id": "7062a171",
   "metadata": {
    "ExecuteTime": {
     "end_time": "2021-09-30T23:53:28.963023Z",
     "start_time": "2021-09-30T23:53:28.961042Z"
    }
   },
   "outputs": [],
   "source": [
    "non_text_cols = numeric_cols + categorical_cols\n",
    "text_cols = [c for c in train_df.columns if c not in non_text_cols]"
   ]
  },
  {
   "cell_type": "code",
   "execution_count": 123,
   "id": "3f6e9832",
   "metadata": {
    "ExecuteTime": {
     "end_time": "2021-09-30T23:53:43.174602Z",
     "start_time": "2021-09-30T23:53:30.523450Z"
    }
   },
   "outputs": [
    {
     "name": "stdout",
     "output_type": "stream",
     "text": [
      "There are 4757 tokens in the dataset\n",
      "There are 3284 alpha-numeric tokens in the dataset\n"
     ]
    }
   ],
   "source": [
    "# Import the CountVectorizer\n",
    "from sklearn.feature_extraction.text import CountVectorizer\n",
    "\n",
    "# Create the basic token pattern\n",
    "TOKENS_BASIC = '\\\\S+(?=\\\\s+)'\n",
    "\n",
    "# Create the alphanumeric token pattern\n",
    "TOKENS_ALPHANUMERIC = '[A-Za-z0-9]+(?=\\\\s+)'\n",
    "\n",
    "# Instantiate basic CountVectorizer: vec_basic\n",
    "vec_basic = CountVectorizer(token_pattern=TOKENS_BASIC)\n",
    "\n",
    "# Instantiate alphanumeric CountVectorizer: vec_alphanumeric\n",
    "vec_alphanumeric = CountVectorizer(token_pattern=TOKENS_ALPHANUMERIC)\n",
    "\n",
    "# Join all text items in a row that have a space in between\n",
    "text_vector = train_df[text_cols].fillna(\"\").apply(lambda x: \" \".join(x), axis=1)\n",
    "\n",
    "# Fit and transform vec_basic\n",
    "vec_basic.fit_transform(text_vector)\n",
    "\n",
    "# Print number of tokens of vec_basic\n",
    "print(\"There are {} tokens in the dataset\".format(len(vec_basic.get_feature_names())))\n",
    "\n",
    "# Fit and transform vec_alphanumeric\n",
    "vec_alphanumeric.fit_transform(text_vector)\n",
    "\n",
    "# Print number of tokens of vec_alphanumeric\n",
    "print(\"There are {} alpha-numeric tokens in the dataset\".format(len(vec_alphanumeric.get_feature_names())))"
   ]
  },
  {
   "cell_type": "markdown",
   "id": "d1eb2945",
   "metadata": {},
   "source": [
    "# Preprocessing"
   ]
  },
  {
   "cell_type": "code",
   "execution_count": 64,
   "id": "3c7595da",
   "metadata": {
    "ExecuteTime": {
     "end_time": "2021-09-30T23:28:48.254336Z",
     "start_time": "2021-09-30T23:28:47.323317Z"
    }
   },
   "outputs": [
    {
     "name": "stdout",
     "output_type": "stream",
     "text": [
      "X_train info:\n",
      "<class 'pandas.core.frame.DataFrame'>\n",
      "Int64Index: 320222 entries, 206341 to 415831\n",
      "Data columns (total 2 columns):\n",
      " #   Column  Non-Null Count   Dtype  \n",
      "---  ------  --------------   -----  \n",
      " 0   FTE     320222 non-null  float64\n",
      " 1   Total   320222 non-null  float64\n",
      "dtypes: float64(2)\n",
      "memory usage: 7.3 MB\n",
      "None\n",
      "\n",
      "X_test info:\n",
      "<class 'pandas.core.frame.DataFrame'>\n",
      "Int64Index: 80055 entries, 134338 to 433672\n",
      "Data columns (total 2 columns):\n",
      " #   Column  Non-Null Count  Dtype  \n",
      "---  ------  --------------  -----  \n",
      " 0   FTE     80055 non-null  float64\n",
      " 1   Total   80055 non-null  float64\n",
      "dtypes: float64(2)\n",
      "memory usage: 1.8 MB\n",
      "None\n",
      "\n",
      "y_train info:\n",
      "<class 'pandas.core.frame.DataFrame'>\n",
      "Int64Index: 320222 entries, 206341 to 415831\n",
      "Columns: 104 entries, Function_Aides Compensation to Operating_Status_PreK-12 Operating\n",
      "dtypes: uint8(104)\n",
      "memory usage: 34.2 MB\n",
      "None\n",
      "\n",
      "y_test info:\n",
      "<class 'pandas.core.frame.DataFrame'>\n",
      "Int64Index: 80055 entries, 134338 to 433672\n",
      "Columns: 104 entries, Function_Aides Compensation to Operating_Status_PreK-12 Operating\n",
      "dtypes: uint8(104)\n",
      "memory usage: 8.6 MB\n",
      "None\n"
     ]
    }
   ],
   "source": [
    "# Create training and test sets\n",
    "X_train, X_test, y_train, y_test = multilabel_train_test_split(\n",
    "    numeric_data, categorical_dummies, size=0.2, seed=42)\n",
    "\n",
    "# Print the info\n",
    "print(\"X_train info:\")\n",
    "print(X_train.info())\n",
    "print(\"\\nX_test info:\")\n",
    "print(X_test.info())\n",
    "print(\"\\ny_train info:\")\n",
    "print(y_train.info())\n",
    "print(\"\\ny_test info:\")\n",
    "print(y_test.info())"
   ]
  },
  {
   "cell_type": "markdown",
   "id": "7743f6af",
   "metadata": {},
   "source": [
    "# Modeling"
   ]
  },
  {
   "cell_type": "code",
   "execution_count": 65,
   "id": "1ad37d61",
   "metadata": {
    "ExecuteTime": {
     "end_time": "2021-09-30T23:28:49.900753Z",
     "start_time": "2021-09-30T23:28:49.899045Z"
    }
   },
   "outputs": [],
   "source": [
    "# model name\n",
    "model_name = \"models/ovr_logreg.joblib\""
   ]
  },
  {
   "cell_type": "code",
   "execution_count": null,
   "id": "e15975ba",
   "metadata": {
    "ExecuteTime": {
     "end_time": "2021-09-30T23:00:18.559860Z",
     "start_time": "2021-09-30T22:58:46.669793Z"
    }
   },
   "outputs": [],
   "source": [
    "# Import classifiers\n",
    "from sklearn.linear_model import LogisticRegression\n",
    "from sklearn.multiclass import OneVsRestClassifier\n",
    "\n",
    "# Instantiate the classifier: clf\n",
    "clf = OneVsRestClassifier(LogisticRegression())\n",
    "\n",
    "# Fit the classifier to the training data\n",
    "clf.fit(X_train, y_train)\n",
    "\n",
    "# Print the accuracy\n",
    "print(\"Accuracy: {}\".format(clf.score(X_test, y_test)))\n",
    "\n",
    "# save model\n",
    "joblib.dump(clf, model_name) "
   ]
  },
  {
   "cell_type": "code",
   "execution_count": 66,
   "id": "d389de48",
   "metadata": {
    "ExecuteTime": {
     "end_time": "2021-09-30T23:28:58.487622Z",
     "start_time": "2021-09-30T23:28:52.253421Z"
    }
   },
   "outputs": [],
   "source": [
    "# reload model\n",
    "clf = joblib.load(model_name) \n",
    "\n",
    "# Generate predictions: predictions\n",
    "predictions = clf.predict_proba(test_df[numeric_cols].fillna(-1000))\n",
    "\n",
    "# Format predictions in DataFrame: prediction_df\n",
    "prediction_df = pd.DataFrame(columns=pd.get_dummies(train_df[categorical_cols]).columns,\n",
    "                             index=test_df.index,\n",
    "                             data=predictions)\n",
    "\n",
    "\n",
    "# Save prediction_df to csv\n",
    "prediction_df.to_csv(\"datasets/predictions.csv\")"
   ]
  },
  {
   "cell_type": "markdown",
   "id": "6948ee83",
   "metadata": {
    "ExecuteTime": {
     "end_time": "2021-09-30T23:35:17.622863Z",
     "start_time": "2021-09-30T23:35:17.619628Z"
    }
   },
   "source": [
    "<div class=\"alert alert-block alert-danger\">\n",
    "<b>WARNING</b></div>"
   ]
  },
  {
   "cell_type": "markdown",
   "id": "3de4764c",
   "metadata": {},
   "source": [
    "Sorry, this exercise ends here because the peeps at Datacamp ensured that their tutorial is not fully reproducible by using a `score_submission` function that relies on a hidden file they do not share."
   ]
  },
  {
   "cell_type": "markdown",
   "id": "ead5ff4f",
   "metadata": {},
   "source": [
    "<div class=\"alert alert-block alert-danger\">\n",
    "<b>:(</b></div>"
   ]
  },
  {
   "cell_type": "code",
   "execution_count": null,
   "id": "6c8dd34d",
   "metadata": {},
   "outputs": [],
   "source": []
  }
 ],
 "metadata": {
  "kernelspec": {
   "display_name": "Python 3 (ipykernel)",
   "language": "python",
   "name": "python3"
  },
  "language_info": {
   "codemirror_mode": {
    "name": "ipython",
    "version": 3
   },
   "file_extension": ".py",
   "mimetype": "text/x-python",
   "name": "python",
   "nbconvert_exporter": "python",
   "pygments_lexer": "ipython3",
   "version": "3.8.0"
  },
  "toc": {
   "base_numbering": 1,
   "nav_menu": {},
   "number_sections": true,
   "sideBar": true,
   "skip_h1_title": false,
   "title_cell": "Table of Contents",
   "title_sidebar": "Contents",
   "toc_cell": false,
   "toc_position": {},
   "toc_section_display": true,
   "toc_window_display": true
  },
  "varInspector": {
   "cols": {
    "lenName": 16,
    "lenType": 16,
    "lenVar": 40
   },
   "kernels_config": {
    "python": {
     "delete_cmd_postfix": "",
     "delete_cmd_prefix": "del ",
     "library": "var_list.py",
     "varRefreshCmd": "print(var_dic_list())"
    },
    "r": {
     "delete_cmd_postfix": ") ",
     "delete_cmd_prefix": "rm(",
     "library": "var_list.r",
     "varRefreshCmd": "cat(var_dic_list()) "
    }
   },
   "types_to_exclude": [
    "module",
    "function",
    "builtin_function_or_method",
    "instance",
    "_Feature"
   ],
   "window_display": false
  }
 },
 "nbformat": 4,
 "nbformat_minor": 5
}
