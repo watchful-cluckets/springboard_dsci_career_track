{
 "cells": [
  {
   "cell_type": "markdown",
   "id": "60017afb",
   "metadata": {
    "heading_collapsed": true
   },
   "source": [
    "# Imports"
   ]
  },
  {
   "cell_type": "code",
   "execution_count": 5,
   "id": "14bee72d",
   "metadata": {
    "ExecuteTime": {
     "end_time": "2021-09-28T20:52:44.517277Z",
     "start_time": "2021-09-28T20:52:44.514656Z"
    },
    "hidden": true
   },
   "outputs": [],
   "source": [
    "import datetime\n",
    "import glob\n",
    "import itertools\n",
    "import json\n",
    "import os\n",
    "import pickle\n",
    "import random\n",
    "import re\n",
    "from string import punctuation"
   ]
  },
  {
   "cell_type": "code",
   "execution_count": 52,
   "id": "b0d99bff",
   "metadata": {
    "ExecuteTime": {
     "end_time": "2021-09-28T21:47:29.555916Z",
     "start_time": "2021-09-28T21:47:29.553418Z"
    },
    "hidden": true
   },
   "outputs": [],
   "source": [
    "import statistics\n",
    "\n",
    "import fuzzywuzzy\n",
    "import geopandas as gpd\n",
    "import humanize\n",
    "import janitor\n",
    "import missingno as msno\n",
    "import numpy as np\n",
    "import pandas as pd\n",
    "import recordlinkage\n",
    "import scipy as sp\n",
    "import statsmodels.formula.api as smf\n",
    "from pandas_profiling import ProfileReport"
   ]
  },
  {
   "cell_type": "code",
   "execution_count": 7,
   "id": "cd0ede1f",
   "metadata": {
    "ExecuteTime": {
     "end_time": "2021-09-28T20:52:46.070505Z",
     "start_time": "2021-09-28T20:52:45.895167Z"
    },
    "hidden": true
   },
   "outputs": [],
   "source": [
    "SMALL_SIZE = 10\n",
    "MEDIUM_SIZE = 14\n",
    "BIGGER_SIZE = 18\n",
    "MAPBOX_STYLE = \"dark\"\n",
    "MAPBOX_HEIGHT = 800\n",
    "%matplotlib inline\n",
    "import seaborn as sns\n",
    "import matplotlib as mpl\n",
    "import matplotlib.font_manager\n",
    "import matplotlib.pyplot as plt\n",
    "import plotly.express as px\n",
    "import plotly.graph_objects as go\n",
    "from matplotlib.ticker import PercentFormatter\n",
    "px.set_mapbox_access_token(os.getenv(\"MAPBOX_TOKEN\"))\n",
    "matplotlib.font_manager.findSystemFonts(fontpaths=None, fontext=\"ttf\")\n",
    "plt.style.use(\"seaborn-colorblind\")\n",
    "plt.rcParams[\"font.family\"] = \"sans-serif\"\n",
    "plt.rcParams[\"font.sans-serif\"] = \"Open Sans\"\n",
    "plt.rcParams[\"figure.figsize\"] = 15, 6\n",
    "plt.rc('font', size=SMALL_SIZE)          # controls default text sizes\n",
    "plt.rc('axes', titlesize=SMALL_SIZE)     # fontsize of the axes title\n",
    "plt.rc('axes', labelsize=MEDIUM_SIZE)    # fontsize of the x and y labels\n",
    "plt.rc('xtick', labelsize=SMALL_SIZE)    # fontsize of the tick labels\n",
    "plt.rc('ytick', labelsize=SMALL_SIZE)    # fontsize of the tick labels\n",
    "plt.rc('legend', fontsize=SMALL_SIZE)    # legend fontsize\n",
    "plt.rc('figure', titlesize=BIGGER_SIZE)  # fontsize of the figure title"
   ]
  },
  {
   "cell_type": "code",
   "execution_count": 10,
   "id": "973196f0",
   "metadata": {
    "ExecuteTime": {
     "end_time": "2021-09-28T20:54:26.931797Z",
     "start_time": "2021-09-28T20:54:26.900283Z"
    },
    "hidden": true
   },
   "outputs": [],
   "source": [
    "from mlxtend.plotting import plot_decision_regions\n",
    "from sklearn import __version__ as sklearn_version\n",
    "from sklearn.cluster import KMeans\n",
    "from sklearn.decomposition import NMF, PCA\n",
    "from sklearn.dummy import DummyRegressor\n",
    "from sklearn.ensemble import (AdaBoostClassifier, BaggingClassifier, GradientBoostingClassifier,\n",
    "                              GradientBoostingRegressor, RandomForestClassifier, RandomForestRegressor,\n",
    "                              VotingClassifier)\n",
    "from sklearn.feature_selection import SelectKBest, f_regression\n",
    "from sklearn.impute import SimpleImputer\n",
    "from sklearn.linear_model import LinearRegression, LogisticRegression\n",
    "from sklearn.manifold import TSNE\n",
    "from sklearn.metrics import (accuracy_score, average_precision_score, classification_report,\n",
    "                             confusion_matrix, mean_absolute_error,\n",
    "                             mean_squared_error, plot_precision_recall_curve,\n",
    "                             precision_recall_curve, r2_score, roc_auc_score,\n",
    "                             roc_curve)\n",
    "from sklearn.model_selection import (GridSearchCV, KFold, cross_val_score,\n",
    "                                     cross_validate, learning_curve,\n",
    "                                     train_test_split)\n",
    "from sklearn.neighbors import KNeighborsClassifier\n",
    "from sklearn.pipeline import Pipeline, make_pipeline\n",
    "from sklearn.preprocessing import (LabelEncoder, MaxAbsScaler, MinMaxScaler, Normalizer,\n",
    "                                   StandardScaler, normalize, scale)\n",
    "from sklearn.tree import DecisionTreeClassifier, DecisionTreeRegressor"
   ]
  },
  {
   "cell_type": "markdown",
   "id": "ee2d34f4",
   "metadata": {
    "heading_collapsed": true
   },
   "source": [
    "# GPU Check"
   ]
  },
  {
   "cell_type": "code",
   "execution_count": 11,
   "id": "9629d10e",
   "metadata": {
    "ExecuteTime": {
     "end_time": "2021-09-28T20:54:28.150650Z",
     "start_time": "2021-09-28T20:54:28.109541Z"
    },
    "hidden": true
   },
   "outputs": [
    {
     "name": "stdout",
     "output_type": "stream",
     "text": [
      "--------------------\n",
      "<<< Testing Tensorflow >>>\n",
      "<<< Version:  2.6.0\n",
      "<<< Eager mode:  True\n",
      "<<< Hub version:  0.12.0\n",
      "<<< GPU is available\n",
      "<<< Code check...\n",
      "Hello, TensorFlow!\n",
      "[[22 28]\n",
      " [49 64]]\n",
      "--------------------\n",
      "--------------------\n",
      "<<< Testing Torch >>>\n",
      "<<< Version: 1.9.0+cu102\n",
      "<<< GPU is available\n",
      "<<< CUDA is available\n",
      "<<< Code check...\n",
      "tensor([[0.8608, 0.0224, 0.1433],\n",
      "        [0.4398, 0.7782, 0.0802],\n",
      "        [0.1110, 0.6208, 0.4221],\n",
      "        [0.9900, 0.5600, 0.2339],\n",
      "        [0.9572, 0.7307, 0.8703]])\n",
      "--------------------\n"
     ]
    },
    {
     "name": "stderr",
     "output_type": "stream",
     "text": [
      "2021-09-28 13:54:28.145580: I tensorflow/core/common_runtime/gpu/gpu_device.cc:1510] Created device /device:GPU:0 with 2567 MB memory:  -> device: 0, name: NVIDIA GeForce GTX 1660 Ti, pci bus id: 0000:07:00.0, compute capability: 7.5\n"
     ]
    }
   ],
   "source": [
    "import tensorflow as tf\n",
    "import tensorflow_hub as hub\n",
    "import torch\n",
    "from tensorflow.python.client import device_lib\n",
    "\n",
    "hello = tf.constant(\"Hello, TensorFlow!\")\n",
    "with tf.device(\"/gpu:0\"):\n",
    "    a = tf.constant([1.0, 2.0, 3.0, 4.0, 5.0, 6.0], shape=[2, 3], name=\"a\")\n",
    "    b = tf.constant([1.0, 2.0, 3.0, 4.0, 5.0, 6.0], shape=[3, 2], name=\"b\")\n",
    "    c = tf.matmul(a, b)\n",
    "print(\"-\" * 20)\n",
    "print(\"<<< Testing Tensorflow >>>\")\n",
    "print(\"<<< Version: \", tf.__version__)\n",
    "print(\"<<< Eager mode: \", tf.executing_eagerly())\n",
    "print(\"<<< Hub version: \", hub.__version__)\n",
    "print(\n",
    "    \"<<< GPU is\",\n",
    "    \"available\" if tf.config.list_physical_devices(\"GPU\") else \"NOT AVAILABLE\",\n",
    ")\n",
    "print(\"<<< Code check...\")\n",
    "tf.print(hello)\n",
    "tf.print(c)\n",
    "print(\"-\" * 20)\n",
    "\n",
    "# torch\n",
    "print(\"-\" * 20)\n",
    "print(\"<<< Testing Torch >>>\")\n",
    "print(f\"<<< Version: {torch.__version__}\")\n",
    "print(\n",
    "    \"<<< GPU is\",\n",
    "    \"available\"\n",
    "    if any(\"GPU\" in d.name for d in device_lib.list_local_devices())\n",
    "    else \"NOT AVAILABLE\",\n",
    ")\n",
    "print(\"<<< CUDA is\", \"available\" if torch.cuda.is_available() else \"NOT AVAILABLE\")\n",
    "print(\"<<< Code check...\")\n",
    "x = torch.rand(5, 3)\n",
    "print(x)\n",
    "print(\"-\" * 20)\n"
   ]
  },
  {
   "cell_type": "markdown",
   "id": "2d59d3dd",
   "metadata": {},
   "source": [
    "# Functions"
   ]
  },
  {
   "cell_type": "code",
   "execution_count": 46,
   "id": "8a701d56",
   "metadata": {
    "ExecuteTime": {
     "end_time": "2021-09-28T21:43:59.079118Z",
     "start_time": "2021-09-28T21:43:59.075293Z"
    }
   },
   "outputs": [],
   "source": []
  },
  {
   "cell_type": "markdown",
   "id": "74f562f8",
   "metadata": {},
   "source": [
    "# Data"
   ]
  },
  {
   "cell_type": "code",
   "execution_count": 108,
   "id": "67d40630",
   "metadata": {
    "ExecuteTime": {
     "end_time": "2021-09-28T22:53:22.443178Z",
     "start_time": "2021-09-28T22:53:20.510609Z"
    }
   },
   "outputs": [
    {
     "name": "stderr",
     "output_type": "stream",
     "text": [
      "/home/kcavagnolo/.pyenv/versions/3.8.0/lib/python3.8/site-packages/IPython/core/interactiveshell.py:3441: DtypeWarning: Columns (5,11) have mixed types.Specify dtype option on import or set low_memory=False.\n",
      "  exec(code_obj, self.user_global_ns, self.user_ns)\n"
     ]
    }
   ],
   "source": [
    "# load data and use pyjanitor to clean\n",
    "train_df = pd.read_csv(\"datasets/trainingdata.csv\", index_col=0).clean_names().remove_empty()\n",
    "test_df = pd.read_csv(\"datasets/testdata.csv\", index_col=0).clean_names().remove_empty()"
   ]
  },
  {
   "cell_type": "code",
   "execution_count": 110,
   "id": "12043b56",
   "metadata": {
    "ExecuteTime": {
     "end_time": "2021-09-28T22:53:24.489708Z",
     "start_time": "2021-09-28T22:53:24.463202Z"
    }
   },
   "outputs": [
    {
     "data": {
      "text/html": [
       "<div>\n",
       "<style scoped>\n",
       "    .dataframe tbody tr th:only-of-type {\n",
       "        vertical-align: middle;\n",
       "    }\n",
       "\n",
       "    .dataframe tbody tr th {\n",
       "        vertical-align: top;\n",
       "    }\n",
       "\n",
       "    .dataframe thead th {\n",
       "        text-align: right;\n",
       "    }\n",
       "</style>\n",
       "<table border=\"1\" class=\"dataframe\">\n",
       "  <thead>\n",
       "    <tr style=\"text-align: right;\">\n",
       "      <th></th>\n",
       "      <th>function</th>\n",
       "      <th>use</th>\n",
       "      <th>sharing</th>\n",
       "      <th>reporting</th>\n",
       "      <th>student_type</th>\n",
       "      <th>position_type</th>\n",
       "      <th>object_type</th>\n",
       "      <th>pre_k</th>\n",
       "      <th>operating_status</th>\n",
       "      <th>object_description</th>\n",
       "      <th>...</th>\n",
       "      <th>sub_object_description</th>\n",
       "      <th>location_description</th>\n",
       "      <th>fte</th>\n",
       "      <th>function_description</th>\n",
       "      <th>facility_or_department</th>\n",
       "      <th>position_extra</th>\n",
       "      <th>total</th>\n",
       "      <th>program_description</th>\n",
       "      <th>fund_description</th>\n",
       "      <th>text_1</th>\n",
       "    </tr>\n",
       "  </thead>\n",
       "  <tbody>\n",
       "    <tr>\n",
       "      <th>280647</th>\n",
       "      <td>Facilities &amp; Maintenance</td>\n",
       "      <td>O&amp;M</td>\n",
       "      <td>School Reported</td>\n",
       "      <td>School</td>\n",
       "      <td>Unspecified</td>\n",
       "      <td>Custodian</td>\n",
       "      <td>Benefits</td>\n",
       "      <td>NO_LABEL</td>\n",
       "      <td>PreK-12 Operating</td>\n",
       "      <td>RETIREMENT CONTRIB.</td>\n",
       "      <td>...</td>\n",
       "      <td>NaN</td>\n",
       "      <td>NaN</td>\n",
       "      <td>NaN</td>\n",
       "      <td>EMPLOYEE RETIREMENT</td>\n",
       "      <td>NaN</td>\n",
       "      <td>UNDESIGNATED</td>\n",
       "      <td>81.56000</td>\n",
       "      <td>EMPLOYEE BENEFITS</td>\n",
       "      <td>NaN</td>\n",
       "      <td>EMPLOYEE BENEFITS</td>\n",
       "    </tr>\n",
       "    <tr>\n",
       "      <th>261705</th>\n",
       "      <td>Teacher Compensation</td>\n",
       "      <td>Instruction</td>\n",
       "      <td>School Reported</td>\n",
       "      <td>School</td>\n",
       "      <td>Unspecified</td>\n",
       "      <td>Teacher</td>\n",
       "      <td>Base Salary/Compensation</td>\n",
       "      <td>NO_LABEL</td>\n",
       "      <td>PreK-12 Operating</td>\n",
       "      <td>SALARIES OF REGULAR EMPLOYEES</td>\n",
       "      <td>...</td>\n",
       "      <td>NaN</td>\n",
       "      <td>NaN</td>\n",
       "      <td>NaN</td>\n",
       "      <td>ELA E-TEACHING SHELTERED ENG</td>\n",
       "      <td>NaN</td>\n",
       "      <td>PROFESSIONAL-INSTRUCTIONAL</td>\n",
       "      <td>2935.20992</td>\n",
       "      <td>GENERAL HIGH SCHOOL EDUCATION</td>\n",
       "      <td>NaN</td>\n",
       "      <td>REGULAR INSTRUCTION</td>\n",
       "    </tr>\n",
       "    <tr>\n",
       "      <th>335414</th>\n",
       "      <td>NO_LABEL</td>\n",
       "      <td>NO_LABEL</td>\n",
       "      <td>NO_LABEL</td>\n",
       "      <td>NO_LABEL</td>\n",
       "      <td>NO_LABEL</td>\n",
       "      <td>NO_LABEL</td>\n",
       "      <td>NO_LABEL</td>\n",
       "      <td>NO_LABEL</td>\n",
       "      <td>Non-Operating</td>\n",
       "      <td>Other Pupil Transportation Services</td>\n",
       "      <td>...</td>\n",
       "      <td>Pupil Transportation *</td>\n",
       "      <td>NaN</td>\n",
       "      <td>NaN</td>\n",
       "      <td>Instruction And Curriculum Development Services *</td>\n",
       "      <td>NaN</td>\n",
       "      <td>NaN</td>\n",
       "      <td>-970.03000</td>\n",
       "      <td>NaN</td>\n",
       "      <td>Special Trust</td>\n",
       "      <td>ITEMAC-MOTIVATION</td>\n",
       "    </tr>\n",
       "    <tr>\n",
       "      <th>361549</th>\n",
       "      <td>Food Services</td>\n",
       "      <td>O&amp;M</td>\n",
       "      <td>School Reported</td>\n",
       "      <td>School</td>\n",
       "      <td>Unspecified</td>\n",
       "      <td>Coordinator/Manager</td>\n",
       "      <td>Benefits</td>\n",
       "      <td>NO_LABEL</td>\n",
       "      <td>PreK-12 Operating</td>\n",
       "      <td>RETIREMENT CONTRIB.</td>\n",
       "      <td>...</td>\n",
       "      <td>NaN</td>\n",
       "      <td>NaN</td>\n",
       "      <td>NaN</td>\n",
       "      <td>EMPLOYEE RETIREMENT</td>\n",
       "      <td>NaN</td>\n",
       "      <td>UNDESIGNATED</td>\n",
       "      <td>358.62000</td>\n",
       "      <td>EMPLOYEE BENEFITS</td>\n",
       "      <td>NaN</td>\n",
       "      <td>EMPLOYEE BENEFITS</td>\n",
       "    </tr>\n",
       "    <tr>\n",
       "      <th>58014</th>\n",
       "      <td>Teacher Compensation</td>\n",
       "      <td>Instruction</td>\n",
       "      <td>School Reported</td>\n",
       "      <td>School</td>\n",
       "      <td>Unspecified</td>\n",
       "      <td>Teacher</td>\n",
       "      <td>Benefits</td>\n",
       "      <td>NO_LABEL</td>\n",
       "      <td>PreK-12 Operating</td>\n",
       "      <td>EMPLOYEE BENEFITS</td>\n",
       "      <td>...</td>\n",
       "      <td>NaN</td>\n",
       "      <td>NaN</td>\n",
       "      <td>NaN</td>\n",
       "      <td>ELA E-TEACHING SHELTERED ENG</td>\n",
       "      <td>NaN</td>\n",
       "      <td>PROFESSIONAL-INSTRUCTIONAL</td>\n",
       "      <td>1713.37000</td>\n",
       "      <td>GENERAL ELEMENTARY EDUCATION</td>\n",
       "      <td>NaN</td>\n",
       "      <td>REGULAR INSTRUCTION</td>\n",
       "    </tr>\n",
       "  </tbody>\n",
       "</table>\n",
       "<p>5 rows × 25 columns</p>\n",
       "</div>"
      ],
      "text/plain": [
       "                        function          use          sharing reporting  \\\n",
       "280647  Facilities & Maintenance          O&M  School Reported    School   \n",
       "261705      Teacher Compensation  Instruction  School Reported    School   \n",
       "335414                  NO_LABEL     NO_LABEL         NO_LABEL  NO_LABEL   \n",
       "361549             Food Services          O&M  School Reported    School   \n",
       "58014       Teacher Compensation  Instruction  School Reported    School   \n",
       "\n",
       "       student_type        position_type               object_type     pre_k  \\\n",
       "280647  Unspecified            Custodian                  Benefits  NO_LABEL   \n",
       "261705  Unspecified              Teacher  Base Salary/Compensation  NO_LABEL   \n",
       "335414     NO_LABEL             NO_LABEL                  NO_LABEL  NO_LABEL   \n",
       "361549  Unspecified  Coordinator/Manager                  Benefits  NO_LABEL   \n",
       "58014   Unspecified              Teacher                  Benefits  NO_LABEL   \n",
       "\n",
       "         operating_status                   object_description  ...  \\\n",
       "280647  PreK-12 Operating                  RETIREMENT CONTRIB.  ...   \n",
       "261705  PreK-12 Operating        SALARIES OF REGULAR EMPLOYEES  ...   \n",
       "335414      Non-Operating  Other Pupil Transportation Services  ...   \n",
       "361549  PreK-12 Operating                  RETIREMENT CONTRIB.  ...   \n",
       "58014   PreK-12 Operating                    EMPLOYEE BENEFITS  ...   \n",
       "\n",
       "        sub_object_description location_description fte  \\\n",
       "280647                     NaN                  NaN NaN   \n",
       "261705                     NaN                  NaN NaN   \n",
       "335414  Pupil Transportation *                  NaN NaN   \n",
       "361549                     NaN                  NaN NaN   \n",
       "58014                      NaN                  NaN NaN   \n",
       "\n",
       "                                     function_description  \\\n",
       "280647                                EMPLOYEE RETIREMENT   \n",
       "261705                       ELA E-TEACHING SHELTERED ENG   \n",
       "335414  Instruction And Curriculum Development Services *   \n",
       "361549                                EMPLOYEE RETIREMENT   \n",
       "58014                        ELA E-TEACHING SHELTERED ENG   \n",
       "\n",
       "       facility_or_department              position_extra       total  \\\n",
       "280647                    NaN                UNDESIGNATED    81.56000   \n",
       "261705                    NaN  PROFESSIONAL-INSTRUCTIONAL  2935.20992   \n",
       "335414                    NaN                         NaN  -970.03000   \n",
       "361549                    NaN                UNDESIGNATED   358.62000   \n",
       "58014                     NaN  PROFESSIONAL-INSTRUCTIONAL  1713.37000   \n",
       "\n",
       "                  program_description fund_description               text_1  \n",
       "280647              EMPLOYEE BENEFITS              NaN    EMPLOYEE BENEFITS  \n",
       "261705  GENERAL HIGH SCHOOL EDUCATION              NaN  REGULAR INSTRUCTION  \n",
       "335414                            NaN    Special Trust    ITEMAC-MOTIVATION  \n",
       "361549              EMPLOYEE BENEFITS              NaN    EMPLOYEE BENEFITS  \n",
       "58014    GENERAL ELEMENTARY EDUCATION              NaN  REGULAR INSTRUCTION  \n",
       "\n",
       "[5 rows x 25 columns]"
      ]
     },
     "execution_count": 110,
     "metadata": {},
     "output_type": "execute_result"
    }
   ],
   "source": [
    "train_df.sample(5)"
   ]
  },
  {
   "cell_type": "code",
   "execution_count": 65,
   "id": "82ac41e5",
   "metadata": {
    "ExecuteTime": {
     "end_time": "2021-09-28T21:56:17.990279Z",
     "start_time": "2021-09-28T21:55:08.267425Z"
    }
   },
   "outputs": [
    {
     "data": {
      "application/vnd.jupyter.widget-view+json": {
       "model_id": "ad29d6b046644776be4b630c85773377",
       "version_major": 2,
       "version_minor": 0
      },
      "text/plain": [
       "Summarize dataset:   0%|          | 0/38 [00:00<?, ?it/s]"
      ]
     },
     "metadata": {},
     "output_type": "display_data"
    },
    {
     "data": {
      "application/vnd.jupyter.widget-view+json": {
       "model_id": "51a9601c7cc04d3983c5c83b51fb84a9",
       "version_major": 2,
       "version_minor": 0
      },
      "text/plain": [
       "Generate report structure:   0%|          | 0/1 [00:00<?, ?it/s]"
      ]
     },
     "metadata": {},
     "output_type": "display_data"
    },
    {
     "data": {
      "application/vnd.jupyter.widget-view+json": {
       "model_id": "c81ebc28bb3a476e8c4221bf0f217cb8",
       "version_major": 2,
       "version_minor": 0
      },
      "text/plain": [
       "Render HTML:   0%|          | 0/1 [00:00<?, ?it/s]"
      ]
     },
     "metadata": {},
     "output_type": "display_data"
    },
    {
     "data": {
      "application/vnd.jupyter.widget-view+json": {
       "model_id": "b907a05527864a5981fd2820cbd0de0a",
       "version_major": 2,
       "version_minor": 0
      },
      "text/plain": [
       "Export report to file:   0%|          | 0/1 [00:00<?, ?it/s]"
      ]
     },
     "metadata": {},
     "output_type": "display_data"
    }
   ],
   "source": [
    "# inspect\n",
    "profile_report = train_df.profile_report(sort=None,\n",
    "                                         explorative=True,\n",
    "                                         html={\"style\": {\n",
    "                                             \"full_width\": True\n",
    "                                         }},\n",
    "                                         progress_bar=True)\n",
    "profile_report.to_file(\"docs/train_profile.html\")"
   ]
  },
  {
   "cell_type": "code",
   "execution_count": 111,
   "id": "2e846bcd",
   "metadata": {
    "ExecuteTime": {
     "end_time": "2021-09-28T22:53:27.998771Z",
     "start_time": "2021-09-28T22:53:27.484311Z"
    }
   },
   "outputs": [
    {
     "name": "stdout",
     "output_type": "stream",
     "text": [
      "Possibly categorical columns...\n",
      "   function\n",
      "   use\n",
      "   sharing\n",
      "   reporting\n",
      "   student_type\n",
      "   position_type\n",
      "   object_type\n",
      "   pre_k\n",
      "   operating_status\n",
      "   text_3\n"
     ]
    }
   ],
   "source": [
    "# look for possible categorical columns\n",
    "MIN_CATEGORIES = 2\n",
    "MAX_CATEGORIES = 40\n",
    "categorical_cols = []\n",
    "print(\"Possibly categorical columns...\")   \n",
    "for col in train_df.select_dtypes(include=[\"object\"]).columns:\n",
    "    if MIN_CATEGORIES < len(train_df[col].value_counts()) < MAX_CATEGORIES:\n",
    "        categorical_cols.append(col)\n",
    "        print(f\"   {col}\")\n",
    "if len(categorical_cols) == 0:\n",
    "    print(\"   None\")"
   ]
  },
  {
   "cell_type": "code",
   "execution_count": 112,
   "id": "147b8b6d",
   "metadata": {
    "ExecuteTime": {
     "end_time": "2021-09-28T22:56:15.788005Z",
     "start_time": "2021-09-28T22:56:15.581126Z"
    }
   },
   "outputs": [
    {
     "data": {
      "text/html": [
       "<div>\n",
       "<style scoped>\n",
       "    .dataframe tbody tr th:only-of-type {\n",
       "        vertical-align: middle;\n",
       "    }\n",
       "\n",
       "    .dataframe tbody tr th {\n",
       "        vertical-align: top;\n",
       "    }\n",
       "\n",
       "    .dataframe thead th {\n",
       "        text-align: right;\n",
       "    }\n",
       "</style>\n",
       "<table border=\"1\" class=\"dataframe\">\n",
       "  <thead>\n",
       "    <tr style=\"text-align: right;\">\n",
       "      <th></th>\n",
       "      <th>function</th>\n",
       "      <th>use</th>\n",
       "      <th>sharing</th>\n",
       "      <th>reporting</th>\n",
       "      <th>student_type</th>\n",
       "      <th>position_type</th>\n",
       "      <th>object_type</th>\n",
       "      <th>pre_k</th>\n",
       "      <th>operating_status</th>\n",
       "      <th>object_description</th>\n",
       "      <th>...</th>\n",
       "      <th>sub_object_description</th>\n",
       "      <th>location_description</th>\n",
       "      <th>fte</th>\n",
       "      <th>function_description</th>\n",
       "      <th>facility_or_department</th>\n",
       "      <th>position_extra</th>\n",
       "      <th>total</th>\n",
       "      <th>program_description</th>\n",
       "      <th>fund_description</th>\n",
       "      <th>text_1</th>\n",
       "    </tr>\n",
       "  </thead>\n",
       "  <tbody>\n",
       "    <tr>\n",
       "      <th>284395</th>\n",
       "      <td>Aides Compensation</td>\n",
       "      <td>Instruction</td>\n",
       "      <td>School Reported</td>\n",
       "      <td>School</td>\n",
       "      <td>NO_LABEL</td>\n",
       "      <td>TA</td>\n",
       "      <td>NO_LABEL</td>\n",
       "      <td>NO_LABEL</td>\n",
       "      <td>PreK-12 Operating</td>\n",
       "      <td>NaN</td>\n",
       "      <td>...</td>\n",
       "      <td>NaN</td>\n",
       "      <td>NaN</td>\n",
       "      <td>1.0</td>\n",
       "      <td>NaN</td>\n",
       "      <td>NaN</td>\n",
       "      <td>SCHOOL ASST - ISS</td>\n",
       "      <td>21594.310000</td>\n",
       "      <td>ALTERNATIVE EDUCATION PROGRAM</td>\n",
       "      <td>General Fund</td>\n",
       "      <td>NaN</td>\n",
       "    </tr>\n",
       "    <tr>\n",
       "      <th>179303</th>\n",
       "      <td>Substitute Compensation</td>\n",
       "      <td>Instruction</td>\n",
       "      <td>School Reported</td>\n",
       "      <td>School</td>\n",
       "      <td>Special Education</td>\n",
       "      <td>Substitute</td>\n",
       "      <td>Substitute Compensation</td>\n",
       "      <td>Non PreK</td>\n",
       "      <td>PreK-12 Operating</td>\n",
       "      <td>Personal Services - Substitute Teachers Certified</td>\n",
       "      <td>...</td>\n",
       "      <td>NaN</td>\n",
       "      <td>NaN</td>\n",
       "      <td>0.0</td>\n",
       "      <td>NaN</td>\n",
       "      <td>NaN</td>\n",
       "      <td>SUBSTITUTE TEACHER</td>\n",
       "      <td>425.360000</td>\n",
       "      <td>Instruction - SPED</td>\n",
       "      <td>General Purpose School</td>\n",
       "      <td>NaN</td>\n",
       "    </tr>\n",
       "    <tr>\n",
       "      <th>327737</th>\n",
       "      <td>NO_LABEL</td>\n",
       "      <td>NO_LABEL</td>\n",
       "      <td>NO_LABEL</td>\n",
       "      <td>NO_LABEL</td>\n",
       "      <td>NO_LABEL</td>\n",
       "      <td>NO_LABEL</td>\n",
       "      <td>NO_LABEL</td>\n",
       "      <td>NO_LABEL</td>\n",
       "      <td>Non-Operating</td>\n",
       "      <td>Instructional Improvement Services</td>\n",
       "      <td>...</td>\n",
       "      <td>Professional And Technical Services *</td>\n",
       "      <td>NaN</td>\n",
       "      <td>NaN</td>\n",
       "      <td>Evaluation Services</td>\n",
       "      <td>NaN</td>\n",
       "      <td>NaN</td>\n",
       "      <td>-3424.480000</td>\n",
       "      <td>NaN</td>\n",
       "      <td>Title I - Disadvantaged Children/Targeted Assi...</td>\n",
       "      <td>ESEA TITLE I</td>\n",
       "    </tr>\n",
       "    <tr>\n",
       "      <th>386671</th>\n",
       "      <td>Curriculum Development</td>\n",
       "      <td>ISPD</td>\n",
       "      <td>Leadership &amp; Management</td>\n",
       "      <td>Non-School</td>\n",
       "      <td>Gifted</td>\n",
       "      <td>School Monitor/Security</td>\n",
       "      <td>Other Compensation/Stipend</td>\n",
       "      <td>NO_LABEL</td>\n",
       "      <td>PreK-12 Operating</td>\n",
       "      <td>SALARIES FOR OVERTIME</td>\n",
       "      <td>...</td>\n",
       "      <td>NaN</td>\n",
       "      <td>GIFTED AND TALENTED</td>\n",
       "      <td>NaN</td>\n",
       "      <td>DESTINATION IMAGINATION</td>\n",
       "      <td>NaN</td>\n",
       "      <td>OFFICE/ADMINISTRATIVE SUPPORT</td>\n",
       "      <td>467.220000</td>\n",
       "      <td>SCHOOL SECURITY</td>\n",
       "      <td>NaN</td>\n",
       "      <td>OPERATION AND MAINT OF PLANT</td>\n",
       "    </tr>\n",
       "    <tr>\n",
       "      <th>396960</th>\n",
       "      <td>Extended Time &amp; Tutoring</td>\n",
       "      <td>Instruction</td>\n",
       "      <td>School Reported</td>\n",
       "      <td>School</td>\n",
       "      <td>Special Education</td>\n",
       "      <td>Teacher</td>\n",
       "      <td>Other Compensation/Stipend</td>\n",
       "      <td>Non PreK</td>\n",
       "      <td>PreK-12 Operating</td>\n",
       "      <td>Salaries And Wages For Teachers And Other Prof...</td>\n",
       "      <td>...</td>\n",
       "      <td>Extended Week</td>\n",
       "      <td>School</td>\n",
       "      <td>NaN</td>\n",
       "      <td>Instruction</td>\n",
       "      <td>Instruction And Curriculum</td>\n",
       "      <td>TEACHER BACHELOR</td>\n",
       "      <td>266.843533</td>\n",
       "      <td>\"Title I, Part A Schoolwide Activities Related...</td>\n",
       "      <td>\"Title  Part A Improving Basic Programs\"</td>\n",
       "      <td>MISCELLANEOUS</td>\n",
       "    </tr>\n",
       "  </tbody>\n",
       "</table>\n",
       "<p>5 rows × 25 columns</p>\n",
       "</div>"
      ],
      "text/plain": [
       "                        function          use                  sharing  \\\n",
       "284395        Aides Compensation  Instruction          School Reported   \n",
       "179303   Substitute Compensation  Instruction          School Reported   \n",
       "327737                  NO_LABEL     NO_LABEL                 NO_LABEL   \n",
       "386671    Curriculum Development         ISPD  Leadership & Management   \n",
       "396960  Extended Time & Tutoring  Instruction          School Reported   \n",
       "\n",
       "         reporting       student_type            position_type  \\\n",
       "284395      School           NO_LABEL                       TA   \n",
       "179303      School  Special Education               Substitute   \n",
       "327737    NO_LABEL           NO_LABEL                 NO_LABEL   \n",
       "386671  Non-School             Gifted  School Monitor/Security   \n",
       "396960      School  Special Education                  Teacher   \n",
       "\n",
       "                       object_type     pre_k   operating_status  \\\n",
       "284395                    NO_LABEL  NO_LABEL  PreK-12 Operating   \n",
       "179303     Substitute Compensation  Non PreK  PreK-12 Operating   \n",
       "327737                    NO_LABEL  NO_LABEL      Non-Operating   \n",
       "386671  Other Compensation/Stipend  NO_LABEL  PreK-12 Operating   \n",
       "396960  Other Compensation/Stipend  Non PreK  PreK-12 Operating   \n",
       "\n",
       "                                       object_description  ...  \\\n",
       "284395                                                NaN  ...   \n",
       "179303  Personal Services - Substitute Teachers Certified  ...   \n",
       "327737                 Instructional Improvement Services  ...   \n",
       "386671                              SALARIES FOR OVERTIME  ...   \n",
       "396960  Salaries And Wages For Teachers And Other Prof...  ...   \n",
       "\n",
       "                       sub_object_description location_description  fte  \\\n",
       "284395                                    NaN                  NaN  1.0   \n",
       "179303                                    NaN                  NaN  0.0   \n",
       "327737  Professional And Technical Services *                  NaN  NaN   \n",
       "386671                                    NaN  GIFTED AND TALENTED  NaN   \n",
       "396960                          Extended Week              School   NaN   \n",
       "\n",
       "           function_description      facility_or_department  \\\n",
       "284395                      NaN                         NaN   \n",
       "179303                      NaN                         NaN   \n",
       "327737      Evaluation Services                         NaN   \n",
       "386671  DESTINATION IMAGINATION                         NaN   \n",
       "396960              Instruction  Instruction And Curriculum   \n",
       "\n",
       "                       position_extra         total  \\\n",
       "284395             SCHOOL ASST - ISS   21594.310000   \n",
       "179303             SUBSTITUTE TEACHER    425.360000   \n",
       "327737                            NaN  -3424.480000   \n",
       "386671  OFFICE/ADMINISTRATIVE SUPPORT    467.220000   \n",
       "396960               TEACHER BACHELOR    266.843533   \n",
       "\n",
       "                                      program_description  \\\n",
       "284395                      ALTERNATIVE EDUCATION PROGRAM   \n",
       "179303                                 Instruction - SPED   \n",
       "327737                                                NaN   \n",
       "386671                                    SCHOOL SECURITY   \n",
       "396960  \"Title I, Part A Schoolwide Activities Related...   \n",
       "\n",
       "                                         fund_description  \\\n",
       "284395                                       General Fund   \n",
       "179303                             General Purpose School   \n",
       "327737  Title I - Disadvantaged Children/Targeted Assi...   \n",
       "386671                                                NaN   \n",
       "396960           \"Title  Part A Improving Basic Programs\"   \n",
       "\n",
       "                              text_1  \n",
       "284395                           NaN  \n",
       "179303                           NaN  \n",
       "327737                  ESEA TITLE I  \n",
       "386671  OPERATION AND MAINT OF PLANT  \n",
       "396960                MISCELLANEOUS   \n",
       "\n",
       "[5 rows x 25 columns]"
      ]
     },
     "execution_count": 112,
     "metadata": {},
     "output_type": "execute_result"
    }
   ],
   "source": [
    "# change the column type using pyjanitor\n",
    "categorical_cols.remove(\"text_3\")\n",
    "categorize_feature = lambda x: x.astype(\"category\")\n",
    "train_df[categorical_cols].apply(categorize_feature, axis=0)\n",
    "train_df.sample(5)"
   ]
  },
  {
   "cell_type": "code",
   "execution_count": 136,
   "id": "32b1cb5a",
   "metadata": {
    "ExecuteTime": {
     "end_time": "2021-09-28T23:04:16.882021Z",
     "start_time": "2021-09-28T23:04:16.579269Z"
    }
   },
   "outputs": [
    {
     "data": {
      "text/plain": [
       "Text(0, 0.5, 'Number of unique values')"
      ]
     },
     "execution_count": 136,
     "metadata": {},
     "output_type": "execute_result"
    },
    {
     "data": {
      "image/png": "[encoded data removed]",
      "text/plain": [
       "<Figure size 1080x432 with 1 Axes>"
      ]
     },
     "metadata": {
      "needs_background": "light"
     },
     "output_type": "display_data"
    }
   ],
   "source": [
    "# display unique values for each feature\n",
    "n_unique_features = train_df[categorical_cols].apply(pd.Series.nunique).sort_values(ascending=False)\n",
    "sns.barplot(x=n_unique_features.index, y=n_unique_features.values)\n",
    "plt.xlabel('Feature')\n",
    "plt.ylabel('Number of unique values')"
   ]
  },
  {
   "cell_type": "code",
   "execution_count": null,
   "id": "e15975ba",
   "metadata": {},
   "outputs": [],
   "source": []
  }
 ],
 "metadata": {
  "kernelspec": {
   "display_name": "Python 3 (ipykernel)",
   "language": "python",
   "name": "python3"
  },
  "language_info": {
   "codemirror_mode": {
    "name": "ipython",
    "version": 3
   },
   "file_extension": ".py",
   "mimetype": "text/x-python",
   "name": "python",
   "nbconvert_exporter": "python",
   "pygments_lexer": "ipython3",
   "version": "3.8.0"
  },
  "toc": {
   "base_numbering": 1,
   "nav_menu": {},
   "number_sections": true,
   "sideBar": true,
   "skip_h1_title": false,
   "title_cell": "Table of Contents",
   "title_sidebar": "Contents",
   "toc_cell": false,
   "toc_position": {},
   "toc_section_display": true,
   "toc_window_display": false
  },
  "varInspector": {
   "cols": {
    "lenName": 16,
    "lenType": 16,
    "lenVar": 40
   },
   "kernels_config": {
    "python": {
     "delete_cmd_postfix": "",
     "delete_cmd_prefix": "del ",
     "library": "var_list.py",
     "varRefreshCmd": "print(var_dic_list())"
    },
    "r": {
     "delete_cmd_postfix": ") ",
     "delete_cmd_prefix": "rm(",
     "library": "var_list.r",
     "varRefreshCmd": "cat(var_dic_list()) "
    }
   },
   "types_to_exclude": [
    "module",
    "function",
    "builtin_function_or_method",
    "instance",
    "_Feature"
   ],
   "window_display": false
  }
 },
 "nbformat": 4,
 "nbformat_minor": 5
}
