{
 "cells": [
  {
   "cell_type": "markdown",
   "id": "60017afb",
   "metadata": {
    "heading_collapsed": true
   },
   "source": [
    "# Imports"
   ]
  },
  {
   "cell_type": "code",
   "execution_count": 1,
   "id": "14bee72d",
   "metadata": {
    "ExecuteTime": {
     "end_time": "2021-10-01T22:42:19.393807Z",
     "start_time": "2021-10-01T22:42:19.380557Z"
    },
    "hidden": true
   },
   "outputs": [],
   "source": [
    "import datetime\n",
    "import glob\n",
    "import itertools\n",
    "import json\n",
    "import os\n",
    "import dill\n",
    "import pickle\n",
    "import random\n",
    "import re\n",
    "from string import punctuation"
   ]
  },
  {
   "cell_type": "code",
   "execution_count": 2,
   "id": "b0d99bff",
   "metadata": {
    "ExecuteTime": {
     "end_time": "2021-10-01T22:42:20.770396Z",
     "start_time": "2021-10-01T22:42:19.544856Z"
    },
    "hidden": true
   },
   "outputs": [],
   "source": [
    "import statistics\n",
    "\n",
    "import fuzzywuzzy\n",
    "import geopandas as gpd\n",
    "import humanize\n",
    "import janitor\n",
    "import missingno as msno\n",
    "import numpy as np\n",
    "import pandas as pd\n",
    "import recordlinkage\n",
    "import scipy as sp\n",
    "import statsmodels.formula.api as smf\n",
    "from pandas_profiling import ProfileReport"
   ]
  },
  {
   "cell_type": "code",
   "execution_count": 3,
   "id": "cd0ede1f",
   "metadata": {
    "ExecuteTime": {
     "end_time": "2021-10-01T22:42:21.005105Z",
     "start_time": "2021-10-01T22:42:20.785914Z"
    },
    "hidden": true
   },
   "outputs": [],
   "source": [
    "SMALL_SIZE = 10\n",
    "MEDIUM_SIZE = 14\n",
    "BIGGER_SIZE = 18\n",
    "MAPBOX_STYLE = \"dark\"\n",
    "MAPBOX_HEIGHT = 800\n",
    "%matplotlib inline\n",
    "import seaborn as sns\n",
    "import matplotlib as mpl\n",
    "import matplotlib.font_manager\n",
    "import matplotlib.pyplot as plt\n",
    "import plotly.express as px\n",
    "import plotly.graph_objects as go\n",
    "from matplotlib.ticker import PercentFormatter\n",
    "px.set_mapbox_access_token(os.getenv(\"MAPBOX_TOKEN\"))\n",
    "matplotlib.font_manager.findSystemFonts(fontpaths=None, fontext=\"ttf\")\n",
    "plt.style.use(\"seaborn-colorblind\")\n",
    "plt.rcParams[\"font.family\"] = \"sans-serif\"\n",
    "plt.rcParams[\"font.sans-serif\"] = \"Open Sans\"\n",
    "plt.rcParams[\"figure.figsize\"] = 15, 6\n",
    "plt.rc('font', size=SMALL_SIZE)          # controls default text sizes\n",
    "plt.rc('axes', titlesize=SMALL_SIZE)     # fontsize of the axes title\n",
    "plt.rc('axes', labelsize=MEDIUM_SIZE)    # fontsize of the x and y labels\n",
    "plt.rc('xtick', labelsize=SMALL_SIZE)    # fontsize of the tick labels\n",
    "plt.rc('ytick', labelsize=SMALL_SIZE)    # fontsize of the tick labels\n",
    "plt.rc('legend', fontsize=SMALL_SIZE)    # legend fontsize\n",
    "plt.rc('figure', titlesize=BIGGER_SIZE)  # fontsize of the figure title"
   ]
  },
  {
   "cell_type": "code",
   "execution_count": 4,
   "id": "973196f0",
   "metadata": {
    "ExecuteTime": {
     "end_time": "2021-10-01T22:42:21.036695Z",
     "start_time": "2021-10-01T22:42:21.019256Z"
    },
    "hidden": true
   },
   "outputs": [],
   "source": [
    "from mlxtend.plotting import plot_decision_regions\n",
    "from sklearn import __version__ as sklearn_version\n",
    "from sklearn.cluster import KMeans\n",
    "from sklearn.decomposition import NMF, PCA\n",
    "from sklearn.dummy import DummyRegressor\n",
    "from sklearn.ensemble import (AdaBoostClassifier, BaggingClassifier, GradientBoostingClassifier,\n",
    "                              GradientBoostingRegressor, RandomForestClassifier, RandomForestRegressor,\n",
    "                              VotingClassifier)\n",
    "from sklearn.feature_selection import SelectKBest, f_regression\n",
    "from sklearn.impute import SimpleImputer\n",
    "from sklearn.linear_model import LinearRegression, LogisticRegression\n",
    "from sklearn.manifold import TSNE\n",
    "from sklearn.metrics import (accuracy_score, average_precision_score, classification_report,\n",
    "                             confusion_matrix, mean_absolute_error,\n",
    "                             mean_squared_error, plot_precision_recall_curve,\n",
    "                             precision_recall_curve, r2_score, roc_auc_score,\n",
    "                             roc_curve)\n",
    "from sklearn.model_selection import (GridSearchCV, KFold, cross_val_score,\n",
    "                                     cross_validate, learning_curve,\n",
    "                                     train_test_split)\n",
    "from sklearn.neighbors import KNeighborsClassifier\n",
    "from sklearn.pipeline import Pipeline, make_pipeline\n",
    "from sklearn.preprocessing import (LabelEncoder, MaxAbsScaler, MinMaxScaler, Normalizer,\n",
    "                                   StandardScaler, normalize, scale)\n",
    "from sklearn.tree import DecisionTreeClassifier, DecisionTreeRegressor"
   ]
  },
  {
   "cell_type": "code",
   "execution_count": 23,
   "id": "b3cc0f2d",
   "metadata": {
    "ExecuteTime": {
     "end_time": "2021-10-01T22:43:37.450432Z",
     "start_time": "2021-10-01T22:43:37.385080Z"
    },
    "hidden": true
   },
   "outputs": [
    {
     "name": "stdout",
     "output_type": "stream",
     "text": [
      "Author: Ken Cavagnolo\n",
      "\n",
      "Last updated: Fri Oct 01 2021\n",
      "\n",
      "Python implementation: CPython\n",
      "Python version       : 3.8.0\n",
      "IPython version      : 7.25.0\n",
      "\n",
      "jupyter : 1.0.0\n",
      "notebook: 6.4.0\n",
      "pandas  : 1.3.0\n",
      "numpy   : 1.19.5\n",
      "scipy   : 1.7.0\n",
      "\n",
      "Compiler    : GCC 10.3.0\n",
      "OS          : Linux\n",
      "Release     : 5.13.0-7614-generic\n",
      "Machine     : x86_64\n",
      "Processor   : x86_64\n",
      "CPU cores   : 12\n",
      "Architecture: 64bit\n",
      "\n",
      "Hostname: goldfinch\n",
      "\n",
      "Git hash: caf9afbd6f40785ca9287d672399bd2a69d694e9\n",
      "\n"
     ]
    }
   ],
   "source": [
    "import joblib\n",
    "import requests\n",
    "import warnings\n",
    "from dotenv import load_dotenv\n",
    "load_dotenv()\n",
    "APIKEY = os.getenv(\"SOME_KEY\")\n",
    "%reload_ext watermark\n",
    "%watermark -a 'Ken Cavagnolo' -n -u -v -m -h -g -p jupyter,notebook,pandas,numpy,scipy"
   ]
  },
  {
   "cell_type": "markdown",
   "id": "ee2d34f4",
   "metadata": {
    "heading_collapsed": true
   },
   "source": [
    "# GPU Check"
   ]
  },
  {
   "cell_type": "code",
   "execution_count": null,
   "id": "9629d10e",
   "metadata": {
    "ExecuteTime": {
     "end_time": "2021-10-01T22:11:08.706538Z",
     "start_time": "2021-10-01T22:11:04.990918Z"
    },
    "hidden": true
   },
   "outputs": [],
   "source": [
    "import tensorflow as tf\n",
    "import tensorflow_hub as hub\n",
    "import torch\n",
    "from tensorflow.python.client import device_lib\n",
    "\n",
    "hello = tf.constant(\"Hello, TensorFlow!\")\n",
    "with tf.device(\"/gpu:0\"):\n",
    "    a = tf.constant([1.0, 2.0, 3.0, 4.0, 5.0, 6.0], shape=[2, 3], name=\"a\")\n",
    "    b = tf.constant([1.0, 2.0, 3.0, 4.0, 5.0, 6.0], shape=[3, 2], name=\"b\")\n",
    "    c = tf.matmul(a, b)\n",
    "print(\"-\" * 20)\n",
    "print(\"<<< Testing Tensorflow >>>\")\n",
    "print(\"<<< Version: \", tf.__version__)\n",
    "print(\"<<< Eager mode: \", tf.executing_eagerly())\n",
    "print(\"<<< Hub version: \", hub.__version__)\n",
    "print(\n",
    "    \"<<< GPU is\",\n",
    "    \"available\" if tf.config.list_physical_devices(\"GPU\") else \"NOT AVAILABLE\",\n",
    ")\n",
    "print(\"<<< Code check...\")\n",
    "tf.print(hello)\n",
    "tf.print(c)\n",
    "print(\"-\" * 20)\n",
    "\n",
    "# torch\n",
    "print(\"-\" * 20)\n",
    "print(\"<<< Testing Torch >>>\")\n",
    "print(f\"<<< Version: {torch.__version__}\")\n",
    "print(\n",
    "    \"<<< GPU is\",\n",
    "    \"available\"\n",
    "    if any(\"GPU\" in d.name for d in device_lib.list_local_devices())\n",
    "    else \"NOT AVAILABLE\",\n",
    ")\n",
    "print(\"<<< CUDA is\", \"available\" if torch.cuda.is_available() else \"NOT AVAILABLE\")\n",
    "print(\"<<< Code check...\")\n",
    "x = torch.rand(5, 3)\n",
    "print(x)\n",
    "print(\"-\" * 20)\n"
   ]
  },
  {
   "cell_type": "markdown",
   "id": "2d59d3dd",
   "metadata": {
    "heading_collapsed": true
   },
   "source": [
    "# Functions"
   ]
  },
  {
   "cell_type": "code",
   "execution_count": 21,
   "id": "030168d4",
   "metadata": {
    "ExecuteTime": {
     "end_time": "2021-10-01T22:43:18.598517Z",
     "start_time": "2021-10-01T22:43:18.591249Z"
    },
    "hidden": true
   },
   "outputs": [],
   "source": [
    "def multilabel_sample(y, size=1000, min_count=5, seed=None):\n",
    "    \"\"\" Takes a matrix of binary labels `y` and returns\n",
    "        the indices for a sample of size `size` if\n",
    "        `size` > 1 or `size` * len(y) if size =< 1.\n",
    "\n",
    "        The sample is guaranteed to have > `min_count` of\n",
    "        each label.\n",
    "    \"\"\"\n",
    "    try:\n",
    "        if (np.unique(y).astype(int) != np.array([0, 1])).any():\n",
    "            raise ValueError()\n",
    "    except (TypeError, ValueError):\n",
    "        raise ValueError(\n",
    "            'multilabel_sample only works with binary indicator matrices')\n",
    "\n",
    "    if (y.sum(axis=0) < min_count).any():\n",
    "        raise ValueError(\n",
    "            'Some classes do not have enough examples. Change min_count if necessary.'\n",
    "        )\n",
    "\n",
    "    if size <= 1:\n",
    "        size = np.floor(y.shape[0] * size)\n",
    "\n",
    "    if y.shape[1] * min_count > size:\n",
    "        msg = \"Size less than number of columns * min_count, returning {} items instead of {}.\"\n",
    "        warnings.warn(msg.format(y.shape[1] * min_count, size))\n",
    "        size = y.shape[1] * min_count\n",
    "\n",
    "    rng = np.random.RandomState(\n",
    "        seed if seed is not None else np.random.randint(1))\n",
    "\n",
    "    if isinstance(y, pd.DataFrame):\n",
    "        choices = y.index\n",
    "        y = y.values\n",
    "    else:\n",
    "        choices = np.arange(y.shape[0])\n",
    "\n",
    "    sample_idxs = np.array([], dtype=choices.dtype)\n",
    "\n",
    "    # first, guarantee > min_count of each label\n",
    "    for j in range(y.shape[1]):\n",
    "        label_choices = choices[y[:, j] == 1]\n",
    "        label_idxs_sampled = rng.choice(label_choices,\n",
    "                                        size=min_count,\n",
    "                                        replace=False)\n",
    "        sample_idxs = np.concatenate([label_idxs_sampled, sample_idxs])\n",
    "\n",
    "    sample_idxs = np.unique(sample_idxs)\n",
    "\n",
    "    # now that we have at least min_count of each, we can just random sample\n",
    "    sample_count = int(size - sample_idxs.shape[0])\n",
    "\n",
    "    # get sample_count indices from remaining choices\n",
    "    remaining_choices = np.setdiff1d(choices, sample_idxs)\n",
    "    remaining_sampled = rng.choice(remaining_choices,\n",
    "                                   size=sample_count,\n",
    "                                   replace=False)\n",
    "\n",
    "    return np.concatenate([sample_idxs, remaining_sampled])"
   ]
  },
  {
   "cell_type": "code",
   "execution_count": 7,
   "id": "844ef300",
   "metadata": {
    "ExecuteTime": {
     "end_time": "2021-10-01T22:42:27.084807Z",
     "start_time": "2021-10-01T22:42:27.082419Z"
    },
    "hidden": true
   },
   "outputs": [],
   "source": [
    "def multilabel_sample_dataframe(df, labels, size, min_count=5, seed=None):\n",
    "    \"\"\" Takes a dataframe `df` and returns a sample of size `size` where all\n",
    "        classes in the binary matrix `labels` are represented at\n",
    "        least `min_count` times.\n",
    "    \"\"\"\n",
    "    idxs = multilabel_sample(labels, size=size, min_count=min_count, seed=seed)\n",
    "    return df.loc[idxs]"
   ]
  },
  {
   "cell_type": "code",
   "execution_count": 8,
   "id": "8a701d56",
   "metadata": {
    "ExecuteTime": {
     "end_time": "2021-10-01T22:42:27.304205Z",
     "start_time": "2021-10-01T22:42:27.299195Z"
    },
    "hidden": true
   },
   "outputs": [],
   "source": [
    "def multilabel_train_test_split(X, Y, size, min_count=5, seed=None):\n",
    "    \"\"\" Takes a features matrix `X` and a label matrix `Y` and\n",
    "        returns (X_train, X_test, Y_train, Y_test) where all\n",
    "        classes in Y are represented at least `min_count` times.\n",
    "    \"\"\"\n",
    "    index = Y.index if isinstance(Y, pd.DataFrame) else np.arange(Y.shape[0])\n",
    "\n",
    "    test_set_idxs = multilabel_sample(Y,\n",
    "                                      size=size,\n",
    "                                      min_count=min_count,\n",
    "                                      seed=seed)\n",
    "    train_set_idxs = np.setdiff1d(index, test_set_idxs)\n",
    "\n",
    "    test_set_mask = index.isin(test_set_idxs)\n",
    "    train_set_mask = ~test_set_mask\n",
    "\n",
    "    return (X[train_set_mask], X[test_set_mask], Y[train_set_mask],\n",
    "            Y[test_set_mask])"
   ]
  },
  {
   "cell_type": "code",
   "execution_count": 9,
   "id": "aa5283e9",
   "metadata": {
    "ExecuteTime": {
     "end_time": "2021-10-01T22:42:27.659061Z",
     "start_time": "2021-10-01T22:42:27.655957Z"
    },
    "hidden": true
   },
   "outputs": [],
   "source": [
    "def score_submission(pred_path=None,\n",
    "                     holdout_path=None):\n",
    "    # this happens on the backend to get the score\n",
    "    holdout_labels = pd.get_dummies(\n",
    "        pd.read_csv(holdout_path,\n",
    "                    index_col=0).apply(lambda x: x.astype('category'), axis=0))\n",
    "\n",
    "    preds = pd.read_csv(pred_path, index_col=0)\n",
    "\n",
    "    # make sure that format is correct\n",
    "    assert (preds.columns == holdout_labels.columns).all()\n",
    "    assert (preds.index == holdout_labels.index).all()\n",
    "\n",
    "    return _multi_multi_log_loss(preds.values, holdout_labels.values)"
   ]
  },
  {
   "cell_type": "code",
   "execution_count": 10,
   "id": "85392286",
   "metadata": {
    "ExecuteTime": {
     "end_time": "2021-10-01T22:42:28.447044Z",
     "start_time": "2021-10-01T22:42:28.436999Z"
    },
    "hidden": true
   },
   "outputs": [],
   "source": [
    "from itertools import combinations\n",
    "import numpy as np\n",
    "from scipy import sparse\n",
    "from sklearn.base import BaseEstimator, TransformerMixin\n",
    "\n",
    "\n",
    "class SparseInteractions(BaseEstimator, TransformerMixin):\n",
    "    def __init__(self, degree=2, feature_name_separator=\"_\"):\n",
    "        self.degree = degree\n",
    "        self.feature_name_separator = feature_name_separator\n",
    "\n",
    "    def fit(self, X, y=None):\n",
    "        return self\n",
    "\n",
    "    def transform(self, X):\n",
    "        if not sparse.isspmatrix_csc(X):\n",
    "            X = sparse.csc_matrix(X)\n",
    "\n",
    "        if hasattr(X, \"columns\"):\n",
    "            self.orig_col_names = X.columns\n",
    "        else:\n",
    "            self.orig_col_names = np.array([str(i) for i in range(X.shape[1])])\n",
    "\n",
    "        spi = self._create_sparse_interactions(X)\n",
    "        return spi\n",
    "\n",
    "    def get_feature_names(self):\n",
    "        return self.feature_names\n",
    "\n",
    "    def _create_sparse_interactions(self, X):\n",
    "        out_mat = []\n",
    "        self.feature_names = self.orig_col_names.tolist()\n",
    "\n",
    "        for sub_degree in range(2, self.degree + 1):\n",
    "            for col_ixs in combinations(range(X.shape[1]), sub_degree):\n",
    "                # add name for new column\n",
    "                name = self.feature_name_separator.join(self.orig_col_names[list(col_ixs)])\n",
    "                self.feature_names.append(name)\n",
    "\n",
    "                # get column multiplications value\n",
    "                out = X[:, col_ixs[0]]\n",
    "                for j in col_ixs[1:]:\n",
    "                    out = out.multiply(X[:, j])\n",
    "\n",
    "                out_mat.append(out)\n",
    "\n",
    "        return sparse.hstack([X] + out_mat)"
   ]
  },
  {
   "cell_type": "markdown",
   "id": "74f562f8",
   "metadata": {
    "heading_collapsed": true
   },
   "source": [
    "# Load Data"
   ]
  },
  {
   "cell_type": "code",
   "execution_count": 11,
   "id": "67d40630",
   "metadata": {
    "ExecuteTime": {
     "end_time": "2021-10-01T22:42:30.862679Z",
     "start_time": "2021-10-01T22:42:29.951086Z"
    },
    "hidden": true
   },
   "outputs": [],
   "source": [
    "# load data and use pyjanitor to clean\n",
    "df = pd.read_csv(\"datasets/train.csv\", index_col=0)\n",
    "#test_df = pd.read_csv(\"datasets/test.csv\", index_col=0)\n",
    "#holdout_df = pd.read_csv(\"datasets/holdout.csv\", index_col=0)"
   ]
  },
  {
   "cell_type": "code",
   "execution_count": 12,
   "id": "12043b56",
   "metadata": {
    "ExecuteTime": {
     "end_time": "2021-10-01T22:42:31.388890Z",
     "start_time": "2021-10-01T22:42:31.367559Z"
    },
    "hidden": true
   },
   "outputs": [
    {
     "data": {
      "text/html": [
       "<div>\n",
       "<style scoped>\n",
       "    .dataframe tbody tr th:only-of-type {\n",
       "        vertical-align: middle;\n",
       "    }\n",
       "\n",
       "    .dataframe tbody tr th {\n",
       "        vertical-align: top;\n",
       "    }\n",
       "\n",
       "    .dataframe thead th {\n",
       "        text-align: right;\n",
       "    }\n",
       "</style>\n",
       "<table border=\"1\" class=\"dataframe\">\n",
       "  <thead>\n",
       "    <tr style=\"text-align: right;\">\n",
       "      <th></th>\n",
       "      <th>Function</th>\n",
       "      <th>Use</th>\n",
       "      <th>Sharing</th>\n",
       "      <th>Reporting</th>\n",
       "      <th>Student_Type</th>\n",
       "      <th>Position_Type</th>\n",
       "      <th>Object_Type</th>\n",
       "      <th>Pre_K</th>\n",
       "      <th>Operating_Status</th>\n",
       "      <th>Object_Description</th>\n",
       "      <th>...</th>\n",
       "      <th>Sub_Object_Description</th>\n",
       "      <th>Location_Description</th>\n",
       "      <th>FTE</th>\n",
       "      <th>Function_Description</th>\n",
       "      <th>Facility_or_Department</th>\n",
       "      <th>Position_Extra</th>\n",
       "      <th>Total</th>\n",
       "      <th>Program_Description</th>\n",
       "      <th>Fund_Description</th>\n",
       "      <th>Text_1</th>\n",
       "    </tr>\n",
       "  </thead>\n",
       "  <tbody>\n",
       "    <tr>\n",
       "      <th>159481</th>\n",
       "      <td>Physical Health &amp; Services</td>\n",
       "      <td>Pupil Services &amp; Enrichment</td>\n",
       "      <td>School Reported</td>\n",
       "      <td>School</td>\n",
       "      <td>Unspecified</td>\n",
       "      <td>Nurse</td>\n",
       "      <td>Benefits</td>\n",
       "      <td>NO_LABEL</td>\n",
       "      <td>PreK-12 Operating</td>\n",
       "      <td>CONTRA BENEFITS</td>\n",
       "      <td>...</td>\n",
       "      <td>NaN</td>\n",
       "      <td>NaN</td>\n",
       "      <td>NaN</td>\n",
       "      <td>NON-PROJECT</td>\n",
       "      <td>NaN</td>\n",
       "      <td>UNDESIGNATED</td>\n",
       "      <td>-1240.090000</td>\n",
       "      <td>EMPLOYEE BENEFITS</td>\n",
       "      <td>NaN</td>\n",
       "      <td>EMPLOYEE BENEFITS</td>\n",
       "    </tr>\n",
       "    <tr>\n",
       "      <th>225044</th>\n",
       "      <td>Professional Development</td>\n",
       "      <td>ISPD</td>\n",
       "      <td>Shared Services</td>\n",
       "      <td>Non-School</td>\n",
       "      <td>ELL</td>\n",
       "      <td>Teacher</td>\n",
       "      <td>Other Compensation/Stipend</td>\n",
       "      <td>NO_LABEL</td>\n",
       "      <td>PreK-12 Operating</td>\n",
       "      <td>ADDITIONAL/EXTRA DUTY PAY/STIP</td>\n",
       "      <td>...</td>\n",
       "      <td>NaN</td>\n",
       "      <td>ENGLISH FOR SPEAKERS OF OTHER</td>\n",
       "      <td>NaN</td>\n",
       "      <td>TITLE III  ELA</td>\n",
       "      <td>NaN</td>\n",
       "      <td>PROFESSIONAL-INSTRUCTIONAL</td>\n",
       "      <td>189.605760</td>\n",
       "      <td>INSTRUCTIONAL STAFF TRAINING</td>\n",
       "      <td>NaN</td>\n",
       "      <td>INSTRUCTIONAL STAFF</td>\n",
       "    </tr>\n",
       "    <tr>\n",
       "      <th>71959</th>\n",
       "      <td>NO_LABEL</td>\n",
       "      <td>NO_LABEL</td>\n",
       "      <td>NO_LABEL</td>\n",
       "      <td>NO_LABEL</td>\n",
       "      <td>NO_LABEL</td>\n",
       "      <td>NO_LABEL</td>\n",
       "      <td>NO_LABEL</td>\n",
       "      <td>NO_LABEL</td>\n",
       "      <td>Non-Operating</td>\n",
       "      <td>Supplies and Materials</td>\n",
       "      <td>...</td>\n",
       "      <td>Supplies And Materials</td>\n",
       "      <td>NaN</td>\n",
       "      <td>NaN</td>\n",
       "      <td>Disadvantaged Youth *</td>\n",
       "      <td>NaN</td>\n",
       "      <td>NaN</td>\n",
       "      <td>NaN</td>\n",
       "      <td>NaN</td>\n",
       "      <td>Title I - Disadvantaged Children/Targeted Assi...</td>\n",
       "      <td>TITLE I CARRYOVER-PUBLIC</td>\n",
       "    </tr>\n",
       "    <tr>\n",
       "      <th>151756</th>\n",
       "      <td>NO_LABEL</td>\n",
       "      <td>NO_LABEL</td>\n",
       "      <td>NO_LABEL</td>\n",
       "      <td>NO_LABEL</td>\n",
       "      <td>NO_LABEL</td>\n",
       "      <td>NO_LABEL</td>\n",
       "      <td>NO_LABEL</td>\n",
       "      <td>NO_LABEL</td>\n",
       "      <td>Non-Operating</td>\n",
       "      <td>Supplies and Materials</td>\n",
       "      <td>...</td>\n",
       "      <td>Supplies And Materials</td>\n",
       "      <td>NaN</td>\n",
       "      <td>NaN</td>\n",
       "      <td>Instruction And Curriculum Development Services *</td>\n",
       "      <td>NaN</td>\n",
       "      <td>NaN</td>\n",
       "      <td>4630.960000</td>\n",
       "      <td>NaN</td>\n",
       "      <td>Special Trust</td>\n",
       "      <td>ITEMS-VARIOUS GRANTS</td>\n",
       "    </tr>\n",
       "    <tr>\n",
       "      <th>256188</th>\n",
       "      <td>Facilities &amp; Maintenance</td>\n",
       "      <td>O&amp;M</td>\n",
       "      <td>Shared Services</td>\n",
       "      <td>Non-School</td>\n",
       "      <td>Unspecified</td>\n",
       "      <td>Custodian</td>\n",
       "      <td>Base Salary/Compensation</td>\n",
       "      <td>Non PreK</td>\n",
       "      <td>PreK-12 Operating</td>\n",
       "      <td>Personal Services - Custodians</td>\n",
       "      <td>...</td>\n",
       "      <td>NaN</td>\n",
       "      <td>District Wide Resources</td>\n",
       "      <td>0.172794</td>\n",
       "      <td>NaN</td>\n",
       "      <td>CUSTODIANS</td>\n",
       "      <td>CUSTODIAN</td>\n",
       "      <td>2898.904889</td>\n",
       "      <td>Operations</td>\n",
       "      <td>General Purpose School</td>\n",
       "      <td>NaN</td>\n",
       "    </tr>\n",
       "  </tbody>\n",
       "</table>\n",
       "<p>5 rows × 25 columns</p>\n",
       "</div>"
      ],
      "text/plain": [
       "                          Function                          Use  \\\n",
       "159481  Physical Health & Services  Pupil Services & Enrichment   \n",
       "225044    Professional Development                         ISPD   \n",
       "71959                     NO_LABEL                     NO_LABEL   \n",
       "151756                    NO_LABEL                     NO_LABEL   \n",
       "256188    Facilities & Maintenance                          O&M   \n",
       "\n",
       "                Sharing   Reporting Student_Type Position_Type  \\\n",
       "159481  School Reported      School  Unspecified         Nurse   \n",
       "225044  Shared Services  Non-School          ELL       Teacher   \n",
       "71959          NO_LABEL    NO_LABEL     NO_LABEL      NO_LABEL   \n",
       "151756         NO_LABEL    NO_LABEL     NO_LABEL      NO_LABEL   \n",
       "256188  Shared Services  Non-School  Unspecified     Custodian   \n",
       "\n",
       "                       Object_Type     Pre_K   Operating_Status  \\\n",
       "159481                    Benefits  NO_LABEL  PreK-12 Operating   \n",
       "225044  Other Compensation/Stipend  NO_LABEL  PreK-12 Operating   \n",
       "71959                     NO_LABEL  NO_LABEL      Non-Operating   \n",
       "151756                    NO_LABEL  NO_LABEL      Non-Operating   \n",
       "256188    Base Salary/Compensation  Non PreK  PreK-12 Operating   \n",
       "\n",
       "                    Object_Description  ...  Sub_Object_Description  \\\n",
       "159481                 CONTRA BENEFITS  ...                     NaN   \n",
       "225044  ADDITIONAL/EXTRA DUTY PAY/STIP  ...                     NaN   \n",
       "71959           Supplies and Materials  ...  Supplies And Materials   \n",
       "151756          Supplies and Materials  ...  Supplies And Materials   \n",
       "256188  Personal Services - Custodians  ...                     NaN   \n",
       "\n",
       "                 Location_Description       FTE  \\\n",
       "159481                            NaN       NaN   \n",
       "225044  ENGLISH FOR SPEAKERS OF OTHER       NaN   \n",
       "71959                             NaN       NaN   \n",
       "151756                            NaN       NaN   \n",
       "256188        District Wide Resources  0.172794   \n",
       "\n",
       "                                     Function_Description  \\\n",
       "159481                                        NON-PROJECT   \n",
       "225044                                     TITLE III  ELA   \n",
       "71959                               Disadvantaged Youth *   \n",
       "151756  Instruction And Curriculum Development Services *   \n",
       "256188                                                NaN   \n",
       "\n",
       "       Facility_or_Department              Position_Extra        Total  \\\n",
       "159481                    NaN                UNDESIGNATED -1240.090000   \n",
       "225044                    NaN  PROFESSIONAL-INSTRUCTIONAL   189.605760   \n",
       "71959                     NaN                         NaN          NaN   \n",
       "151756                    NaN                         NaN  4630.960000   \n",
       "256188             CUSTODIANS                   CUSTODIAN  2898.904889   \n",
       "\n",
       "                 Program_Description  \\\n",
       "159481             EMPLOYEE BENEFITS   \n",
       "225044  INSTRUCTIONAL STAFF TRAINING   \n",
       "71959                            NaN   \n",
       "151756                           NaN   \n",
       "256188                    Operations   \n",
       "\n",
       "                                         Fund_Description  \\\n",
       "159481                                                NaN   \n",
       "225044                                                NaN   \n",
       "71959   Title I - Disadvantaged Children/Targeted Assi...   \n",
       "151756                                      Special Trust   \n",
       "256188                             General Purpose School   \n",
       "\n",
       "                          Text_1  \n",
       "159481         EMPLOYEE BENEFITS  \n",
       "225044       INSTRUCTIONAL STAFF  \n",
       "71959   TITLE I CARRYOVER-PUBLIC  \n",
       "151756      ITEMS-VARIOUS GRANTS  \n",
       "256188                       NaN  \n",
       "\n",
       "[5 rows x 25 columns]"
      ]
     },
     "execution_count": 12,
     "metadata": {},
     "output_type": "execute_result"
    }
   ],
   "source": [
    "df.sample(5)"
   ]
  },
  {
   "cell_type": "code",
   "execution_count": 13,
   "id": "82ac41e5",
   "metadata": {
    "ExecuteTime": {
     "end_time": "2021-10-01T22:42:31.871273Z",
     "start_time": "2021-10-01T22:42:31.869543Z"
    },
    "hidden": true
   },
   "outputs": [],
   "source": [
    "# inspect\n",
    "#profile_report = df.profile_report(sort=None,\n",
    "#                                         explorative=True,\n",
    "#                                         html={\"style\": {\n",
    "#                                             \"full_width\": True\n",
    "#                                         }},\n",
    "#                                         progress_bar=True)\n",
    "#profile_report.to_file(\"docs/train_profile.html\")"
   ]
  },
  {
   "cell_type": "markdown",
   "id": "c40be7f6",
   "metadata": {
    "heading_collapsed": true
   },
   "source": [
    "# EDA"
   ]
  },
  {
   "cell_type": "markdown",
   "id": "fc51a221",
   "metadata": {
    "hidden": true
   },
   "source": [
    "## Categorical Features"
   ]
  },
  {
   "cell_type": "code",
   "execution_count": 14,
   "id": "2e846bcd",
   "metadata": {
    "ExecuteTime": {
     "end_time": "2021-10-01T22:42:38.410706Z",
     "start_time": "2021-10-01T22:42:37.907818Z"
    },
    "hidden": true
   },
   "outputs": [
    {
     "name": "stdout",
     "output_type": "stream",
     "text": [
      "Possibly categorical columns...\n",
      "  Function\n",
      "  Object_Type\n",
      "  Operating_Status\n",
      "  Position_Type\n",
      "  Pre_K\n",
      "  Reporting\n",
      "  Sharing\n",
      "  Student_Type\n",
      "  Text_3\n",
      "  Use\n"
     ]
    }
   ],
   "source": [
    "# look for possible categorical columns\n",
    "MIN_CATEGORIES = 2\n",
    "MAX_CATEGORIES = 40\n",
    "categorical_cols = []\n",
    "print(\"Possibly categorical columns...\")   \n",
    "for col in sorted(df.select_dtypes(include=[\"object\"]).columns):\n",
    "    if MIN_CATEGORIES < len(df[col].value_counts()) < MAX_CATEGORIES:\n",
    "        categorical_cols.append(col)\n",
    "        print(f\"  {col}\")\n",
    "if len(categorical_cols) == 0:\n",
    "    print(\"   None\")"
   ]
  },
  {
   "cell_type": "code",
   "execution_count": 15,
   "id": "147b8b6d",
   "metadata": {
    "ExecuteTime": {
     "end_time": "2021-10-01T22:42:39.085124Z",
     "start_time": "2021-10-01T22:42:38.871087Z"
    },
    "hidden": true
   },
   "outputs": [
    {
     "data": {
      "text/html": [
       "<div>\n",
       "<style scoped>\n",
       "    .dataframe tbody tr th:only-of-type {\n",
       "        vertical-align: middle;\n",
       "    }\n",
       "\n",
       "    .dataframe tbody tr th {\n",
       "        vertical-align: top;\n",
       "    }\n",
       "\n",
       "    .dataframe thead th {\n",
       "        text-align: right;\n",
       "    }\n",
       "</style>\n",
       "<table border=\"1\" class=\"dataframe\">\n",
       "  <thead>\n",
       "    <tr style=\"text-align: right;\">\n",
       "      <th></th>\n",
       "      <th>Function</th>\n",
       "      <th>Use</th>\n",
       "      <th>Sharing</th>\n",
       "      <th>Reporting</th>\n",
       "      <th>Student_Type</th>\n",
       "      <th>Position_Type</th>\n",
       "      <th>Object_Type</th>\n",
       "      <th>Pre_K</th>\n",
       "      <th>Operating_Status</th>\n",
       "      <th>Object_Description</th>\n",
       "      <th>...</th>\n",
       "      <th>Sub_Object_Description</th>\n",
       "      <th>Location_Description</th>\n",
       "      <th>FTE</th>\n",
       "      <th>Function_Description</th>\n",
       "      <th>Facility_or_Department</th>\n",
       "      <th>Position_Extra</th>\n",
       "      <th>Total</th>\n",
       "      <th>Program_Description</th>\n",
       "      <th>Fund_Description</th>\n",
       "      <th>Text_1</th>\n",
       "    </tr>\n",
       "  </thead>\n",
       "  <tbody>\n",
       "    <tr>\n",
       "      <th>12373</th>\n",
       "      <td>Substitute Compensation</td>\n",
       "      <td>Instruction</td>\n",
       "      <td>School Reported</td>\n",
       "      <td>School</td>\n",
       "      <td>Special Education</td>\n",
       "      <td>Substitute</td>\n",
       "      <td>Substitute Compensation</td>\n",
       "      <td>Non PreK</td>\n",
       "      <td>PreK-12 Operating</td>\n",
       "      <td>Salaries And Wages For Substitute Professionals</td>\n",
       "      <td>...</td>\n",
       "      <td>Salaries And Wages For Substitute Teachers</td>\n",
       "      <td>School</td>\n",
       "      <td>NaN</td>\n",
       "      <td>Instruction</td>\n",
       "      <td>All Campus Payroll</td>\n",
       "      <td>DEGREED SUBSTITUTE</td>\n",
       "      <td>634.106568</td>\n",
       "      <td>Services To Students With Disabilities (Specia...</td>\n",
       "      <td>General Operating Fund</td>\n",
       "      <td>REGULAR PAY</td>\n",
       "    </tr>\n",
       "    <tr>\n",
       "      <th>226446</th>\n",
       "      <td>NO_LABEL</td>\n",
       "      <td>NO_LABEL</td>\n",
       "      <td>NO_LABEL</td>\n",
       "      <td>NO_LABEL</td>\n",
       "      <td>NO_LABEL</td>\n",
       "      <td>NO_LABEL</td>\n",
       "      <td>NO_LABEL</td>\n",
       "      <td>NO_LABEL</td>\n",
       "      <td>Non-Operating</td>\n",
       "      <td>Supplies and Materials</td>\n",
       "      <td>...</td>\n",
       "      <td>Supplies And Materials</td>\n",
       "      <td>NaN</td>\n",
       "      <td>NaN</td>\n",
       "      <td>Other Handicaps *</td>\n",
       "      <td>NaN</td>\n",
       "      <td>NaN</td>\n",
       "      <td>261216.810000</td>\n",
       "      <td>NaN</td>\n",
       "      <td>IDEA, Part B Special Education, Education of H...</td>\n",
       "      <td>IDEA-B</td>\n",
       "    </tr>\n",
       "    <tr>\n",
       "      <th>158080</th>\n",
       "      <td>Teacher Compensation</td>\n",
       "      <td>Instruction</td>\n",
       "      <td>School Reported</td>\n",
       "      <td>School</td>\n",
       "      <td>Unspecified</td>\n",
       "      <td>Teacher</td>\n",
       "      <td>Base Salary/Compensation</td>\n",
       "      <td>Non PreK</td>\n",
       "      <td>PreK-12 Operating</td>\n",
       "      <td>Regular *</td>\n",
       "      <td>...</td>\n",
       "      <td>Certificated Employees Salaries And Wages</td>\n",
       "      <td>IN OTH CERTIFICATED PERSON</td>\n",
       "      <td>0.5</td>\n",
       "      <td>Elementary</td>\n",
       "      <td>NaN</td>\n",
       "      <td>NaN</td>\n",
       "      <td>51077.905643</td>\n",
       "      <td>NaN</td>\n",
       "      <td>General</td>\n",
       "      <td>SCHOOL BASED MANAGEMENT</td>\n",
       "    </tr>\n",
       "    <tr>\n",
       "      <th>344646</th>\n",
       "      <td>Curriculum Development</td>\n",
       "      <td>NO_LABEL</td>\n",
       "      <td>Leadership &amp; Management</td>\n",
       "      <td>Non-School</td>\n",
       "      <td>NO_LABEL</td>\n",
       "      <td>NO_LABEL</td>\n",
       "      <td>Travel &amp; Conferences</td>\n",
       "      <td>NO_LABEL</td>\n",
       "      <td>PreK-12 Operating</td>\n",
       "      <td>TRAVEL - EMPLOYEES</td>\n",
       "      <td>...</td>\n",
       "      <td>NaN</td>\n",
       "      <td>ADMIN. SERVICES</td>\n",
       "      <td>NaN</td>\n",
       "      <td>IMPROVEMENT OF INSTR SERV</td>\n",
       "      <td>NaN</td>\n",
       "      <td>NaN</td>\n",
       "      <td>988.030000</td>\n",
       "      <td>Vocational  Grant-Program Improvement.</td>\n",
       "      <td>Vocational Education-Federal Funded</td>\n",
       "      <td>NaN</td>\n",
       "    </tr>\n",
       "    <tr>\n",
       "      <th>200692</th>\n",
       "      <td>Substitute Compensation</td>\n",
       "      <td>Instruction</td>\n",
       "      <td>School Reported</td>\n",
       "      <td>School</td>\n",
       "      <td>Special Education</td>\n",
       "      <td>Substitute</td>\n",
       "      <td>Substitute Compensation</td>\n",
       "      <td>Non PreK</td>\n",
       "      <td>PreK-12 Operating</td>\n",
       "      <td>Personal Services - Substitute Teachers Certified</td>\n",
       "      <td>...</td>\n",
       "      <td>NaN</td>\n",
       "      <td>NaN</td>\n",
       "      <td>0.0</td>\n",
       "      <td>NaN</td>\n",
       "      <td>ENGLISH LANGUAGE LEARNERS</td>\n",
       "      <td>SUBSTITUTE TEACHER</td>\n",
       "      <td>35.339900</td>\n",
       "      <td>Instruction - SPED</td>\n",
       "      <td>School Federal Projects</td>\n",
       "      <td>INDIVIDUALS WITH DISABILITIES ACT PART B</td>\n",
       "    </tr>\n",
       "  </tbody>\n",
       "</table>\n",
       "<p>5 rows × 25 columns</p>\n",
       "</div>"
      ],
      "text/plain": [
       "                       Function          Use                  Sharing  \\\n",
       "12373   Substitute Compensation  Instruction          School Reported   \n",
       "226446                 NO_LABEL     NO_LABEL                 NO_LABEL   \n",
       "158080     Teacher Compensation  Instruction          School Reported   \n",
       "344646   Curriculum Development     NO_LABEL  Leadership & Management   \n",
       "200692  Substitute Compensation  Instruction          School Reported   \n",
       "\n",
       "         Reporting       Student_Type Position_Type               Object_Type  \\\n",
       "12373       School  Special Education    Substitute   Substitute Compensation   \n",
       "226446    NO_LABEL           NO_LABEL      NO_LABEL                  NO_LABEL   \n",
       "158080      School        Unspecified       Teacher  Base Salary/Compensation   \n",
       "344646  Non-School           NO_LABEL      NO_LABEL      Travel & Conferences   \n",
       "200692      School  Special Education    Substitute   Substitute Compensation   \n",
       "\n",
       "           Pre_K   Operating_Status  \\\n",
       "12373   Non PreK  PreK-12 Operating   \n",
       "226446  NO_LABEL      Non-Operating   \n",
       "158080  Non PreK  PreK-12 Operating   \n",
       "344646  NO_LABEL  PreK-12 Operating   \n",
       "200692  Non PreK  PreK-12 Operating   \n",
       "\n",
       "                                       Object_Description  ...  \\\n",
       "12373     Salaries And Wages For Substitute Professionals  ...   \n",
       "226446                             Supplies and Materials  ...   \n",
       "158080                                          Regular *  ...   \n",
       "344646                                 TRAVEL - EMPLOYEES  ...   \n",
       "200692  Personal Services - Substitute Teachers Certified  ...   \n",
       "\n",
       "                            Sub_Object_Description  \\\n",
       "12373   Salaries And Wages For Substitute Teachers   \n",
       "226446                      Supplies And Materials   \n",
       "158080   Certificated Employees Salaries And Wages   \n",
       "344646                                         NaN   \n",
       "200692                                         NaN   \n",
       "\n",
       "              Location_Description  FTE       Function_Description  \\\n",
       "12373                      School   NaN                Instruction   \n",
       "226446                         NaN  NaN          Other Handicaps *   \n",
       "158080  IN OTH CERTIFICATED PERSON  0.5                 Elementary   \n",
       "344646             ADMIN. SERVICES  NaN  IMPROVEMENT OF INSTR SERV   \n",
       "200692                         NaN  0.0                        NaN   \n",
       "\n",
       "           Facility_or_Department      Position_Extra          Total  \\\n",
       "12373          All Campus Payroll  DEGREED SUBSTITUTE     634.106568   \n",
       "226446                        NaN                 NaN  261216.810000   \n",
       "158080                        NaN                 NaN   51077.905643   \n",
       "344646                        NaN                 NaN     988.030000   \n",
       "200692  ENGLISH LANGUAGE LEARNERS  SUBSTITUTE TEACHER      35.339900   \n",
       "\n",
       "                                      Program_Description  \\\n",
       "12373   Services To Students With Disabilities (Specia...   \n",
       "226446                                                NaN   \n",
       "158080                                                NaN   \n",
       "344646             Vocational  Grant-Program Improvement.   \n",
       "200692                                 Instruction - SPED   \n",
       "\n",
       "                                         Fund_Description  \\\n",
       "12373                              General Operating Fund   \n",
       "226446  IDEA, Part B Special Education, Education of H...   \n",
       "158080                                            General   \n",
       "344646                Vocational Education-Federal Funded   \n",
       "200692                            School Federal Projects   \n",
       "\n",
       "                                          Text_1  \n",
       "12373                                REGULAR PAY  \n",
       "226446                                   IDEA-B   \n",
       "158080                   SCHOOL BASED MANAGEMENT  \n",
       "344646                                       NaN  \n",
       "200692  INDIVIDUALS WITH DISABILITIES ACT PART B  \n",
       "\n",
       "[5 rows x 25 columns]"
      ]
     },
     "execution_count": 15,
     "metadata": {},
     "output_type": "execute_result"
    }
   ],
   "source": [
    "# change the column type\n",
    "categorical_cols.remove(\"Text_3\")\n",
    "categorize_feature = lambda x: x.astype(\"category\")\n",
    "df[categorical_cols].apply(categorize_feature, axis=0)\n",
    "df.sample(5)"
   ]
  },
  {
   "cell_type": "code",
   "execution_count": 16,
   "id": "32b1cb5a",
   "metadata": {
    "ExecuteTime": {
     "end_time": "2021-10-01T22:42:39.893645Z",
     "start_time": "2021-10-01T22:42:39.580208Z"
    },
    "hidden": true
   },
   "outputs": [
    {
     "data": {
      "text/plain": [
       "Text(0, 0.5, 'Number of unique values')"
      ]
     },
     "execution_count": 16,
     "metadata": {},
     "output_type": "execute_result"
    },
    {
     "name": "stderr",
     "output_type": "stream",
     "text": [
      "WARNING:matplotlib.font_manager:findfont: Font family ['sans-serif'] not found. Falling back to DejaVu Sans.\n",
      "WARNING:matplotlib.font_manager:findfont: Generic family 'sans-serif' not found because none of the following families were found: Open Sans\n",
      "WARNING:matplotlib.font_manager:findfont: Font family ['sans-serif'] not found. Falling back to DejaVu Sans.\n",
      "WARNING:matplotlib.font_manager:findfont: Generic family 'sans-serif' not found because none of the following families were found: Open Sans\n"
     ]
    },
    {
     "data": {
      "image/png": "[encoded data removed]",
      "text/plain": [
       "<Figure size 1080x432 with 1 Axes>"
      ]
     },
     "metadata": {
      "needs_background": "light"
     },
     "output_type": "display_data"
    }
   ],
   "source": [
    "# display unique values for each feature\n",
    "n_unique_features = df[categorical_cols].apply(pd.Series.nunique).sort_values(ascending=False)\n",
    "sns.barplot(x=n_unique_features.index, y=n_unique_features.values)\n",
    "plt.xlabel('Feature')\n",
    "plt.ylabel('Number of unique values')"
   ]
  },
  {
   "cell_type": "markdown",
   "id": "bba24e9f",
   "metadata": {
    "hidden": true
   },
   "source": [
    "## Numerical Features"
   ]
  },
  {
   "cell_type": "code",
   "execution_count": 17,
   "id": "90a58bed",
   "metadata": {
    "ExecuteTime": {
     "end_time": "2021-10-01T22:42:40.385113Z",
     "start_time": "2021-10-01T22:42:40.380437Z"
    },
    "hidden": true
   },
   "outputs": [
    {
     "name": "stdout",
     "output_type": "stream",
     "text": [
      "Numeric columns...\n",
      "  FTE\n",
      "  Total\n"
     ]
    }
   ],
   "source": [
    "# look for possible numeric columns\n",
    "numeric_cols = []\n",
    "print(\"Numeric columns...\")\n",
    "for c in sorted(df.select_dtypes(include=[\"number\"]).columns):\n",
    "    print(f\"  {c}\")\n",
    "    numeric_cols.append(c)"
   ]
  },
  {
   "cell_type": "code",
   "execution_count": 18,
   "id": "b28f7fe4",
   "metadata": {
    "ExecuteTime": {
     "end_time": "2021-10-01T22:42:40.900087Z",
     "start_time": "2021-10-01T22:42:40.894956Z"
    },
    "hidden": true
   },
   "outputs": [],
   "source": [
    "numeric_data = df[numeric_cols].fillna(-1000)"
   ]
  },
  {
   "cell_type": "markdown",
   "id": "960454a3",
   "metadata": {
    "hidden": true
   },
   "source": [
    "## Text Features"
   ]
  },
  {
   "cell_type": "code",
   "execution_count": 19,
   "id": "9cdd6da0",
   "metadata": {
    "ExecuteTime": {
     "end_time": "2021-10-01T22:42:41.410731Z",
     "start_time": "2021-10-01T22:42:41.406591Z"
    },
    "hidden": true
   },
   "outputs": [
    {
     "name": "stdout",
     "output_type": "stream",
     "text": [
      "Text columns...\n",
      "  Facility_or_Department\n",
      "  Function_Description\n",
      "  Fund_Description\n",
      "  Job_Title_Description\n",
      "  Location_Description\n",
      "  Object_Description\n",
      "  Position_Extra\n",
      "  Program_Description\n",
      "  SubFund_Description\n",
      "  Sub_Object_Description\n",
      "  Text_1\n",
      "  Text_2\n",
      "  Text_3\n",
      "  Text_4\n"
     ]
    }
   ],
   "source": [
    "non_text_cols = numeric_cols + categorical_cols\n",
    "text_cols = []\n",
    "print(\"Text columns...\")\n",
    "for c in sorted(df.columns):\n",
    "    if c not in non_text_cols:\n",
    "        print(f\"  {c}\")\n",
    "        text_cols.append(c)"
   ]
  },
  {
   "cell_type": "markdown",
   "id": "41d641c7",
   "metadata": {},
   "source": [
    "# Preprocessing"
   ]
  },
  {
   "cell_type": "code",
   "execution_count": 25,
   "id": "64f826a1",
   "metadata": {
    "ExecuteTime": {
     "end_time": "2021-10-01T22:44:13.893250Z",
     "start_time": "2021-10-01T22:44:12.775439Z"
    }
   },
   "outputs": [],
   "source": [
    "# take a sample to speed things up\n",
    "SAMPLE_SIZE = 5000\n",
    "train_df = multilabel_sample_dataframe(df,\n",
    "                                       pd.get_dummies(\n",
    "                                           df[categorical_cols]),\n",
    "                                       size=SAMPLE_SIZE,\n",
    "                                       min_count=25,\n",
    "                                       seed=43)"
   ]
  },
  {
   "cell_type": "code",
   "execution_count": 26,
   "id": "52588c72",
   "metadata": {
    "ExecuteTime": {
     "end_time": "2021-10-01T22:44:14.528491Z",
     "start_time": "2021-10-01T22:44:14.501233Z"
    }
   },
   "outputs": [],
   "source": [
    "# design matrix and OHE target values\n",
    "features = numeric_cols + text_cols\n",
    "X = train_df[features]\n",
    "y = pd.get_dummies(train_df[categorical_cols])\n",
    "\n",
    "# Create training and test sets\n",
    "X_train, X_test, y_train, y_test = multilabel_train_test_split(X,\n",
    "                                                               y,\n",
    "                                                               size=0.2,\n",
    "                                                               seed=42)"
   ]
  },
  {
   "cell_type": "markdown",
   "id": "24e878b8",
   "metadata": {},
   "source": [
    "# Modeling"
   ]
  },
  {
   "cell_type": "markdown",
   "id": "f60f0402",
   "metadata": {},
   "source": [
    "Reminder, the conceptual framework for working with numeric, categorical, and text data is to use independent preprocessing pipelines."
   ]
  },
  {
   "cell_type": "code",
   "execution_count": 27,
   "id": "5ea18064",
   "metadata": {
    "ExecuteTime": {
     "end_time": "2021-10-01T22:44:16.100935Z",
     "start_time": "2021-10-01T22:44:16.097202Z"
    }
   },
   "outputs": [],
   "source": [
    "# unique imports\n",
    "from sklearn.feature_extraction.text import CountVectorizer, HashingVectorizer\n",
    "from sklearn.multiclass import OneVsRestClassifier\n",
    "from sklearn.feature_selection import chi2, SelectKBest\n",
    "from sklearn.preprocessing import FunctionTransformer\n",
    "from sklearn.pipeline import FeatureUnion"
   ]
  },
  {
   "cell_type": "code",
   "execution_count": 28,
   "id": "fb20426a",
   "metadata": {
    "ExecuteTime": {
     "end_time": "2021-10-01T22:44:16.905396Z",
     "start_time": "2021-10-01T22:44:16.902815Z"
    }
   },
   "outputs": [],
   "source": [
    "# Preprocess the text data: get_text_data\n",
    "select_text_data = FunctionTransformer(\n",
    "    lambda x: x[text_cols].fillna(\"\").apply(lambda y: \" \".join(y), axis=1),\n",
    "    validate=False)\n",
    "\n",
    "# Preprocess the numeric data: get_numeric_data\n",
    "select_numeric_data = FunctionTransformer(\n",
    "    lambda x: x[numeric_cols],\n",
    "    validate=False)"
   ]
  },
  {
   "cell_type": "code",
   "execution_count": 40,
   "id": "08d851fc",
   "metadata": {
    "ExecuteTime": {
     "end_time": "2021-10-01T22:49:57.641056Z",
     "start_time": "2021-10-01T22:49:57.631761Z"
    }
   },
   "outputs": [],
   "source": [
    "# Complete the pipeline in steps:\n",
    "# 1. select numerical data\n",
    "# 2. impute missing numeric values\n",
    "# 3. select text data\n",
    "# 4. tokenize and vectorize text\n",
    "# 5. reduce the dimensionality by selecting k-best features\n",
    "# 6. union the numeric and text subpipelines\n",
    "# 7. calculate feature interactions\n",
    "# 8. scale the resulting features\n",
    "# 9. fit a multiclass classifier\n",
    "\n",
    "# missing data imputer\n",
    "imputer = SimpleImputer()\n",
    "\n",
    "# the scaler\n",
    "scaler = MaxAbsScaler()\n",
    "\n",
    "# the token pattern to use\n",
    "TOKENS_ALPHANUMERIC = '[A-Za-z0-9]+(?=\\\\s+)'\n",
    "#vectorizer = CountVectorizer(token_pattern=TOKENS_ALPHANUMERIC,\n",
    "#                             ngram_range=(1, 2))\n",
    "vectorizer = HashingVectorizer(token_pattern=TOKENS_ALPHANUMERIC,\n",
    "                               norm=None,\n",
    "                               binary=False,\n",
    "                               ngram_range=(1, 2))\n",
    "\n",
    "# the best n-features\n",
    "dimredux = SelectKBest(chi2, k=300)\n",
    "\n",
    "# the model\n",
    "model = OneVsRestClassifier(LogisticRegression())\n",
    "#model = RandomForestClassifier(n_estimators=15)\n",
    "\n",
    "# the pipeline\n",
    "pipeline = Pipeline([\n",
    "    (\n",
    "        'union', FeatureUnion(transformer_list=[\n",
    "            (\n",
    "                'numeric_features',\n",
    "                Pipeline([\n",
    "                    ('num_selector', select_numeric_data),  # Step 1\n",
    "                    ('imputer', imputer)                # Step 2\n",
    "                ], verbose=True)),\n",
    "            (\n",
    "                'text_features',\n",
    "                Pipeline([\n",
    "                    ('txt_selector', select_text_data),     # Step 3\n",
    "                    ('vectorizer', vectorizer),         # Step 4\n",
    "                    #('dimredux', dimredux)              # Step 5\n",
    "                ], verbose=True))\n",
    "        ], n_jobs=-1, verbose=True)),\n",
    "    ('interactions', SparseInteractions(degree=2)),     # Step 6\n",
    "    ('scale', scaler),                                  # Step 7\n",
    "    ('clf', model)                                      # Step 8\n",
    "], verbose=True)"
   ]
  },
  {
   "cell_type": "code",
   "execution_count": null,
   "id": "78c3a15a",
   "metadata": {
    "ExecuteTime": {
     "start_time": "2021-10-01T22:49:58.393Z"
    }
   },
   "outputs": [
    {
     "name": "stdout",
     "output_type": "stream",
     "text": [
      "[Pipeline] ............. (step 1 of 4) Processing union, total=   0.8s\n"
     ]
    }
   ],
   "source": [
    "# Fit to the training data\n",
    "pipeline.fit(X_train, y_train)"
   ]
  },
  {
   "cell_type": "code",
   "execution_count": null,
   "id": "4d084101",
   "metadata": {
    "ExecuteTime": {
     "end_time": "2021-10-01T22:12:41.967968Z",
     "start_time": "2021-10-01T22:12:41.263556Z"
    }
   },
   "outputs": [],
   "source": [
    "# Compute and print accuracy\n",
    "accuracy = pipeline.score(X_test, y_test)\n",
    "print(\"Accuracy on budget dataset: \", accuracy)"
   ]
  },
  {
   "cell_type": "code",
   "execution_count": null,
   "id": "e15975ba",
   "metadata": {
    "ExecuteTime": {
     "end_time": "2021-10-01T22:13:35.902582Z",
     "start_time": "2021-10-01T22:13:35.849177Z"
    }
   },
   "outputs": [],
   "source": [
    "# save model\n",
    "model_name = \"models/pipeline_rf.joblib\"\n",
    "joblib.dump(pipeline, model_name) "
   ]
  },
  {
   "cell_type": "code",
   "execution_count": null,
   "id": "1f64aec4",
   "metadata": {
    "ExecuteTime": {
     "end_time": "2021-10-01T21:00:09.682782Z",
     "start_time": "2021-10-01T21:00:03.533366Z"
    }
   },
   "outputs": [],
   "source": [
    "# reload model\n",
    "clf = joblib.load(model_name) \n",
    "\n",
    "# Generate predictions: predictions\n",
    "predictions = clf.predict_proba(test_df[numeric_cols].fillna(-1000))\n",
    "\n",
    "# Format predictions in DataFrame: prediction_df\n",
    "prediction_df = pd.DataFrame(columns=pd.get_dummies(train_df[categorical_cols]).columns,\n",
    "                             index=test_df.index,\n",
    "                             data=predictions)\n",
    "\n",
    "\n",
    "# Save prediction_df to csv\n",
    "prediction_df.to_csv(\"datasets/predictions.csv\")"
   ]
  },
  {
   "cell_type": "markdown",
   "id": "ae89b65b",
   "metadata": {
    "ExecuteTime": {
     "end_time": "2021-09-30T23:35:17.622863Z",
     "start_time": "2021-09-30T23:35:17.619628Z"
    }
   },
   "source": [
    "<div class=\"alert alert-block alert-danger\">\n",
    "<b>WARNING</b></div>"
   ]
  },
  {
   "cell_type": "markdown",
   "id": "990c87c2",
   "metadata": {},
   "source": [
    "Sorry, this exercise ends here because the peeps at Datacamp ensured that their tutorial is not fully reproducible by using a `score_submission` function that relies on a hidden file they do not share."
   ]
  },
  {
   "cell_type": "markdown",
   "id": "df20147b",
   "metadata": {},
   "source": [
    "<div class=\"alert alert-block alert-danger\">\n",
    "<b>:(</b></div>"
   ]
  }
 ],
 "metadata": {
  "kernelspec": {
   "display_name": "Python 3 (ipykernel)",
   "language": "python",
   "name": "python3"
  },
  "language_info": {
   "codemirror_mode": {
    "name": "ipython",
    "version": 3
   },
   "file_extension": ".py",
   "mimetype": "text/x-python",
   "name": "python",
   "nbconvert_exporter": "python",
   "pygments_lexer": "ipython3",
   "version": "3.8.0"
  },
  "toc": {
   "base_numbering": 1,
   "nav_menu": {},
   "number_sections": true,
   "sideBar": true,
   "skip_h1_title": false,
   "title_cell": "Table of Contents",
   "title_sidebar": "Contents",
   "toc_cell": false,
   "toc_position": {},
   "toc_section_display": true,
   "toc_window_display": true
  },
  "varInspector": {
   "cols": {
    "lenName": 16,
    "lenType": 16,
    "lenVar": 40
   },
   "kernels_config": {
    "python": {
     "delete_cmd_postfix": "",
     "delete_cmd_prefix": "del ",
     "library": "var_list.py",
     "varRefreshCmd": "print(var_dic_list())"
    },
    "r": {
     "delete_cmd_postfix": ") ",
     "delete_cmd_prefix": "rm(",
     "library": "var_list.r",
     "varRefreshCmd": "cat(var_dic_list()) "
    }
   },
   "types_to_exclude": [
    "module",
    "function",
    "builtin_function_or_method",
    "instance",
    "_Feature"
   ],
   "window_display": false
  }
 },
 "nbformat": 4,
 "nbformat_minor": 5
}
