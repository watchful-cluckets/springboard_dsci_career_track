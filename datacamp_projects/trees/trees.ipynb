{
 "cells": [
  {
   "cell_type": "markdown",
   "id": "2cdfad2c",
   "metadata": {},
   "source": [
    "# Imports"
   ]
  },
  {
   "cell_type": "code",
   "execution_count": 1,
   "id": "80516ce6",
   "metadata": {
    "ExecuteTime": {
     "end_time": "2021-09-24T22:07:03.640524Z",
     "start_time": "2021-09-24T22:07:03.637602Z"
    }
   },
   "outputs": [],
   "source": [
    "import os"
   ]
  },
  {
   "cell_type": "code",
   "execution_count": 2,
   "id": "20f19bb4",
   "metadata": {
    "ExecuteTime": {
     "end_time": "2021-09-24T22:07:04.900314Z",
     "start_time": "2021-09-24T22:07:03.641959Z"
    }
   },
   "outputs": [],
   "source": [
    "import numpy as np\n",
    "import pandas as pd"
   ]
  },
  {
   "cell_type": "code",
   "execution_count": 3,
   "id": "7f5fc6d7",
   "metadata": {
    "ExecuteTime": {
     "end_time": "2021-09-24T22:07:05.040090Z",
     "start_time": "2021-09-24T22:07:04.901769Z"
    }
   },
   "outputs": [],
   "source": [
    "SMALL_SIZE = 10\n",
    "MEDIUM_SIZE = 14\n",
    "BIGGER_SIZE = 18\n",
    "MAPBOX_STYLE = \"dark\"\n",
    "MAPBOX_HEIGHT = 800\n",
    "%matplotlib inline\n",
    "import matplotlib.font_manager\n",
    "import matplotlib.pyplot as plt\n",
    "import plotly.express as px\n",
    "import seaborn as sns\n",
    "\n",
    "px.set_mapbox_access_token(os.getenv(\"MAPBOX_TOKEN\"))\n",
    "matplotlib.font_manager.findSystemFonts(fontpaths=None, fontext=\"ttf\")\n",
    "plt.style.use(\"seaborn-colorblind\")\n",
    "plt.rcParams[\"font.family\"] = \"sans-serif\"\n",
    "plt.rcParams[\"font.sans-serif\"] = \"Open Sans\"\n",
    "plt.rcParams[\"figure.figsize\"] = 15, 6\n",
    "plt.rc(\"font\", size=SMALL_SIZE)  # controls default text sizes\n",
    "plt.rc(\"axes\", titlesize=SMALL_SIZE)  # fontsize of the axes title\n",
    "plt.rc(\"axes\", labelsize=MEDIUM_SIZE)  # fontsize of the x and y labels\n",
    "plt.rc(\"xtick\", labelsize=SMALL_SIZE)  # fontsize of the tick labels\n",
    "plt.rc(\"ytick\", labelsize=SMALL_SIZE)  # fontsize of the tick labels\n",
    "plt.rc(\"legend\", fontsize=SMALL_SIZE)  # legend fontsize\n",
    "plt.rc(\"figure\", titlesize=BIGGER_SIZE)  # fontsize of the figure title"
   ]
  },
  {
   "cell_type": "code",
   "execution_count": 4,
   "id": "f4e73187",
   "metadata": {
    "ExecuteTime": {
     "end_time": "2021-09-24T22:07:05.059976Z",
     "start_time": "2021-09-24T22:07:05.042655Z"
    }
   },
   "outputs": [],
   "source": [
    "from mlxtend.plotting import plot_decision_regions\n",
    "from sklearn.ensemble import (\n",
    "    AdaBoostClassifier,\n",
    "    BaggingClassifier,\n",
    "    GradientBoostingRegressor,\n",
    "    RandomForestRegressor,\n",
    "    VotingClassifier,\n",
    ")\n",
    "from sklearn.linear_model import LinearRegression, LogisticRegression\n",
    "from sklearn.metrics import (\n",
    "    accuracy_score,\n",
    "    mean_squared_error,\n",
    "    plot_precision_recall_curve,\n",
    "    roc_auc_score,\n",
    "    roc_curve,\n",
    ")\n",
    "from sklearn.model_selection import GridSearchCV, cross_val_score, train_test_split\n",
    "from sklearn.neighbors import KNeighborsClassifier\n",
    "from sklearn.tree import DecisionTreeClassifier, DecisionTreeRegressor"
   ]
  },
  {
   "cell_type": "markdown",
   "id": "12707f45",
   "metadata": {},
   "source": [
    "# Functions"
   ]
  },
  {
   "cell_type": "code",
   "execution_count": 5,
   "id": "e7e31a74",
   "metadata": {
    "ExecuteTime": {
     "end_time": "2021-09-24T22:07:05.066344Z",
     "start_time": "2021-09-24T22:07:05.061017Z"
    }
   },
   "outputs": [],
   "source": [
    "def plot_labeled_decision_regions(X, y, models):\n",
    "    \"\"\"\n",
    "    Function producing a scatter plot of the instances contained\n",
    "    in the 2D dataset (X,y) along with the decision\n",
    "    regions of two trained classification models contained in the\n",
    "    list 'models'.\n",
    "\n",
    "    Parameters\n",
    "    ----------\n",
    "    X: pandas DataFrame corresponding to two numerical features\n",
    "    y: pandas Series corresponding the class labels\n",
    "    models: list containing two trained classifiers\n",
    "\n",
    "    \"\"\"\n",
    "    if len(models) != 2:\n",
    "        raise Exception(\n",
    "            \"\"\"\n",
    "        Models should be a list containing only two trained classifiers.\n",
    "        \"\"\"\n",
    "        )\n",
    "    if not isinstance(X, pd.DataFrame):\n",
    "        raise Exception(\n",
    "            \"\"\"\n",
    "        X has to be a pandas DataFrame with two numerical features.\n",
    "        \"\"\"\n",
    "        )\n",
    "    if not isinstance(y, pd.Series):\n",
    "        raise Exception(\n",
    "            \"\"\"\n",
    "        y has to be a pandas Series corresponding to the labels.\n",
    "        \"\"\"\n",
    "        )\n",
    "    fig, ax = plt.subplots(1, 2, figsize=(12, 8), sharey=True)\n",
    "    for i, model in enumerate(models):\n",
    "        plot_decision_regions(X.values, y.values, model, legend=2, ax=ax[i])\n",
    "        ax[i].set_title(model.__class__.__name__)\n",
    "        ax[i].set_xlabel(X.columns[0])\n",
    "        if i == 0:\n",
    "            ax[i].set_ylabel(X.columns[1])\n",
    "        ax[i].set_ylim(X.values[:, 1].min(), X.values[:, 1].max())\n",
    "        ax[i].set_xlim(X.values[:, 0].min(), X.values[:, 0].max())\n",
    "    plt.tight_layout()\n",
    "    plt.show()"
   ]
  },
  {
   "cell_type": "code",
   "execution_count": 6,
   "id": "cc705b37",
   "metadata": {
    "ExecuteTime": {
     "end_time": "2021-09-24T22:07:05.073968Z",
     "start_time": "2021-09-24T22:07:05.067472Z"
    }
   },
   "outputs": [],
   "source": [
    "def plot_feature_importances(X, model):\n",
    "    rf_std = np.std([tree.feature_importances_ for tree in rf.estimators_], axis=0)\n",
    "    rf_importances = pd.DataFrame(\n",
    "        dict(feature=X.columns, importance=rf.feature_importances_, errs=rf_std)\n",
    "    )\n",
    "    rf_importances.sort_values(by=[\"importance\"], ascending=False, inplace=True)\n",
    "    sns.barplot(x=\"importance\", y=\"feature\", data=rf_importances)\n",
    "    plt.errorbar(\n",
    "        y=range(len(rf_importances.feature)),\n",
    "        x=rf_importances.importance,\n",
    "        xerr=rf_importances.errs,\n",
    "        fmt=\"none\",\n",
    "        c=\"black\",\n",
    "    )"
   ]
  },
  {
   "cell_type": "markdown",
   "id": "be4a51a0",
   "metadata": {},
   "source": [
    "# Classification and Regression Trees (CARTs)"
   ]
  },
  {
   "cell_type": "markdown",
   "id": "280ac7b2",
   "metadata": {},
   "source": [
    "## Cancer (Classification)"
   ]
  },
  {
   "cell_type": "markdown",
   "id": "baa9baf6",
   "metadata": {},
   "source": [
    "### Data"
   ]
  },
  {
   "cell_type": "code",
   "execution_count": 7,
   "id": "3bba1e8d",
   "metadata": {
    "ExecuteTime": {
     "end_time": "2021-09-24T22:07:05.107966Z",
     "start_time": "2021-09-24T22:07:05.075153Z"
    }
   },
   "outputs": [
    {
     "data": {
      "text/html": [
       "<div>\n",
       "<style scoped>\n",
       "    .dataframe tbody tr th:only-of-type {\n",
       "        vertical-align: middle;\n",
       "    }\n",
       "\n",
       "    .dataframe tbody tr th {\n",
       "        vertical-align: top;\n",
       "    }\n",
       "\n",
       "    .dataframe thead th {\n",
       "        text-align: right;\n",
       "    }\n",
       "</style>\n",
       "<table border=\"1\" class=\"dataframe\">\n",
       "  <thead>\n",
       "    <tr style=\"text-align: right;\">\n",
       "      <th></th>\n",
       "      <th>id</th>\n",
       "      <th>diagnosis</th>\n",
       "      <th>radius_mean</th>\n",
       "      <th>texture_mean</th>\n",
       "      <th>perimeter_mean</th>\n",
       "      <th>area_mean</th>\n",
       "      <th>smoothness_mean</th>\n",
       "      <th>compactness_mean</th>\n",
       "      <th>concavity_mean</th>\n",
       "      <th>concave points_mean</th>\n",
       "      <th>...</th>\n",
       "      <th>texture_worst</th>\n",
       "      <th>perimeter_worst</th>\n",
       "      <th>area_worst</th>\n",
       "      <th>smoothness_worst</th>\n",
       "      <th>compactness_worst</th>\n",
       "      <th>concavity_worst</th>\n",
       "      <th>concave points_worst</th>\n",
       "      <th>symmetry_worst</th>\n",
       "      <th>fractal_dimension_worst</th>\n",
       "      <th>Unnamed: 32</th>\n",
       "    </tr>\n",
       "  </thead>\n",
       "  <tbody>\n",
       "    <tr>\n",
       "      <th>273</th>\n",
       "      <td>8910996</td>\n",
       "      <td>B</td>\n",
       "      <td>9.742</td>\n",
       "      <td>15.67</td>\n",
       "      <td>61.50</td>\n",
       "      <td>289.9</td>\n",
       "      <td>0.09037</td>\n",
       "      <td>0.04689</td>\n",
       "      <td>0.011030</td>\n",
       "      <td>0.014070</td>\n",
       "      <td>...</td>\n",
       "      <td>20.88</td>\n",
       "      <td>68.09</td>\n",
       "      <td>355.2</td>\n",
       "      <td>0.14670</td>\n",
       "      <td>0.09370</td>\n",
       "      <td>0.040430</td>\n",
       "      <td>0.05159</td>\n",
       "      <td>0.2841</td>\n",
       "      <td>0.08175</td>\n",
       "      <td>NaN</td>\n",
       "    </tr>\n",
       "    <tr>\n",
       "      <th>546</th>\n",
       "      <td>922577</td>\n",
       "      <td>B</td>\n",
       "      <td>10.320</td>\n",
       "      <td>16.35</td>\n",
       "      <td>65.31</td>\n",
       "      <td>324.9</td>\n",
       "      <td>0.09434</td>\n",
       "      <td>0.04994</td>\n",
       "      <td>0.010120</td>\n",
       "      <td>0.005495</td>\n",
       "      <td>...</td>\n",
       "      <td>21.77</td>\n",
       "      <td>71.12</td>\n",
       "      <td>384.9</td>\n",
       "      <td>0.12850</td>\n",
       "      <td>0.08842</td>\n",
       "      <td>0.043840</td>\n",
       "      <td>0.02381</td>\n",
       "      <td>0.2681</td>\n",
       "      <td>0.07399</td>\n",
       "      <td>NaN</td>\n",
       "    </tr>\n",
       "    <tr>\n",
       "      <th>534</th>\n",
       "      <td>919537</td>\n",
       "      <td>B</td>\n",
       "      <td>10.960</td>\n",
       "      <td>17.62</td>\n",
       "      <td>70.79</td>\n",
       "      <td>365.6</td>\n",
       "      <td>0.09687</td>\n",
       "      <td>0.09752</td>\n",
       "      <td>0.052630</td>\n",
       "      <td>0.027880</td>\n",
       "      <td>...</td>\n",
       "      <td>26.51</td>\n",
       "      <td>76.43</td>\n",
       "      <td>407.5</td>\n",
       "      <td>0.14280</td>\n",
       "      <td>0.25100</td>\n",
       "      <td>0.212300</td>\n",
       "      <td>0.09861</td>\n",
       "      <td>0.2289</td>\n",
       "      <td>0.08278</td>\n",
       "      <td>NaN</td>\n",
       "    </tr>\n",
       "    <tr>\n",
       "      <th>275</th>\n",
       "      <td>8911164</td>\n",
       "      <td>B</td>\n",
       "      <td>11.890</td>\n",
       "      <td>17.36</td>\n",
       "      <td>76.20</td>\n",
       "      <td>435.6</td>\n",
       "      <td>0.12250</td>\n",
       "      <td>0.07210</td>\n",
       "      <td>0.059290</td>\n",
       "      <td>0.074040</td>\n",
       "      <td>...</td>\n",
       "      <td>18.99</td>\n",
       "      <td>79.46</td>\n",
       "      <td>472.4</td>\n",
       "      <td>0.13590</td>\n",
       "      <td>0.08368</td>\n",
       "      <td>0.071530</td>\n",
       "      <td>0.08946</td>\n",
       "      <td>0.2220</td>\n",
       "      <td>0.06033</td>\n",
       "      <td>NaN</td>\n",
       "    </tr>\n",
       "    <tr>\n",
       "      <th>290</th>\n",
       "      <td>89143602</td>\n",
       "      <td>B</td>\n",
       "      <td>14.410</td>\n",
       "      <td>19.73</td>\n",
       "      <td>96.03</td>\n",
       "      <td>651.0</td>\n",
       "      <td>0.08757</td>\n",
       "      <td>0.16760</td>\n",
       "      <td>0.136200</td>\n",
       "      <td>0.066020</td>\n",
       "      <td>...</td>\n",
       "      <td>22.13</td>\n",
       "      <td>101.70</td>\n",
       "      <td>767.3</td>\n",
       "      <td>0.09983</td>\n",
       "      <td>0.24720</td>\n",
       "      <td>0.222000</td>\n",
       "      <td>0.10210</td>\n",
       "      <td>0.2272</td>\n",
       "      <td>0.08799</td>\n",
       "      <td>NaN</td>\n",
       "    </tr>\n",
       "    <tr>\n",
       "      <th>245</th>\n",
       "      <td>884437</td>\n",
       "      <td>B</td>\n",
       "      <td>10.480</td>\n",
       "      <td>19.86</td>\n",
       "      <td>66.72</td>\n",
       "      <td>337.7</td>\n",
       "      <td>0.10700</td>\n",
       "      <td>0.05971</td>\n",
       "      <td>0.048310</td>\n",
       "      <td>0.030700</td>\n",
       "      <td>...</td>\n",
       "      <td>29.46</td>\n",
       "      <td>73.68</td>\n",
       "      <td>402.8</td>\n",
       "      <td>0.15150</td>\n",
       "      <td>0.10260</td>\n",
       "      <td>0.118100</td>\n",
       "      <td>0.06736</td>\n",
       "      <td>0.2883</td>\n",
       "      <td>0.07748</td>\n",
       "      <td>NaN</td>\n",
       "    </tr>\n",
       "    <tr>\n",
       "      <th>360</th>\n",
       "      <td>901034302</td>\n",
       "      <td>B</td>\n",
       "      <td>12.540</td>\n",
       "      <td>18.07</td>\n",
       "      <td>79.42</td>\n",
       "      <td>491.9</td>\n",
       "      <td>0.07436</td>\n",
       "      <td>0.02650</td>\n",
       "      <td>0.001194</td>\n",
       "      <td>0.005449</td>\n",
       "      <td>...</td>\n",
       "      <td>20.98</td>\n",
       "      <td>86.82</td>\n",
       "      <td>585.7</td>\n",
       "      <td>0.09293</td>\n",
       "      <td>0.04327</td>\n",
       "      <td>0.003581</td>\n",
       "      <td>0.01635</td>\n",
       "      <td>0.2233</td>\n",
       "      <td>0.05521</td>\n",
       "      <td>NaN</td>\n",
       "    </tr>\n",
       "    <tr>\n",
       "      <th>84</th>\n",
       "      <td>8612080</td>\n",
       "      <td>B</td>\n",
       "      <td>12.000</td>\n",
       "      <td>15.65</td>\n",
       "      <td>76.95</td>\n",
       "      <td>443.3</td>\n",
       "      <td>0.09723</td>\n",
       "      <td>0.07165</td>\n",
       "      <td>0.041510</td>\n",
       "      <td>0.018630</td>\n",
       "      <td>...</td>\n",
       "      <td>24.90</td>\n",
       "      <td>87.78</td>\n",
       "      <td>567.9</td>\n",
       "      <td>0.13770</td>\n",
       "      <td>0.20030</td>\n",
       "      <td>0.226700</td>\n",
       "      <td>0.07632</td>\n",
       "      <td>0.3379</td>\n",
       "      <td>0.07924</td>\n",
       "      <td>NaN</td>\n",
       "    </tr>\n",
       "    <tr>\n",
       "      <th>239</th>\n",
       "      <td>88330202</td>\n",
       "      <td>M</td>\n",
       "      <td>17.460</td>\n",
       "      <td>39.28</td>\n",
       "      <td>113.40</td>\n",
       "      <td>920.6</td>\n",
       "      <td>0.09812</td>\n",
       "      <td>0.12980</td>\n",
       "      <td>0.141700</td>\n",
       "      <td>0.088110</td>\n",
       "      <td>...</td>\n",
       "      <td>44.87</td>\n",
       "      <td>141.20</td>\n",
       "      <td>1408.0</td>\n",
       "      <td>0.13650</td>\n",
       "      <td>0.37350</td>\n",
       "      <td>0.324100</td>\n",
       "      <td>0.20660</td>\n",
       "      <td>0.2853</td>\n",
       "      <td>0.08496</td>\n",
       "      <td>NaN</td>\n",
       "    </tr>\n",
       "    <tr>\n",
       "      <th>40</th>\n",
       "      <td>855167</td>\n",
       "      <td>M</td>\n",
       "      <td>13.440</td>\n",
       "      <td>21.58</td>\n",
       "      <td>86.18</td>\n",
       "      <td>563.0</td>\n",
       "      <td>0.08162</td>\n",
       "      <td>0.06031</td>\n",
       "      <td>0.031100</td>\n",
       "      <td>0.020310</td>\n",
       "      <td>...</td>\n",
       "      <td>30.25</td>\n",
       "      <td>102.50</td>\n",
       "      <td>787.9</td>\n",
       "      <td>0.10940</td>\n",
       "      <td>0.20430</td>\n",
       "      <td>0.208500</td>\n",
       "      <td>0.11120</td>\n",
       "      <td>0.2994</td>\n",
       "      <td>0.07146</td>\n",
       "      <td>NaN</td>\n",
       "    </tr>\n",
       "  </tbody>\n",
       "</table>\n",
       "<p>10 rows × 33 columns</p>\n",
       "</div>"
      ],
      "text/plain": [
       "            id diagnosis  radius_mean  texture_mean  perimeter_mean  \\\n",
       "273    8910996         B        9.742         15.67           61.50   \n",
       "546     922577         B       10.320         16.35           65.31   \n",
       "534     919537         B       10.960         17.62           70.79   \n",
       "275    8911164         B       11.890         17.36           76.20   \n",
       "290   89143602         B       14.410         19.73           96.03   \n",
       "245     884437         B       10.480         19.86           66.72   \n",
       "360  901034302         B       12.540         18.07           79.42   \n",
       "84     8612080         B       12.000         15.65           76.95   \n",
       "239   88330202         M       17.460         39.28          113.40   \n",
       "40      855167         M       13.440         21.58           86.18   \n",
       "\n",
       "     area_mean  smoothness_mean  compactness_mean  concavity_mean  \\\n",
       "273      289.9          0.09037           0.04689        0.011030   \n",
       "546      324.9          0.09434           0.04994        0.010120   \n",
       "534      365.6          0.09687           0.09752        0.052630   \n",
       "275      435.6          0.12250           0.07210        0.059290   \n",
       "290      651.0          0.08757           0.16760        0.136200   \n",
       "245      337.7          0.10700           0.05971        0.048310   \n",
       "360      491.9          0.07436           0.02650        0.001194   \n",
       "84       443.3          0.09723           0.07165        0.041510   \n",
       "239      920.6          0.09812           0.12980        0.141700   \n",
       "40       563.0          0.08162           0.06031        0.031100   \n",
       "\n",
       "     concave points_mean  ...  texture_worst  perimeter_worst  area_worst  \\\n",
       "273             0.014070  ...          20.88            68.09       355.2   \n",
       "546             0.005495  ...          21.77            71.12       384.9   \n",
       "534             0.027880  ...          26.51            76.43       407.5   \n",
       "275             0.074040  ...          18.99            79.46       472.4   \n",
       "290             0.066020  ...          22.13           101.70       767.3   \n",
       "245             0.030700  ...          29.46            73.68       402.8   \n",
       "360             0.005449  ...          20.98            86.82       585.7   \n",
       "84              0.018630  ...          24.90            87.78       567.9   \n",
       "239             0.088110  ...          44.87           141.20      1408.0   \n",
       "40              0.020310  ...          30.25           102.50       787.9   \n",
       "\n",
       "     smoothness_worst  compactness_worst  concavity_worst  \\\n",
       "273           0.14670            0.09370         0.040430   \n",
       "546           0.12850            0.08842         0.043840   \n",
       "534           0.14280            0.25100         0.212300   \n",
       "275           0.13590            0.08368         0.071530   \n",
       "290           0.09983            0.24720         0.222000   \n",
       "245           0.15150            0.10260         0.118100   \n",
       "360           0.09293            0.04327         0.003581   \n",
       "84            0.13770            0.20030         0.226700   \n",
       "239           0.13650            0.37350         0.324100   \n",
       "40            0.10940            0.20430         0.208500   \n",
       "\n",
       "     concave points_worst  symmetry_worst  fractal_dimension_worst  \\\n",
       "273               0.05159          0.2841                  0.08175   \n",
       "546               0.02381          0.2681                  0.07399   \n",
       "534               0.09861          0.2289                  0.08278   \n",
       "275               0.08946          0.2220                  0.06033   \n",
       "290               0.10210          0.2272                  0.08799   \n",
       "245               0.06736          0.2883                  0.07748   \n",
       "360               0.01635          0.2233                  0.05521   \n",
       "84                0.07632          0.3379                  0.07924   \n",
       "239               0.20660          0.2853                  0.08496   \n",
       "40                0.11120          0.2994                  0.07146   \n",
       "\n",
       "     Unnamed: 32  \n",
       "273          NaN  \n",
       "546          NaN  \n",
       "534          NaN  \n",
       "275          NaN  \n",
       "290          NaN  \n",
       "245          NaN  \n",
       "360          NaN  \n",
       "84           NaN  \n",
       "239          NaN  \n",
       "40           NaN  \n",
       "\n",
       "[10 rows x 33 columns]"
      ]
     },
     "execution_count": 7,
     "metadata": {},
     "output_type": "execute_result"
    }
   ],
   "source": [
    "df = pd.read_csv(\"datasets/wbc.csv\")\n",
    "df.sample(10)"
   ]
  },
  {
   "cell_type": "code",
   "execution_count": 8,
   "id": "4115a83e",
   "metadata": {
    "ExecuteTime": {
     "end_time": "2021-09-24T22:07:05.114929Z",
     "start_time": "2021-09-24T22:07:05.108875Z"
    }
   },
   "outputs": [],
   "source": [
    "target = \"diagnosis\"\n",
    "df[target] = df[target].astype(\"category\").cat.codes\n",
    "y = df[target]\n",
    "X = df.drop(target, axis=1)[[\"radius_mean\", \"concave points_mean\"]]  # .to_numpy()\n",
    "\n",
    "X_train, X_test, y_train, y_test = train_test_split(\n",
    "    X, y, test_size=0.2, stratify=y, random_state=1\n",
    ")"
   ]
  },
  {
   "cell_type": "markdown",
   "id": "b29099bd",
   "metadata": {},
   "source": [
    "### Decision Tree"
   ]
  },
  {
   "cell_type": "code",
   "execution_count": 9,
   "id": "809b0c95",
   "metadata": {
    "ExecuteTime": {
     "end_time": "2021-09-24T22:07:05.124403Z",
     "start_time": "2021-09-24T22:07:05.115698Z"
    }
   },
   "outputs": [
    {
     "name": "stdout",
     "output_type": "stream",
     "text": [
      "Accuracy achieved by using entropy:  0.8859649122807017\n",
      "Accuracy achieved by using the gini index:  0.9210526315789473\n"
     ]
    }
   ],
   "source": [
    "# Instantiate dt_entropy, set 'entropy' as the information criterion\n",
    "dt_gini = DecisionTreeClassifier(max_depth=8, criterion=\"gini\", random_state=1)\n",
    "dt_entropy = DecisionTreeClassifier(max_depth=8, criterion=\"entropy\", random_state=1)\n",
    "\n",
    "# Fit dt_entropy to the training set\n",
    "dt_gini.fit(X_train, y_train)\n",
    "dt_entropy.fit(X_train, y_train)\n",
    "\n",
    "# Use dt_entropy to predict test set labels\n",
    "y_pred = dt_gini.predict(X_test)\n",
    "accuracy_gini = accuracy_score(y_test, y_pred)\n",
    "y_pred = dt_entropy.predict(X_test)\n",
    "accuracy_entropy = accuracy_score(y_test, y_pred)\n",
    "\n",
    "# Print accuracy\n",
    "print(\"Accuracy achieved by using entropy: \", accuracy_entropy)\n",
    "print(\"Accuracy achieved by using the gini index: \", accuracy_gini)"
   ]
  },
  {
   "cell_type": "code",
   "execution_count": 10,
   "id": "4e18d3a6",
   "metadata": {
    "ExecuteTime": {
     "end_time": "2021-09-24T22:07:06.361344Z",
     "start_time": "2021-09-24T22:07:05.126281Z"
    }
   },
   "outputs": [
    {
     "name": "stdout",
     "output_type": "stream",
     "text": [
      "CV tuned params: {'criterion': 'entropy'}\n",
      "CV best accuracy: 0.8967032967032967\n",
      "Sample predictions: [1 0 0 1 0]\n",
      "Test set accuracy: 0.8947368421052632\n"
     ]
    }
   ],
   "source": [
    "# Instantiate a DecisionTreeClassifier 'dt' with a maximum depth of 6\n",
    "dt = DecisionTreeClassifier(max_depth=6, random_state=1)\n",
    "\n",
    "# Setup the hyperparameter grid\n",
    "param_grid = {\"criterion\": [\"gini\", \"entropy\"]}\n",
    "\n",
    "# Instantiate the GridSearchCV object: logreg_cv\n",
    "dt_cv = GridSearchCV(dt, param_grid, n_jobs=-1)\n",
    "\n",
    "# Fit it to the data\n",
    "dt_cv.fit(X_train, y_train)\n",
    "\n",
    "# Print the tuned parameters and score\n",
    "print(f\"CV tuned params: {dt_cv.best_params_}\")\n",
    "print(f\"CV best accuracy: {dt_cv.best_score_}\")\n",
    "\n",
    "# Predict test set labels\n",
    "y_pred = dt_cv.predict(X_test)\n",
    "print(f\"Sample predictions: {y_pred[0:5]}\")\n",
    "\n",
    "# Compute test set accuracy\n",
    "acc = accuracy_score(y_test, y_pred)\n",
    "print(f\"Test set accuracy: {acc}\")"
   ]
  },
  {
   "cell_type": "markdown",
   "id": "3963dcf0",
   "metadata": {},
   "source": [
    "### Logistic Regression"
   ]
  },
  {
   "cell_type": "code",
   "execution_count": 11,
   "id": "3ebac25c",
   "metadata": {
    "ExecuteTime": {
     "end_time": "2021-09-24T22:07:06.851818Z",
     "start_time": "2021-09-24T22:07:06.362270Z"
    }
   },
   "outputs": [
    {
     "name": "stderr",
     "output_type": "stream",
     "text": [
      "WARNING:matplotlib.font_manager:findfont: Font family ['sans-serif'] not found. Falling back to DejaVu Sans.\n",
      "WARNING:matplotlib.font_manager:findfont: Generic family 'sans-serif' not found because none of the following families were found: Open Sans\n",
      "WARNING:matplotlib.font_manager:findfont: Font family ['sans-serif'] not found. Falling back to DejaVu Sans.\n",
      "WARNING:matplotlib.font_manager:findfont: Generic family 'sans-serif' not found because none of the following families were found: Open Sans\n"
     ]
    },
    {
     "data": {
      "image/png": "[encoded data removed]",
      "text/plain": [
       "<Figure size 864x576 with 2 Axes>"
      ]
     },
     "metadata": {
      "needs_background": "light"
     },
     "output_type": "display_data"
    }
   ],
   "source": [
    "# Instatiate logreg\n",
    "logreg = LogisticRegression(random_state=1)\n",
    "\n",
    "# Fit logreg to the training set\n",
    "logreg.fit(X_train, y_train)\n",
    "\n",
    "# Define a list called clfs containing the two classifiers logreg and dt\n",
    "clfs = [logreg, dt_cv]\n",
    "\n",
    "# Review the decision regions of the two classifiers\n",
    "plot_labeled_decision_regions(X_test, y_test, clfs)"
   ]
  },
  {
   "cell_type": "markdown",
   "id": "022076cd",
   "metadata": {},
   "source": [
    "## Auto MPG (Regression)"
   ]
  },
  {
   "cell_type": "markdown",
   "id": "0906187a",
   "metadata": {},
   "source": [
    "### Data"
   ]
  },
  {
   "cell_type": "code",
   "execution_count": 12,
   "id": "22d0e4b0",
   "metadata": {
    "ExecuteTime": {
     "end_time": "2021-09-24T22:07:06.863601Z",
     "start_time": "2021-09-24T22:07:06.852736Z"
    }
   },
   "outputs": [
    {
     "data": {
      "text/html": [
       "<div>\n",
       "<style scoped>\n",
       "    .dataframe tbody tr th:only-of-type {\n",
       "        vertical-align: middle;\n",
       "    }\n",
       "\n",
       "    .dataframe tbody tr th {\n",
       "        vertical-align: top;\n",
       "    }\n",
       "\n",
       "    .dataframe thead th {\n",
       "        text-align: right;\n",
       "    }\n",
       "</style>\n",
       "<table border=\"1\" class=\"dataframe\">\n",
       "  <thead>\n",
       "    <tr style=\"text-align: right;\">\n",
       "      <th></th>\n",
       "      <th>mpg</th>\n",
       "      <th>displ</th>\n",
       "      <th>hp</th>\n",
       "      <th>weight</th>\n",
       "      <th>accel</th>\n",
       "      <th>origin</th>\n",
       "      <th>size</th>\n",
       "    </tr>\n",
       "  </thead>\n",
       "  <tbody>\n",
       "    <tr>\n",
       "      <th>327</th>\n",
       "      <td>32.4</td>\n",
       "      <td>107.0</td>\n",
       "      <td>72</td>\n",
       "      <td>2290</td>\n",
       "      <td>17.0</td>\n",
       "      <td>Asia</td>\n",
       "      <td>10.0</td>\n",
       "    </tr>\n",
       "    <tr>\n",
       "      <th>343</th>\n",
       "      <td>24.0</td>\n",
       "      <td>140.0</td>\n",
       "      <td>92</td>\n",
       "      <td>2865</td>\n",
       "      <td>16.4</td>\n",
       "      <td>US</td>\n",
       "      <td>10.0</td>\n",
       "    </tr>\n",
       "    <tr>\n",
       "      <th>374</th>\n",
       "      <td>26.0</td>\n",
       "      <td>156.0</td>\n",
       "      <td>92</td>\n",
       "      <td>2585</td>\n",
       "      <td>14.5</td>\n",
       "      <td>US</td>\n",
       "      <td>10.0</td>\n",
       "    </tr>\n",
       "    <tr>\n",
       "      <th>131</th>\n",
       "      <td>25.0</td>\n",
       "      <td>97.5</td>\n",
       "      <td>80</td>\n",
       "      <td>2126</td>\n",
       "      <td>17.0</td>\n",
       "      <td>US</td>\n",
       "      <td>10.0</td>\n",
       "    </tr>\n",
       "    <tr>\n",
       "      <th>267</th>\n",
       "      <td>11.0</td>\n",
       "      <td>350.0</td>\n",
       "      <td>180</td>\n",
       "      <td>3664</td>\n",
       "      <td>11.0</td>\n",
       "      <td>US</td>\n",
       "      <td>20.0</td>\n",
       "    </tr>\n",
       "    <tr>\n",
       "      <th>113</th>\n",
       "      <td>13.0</td>\n",
       "      <td>400.0</td>\n",
       "      <td>170</td>\n",
       "      <td>4746</td>\n",
       "      <td>12.0</td>\n",
       "      <td>US</td>\n",
       "      <td>20.0</td>\n",
       "    </tr>\n",
       "    <tr>\n",
       "      <th>362</th>\n",
       "      <td>26.0</td>\n",
       "      <td>97.0</td>\n",
       "      <td>46</td>\n",
       "      <td>1950</td>\n",
       "      <td>21.0</td>\n",
       "      <td>Europe</td>\n",
       "      <td>10.0</td>\n",
       "    </tr>\n",
       "    <tr>\n",
       "      <th>115</th>\n",
       "      <td>17.0</td>\n",
       "      <td>260.0</td>\n",
       "      <td>110</td>\n",
       "      <td>4060</td>\n",
       "      <td>19.0</td>\n",
       "      <td>US</td>\n",
       "      <td>20.0</td>\n",
       "    </tr>\n",
       "    <tr>\n",
       "      <th>340</th>\n",
       "      <td>14.0</td>\n",
       "      <td>350.0</td>\n",
       "      <td>165</td>\n",
       "      <td>4209</td>\n",
       "      <td>12.0</td>\n",
       "      <td>US</td>\n",
       "      <td>20.0</td>\n",
       "    </tr>\n",
       "    <tr>\n",
       "      <th>251</th>\n",
       "      <td>32.0</td>\n",
       "      <td>83.0</td>\n",
       "      <td>61</td>\n",
       "      <td>2003</td>\n",
       "      <td>19.0</td>\n",
       "      <td>Asia</td>\n",
       "      <td>10.0</td>\n",
       "    </tr>\n",
       "  </tbody>\n",
       "</table>\n",
       "</div>"
      ],
      "text/plain": [
       "      mpg  displ   hp  weight  accel  origin  size\n",
       "327  32.4  107.0   72    2290   17.0    Asia  10.0\n",
       "343  24.0  140.0   92    2865   16.4      US  10.0\n",
       "374  26.0  156.0   92    2585   14.5      US  10.0\n",
       "131  25.0   97.5   80    2126   17.0      US  10.0\n",
       "267  11.0  350.0  180    3664   11.0      US  20.0\n",
       "113  13.0  400.0  170    4746   12.0      US  20.0\n",
       "362  26.0   97.0   46    1950   21.0  Europe  10.0\n",
       "115  17.0  260.0  110    4060   19.0      US  20.0\n",
       "340  14.0  350.0  165    4209   12.0      US  20.0\n",
       "251  32.0   83.0   61    2003   19.0    Asia  10.0"
      ]
     },
     "execution_count": 12,
     "metadata": {},
     "output_type": "execute_result"
    }
   ],
   "source": [
    "df = pd.read_csv(\"datasets/auto.csv\")\n",
    "df.sample(10)"
   ]
  },
  {
   "cell_type": "code",
   "execution_count": 13,
   "id": "cdf0980c",
   "metadata": {
    "ExecuteTime": {
     "end_time": "2021-09-24T22:07:06.875996Z",
     "start_time": "2021-09-24T22:07:06.864481Z"
    }
   },
   "outputs": [
    {
     "data": {
      "text/html": [
       "<div>\n",
       "<style scoped>\n",
       "    .dataframe tbody tr th:only-of-type {\n",
       "        vertical-align: middle;\n",
       "    }\n",
       "\n",
       "    .dataframe tbody tr th {\n",
       "        vertical-align: top;\n",
       "    }\n",
       "\n",
       "    .dataframe thead th {\n",
       "        text-align: right;\n",
       "    }\n",
       "</style>\n",
       "<table border=\"1\" class=\"dataframe\">\n",
       "  <thead>\n",
       "    <tr style=\"text-align: right;\">\n",
       "      <th></th>\n",
       "      <th>mpg</th>\n",
       "      <th>displ</th>\n",
       "      <th>hp</th>\n",
       "      <th>weight</th>\n",
       "      <th>accel</th>\n",
       "      <th>size</th>\n",
       "      <th>origin_Asia</th>\n",
       "      <th>origin_Europe</th>\n",
       "      <th>origin_US</th>\n",
       "    </tr>\n",
       "  </thead>\n",
       "  <tbody>\n",
       "    <tr>\n",
       "      <th>383</th>\n",
       "      <td>37.7</td>\n",
       "      <td>89.0</td>\n",
       "      <td>62</td>\n",
       "      <td>2050</td>\n",
       "      <td>17.3</td>\n",
       "      <td>10.0</td>\n",
       "      <td>1</td>\n",
       "      <td>0</td>\n",
       "      <td>0</td>\n",
       "    </tr>\n",
       "    <tr>\n",
       "      <th>132</th>\n",
       "      <td>33.0</td>\n",
       "      <td>105.0</td>\n",
       "      <td>74</td>\n",
       "      <td>2190</td>\n",
       "      <td>14.2</td>\n",
       "      <td>10.0</td>\n",
       "      <td>0</td>\n",
       "      <td>1</td>\n",
       "      <td>0</td>\n",
       "    </tr>\n",
       "    <tr>\n",
       "      <th>329</th>\n",
       "      <td>27.5</td>\n",
       "      <td>134.0</td>\n",
       "      <td>95</td>\n",
       "      <td>2560</td>\n",
       "      <td>14.2</td>\n",
       "      <td>10.0</td>\n",
       "      <td>1</td>\n",
       "      <td>0</td>\n",
       "      <td>0</td>\n",
       "    </tr>\n",
       "    <tr>\n",
       "      <th>100</th>\n",
       "      <td>20.0</td>\n",
       "      <td>130.0</td>\n",
       "      <td>102</td>\n",
       "      <td>3150</td>\n",
       "      <td>15.7</td>\n",
       "      <td>10.0</td>\n",
       "      <td>0</td>\n",
       "      <td>1</td>\n",
       "      <td>0</td>\n",
       "    </tr>\n",
       "    <tr>\n",
       "      <th>228</th>\n",
       "      <td>19.1</td>\n",
       "      <td>225.0</td>\n",
       "      <td>90</td>\n",
       "      <td>3381</td>\n",
       "      <td>18.7</td>\n",
       "      <td>15.0</td>\n",
       "      <td>0</td>\n",
       "      <td>0</td>\n",
       "      <td>1</td>\n",
       "    </tr>\n",
       "    <tr>\n",
       "      <th>240</th>\n",
       "      <td>25.4</td>\n",
       "      <td>183.0</td>\n",
       "      <td>77</td>\n",
       "      <td>3530</td>\n",
       "      <td>20.1</td>\n",
       "      <td>12.5</td>\n",
       "      <td>0</td>\n",
       "      <td>1</td>\n",
       "      <td>0</td>\n",
       "    </tr>\n",
       "    <tr>\n",
       "      <th>277</th>\n",
       "      <td>28.0</td>\n",
       "      <td>97.0</td>\n",
       "      <td>92</td>\n",
       "      <td>2288</td>\n",
       "      <td>17.0</td>\n",
       "      <td>10.0</td>\n",
       "      <td>1</td>\n",
       "      <td>0</td>\n",
       "      <td>0</td>\n",
       "    </tr>\n",
       "    <tr>\n",
       "      <th>221</th>\n",
       "      <td>28.0</td>\n",
       "      <td>112.0</td>\n",
       "      <td>88</td>\n",
       "      <td>2605</td>\n",
       "      <td>19.6</td>\n",
       "      <td>10.0</td>\n",
       "      <td>0</td>\n",
       "      <td>0</td>\n",
       "      <td>1</td>\n",
       "    </tr>\n",
       "    <tr>\n",
       "      <th>88</th>\n",
       "      <td>38.0</td>\n",
       "      <td>91.0</td>\n",
       "      <td>67</td>\n",
       "      <td>1995</td>\n",
       "      <td>16.2</td>\n",
       "      <td>10.0</td>\n",
       "      <td>1</td>\n",
       "      <td>0</td>\n",
       "      <td>0</td>\n",
       "    </tr>\n",
       "    <tr>\n",
       "      <th>367</th>\n",
       "      <td>19.0</td>\n",
       "      <td>232.0</td>\n",
       "      <td>100</td>\n",
       "      <td>2901</td>\n",
       "      <td>16.0</td>\n",
       "      <td>15.0</td>\n",
       "      <td>0</td>\n",
       "      <td>0</td>\n",
       "      <td>1</td>\n",
       "    </tr>\n",
       "  </tbody>\n",
       "</table>\n",
       "</div>"
      ],
      "text/plain": [
       "      mpg  displ   hp  weight  accel  size  origin_Asia  origin_Europe  \\\n",
       "383  37.7   89.0   62    2050   17.3  10.0            1              0   \n",
       "132  33.0  105.0   74    2190   14.2  10.0            0              1   \n",
       "329  27.5  134.0   95    2560   14.2  10.0            1              0   \n",
       "100  20.0  130.0  102    3150   15.7  10.0            0              1   \n",
       "228  19.1  225.0   90    3381   18.7  15.0            0              0   \n",
       "240  25.4  183.0   77    3530   20.1  12.5            0              1   \n",
       "277  28.0   97.0   92    2288   17.0  10.0            1              0   \n",
       "221  28.0  112.0   88    2605   19.6  10.0            0              0   \n",
       "88   38.0   91.0   67    1995   16.2  10.0            1              0   \n",
       "367  19.0  232.0  100    2901   16.0  15.0            0              0   \n",
       "\n",
       "     origin_US  \n",
       "383          0  \n",
       "132          0  \n",
       "329          0  \n",
       "100          0  \n",
       "228          1  \n",
       "240          0  \n",
       "277          0  \n",
       "221          1  \n",
       "88           0  \n",
       "367          1  "
      ]
     },
     "execution_count": 13,
     "metadata": {},
     "output_type": "execute_result"
    }
   ],
   "source": [
    "df = pd.get_dummies(df)\n",
    "df.sample(10)"
   ]
  },
  {
   "cell_type": "code",
   "execution_count": 14,
   "id": "2d5df1b0",
   "metadata": {
    "ExecuteTime": {
     "end_time": "2021-09-24T22:07:06.881276Z",
     "start_time": "2021-09-24T22:07:06.876826Z"
    }
   },
   "outputs": [],
   "source": [
    "target = \"mpg\"\n",
    "y = df[target]\n",
    "X = df.drop(target, axis=1)"
   ]
  },
  {
   "cell_type": "markdown",
   "id": "14876041",
   "metadata": {},
   "source": [
    "### Baseline Model"
   ]
  },
  {
   "cell_type": "markdown",
   "id": "d49bc2a5",
   "metadata": {},
   "source": [
    "The baseline RMSE above which a model is considered to be underfitting and below which the model is considered good enough."
   ]
  },
  {
   "cell_type": "code",
   "execution_count": 15,
   "id": "2ad2241a",
   "metadata": {
    "ExecuteTime": {
     "end_time": "2021-09-24T22:07:06.887970Z",
     "start_time": "2021-09-24T22:07:06.881973Z"
    }
   },
   "outputs": [],
   "source": [
    "# keep a single feature\n",
    "X_naive = X[\"displ\"].to_numpy().reshape(-1, 1)\n",
    "X_train, X_test, y_train, y_test = train_test_split(\n",
    "    X_naive, y, test_size=0.2, random_state=3\n",
    ")\n",
    "dt = DecisionTreeRegressor(max_depth=8, min_samples_leaf=0.13, random_state=3)\n",
    "dt.fit(X_train, y_train)\n",
    "y_pred = dt.predict(X_test)\n",
    "mse_baseline = mean_squared_error(y_test, y_pred)\n",
    "rmse_baseline = np.sqrt(mse_baseline)"
   ]
  },
  {
   "cell_type": "markdown",
   "id": "45008a59",
   "metadata": {},
   "source": [
    "### Decision Tree"
   ]
  },
  {
   "cell_type": "code",
   "execution_count": 16,
   "id": "b44bd9bc",
   "metadata": {
    "ExecuteTime": {
     "end_time": "2021-09-24T22:07:07.338268Z",
     "start_time": "2021-09-24T22:07:06.888680Z"
    }
   },
   "outputs": [],
   "source": [
    "# Set SEED for reproducibility\n",
    "SEED = 1\n",
    "\n",
    "# Split the data into 70% train and 30% test\n",
    "X_train, X_test, y_train, y_test = train_test_split(\n",
    "    X, y, test_size=0.3, random_state=SEED\n",
    ")\n",
    "\n",
    "# Instantiate a DecisionTreeRegressor dt\n",
    "dt_cv = DecisionTreeRegressor(max_depth=4, min_samples_leaf=0.26, random_state=SEED)\n",
    "\n",
    "# Compute the array containing the 10-folds CV MSEs\n",
    "mse_cv_scores = -cross_val_score(\n",
    "    dt_cv, X_train, y_train, cv=10, scoring=\"neg_mean_squared_error\", n_jobs=-1\n",
    ")\n",
    "\n",
    "# Compute the 10-folds CV RMSE\n",
    "rmse_dt_cv = (mse_cv_scores.mean()) ** (1.0 / 2.0)"
   ]
  },
  {
   "cell_type": "code",
   "execution_count": 17,
   "id": "06da901b",
   "metadata": {
    "ExecuteTime": {
     "end_time": "2021-09-24T22:07:07.346873Z",
     "start_time": "2021-09-24T22:07:07.339683Z"
    }
   },
   "outputs": [],
   "source": [
    "# Fit dt to the training set\n",
    "dt_cv.fit(X_train, y_train)\n",
    "\n",
    "# Predict the labels of the training set\n",
    "y_pred = dt_cv.predict(X_train)\n",
    "\n",
    "# Evaluate the training set RMSE of dt\n",
    "rmse_dt_train = (mean_squared_error(y_train, y_pred)) ** (1.0 / 2.0)"
   ]
  },
  {
   "cell_type": "code",
   "execution_count": 18,
   "id": "6345f5fb",
   "metadata": {
    "ExecuteTime": {
     "end_time": "2021-09-24T22:07:07.356910Z",
     "start_time": "2021-09-24T22:07:07.348027Z"
    }
   },
   "outputs": [],
   "source": [
    "# run on test set\n",
    "y_pred = dt_cv.predict(X_test)\n",
    "rmse_dt_test = np.sqrt(mean_squared_error(y_test, y_pred))"
   ]
  },
  {
   "cell_type": "markdown",
   "id": "4b1354d3",
   "metadata": {},
   "source": [
    "### Random Forest"
   ]
  },
  {
   "cell_type": "code",
   "execution_count": 19,
   "id": "39a6d182",
   "metadata": {
    "ExecuteTime": {
     "end_time": "2021-09-24T22:07:07.736229Z",
     "start_time": "2021-09-24T22:07:07.358065Z"
    }
   },
   "outputs": [],
   "source": [
    "rf = RandomForestRegressor(n_estimators=400, min_samples_leaf=0.12, random_state=SEED)\n",
    "rf.fit(X_train, y_train)\n",
    "y_pred = rf.predict(X_test)\n",
    "rmse_rf_test = np.sqrt(mean_squared_error(y_test, y_pred))"
   ]
  },
  {
   "cell_type": "code",
   "execution_count": 20,
   "id": "cf37ce2d",
   "metadata": {
    "ExecuteTime": {
     "end_time": "2021-09-24T22:07:07.891179Z",
     "start_time": "2021-09-24T22:07:07.737234Z"
    }
   },
   "outputs": [
    {
     "data": {
      "image/png": "[encoded data removed]",
      "text/plain": [
       "<Figure size 1080x432 with 1 Axes>"
      ]
     },
     "metadata": {
      "needs_background": "light"
     },
     "output_type": "display_data"
    }
   ],
   "source": [
    "plot_feature_importances(X, rf)"
   ]
  },
  {
   "cell_type": "markdown",
   "id": "9d5db7da",
   "metadata": {},
   "source": [
    "### Gradient Boosting"
   ]
  },
  {
   "cell_type": "code",
   "execution_count": 21,
   "id": "1c7c6d83",
   "metadata": {
    "ExecuteTime": {
     "end_time": "2021-09-24T22:07:07.959860Z",
     "start_time": "2021-09-24T22:07:07.892099Z"
    }
   },
   "outputs": [],
   "source": [
    "gbt = GradientBoostingRegressor(n_estimators=300, max_depth=1, random_state=SEED)\n",
    "gbt.fit(X_train, y_train)\n",
    "y_pred = gbt.predict(X_test)\n",
    "rmse_gbt_test = np.sqrt(mean_squared_error(y_test, y_pred))"
   ]
  },
  {
   "cell_type": "markdown",
   "id": "0bffbb5c",
   "metadata": {},
   "source": [
    "### Stochastic Gradient Boosting"
   ]
  },
  {
   "cell_type": "code",
   "execution_count": 22,
   "id": "f021de3b",
   "metadata": {
    "ExecuteTime": {
     "end_time": "2021-09-24T22:07:08.046400Z",
     "start_time": "2021-09-24T22:07:07.961288Z"
    }
   },
   "outputs": [],
   "source": [
    "sgbt = GradientBoostingRegressor(\n",
    "    max_depth=1, subsample=0.8, max_features=0.2, n_estimators=300, random_state=1\n",
    ")\n",
    "sgbt.fit(X_train, y_train)\n",
    "y_pred = sgbt.predict(X_test)\n",
    "rmse_sgbt_test = np.sqrt(mean_squared_error(y_test, y_pred))"
   ]
  },
  {
   "cell_type": "markdown",
   "id": "79024704",
   "metadata": {},
   "source": [
    "### Linear Regression"
   ]
  },
  {
   "cell_type": "code",
   "execution_count": 23,
   "id": "b25340ab",
   "metadata": {
    "ExecuteTime": {
     "end_time": "2021-09-24T22:07:08.051876Z",
     "start_time": "2021-09-24T22:07:08.047312Z"
    }
   },
   "outputs": [],
   "source": [
    "# linear regression for comparison\n",
    "lr = LinearRegression()\n",
    "lr.fit(X_train, y_train)\n",
    "y_pred = lr.predict(X_test)\n",
    "rmse_lr_test = np.sqrt(mean_squared_error(y_test, y_pred))"
   ]
  },
  {
   "cell_type": "markdown",
   "id": "1e7a9173",
   "metadata": {},
   "source": [
    "### Bias Variance Evaluation"
   ]
  },
  {
   "cell_type": "code",
   "execution_count": 24,
   "id": "7d1ec059",
   "metadata": {
    "ExecuteTime": {
     "end_time": "2021-09-24T22:07:08.058899Z",
     "start_time": "2021-09-24T22:07:08.052727Z"
    }
   },
   "outputs": [
    {
     "name": "stdout",
     "output_type": "stream",
     "text": [
      "Baseline: 5.040821910883998\n",
      "\n",
      "DT CV: 5.143255076652255\n",
      "DT Train: 5.151299302408305\n",
      "DT Test: 4.859775831709125\n",
      "\n",
      "LR Test: 3.820965511082005\n",
      "RF Test: 3.9783131439894097\n",
      "GB Test: 4.0142669605222805\n",
      "SGB Test: 3.9542590299829556\n"
     ]
    }
   ],
   "source": [
    "print(f\"Baseline: {rmse_baseline}\")\n",
    "print()\n",
    "print(f\"DT CV: {rmse_dt_cv}\")\n",
    "print(f\"DT Train: {rmse_dt_train}\")\n",
    "print(f\"DT Test: {rmse_dt_test}\")\n",
    "print()\n",
    "print(f\"LR Test: {rmse_lr_test}\")\n",
    "print(f\"RF Test: {rmse_rf_test}\")\n",
    "print(f\"GB Test: {rmse_gbt_test}\")\n",
    "print(f\"SGB Test: {rmse_sgbt_test}\")"
   ]
  },
  {
   "cell_type": "markdown",
   "id": "3417bc94",
   "metadata": {},
   "source": [
    "It appears the `dt_cv` model suffers from high bias because `rmse_dt_cv` $\\approx$ `rmse_dt_train` and both scores are greater than `rmse_baseline`. Thus, the `dt_cv` model appears to be underfitting the training set since the model is too constrained to capture the nonlinear dependencies between features and labels."
   ]
  },
  {
   "cell_type": "markdown",
   "id": "ce4edde3",
   "metadata": {},
   "source": [
    "# Ensembles"
   ]
  },
  {
   "cell_type": "markdown",
   "id": "7d143975",
   "metadata": {
    "heading_collapsed": true
   },
   "source": [
    "## Cancer"
   ]
  },
  {
   "cell_type": "markdown",
   "id": "a76e2841",
   "metadata": {
    "hidden": true
   },
   "source": [
    "### Data"
   ]
  },
  {
   "cell_type": "code",
   "execution_count": 25,
   "id": "02bfeff3",
   "metadata": {
    "ExecuteTime": {
     "end_time": "2021-09-24T22:07:08.085095Z",
     "start_time": "2021-09-24T22:07:08.059784Z"
    },
    "hidden": true
   },
   "outputs": [
    {
     "data": {
      "text/html": [
       "<div>\n",
       "<style scoped>\n",
       "    .dataframe tbody tr th:only-of-type {\n",
       "        vertical-align: middle;\n",
       "    }\n",
       "\n",
       "    .dataframe tbody tr th {\n",
       "        vertical-align: top;\n",
       "    }\n",
       "\n",
       "    .dataframe thead th {\n",
       "        text-align: right;\n",
       "    }\n",
       "</style>\n",
       "<table border=\"1\" class=\"dataframe\">\n",
       "  <thead>\n",
       "    <tr style=\"text-align: right;\">\n",
       "      <th></th>\n",
       "      <th>id</th>\n",
       "      <th>diagnosis</th>\n",
       "      <th>radius_mean</th>\n",
       "      <th>texture_mean</th>\n",
       "      <th>perimeter_mean</th>\n",
       "      <th>area_mean</th>\n",
       "      <th>smoothness_mean</th>\n",
       "      <th>compactness_mean</th>\n",
       "      <th>concavity_mean</th>\n",
       "      <th>concave points_mean</th>\n",
       "      <th>...</th>\n",
       "      <th>texture_worst</th>\n",
       "      <th>perimeter_worst</th>\n",
       "      <th>area_worst</th>\n",
       "      <th>smoothness_worst</th>\n",
       "      <th>compactness_worst</th>\n",
       "      <th>concavity_worst</th>\n",
       "      <th>concave points_worst</th>\n",
       "      <th>symmetry_worst</th>\n",
       "      <th>fractal_dimension_worst</th>\n",
       "      <th>Unnamed: 32</th>\n",
       "    </tr>\n",
       "  </thead>\n",
       "  <tbody>\n",
       "    <tr>\n",
       "      <th>502</th>\n",
       "      <td>91505</td>\n",
       "      <td>B</td>\n",
       "      <td>12.54</td>\n",
       "      <td>16.32</td>\n",
       "      <td>81.25</td>\n",
       "      <td>476.3</td>\n",
       "      <td>0.11580</td>\n",
       "      <td>0.10850</td>\n",
       "      <td>0.059280</td>\n",
       "      <td>0.032790</td>\n",
       "      <td>...</td>\n",
       "      <td>21.40</td>\n",
       "      <td>86.67</td>\n",
       "      <td>552.0</td>\n",
       "      <td>0.15800</td>\n",
       "      <td>0.17510</td>\n",
       "      <td>0.18890</td>\n",
       "      <td>0.08411</td>\n",
       "      <td>0.3155</td>\n",
       "      <td>0.07538</td>\n",
       "      <td>NaN</td>\n",
       "    </tr>\n",
       "    <tr>\n",
       "      <th>64</th>\n",
       "      <td>85922302</td>\n",
       "      <td>M</td>\n",
       "      <td>12.68</td>\n",
       "      <td>23.84</td>\n",
       "      <td>82.69</td>\n",
       "      <td>499.0</td>\n",
       "      <td>0.11220</td>\n",
       "      <td>0.12620</td>\n",
       "      <td>0.112800</td>\n",
       "      <td>0.068730</td>\n",
       "      <td>...</td>\n",
       "      <td>33.47</td>\n",
       "      <td>111.80</td>\n",
       "      <td>888.3</td>\n",
       "      <td>0.18510</td>\n",
       "      <td>0.40610</td>\n",
       "      <td>0.40240</td>\n",
       "      <td>0.17160</td>\n",
       "      <td>0.3383</td>\n",
       "      <td>0.10310</td>\n",
       "      <td>NaN</td>\n",
       "    </tr>\n",
       "    <tr>\n",
       "      <th>387</th>\n",
       "      <td>902976</td>\n",
       "      <td>B</td>\n",
       "      <td>13.88</td>\n",
       "      <td>16.16</td>\n",
       "      <td>88.37</td>\n",
       "      <td>596.6</td>\n",
       "      <td>0.07026</td>\n",
       "      <td>0.04831</td>\n",
       "      <td>0.020450</td>\n",
       "      <td>0.008507</td>\n",
       "      <td>...</td>\n",
       "      <td>19.97</td>\n",
       "      <td>99.66</td>\n",
       "      <td>745.3</td>\n",
       "      <td>0.08484</td>\n",
       "      <td>0.12330</td>\n",
       "      <td>0.10910</td>\n",
       "      <td>0.04537</td>\n",
       "      <td>0.2542</td>\n",
       "      <td>0.06623</td>\n",
       "      <td>NaN</td>\n",
       "    </tr>\n",
       "    <tr>\n",
       "      <th>315</th>\n",
       "      <td>894089</td>\n",
       "      <td>B</td>\n",
       "      <td>12.49</td>\n",
       "      <td>16.85</td>\n",
       "      <td>79.19</td>\n",
       "      <td>481.6</td>\n",
       "      <td>0.08511</td>\n",
       "      <td>0.03834</td>\n",
       "      <td>0.004473</td>\n",
       "      <td>0.006423</td>\n",
       "      <td>...</td>\n",
       "      <td>19.71</td>\n",
       "      <td>84.48</td>\n",
       "      <td>544.2</td>\n",
       "      <td>0.11040</td>\n",
       "      <td>0.04953</td>\n",
       "      <td>0.01938</td>\n",
       "      <td>0.02784</td>\n",
       "      <td>0.1917</td>\n",
       "      <td>0.06174</td>\n",
       "      <td>NaN</td>\n",
       "    </tr>\n",
       "    <tr>\n",
       "      <th>303</th>\n",
       "      <td>892657</td>\n",
       "      <td>B</td>\n",
       "      <td>10.49</td>\n",
       "      <td>18.61</td>\n",
       "      <td>66.86</td>\n",
       "      <td>334.3</td>\n",
       "      <td>0.10680</td>\n",
       "      <td>0.06678</td>\n",
       "      <td>0.022970</td>\n",
       "      <td>0.017800</td>\n",
       "      <td>...</td>\n",
       "      <td>24.54</td>\n",
       "      <td>70.76</td>\n",
       "      <td>375.4</td>\n",
       "      <td>0.14130</td>\n",
       "      <td>0.10440</td>\n",
       "      <td>0.08423</td>\n",
       "      <td>0.06528</td>\n",
       "      <td>0.2213</td>\n",
       "      <td>0.07842</td>\n",
       "      <td>NaN</td>\n",
       "    </tr>\n",
       "    <tr>\n",
       "      <th>236</th>\n",
       "      <td>88299702</td>\n",
       "      <td>M</td>\n",
       "      <td>23.21</td>\n",
       "      <td>26.97</td>\n",
       "      <td>153.50</td>\n",
       "      <td>1670.0</td>\n",
       "      <td>0.09509</td>\n",
       "      <td>0.16820</td>\n",
       "      <td>0.195000</td>\n",
       "      <td>0.123700</td>\n",
       "      <td>...</td>\n",
       "      <td>34.51</td>\n",
       "      <td>206.00</td>\n",
       "      <td>2944.0</td>\n",
       "      <td>0.14810</td>\n",
       "      <td>0.41260</td>\n",
       "      <td>0.58200</td>\n",
       "      <td>0.25930</td>\n",
       "      <td>0.3103</td>\n",
       "      <td>0.08677</td>\n",
       "      <td>NaN</td>\n",
       "    </tr>\n",
       "    <tr>\n",
       "      <th>241</th>\n",
       "      <td>883539</td>\n",
       "      <td>B</td>\n",
       "      <td>12.42</td>\n",
       "      <td>15.04</td>\n",
       "      <td>78.61</td>\n",
       "      <td>476.5</td>\n",
       "      <td>0.07926</td>\n",
       "      <td>0.03393</td>\n",
       "      <td>0.010530</td>\n",
       "      <td>0.011080</td>\n",
       "      <td>...</td>\n",
       "      <td>20.37</td>\n",
       "      <td>83.85</td>\n",
       "      <td>543.4</td>\n",
       "      <td>0.10370</td>\n",
       "      <td>0.07776</td>\n",
       "      <td>0.06243</td>\n",
       "      <td>0.04052</td>\n",
       "      <td>0.2901</td>\n",
       "      <td>0.06783</td>\n",
       "      <td>NaN</td>\n",
       "    </tr>\n",
       "    <tr>\n",
       "      <th>347</th>\n",
       "      <td>89869</td>\n",
       "      <td>B</td>\n",
       "      <td>14.76</td>\n",
       "      <td>14.74</td>\n",
       "      <td>94.87</td>\n",
       "      <td>668.7</td>\n",
       "      <td>0.08875</td>\n",
       "      <td>0.07780</td>\n",
       "      <td>0.046080</td>\n",
       "      <td>0.035280</td>\n",
       "      <td>...</td>\n",
       "      <td>17.93</td>\n",
       "      <td>114.20</td>\n",
       "      <td>880.8</td>\n",
       "      <td>0.12200</td>\n",
       "      <td>0.20090</td>\n",
       "      <td>0.21510</td>\n",
       "      <td>0.12510</td>\n",
       "      <td>0.3109</td>\n",
       "      <td>0.08187</td>\n",
       "      <td>NaN</td>\n",
       "    </tr>\n",
       "    <tr>\n",
       "      <th>225</th>\n",
       "      <td>88143502</td>\n",
       "      <td>B</td>\n",
       "      <td>14.34</td>\n",
       "      <td>13.47</td>\n",
       "      <td>92.51</td>\n",
       "      <td>641.2</td>\n",
       "      <td>0.09906</td>\n",
       "      <td>0.07624</td>\n",
       "      <td>0.057240</td>\n",
       "      <td>0.046030</td>\n",
       "      <td>...</td>\n",
       "      <td>16.90</td>\n",
       "      <td>110.40</td>\n",
       "      <td>873.2</td>\n",
       "      <td>0.12970</td>\n",
       "      <td>0.15250</td>\n",
       "      <td>0.16320</td>\n",
       "      <td>0.10870</td>\n",
       "      <td>0.3062</td>\n",
       "      <td>0.06072</td>\n",
       "      <td>NaN</td>\n",
       "    </tr>\n",
       "    <tr>\n",
       "      <th>428</th>\n",
       "      <td>90769601</td>\n",
       "      <td>B</td>\n",
       "      <td>11.13</td>\n",
       "      <td>16.62</td>\n",
       "      <td>70.47</td>\n",
       "      <td>381.1</td>\n",
       "      <td>0.08151</td>\n",
       "      <td>0.03834</td>\n",
       "      <td>0.013690</td>\n",
       "      <td>0.013700</td>\n",
       "      <td>...</td>\n",
       "      <td>20.29</td>\n",
       "      <td>74.35</td>\n",
       "      <td>421.1</td>\n",
       "      <td>0.10300</td>\n",
       "      <td>0.06219</td>\n",
       "      <td>0.04580</td>\n",
       "      <td>0.04044</td>\n",
       "      <td>0.2383</td>\n",
       "      <td>0.07083</td>\n",
       "      <td>NaN</td>\n",
       "    </tr>\n",
       "  </tbody>\n",
       "</table>\n",
       "<p>10 rows × 33 columns</p>\n",
       "</div>"
      ],
      "text/plain": [
       "           id diagnosis  radius_mean  texture_mean  perimeter_mean  area_mean  \\\n",
       "502     91505         B        12.54         16.32           81.25      476.3   \n",
       "64   85922302         M        12.68         23.84           82.69      499.0   \n",
       "387    902976         B        13.88         16.16           88.37      596.6   \n",
       "315    894089         B        12.49         16.85           79.19      481.6   \n",
       "303    892657         B        10.49         18.61           66.86      334.3   \n",
       "236  88299702         M        23.21         26.97          153.50     1670.0   \n",
       "241    883539         B        12.42         15.04           78.61      476.5   \n",
       "347     89869         B        14.76         14.74           94.87      668.7   \n",
       "225  88143502         B        14.34         13.47           92.51      641.2   \n",
       "428  90769601         B        11.13         16.62           70.47      381.1   \n",
       "\n",
       "     smoothness_mean  compactness_mean  concavity_mean  concave points_mean  \\\n",
       "502          0.11580           0.10850        0.059280             0.032790   \n",
       "64           0.11220           0.12620        0.112800             0.068730   \n",
       "387          0.07026           0.04831        0.020450             0.008507   \n",
       "315          0.08511           0.03834        0.004473             0.006423   \n",
       "303          0.10680           0.06678        0.022970             0.017800   \n",
       "236          0.09509           0.16820        0.195000             0.123700   \n",
       "241          0.07926           0.03393        0.010530             0.011080   \n",
       "347          0.08875           0.07780        0.046080             0.035280   \n",
       "225          0.09906           0.07624        0.057240             0.046030   \n",
       "428          0.08151           0.03834        0.013690             0.013700   \n",
       "\n",
       "     ...  texture_worst  perimeter_worst  area_worst  smoothness_worst  \\\n",
       "502  ...          21.40            86.67       552.0           0.15800   \n",
       "64   ...          33.47           111.80       888.3           0.18510   \n",
       "387  ...          19.97            99.66       745.3           0.08484   \n",
       "315  ...          19.71            84.48       544.2           0.11040   \n",
       "303  ...          24.54            70.76       375.4           0.14130   \n",
       "236  ...          34.51           206.00      2944.0           0.14810   \n",
       "241  ...          20.37            83.85       543.4           0.10370   \n",
       "347  ...          17.93           114.20       880.8           0.12200   \n",
       "225  ...          16.90           110.40       873.2           0.12970   \n",
       "428  ...          20.29            74.35       421.1           0.10300   \n",
       "\n",
       "     compactness_worst  concavity_worst  concave points_worst  symmetry_worst  \\\n",
       "502            0.17510          0.18890               0.08411          0.3155   \n",
       "64             0.40610          0.40240               0.17160          0.3383   \n",
       "387            0.12330          0.10910               0.04537          0.2542   \n",
       "315            0.04953          0.01938               0.02784          0.1917   \n",
       "303            0.10440          0.08423               0.06528          0.2213   \n",
       "236            0.41260          0.58200               0.25930          0.3103   \n",
       "241            0.07776          0.06243               0.04052          0.2901   \n",
       "347            0.20090          0.21510               0.12510          0.3109   \n",
       "225            0.15250          0.16320               0.10870          0.3062   \n",
       "428            0.06219          0.04580               0.04044          0.2383   \n",
       "\n",
       "     fractal_dimension_worst  Unnamed: 32  \n",
       "502                  0.07538          NaN  \n",
       "64                   0.10310          NaN  \n",
       "387                  0.06623          NaN  \n",
       "315                  0.06174          NaN  \n",
       "303                  0.07842          NaN  \n",
       "236                  0.08677          NaN  \n",
       "241                  0.06783          NaN  \n",
       "347                  0.08187          NaN  \n",
       "225                  0.06072          NaN  \n",
       "428                  0.07083          NaN  \n",
       "\n",
       "[10 rows x 33 columns]"
      ]
     },
     "execution_count": 25,
     "metadata": {},
     "output_type": "execute_result"
    }
   ],
   "source": [
    "df = pd.read_csv(\"datasets/wbc.csv\")\n",
    "df.sample(10)"
   ]
  },
  {
   "cell_type": "code",
   "execution_count": 26,
   "id": "cce7fe7a",
   "metadata": {
    "ExecuteTime": {
     "end_time": "2021-09-24T22:07:08.091130Z",
     "start_time": "2021-09-24T22:07:08.085859Z"
    },
    "hidden": true
   },
   "outputs": [],
   "source": [
    "target = \"diagnosis\"\n",
    "df[target] = df[target].astype(\"category\").cat.codes\n",
    "y = df[target]\n",
    "X = df.drop(target, axis=1)[[\"radius_mean\", \"concave points_mean\"]]\n",
    "X_train, X_test, y_train, y_test = train_test_split(\n",
    "    X, y, test_size=0.3, stratify=y, random_state=1\n",
    ")"
   ]
  },
  {
   "cell_type": "markdown",
   "id": "c62bd417",
   "metadata": {
    "hidden": true
   },
   "source": [
    "### Voting"
   ]
  },
  {
   "cell_type": "code",
   "execution_count": 27,
   "id": "3580826f",
   "metadata": {
    "ExecuteTime": {
     "end_time": "2021-09-24T22:07:08.128277Z",
     "start_time": "2021-09-24T22:07:08.091886Z"
    },
    "hidden": true
   },
   "outputs": [
    {
     "name": "stdout",
     "output_type": "stream",
     "text": [
      "LogisticRegression   :: 0.877\n",
      "KNN                  :: 0.865\n",
      "DecisionTree         :: 0.912\n",
      "Voting :: 0.877\n"
     ]
    }
   ],
   "source": [
    "lr = LogisticRegression(random_state=42)\n",
    "knn = KNeighborsClassifier()\n",
    "dt = DecisionTreeClassifier(random_state=42)\n",
    "classifiers = [(\"LogisticRegression\", lr), (\"KNN\", knn), (\"DecisionTree\", dt)]\n",
    "\n",
    "for clf_name, clf in classifiers:\n",
    "    clf.fit(X_train, y_train)\n",
    "    y_pred = clf.predict(X_test)\n",
    "    accuracy = accuracy_score(y_test, y_pred)\n",
    "    print(f\"{clf_name:20s} :: {accuracy:0.3f}\")\n",
    "\n",
    "vc = VotingClassifier(estimators=classifiers)\n",
    "vc.fit(X_train, y_train)\n",
    "y_pred = vc.predict(X_test)\n",
    "accuracy = accuracy_score(y_test, y_pred)\n",
    "print(f\"Voting :: {accuracy:0.3f}\")"
   ]
  },
  {
   "cell_type": "markdown",
   "id": "9b03d0f4",
   "metadata": {
    "hidden": true
   },
   "source": [
    "### Bagging w/ OOB"
   ]
  },
  {
   "cell_type": "code",
   "execution_count": 28,
   "id": "8a64c1a3",
   "metadata": {
    "ExecuteTime": {
     "end_time": "2021-09-24T22:07:08.402412Z",
     "start_time": "2021-09-24T22:07:08.129195Z"
    },
    "hidden": true
   },
   "outputs": [
    {
     "name": "stdout",
     "output_type": "stream",
     "text": [
      "Bagging Classifier Test :: 0.877\n",
      "Bagging Classifier OOB :: 0.915\n"
     ]
    }
   ],
   "source": [
    "dt = DecisionTreeClassifier(max_depth=4, min_samples_leaf=0.16, random_state=1)\n",
    "bc = BaggingClassifier(base_estimator=dt, oob_score=True, n_estimators=300, n_jobs=-1)\n",
    "bc.fit(X_train, y_train)\n",
    "y_pred = bc.predict(X_test)\n",
    "accuracy = accuracy_score(y_test, y_pred)\n",
    "accuracy_oob = bc.oob_score_\n",
    "print(f\"Bagging Classifier Test :: {accuracy:0.3f}\")\n",
    "print(f\"Bagging Classifier OOB :: {accuracy_oob:0.3f}\")"
   ]
  },
  {
   "cell_type": "markdown",
   "id": "3d71279c",
   "metadata": {
    "hidden": true
   },
   "source": [
    "### Boosting"
   ]
  },
  {
   "cell_type": "code",
   "execution_count": 29,
   "id": "ee38e064",
   "metadata": {
    "ExecuteTime": {
     "end_time": "2021-09-24T22:07:08.514831Z",
     "start_time": "2021-09-24T22:07:08.403661Z"
    },
    "hidden": true
   },
   "outputs": [
    {
     "name": "stdout",
     "output_type": "stream",
     "text": [
      "ROC score: 0.9575788551401869\n"
     ]
    }
   ],
   "source": [
    "# decision stump\n",
    "dt = DecisionTreeClassifier(max_depth=1, random_state=1)\n",
    "\n",
    "# adaboost the stumps\n",
    "adb_clf = AdaBoostClassifier(base_estimator=dt, n_estimators=100)\n",
    "\n",
    "# fit\n",
    "adb_clf.fit(X_train, y_train)\n",
    "y_pred_proba = adb_clf.predict_proba(X_test)[:, 1]\n",
    "score = roc_auc_score(y_test, y_pred_proba)\n",
    "print(f\"ROC score: {score}\")"
   ]
  },
  {
   "cell_type": "code",
   "execution_count": 30,
   "id": "d9651af4",
   "metadata": {
    "ExecuteTime": {
     "end_time": "2021-09-24T22:07:08.624655Z",
     "start_time": "2021-09-24T22:07:08.515657Z"
    },
    "hidden": true
   },
   "outputs": [
    {
     "data": {
      "image/png": "[encoded data removed]",
      "text/plain": [
       "<Figure size 1080x432 with 1 Axes>"
      ]
     },
     "metadata": {
      "needs_background": "light"
     },
     "output_type": "display_data"
    }
   ],
   "source": [
    "# Generate ROC curve values: fpr, tpr, thresholds\n",
    "fpr, tpr, thresholds = roc_curve(y_test, y_pred_proba)\n",
    "\n",
    "# Plot ROC curve\n",
    "plt.plot([0, 1], [0, 1], \"k--\")\n",
    "plt.plot(fpr, tpr)\n",
    "plt.xlabel(\"False Positive Rate\")\n",
    "plt.ylabel(\"True Positive Rate\")\n",
    "plt.title(\"ROC Curve\")\n",
    "plt.show()"
   ]
  },
  {
   "cell_type": "code",
   "execution_count": 31,
   "id": "a06147fd",
   "metadata": {
    "ExecuteTime": {
     "end_time": "2021-09-24T22:07:08.737628Z",
     "start_time": "2021-09-24T22:07:08.625483Z"
    },
    "hidden": true
   },
   "outputs": [
    {
     "data": {
      "image/png": "[encoded data removed]",
      "text/plain": [
       "<Figure size 1080x432 with 1 Axes>"
      ]
     },
     "metadata": {
      "needs_background": "light"
     },
     "output_type": "display_data"
    }
   ],
   "source": [
    "disp = plot_precision_recall_curve(logreg, X_test, y_test)"
   ]
  },
  {
   "cell_type": "markdown",
   "id": "53b992a8",
   "metadata": {
    "heading_collapsed": true
   },
   "source": [
    "## Liver Disease"
   ]
  },
  {
   "cell_type": "markdown",
   "id": "8752017d",
   "metadata": {
    "hidden": true
   },
   "source": [
    "### Data"
   ]
  },
  {
   "cell_type": "code",
   "execution_count": 32,
   "id": "f03f8204",
   "metadata": {
    "ExecuteTime": {
     "end_time": "2021-09-24T22:07:08.750894Z",
     "start_time": "2021-09-24T22:07:08.738537Z"
    },
    "hidden": true
   },
   "outputs": [
    {
     "data": {
      "text/html": [
       "<div>\n",
       "<style scoped>\n",
       "    .dataframe tbody tr th:only-of-type {\n",
       "        vertical-align: middle;\n",
       "    }\n",
       "\n",
       "    .dataframe tbody tr th {\n",
       "        vertical-align: top;\n",
       "    }\n",
       "\n",
       "    .dataframe thead th {\n",
       "        text-align: right;\n",
       "    }\n",
       "</style>\n",
       "<table border=\"1\" class=\"dataframe\">\n",
       "  <thead>\n",
       "    <tr style=\"text-align: right;\">\n",
       "      <th></th>\n",
       "      <th>Unnamed: 0</th>\n",
       "      <th>Age_std</th>\n",
       "      <th>Total_Bilirubin_std</th>\n",
       "      <th>Direct_Bilirubin_std</th>\n",
       "      <th>Alkaline_Phosphotase_std</th>\n",
       "      <th>Alamine_Aminotransferase_std</th>\n",
       "      <th>Aspartate_Aminotransferase_std</th>\n",
       "      <th>Total_Protiens_std</th>\n",
       "      <th>Albumin_std</th>\n",
       "      <th>Albumin_and_Globulin_Ratio_std</th>\n",
       "      <th>Is_male_std</th>\n",
       "      <th>Liver_disease</th>\n",
       "    </tr>\n",
       "  </thead>\n",
       "  <tbody>\n",
       "    <tr>\n",
       "      <th>267</th>\n",
       "      <td>270</td>\n",
       "      <td>-0.480164</td>\n",
       "      <td>-0.420320</td>\n",
       "      <td>-0.459878</td>\n",
       "      <td>-0.231624</td>\n",
       "      <td>0.081267</td>\n",
       "      <td>-0.194802</td>\n",
       "      <td>2.785177</td>\n",
       "      <td>2.219199</td>\n",
       "      <td>0.165780</td>\n",
       "      <td>1</td>\n",
       "      <td>1</td>\n",
       "    </tr>\n",
       "    <tr>\n",
       "      <th>16</th>\n",
       "      <td>16</td>\n",
       "      <td>-0.418465</td>\n",
       "      <td>-0.243537</td>\n",
       "      <td>-0.246664</td>\n",
       "      <td>0.208069</td>\n",
       "      <td>0.474657</td>\n",
       "      <td>1.141526</td>\n",
       "      <td>1.031931</td>\n",
       "      <td>1.589276</td>\n",
       "      <td>1.105288</td>\n",
       "      <td>1</td>\n",
       "      <td>1</td>\n",
       "    </tr>\n",
       "    <tr>\n",
       "      <th>131</th>\n",
       "      <td>131</td>\n",
       "      <td>1.555897</td>\n",
       "      <td>-0.420320</td>\n",
       "      <td>-0.459878</td>\n",
       "      <td>-0.223406</td>\n",
       "      <td>-0.344905</td>\n",
       "      <td>-0.284581</td>\n",
       "      <td>-0.629039</td>\n",
       "      <td>-0.804430</td>\n",
       "      <td>-0.617144</td>\n",
       "      <td>0</td>\n",
       "      <td>0</td>\n",
       "    </tr>\n",
       "    <tr>\n",
       "      <th>271</th>\n",
       "      <td>274</td>\n",
       "      <td>-0.726959</td>\n",
       "      <td>-0.243537</td>\n",
       "      <td>-0.246664</td>\n",
       "      <td>-0.391887</td>\n",
       "      <td>-0.306659</td>\n",
       "      <td>-0.305299</td>\n",
       "      <td>1.401035</td>\n",
       "      <td>1.085338</td>\n",
       "      <td>0.165780</td>\n",
       "      <td>1</td>\n",
       "      <td>1</td>\n",
       "    </tr>\n",
       "    <tr>\n",
       "      <th>425</th>\n",
       "      <td>429</td>\n",
       "      <td>1.740993</td>\n",
       "      <td>-0.227466</td>\n",
       "      <td>-0.282199</td>\n",
       "      <td>5.993940</td>\n",
       "      <td>0.114050</td>\n",
       "      <td>0.105613</td>\n",
       "      <td>-0.905868</td>\n",
       "      <td>-1.434352</td>\n",
       "      <td>-1.400067</td>\n",
       "      <td>1</td>\n",
       "      <td>1</td>\n",
       "    </tr>\n",
       "    <tr>\n",
       "      <th>506</th>\n",
       "      <td>510</td>\n",
       "      <td>-0.480164</td>\n",
       "      <td>-0.404249</td>\n",
       "      <td>-0.459878</td>\n",
       "      <td>-0.354903</td>\n",
       "      <td>-0.273876</td>\n",
       "      <td>-0.256957</td>\n",
       "      <td>2.508349</td>\n",
       "      <td>1.841245</td>\n",
       "      <td>0.165780</td>\n",
       "      <td>0</td>\n",
       "      <td>0</td>\n",
       "    </tr>\n",
       "    <tr>\n",
       "      <th>243</th>\n",
       "      <td>245</td>\n",
       "      <td>0.568716</td>\n",
       "      <td>-0.388178</td>\n",
       "      <td>-0.459878</td>\n",
       "      <td>-0.005614</td>\n",
       "      <td>-0.361296</td>\n",
       "      <td>-0.319111</td>\n",
       "      <td>-0.352211</td>\n",
       "      <td>-0.426476</td>\n",
       "      <td>-0.460559</td>\n",
       "      <td>1</td>\n",
       "      <td>1</td>\n",
       "    </tr>\n",
       "    <tr>\n",
       "      <th>455</th>\n",
       "      <td>459</td>\n",
       "      <td>1.247403</td>\n",
       "      <td>-0.356035</td>\n",
       "      <td>-0.353271</td>\n",
       "      <td>1.621662</td>\n",
       "      <td>-0.355832</td>\n",
       "      <td>-0.222426</td>\n",
       "      <td>-0.721316</td>\n",
       "      <td>-2.064275</td>\n",
       "      <td>-1.869821</td>\n",
       "      <td>1</td>\n",
       "      <td>1</td>\n",
       "    </tr>\n",
       "    <tr>\n",
       "      <th>54</th>\n",
       "      <td>54</td>\n",
       "      <td>-0.171670</td>\n",
       "      <td>0.897513</td>\n",
       "      <td>1.068160</td>\n",
       "      <td>-0.079581</td>\n",
       "      <td>-0.273876</td>\n",
       "      <td>-0.170630</td>\n",
       "      <td>-0.629039</td>\n",
       "      <td>-1.434352</td>\n",
       "      <td>-1.400067</td>\n",
       "      <td>1</td>\n",
       "      <td>1</td>\n",
       "    </tr>\n",
       "    <tr>\n",
       "      <th>246</th>\n",
       "      <td>248</td>\n",
       "      <td>-0.295067</td>\n",
       "      <td>-0.420320</td>\n",
       "      <td>-0.495414</td>\n",
       "      <td>-0.367231</td>\n",
       "      <td>-0.241094</td>\n",
       "      <td>-0.281128</td>\n",
       "      <td>-1.367248</td>\n",
       "      <td>-0.678445</td>\n",
       "      <td>0.165780</td>\n",
       "      <td>1</td>\n",
       "      <td>1</td>\n",
       "    </tr>\n",
       "  </tbody>\n",
       "</table>\n",
       "</div>"
      ],
      "text/plain": [
       "     Unnamed: 0   Age_std  Total_Bilirubin_std  Direct_Bilirubin_std  \\\n",
       "267         270 -0.480164            -0.420320             -0.459878   \n",
       "16           16 -0.418465            -0.243537             -0.246664   \n",
       "131         131  1.555897            -0.420320             -0.459878   \n",
       "271         274 -0.726959            -0.243537             -0.246664   \n",
       "425         429  1.740993            -0.227466             -0.282199   \n",
       "506         510 -0.480164            -0.404249             -0.459878   \n",
       "243         245  0.568716            -0.388178             -0.459878   \n",
       "455         459  1.247403            -0.356035             -0.353271   \n",
       "54           54 -0.171670             0.897513              1.068160   \n",
       "246         248 -0.295067            -0.420320             -0.495414   \n",
       "\n",
       "     Alkaline_Phosphotase_std  Alamine_Aminotransferase_std  \\\n",
       "267                 -0.231624                      0.081267   \n",
       "16                   0.208069                      0.474657   \n",
       "131                 -0.223406                     -0.344905   \n",
       "271                 -0.391887                     -0.306659   \n",
       "425                  5.993940                      0.114050   \n",
       "506                 -0.354903                     -0.273876   \n",
       "243                 -0.005614                     -0.361296   \n",
       "455                  1.621662                     -0.355832   \n",
       "54                  -0.079581                     -0.273876   \n",
       "246                 -0.367231                     -0.241094   \n",
       "\n",
       "     Aspartate_Aminotransferase_std  Total_Protiens_std  Albumin_std  \\\n",
       "267                       -0.194802            2.785177     2.219199   \n",
       "16                         1.141526            1.031931     1.589276   \n",
       "131                       -0.284581           -0.629039    -0.804430   \n",
       "271                       -0.305299            1.401035     1.085338   \n",
       "425                        0.105613           -0.905868    -1.434352   \n",
       "506                       -0.256957            2.508349     1.841245   \n",
       "243                       -0.319111           -0.352211    -0.426476   \n",
       "455                       -0.222426           -0.721316    -2.064275   \n",
       "54                        -0.170630           -0.629039    -1.434352   \n",
       "246                       -0.281128           -1.367248    -0.678445   \n",
       "\n",
       "     Albumin_and_Globulin_Ratio_std  Is_male_std  Liver_disease  \n",
       "267                        0.165780            1              1  \n",
       "16                         1.105288            1              1  \n",
       "131                       -0.617144            0              0  \n",
       "271                        0.165780            1              1  \n",
       "425                       -1.400067            1              1  \n",
       "506                        0.165780            0              0  \n",
       "243                       -0.460559            1              1  \n",
       "455                       -1.869821            1              1  \n",
       "54                        -1.400067            1              1  \n",
       "246                        0.165780            1              1  "
      ]
     },
     "execution_count": 32,
     "metadata": {},
     "output_type": "execute_result"
    }
   ],
   "source": [
    "df = pd.read_csv(\"datasets/indian_liver_patient_preprocessed.csv\")\n",
    "df.sample(10)"
   ]
  },
  {
   "cell_type": "code",
   "execution_count": 33,
   "id": "bb2acc29",
   "metadata": {
    "ExecuteTime": {
     "end_time": "2021-09-24T22:07:08.755840Z",
     "start_time": "2021-09-24T22:07:08.751733Z"
    },
    "hidden": true
   },
   "outputs": [],
   "source": [
    "target = \"Liver_disease\"\n",
    "y = df[target]\n",
    "X = df.drop(target, axis=1)\n",
    "X_train, X_test, y_train, y_test = train_test_split(X, y, test_size=0.3, random_state=1)"
   ]
  },
  {
   "cell_type": "markdown",
   "id": "6476e3f3",
   "metadata": {
    "hidden": true
   },
   "source": [
    "### Voting"
   ]
  },
  {
   "cell_type": "code",
   "execution_count": 34,
   "id": "6851ebb6",
   "metadata": {
    "ExecuteTime": {
     "end_time": "2021-09-24T22:07:08.827463Z",
     "start_time": "2021-09-24T22:07:08.760089Z"
    },
    "hidden": true
   },
   "outputs": [
    {
     "name": "stdout",
     "output_type": "stream",
     "text": [
      "Logistic Regression : 0.764\n",
      "K Nearest Neighbours : 0.724\n",
      "Classification Tree : 0.730\n",
      "Voting Classifier: 0.764\n"
     ]
    },
    {
     "name": "stderr",
     "output_type": "stream",
     "text": [
      "/home/kcavagnolo/.pyenv/versions/3.8.0/lib/python3.8/site-packages/sklearn/linear_model/_logistic.py:763: ConvergenceWarning: lbfgs failed to converge (status=1):\n",
      "STOP: TOTAL NO. of ITERATIONS REACHED LIMIT.\n",
      "\n",
      "Increase the number of iterations (max_iter) or scale the data as shown in:\n",
      "    https://scikit-learn.org/stable/modules/preprocessing.html\n",
      "Please also refer to the documentation for alternative solver options:\n",
      "    https://scikit-learn.org/stable/modules/linear_model.html#logistic-regression\n",
      "  n_iter_i = _check_optimize_result(\n",
      "/home/kcavagnolo/.pyenv/versions/3.8.0/lib/python3.8/site-packages/sklearn/linear_model/_logistic.py:763: ConvergenceWarning: lbfgs failed to converge (status=1):\n",
      "STOP: TOTAL NO. of ITERATIONS REACHED LIMIT.\n",
      "\n",
      "Increase the number of iterations (max_iter) or scale the data as shown in:\n",
      "    https://scikit-learn.org/stable/modules/preprocessing.html\n",
      "Please also refer to the documentation for alternative solver options:\n",
      "    https://scikit-learn.org/stable/modules/linear_model.html#logistic-regression\n",
      "  n_iter_i = _check_optimize_result(\n"
     ]
    }
   ],
   "source": [
    "# Instantiate lr\n",
    "lr = LogisticRegression(random_state=1)\n",
    "\n",
    "# Instantiate knn\n",
    "knn = KNeighborsClassifier(n_neighbors=27)\n",
    "\n",
    "# Instantiate dt\n",
    "dt = DecisionTreeClassifier(min_samples_leaf=0.13, random_state=1)\n",
    "\n",
    "# Define the list classifiers\n",
    "classifiers = [\n",
    "    (\"Logistic Regression\", lr),\n",
    "    (\"K Nearest Neighbours\", knn),\n",
    "    (\"Classification Tree\", dt),\n",
    "]\n",
    "\n",
    "# Iterate over the pre-defined list of classifiers\n",
    "for clf_name, clf in classifiers:\n",
    "    # Fit clf to the training set\n",
    "    clf.fit(X_train, y_train)\n",
    "\n",
    "    # Predict y_pred\n",
    "    y_pred = clf.predict(X_test)\n",
    "\n",
    "    # Calculate accuracy\n",
    "    accuracy = accuracy_score(y_test, y_pred)\n",
    "\n",
    "    # Evaluate clf's accuracy on the test set\n",
    "    print(f\"{clf_name:s} : {accuracy:.3f}\")\n",
    "\n",
    "# Instantiate a VotingClassifier vc\n",
    "vc = VotingClassifier(estimators=classifiers)\n",
    "\n",
    "# Fit vc to the training set\n",
    "vc.fit(X_train, y_train)\n",
    "\n",
    "# Evaluate the test set predictions\n",
    "y_pred = vc.predict(X_test)\n",
    "\n",
    "# Calculate accuracy score\n",
    "accuracy = accuracy_score(y_pred, y_test)\n",
    "print(f\"Voting Classifier: {accuracy:.3f}\")"
   ]
  },
  {
   "cell_type": "markdown",
   "id": "dd942d02",
   "metadata": {
    "hidden": true
   },
   "source": [
    "### Bagging w/ OOB"
   ]
  },
  {
   "cell_type": "code",
   "execution_count": 35,
   "id": "a61498e1",
   "metadata": {
    "ExecuteTime": {
     "end_time": "2021-09-24T22:07:08.831108Z",
     "start_time": "2021-09-24T22:07:08.828415Z"
    },
    "hidden": true
   },
   "outputs": [],
   "source": [
    "# Instantiate dt\n",
    "dt = DecisionTreeClassifier(min_samples_leaf=8, random_state=1)\n",
    "\n",
    "# Instantiate bc\n",
    "bc = BaggingClassifier(\n",
    "    base_estimator=dt, oob_score=True, n_estimators=50, random_state=1\n",
    ")"
   ]
  },
  {
   "cell_type": "code",
   "execution_count": 36,
   "id": "04433df6",
   "metadata": {
    "ExecuteTime": {
     "end_time": "2021-09-24T22:07:08.940301Z",
     "start_time": "2021-09-24T22:07:08.831957Z"
    },
    "hidden": true
   },
   "outputs": [
    {
     "name": "stdout",
     "output_type": "stream",
     "text": [
      "Bagging Classifier Test :: 0.695\n",
      "Bagging Classifier OOB :: 0.677\n"
     ]
    }
   ],
   "source": [
    "# Fit bc to the training set\n",
    "bc.fit(X_train, y_train)\n",
    "\n",
    "# Predict test set labels\n",
    "y_pred = bc.predict(X_test)\n",
    "\n",
    "# Evaluate acc_test\n",
    "accuracy = accuracy_score(y_test, y_pred)\n",
    "accuracy_oob = bc.oob_score_\n",
    "print(f\"Bagging Classifier Test :: {accuracy:0.3f}\")\n",
    "print(f\"Bagging Classifier OOB :: {accuracy_oob:0.3f}\")"
   ]
  },
  {
   "cell_type": "markdown",
   "id": "f60dcc2d",
   "metadata": {
    "hidden": true
   },
   "source": [
    "### Adaboost w/ DT"
   ]
  },
  {
   "cell_type": "code",
   "execution_count": 37,
   "id": "e4d38c1d",
   "metadata": {
    "ExecuteTime": {
     "end_time": "2021-09-24T22:07:09.203441Z",
     "start_time": "2021-09-24T22:07:08.941290Z"
    },
    "hidden": true
   },
   "outputs": [],
   "source": [
    "# Instantiate dt\n",
    "dt = DecisionTreeClassifier(max_depth=2, random_state=1)\n",
    "\n",
    "# Instantiate ada\n",
    "ada = AdaBoostClassifier(base_estimator=dt, n_estimators=180, random_state=1)\n",
    "\n",
    "# Fit ada to the training set\n",
    "ada.fit(X_train, y_train)\n",
    "\n",
    "# Compute the probabilities of obtaining the positive class\n",
    "y_pred_proba = ada.predict_proba(X_test)[:, 1]"
   ]
  },
  {
   "cell_type": "code",
   "execution_count": 38,
   "id": "0e10b48f",
   "metadata": {
    "ExecuteTime": {
     "end_time": "2021-09-24T22:07:09.207916Z",
     "start_time": "2021-09-24T22:07:09.204485Z"
    },
    "hidden": true
   },
   "outputs": [
    {
     "name": "stdout",
     "output_type": "stream",
     "text": [
      "ROC AUC score: 0.72\n"
     ]
    }
   ],
   "source": [
    "# Evaluate test-set roc_auc_score\n",
    "ada_roc_auc = roc_auc_score(y_test, y_pred_proba)\n",
    "\n",
    "# Print roc_auc_score\n",
    "print(f\"ROC AUC score: {ada_roc_auc:.2f}\")"
   ]
  },
  {
   "cell_type": "markdown",
   "id": "82a6d8f0",
   "metadata": {
    "hidden": true
   },
   "source": [
    "### Grid Search w/ DT"
   ]
  },
  {
   "cell_type": "code",
   "execution_count": 39,
   "id": "7540de9e",
   "metadata": {
    "ExecuteTime": {
     "end_time": "2021-09-24T22:07:09.383926Z",
     "start_time": "2021-09-24T22:07:09.208959Z"
    },
    "hidden": true
   },
   "outputs": [
    {
     "name": "stdout",
     "output_type": "stream",
     "text": [
      "Test set ROC AUC score: 0.707\n"
     ]
    }
   ],
   "source": [
    "# Define params_dt\n",
    "params_dt = dict(\n",
    "    max_depth=np.arange(2, 5, 1), min_samples_leaf=np.arange(0.12, 0.19, 0.02)\n",
    ")\n",
    "\n",
    "# Instantiate grid_dt\n",
    "dt = DecisionTreeClassifier()\n",
    "grid_dt = GridSearchCV(\n",
    "    estimator=dt, param_grid=params_dt, scoring=\"roc_auc\", cv=5, n_jobs=-1\n",
    ")\n",
    "\n",
    "# fit\n",
    "grid_dt.fit(X_train, y_train)\n",
    "\n",
    "# Extract the best estimator\n",
    "best_model = grid_dt.best_estimator_\n",
    "\n",
    "# Predict the test set probabilities of the positive class\n",
    "y_pred_proba = best_model.predict_proba(X_test)[:, 1]\n",
    "\n",
    "# Compute test_roc_auc\n",
    "test_roc_auc = roc_auc_score(y_test, y_pred_proba)\n",
    "\n",
    "# Print test_roc_auc\n",
    "print(f\"Test set ROC AUC score: {test_roc_auc:.3f}\")"
   ]
  },
  {
   "cell_type": "code",
   "execution_count": 40,
   "id": "3a1c9bdb",
   "metadata": {
    "ExecuteTime": {
     "end_time": "2021-09-24T22:07:09.503800Z",
     "start_time": "2021-09-24T22:07:09.388032Z"
    },
    "hidden": true
   },
   "outputs": [
    {
     "data": {
      "image/png": "[encoded data removed]",
      "text/plain": [
       "<Figure size 1080x432 with 1 Axes>"
      ]
     },
     "metadata": {
      "needs_background": "light"
     },
     "output_type": "display_data"
    }
   ],
   "source": [
    "# Generate ROC curve values: fpr, tpr, thresholds\n",
    "fpr, tpr, thresholds = roc_curve(y_test, y_pred_proba)\n",
    "\n",
    "# Plot ROC curve\n",
    "plt.plot([0, 1], [0, 1], \"k--\")\n",
    "plt.plot(fpr, tpr)\n",
    "plt.xlabel(\"False Positive Rate\")\n",
    "plt.ylabel(\"True Positive Rate\")\n",
    "plt.title(\"ROC Curve\")\n",
    "plt.show()"
   ]
  },
  {
   "cell_type": "code",
   "execution_count": 41,
   "id": "2a61edc9",
   "metadata": {
    "ExecuteTime": {
     "end_time": "2021-09-24T22:07:09.614026Z",
     "start_time": "2021-09-24T22:07:09.504945Z"
    },
    "hidden": true
   },
   "outputs": [
    {
     "data": {
      "image/png": "[encoded data removed]",
      "text/plain": [
       "<Figure size 1080x432 with 1 Axes>"
      ]
     },
     "metadata": {
      "needs_background": "light"
     },
     "output_type": "display_data"
    }
   ],
   "source": [
    "disp = plot_precision_recall_curve(best_model, X_test, y_test)"
   ]
  },
  {
   "cell_type": "markdown",
   "id": "cef3cb45",
   "metadata": {},
   "source": [
    "## Bike Sharing"
   ]
  },
  {
   "cell_type": "markdown",
   "id": "fa511e07",
   "metadata": {},
   "source": [
    "### Data"
   ]
  },
  {
   "cell_type": "code",
   "execution_count": 42,
   "id": "ce9642ea",
   "metadata": {
    "ExecuteTime": {
     "end_time": "2021-09-24T22:07:09.626772Z",
     "start_time": "2021-09-24T22:07:09.614819Z"
    }
   },
   "outputs": [
    {
     "data": {
      "text/html": [
       "<div>\n",
       "<style scoped>\n",
       "    .dataframe tbody tr th:only-of-type {\n",
       "        vertical-align: middle;\n",
       "    }\n",
       "\n",
       "    .dataframe tbody tr th {\n",
       "        vertical-align: top;\n",
       "    }\n",
       "\n",
       "    .dataframe thead th {\n",
       "        text-align: right;\n",
       "    }\n",
       "</style>\n",
       "<table border=\"1\" class=\"dataframe\">\n",
       "  <thead>\n",
       "    <tr style=\"text-align: right;\">\n",
       "      <th></th>\n",
       "      <th>hr</th>\n",
       "      <th>holiday</th>\n",
       "      <th>workingday</th>\n",
       "      <th>temp</th>\n",
       "      <th>hum</th>\n",
       "      <th>windspeed</th>\n",
       "      <th>cnt</th>\n",
       "      <th>instant</th>\n",
       "      <th>mnth</th>\n",
       "      <th>yr</th>\n",
       "      <th>clear_to_partly_cloudy</th>\n",
       "      <th>light_precipitation</th>\n",
       "      <th>misty</th>\n",
       "    </tr>\n",
       "  </thead>\n",
       "  <tbody>\n",
       "    <tr>\n",
       "      <th>733</th>\n",
       "      <td>13</td>\n",
       "      <td>0</td>\n",
       "      <td>1</td>\n",
       "      <td>0.80</td>\n",
       "      <td>0.55</td>\n",
       "      <td>0.2836</td>\n",
       "      <td>288</td>\n",
       "      <td>13737</td>\n",
       "      <td>7</td>\n",
       "      <td>1</td>\n",
       "      <td>1</td>\n",
       "      <td>0</td>\n",
       "      <td>0</td>\n",
       "    </tr>\n",
       "    <tr>\n",
       "      <th>432</th>\n",
       "      <td>0</td>\n",
       "      <td>0</td>\n",
       "      <td>1</td>\n",
       "      <td>0.74</td>\n",
       "      <td>0.66</td>\n",
       "      <td>0.0896</td>\n",
       "      <td>66</td>\n",
       "      <td>13436</td>\n",
       "      <td>7</td>\n",
       "      <td>1</td>\n",
       "      <td>1</td>\n",
       "      <td>0</td>\n",
       "      <td>0</td>\n",
       "    </tr>\n",
       "    <tr>\n",
       "      <th>58</th>\n",
       "      <td>10</td>\n",
       "      <td>0</td>\n",
       "      <td>1</td>\n",
       "      <td>0.82</td>\n",
       "      <td>0.43</td>\n",
       "      <td>0.2239</td>\n",
       "      <td>209</td>\n",
       "      <td>13062</td>\n",
       "      <td>7</td>\n",
       "      <td>1</td>\n",
       "      <td>1</td>\n",
       "      <td>0</td>\n",
       "      <td>0</td>\n",
       "    </tr>\n",
       "    <tr>\n",
       "      <th>1061</th>\n",
       "      <td>5</td>\n",
       "      <td>0</td>\n",
       "      <td>1</td>\n",
       "      <td>0.68</td>\n",
       "      <td>0.89</td>\n",
       "      <td>0.1940</td>\n",
       "      <td>36</td>\n",
       "      <td>14065</td>\n",
       "      <td>8</td>\n",
       "      <td>1</td>\n",
       "      <td>0</td>\n",
       "      <td>0</td>\n",
       "      <td>1</td>\n",
       "    </tr>\n",
       "    <tr>\n",
       "      <th>89</th>\n",
       "      <td>17</td>\n",
       "      <td>1</td>\n",
       "      <td>0</td>\n",
       "      <td>0.92</td>\n",
       "      <td>0.35</td>\n",
       "      <td>0.2985</td>\n",
       "      <td>414</td>\n",
       "      <td>13093</td>\n",
       "      <td>7</td>\n",
       "      <td>1</td>\n",
       "      <td>1</td>\n",
       "      <td>0</td>\n",
       "      <td>0</td>\n",
       "    </tr>\n",
       "    <tr>\n",
       "      <th>1066</th>\n",
       "      <td>10</td>\n",
       "      <td>0</td>\n",
       "      <td>1</td>\n",
       "      <td>0.70</td>\n",
       "      <td>0.79</td>\n",
       "      <td>0.1045</td>\n",
       "      <td>208</td>\n",
       "      <td>14070</td>\n",
       "      <td>8</td>\n",
       "      <td>1</td>\n",
       "      <td>1</td>\n",
       "      <td>0</td>\n",
       "      <td>0</td>\n",
       "    </tr>\n",
       "    <tr>\n",
       "      <th>90</th>\n",
       "      <td>18</td>\n",
       "      <td>1</td>\n",
       "      <td>0</td>\n",
       "      <td>0.90</td>\n",
       "      <td>0.42</td>\n",
       "      <td>0.1940</td>\n",
       "      <td>430</td>\n",
       "      <td>13094</td>\n",
       "      <td>7</td>\n",
       "      <td>1</td>\n",
       "      <td>1</td>\n",
       "      <td>0</td>\n",
       "      <td>0</td>\n",
       "    </tr>\n",
       "    <tr>\n",
       "      <th>240</th>\n",
       "      <td>0</td>\n",
       "      <td>0</td>\n",
       "      <td>1</td>\n",
       "      <td>0.66</td>\n",
       "      <td>0.83</td>\n",
       "      <td>0.1343</td>\n",
       "      <td>44</td>\n",
       "      <td>13244</td>\n",
       "      <td>7</td>\n",
       "      <td>1</td>\n",
       "      <td>0</td>\n",
       "      <td>0</td>\n",
       "      <td>1</td>\n",
       "    </tr>\n",
       "    <tr>\n",
       "      <th>646</th>\n",
       "      <td>22</td>\n",
       "      <td>0</td>\n",
       "      <td>1</td>\n",
       "      <td>0.78</td>\n",
       "      <td>0.59</td>\n",
       "      <td>0.1343</td>\n",
       "      <td>199</td>\n",
       "      <td>13650</td>\n",
       "      <td>7</td>\n",
       "      <td>1</td>\n",
       "      <td>1</td>\n",
       "      <td>0</td>\n",
       "      <td>0</td>\n",
       "    </tr>\n",
       "    <tr>\n",
       "      <th>749</th>\n",
       "      <td>5</td>\n",
       "      <td>0</td>\n",
       "      <td>1</td>\n",
       "      <td>0.64</td>\n",
       "      <td>0.78</td>\n",
       "      <td>0.1343</td>\n",
       "      <td>49</td>\n",
       "      <td>13753</td>\n",
       "      <td>8</td>\n",
       "      <td>1</td>\n",
       "      <td>0</td>\n",
       "      <td>0</td>\n",
       "      <td>1</td>\n",
       "    </tr>\n",
       "  </tbody>\n",
       "</table>\n",
       "</div>"
      ],
      "text/plain": [
       "      hr  holiday  workingday  temp   hum  windspeed  cnt  instant  mnth  yr  \\\n",
       "733   13        0           1  0.80  0.55     0.2836  288    13737     7   1   \n",
       "432    0        0           1  0.74  0.66     0.0896   66    13436     7   1   \n",
       "58    10        0           1  0.82  0.43     0.2239  209    13062     7   1   \n",
       "1061   5        0           1  0.68  0.89     0.1940   36    14065     8   1   \n",
       "89    17        1           0  0.92  0.35     0.2985  414    13093     7   1   \n",
       "1066  10        0           1  0.70  0.79     0.1045  208    14070     8   1   \n",
       "90    18        1           0  0.90  0.42     0.1940  430    13094     7   1   \n",
       "240    0        0           1  0.66  0.83     0.1343   44    13244     7   1   \n",
       "646   22        0           1  0.78  0.59     0.1343  199    13650     7   1   \n",
       "749    5        0           1  0.64  0.78     0.1343   49    13753     8   1   \n",
       "\n",
       "      clear_to_partly_cloudy  light_precipitation  misty  \n",
       "733                        1                    0      0  \n",
       "432                        1                    0      0  \n",
       "58                         1                    0      0  \n",
       "1061                       0                    0      1  \n",
       "89                         1                    0      0  \n",
       "1066                       1                    0      0  \n",
       "90                         1                    0      0  \n",
       "240                        0                    0      1  \n",
       "646                        1                    0      0  \n",
       "749                        0                    0      1  "
      ]
     },
     "execution_count": 42,
     "metadata": {},
     "output_type": "execute_result"
    }
   ],
   "source": [
    "df = pd.read_csv(\"datasets/bikes.csv\")\n",
    "df.columns = [c.lower().replace(\" \", \"_\") for c in df.columns]\n",
    "df.sample(10)"
   ]
  },
  {
   "cell_type": "code",
   "execution_count": 43,
   "id": "c3a914bc",
   "metadata": {
    "ExecuteTime": {
     "end_time": "2021-09-24T22:07:09.630071Z",
     "start_time": "2021-09-24T22:07:09.627656Z"
    }
   },
   "outputs": [],
   "source": [
    "target = \"cnt\"\n",
    "y = df[target]\n",
    "X = df.drop(target, axis=1)"
   ]
  },
  {
   "cell_type": "code",
   "execution_count": 44,
   "id": "7599c00f",
   "metadata": {
    "ExecuteTime": {
     "end_time": "2021-09-24T22:07:09.638633Z",
     "start_time": "2021-09-24T22:07:09.631171Z"
    }
   },
   "outputs": [],
   "source": [
    "X_train, X_test, y_train, y_test = train_test_split(X, y, test_size=0.2, random_state=1)"
   ]
  },
  {
   "cell_type": "markdown",
   "id": "7997d317",
   "metadata": {},
   "source": [
    "### Random Forest"
   ]
  },
  {
   "cell_type": "code",
   "execution_count": 45,
   "id": "a676146c",
   "metadata": {
    "ExecuteTime": {
     "end_time": "2021-09-24T22:07:09.724313Z",
     "start_time": "2021-09-24T22:07:09.639567Z"
    }
   },
   "outputs": [
    {
     "data": {
      "text/plain": [
       "RandomForestRegressor(n_estimators=25, random_state=2)"
      ]
     },
     "execution_count": 45,
     "metadata": {},
     "output_type": "execute_result"
    }
   ],
   "source": [
    "# Instantiate rf\n",
    "rf = RandomForestRegressor(n_estimators=25, random_state=2)\n",
    "\n",
    "# Fit rf to the training set\n",
    "rf.fit(X_train, y_train)"
   ]
  },
  {
   "cell_type": "code",
   "execution_count": 46,
   "id": "a8038152",
   "metadata": {
    "ExecuteTime": {
     "end_time": "2021-09-24T22:07:09.733380Z",
     "start_time": "2021-09-24T22:07:09.725524Z"
    }
   },
   "outputs": [
    {
     "name": "stdout",
     "output_type": "stream",
     "text": [
      "Test set RMSE of rf: 51.84\n"
     ]
    }
   ],
   "source": [
    "# Predict the test set labels\n",
    "y_pred = rf.predict(X_test)\n",
    "\n",
    "# Evaluate the test set RMSE\n",
    "rmse_test = np.sqrt(mean_squared_error(y_test, y_pred))\n",
    "\n",
    "# Print rmse_test\n",
    "print(f\"Test set RMSE of rf: {rmse_test:.2f}\")"
   ]
  },
  {
   "cell_type": "code",
   "execution_count": 47,
   "id": "232f89e4",
   "metadata": {
    "ExecuteTime": {
     "end_time": "2021-09-24T22:07:09.895482Z",
     "start_time": "2021-09-24T22:07:09.734274Z"
    }
   },
   "outputs": [
    {
     "data": {
      "image/png": "[encoded data removed]",
      "text/plain": [
       "<Figure size 1080x432 with 1 Axes>"
      ]
     },
     "metadata": {
      "needs_background": "light"
     },
     "output_type": "display_data"
    }
   ],
   "source": [
    "plot_feature_importances(X, rf)"
   ]
  },
  {
   "cell_type": "markdown",
   "id": "d1edeb3b",
   "metadata": {},
   "source": [
    "### Gradient Boosting"
   ]
  },
  {
   "cell_type": "code",
   "execution_count": 48,
   "id": "521a5945",
   "metadata": {
    "ExecuteTime": {
     "end_time": "2021-09-24T22:07:10.138369Z",
     "start_time": "2021-09-24T22:07:09.896488Z"
    }
   },
   "outputs": [
    {
     "name": "stdout",
     "output_type": "stream",
     "text": [
      "Test set RMSE of gb: 43.113\n"
     ]
    }
   ],
   "source": [
    "# Instantiate gb\n",
    "gb = GradientBoostingRegressor(max_depth=4, n_estimators=200, random_state=2)\n",
    "\n",
    "# Fit gb to the training set\n",
    "gb.fit(X_train, y_train)\n",
    "\n",
    "# Predict test set labels\n",
    "y_pred = gb.predict(X_test)\n",
    "\n",
    "# Compute RMSE\n",
    "rmse_test = np.sqrt(mean_squared_error(y_test, y_pred))\n",
    "\n",
    "# Print RMSE\n",
    "print(f\"Test set RMSE of gb: {rmse_test:.3f}\")"
   ]
  },
  {
   "cell_type": "markdown",
   "id": "54c8e7d7",
   "metadata": {},
   "source": [
    "### Stochastic Gradient Boosting"
   ]
  },
  {
   "cell_type": "code",
   "execution_count": 49,
   "id": "72dd569e",
   "metadata": {
    "ExecuteTime": {
     "end_time": "2021-09-24T22:07:10.332965Z",
     "start_time": "2021-09-24T22:07:10.139672Z"
    }
   },
   "outputs": [
    {
     "name": "stdout",
     "output_type": "stream",
     "text": [
      "Test set RMSE of sgbr: 45.143\n"
     ]
    }
   ],
   "source": [
    "# Instantiate sgbr\n",
    "sgbr = GradientBoostingRegressor(\n",
    "    max_depth=4, subsample=0.9, max_features=0.75, n_estimators=200, random_state=2\n",
    ")\n",
    "\n",
    "# Fit sgbr to the training set\n",
    "sgbr.fit(X_train, y_train)\n",
    "\n",
    "# Predict test set labels\n",
    "y_pred = sgbr.predict(X_test)\n",
    "\n",
    "# Compute test set RMSE\n",
    "rmse_test = np.sqrt(mean_squared_error(y_test, y_pred))\n",
    "\n",
    "# Print rmse_test\n",
    "print(f\"Test set RMSE of sgbr: {rmse_test:.3f}\")"
   ]
  },
  {
   "cell_type": "markdown",
   "id": "51318cf1",
   "metadata": {},
   "source": [
    "### RF w/ Grid Search"
   ]
  },
  {
   "cell_type": "code",
   "execution_count": 50,
   "id": "2550f537",
   "metadata": {
    "ExecuteTime": {
     "end_time": "2021-09-24T22:07:15.282569Z",
     "start_time": "2021-09-24T22:07:10.334249Z"
    }
   },
   "outputs": [
    {
     "name": "stdout",
     "output_type": "stream",
     "text": [
      "Test set RMSE of grid_rf: 51.846\n"
     ]
    }
   ],
   "source": [
    "# Define the dictionary 'params_rf'\n",
    "params_rf = dict(\n",
    "    n_estimators=[100, 350, 500],\n",
    "    max_features=[\"log2\", \"auto\", \"sqrt\"],\n",
    "    min_samples_leaf=[2, 10, 30],\n",
    ")\n",
    "\n",
    "# Instantiate RF\n",
    "rf = RandomForestRegressor()\n",
    "grid_rf = GridSearchCV(\n",
    "    estimator=rf,\n",
    "    param_grid=params_rf,\n",
    "    scoring=\"neg_mean_squared_error\",\n",
    "    cv=3,\n",
    "    verbose=0,\n",
    "    n_jobs=-1,\n",
    ")\n",
    "grid_rf.fit(X_train, y_train)\n",
    "\n",
    "# Extract the best estimator\n",
    "best_model = grid_rf.best_estimator_\n",
    "\n",
    "# Predict test set labels\n",
    "y_pred = best_model.predict(X_test)\n",
    "\n",
    "# Compute test set RMSE\n",
    "rmse_test = np.sqrt(mean_squared_error(y_test, y_pred))\n",
    "\n",
    "# Print rmse_test\n",
    "print(f\"Test set RMSE of grid_rf: {rmse_test:.3f}\")"
   ]
  }
 ],
 "metadata": {
  "kernelspec": {
   "display_name": "Python 3 (ipykernel)",
   "language": "python",
   "name": "python3"
  },
  "language_info": {
   "codemirror_mode": {
    "name": "ipython",
    "version": 3
   },
   "file_extension": ".py",
   "mimetype": "text/x-python",
   "name": "python",
   "nbconvert_exporter": "python",
   "pygments_lexer": "ipython3",
   "version": "3.8.0"
  },
  "toc": {
   "base_numbering": 1,
   "nav_menu": {},
   "number_sections": true,
   "sideBar": true,
   "skip_h1_title": false,
   "title_cell": "Table of Contents",
   "title_sidebar": "Contents",
   "toc_cell": false,
   "toc_position": {},
   "toc_section_display": true,
   "toc_window_display": true
  },
  "varInspector": {
   "cols": {
    "lenName": 16,
    "lenType": 16,
    "lenVar": 40
   },
   "kernels_config": {
    "python": {
     "delete_cmd_postfix": "",
     "delete_cmd_prefix": "del ",
     "library": "var_list.py",
     "varRefreshCmd": "print(var_dic_list())"
    },
    "r": {
     "delete_cmd_postfix": ") ",
     "delete_cmd_prefix": "rm(",
     "library": "var_list.r",
     "varRefreshCmd": "cat(var_dic_list()) "
    }
   },
   "types_to_exclude": [
    "module",
    "function",
    "builtin_function_or_method",
    "instance",
    "_Feature"
   ],
   "window_display": false
  }
 },
 "nbformat": 4,
 "nbformat_minor": 5
}
