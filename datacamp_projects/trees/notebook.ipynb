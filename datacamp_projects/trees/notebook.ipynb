{
 "cells": [
  {
   "cell_type": "markdown",
   "id": "2cdfad2c",
   "metadata": {
    "heading_collapsed": true
   },
   "source": [
    "# Imports"
   ]
  },
  {
   "cell_type": "code",
   "execution_count": 1,
   "id": "80516ce6",
   "metadata": {
    "ExecuteTime": {
     "end_time": "2021-09-21T22:39:33.741626Z",
     "start_time": "2021-09-21T22:39:33.739087Z"
    },
    "hidden": true
   },
   "outputs": [],
   "source": [
    "import datetime\n",
    "import glob\n",
    "import itertools\n",
    "import json\n",
    "import os\n",
    "import pickle\n",
    "import random\n",
    "import re\n",
    "from string import punctuation"
   ]
  },
  {
   "cell_type": "code",
   "execution_count": 2,
   "id": "20f19bb4",
   "metadata": {
    "ExecuteTime": {
     "end_time": "2021-09-21T22:39:35.295450Z",
     "start_time": "2021-09-21T22:39:34.082396Z"
    },
    "hidden": true
   },
   "outputs": [],
   "source": [
    "import statistics\n",
    "\n",
    "import fuzzywuzzy\n",
    "import geopandas as gpd\n",
    "import humanize\n",
    "import missingno as msno\n",
    "import numpy as np\n",
    "import pandas as pd\n",
    "import recordlinkage\n",
    "import scipy as sp\n",
    "import statsmodels.formula.api as smf\n",
    "from pandas_profiling import ProfileReport"
   ]
  },
  {
   "cell_type": "code",
   "execution_count": 3,
   "id": "7f5fc6d7",
   "metadata": {
    "ExecuteTime": {
     "end_time": "2021-09-21T22:39:35.531377Z",
     "start_time": "2021-09-21T22:39:35.303697Z"
    },
    "hidden": true
   },
   "outputs": [],
   "source": [
    "SMALL_SIZE = 10\n",
    "MEDIUM_SIZE = 14\n",
    "BIGGER_SIZE = 18\n",
    "MAPBOX_STYLE = \"dark\"\n",
    "MAPBOX_HEIGHT = 800\n",
    "%matplotlib inline\n",
    "import matplotlib as mpl\n",
    "import matplotlib.font_manager\n",
    "import matplotlib.pyplot as plt\n",
    "import plotly.express as px\n",
    "import plotly.graph_objects as go\n",
    "import seaborn as sns\n",
    "from matplotlib.ticker import PercentFormatter\n",
    "\n",
    "px.set_mapbox_access_token(os.getenv(\"MAPBOX_TOKEN\"))\n",
    "matplotlib.font_manager.findSystemFonts(fontpaths=None, fontext=\"ttf\")\n",
    "plt.style.use(\"seaborn-colorblind\")\n",
    "plt.rcParams[\"font.family\"] = \"sans-serif\"\n",
    "plt.rcParams[\"font.sans-serif\"] = \"Open Sans\"\n",
    "plt.rcParams[\"figure.figsize\"] = 15, 6\n",
    "plt.rc(\"font\", size=SMALL_SIZE)  # controls default text sizes\n",
    "plt.rc(\"axes\", titlesize=SMALL_SIZE)  # fontsize of the axes title\n",
    "plt.rc(\"axes\", labelsize=MEDIUM_SIZE)  # fontsize of the x and y labels\n",
    "plt.rc(\"xtick\", labelsize=SMALL_SIZE)  # fontsize of the tick labels\n",
    "plt.rc(\"ytick\", labelsize=SMALL_SIZE)  # fontsize of the tick labels\n",
    "plt.rc(\"legend\", fontsize=SMALL_SIZE)  # legend fontsize\n",
    "plt.rc(\"figure\", titlesize=BIGGER_SIZE)  # fontsize of the figure title"
   ]
  },
  {
   "cell_type": "code",
   "execution_count": 359,
   "id": "f4e73187",
   "metadata": {
    "ExecuteTime": {
     "end_time": "2021-09-24T20:01:39.708723Z",
     "start_time": "2021-09-24T20:01:39.701622Z"
    },
    "hidden": true
   },
   "outputs": [],
   "source": [
    "from mlxtend.plotting import plot_decision_regions\n",
    "from sklearn import __version__ as sklearn_version\n",
    "from sklearn.cluster import KMeans\n",
    "from sklearn.decomposition import NMF, PCA\n",
    "from sklearn.dummy import DummyRegressor\n",
    "from sklearn.ensemble import (AdaBoostClassifier, BaggingClassifier,\n",
    "                              GradientBoostingRegressor, RandomForestRegressor,\n",
    "                              VotingClassifier)\n",
    "from sklearn.feature_selection import SelectKBest, f_regression\n",
    "from sklearn.impute import SimpleImputer\n",
    "from sklearn.linear_model import LinearRegression, LogisticRegression\n",
    "from sklearn.manifold import TSNE\n",
    "from sklearn.metrics import (accuracy_score, average_precision_score,\n",
    "                             classification_report, confusion_matrix,\n",
    "                             mean_absolute_error, mean_squared_error,\n",
    "                             plot_precision_recall_curve,\n",
    "                             precision_recall_curve, r2_score, roc_auc_score,\n",
    "                             roc_curve)\n",
    "from sklearn.model_selection import (GridSearchCV, KFold, cross_val_score,\n",
    "                                     cross_validate, learning_curve,\n",
    "                                     train_test_split)\n",
    "from sklearn.neighbors import KNeighborsClassifier\n",
    "from sklearn.pipeline import Pipeline, make_pipeline\n",
    "from sklearn.preprocessing import (LabelEncoder, MaxAbsScaler, MinMaxScaler,\n",
    "                                   Normalizer, StandardScaler, normalize,\n",
    "                                   scale)\n",
    "from sklearn.tree import DecisionTreeClassifier, DecisionTreeRegressor"
   ]
  },
  {
   "cell_type": "markdown",
   "id": "12707f45",
   "metadata": {
    "heading_collapsed": true
   },
   "source": [
    "# Functions"
   ]
  },
  {
   "cell_type": "code",
   "execution_count": 42,
   "id": "e7e31a74",
   "metadata": {
    "ExecuteTime": {
     "end_time": "2021-09-21T22:56:52.180848Z",
     "start_time": "2021-09-21T22:56:52.175550Z"
    },
    "hidden": true
   },
   "outputs": [],
   "source": [
    "def plot_labeled_decision_regions(X, y, models):\n",
    "    \"\"\"\n",
    "    Function producing a scatter plot of the instances contained\n",
    "    in the 2D dataset (X,y) along with the decision\n",
    "    regions of two trained classification models contained in the\n",
    "    list 'models'.\n",
    "\n",
    "    Parameters\n",
    "    ----------\n",
    "    X: pandas DataFrame corresponding to two numerical features\n",
    "    y: pandas Series corresponding the class labels\n",
    "    models: list containing two trained classifiers\n",
    "\n",
    "    \"\"\"\n",
    "    if len(models) != 2:\n",
    "        raise Exception(\n",
    "            \"\"\"\n",
    "        Models should be a list containing only two trained classifiers.\n",
    "        \"\"\"\n",
    "        )\n",
    "    if not isinstance(X, pd.DataFrame):\n",
    "        raise Exception(\n",
    "            \"\"\"\n",
    "        X has to be a pandas DataFrame with two numerical features.\n",
    "        \"\"\"\n",
    "        )\n",
    "    if not isinstance(y, pd.Series):\n",
    "        raise Exception(\n",
    "            \"\"\"\n",
    "        y has to be a pandas Series corresponding to the labels.\n",
    "        \"\"\"\n",
    "        )\n",
    "    fig, ax = plt.subplots(1, 2, figsize=(12, 8), sharey=True)\n",
    "    for i, model in enumerate(models):\n",
    "        plot_decision_regions(X.values, y.values, model, legend=2, ax=ax[i])\n",
    "        ax[i].set_title(model.__class__.__name__)\n",
    "        ax[i].set_xlabel(X.columns[0])\n",
    "        if i == 0:\n",
    "            ax[i].set_ylabel(X.columns[1])\n",
    "        ax[i].set_ylim(X.values[:, 1].min(), X.values[:, 1].max())\n",
    "        ax[i].set_xlim(X.values[:, 0].min(), X.values[:, 0].max())\n",
    "    plt.tight_layout()\n",
    "    plt.show()"
   ]
  },
  {
   "cell_type": "code",
   "execution_count": 328,
   "id": "cc705b37",
   "metadata": {
    "ExecuteTime": {
     "end_time": "2021-09-24T19:09:00.801649Z",
     "start_time": "2021-09-24T19:09:00.797042Z"
    },
    "hidden": true
   },
   "outputs": [],
   "source": [
    "def plot_feature_importances(X, model):\n",
    "    rf_std = np.std([tree.feature_importances_ for tree in rf.estimators_], axis=0)\n",
    "    rf_importances = pd.DataFrame(\n",
    "        dict(feature=X.columns, importance=rf.feature_importances_, errs=rf_std)\n",
    "    )\n",
    "    rf_importances.sort_values(by=[\"importance\"], ascending=False, inplace=True)\n",
    "    sns.barplot(x=\"importance\", y=\"feature\", data=rf_importances)\n",
    "    plt.errorbar(\n",
    "        y=range(len(rf_importances.feature)),\n",
    "        x=rf_importances.importance,\n",
    "        xerr=rf_importances.errs,\n",
    "        fmt=\"none\",\n",
    "        c=\"black\",\n",
    "    )"
   ]
  },
  {
   "cell_type": "markdown",
   "id": "be4a51a0",
   "metadata": {
    "heading_collapsed": true
   },
   "source": [
    "# Classification and Regression Trees (CARTs)"
   ]
  },
  {
   "cell_type": "markdown",
   "id": "280ac7b2",
   "metadata": {
    "heading_collapsed": true,
    "hidden": true
   },
   "source": [
    "## Cancer (Classification)"
   ]
  },
  {
   "cell_type": "markdown",
   "id": "baa9baf6",
   "metadata": {
    "heading_collapsed": true,
    "hidden": true
   },
   "source": [
    "### Data"
   ]
  },
  {
   "cell_type": "code",
   "execution_count": 60,
   "id": "3bba1e8d",
   "metadata": {
    "ExecuteTime": {
     "end_time": "2021-09-23T18:18:42.348018Z",
     "start_time": "2021-09-23T18:18:42.315521Z"
    },
    "hidden": true
   },
   "outputs": [
    {
     "data": {
      "text/html": [
       "<div>\n",
       "<style scoped>\n",
       "    .dataframe tbody tr th:only-of-type {\n",
       "        vertical-align: middle;\n",
       "    }\n",
       "\n",
       "    .dataframe tbody tr th {\n",
       "        vertical-align: top;\n",
       "    }\n",
       "\n",
       "    .dataframe thead th {\n",
       "        text-align: right;\n",
       "    }\n",
       "</style>\n",
       "<table border=\"1\" class=\"dataframe\">\n",
       "  <thead>\n",
       "    <tr style=\"text-align: right;\">\n",
       "      <th></th>\n",
       "      <th>id</th>\n",
       "      <th>diagnosis</th>\n",
       "      <th>radius_mean</th>\n",
       "      <th>texture_mean</th>\n",
       "      <th>perimeter_mean</th>\n",
       "      <th>area_mean</th>\n",
       "      <th>smoothness_mean</th>\n",
       "      <th>compactness_mean</th>\n",
       "      <th>concavity_mean</th>\n",
       "      <th>concave points_mean</th>\n",
       "      <th>...</th>\n",
       "      <th>texture_worst</th>\n",
       "      <th>perimeter_worst</th>\n",
       "      <th>area_worst</th>\n",
       "      <th>smoothness_worst</th>\n",
       "      <th>compactness_worst</th>\n",
       "      <th>concavity_worst</th>\n",
       "      <th>concave points_worst</th>\n",
       "      <th>symmetry_worst</th>\n",
       "      <th>fractal_dimension_worst</th>\n",
       "      <th>Unnamed: 32</th>\n",
       "    </tr>\n",
       "  </thead>\n",
       "  <tbody>\n",
       "    <tr>\n",
       "      <th>294</th>\n",
       "      <td>891716</td>\n",
       "      <td>B</td>\n",
       "      <td>12.72</td>\n",
       "      <td>13.78</td>\n",
       "      <td>81.78</td>\n",
       "      <td>492.1</td>\n",
       "      <td>0.09667</td>\n",
       "      <td>0.08393</td>\n",
       "      <td>0.01288</td>\n",
       "      <td>0.01924</td>\n",
       "      <td>...</td>\n",
       "      <td>17.48</td>\n",
       "      <td>88.54</td>\n",
       "      <td>553.7</td>\n",
       "      <td>0.1298</td>\n",
       "      <td>0.14720</td>\n",
       "      <td>0.05233</td>\n",
       "      <td>0.06343</td>\n",
       "      <td>0.2369</td>\n",
       "      <td>0.06922</td>\n",
       "      <td>NaN</td>\n",
       "    </tr>\n",
       "    <tr>\n",
       "      <th>209</th>\n",
       "      <td>8810436</td>\n",
       "      <td>B</td>\n",
       "      <td>15.27</td>\n",
       "      <td>12.91</td>\n",
       "      <td>98.17</td>\n",
       "      <td>725.5</td>\n",
       "      <td>0.08182</td>\n",
       "      <td>0.06230</td>\n",
       "      <td>0.05892</td>\n",
       "      <td>0.03157</td>\n",
       "      <td>...</td>\n",
       "      <td>15.92</td>\n",
       "      <td>113.70</td>\n",
       "      <td>932.7</td>\n",
       "      <td>0.1222</td>\n",
       "      <td>0.21860</td>\n",
       "      <td>0.29620</td>\n",
       "      <td>0.10350</td>\n",
       "      <td>0.2320</td>\n",
       "      <td>0.07474</td>\n",
       "      <td>NaN</td>\n",
       "    </tr>\n",
       "    <tr>\n",
       "      <th>0</th>\n",
       "      <td>842302</td>\n",
       "      <td>M</td>\n",
       "      <td>17.99</td>\n",
       "      <td>10.38</td>\n",
       "      <td>122.80</td>\n",
       "      <td>1001.0</td>\n",
       "      <td>0.11840</td>\n",
       "      <td>0.27760</td>\n",
       "      <td>0.30010</td>\n",
       "      <td>0.14710</td>\n",
       "      <td>...</td>\n",
       "      <td>17.33</td>\n",
       "      <td>184.60</td>\n",
       "      <td>2019.0</td>\n",
       "      <td>0.1622</td>\n",
       "      <td>0.66560</td>\n",
       "      <td>0.71190</td>\n",
       "      <td>0.26540</td>\n",
       "      <td>0.4601</td>\n",
       "      <td>0.11890</td>\n",
       "      <td>NaN</td>\n",
       "    </tr>\n",
       "    <tr>\n",
       "      <th>229</th>\n",
       "      <td>881861</td>\n",
       "      <td>M</td>\n",
       "      <td>12.83</td>\n",
       "      <td>22.33</td>\n",
       "      <td>85.26</td>\n",
       "      <td>503.2</td>\n",
       "      <td>0.10880</td>\n",
       "      <td>0.17990</td>\n",
       "      <td>0.16950</td>\n",
       "      <td>0.06861</td>\n",
       "      <td>...</td>\n",
       "      <td>30.15</td>\n",
       "      <td>105.30</td>\n",
       "      <td>706.0</td>\n",
       "      <td>0.1777</td>\n",
       "      <td>0.53430</td>\n",
       "      <td>0.62820</td>\n",
       "      <td>0.19770</td>\n",
       "      <td>0.3407</td>\n",
       "      <td>0.12430</td>\n",
       "      <td>NaN</td>\n",
       "    </tr>\n",
       "    <tr>\n",
       "      <th>351</th>\n",
       "      <td>899667</td>\n",
       "      <td>M</td>\n",
       "      <td>15.75</td>\n",
       "      <td>19.22</td>\n",
       "      <td>107.10</td>\n",
       "      <td>758.6</td>\n",
       "      <td>0.12430</td>\n",
       "      <td>0.23640</td>\n",
       "      <td>0.29140</td>\n",
       "      <td>0.12420</td>\n",
       "      <td>...</td>\n",
       "      <td>24.17</td>\n",
       "      <td>119.40</td>\n",
       "      <td>915.3</td>\n",
       "      <td>0.1550</td>\n",
       "      <td>0.50460</td>\n",
       "      <td>0.68720</td>\n",
       "      <td>0.21350</td>\n",
       "      <td>0.4245</td>\n",
       "      <td>0.10500</td>\n",
       "      <td>NaN</td>\n",
       "    </tr>\n",
       "    <tr>\n",
       "      <th>518</th>\n",
       "      <td>917062</td>\n",
       "      <td>B</td>\n",
       "      <td>12.88</td>\n",
       "      <td>18.22</td>\n",
       "      <td>84.45</td>\n",
       "      <td>493.1</td>\n",
       "      <td>0.12180</td>\n",
       "      <td>0.16610</td>\n",
       "      <td>0.04825</td>\n",
       "      <td>0.05303</td>\n",
       "      <td>...</td>\n",
       "      <td>24.37</td>\n",
       "      <td>99.31</td>\n",
       "      <td>674.7</td>\n",
       "      <td>0.1456</td>\n",
       "      <td>0.29610</td>\n",
       "      <td>0.12460</td>\n",
       "      <td>0.10960</td>\n",
       "      <td>0.2582</td>\n",
       "      <td>0.08893</td>\n",
       "      <td>NaN</td>\n",
       "    </tr>\n",
       "    <tr>\n",
       "      <th>92</th>\n",
       "      <td>861853</td>\n",
       "      <td>B</td>\n",
       "      <td>13.27</td>\n",
       "      <td>14.76</td>\n",
       "      <td>84.74</td>\n",
       "      <td>551.7</td>\n",
       "      <td>0.07355</td>\n",
       "      <td>0.05055</td>\n",
       "      <td>0.03261</td>\n",
       "      <td>0.02648</td>\n",
       "      <td>...</td>\n",
       "      <td>22.35</td>\n",
       "      <td>104.50</td>\n",
       "      <td>830.6</td>\n",
       "      <td>0.1006</td>\n",
       "      <td>0.12380</td>\n",
       "      <td>0.13500</td>\n",
       "      <td>0.10010</td>\n",
       "      <td>0.2027</td>\n",
       "      <td>0.06206</td>\n",
       "      <td>NaN</td>\n",
       "    </tr>\n",
       "    <tr>\n",
       "      <th>23</th>\n",
       "      <td>851509</td>\n",
       "      <td>M</td>\n",
       "      <td>21.16</td>\n",
       "      <td>23.04</td>\n",
       "      <td>137.20</td>\n",
       "      <td>1404.0</td>\n",
       "      <td>0.09428</td>\n",
       "      <td>0.10220</td>\n",
       "      <td>0.10970</td>\n",
       "      <td>0.08632</td>\n",
       "      <td>...</td>\n",
       "      <td>35.59</td>\n",
       "      <td>188.00</td>\n",
       "      <td>2615.0</td>\n",
       "      <td>0.1401</td>\n",
       "      <td>0.26000</td>\n",
       "      <td>0.31550</td>\n",
       "      <td>0.20090</td>\n",
       "      <td>0.2822</td>\n",
       "      <td>0.07526</td>\n",
       "      <td>NaN</td>\n",
       "    </tr>\n",
       "    <tr>\n",
       "      <th>69</th>\n",
       "      <td>859487</td>\n",
       "      <td>B</td>\n",
       "      <td>12.78</td>\n",
       "      <td>16.49</td>\n",
       "      <td>81.37</td>\n",
       "      <td>502.5</td>\n",
       "      <td>0.09831</td>\n",
       "      <td>0.05234</td>\n",
       "      <td>0.03653</td>\n",
       "      <td>0.02864</td>\n",
       "      <td>...</td>\n",
       "      <td>19.76</td>\n",
       "      <td>85.67</td>\n",
       "      <td>554.9</td>\n",
       "      <td>0.1296</td>\n",
       "      <td>0.07061</td>\n",
       "      <td>0.10390</td>\n",
       "      <td>0.05882</td>\n",
       "      <td>0.2383</td>\n",
       "      <td>0.06410</td>\n",
       "      <td>NaN</td>\n",
       "    </tr>\n",
       "    <tr>\n",
       "      <th>396</th>\n",
       "      <td>90401601</td>\n",
       "      <td>B</td>\n",
       "      <td>13.51</td>\n",
       "      <td>18.89</td>\n",
       "      <td>88.10</td>\n",
       "      <td>558.1</td>\n",
       "      <td>0.10590</td>\n",
       "      <td>0.11470</td>\n",
       "      <td>0.08580</td>\n",
       "      <td>0.05381</td>\n",
       "      <td>...</td>\n",
       "      <td>27.20</td>\n",
       "      <td>97.33</td>\n",
       "      <td>675.2</td>\n",
       "      <td>0.1428</td>\n",
       "      <td>0.25700</td>\n",
       "      <td>0.34380</td>\n",
       "      <td>0.14530</td>\n",
       "      <td>0.2666</td>\n",
       "      <td>0.07686</td>\n",
       "      <td>NaN</td>\n",
       "    </tr>\n",
       "  </tbody>\n",
       "</table>\n",
       "<p>10 rows × 33 columns</p>\n",
       "</div>"
      ],
      "text/plain": [
       "           id diagnosis  radius_mean  texture_mean  perimeter_mean  area_mean  \\\n",
       "294    891716         B        12.72         13.78           81.78      492.1   \n",
       "209   8810436         B        15.27         12.91           98.17      725.5   \n",
       "0      842302         M        17.99         10.38          122.80     1001.0   \n",
       "229    881861         M        12.83         22.33           85.26      503.2   \n",
       "351    899667         M        15.75         19.22          107.10      758.6   \n",
       "518    917062         B        12.88         18.22           84.45      493.1   \n",
       "92     861853         B        13.27         14.76           84.74      551.7   \n",
       "23     851509         M        21.16         23.04          137.20     1404.0   \n",
       "69     859487         B        12.78         16.49           81.37      502.5   \n",
       "396  90401601         B        13.51         18.89           88.10      558.1   \n",
       "\n",
       "     smoothness_mean  compactness_mean  concavity_mean  concave points_mean  \\\n",
       "294          0.09667           0.08393         0.01288              0.01924   \n",
       "209          0.08182           0.06230         0.05892              0.03157   \n",
       "0            0.11840           0.27760         0.30010              0.14710   \n",
       "229          0.10880           0.17990         0.16950              0.06861   \n",
       "351          0.12430           0.23640         0.29140              0.12420   \n",
       "518          0.12180           0.16610         0.04825              0.05303   \n",
       "92           0.07355           0.05055         0.03261              0.02648   \n",
       "23           0.09428           0.10220         0.10970              0.08632   \n",
       "69           0.09831           0.05234         0.03653              0.02864   \n",
       "396          0.10590           0.11470         0.08580              0.05381   \n",
       "\n",
       "     ...  texture_worst  perimeter_worst  area_worst  smoothness_worst  \\\n",
       "294  ...          17.48            88.54       553.7            0.1298   \n",
       "209  ...          15.92           113.70       932.7            0.1222   \n",
       "0    ...          17.33           184.60      2019.0            0.1622   \n",
       "229  ...          30.15           105.30       706.0            0.1777   \n",
       "351  ...          24.17           119.40       915.3            0.1550   \n",
       "518  ...          24.37            99.31       674.7            0.1456   \n",
       "92   ...          22.35           104.50       830.6            0.1006   \n",
       "23   ...          35.59           188.00      2615.0            0.1401   \n",
       "69   ...          19.76            85.67       554.9            0.1296   \n",
       "396  ...          27.20            97.33       675.2            0.1428   \n",
       "\n",
       "     compactness_worst  concavity_worst  concave points_worst  symmetry_worst  \\\n",
       "294            0.14720          0.05233               0.06343          0.2369   \n",
       "209            0.21860          0.29620               0.10350          0.2320   \n",
       "0              0.66560          0.71190               0.26540          0.4601   \n",
       "229            0.53430          0.62820               0.19770          0.3407   \n",
       "351            0.50460          0.68720               0.21350          0.4245   \n",
       "518            0.29610          0.12460               0.10960          0.2582   \n",
       "92             0.12380          0.13500               0.10010          0.2027   \n",
       "23             0.26000          0.31550               0.20090          0.2822   \n",
       "69             0.07061          0.10390               0.05882          0.2383   \n",
       "396            0.25700          0.34380               0.14530          0.2666   \n",
       "\n",
       "     fractal_dimension_worst  Unnamed: 32  \n",
       "294                  0.06922          NaN  \n",
       "209                  0.07474          NaN  \n",
       "0                    0.11890          NaN  \n",
       "229                  0.12430          NaN  \n",
       "351                  0.10500          NaN  \n",
       "518                  0.08893          NaN  \n",
       "92                   0.06206          NaN  \n",
       "23                   0.07526          NaN  \n",
       "69                   0.06410          NaN  \n",
       "396                  0.07686          NaN  \n",
       "\n",
       "[10 rows x 33 columns]"
      ]
     },
     "execution_count": 60,
     "metadata": {},
     "output_type": "execute_result"
    }
   ],
   "source": [
    "df = pd.read_csv(\"datasets/wbc.csv\")\n",
    "df.sample(10)"
   ]
  },
  {
   "cell_type": "code",
   "execution_count": 63,
   "id": "4115a83e",
   "metadata": {
    "ExecuteTime": {
     "end_time": "2021-09-23T18:18:43.777429Z",
     "start_time": "2021-09-23T18:18:43.772376Z"
    },
    "hidden": true
   },
   "outputs": [],
   "source": [
    "target = \"diagnosis\"\n",
    "df[target] = df[target].astype(\"category\").cat.codes\n",
    "y = df[target]\n",
    "X = df.drop(target, axis=1)[[\"radius_mean\", \"concave points_mean\"]]  # .to_numpy()\n",
    "\n",
    "X_train, X_test, y_train, y_test = train_test_split(\n",
    "    X, y, test_size=0.2, stratify=y, random_state=1\n",
    ")"
   ]
  },
  {
   "cell_type": "markdown",
   "id": "b29099bd",
   "metadata": {
    "hidden": true
   },
   "source": [
    "### Decision Tree"
   ]
  },
  {
   "cell_type": "code",
   "execution_count": 64,
   "id": "809b0c95",
   "metadata": {
    "ExecuteTime": {
     "end_time": "2021-09-23T18:18:44.547315Z",
     "start_time": "2021-09-23T18:18:44.539112Z"
    },
    "hidden": true
   },
   "outputs": [
    {
     "name": "stdout",
     "output_type": "stream",
     "text": [
      "Accuracy achieved by using entropy:  0.8859649122807017\n",
      "Accuracy achieved by using the gini index:  0.9210526315789473\n"
     ]
    }
   ],
   "source": [
    "# Instantiate dt_entropy, set 'entropy' as the information criterion\n",
    "dt_gini = DecisionTreeClassifier(max_depth=8, criterion=\"gini\", random_state=1)\n",
    "dt_entropy = DecisionTreeClassifier(max_depth=8, criterion=\"entropy\", random_state=1)\n",
    "\n",
    "# Fit dt_entropy to the training set\n",
    "dt_gini.fit(X_train, y_train)\n",
    "dt_entropy.fit(X_train, y_train)\n",
    "\n",
    "# Use dt_entropy to predict test set labels\n",
    "y_pred = dt_gini.predict(X_test)\n",
    "accuracy_gini = accuracy_score(y_test, y_pred)\n",
    "y_pred = dt_entropy.predict(X_test)\n",
    "accuracy_entropy = accuracy_score(y_test, y_pred)\n",
    "\n",
    "# Print accuracy\n",
    "print(\"Accuracy achieved by using entropy: \", accuracy_entropy)\n",
    "print(\"Accuracy achieved by using the gini index: \", accuracy_gini)"
   ]
  },
  {
   "cell_type": "code",
   "execution_count": 65,
   "id": "4e18d3a6",
   "metadata": {
    "ExecuteTime": {
     "end_time": "2021-09-23T18:18:47.157873Z",
     "start_time": "2021-09-23T18:18:46.180623Z"
    },
    "hidden": true
   },
   "outputs": [
    {
     "name": "stdout",
     "output_type": "stream",
     "text": [
      "CV tuned params: {'criterion': 'entropy'}\n",
      "CV best accuracy: 0.8967032967032967\n",
      "Sample predictions: [1 0 0 1 0]\n",
      "Test set accuracy: 0.8947368421052632\n"
     ]
    }
   ],
   "source": [
    "# Instantiate a DecisionTreeClassifier 'dt' with a maximum depth of 6\n",
    "dt = DecisionTreeClassifier(max_depth=6, random_state=1)\n",
    "\n",
    "# Setup the hyperparameter grid\n",
    "param_grid = {\"criterion\": [\"gini\", \"entropy\"]}\n",
    "\n",
    "# Instantiate the GridSearchCV object: logreg_cv\n",
    "dt_cv = GridSearchCV(dt, param_grid, n_jobs=-1)\n",
    "\n",
    "# Fit it to the data\n",
    "dt_cv.fit(X_train, y_train)\n",
    "\n",
    "# Print the tuned parameters and score\n",
    "print(f\"CV tuned params: {dt_cv.best_params_}\")\n",
    "print(f\"CV best accuracy: {dt_cv.best_score_}\")\n",
    "\n",
    "# Predict test set labels\n",
    "y_pred = dt_cv.predict(X_test)\n",
    "print(f\"Sample predictions: {y_pred[0:5]}\")\n",
    "\n",
    "# Compute test set accuracy\n",
    "acc = accuracy_score(y_test, y_pred)\n",
    "print(f\"Test set accuracy: {acc}\")"
   ]
  },
  {
   "cell_type": "markdown",
   "id": "3963dcf0",
   "metadata": {
    "hidden": true
   },
   "source": [
    "### Logistic Regression"
   ]
  },
  {
   "cell_type": "code",
   "execution_count": 43,
   "id": "3ebac25c",
   "metadata": {
    "ExecuteTime": {
     "end_time": "2021-09-21T22:56:55.253567Z",
     "start_time": "2021-09-21T22:56:54.880967Z"
    },
    "hidden": true
   },
   "outputs": [
    {
     "data": {
      "image/png": "[encoded data removed]",
      "text/plain": [
       "<Figure size 864x576 with 2 Axes>"
      ]
     },
     "metadata": {
      "needs_background": "light"
     },
     "output_type": "display_data"
    }
   ],
   "source": [
    "# Instatiate logreg\n",
    "logreg = LogisticRegression(random_state=1)\n",
    "\n",
    "# Fit logreg to the training set\n",
    "logreg.fit(X_train, y_train)\n",
    "\n",
    "# Define a list called clfs containing the two classifiers logreg and dt\n",
    "clfs = [logreg, dt]\n",
    "\n",
    "# Review the decision regions of the two classifiers\n",
    "plot_labeled_decision_regions(X_test, y_test, clfs)"
   ]
  },
  {
   "cell_type": "markdown",
   "id": "022076cd",
   "metadata": {
    "hidden": true
   },
   "source": [
    "## Auto MPG (Regression)"
   ]
  },
  {
   "cell_type": "markdown",
   "id": "0906187a",
   "metadata": {
    "hidden": true
   },
   "source": [
    "### Data"
   ]
  },
  {
   "cell_type": "code",
   "execution_count": 224,
   "id": "22d0e4b0",
   "metadata": {
    "ExecuteTime": {
     "end_time": "2021-09-24T18:18:56.446734Z",
     "start_time": "2021-09-24T18:18:56.427623Z"
    },
    "hidden": true
   },
   "outputs": [
    {
     "data": {
      "text/html": [
       "<div>\n",
       "<style scoped>\n",
       "    .dataframe tbody tr th:only-of-type {\n",
       "        vertical-align: middle;\n",
       "    }\n",
       "\n",
       "    .dataframe tbody tr th {\n",
       "        vertical-align: top;\n",
       "    }\n",
       "\n",
       "    .dataframe thead th {\n",
       "        text-align: right;\n",
       "    }\n",
       "</style>\n",
       "<table border=\"1\" class=\"dataframe\">\n",
       "  <thead>\n",
       "    <tr style=\"text-align: right;\">\n",
       "      <th></th>\n",
       "      <th>mpg</th>\n",
       "      <th>displ</th>\n",
       "      <th>hp</th>\n",
       "      <th>weight</th>\n",
       "      <th>accel</th>\n",
       "      <th>origin</th>\n",
       "      <th>size</th>\n",
       "    </tr>\n",
       "  </thead>\n",
       "  <tbody>\n",
       "    <tr>\n",
       "      <th>224</th>\n",
       "      <td>34.5</td>\n",
       "      <td>105.0</td>\n",
       "      <td>70</td>\n",
       "      <td>2150</td>\n",
       "      <td>14.9</td>\n",
       "      <td>US</td>\n",
       "      <td>10.0</td>\n",
       "    </tr>\n",
       "    <tr>\n",
       "      <th>90</th>\n",
       "      <td>24.5</td>\n",
       "      <td>98.0</td>\n",
       "      <td>60</td>\n",
       "      <td>2164</td>\n",
       "      <td>22.1</td>\n",
       "      <td>US</td>\n",
       "      <td>10.0</td>\n",
       "    </tr>\n",
       "    <tr>\n",
       "      <th>209</th>\n",
       "      <td>19.4</td>\n",
       "      <td>232.0</td>\n",
       "      <td>90</td>\n",
       "      <td>3210</td>\n",
       "      <td>17.2</td>\n",
       "      <td>US</td>\n",
       "      <td>15.0</td>\n",
       "    </tr>\n",
       "    <tr>\n",
       "      <th>385</th>\n",
       "      <td>20.0</td>\n",
       "      <td>156.0</td>\n",
       "      <td>122</td>\n",
       "      <td>2807</td>\n",
       "      <td>13.5</td>\n",
       "      <td>Asia</td>\n",
       "      <td>15.0</td>\n",
       "    </tr>\n",
       "    <tr>\n",
       "      <th>113</th>\n",
       "      <td>13.0</td>\n",
       "      <td>400.0</td>\n",
       "      <td>170</td>\n",
       "      <td>4746</td>\n",
       "      <td>12.0</td>\n",
       "      <td>US</td>\n",
       "      <td>20.0</td>\n",
       "    </tr>\n",
       "    <tr>\n",
       "      <th>372</th>\n",
       "      <td>10.0</td>\n",
       "      <td>307.0</td>\n",
       "      <td>200</td>\n",
       "      <td>4376</td>\n",
       "      <td>15.0</td>\n",
       "      <td>US</td>\n",
       "      <td>20.0</td>\n",
       "    </tr>\n",
       "    <tr>\n",
       "      <th>53</th>\n",
       "      <td>28.4</td>\n",
       "      <td>151.0</td>\n",
       "      <td>90</td>\n",
       "      <td>2670</td>\n",
       "      <td>16.0</td>\n",
       "      <td>US</td>\n",
       "      <td>10.0</td>\n",
       "    </tr>\n",
       "    <tr>\n",
       "      <th>122</th>\n",
       "      <td>15.0</td>\n",
       "      <td>318.0</td>\n",
       "      <td>150</td>\n",
       "      <td>3777</td>\n",
       "      <td>12.5</td>\n",
       "      <td>US</td>\n",
       "      <td>20.0</td>\n",
       "    </tr>\n",
       "    <tr>\n",
       "      <th>261</th>\n",
       "      <td>12.0</td>\n",
       "      <td>350.0</td>\n",
       "      <td>160</td>\n",
       "      <td>4456</td>\n",
       "      <td>13.5</td>\n",
       "      <td>US</td>\n",
       "      <td>20.0</td>\n",
       "    </tr>\n",
       "    <tr>\n",
       "      <th>20</th>\n",
       "      <td>19.0</td>\n",
       "      <td>225.0</td>\n",
       "      <td>95</td>\n",
       "      <td>3264</td>\n",
       "      <td>16.0</td>\n",
       "      <td>US</td>\n",
       "      <td>15.0</td>\n",
       "    </tr>\n",
       "  </tbody>\n",
       "</table>\n",
       "</div>"
      ],
      "text/plain": [
       "      mpg  displ   hp  weight  accel origin  size\n",
       "224  34.5  105.0   70    2150   14.9     US  10.0\n",
       "90   24.5   98.0   60    2164   22.1     US  10.0\n",
       "209  19.4  232.0   90    3210   17.2     US  15.0\n",
       "385  20.0  156.0  122    2807   13.5   Asia  15.0\n",
       "113  13.0  400.0  170    4746   12.0     US  20.0\n",
       "372  10.0  307.0  200    4376   15.0     US  20.0\n",
       "53   28.4  151.0   90    2670   16.0     US  10.0\n",
       "122  15.0  318.0  150    3777   12.5     US  20.0\n",
       "261  12.0  350.0  160    4456   13.5     US  20.0\n",
       "20   19.0  225.0   95    3264   16.0     US  15.0"
      ]
     },
     "execution_count": 224,
     "metadata": {},
     "output_type": "execute_result"
    }
   ],
   "source": [
    "df = pd.read_csv(\"datasets/auto.csv\")\n",
    "df.sample(10)"
   ]
  },
  {
   "cell_type": "code",
   "execution_count": 225,
   "id": "cdf0980c",
   "metadata": {
    "ExecuteTime": {
     "end_time": "2021-09-24T18:18:57.038634Z",
     "start_time": "2021-09-24T18:18:57.022195Z"
    },
    "hidden": true
   },
   "outputs": [
    {
     "data": {
      "text/html": [
       "<div>\n",
       "<style scoped>\n",
       "    .dataframe tbody tr th:only-of-type {\n",
       "        vertical-align: middle;\n",
       "    }\n",
       "\n",
       "    .dataframe tbody tr th {\n",
       "        vertical-align: top;\n",
       "    }\n",
       "\n",
       "    .dataframe thead th {\n",
       "        text-align: right;\n",
       "    }\n",
       "</style>\n",
       "<table border=\"1\" class=\"dataframe\">\n",
       "  <thead>\n",
       "    <tr style=\"text-align: right;\">\n",
       "      <th></th>\n",
       "      <th>mpg</th>\n",
       "      <th>displ</th>\n",
       "      <th>hp</th>\n",
       "      <th>weight</th>\n",
       "      <th>accel</th>\n",
       "      <th>size</th>\n",
       "      <th>origin_Asia</th>\n",
       "      <th>origin_Europe</th>\n",
       "      <th>origin_US</th>\n",
       "    </tr>\n",
       "  </thead>\n",
       "  <tbody>\n",
       "    <tr>\n",
       "      <th>161</th>\n",
       "      <td>28.0</td>\n",
       "      <td>151.0</td>\n",
       "      <td>90</td>\n",
       "      <td>2678</td>\n",
       "      <td>16.5</td>\n",
       "      <td>10.0</td>\n",
       "      <td>0</td>\n",
       "      <td>0</td>\n",
       "      <td>1</td>\n",
       "    </tr>\n",
       "    <tr>\n",
       "      <th>113</th>\n",
       "      <td>13.0</td>\n",
       "      <td>400.0</td>\n",
       "      <td>170</td>\n",
       "      <td>4746</td>\n",
       "      <td>12.0</td>\n",
       "      <td>20.0</td>\n",
       "      <td>0</td>\n",
       "      <td>0</td>\n",
       "      <td>1</td>\n",
       "    </tr>\n",
       "    <tr>\n",
       "      <th>297</th>\n",
       "      <td>16.2</td>\n",
       "      <td>163.0</td>\n",
       "      <td>133</td>\n",
       "      <td>3410</td>\n",
       "      <td>15.8</td>\n",
       "      <td>15.0</td>\n",
       "      <td>0</td>\n",
       "      <td>1</td>\n",
       "      <td>0</td>\n",
       "    </tr>\n",
       "    <tr>\n",
       "      <th>274</th>\n",
       "      <td>21.0</td>\n",
       "      <td>200.0</td>\n",
       "      <td>85</td>\n",
       "      <td>2587</td>\n",
       "      <td>16.0</td>\n",
       "      <td>15.0</td>\n",
       "      <td>0</td>\n",
       "      <td>0</td>\n",
       "      <td>1</td>\n",
       "    </tr>\n",
       "    <tr>\n",
       "      <th>318</th>\n",
       "      <td>29.0</td>\n",
       "      <td>97.0</td>\n",
       "      <td>78</td>\n",
       "      <td>1940</td>\n",
       "      <td>14.5</td>\n",
       "      <td>10.0</td>\n",
       "      <td>0</td>\n",
       "      <td>1</td>\n",
       "      <td>0</td>\n",
       "    </tr>\n",
       "    <tr>\n",
       "      <th>4</th>\n",
       "      <td>34.3</td>\n",
       "      <td>97.0</td>\n",
       "      <td>78</td>\n",
       "      <td>2188</td>\n",
       "      <td>15.8</td>\n",
       "      <td>10.0</td>\n",
       "      <td>0</td>\n",
       "      <td>1</td>\n",
       "      <td>0</td>\n",
       "    </tr>\n",
       "    <tr>\n",
       "      <th>243</th>\n",
       "      <td>29.8</td>\n",
       "      <td>134.0</td>\n",
       "      <td>90</td>\n",
       "      <td>2711</td>\n",
       "      <td>15.5</td>\n",
       "      <td>10.0</td>\n",
       "      <td>1</td>\n",
       "      <td>0</td>\n",
       "      <td>0</td>\n",
       "    </tr>\n",
       "    <tr>\n",
       "      <th>183</th>\n",
       "      <td>25.0</td>\n",
       "      <td>121.0</td>\n",
       "      <td>115</td>\n",
       "      <td>2671</td>\n",
       "      <td>13.5</td>\n",
       "      <td>10.0</td>\n",
       "      <td>0</td>\n",
       "      <td>1</td>\n",
       "      <td>0</td>\n",
       "    </tr>\n",
       "    <tr>\n",
       "      <th>220</th>\n",
       "      <td>13.0</td>\n",
       "      <td>318.0</td>\n",
       "      <td>150</td>\n",
       "      <td>3940</td>\n",
       "      <td>13.2</td>\n",
       "      <td>20.0</td>\n",
       "      <td>0</td>\n",
       "      <td>0</td>\n",
       "      <td>1</td>\n",
       "    </tr>\n",
       "    <tr>\n",
       "      <th>39</th>\n",
       "      <td>29.0</td>\n",
       "      <td>85.0</td>\n",
       "      <td>52</td>\n",
       "      <td>2035</td>\n",
       "      <td>22.2</td>\n",
       "      <td>10.0</td>\n",
       "      <td>0</td>\n",
       "      <td>0</td>\n",
       "      <td>1</td>\n",
       "    </tr>\n",
       "  </tbody>\n",
       "</table>\n",
       "</div>"
      ],
      "text/plain": [
       "      mpg  displ   hp  weight  accel  size  origin_Asia  origin_Europe  \\\n",
       "161  28.0  151.0   90    2678   16.5  10.0            0              0   \n",
       "113  13.0  400.0  170    4746   12.0  20.0            0              0   \n",
       "297  16.2  163.0  133    3410   15.8  15.0            0              1   \n",
       "274  21.0  200.0   85    2587   16.0  15.0            0              0   \n",
       "318  29.0   97.0   78    1940   14.5  10.0            0              1   \n",
       "4    34.3   97.0   78    2188   15.8  10.0            0              1   \n",
       "243  29.8  134.0   90    2711   15.5  10.0            1              0   \n",
       "183  25.0  121.0  115    2671   13.5  10.0            0              1   \n",
       "220  13.0  318.0  150    3940   13.2  20.0            0              0   \n",
       "39   29.0   85.0   52    2035   22.2  10.0            0              0   \n",
       "\n",
       "     origin_US  \n",
       "161          1  \n",
       "113          1  \n",
       "297          0  \n",
       "274          1  \n",
       "318          0  \n",
       "4            0  \n",
       "243          0  \n",
       "183          0  \n",
       "220          1  \n",
       "39           1  "
      ]
     },
     "execution_count": 225,
     "metadata": {},
     "output_type": "execute_result"
    }
   ],
   "source": [
    "df = pd.get_dummies(df)\n",
    "df.sample(10)"
   ]
  },
  {
   "cell_type": "code",
   "execution_count": 226,
   "id": "2d5df1b0",
   "metadata": {
    "ExecuteTime": {
     "end_time": "2021-09-24T18:18:57.588147Z",
     "start_time": "2021-09-24T18:18:57.584556Z"
    },
    "hidden": true
   },
   "outputs": [],
   "source": [
    "target = \"mpg\"\n",
    "y = df[target]\n",
    "X = df.drop(target, axis=1)"
   ]
  },
  {
   "cell_type": "markdown",
   "id": "14876041",
   "metadata": {
    "hidden": true
   },
   "source": [
    "### Baseline Model"
   ]
  },
  {
   "cell_type": "markdown",
   "id": "d49bc2a5",
   "metadata": {
    "hidden": true
   },
   "source": [
    "The baseline RMSE above which a model is considered to be underfitting and below which the model is considered good enough."
   ]
  },
  {
   "cell_type": "code",
   "execution_count": 227,
   "id": "2ad2241a",
   "metadata": {
    "ExecuteTime": {
     "end_time": "2021-09-24T18:19:01.423310Z",
     "start_time": "2021-09-24T18:19:01.416991Z"
    },
    "hidden": true
   },
   "outputs": [],
   "source": [
    "# keep a single feature\n",
    "X_naive = X[\"displ\"].to_numpy().reshape(-1, 1)\n",
    "X_train, X_test, y_train, y_test = train_test_split(\n",
    "    X_naive, y, test_size=0.2, random_state=3\n",
    ")\n",
    "dt = DecisionTreeRegressor(max_depth=8, min_samples_leaf=0.13, random_state=3)\n",
    "dt.fit(X_train, y_train)\n",
    "y_pred = dt.predict(X_test)\n",
    "mse_baseline = mean_squared_error(y_test, y_pred)\n",
    "rmse_baseline = np.sqrt(mse_baseline)"
   ]
  },
  {
   "cell_type": "markdown",
   "id": "45008a59",
   "metadata": {
    "hidden": true
   },
   "source": [
    "### Decision Tree"
   ]
  },
  {
   "cell_type": "code",
   "execution_count": 228,
   "id": "b44bd9bc",
   "metadata": {
    "ExecuteTime": {
     "end_time": "2021-09-24T18:19:03.024789Z",
     "start_time": "2021-09-24T18:19:02.081580Z"
    },
    "hidden": true
   },
   "outputs": [],
   "source": [
    "# Set SEED for reproducibility\n",
    "SEED = 1\n",
    "\n",
    "# Split the data into 70% train and 30% test\n",
    "X_train, X_test, y_train, y_test = train_test_split(\n",
    "    X, y, test_size=0.3, random_state=SEED\n",
    ")\n",
    "\n",
    "# Instantiate a DecisionTreeRegressor dt\n",
    "dt_cv = DecisionTreeRegressor(max_depth=4, min_samples_leaf=0.26, random_state=SEED)\n",
    "\n",
    "# Compute the array containing the 10-folds CV MSEs\n",
    "mse_cv_scores = -cross_val_score(\n",
    "    dt_cv, X_train, y_train, cv=10, scoring=\"neg_mean_squared_error\", n_jobs=-1\n",
    ")\n",
    "\n",
    "# Compute the 10-folds CV RMSE\n",
    "rmse_dt_cv = (mse_cv_scores.mean()) ** (1.0 / 2.0)"
   ]
  },
  {
   "cell_type": "code",
   "execution_count": 229,
   "id": "06da901b",
   "metadata": {
    "ExecuteTime": {
     "end_time": "2021-09-24T18:19:03.112019Z",
     "start_time": "2021-09-24T18:19:03.106415Z"
    },
    "hidden": true
   },
   "outputs": [],
   "source": [
    "# Fit dt to the training set\n",
    "dt_cv.fit(X_train, y_train)\n",
    "\n",
    "# Predict the labels of the training set\n",
    "y_pred = dt_cv.predict(X_train)\n",
    "\n",
    "# Evaluate the training set RMSE of dt\n",
    "rmse_dt_train = (mean_squared_error(y_train, y_pred)) ** (1.0 / 2.0)"
   ]
  },
  {
   "cell_type": "code",
   "execution_count": 230,
   "id": "6345f5fb",
   "metadata": {
    "ExecuteTime": {
     "end_time": "2021-09-24T18:19:03.379990Z",
     "start_time": "2021-09-24T18:19:03.376458Z"
    },
    "hidden": true
   },
   "outputs": [],
   "source": [
    "# run on test set\n",
    "y_pred = dt_cv.predict(X_test)\n",
    "rmse_dt_test = np.sqrt(mean_squared_error(y_test, y_pred))"
   ]
  },
  {
   "cell_type": "markdown",
   "id": "4b1354d3",
   "metadata": {
    "hidden": true
   },
   "source": [
    "### Random Forest"
   ]
  },
  {
   "cell_type": "code",
   "execution_count": 302,
   "id": "39a6d182",
   "metadata": {
    "ExecuteTime": {
     "end_time": "2021-09-24T18:52:21.836320Z",
     "start_time": "2021-09-24T18:52:21.461539Z"
    },
    "hidden": true
   },
   "outputs": [],
   "source": [
    "rf = RandomForestRegressor(n_estimators=400, min_samples_leaf=0.12, random_state=SEED)\n",
    "rf.fit(X_train, y_train)\n",
    "y_pred = rf.predict(X_test)\n",
    "rmse_rf_test = np.sqrt(mean_squared_error(y_test, y_pred))"
   ]
  },
  {
   "cell_type": "code",
   "execution_count": 306,
   "id": "cf37ce2d",
   "metadata": {
    "ExecuteTime": {
     "end_time": "2021-09-24T18:57:11.817108Z",
     "start_time": "2021-09-24T18:57:11.661620Z"
    },
    "hidden": true
   },
   "outputs": [
    {
     "data": {
      "image/png": "[encoded data removed]",
      "text/plain": [
       "<Figure size 1080x432 with 1 Axes>"
      ]
     },
     "metadata": {
      "needs_background": "light"
     },
     "output_type": "display_data"
    }
   ],
   "source": [
    "plot_feature_importances(X, rf)"
   ]
  },
  {
   "cell_type": "markdown",
   "id": "79024704",
   "metadata": {
    "hidden": true
   },
   "source": [
    "### Linear Regression"
   ]
  },
  {
   "cell_type": "code",
   "execution_count": 236,
   "id": "b25340ab",
   "metadata": {
    "ExecuteTime": {
     "end_time": "2021-09-24T18:23:19.442385Z",
     "start_time": "2021-09-24T18:23:19.435967Z"
    },
    "hidden": true
   },
   "outputs": [],
   "source": [
    "# linear regression for comparison\n",
    "lr = LinearRegression()\n",
    "lr.fit(X_train, y_train)\n",
    "y_pred = lr.predict(X_test)\n",
    "rmse_lr = np.sqrt(mean_squared_error(y_test, y_pred))"
   ]
  },
  {
   "cell_type": "markdown",
   "id": "1e7a9173",
   "metadata": {
    "hidden": true
   },
   "source": [
    "### Bias Variance Evaluation"
   ]
  },
  {
   "cell_type": "code",
   "execution_count": 237,
   "id": "7d1ec059",
   "metadata": {
    "ExecuteTime": {
     "end_time": "2021-09-24T18:23:48.255904Z",
     "start_time": "2021-09-24T18:23:48.251295Z"
    },
    "hidden": true
   },
   "outputs": [
    {
     "name": "stdout",
     "output_type": "stream",
     "text": [
      "Baseline: 5.040821910883998\n",
      "\n",
      "DT CV: 5.143255076652255\n",
      "DT Train: 5.151299302408305\n",
      "\n",
      "LR: 3.820965511082005\n",
      "DT Test: 4.859775831709125\n",
      "\n",
      "RF Test: 3.9783131439894097\n"
     ]
    }
   ],
   "source": [
    "print(f\"Baseline: {rmse_baseline}\")\n",
    "print()\n",
    "print(f\"DT CV: {rmse_dt_cv}\")\n",
    "print(f\"DT Train: {rmse_dt_train}\")\n",
    "print()\n",
    "print(f\"LR: {rmse_lr}\")\n",
    "print(f\"DT Test: {rmse_dt_test}\")\n",
    "print()\n",
    "print(f\"RF Test: {rmse_rf_test}\")"
   ]
  },
  {
   "cell_type": "markdown",
   "id": "3417bc94",
   "metadata": {
    "hidden": true
   },
   "source": [
    "It appears the `dt_cv` model suffers from high bias because `rmse_dt_cv` $\\approx$ `rmse_dt_train` and both scores are greater than `rmse_baseline`. Thus, the `dt_cv` model appears to be underfitting the training set since the model is too constrained to capture the nonlinear dependencies between features and labels."
   ]
  },
  {
   "cell_type": "markdown",
   "id": "ce4edde3",
   "metadata": {},
   "source": [
    "# Ensembles"
   ]
  },
  {
   "cell_type": "markdown",
   "id": "7d143975",
   "metadata": {},
   "source": [
    "## Cancer"
   ]
  },
  {
   "cell_type": "markdown",
   "id": "a76e2841",
   "metadata": {},
   "source": [
    "### Data"
   ]
  },
  {
   "cell_type": "code",
   "execution_count": 332,
   "id": "02bfeff3",
   "metadata": {
    "ExecuteTime": {
     "end_time": "2021-09-24T19:35:04.168234Z",
     "start_time": "2021-09-24T19:35:04.131004Z"
    }
   },
   "outputs": [
    {
     "data": {
      "text/html": [
       "<div>\n",
       "<style scoped>\n",
       "    .dataframe tbody tr th:only-of-type {\n",
       "        vertical-align: middle;\n",
       "    }\n",
       "\n",
       "    .dataframe tbody tr th {\n",
       "        vertical-align: top;\n",
       "    }\n",
       "\n",
       "    .dataframe thead th {\n",
       "        text-align: right;\n",
       "    }\n",
       "</style>\n",
       "<table border=\"1\" class=\"dataframe\">\n",
       "  <thead>\n",
       "    <tr style=\"text-align: right;\">\n",
       "      <th></th>\n",
       "      <th>id</th>\n",
       "      <th>diagnosis</th>\n",
       "      <th>radius_mean</th>\n",
       "      <th>texture_mean</th>\n",
       "      <th>perimeter_mean</th>\n",
       "      <th>area_mean</th>\n",
       "      <th>smoothness_mean</th>\n",
       "      <th>compactness_mean</th>\n",
       "      <th>concavity_mean</th>\n",
       "      <th>concave points_mean</th>\n",
       "      <th>...</th>\n",
       "      <th>texture_worst</th>\n",
       "      <th>perimeter_worst</th>\n",
       "      <th>area_worst</th>\n",
       "      <th>smoothness_worst</th>\n",
       "      <th>compactness_worst</th>\n",
       "      <th>concavity_worst</th>\n",
       "      <th>concave points_worst</th>\n",
       "      <th>symmetry_worst</th>\n",
       "      <th>fractal_dimension_worst</th>\n",
       "      <th>Unnamed: 32</th>\n",
       "    </tr>\n",
       "  </thead>\n",
       "  <tbody>\n",
       "    <tr>\n",
       "      <th>54</th>\n",
       "      <td>857438</td>\n",
       "      <td>M</td>\n",
       "      <td>15.10</td>\n",
       "      <td>22.02</td>\n",
       "      <td>97.26</td>\n",
       "      <td>712.8</td>\n",
       "      <td>0.09056</td>\n",
       "      <td>0.07081</td>\n",
       "      <td>0.05253</td>\n",
       "      <td>0.03334</td>\n",
       "      <td>...</td>\n",
       "      <td>31.69</td>\n",
       "      <td>117.70</td>\n",
       "      <td>1030.0</td>\n",
       "      <td>0.1389</td>\n",
       "      <td>0.2057</td>\n",
       "      <td>0.27120</td>\n",
       "      <td>0.15300</td>\n",
       "      <td>0.2675</td>\n",
       "      <td>0.07873</td>\n",
       "      <td>NaN</td>\n",
       "    </tr>\n",
       "    <tr>\n",
       "      <th>323</th>\n",
       "      <td>895100</td>\n",
       "      <td>M</td>\n",
       "      <td>20.34</td>\n",
       "      <td>21.51</td>\n",
       "      <td>135.90</td>\n",
       "      <td>1264.0</td>\n",
       "      <td>0.11700</td>\n",
       "      <td>0.18750</td>\n",
       "      <td>0.25650</td>\n",
       "      <td>0.15040</td>\n",
       "      <td>...</td>\n",
       "      <td>31.86</td>\n",
       "      <td>171.10</td>\n",
       "      <td>1938.0</td>\n",
       "      <td>0.1592</td>\n",
       "      <td>0.4492</td>\n",
       "      <td>0.53440</td>\n",
       "      <td>0.26850</td>\n",
       "      <td>0.5558</td>\n",
       "      <td>0.10240</td>\n",
       "      <td>NaN</td>\n",
       "    </tr>\n",
       "    <tr>\n",
       "      <th>418</th>\n",
       "      <td>906024</td>\n",
       "      <td>B</td>\n",
       "      <td>12.70</td>\n",
       "      <td>12.17</td>\n",
       "      <td>80.88</td>\n",
       "      <td>495.0</td>\n",
       "      <td>0.08785</td>\n",
       "      <td>0.05794</td>\n",
       "      <td>0.02360</td>\n",
       "      <td>0.02402</td>\n",
       "      <td>...</td>\n",
       "      <td>16.92</td>\n",
       "      <td>88.12</td>\n",
       "      <td>566.9</td>\n",
       "      <td>0.1314</td>\n",
       "      <td>0.1607</td>\n",
       "      <td>0.09385</td>\n",
       "      <td>0.08224</td>\n",
       "      <td>0.2775</td>\n",
       "      <td>0.09464</td>\n",
       "      <td>NaN</td>\n",
       "    </tr>\n",
       "    <tr>\n",
       "      <th>474</th>\n",
       "      <td>911391</td>\n",
       "      <td>B</td>\n",
       "      <td>10.88</td>\n",
       "      <td>15.62</td>\n",
       "      <td>70.41</td>\n",
       "      <td>358.9</td>\n",
       "      <td>0.10070</td>\n",
       "      <td>0.10690</td>\n",
       "      <td>0.05115</td>\n",
       "      <td>0.01571</td>\n",
       "      <td>...</td>\n",
       "      <td>19.35</td>\n",
       "      <td>80.78</td>\n",
       "      <td>433.1</td>\n",
       "      <td>0.1332</td>\n",
       "      <td>0.3898</td>\n",
       "      <td>0.33650</td>\n",
       "      <td>0.07966</td>\n",
       "      <td>0.2581</td>\n",
       "      <td>0.10800</td>\n",
       "      <td>NaN</td>\n",
       "    </tr>\n",
       "    <tr>\n",
       "      <th>134</th>\n",
       "      <td>867739</td>\n",
       "      <td>M</td>\n",
       "      <td>18.45</td>\n",
       "      <td>21.91</td>\n",
       "      <td>120.20</td>\n",
       "      <td>1075.0</td>\n",
       "      <td>0.09430</td>\n",
       "      <td>0.09709</td>\n",
       "      <td>0.11530</td>\n",
       "      <td>0.06847</td>\n",
       "      <td>...</td>\n",
       "      <td>31.39</td>\n",
       "      <td>145.60</td>\n",
       "      <td>1590.0</td>\n",
       "      <td>0.1465</td>\n",
       "      <td>0.2275</td>\n",
       "      <td>0.39650</td>\n",
       "      <td>0.13790</td>\n",
       "      <td>0.3109</td>\n",
       "      <td>0.07610</td>\n",
       "      <td>NaN</td>\n",
       "    </tr>\n",
       "    <tr>\n",
       "      <th>239</th>\n",
       "      <td>88330202</td>\n",
       "      <td>M</td>\n",
       "      <td>17.46</td>\n",
       "      <td>39.28</td>\n",
       "      <td>113.40</td>\n",
       "      <td>920.6</td>\n",
       "      <td>0.09812</td>\n",
       "      <td>0.12980</td>\n",
       "      <td>0.14170</td>\n",
       "      <td>0.08811</td>\n",
       "      <td>...</td>\n",
       "      <td>44.87</td>\n",
       "      <td>141.20</td>\n",
       "      <td>1408.0</td>\n",
       "      <td>0.1365</td>\n",
       "      <td>0.3735</td>\n",
       "      <td>0.32410</td>\n",
       "      <td>0.20660</td>\n",
       "      <td>0.2853</td>\n",
       "      <td>0.08496</td>\n",
       "      <td>NaN</td>\n",
       "    </tr>\n",
       "    <tr>\n",
       "      <th>36</th>\n",
       "      <td>854268</td>\n",
       "      <td>M</td>\n",
       "      <td>14.25</td>\n",
       "      <td>21.72</td>\n",
       "      <td>93.63</td>\n",
       "      <td>633.0</td>\n",
       "      <td>0.09823</td>\n",
       "      <td>0.10980</td>\n",
       "      <td>0.13190</td>\n",
       "      <td>0.05598</td>\n",
       "      <td>...</td>\n",
       "      <td>30.36</td>\n",
       "      <td>116.20</td>\n",
       "      <td>799.6</td>\n",
       "      <td>0.1446</td>\n",
       "      <td>0.4238</td>\n",
       "      <td>0.51860</td>\n",
       "      <td>0.14470</td>\n",
       "      <td>0.3591</td>\n",
       "      <td>0.10140</td>\n",
       "      <td>NaN</td>\n",
       "    </tr>\n",
       "    <tr>\n",
       "      <th>317</th>\n",
       "      <td>894326</td>\n",
       "      <td>M</td>\n",
       "      <td>18.22</td>\n",
       "      <td>18.87</td>\n",
       "      <td>118.70</td>\n",
       "      <td>1027.0</td>\n",
       "      <td>0.09746</td>\n",
       "      <td>0.11170</td>\n",
       "      <td>0.11300</td>\n",
       "      <td>0.07950</td>\n",
       "      <td>...</td>\n",
       "      <td>25.00</td>\n",
       "      <td>140.90</td>\n",
       "      <td>1485.0</td>\n",
       "      <td>0.1434</td>\n",
       "      <td>0.2763</td>\n",
       "      <td>0.38530</td>\n",
       "      <td>0.17760</td>\n",
       "      <td>0.2812</td>\n",
       "      <td>0.08198</td>\n",
       "      <td>NaN</td>\n",
       "    </tr>\n",
       "    <tr>\n",
       "      <th>214</th>\n",
       "      <td>8810955</td>\n",
       "      <td>M</td>\n",
       "      <td>14.19</td>\n",
       "      <td>23.81</td>\n",
       "      <td>92.87</td>\n",
       "      <td>610.7</td>\n",
       "      <td>0.09463</td>\n",
       "      <td>0.13060</td>\n",
       "      <td>0.11150</td>\n",
       "      <td>0.06462</td>\n",
       "      <td>...</td>\n",
       "      <td>34.85</td>\n",
       "      <td>115.00</td>\n",
       "      <td>811.3</td>\n",
       "      <td>0.1559</td>\n",
       "      <td>0.4059</td>\n",
       "      <td>0.37440</td>\n",
       "      <td>0.17720</td>\n",
       "      <td>0.4724</td>\n",
       "      <td>0.10260</td>\n",
       "      <td>NaN</td>\n",
       "    </tr>\n",
       "    <tr>\n",
       "      <th>495</th>\n",
       "      <td>914333</td>\n",
       "      <td>B</td>\n",
       "      <td>14.87</td>\n",
       "      <td>20.21</td>\n",
       "      <td>96.12</td>\n",
       "      <td>680.9</td>\n",
       "      <td>0.09587</td>\n",
       "      <td>0.08345</td>\n",
       "      <td>0.06824</td>\n",
       "      <td>0.04951</td>\n",
       "      <td>...</td>\n",
       "      <td>28.48</td>\n",
       "      <td>103.90</td>\n",
       "      <td>783.6</td>\n",
       "      <td>0.1216</td>\n",
       "      <td>0.1388</td>\n",
       "      <td>0.17000</td>\n",
       "      <td>0.10170</td>\n",
       "      <td>0.2369</td>\n",
       "      <td>0.06599</td>\n",
       "      <td>NaN</td>\n",
       "    </tr>\n",
       "  </tbody>\n",
       "</table>\n",
       "<p>10 rows × 33 columns</p>\n",
       "</div>"
      ],
      "text/plain": [
       "           id diagnosis  radius_mean  texture_mean  perimeter_mean  area_mean  \\\n",
       "54     857438         M        15.10         22.02           97.26      712.8   \n",
       "323    895100         M        20.34         21.51          135.90     1264.0   \n",
       "418    906024         B        12.70         12.17           80.88      495.0   \n",
       "474    911391         B        10.88         15.62           70.41      358.9   \n",
       "134    867739         M        18.45         21.91          120.20     1075.0   \n",
       "239  88330202         M        17.46         39.28          113.40      920.6   \n",
       "36     854268         M        14.25         21.72           93.63      633.0   \n",
       "317    894326         M        18.22         18.87          118.70     1027.0   \n",
       "214   8810955         M        14.19         23.81           92.87      610.7   \n",
       "495    914333         B        14.87         20.21           96.12      680.9   \n",
       "\n",
       "     smoothness_mean  compactness_mean  concavity_mean  concave points_mean  \\\n",
       "54           0.09056           0.07081         0.05253              0.03334   \n",
       "323          0.11700           0.18750         0.25650              0.15040   \n",
       "418          0.08785           0.05794         0.02360              0.02402   \n",
       "474          0.10070           0.10690         0.05115              0.01571   \n",
       "134          0.09430           0.09709         0.11530              0.06847   \n",
       "239          0.09812           0.12980         0.14170              0.08811   \n",
       "36           0.09823           0.10980         0.13190              0.05598   \n",
       "317          0.09746           0.11170         0.11300              0.07950   \n",
       "214          0.09463           0.13060         0.11150              0.06462   \n",
       "495          0.09587           0.08345         0.06824              0.04951   \n",
       "\n",
       "     ...  texture_worst  perimeter_worst  area_worst  smoothness_worst  \\\n",
       "54   ...          31.69           117.70      1030.0            0.1389   \n",
       "323  ...          31.86           171.10      1938.0            0.1592   \n",
       "418  ...          16.92            88.12       566.9            0.1314   \n",
       "474  ...          19.35            80.78       433.1            0.1332   \n",
       "134  ...          31.39           145.60      1590.0            0.1465   \n",
       "239  ...          44.87           141.20      1408.0            0.1365   \n",
       "36   ...          30.36           116.20       799.6            0.1446   \n",
       "317  ...          25.00           140.90      1485.0            0.1434   \n",
       "214  ...          34.85           115.00       811.3            0.1559   \n",
       "495  ...          28.48           103.90       783.6            0.1216   \n",
       "\n",
       "     compactness_worst  concavity_worst  concave points_worst  symmetry_worst  \\\n",
       "54              0.2057          0.27120               0.15300          0.2675   \n",
       "323             0.4492          0.53440               0.26850          0.5558   \n",
       "418             0.1607          0.09385               0.08224          0.2775   \n",
       "474             0.3898          0.33650               0.07966          0.2581   \n",
       "134             0.2275          0.39650               0.13790          0.3109   \n",
       "239             0.3735          0.32410               0.20660          0.2853   \n",
       "36              0.4238          0.51860               0.14470          0.3591   \n",
       "317             0.2763          0.38530               0.17760          0.2812   \n",
       "214             0.4059          0.37440               0.17720          0.4724   \n",
       "495             0.1388          0.17000               0.10170          0.2369   \n",
       "\n",
       "     fractal_dimension_worst  Unnamed: 32  \n",
       "54                   0.07873          NaN  \n",
       "323                  0.10240          NaN  \n",
       "418                  0.09464          NaN  \n",
       "474                  0.10800          NaN  \n",
       "134                  0.07610          NaN  \n",
       "239                  0.08496          NaN  \n",
       "36                   0.10140          NaN  \n",
       "317                  0.08198          NaN  \n",
       "214                  0.10260          NaN  \n",
       "495                  0.06599          NaN  \n",
       "\n",
       "[10 rows x 33 columns]"
      ]
     },
     "execution_count": 332,
     "metadata": {},
     "output_type": "execute_result"
    }
   ],
   "source": [
    "df = pd.read_csv(\"datasets/wbc.csv\")\n",
    "df.sample(10)"
   ]
  },
  {
   "cell_type": "code",
   "execution_count": 333,
   "id": "cce7fe7a",
   "metadata": {
    "ExecuteTime": {
     "end_time": "2021-09-24T19:35:04.484353Z",
     "start_time": "2021-09-24T19:35:04.478111Z"
    }
   },
   "outputs": [],
   "source": [
    "target = \"diagnosis\"\n",
    "df[target] = df[target].astype(\"category\").cat.codes\n",
    "y = df[target]\n",
    "X = df.drop(target, axis=1)[[\"radius_mean\", \"concave points_mean\"]]\n",
    "X_train, X_test, y_train, y_test = train_test_split(\n",
    "    X, y, test_size=0.3, stratify=y, random_state=1\n",
    ")"
   ]
  },
  {
   "cell_type": "markdown",
   "id": "c62bd417",
   "metadata": {},
   "source": [
    "### Voting"
   ]
  },
  {
   "cell_type": "code",
   "execution_count": 334,
   "id": "3580826f",
   "metadata": {
    "ExecuteTime": {
     "end_time": "2021-09-24T19:35:05.159708Z",
     "start_time": "2021-09-24T19:35:05.098514Z"
    }
   },
   "outputs": [
    {
     "name": "stdout",
     "output_type": "stream",
     "text": [
      "LogisticRegression   :: 0.877\n",
      "KNN                  :: 0.865\n",
      "DecisionTree         :: 0.912\n",
      "Voting :: 0.877\n"
     ]
    }
   ],
   "source": [
    "lr = LogisticRegression(random_state=42)\n",
    "knn = KNeighborsClassifier()\n",
    "dt = DecisionTreeClassifier(random_state=42)\n",
    "classifiers = [(\"LogisticRegression\", lr), (\"KNN\", knn), (\"DecisionTree\", dt)]\n",
    "\n",
    "for clf_name, clf in classifiers:\n",
    "    clf.fit(X_train, y_train)\n",
    "    y_pred = clf.predict(X_test)\n",
    "    accuracy = accuracy_score(y_test, y_pred)\n",
    "    print(f\"{clf_name:20s} :: {accuracy:0.3f}\")\n",
    "\n",
    "vc = VotingClassifier(estimators=classifiers)\n",
    "vc.fit(X_train, y_train)\n",
    "y_pred = vc.predict(X_test)\n",
    "accuracy = accuracy_score(y_test, y_pred)\n",
    "print(f\"Voting :: {accuracy:0.3f}\")"
   ]
  },
  {
   "cell_type": "markdown",
   "id": "9b03d0f4",
   "metadata": {},
   "source": [
    "### Bagging w/ OOB"
   ]
  },
  {
   "cell_type": "code",
   "execution_count": 335,
   "id": "8a64c1a3",
   "metadata": {
    "ExecuteTime": {
     "end_time": "2021-09-24T19:35:06.755148Z",
     "start_time": "2021-09-24T19:35:05.673693Z"
    }
   },
   "outputs": [
    {
     "name": "stdout",
     "output_type": "stream",
     "text": [
      "Bagging Classifier Test :: 0.877\n",
      "Bagging Classifier OOB :: 0.917\n"
     ]
    }
   ],
   "source": [
    "dt = DecisionTreeClassifier(max_depth=4, min_samples_leaf=0.16, random_state=1)\n",
    "bc = BaggingClassifier(base_estimator=dt, oob_score=True, n_estimators=300, n_jobs=-1)\n",
    "bc.fit(X_train, y_train)\n",
    "y_pred = bc.predict(X_test)\n",
    "accuracy = accuracy_score(y_test, y_pred)\n",
    "accuracy_oob = bc.oob_score_\n",
    "print(f\"Bagging Classifier Test :: {accuracy:0.3f}\")\n",
    "print(f\"Bagging Classifier OOB :: {accuracy_oob:0.3f}\")"
   ]
  },
  {
   "cell_type": "markdown",
   "id": "3d71279c",
   "metadata": {},
   "source": [
    "### Boosting"
   ]
  },
  {
   "cell_type": "code",
   "execution_count": 349,
   "id": "ee38e064",
   "metadata": {
    "ExecuteTime": {
     "end_time": "2021-09-24T19:42:34.499575Z",
     "start_time": "2021-09-24T19:42:34.379678Z"
    }
   },
   "outputs": [
    {
     "name": "stdout",
     "output_type": "stream",
     "text": [
      "ROC score: 0.9575788551401869\n"
     ]
    }
   ],
   "source": [
    "# decision stump\n",
    "dt = DecisionTreeClassifier(max_depth=1, random_state=1)\n",
    "\n",
    "# adaboost the stumps\n",
    "adb_clf = AdaBoostClassifier(base_estimator=dt, n_estimators=100)\n",
    "\n",
    "# fit\n",
    "adb_clf.fit(X_train, y_train)\n",
    "y_pred_proba = adb_clf.predict_proba(X_test)[:, 1]\n",
    "score = roc_auc_score(y_test, y_pred_proba)\n",
    "print(f\"ROC score: {score}\")"
   ]
  },
  {
   "cell_type": "code",
   "execution_count": 346,
   "id": "d9651af4",
   "metadata": {
    "ExecuteTime": {
     "end_time": "2021-09-24T19:41:08.553414Z",
     "start_time": "2021-09-24T19:41:08.401810Z"
    }
   },
   "outputs": [
    {
     "data": {
      "image/png": "[encoded data removed]",
      "text/plain": [
       "<Figure size 1080x432 with 1 Axes>"
      ]
     },
     "metadata": {
      "needs_background": "light"
     },
     "output_type": "display_data"
    }
   ],
   "source": [
    "# Generate ROC curve values: fpr, tpr, thresholds\n",
    "fpr, tpr, thresholds = roc_curve(y_test, y_pred_proba)\n",
    "\n",
    "# Plot ROC curve\n",
    "plt.plot([0, 1], [0, 1], \"k--\")\n",
    "plt.plot(fpr, tpr)\n",
    "plt.xlabel(\"False Positive Rate\")\n",
    "plt.ylabel(\"True Positive Rate\")\n",
    "plt.title(\"ROC Curve\")\n",
    "plt.show()"
   ]
  },
  {
   "cell_type": "code",
   "execution_count": 348,
   "id": "a06147fd",
   "metadata": {
    "ExecuteTime": {
     "end_time": "2021-09-24T19:41:51.290786Z",
     "start_time": "2021-09-24T19:41:51.181102Z"
    }
   },
   "outputs": [
    {
     "data": {
      "image/png": "[encoded data removed]",
      "text/plain": [
       "<Figure size 1080x432 with 1 Axes>"
      ]
     },
     "metadata": {
      "needs_background": "light"
     },
     "output_type": "display_data"
    }
   ],
   "source": [
    "disp = plot_precision_recall_curve(logreg, X_test, y_test)"
   ]
  },
  {
   "cell_type": "markdown",
   "id": "53b992a8",
   "metadata": {},
   "source": [
    "## Liver Disease"
   ]
  },
  {
   "cell_type": "markdown",
   "id": "8752017d",
   "metadata": {},
   "source": [
    "### Data"
   ]
  },
  {
   "cell_type": "code",
   "execution_count": 350,
   "id": "f03f8204",
   "metadata": {
    "ExecuteTime": {
     "end_time": "2021-09-24T19:56:42.975669Z",
     "start_time": "2021-09-24T19:56:42.957491Z"
    }
   },
   "outputs": [
    {
     "data": {
      "text/html": [
       "<div>\n",
       "<style scoped>\n",
       "    .dataframe tbody tr th:only-of-type {\n",
       "        vertical-align: middle;\n",
       "    }\n",
       "\n",
       "    .dataframe tbody tr th {\n",
       "        vertical-align: top;\n",
       "    }\n",
       "\n",
       "    .dataframe thead th {\n",
       "        text-align: right;\n",
       "    }\n",
       "</style>\n",
       "<table border=\"1\" class=\"dataframe\">\n",
       "  <thead>\n",
       "    <tr style=\"text-align: right;\">\n",
       "      <th></th>\n",
       "      <th>Unnamed: 0</th>\n",
       "      <th>Age_std</th>\n",
       "      <th>Total_Bilirubin_std</th>\n",
       "      <th>Direct_Bilirubin_std</th>\n",
       "      <th>Alkaline_Phosphotase_std</th>\n",
       "      <th>Alamine_Aminotransferase_std</th>\n",
       "      <th>Aspartate_Aminotransferase_std</th>\n",
       "      <th>Total_Protiens_std</th>\n",
       "      <th>Albumin_std</th>\n",
       "      <th>Albumin_and_Globulin_Ratio_std</th>\n",
       "      <th>Is_male_std</th>\n",
       "      <th>Liver_disease</th>\n",
       "    </tr>\n",
       "  </thead>\n",
       "  <tbody>\n",
       "    <tr>\n",
       "      <th>133</th>\n",
       "      <td>133</td>\n",
       "      <td>0.507017</td>\n",
       "      <td>-0.388178</td>\n",
       "      <td>-0.388807</td>\n",
       "      <td>-0.219297</td>\n",
       "      <td>-0.350369</td>\n",
       "      <td>-0.332923</td>\n",
       "      <td>0.109170</td>\n",
       "      <td>-0.300492</td>\n",
       "      <td>-0.460559</td>\n",
       "      <td>1</td>\n",
       "      <td>1</td>\n",
       "    </tr>\n",
       "    <tr>\n",
       "      <th>523</th>\n",
       "      <td>527</td>\n",
       "      <td>-0.295067</td>\n",
       "      <td>0.029672</td>\n",
       "      <td>0.037623</td>\n",
       "      <td>0.027260</td>\n",
       "      <td>-0.071718</td>\n",
       "      <td>0.309343</td>\n",
       "      <td>0.570550</td>\n",
       "      <td>0.329431</td>\n",
       "      <td>-0.147390</td>\n",
       "      <td>1</td>\n",
       "      <td>1</td>\n",
       "    </tr>\n",
       "    <tr>\n",
       "      <th>187</th>\n",
       "      <td>187</td>\n",
       "      <td>0.938909</td>\n",
       "      <td>-0.195324</td>\n",
       "      <td>-0.175592</td>\n",
       "      <td>-0.412433</td>\n",
       "      <td>0.179615</td>\n",
       "      <td>0.471636</td>\n",
       "      <td>-2.290010</td>\n",
       "      <td>-1.938290</td>\n",
       "      <td>-1.086898</td>\n",
       "      <td>1</td>\n",
       "      <td>1</td>\n",
       "    </tr>\n",
       "    <tr>\n",
       "      <th>271</th>\n",
       "      <td>274</td>\n",
       "      <td>-0.726959</td>\n",
       "      <td>-0.243537</td>\n",
       "      <td>-0.246664</td>\n",
       "      <td>-0.391887</td>\n",
       "      <td>-0.306659</td>\n",
       "      <td>-0.305299</td>\n",
       "      <td>1.401035</td>\n",
       "      <td>1.085338</td>\n",
       "      <td>0.165780</td>\n",
       "      <td>1</td>\n",
       "      <td>1</td>\n",
       "    </tr>\n",
       "    <tr>\n",
       "      <th>459</th>\n",
       "      <td>463</td>\n",
       "      <td>-1.220549</td>\n",
       "      <td>-0.404249</td>\n",
       "      <td>-0.495414</td>\n",
       "      <td>-0.663099</td>\n",
       "      <td>-0.317586</td>\n",
       "      <td>-0.236238</td>\n",
       "      <td>1.401035</td>\n",
       "      <td>1.085338</td>\n",
       "      <td>0.165780</td>\n",
       "      <td>1</td>\n",
       "      <td>1</td>\n",
       "    </tr>\n",
       "    <tr>\n",
       "      <th>448</th>\n",
       "      <td>452</td>\n",
       "      <td>0.815511</td>\n",
       "      <td>-0.388178</td>\n",
       "      <td>-0.459878</td>\n",
       "      <td>3.322906</td>\n",
       "      <td>-0.306659</td>\n",
       "      <td>-0.256957</td>\n",
       "      <td>0.570550</td>\n",
       "      <td>0.455416</td>\n",
       "      <td>-0.147390</td>\n",
       "      <td>1</td>\n",
       "      <td>1</td>\n",
       "    </tr>\n",
       "    <tr>\n",
       "      <th>347</th>\n",
       "      <td>351</td>\n",
       "      <td>-0.480164</td>\n",
       "      <td>-0.323893</td>\n",
       "      <td>-0.388807</td>\n",
       "      <td>-0.395996</td>\n",
       "      <td>-0.219239</td>\n",
       "      <td>-0.250050</td>\n",
       "      <td>-1.090420</td>\n",
       "      <td>-1.308368</td>\n",
       "      <td>-1.086898</td>\n",
       "      <td>1</td>\n",
       "      <td>1</td>\n",
       "    </tr>\n",
       "    <tr>\n",
       "      <th>289</th>\n",
       "      <td>292</td>\n",
       "      <td>0.013427</td>\n",
       "      <td>-0.436391</td>\n",
       "      <td>-0.459878</td>\n",
       "      <td>-0.190532</td>\n",
       "      <td>-0.323050</td>\n",
       "      <td>-0.298393</td>\n",
       "      <td>0.570550</td>\n",
       "      <td>0.329431</td>\n",
       "      <td>-0.147390</td>\n",
       "      <td>1</td>\n",
       "      <td>1</td>\n",
       "    </tr>\n",
       "    <tr>\n",
       "      <th>524</th>\n",
       "      <td>528</td>\n",
       "      <td>0.013427</td>\n",
       "      <td>-0.259608</td>\n",
       "      <td>-0.246664</td>\n",
       "      <td>0.097118</td>\n",
       "      <td>-0.377687</td>\n",
       "      <td>-0.250050</td>\n",
       "      <td>-0.167659</td>\n",
       "      <td>-1.308368</td>\n",
       "      <td>-1.400067</td>\n",
       "      <td>1</td>\n",
       "      <td>1</td>\n",
       "    </tr>\n",
       "    <tr>\n",
       "      <th>109</th>\n",
       "      <td>109</td>\n",
       "      <td>-0.541862</td>\n",
       "      <td>-0.388178</td>\n",
       "      <td>-0.495414</td>\n",
       "      <td>0.799806</td>\n",
       "      <td>-0.306659</td>\n",
       "      <td>-0.263863</td>\n",
       "      <td>-0.536763</td>\n",
       "      <td>-0.426476</td>\n",
       "      <td>-0.147390</td>\n",
       "      <td>1</td>\n",
       "      <td>0</td>\n",
       "    </tr>\n",
       "  </tbody>\n",
       "</table>\n",
       "</div>"
      ],
      "text/plain": [
       "     Unnamed: 0   Age_std  Total_Bilirubin_std  Direct_Bilirubin_std  \\\n",
       "133         133  0.507017            -0.388178             -0.388807   \n",
       "523         527 -0.295067             0.029672              0.037623   \n",
       "187         187  0.938909            -0.195324             -0.175592   \n",
       "271         274 -0.726959            -0.243537             -0.246664   \n",
       "459         463 -1.220549            -0.404249             -0.495414   \n",
       "448         452  0.815511            -0.388178             -0.459878   \n",
       "347         351 -0.480164            -0.323893             -0.388807   \n",
       "289         292  0.013427            -0.436391             -0.459878   \n",
       "524         528  0.013427            -0.259608             -0.246664   \n",
       "109         109 -0.541862            -0.388178             -0.495414   \n",
       "\n",
       "     Alkaline_Phosphotase_std  Alamine_Aminotransferase_std  \\\n",
       "133                 -0.219297                     -0.350369   \n",
       "523                  0.027260                     -0.071718   \n",
       "187                 -0.412433                      0.179615   \n",
       "271                 -0.391887                     -0.306659   \n",
       "459                 -0.663099                     -0.317586   \n",
       "448                  3.322906                     -0.306659   \n",
       "347                 -0.395996                     -0.219239   \n",
       "289                 -0.190532                     -0.323050   \n",
       "524                  0.097118                     -0.377687   \n",
       "109                  0.799806                     -0.306659   \n",
       "\n",
       "     Aspartate_Aminotransferase_std  Total_Protiens_std  Albumin_std  \\\n",
       "133                       -0.332923            0.109170    -0.300492   \n",
       "523                        0.309343            0.570550     0.329431   \n",
       "187                        0.471636           -2.290010    -1.938290   \n",
       "271                       -0.305299            1.401035     1.085338   \n",
       "459                       -0.236238            1.401035     1.085338   \n",
       "448                       -0.256957            0.570550     0.455416   \n",
       "347                       -0.250050           -1.090420    -1.308368   \n",
       "289                       -0.298393            0.570550     0.329431   \n",
       "524                       -0.250050           -0.167659    -1.308368   \n",
       "109                       -0.263863           -0.536763    -0.426476   \n",
       "\n",
       "     Albumin_and_Globulin_Ratio_std  Is_male_std  Liver_disease  \n",
       "133                       -0.460559            1              1  \n",
       "523                       -0.147390            1              1  \n",
       "187                       -1.086898            1              1  \n",
       "271                        0.165780            1              1  \n",
       "459                        0.165780            1              1  \n",
       "448                       -0.147390            1              1  \n",
       "347                       -1.086898            1              1  \n",
       "289                       -0.147390            1              1  \n",
       "524                       -1.400067            1              1  \n",
       "109                       -0.147390            1              0  "
      ]
     },
     "execution_count": 350,
     "metadata": {},
     "output_type": "execute_result"
    }
   ],
   "source": [
    "df = pd.read_csv(\"datasets/indian_liver_patient_preprocessed.csv\")\n",
    "df.sample(10)"
   ]
  },
  {
   "cell_type": "code",
   "execution_count": 351,
   "id": "bb2acc29",
   "metadata": {
    "ExecuteTime": {
     "end_time": "2021-09-24T19:56:43.494833Z",
     "start_time": "2021-09-24T19:56:43.489520Z"
    }
   },
   "outputs": [],
   "source": [
    "target = \"Liver_disease\"\n",
    "y = df[target]\n",
    "X = df.drop(target, axis=1)\n",
    "X_train, X_test, y_train, y_test = train_test_split(X, y, test_size=0.3, random_state=1)"
   ]
  },
  {
   "cell_type": "markdown",
   "id": "6476e3f3",
   "metadata": {},
   "source": [
    "### Voting"
   ]
  },
  {
   "cell_type": "code",
   "execution_count": 352,
   "id": "6851ebb6",
   "metadata": {
    "ExecuteTime": {
     "end_time": "2021-09-24T19:56:44.241856Z",
     "start_time": "2021-09-24T19:56:44.178049Z"
    }
   },
   "outputs": [
    {
     "name": "stdout",
     "output_type": "stream",
     "text": [
      "Logistic Regression : 0.764\n",
      "K Nearest Neighbours : 0.724\n",
      "Classification Tree : 0.730\n",
      "Voting Classifier: 0.764\n"
     ]
    },
    {
     "name": "stderr",
     "output_type": "stream",
     "text": [
      "/home/kcavagnolo/.pyenv/versions/3.8.0/lib/python3.8/site-packages/sklearn/linear_model/_logistic.py:763: ConvergenceWarning: lbfgs failed to converge (status=1):\n",
      "STOP: TOTAL NO. of ITERATIONS REACHED LIMIT.\n",
      "\n",
      "Increase the number of iterations (max_iter) or scale the data as shown in:\n",
      "    https://scikit-learn.org/stable/modules/preprocessing.html\n",
      "Please also refer to the documentation for alternative solver options:\n",
      "    https://scikit-learn.org/stable/modules/linear_model.html#logistic-regression\n",
      "  n_iter_i = _check_optimize_result(\n",
      "/home/kcavagnolo/.pyenv/versions/3.8.0/lib/python3.8/site-packages/sklearn/linear_model/_logistic.py:763: ConvergenceWarning: lbfgs failed to converge (status=1):\n",
      "STOP: TOTAL NO. of ITERATIONS REACHED LIMIT.\n",
      "\n",
      "Increase the number of iterations (max_iter) or scale the data as shown in:\n",
      "    https://scikit-learn.org/stable/modules/preprocessing.html\n",
      "Please also refer to the documentation for alternative solver options:\n",
      "    https://scikit-learn.org/stable/modules/linear_model.html#logistic-regression\n",
      "  n_iter_i = _check_optimize_result(\n"
     ]
    }
   ],
   "source": [
    "# Instantiate lr\n",
    "lr = LogisticRegression(random_state=1)\n",
    "\n",
    "# Instantiate knn\n",
    "knn = KNeighborsClassifier(n_neighbors=27)\n",
    "\n",
    "# Instantiate dt\n",
    "dt = DecisionTreeClassifier(min_samples_leaf=0.13, random_state=1)\n",
    "\n",
    "# Define the list classifiers\n",
    "classifiers = [\n",
    "    (\"Logistic Regression\", lr),\n",
    "    (\"K Nearest Neighbours\", knn),\n",
    "    (\"Classification Tree\", dt),\n",
    "]\n",
    "\n",
    "# Iterate over the pre-defined list of classifiers\n",
    "for clf_name, clf in classifiers:\n",
    "\n",
    "    # Fit clf to the training set\n",
    "    clf.fit(X_train, y_train)\n",
    "\n",
    "    # Predict y_pred\n",
    "    y_pred = clf.predict(X_test)\n",
    "\n",
    "    # Calculate accuracy\n",
    "    accuracy = accuracy_score(y_test, y_pred)\n",
    "\n",
    "    # Evaluate clf's accuracy on the test set\n",
    "    print(f\"{clf_name:s} : {accuracy:.3f}\")\n",
    "\n",
    "# Instantiate a VotingClassifier vc\n",
    "vc = VotingClassifier(estimators=classifiers)\n",
    "\n",
    "# Fit vc to the training set\n",
    "vc.fit(X_train, y_train)\n",
    "\n",
    "# Evaluate the test set predictions\n",
    "y_pred = vc.predict(X_test)\n",
    "\n",
    "# Calculate accuracy score\n",
    "accuracy = accuracy_score(y_pred, y_test)\n",
    "print(f\"Voting Classifier: {accuracy:.3f}\")"
   ]
  },
  {
   "cell_type": "markdown",
   "id": "dd942d02",
   "metadata": {},
   "source": [
    "### Bagging w/ OOB"
   ]
  },
  {
   "cell_type": "code",
   "execution_count": 353,
   "id": "a61498e1",
   "metadata": {
    "ExecuteTime": {
     "end_time": "2021-09-24T19:56:44.942038Z",
     "start_time": "2021-09-24T19:56:44.938920Z"
    }
   },
   "outputs": [],
   "source": [
    "# Instantiate dt\n",
    "dt = DecisionTreeClassifier(min_samples_leaf=8, random_state=1)\n",
    "\n",
    "# Instantiate bc\n",
    "bc = BaggingClassifier(\n",
    "    base_estimator=dt, oob_score=True, n_estimators=50, random_state=1\n",
    ")"
   ]
  },
  {
   "cell_type": "code",
   "execution_count": 354,
   "id": "04433df6",
   "metadata": {
    "ExecuteTime": {
     "end_time": "2021-09-24T19:56:45.493327Z",
     "start_time": "2021-09-24T19:56:45.383768Z"
    }
   },
   "outputs": [
    {
     "name": "stdout",
     "output_type": "stream",
     "text": [
      "Bagging Classifier Test :: 0.695\n",
      "Bagging Classifier OOB :: 0.677\n"
     ]
    }
   ],
   "source": [
    "# Fit bc to the training set\n",
    "bc.fit(X_train, y_train)\n",
    "\n",
    "# Predict test set labels\n",
    "y_pred = bc.predict(X_test)\n",
    "\n",
    "# Evaluate acc_test\n",
    "accuracy = accuracy_score(y_test, y_pred)\n",
    "accuracy_oob = bc.oob_score_\n",
    "print(f\"Bagging Classifier Test :: {accuracy:0.3f}\")\n",
    "print(f\"Bagging Classifier OOB :: {accuracy_oob:0.3f}\")"
   ]
  },
  {
   "cell_type": "markdown",
   "id": "f60dcc2d",
   "metadata": {},
   "source": [
    "### Adaboost w/ DT"
   ]
  },
  {
   "cell_type": "code",
   "execution_count": 356,
   "id": "e4d38c1d",
   "metadata": {
    "ExecuteTime": {
     "end_time": "2021-09-24T19:57:33.204134Z",
     "start_time": "2021-09-24T19:57:32.949279Z"
    }
   },
   "outputs": [],
   "source": [
    "# Instantiate dt\n",
    "dt = DecisionTreeClassifier(max_depth=2, random_state=1)\n",
    "\n",
    "# Instantiate ada\n",
    "ada = AdaBoostClassifier(base_estimator=dt, n_estimators=180, random_state=1)\n",
    "\n",
    "# Fit ada to the training set\n",
    "ada.fit(X_train, y_train)\n",
    "\n",
    "# Compute the probabilities of obtaining the positive class\n",
    "y_pred_proba = ada.predict_proba(X_test)[:, 1]"
   ]
  },
  {
   "cell_type": "code",
   "execution_count": 358,
   "id": "0e10b48f",
   "metadata": {
    "ExecuteTime": {
     "end_time": "2021-09-24T19:58:14.795375Z",
     "start_time": "2021-09-24T19:58:14.789724Z"
    }
   },
   "outputs": [
    {
     "name": "stdout",
     "output_type": "stream",
     "text": [
      "ROC AUC score: 0.72\n"
     ]
    }
   ],
   "source": [
    "# Evaluate test-set roc_auc_score\n",
    "ada_roc_auc = roc_auc_score(y_test, y_pred_proba)\n",
    "\n",
    "# Print roc_auc_score\n",
    "print(f\"ROC AUC score: {ada_roc_auc:.2f}\")"
   ]
  },
  {
   "cell_type": "markdown",
   "id": "cef3cb45",
   "metadata": {
    "heading_collapsed": true
   },
   "source": [
    "## Bike Sharing"
   ]
  },
  {
   "cell_type": "markdown",
   "id": "fa511e07",
   "metadata": {
    "hidden": true
   },
   "source": [
    "### Data"
   ]
  },
  {
   "cell_type": "code",
   "execution_count": 313,
   "id": "ce9642ea",
   "metadata": {
    "ExecuteTime": {
     "end_time": "2021-09-24T19:01:28.878429Z",
     "start_time": "2021-09-24T19:01:28.857374Z"
    },
    "hidden": true
   },
   "outputs": [
    {
     "data": {
      "text/html": [
       "<div>\n",
       "<style scoped>\n",
       "    .dataframe tbody tr th:only-of-type {\n",
       "        vertical-align: middle;\n",
       "    }\n",
       "\n",
       "    .dataframe tbody tr th {\n",
       "        vertical-align: top;\n",
       "    }\n",
       "\n",
       "    .dataframe thead th {\n",
       "        text-align: right;\n",
       "    }\n",
       "</style>\n",
       "<table border=\"1\" class=\"dataframe\">\n",
       "  <thead>\n",
       "    <tr style=\"text-align: right;\">\n",
       "      <th></th>\n",
       "      <th>hr</th>\n",
       "      <th>holiday</th>\n",
       "      <th>workingday</th>\n",
       "      <th>temp</th>\n",
       "      <th>hum</th>\n",
       "      <th>windspeed</th>\n",
       "      <th>cnt</th>\n",
       "      <th>instant</th>\n",
       "      <th>mnth</th>\n",
       "      <th>yr</th>\n",
       "      <th>clear_to_partly_cloudy</th>\n",
       "      <th>light_precipitation</th>\n",
       "      <th>misty</th>\n",
       "    </tr>\n",
       "  </thead>\n",
       "  <tbody>\n",
       "    <tr>\n",
       "      <th>880</th>\n",
       "      <td>16</td>\n",
       "      <td>0</td>\n",
       "      <td>1</td>\n",
       "      <td>0.84</td>\n",
       "      <td>0.41</td>\n",
       "      <td>0.1045</td>\n",
       "      <td>451</td>\n",
       "      <td>13884</td>\n",
       "      <td>8</td>\n",
       "      <td>1</td>\n",
       "      <td>1</td>\n",
       "      <td>0</td>\n",
       "      <td>0</td>\n",
       "    </tr>\n",
       "    <tr>\n",
       "      <th>1281</th>\n",
       "      <td>9</td>\n",
       "      <td>0</td>\n",
       "      <td>1</td>\n",
       "      <td>0.70</td>\n",
       "      <td>0.70</td>\n",
       "      <td>0.0000</td>\n",
       "      <td>412</td>\n",
       "      <td>14285</td>\n",
       "      <td>8</td>\n",
       "      <td>1</td>\n",
       "      <td>0</td>\n",
       "      <td>0</td>\n",
       "      <td>1</td>\n",
       "    </tr>\n",
       "    <tr>\n",
       "      <th>44</th>\n",
       "      <td>20</td>\n",
       "      <td>0</td>\n",
       "      <td>1</td>\n",
       "      <td>0.78</td>\n",
       "      <td>0.43</td>\n",
       "      <td>0.1343</td>\n",
       "      <td>395</td>\n",
       "      <td>13048</td>\n",
       "      <td>7</td>\n",
       "      <td>1</td>\n",
       "      <td>1</td>\n",
       "      <td>0</td>\n",
       "      <td>0</td>\n",
       "    </tr>\n",
       "    <tr>\n",
       "      <th>495</th>\n",
       "      <td>15</td>\n",
       "      <td>0</td>\n",
       "      <td>0</td>\n",
       "      <td>0.60</td>\n",
       "      <td>0.88</td>\n",
       "      <td>0.2537</td>\n",
       "      <td>380</td>\n",
       "      <td>13499</td>\n",
       "      <td>7</td>\n",
       "      <td>1</td>\n",
       "      <td>0</td>\n",
       "      <td>1</td>\n",
       "      <td>0</td>\n",
       "    </tr>\n",
       "    <tr>\n",
       "      <th>688</th>\n",
       "      <td>16</td>\n",
       "      <td>0</td>\n",
       "      <td>0</td>\n",
       "      <td>0.80</td>\n",
       "      <td>0.43</td>\n",
       "      <td>0.1343</td>\n",
       "      <td>521</td>\n",
       "      <td>13692</td>\n",
       "      <td>7</td>\n",
       "      <td>1</td>\n",
       "      <td>1</td>\n",
       "      <td>0</td>\n",
       "      <td>0</td>\n",
       "    </tr>\n",
       "    <tr>\n",
       "      <th>1015</th>\n",
       "      <td>7</td>\n",
       "      <td>0</td>\n",
       "      <td>0</td>\n",
       "      <td>0.64</td>\n",
       "      <td>0.65</td>\n",
       "      <td>0.1343</td>\n",
       "      <td>39</td>\n",
       "      <td>14019</td>\n",
       "      <td>8</td>\n",
       "      <td>1</td>\n",
       "      <td>1</td>\n",
       "      <td>0</td>\n",
       "      <td>0</td>\n",
       "    </tr>\n",
       "    <tr>\n",
       "      <th>232</th>\n",
       "      <td>16</td>\n",
       "      <td>0</td>\n",
       "      <td>1</td>\n",
       "      <td>0.80</td>\n",
       "      <td>0.43</td>\n",
       "      <td>0.2239</td>\n",
       "      <td>435</td>\n",
       "      <td>13236</td>\n",
       "      <td>7</td>\n",
       "      <td>1</td>\n",
       "      <td>1</td>\n",
       "      <td>0</td>\n",
       "      <td>0</td>\n",
       "    </tr>\n",
       "    <tr>\n",
       "      <th>8</th>\n",
       "      <td>8</td>\n",
       "      <td>0</td>\n",
       "      <td>0</td>\n",
       "      <td>0.78</td>\n",
       "      <td>0.62</td>\n",
       "      <td>0.1045</td>\n",
       "      <td>142</td>\n",
       "      <td>13012</td>\n",
       "      <td>7</td>\n",
       "      <td>1</td>\n",
       "      <td>1</td>\n",
       "      <td>0</td>\n",
       "      <td>0</td>\n",
       "    </tr>\n",
       "    <tr>\n",
       "      <th>135</th>\n",
       "      <td>15</td>\n",
       "      <td>0</td>\n",
       "      <td>1</td>\n",
       "      <td>0.92</td>\n",
       "      <td>0.29</td>\n",
       "      <td>0.1940</td>\n",
       "      <td>285</td>\n",
       "      <td>13139</td>\n",
       "      <td>7</td>\n",
       "      <td>1</td>\n",
       "      <td>1</td>\n",
       "      <td>0</td>\n",
       "      <td>0</td>\n",
       "    </tr>\n",
       "    <tr>\n",
       "      <th>1162</th>\n",
       "      <td>10</td>\n",
       "      <td>0</td>\n",
       "      <td>0</td>\n",
       "      <td>0.70</td>\n",
       "      <td>0.54</td>\n",
       "      <td>0.1642</td>\n",
       "      <td>480</td>\n",
       "      <td>14166</td>\n",
       "      <td>8</td>\n",
       "      <td>1</td>\n",
       "      <td>1</td>\n",
       "      <td>0</td>\n",
       "      <td>0</td>\n",
       "    </tr>\n",
       "  </tbody>\n",
       "</table>\n",
       "</div>"
      ],
      "text/plain": [
       "      hr  holiday  workingday  temp   hum  windspeed  cnt  instant  mnth  yr  \\\n",
       "880   16        0           1  0.84  0.41     0.1045  451    13884     8   1   \n",
       "1281   9        0           1  0.70  0.70     0.0000  412    14285     8   1   \n",
       "44    20        0           1  0.78  0.43     0.1343  395    13048     7   1   \n",
       "495   15        0           0  0.60  0.88     0.2537  380    13499     7   1   \n",
       "688   16        0           0  0.80  0.43     0.1343  521    13692     7   1   \n",
       "1015   7        0           0  0.64  0.65     0.1343   39    14019     8   1   \n",
       "232   16        0           1  0.80  0.43     0.2239  435    13236     7   1   \n",
       "8      8        0           0  0.78  0.62     0.1045  142    13012     7   1   \n",
       "135   15        0           1  0.92  0.29     0.1940  285    13139     7   1   \n",
       "1162  10        0           0  0.70  0.54     0.1642  480    14166     8   1   \n",
       "\n",
       "      clear_to_partly_cloudy  light_precipitation  misty  \n",
       "880                        1                    0      0  \n",
       "1281                       0                    0      1  \n",
       "44                         1                    0      0  \n",
       "495                        0                    1      0  \n",
       "688                        1                    0      0  \n",
       "1015                       1                    0      0  \n",
       "232                        1                    0      0  \n",
       "8                          1                    0      0  \n",
       "135                        1                    0      0  \n",
       "1162                       1                    0      0  "
      ]
     },
     "execution_count": 313,
     "metadata": {},
     "output_type": "execute_result"
    }
   ],
   "source": [
    "df = pd.read_csv(\"datasets/bikes.csv\")\n",
    "df.columns = [c.lower().replace(\" \", \"_\") for c in df.columns]\n",
    "df.sample(10)"
   ]
  },
  {
   "cell_type": "code",
   "execution_count": 322,
   "id": "c3a914bc",
   "metadata": {
    "ExecuteTime": {
     "end_time": "2021-09-24T19:08:04.807562Z",
     "start_time": "2021-09-24T19:08:04.804977Z"
    },
    "hidden": true
   },
   "outputs": [],
   "source": [
    "target = \"cnt\"\n",
    "y = df[target]\n",
    "X = df.drop(target, axis=1)"
   ]
  },
  {
   "cell_type": "code",
   "execution_count": 323,
   "id": "7599c00f",
   "metadata": {
    "ExecuteTime": {
     "end_time": "2021-09-24T19:08:05.018705Z",
     "start_time": "2021-09-24T19:08:05.016019Z"
    },
    "hidden": true
   },
   "outputs": [],
   "source": [
    "X_train, X_test, y_train, y_test = train_test_split(X, y, test_size=0.2, random_state=1)"
   ]
  },
  {
   "cell_type": "code",
   "execution_count": 324,
   "id": "a676146c",
   "metadata": {
    "ExecuteTime": {
     "end_time": "2021-09-24T19:08:05.252299Z",
     "start_time": "2021-09-24T19:08:05.173406Z"
    },
    "hidden": true
   },
   "outputs": [
    {
     "data": {
      "text/plain": [
       "RandomForestRegressor(n_estimators=25, random_state=2)"
      ]
     },
     "execution_count": 324,
     "metadata": {},
     "output_type": "execute_result"
    }
   ],
   "source": [
    "# Instantiate rf\n",
    "rf = RandomForestRegressor(n_estimators=25, random_state=2)\n",
    "\n",
    "# Fit rf to the training set\n",
    "rf.fit(X_train, y_train)"
   ]
  },
  {
   "cell_type": "code",
   "execution_count": 325,
   "id": "a8038152",
   "metadata": {
    "ExecuteTime": {
     "end_time": "2021-09-24T19:08:05.362992Z",
     "start_time": "2021-09-24T19:08:05.355614Z"
    },
    "hidden": true
   },
   "outputs": [
    {
     "name": "stdout",
     "output_type": "stream",
     "text": [
      "Test set RMSE of rf: 51.84\n"
     ]
    }
   ],
   "source": [
    "# Predict the test set labels\n",
    "y_pred = rf.predict(X_test)\n",
    "\n",
    "# Evaluate the test set RMSE\n",
    "rmse_test = np.sqrt(mean_squared_error(y_test, y_pred))\n",
    "\n",
    "# Print rmse_test\n",
    "print(f\"Test set RMSE of rf: {rmse_test:.2f}\")"
   ]
  },
  {
   "cell_type": "code",
   "execution_count": 329,
   "id": "232f89e4",
   "metadata": {
    "ExecuteTime": {
     "end_time": "2021-09-24T19:09:06.203131Z",
     "start_time": "2021-09-24T19:09:06.044408Z"
    },
    "hidden": true
   },
   "outputs": [
    {
     "data": {
      "image/png": "[encoded data removed]",
      "text/plain": [
       "<Figure size 1080x432 with 1 Axes>"
      ]
     },
     "metadata": {
      "needs_background": "light"
     },
     "output_type": "display_data"
    }
   ],
   "source": [
    "plot_feature_importances(X, rf)"
   ]
  },
  {
   "cell_type": "code",
   "execution_count": null,
   "id": "22a25993",
   "metadata": {
    "hidden": true
   },
   "outputs": [],
   "source": []
  }
 ],
 "metadata": {
  "kernelspec": {
   "display_name": "Python 3 (ipykernel)",
   "language": "python",
   "name": "python3"
  },
  "language_info": {
   "codemirror_mode": {
    "name": "ipython",
    "version": 3
   },
   "file_extension": ".py",
   "mimetype": "text/x-python",
   "name": "python",
   "nbconvert_exporter": "python",
   "pygments_lexer": "ipython3",
   "version": "3.8.0"
  },
  "toc": {
   "base_numbering": 1,
   "nav_menu": {},
   "number_sections": true,
   "sideBar": true,
   "skip_h1_title": false,
   "title_cell": "Table of Contents",
   "title_sidebar": "Contents",
   "toc_cell": false,
   "toc_position": {},
   "toc_section_display": true,
   "toc_window_display": true
  },
  "varInspector": {
   "cols": {
    "lenName": 16,
    "lenType": 16,
    "lenVar": 40
   },
   "kernels_config": {
    "python": {
     "delete_cmd_postfix": "",
     "delete_cmd_prefix": "del ",
     "library": "var_list.py",
     "varRefreshCmd": "print(var_dic_list())"
    },
    "r": {
     "delete_cmd_postfix": ") ",
     "delete_cmd_prefix": "rm(",
     "library": "var_list.r",
     "varRefreshCmd": "cat(var_dic_list()) "
    }
   },
   "types_to_exclude": [
    "module",
    "function",
    "builtin_function_or_method",
    "instance",
    "_Feature"
   ],
   "window_display": false
  }
 },
 "nbformat": 4,
 "nbformat_minor": 5
}
