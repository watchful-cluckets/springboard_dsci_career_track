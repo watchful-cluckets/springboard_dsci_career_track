{
 "cells": [
  {
   "cell_type": "markdown",
   "id": "d353728d",
   "metadata": {
    "heading_collapsed": true
   },
   "source": [
    "# Imports"
   ]
  },
  {
   "cell_type": "code",
   "execution_count": 1,
   "id": "c4243500",
   "metadata": {
    "ExecuteTime": {
     "end_time": "2021-09-21T22:39:33.741626Z",
     "start_time": "2021-09-21T22:39:33.739087Z"
    },
    "hidden": true
   },
   "outputs": [],
   "source": [
    "import datetime\n",
    "import glob\n",
    "import itertools\n",
    "import json\n",
    "import os\n",
    "import pickle\n",
    "import random\n",
    "import re\n",
    "from string import punctuation"
   ]
  },
  {
   "cell_type": "code",
   "execution_count": 2,
   "id": "20471d9f",
   "metadata": {
    "ExecuteTime": {
     "end_time": "2021-09-21T22:39:35.295450Z",
     "start_time": "2021-09-21T22:39:34.082396Z"
    },
    "hidden": true
   },
   "outputs": [],
   "source": [
    "import statistics\n",
    "\n",
    "import fuzzywuzzy\n",
    "import geopandas as gpd\n",
    "import humanize\n",
    "import missingno as msno\n",
    "import numpy as np\n",
    "import pandas as pd\n",
    "import recordlinkage\n",
    "import scipy as sp\n",
    "import statsmodels.formula.api as smf\n",
    "from pandas_profiling import ProfileReport"
   ]
  },
  {
   "cell_type": "code",
   "execution_count": 3,
   "id": "b2dfa5ba",
   "metadata": {
    "ExecuteTime": {
     "end_time": "2021-09-21T22:39:35.531377Z",
     "start_time": "2021-09-21T22:39:35.303697Z"
    },
    "hidden": true
   },
   "outputs": [],
   "source": [
    "SMALL_SIZE = 10\n",
    "MEDIUM_SIZE = 14\n",
    "BIGGER_SIZE = 18\n",
    "MAPBOX_STYLE = \"dark\"\n",
    "MAPBOX_HEIGHT = 800\n",
    "%matplotlib inline\n",
    "import seaborn as sns\n",
    "import matplotlib as mpl\n",
    "import matplotlib.font_manager\n",
    "import matplotlib.pyplot as plt\n",
    "import plotly.express as px\n",
    "import plotly.graph_objects as go\n",
    "from matplotlib.ticker import PercentFormatter\n",
    "px.set_mapbox_access_token(os.getenv(\"MAPBOX_TOKEN\"))\n",
    "matplotlib.font_manager.findSystemFonts(fontpaths=None, fontext=\"ttf\")\n",
    "plt.style.use(\"seaborn-colorblind\")\n",
    "plt.rcParams[\"font.family\"] = \"sans-serif\"\n",
    "plt.rcParams[\"font.sans-serif\"] = \"Open Sans\"\n",
    "plt.rcParams[\"figure.figsize\"] = 15, 6\n",
    "plt.rc('font', size=SMALL_SIZE)          # controls default text sizes\n",
    "plt.rc('axes', titlesize=SMALL_SIZE)     # fontsize of the axes title\n",
    "plt.rc('axes', labelsize=MEDIUM_SIZE)    # fontsize of the x and y labels\n",
    "plt.rc('xtick', labelsize=SMALL_SIZE)    # fontsize of the tick labels\n",
    "plt.rc('ytick', labelsize=SMALL_SIZE)    # fontsize of the tick labels\n",
    "plt.rc('legend', fontsize=SMALL_SIZE)    # legend fontsize\n",
    "plt.rc('figure', titlesize=BIGGER_SIZE)  # fontsize of the figure title"
   ]
  },
  {
   "cell_type": "code",
   "execution_count": 38,
   "id": "ba28e12c",
   "metadata": {
    "ExecuteTime": {
     "end_time": "2021-09-21T22:56:21.843065Z",
     "start_time": "2021-09-21T22:56:21.827794Z"
    },
    "hidden": true
   },
   "outputs": [],
   "source": [
    "from mlxtend.plotting import plot_decision_regions\n",
    "from sklearn import __version__ as sklearn_version\n",
    "from sklearn.cluster import KMeans\n",
    "from sklearn.decomposition import NMF, PCA\n",
    "from sklearn.dummy import DummyRegressor\n",
    "from sklearn.ensemble import RandomForestRegressor\n",
    "from sklearn.feature_selection import SelectKBest, f_regression\n",
    "from sklearn.impute import SimpleImputer\n",
    "from sklearn.linear_model import LinearRegression, LogisticRegression\n",
    "from sklearn.manifold import TSNE\n",
    "from sklearn.metrics import (accuracy_score, average_precision_score, classification_report,\n",
    "                             confusion_matrix, mean_absolute_error,\n",
    "                             mean_squared_error, plot_precision_recall_curve,\n",
    "                             precision_recall_curve, r2_score, roc_auc_score,\n",
    "                             roc_curve)\n",
    "from sklearn.model_selection import (GridSearchCV, KFold, cross_val_score,\n",
    "                                     cross_validate, learning_curve,\n",
    "                                     train_test_split)\n",
    "from sklearn.neighbors import KNeighborsClassifier\n",
    "from sklearn.pipeline import Pipeline, make_pipeline\n",
    "from sklearn.preprocessing import (LabelEncoder, MaxAbsScaler, MinMaxScaler, Normalizer,\n",
    "                                   StandardScaler, normalize, scale)\n",
    "from sklearn.tree import DecisionTreeClassifier"
   ]
  },
  {
   "cell_type": "markdown",
   "id": "d5496ce8",
   "metadata": {},
   "source": [
    "# Functions"
   ]
  },
  {
   "cell_type": "code",
   "execution_count": 42,
   "id": "ec7cebe4",
   "metadata": {
    "ExecuteTime": {
     "end_time": "2021-09-21T22:56:52.180848Z",
     "start_time": "2021-09-21T22:56:52.175550Z"
    }
   },
   "outputs": [],
   "source": [
    "def plot_labeled_decision_regions(X, y, models):\n",
    "    '''\n",
    "    Function producing a scatter plot of the instances contained \n",
    "    in the 2D dataset (X,y) along with the decision \n",
    "    regions of two trained classification models contained in the\n",
    "    list 'models'.\n",
    "            \n",
    "    Parameters\n",
    "    ----------\n",
    "    X: pandas DataFrame corresponding to two numerical features \n",
    "    y: pandas Series corresponding the class labels\n",
    "    models: list containing two trained classifiers \n",
    "    \n",
    "    '''\n",
    "    if len(models) != 2:\n",
    "        raise Exception('''\n",
    "        Models should be a list containing only two trained classifiers.\n",
    "        ''')\n",
    "    if not isinstance(X, pd.DataFrame):\n",
    "        raise Exception('''\n",
    "        X has to be a pandas DataFrame with two numerical features.\n",
    "        ''')\n",
    "    if not isinstance(y, pd.Series):\n",
    "        raise Exception('''\n",
    "        y has to be a pandas Series corresponding to the labels.\n",
    "        ''')\n",
    "    fig, ax = plt.subplots(1, 2, figsize=(12, 8), sharey=True)\n",
    "    for i, model in enumerate(models):\n",
    "        plot_decision_regions(X.values, y.values, model, legend=2, ax=ax[i])\n",
    "        ax[i].set_title(model.__class__.__name__)\n",
    "        ax[i].set_xlabel(X.columns[0])\n",
    "        if i == 0:\n",
    "            ax[i].set_ylabel(X.columns[1])\n",
    "        ax[i].set_ylim(X.values[:, 1].min(), X.values[:, 1].max())\n",
    "        ax[i].set_xlim(X.values[:, 0].min(), X.values[:, 0].max())\n",
    "    plt.tight_layout()\n",
    "    plt.show()"
   ]
  },
  {
   "cell_type": "markdown",
   "id": "a903395a",
   "metadata": {},
   "source": [
    "# Wisconsin Breast Cancer"
   ]
  },
  {
   "cell_type": "markdown",
   "id": "d129edf9",
   "metadata": {},
   "source": [
    "## Data"
   ]
  },
  {
   "cell_type": "code",
   "execution_count": 32,
   "id": "63448737",
   "metadata": {
    "ExecuteTime": {
     "end_time": "2021-09-21T22:54:17.927202Z",
     "start_time": "2021-09-21T22:54:17.904223Z"
    }
   },
   "outputs": [
    {
     "data": {
      "text/html": [
       "<div>\n",
       "<style scoped>\n",
       "    .dataframe tbody tr th:only-of-type {\n",
       "        vertical-align: middle;\n",
       "    }\n",
       "\n",
       "    .dataframe tbody tr th {\n",
       "        vertical-align: top;\n",
       "    }\n",
       "\n",
       "    .dataframe thead th {\n",
       "        text-align: right;\n",
       "    }\n",
       "</style>\n",
       "<table border=\"1\" class=\"dataframe\">\n",
       "  <thead>\n",
       "    <tr style=\"text-align: right;\">\n",
       "      <th></th>\n",
       "      <th>id</th>\n",
       "      <th>diagnosis</th>\n",
       "      <th>radius_mean</th>\n",
       "      <th>texture_mean</th>\n",
       "      <th>perimeter_mean</th>\n",
       "      <th>area_mean</th>\n",
       "      <th>smoothness_mean</th>\n",
       "      <th>compactness_mean</th>\n",
       "      <th>concavity_mean</th>\n",
       "      <th>concave points_mean</th>\n",
       "      <th>...</th>\n",
       "      <th>texture_worst</th>\n",
       "      <th>perimeter_worst</th>\n",
       "      <th>area_worst</th>\n",
       "      <th>smoothness_worst</th>\n",
       "      <th>compactness_worst</th>\n",
       "      <th>concavity_worst</th>\n",
       "      <th>concave points_worst</th>\n",
       "      <th>symmetry_worst</th>\n",
       "      <th>fractal_dimension_worst</th>\n",
       "      <th>Unnamed: 32</th>\n",
       "    </tr>\n",
       "  </thead>\n",
       "  <tbody>\n",
       "    <tr>\n",
       "      <th>418</th>\n",
       "      <td>906024</td>\n",
       "      <td>B</td>\n",
       "      <td>12.700</td>\n",
       "      <td>12.17</td>\n",
       "      <td>80.88</td>\n",
       "      <td>495.0</td>\n",
       "      <td>0.08785</td>\n",
       "      <td>0.05794</td>\n",
       "      <td>0.02360</td>\n",
       "      <td>0.02402</td>\n",
       "      <td>...</td>\n",
       "      <td>16.92</td>\n",
       "      <td>88.12</td>\n",
       "      <td>566.9</td>\n",
       "      <td>0.1314</td>\n",
       "      <td>0.1607</td>\n",
       "      <td>0.09385</td>\n",
       "      <td>0.08224</td>\n",
       "      <td>0.2775</td>\n",
       "      <td>0.09464</td>\n",
       "      <td>NaN</td>\n",
       "    </tr>\n",
       "    <tr>\n",
       "      <th>11</th>\n",
       "      <td>84610002</td>\n",
       "      <td>M</td>\n",
       "      <td>15.780</td>\n",
       "      <td>17.89</td>\n",
       "      <td>103.60</td>\n",
       "      <td>781.0</td>\n",
       "      <td>0.09710</td>\n",
       "      <td>0.12920</td>\n",
       "      <td>0.09954</td>\n",
       "      <td>0.06606</td>\n",
       "      <td>...</td>\n",
       "      <td>27.28</td>\n",
       "      <td>136.50</td>\n",
       "      <td>1299.0</td>\n",
       "      <td>0.1396</td>\n",
       "      <td>0.5609</td>\n",
       "      <td>0.39650</td>\n",
       "      <td>0.18100</td>\n",
       "      <td>0.3792</td>\n",
       "      <td>0.10480</td>\n",
       "      <td>NaN</td>\n",
       "    </tr>\n",
       "    <tr>\n",
       "      <th>121</th>\n",
       "      <td>86517</td>\n",
       "      <td>M</td>\n",
       "      <td>18.660</td>\n",
       "      <td>17.12</td>\n",
       "      <td>121.40</td>\n",
       "      <td>1077.0</td>\n",
       "      <td>0.10540</td>\n",
       "      <td>0.11000</td>\n",
       "      <td>0.14570</td>\n",
       "      <td>0.08665</td>\n",
       "      <td>...</td>\n",
       "      <td>24.90</td>\n",
       "      <td>145.40</td>\n",
       "      <td>1549.0</td>\n",
       "      <td>0.1503</td>\n",
       "      <td>0.2291</td>\n",
       "      <td>0.32720</td>\n",
       "      <td>0.16740</td>\n",
       "      <td>0.2894</td>\n",
       "      <td>0.08456</td>\n",
       "      <td>NaN</td>\n",
       "    </tr>\n",
       "    <tr>\n",
       "      <th>367</th>\n",
       "      <td>9011495</td>\n",
       "      <td>B</td>\n",
       "      <td>12.210</td>\n",
       "      <td>18.02</td>\n",
       "      <td>78.31</td>\n",
       "      <td>458.4</td>\n",
       "      <td>0.09231</td>\n",
       "      <td>0.07175</td>\n",
       "      <td>0.04392</td>\n",
       "      <td>0.02027</td>\n",
       "      <td>...</td>\n",
       "      <td>24.04</td>\n",
       "      <td>93.85</td>\n",
       "      <td>624.6</td>\n",
       "      <td>0.1368</td>\n",
       "      <td>0.2170</td>\n",
       "      <td>0.24130</td>\n",
       "      <td>0.08829</td>\n",
       "      <td>0.3218</td>\n",
       "      <td>0.07470</td>\n",
       "      <td>NaN</td>\n",
       "    </tr>\n",
       "    <tr>\n",
       "      <th>341</th>\n",
       "      <td>898143</td>\n",
       "      <td>B</td>\n",
       "      <td>9.606</td>\n",
       "      <td>16.84</td>\n",
       "      <td>61.64</td>\n",
       "      <td>280.5</td>\n",
       "      <td>0.08481</td>\n",
       "      <td>0.09228</td>\n",
       "      <td>0.08422</td>\n",
       "      <td>0.02292</td>\n",
       "      <td>...</td>\n",
       "      <td>23.07</td>\n",
       "      <td>71.25</td>\n",
       "      <td>353.6</td>\n",
       "      <td>0.1233</td>\n",
       "      <td>0.3416</td>\n",
       "      <td>0.43410</td>\n",
       "      <td>0.08120</td>\n",
       "      <td>0.2982</td>\n",
       "      <td>0.09825</td>\n",
       "      <td>NaN</td>\n",
       "    </tr>\n",
       "    <tr>\n",
       "      <th>187</th>\n",
       "      <td>874373</td>\n",
       "      <td>B</td>\n",
       "      <td>11.710</td>\n",
       "      <td>17.19</td>\n",
       "      <td>74.68</td>\n",
       "      <td>420.3</td>\n",
       "      <td>0.09774</td>\n",
       "      <td>0.06141</td>\n",
       "      <td>0.03809</td>\n",
       "      <td>0.03239</td>\n",
       "      <td>...</td>\n",
       "      <td>21.39</td>\n",
       "      <td>84.42</td>\n",
       "      <td>521.5</td>\n",
       "      <td>0.1323</td>\n",
       "      <td>0.1040</td>\n",
       "      <td>0.15210</td>\n",
       "      <td>0.10990</td>\n",
       "      <td>0.2572</td>\n",
       "      <td>0.07097</td>\n",
       "      <td>NaN</td>\n",
       "    </tr>\n",
       "    <tr>\n",
       "      <th>21</th>\n",
       "      <td>8510824</td>\n",
       "      <td>B</td>\n",
       "      <td>9.504</td>\n",
       "      <td>12.44</td>\n",
       "      <td>60.34</td>\n",
       "      <td>273.9</td>\n",
       "      <td>0.10240</td>\n",
       "      <td>0.06492</td>\n",
       "      <td>0.02956</td>\n",
       "      <td>0.02076</td>\n",
       "      <td>...</td>\n",
       "      <td>15.66</td>\n",
       "      <td>65.13</td>\n",
       "      <td>314.9</td>\n",
       "      <td>0.1324</td>\n",
       "      <td>0.1148</td>\n",
       "      <td>0.08867</td>\n",
       "      <td>0.06227</td>\n",
       "      <td>0.2450</td>\n",
       "      <td>0.07773</td>\n",
       "      <td>NaN</td>\n",
       "    </tr>\n",
       "    <tr>\n",
       "      <th>135</th>\n",
       "      <td>868202</td>\n",
       "      <td>M</td>\n",
       "      <td>12.770</td>\n",
       "      <td>22.47</td>\n",
       "      <td>81.72</td>\n",
       "      <td>506.3</td>\n",
       "      <td>0.09055</td>\n",
       "      <td>0.05761</td>\n",
       "      <td>0.04711</td>\n",
       "      <td>0.02704</td>\n",
       "      <td>...</td>\n",
       "      <td>33.37</td>\n",
       "      <td>92.04</td>\n",
       "      <td>653.6</td>\n",
       "      <td>0.1419</td>\n",
       "      <td>0.1523</td>\n",
       "      <td>0.21770</td>\n",
       "      <td>0.09331</td>\n",
       "      <td>0.2829</td>\n",
       "      <td>0.08067</td>\n",
       "      <td>NaN</td>\n",
       "    </tr>\n",
       "    <tr>\n",
       "      <th>468</th>\n",
       "      <td>9113538</td>\n",
       "      <td>M</td>\n",
       "      <td>17.600</td>\n",
       "      <td>23.33</td>\n",
       "      <td>119.00</td>\n",
       "      <td>980.5</td>\n",
       "      <td>0.09289</td>\n",
       "      <td>0.20040</td>\n",
       "      <td>0.21360</td>\n",
       "      <td>0.10020</td>\n",
       "      <td>...</td>\n",
       "      <td>28.87</td>\n",
       "      <td>143.60</td>\n",
       "      <td>1437.0</td>\n",
       "      <td>0.1207</td>\n",
       "      <td>0.4785</td>\n",
       "      <td>0.51650</td>\n",
       "      <td>0.19960</td>\n",
       "      <td>0.2301</td>\n",
       "      <td>0.12240</td>\n",
       "      <td>NaN</td>\n",
       "    </tr>\n",
       "    <tr>\n",
       "      <th>72</th>\n",
       "      <td>859717</td>\n",
       "      <td>M</td>\n",
       "      <td>17.200</td>\n",
       "      <td>24.52</td>\n",
       "      <td>114.20</td>\n",
       "      <td>929.4</td>\n",
       "      <td>0.10710</td>\n",
       "      <td>0.18300</td>\n",
       "      <td>0.16920</td>\n",
       "      <td>0.07944</td>\n",
       "      <td>...</td>\n",
       "      <td>33.82</td>\n",
       "      <td>151.60</td>\n",
       "      <td>1681.0</td>\n",
       "      <td>0.1585</td>\n",
       "      <td>0.7394</td>\n",
       "      <td>0.65660</td>\n",
       "      <td>0.18990</td>\n",
       "      <td>0.3313</td>\n",
       "      <td>0.13390</td>\n",
       "      <td>NaN</td>\n",
       "    </tr>\n",
       "  </tbody>\n",
       "</table>\n",
       "<p>10 rows × 33 columns</p>\n",
       "</div>"
      ],
      "text/plain": [
       "           id diagnosis  radius_mean  texture_mean  perimeter_mean  area_mean  \\\n",
       "418    906024         B       12.700         12.17           80.88      495.0   \n",
       "11   84610002         M       15.780         17.89          103.60      781.0   \n",
       "121     86517         M       18.660         17.12          121.40     1077.0   \n",
       "367   9011495         B       12.210         18.02           78.31      458.4   \n",
       "341    898143         B        9.606         16.84           61.64      280.5   \n",
       "187    874373         B       11.710         17.19           74.68      420.3   \n",
       "21    8510824         B        9.504         12.44           60.34      273.9   \n",
       "135    868202         M       12.770         22.47           81.72      506.3   \n",
       "468   9113538         M       17.600         23.33          119.00      980.5   \n",
       "72     859717         M       17.200         24.52          114.20      929.4   \n",
       "\n",
       "     smoothness_mean  compactness_mean  concavity_mean  concave points_mean  \\\n",
       "418          0.08785           0.05794         0.02360              0.02402   \n",
       "11           0.09710           0.12920         0.09954              0.06606   \n",
       "121          0.10540           0.11000         0.14570              0.08665   \n",
       "367          0.09231           0.07175         0.04392              0.02027   \n",
       "341          0.08481           0.09228         0.08422              0.02292   \n",
       "187          0.09774           0.06141         0.03809              0.03239   \n",
       "21           0.10240           0.06492         0.02956              0.02076   \n",
       "135          0.09055           0.05761         0.04711              0.02704   \n",
       "468          0.09289           0.20040         0.21360              0.10020   \n",
       "72           0.10710           0.18300         0.16920              0.07944   \n",
       "\n",
       "     ...  texture_worst  perimeter_worst  area_worst  smoothness_worst  \\\n",
       "418  ...          16.92            88.12       566.9            0.1314   \n",
       "11   ...          27.28           136.50      1299.0            0.1396   \n",
       "121  ...          24.90           145.40      1549.0            0.1503   \n",
       "367  ...          24.04            93.85       624.6            0.1368   \n",
       "341  ...          23.07            71.25       353.6            0.1233   \n",
       "187  ...          21.39            84.42       521.5            0.1323   \n",
       "21   ...          15.66            65.13       314.9            0.1324   \n",
       "135  ...          33.37            92.04       653.6            0.1419   \n",
       "468  ...          28.87           143.60      1437.0            0.1207   \n",
       "72   ...          33.82           151.60      1681.0            0.1585   \n",
       "\n",
       "     compactness_worst  concavity_worst  concave points_worst  symmetry_worst  \\\n",
       "418             0.1607          0.09385               0.08224          0.2775   \n",
       "11              0.5609          0.39650               0.18100          0.3792   \n",
       "121             0.2291          0.32720               0.16740          0.2894   \n",
       "367             0.2170          0.24130               0.08829          0.3218   \n",
       "341             0.3416          0.43410               0.08120          0.2982   \n",
       "187             0.1040          0.15210               0.10990          0.2572   \n",
       "21              0.1148          0.08867               0.06227          0.2450   \n",
       "135             0.1523          0.21770               0.09331          0.2829   \n",
       "468             0.4785          0.51650               0.19960          0.2301   \n",
       "72              0.7394          0.65660               0.18990          0.3313   \n",
       "\n",
       "     fractal_dimension_worst  Unnamed: 32  \n",
       "418                  0.09464          NaN  \n",
       "11                   0.10480          NaN  \n",
       "121                  0.08456          NaN  \n",
       "367                  0.07470          NaN  \n",
       "341                  0.09825          NaN  \n",
       "187                  0.07097          NaN  \n",
       "21                   0.07773          NaN  \n",
       "135                  0.08067          NaN  \n",
       "468                  0.12240          NaN  \n",
       "72                   0.13390          NaN  \n",
       "\n",
       "[10 rows x 33 columns]"
      ]
     },
     "execution_count": 32,
     "metadata": {},
     "output_type": "execute_result"
    }
   ],
   "source": [
    "df = pd.read_csv('datasets/wbc.csv')\n",
    "df.sample(10)"
   ]
  },
  {
   "cell_type": "code",
   "execution_count": 33,
   "id": "8cfd0d40",
   "metadata": {
    "ExecuteTime": {
     "end_time": "2021-09-21T22:54:18.428721Z",
     "start_time": "2021-09-21T22:54:18.425220Z"
    }
   },
   "outputs": [],
   "source": [
    "df.diagnosis = df.diagnosis.astype('category').cat.codes"
   ]
  },
  {
   "cell_type": "code",
   "execution_count": 34,
   "id": "28f88b9c",
   "metadata": {
    "ExecuteTime": {
     "end_time": "2021-09-21T22:54:18.703625Z",
     "start_time": "2021-09-21T22:54:18.700920Z"
    }
   },
   "outputs": [],
   "source": [
    "target = \"diagnosis\"\n",
    "y = df[target]\n",
    "X = df.drop(target, axis=1)[[\"radius_mean\", \"concave points_mean\"]]#.to_numpy()"
   ]
  },
  {
   "cell_type": "code",
   "execution_count": 35,
   "id": "a2faf25a",
   "metadata": {
    "ExecuteTime": {
     "end_time": "2021-09-21T22:54:18.961576Z",
     "start_time": "2021-09-21T22:54:18.958107Z"
    }
   },
   "outputs": [],
   "source": [
    "X_train, X_test, y_train, y_test = train_test_split(X, y, test_size=0.2, stratify=y, random_state=1)"
   ]
  },
  {
   "cell_type": "markdown",
   "id": "2b5f8f14",
   "metadata": {},
   "source": [
    "## Decision Tree"
   ]
  },
  {
   "cell_type": "code",
   "execution_count": 57,
   "id": "569a1824",
   "metadata": {
    "ExecuteTime": {
     "end_time": "2021-09-22T17:07:12.416474Z",
     "start_time": "2021-09-22T17:07:12.372391Z"
    }
   },
   "outputs": [
    {
     "name": "stdout",
     "output_type": "stream",
     "text": [
      "CV tuned params: {'criterion': 'entropy'}\n",
      "CV best accuracy: 0.8967032967032967\n",
      "Sample predictions: [1 0 0 1 0]\n",
      "Test set accuracy: 0.8947368421052632\n"
     ]
    }
   ],
   "source": [
    "# Instantiate a DecisionTreeClassifier 'dt' with a maximum depth of 6\n",
    "dt = DecisionTreeClassifier(max_depth=6, random_state=1)\n",
    "\n",
    "# Setup the hyperparameter grid\n",
    "param_grid = {\"criterion\": [\"gini\", \"entropy\"]}\n",
    "\n",
    "# Instantiate the GridSearchCV object: logreg_cv\n",
    "dt_cv = GridSearchCV(dt, param_grid, n_jobs=-1)\n",
    "\n",
    "# Fit it to the data\n",
    "dt_cv.fit(X_train, y_train)\n",
    "\n",
    "# Print the tuned parameters and score\n",
    "print(f\"CV tuned params: {dt_cv.best_params_}\")\n",
    "print(f\"CV best accuracy: {dt_cv.best_score_}\")\n",
    "\n",
    "# Predict test set labels\n",
    "y_pred = dt_cv.predict(X_test)\n",
    "print(f\"Sample predictions: {y_pred[0:5]}\")\n",
    "\n",
    "# Compute test set accuracy  \n",
    "acc = accuracy_score(y_test, y_pred)\n",
    "print(f\"Test set accuracy: {acc}\")"
   ]
  },
  {
   "cell_type": "markdown",
   "id": "0b3b307b",
   "metadata": {},
   "source": [
    "## Logistic Regression"
   ]
  },
  {
   "cell_type": "code",
   "execution_count": 43,
   "id": "3a44b199",
   "metadata": {
    "ExecuteTime": {
     "end_time": "2021-09-21T22:56:55.253567Z",
     "start_time": "2021-09-21T22:56:54.880967Z"
    }
   },
   "outputs": [
    {
     "data": {
      "image/png": "[encoded data removed]",
      "text/plain": [
       "<Figure size 864x576 with 2 Axes>"
      ]
     },
     "metadata": {
      "needs_background": "light"
     },
     "output_type": "display_data"
    }
   ],
   "source": [
    "# Instatiate logreg\n",
    "logreg = LogisticRegression(random_state=1)\n",
    "\n",
    "# Fit logreg to the training set\n",
    "logreg.fit(X_train, y_train)\n",
    "\n",
    "# Define a list called clfs containing the two classifiers logreg and dt\n",
    "clfs = [logreg, dt]\n",
    "\n",
    "# Review the decision regions of the two classifiers\n",
    "plot_labeled_decision_regions(X_test, y_test, clfs)"
   ]
  },
  {
   "cell_type": "code",
   "execution_count": null,
   "id": "e0136457",
   "metadata": {},
   "outputs": [],
   "source": []
  }
 ],
 "metadata": {
  "kernelspec": {
   "display_name": "Python 3 (ipykernel)",
   "language": "python",
   "name": "python3"
  },
  "language_info": {
   "codemirror_mode": {
    "name": "ipython",
    "version": 3
   },
   "file_extension": ".py",
   "mimetype": "text/x-python",
   "name": "python",
   "nbconvert_exporter": "python",
   "pygments_lexer": "ipython3",
   "version": "3.8.0"
  },
  "toc": {
   "base_numbering": 1,
   "nav_menu": {},
   "number_sections": true,
   "sideBar": true,
   "skip_h1_title": false,
   "title_cell": "Table of Contents",
   "title_sidebar": "Contents",
   "toc_cell": false,
   "toc_position": {},
   "toc_section_display": true,
   "toc_window_display": true
  },
  "varInspector": {
   "cols": {
    "lenName": 16,
    "lenType": 16,
    "lenVar": 40
   },
   "kernels_config": {
    "python": {
     "delete_cmd_postfix": "",
     "delete_cmd_prefix": "del ",
     "library": "var_list.py",
     "varRefreshCmd": "print(var_dic_list())"
    },
    "r": {
     "delete_cmd_postfix": ") ",
     "delete_cmd_prefix": "rm(",
     "library": "var_list.r",
     "varRefreshCmd": "cat(var_dic_list()) "
    }
   },
   "types_to_exclude": [
    "module",
    "function",
    "builtin_function_or_method",
    "instance",
    "_Feature"
   ],
   "window_display": false
  }
 },
 "nbformat": 4,
 "nbformat_minor": 5
}
