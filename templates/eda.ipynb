{
 "cells": [
  {
   "cell_type": "code",
   "execution_count": 1,
   "id": "2731ba86",
   "metadata": {
    "ExecuteTime": {
     "end_time": "2021-08-06T23:48:18.268893Z",
     "start_time": "2021-08-06T23:48:17.452441Z"
    }
   },
   "outputs": [
    {
     "name": "stdout",
     "output_type": "stream",
     "text": [
      "Author: Ken Cavagnolo\n",
      "\n",
      "Last updated: Fri Aug 06 2021\n",
      "\n",
      "Python implementation: CPython\n",
      "Python version       : 3.8.0\n",
      "IPython version      : 7.25.0\n",
      "\n",
      "jupyter : 1.0.0\n",
      "notebook: 6.4.0\n",
      "pandas  : 1.3.0\n",
      "numpy   : 1.21.0\n",
      "scipy   : 1.7.0\n",
      "\n",
      "Compiler    : GCC 10.3.0\n",
      "OS          : Linux\n",
      "Release     : 5.11.0-7620-generic\n",
      "Machine     : x86_64\n",
      "Processor   : x86_64\n",
      "CPU cores   : 12\n",
      "Architecture: 64bit\n",
      "\n",
      "Hostname: goldfinch\n",
      "\n",
      "Git hash: 7886eb4c04fef3377c90fd2a167e9c0a6e0e89fb\n",
      "\n"
     ]
    }
   ],
   "source": [
    "import glob\n",
    "import itertools\n",
    "import json\n",
    "import os\n",
    "import pickle\n",
    "import random\n",
    "import re\n",
    "import statistics\n",
    "import geopandas as gpd\n",
    "import numpy as np\n",
    "import pandas as pd\n",
    "import plotly.express as px\n",
    "import plotly.graph_objects as go\n",
    "import requests\n",
    "import scipy as sp\n",
    "import seaborn as sns\n",
    "from dotenv import load_dotenv\n",
    "from pandas_profiling import ProfileReport\n",
    "\n",
    "%matplotlib inline\n",
    "import matplotlib as mpl\n",
    "import matplotlib.font_manager\n",
    "import matplotlib.pyplot as plt\n",
    "from matplotlib.pylab import rcParams\n",
    "from matplotlib.ticker import PercentFormatter\n",
    "\n",
    "# dot env for secrets\n",
    "load_dotenv()\n",
    "some_apikey = os.getenv(\"SOME_KEY\")\n",
    "\n",
    "# mapbox\n",
    "TOKEN = os.getenv(\"MAPBOX_TOKEN\")\n",
    "px.set_mapbox_access_token(TOKEN)\n",
    "MAPBOX_STYLE = \"dark\"\n",
    "MAPBOX_HEIGHT = 800\n",
    "\n",
    "# matplotlib configs\n",
    "matplotlib.font_manager.findSystemFonts(fontpaths=None, fontext=\"ttf\")\n",
    "plt.style.use(\"seaborn-colorblind\")\n",
    "plt.rcParams[\"font.family\"] = \"sans-serif\"\n",
    "plt.rcParams[\"font.sans-serif\"] = \"Open Sans\"\n",
    "rcParams[\"figure.figsize\"] = 15, 6\n",
    "\n",
    "# watermark\n",
    "%reload_ext watermark\n",
    "%watermark -a 'Ken Cavagnolo' -n -u -v -m -h -g -p jupyter,notebook,pandas,numpy,scipy"
   ]
  },
  {
   "cell_type": "code",
   "execution_count": null,
   "id": "b3d49cae",
   "metadata": {},
   "outputs": [],
   "source": [
    "# load data\n",
    "df = pd.read_csv()"
   ]
  },
  {
   "cell_type": "code",
   "execution_count": null,
   "id": "44cb4381",
   "metadata": {},
   "outputs": [],
   "source": [
    "# inspect\n",
    "profile = ProfileReport(df)\n",
    "profile"
   ]
  },
  {
   "cell_type": "code",
   "execution_count": null,
   "id": "ffd7d808",
   "metadata": {},
   "outputs": [],
   "source": [
    "# clean column names\n",
    "expression = \"[^A-Za-z0-9]+\"\n",
    "new_col_names = [re.sub(expression, \"_\", x).lower() for x in df.columns]\n",
    "df.columns = new_col_names"
   ]
  },
  {
   "cell_type": "code",
   "execution_count": null,
   "id": "ecddc0a4",
   "metadata": {},
   "outputs": [],
   "source": [
    "# clean dates\n",
    "df['date'] = pd.to_datetime(df['date'])"
   ]
  },
  {
   "cell_type": "code",
   "execution_count": null,
   "id": "da8fd196",
   "metadata": {},
   "outputs": [],
   "source": [
    "# drop complete duplicate\n",
    "df.drop_duplicates(inplace=True)"
   ]
  },
  {
   "cell_type": "code",
   "execution_count": null,
   "id": "21732e95",
   "metadata": {},
   "outputs": [],
   "source": [
    "# replace dupes by some agg func\n",
    "dupe_cols = ['col_a', \"col_b\"]\n",
    "replacements = {'col_c': \"min\", 'col_d': \"mean\"}\n",
    "df = df.groupby(by=dupe_cols).agg(replacements).reset_index()"
   ]
  },
  {
   "cell_type": "code",
   "execution_count": null,
   "id": "e80df0e1",
   "metadata": {},
   "outputs": [],
   "source": [
    "# check for dupes\n",
    "duplicates = df.duplicated(subset=dupe_cols, keep=False)\n",
    "assert df[duplicates == True].shape[0] == 0"
   ]
  },
  {
   "cell_type": "code",
   "execution_count": null,
   "id": "504bc884",
   "metadata": {},
   "outputs": [],
   "source": [
    "# check categories and membership\n",
    "set(df.col_e) ^ set(df.col_f)"
   ]
  },
  {
   "cell_type": "code",
   "execution_count": null,
   "id": "c839a26d",
   "metadata": {},
   "outputs": [],
   "source": [
    "# named categorical bins\n",
    "bins = [0, 60, 180, np.inf]\n",
    "labels = ['short', 'medium', 'long']\n",
    "df['col_g_binned'] = pd.cut(df[\"col_g\"], bins=bins, labels=labels)\n",
    "\n",
    "# Create mappings and replace\n",
    "mappings = {\n",
    "    'Monday': 'weekday',\n",
    "    'Tuesday': 'weekday',\n",
    "    'Wednesday': 'weekday',\n",
    "    'Thursday': 'weekday',\n",
    "    'Friday': 'weekday',\n",
    "    'Saturday': 'weekend',\n",
    "    'Sunday': 'weekend'\n",
    "}\n",
    "df['dow'] = df['day'].replace(mappings)"
   ]
  },
  {
   "cell_type": "code",
   "execution_count": null,
   "id": "d39cbc43",
   "metadata": {},
   "outputs": [],
   "source": [
    "# check strings for consistency\n",
    "check_cols = [\"col_h\", \"col_j\"]\n",
    "for col in check_cols:\n",
    "    sanity = df[col].str.len()\n",
    "    assert sanity.min() >= 10\n",
    "    assert df[col].str.contains(set(punctuation)).any() == False"
   ]
  }
 ],
 "metadata": {
  "kernelspec": {
   "display_name": "Python 3 (ipykernel)",
   "language": "python",
   "name": "python3"
  },
  "language_info": {
   "codemirror_mode": {
    "name": "ipython",
    "version": 3
   },
   "file_extension": ".py",
   "mimetype": "text/x-python",
   "name": "python",
   "nbconvert_exporter": "python",
   "pygments_lexer": "ipython3",
   "version": "3.8.0"
  },
  "toc": {
   "base_numbering": 1,
   "nav_menu": {},
   "number_sections": true,
   "sideBar": true,
   "skip_h1_title": false,
   "title_cell": "Table of Contents",
   "title_sidebar": "Contents",
   "toc_cell": false,
   "toc_position": {},
   "toc_section_display": true,
   "toc_window_display": false
  }
 },
 "nbformat": 4,
 "nbformat_minor": 5
}
