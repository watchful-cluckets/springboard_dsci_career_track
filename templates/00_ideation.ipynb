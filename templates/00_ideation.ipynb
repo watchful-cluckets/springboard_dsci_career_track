{
 "cells": [
  {
   "cell_type": "markdown",
   "id": "e0659f3e",
   "metadata": {
    "toc": true
   },
   "source": [
    "<h1>Table of Contents<span class=\"tocSkip\"></span></h1>\n",
    "<div class=\"toc\"><ul class=\"toc-item\"><li><span><a href=\"#Ideation\" data-toc-modified-id=\"Ideation-1\"><span class=\"toc-item-num\">1&nbsp;&nbsp;</span>Ideation</a></span><ul class=\"toc-item\"><li><span><a href=\"#Imports\" data-toc-modified-id=\"Imports-1.1\"><span class=\"toc-item-num\">1.1&nbsp;&nbsp;</span>Imports</a></span></li></ul></li></ul></div>"
   ]
  },
  {
   "cell_type": "markdown",
   "id": "f8f52927",
   "metadata": {},
   "source": [
    "# Ideation"
   ]
  },
  {
   "cell_type": "markdown",
   "id": "35207a96",
   "metadata": {},
   "source": [
    "## Imports"
   ]
  },
  {
   "cell_type": "code",
   "execution_count": null,
   "id": "120872a7",
   "metadata": {},
   "outputs": [],
   "source": [
    "import fuzzywuzzy\n",
    "import glob\n",
    "import humanize\n",
    "import itertools\n",
    "import json\n",
    "import missingno as msno\n",
    "import os\n",
    "import pickle\n",
    "import random\n",
    "import re\n",
    "import statistics\n",
    "import statsmodels\n",
    "import geopandas as gpd\n",
    "import numpy as np\n",
    "import pandas as pd\n",
    "import plotly.express as px\n",
    "import plotly.graph_objects as go\n",
    "import recordlinkage\n",
    "import requests\n",
    "import scipy as sp\n",
    "import seaborn as sns\n",
    "from dotenv import load_dotenv\n",
    "from pandas_profiling import ProfileReport\n",
    "from string import punctuation\n",
    "\n",
    "%matplotlib inline\n",
    "import matplotlib as mpl\n",
    "import matplotlib.font_manager\n",
    "import matplotlib.pyplot as plt\n",
    "from matplotlib.pylab import rcParams\n",
    "from matplotlib.ticker import PercentFormatter\n",
    "\n",
    "# dot env for secrets\n",
    "load_dotenv()\n",
    "some_apikey = os.getenv(\"SOME_KEY\")\n",
    "\n",
    "# mapbox\n",
    "TOKEN = os.getenv(\"MAPBOX_TOKEN\")\n",
    "px.set_mapbox_access_token(TOKEN)\n",
    "MAPBOX_STYLE = \"dark\"\n",
    "MAPBOX_HEIGHT = 800\n",
    "\n",
    "# matplotlib configs\n",
    "matplotlib.font_manager.findSystemFonts(fontpaths=None, fontext=\"ttf\")\n",
    "plt.style.use(\"seaborn-colorblind\")\n",
    "plt.rcParams[\"font.family\"] = \"sans-serif\"\n",
    "plt.rcParams[\"font.sans-serif\"] = \"Open Sans\"\n",
    "rcParams[\"figure.figsize\"] = 15, 6\n",
    "\n",
    "# watermark\n",
    "%reload_ext watermark\n",
    "%watermark -a 'Ken Cavagnolo' -n -u -v -m -h -g -p jupyter,notebook,pandas,numpy,scipy"
   ]
  },
  {
   "cell_type": "code",
   "execution_count": null,
   "id": "1a436ee8",
   "metadata": {},
   "outputs": [],
   "source": []
  }
 ],
 "metadata": {
  "kernelspec": {
   "display_name": "Python 3 (ipykernel)",
   "language": "python",
   "name": "python3"
  },
  "language_info": {
   "codemirror_mode": {
    "name": "ipython",
    "version": 3
   },
   "file_extension": ".py",
   "mimetype": "text/x-python",
   "name": "python",
   "nbconvert_exporter": "python",
   "pygments_lexer": "ipython3",
   "version": "3.8.0"
  },
  "toc": {
   "base_numbering": 1,
   "nav_menu": {},
   "number_sections": true,
   "sideBar": true,
   "skip_h1_title": false,
   "title_cell": "Table of Contents",
   "title_sidebar": "Contents",
   "toc_cell": true,
   "toc_position": {},
   "toc_section_display": true,
   "toc_window_display": true
  }
 },
 "nbformat": 4,
 "nbformat_minor": 5
}
