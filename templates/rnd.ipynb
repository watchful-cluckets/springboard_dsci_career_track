{
 "cells": [
  {
   "cell_type": "markdown",
   "id": "26d1a1b2",
   "metadata": {
    "toc": true
   },
   "source": [
    "<h1>Table of Contents<span class=\"tocSkip\"></span></h1>\n",
    "<div class=\"toc\"><ul class=\"toc-item\"><li><span><a href=\"#Research-and-Development-(RND)\" data-toc-modified-id=\"Research-and-Development-(RND)-1\"><span class=\"toc-item-num\">1&nbsp;&nbsp;</span>Research and Development (RND)</a></span><ul class=\"toc-item\"><li><span><a href=\"#Imports\" data-toc-modified-id=\"Imports-1.1\"><span class=\"toc-item-num\">1.1&nbsp;&nbsp;</span>Imports</a></span></li><li><span><a href=\"#Load-Data\" data-toc-modified-id=\"Load-Data-1.2\"><span class=\"toc-item-num\">1.2&nbsp;&nbsp;</span>Load Data</a></span></li><li><span><a href=\"#Basic-Stats\" data-toc-modified-id=\"Basic-Stats-1.3\"><span class=\"toc-item-num\">1.3&nbsp;&nbsp;</span>Basic Stats</a></span></li><li><span><a href=\"#Correlations\" data-toc-modified-id=\"Correlations-1.4\"><span class=\"toc-item-num\">1.4&nbsp;&nbsp;</span>Correlations</a></span></li><li><span><a href=\"#Regressions\" data-toc-modified-id=\"Regressions-1.5\"><span class=\"toc-item-num\">1.5&nbsp;&nbsp;</span>Regressions</a></span></li></ul></li></ul></div>"
   ]
  },
  {
   "cell_type": "markdown",
   "id": "465feb58",
   "metadata": {},
   "source": [
    "# Research and Development (RND)"
   ]
  },
  {
   "cell_type": "markdown",
   "id": "a8f388c6",
   "metadata": {},
   "source": [
    "This notebook attempts to capture the basic steps involved in most initial research and development (RND) activities leading up to the scripting, modularization, and packaging of production-ready code. In the [Domino Data Lab Data Science Lifecycle](https://www.dominodatalab.com/resources/field-guide/managing-data-science-projects/) (a personal favorite of mine), RND aims to generate valuable insights that the business needs to make decisions.\n",
    "\n",
    "\n",
    "![img](../assets/dsci-lifecycle-rnd.png)"
   ]
  },
  {
   "cell_type": "markdown",
   "id": "416fe8fa",
   "metadata": {},
   "source": [
    "## Imports"
   ]
  },
  {
   "cell_type": "code",
   "execution_count": 1,
   "id": "7b46372b",
   "metadata": {
    "ExecuteTime": {
     "end_time": "2021-08-09T20:27:58.410710Z",
     "start_time": "2021-08-09T20:27:57.003358Z"
    }
   },
   "outputs": [
    {
     "name": "stdout",
     "output_type": "stream",
     "text": [
      "Author: Ken Cavagnolo\n",
      "\n",
      "Last updated: Mon Aug 09 2021\n",
      "\n",
      "Python implementation: CPython\n",
      "Python version       : 3.8.0\n",
      "IPython version      : 7.25.0\n",
      "\n",
      "jupyter : 1.0.0\n",
      "notebook: 6.4.0\n",
      "pandas  : 1.3.0\n",
      "numpy   : 1.21.0\n",
      "scipy   : 1.7.0\n",
      "\n",
      "Compiler    : GCC 10.3.0\n",
      "OS          : Linux\n",
      "Release     : 5.11.0-7620-generic\n",
      "Machine     : x86_64\n",
      "Processor   : x86_64\n",
      "CPU cores   : 12\n",
      "Architecture: 64bit\n",
      "\n",
      "Hostname: goldfinch\n",
      "\n",
      "Git hash: 827800850bf3c63cbde3dbf16410107476f840b0\n",
      "\n"
     ]
    }
   ],
   "source": [
    "import fuzzywuzzy\n",
    "import glob\n",
    "import humanize\n",
    "import itertools\n",
    "import json\n",
    "import missingno as msno\n",
    "import os\n",
    "import pickle\n",
    "import random\n",
    "import re\n",
    "import statistics\n",
    "import geopandas as gpd\n",
    "import numpy as np\n",
    "import pandas as pd\n",
    "import plotly.express as px\n",
    "import plotly.graph_objects as go\n",
    "import recordlinkage\n",
    "import requests\n",
    "import scipy as sp\n",
    "import seaborn as sns\n",
    "from dotenv import load_dotenv\n",
    "from pandas_profiling import ProfileReport\n",
    "from string import punctuation\n",
    "\n",
    "%matplotlib inline\n",
    "import matplotlib as mpl\n",
    "import matplotlib.font_manager\n",
    "import matplotlib.pyplot as plt\n",
    "from matplotlib.pylab import rcParams\n",
    "from matplotlib.ticker import PercentFormatter\n",
    "\n",
    "# dot env for secrets\n",
    "load_dotenv()\n",
    "some_apikey = os.getenv(\"SOME_KEY\")\n",
    "\n",
    "# mapbox\n",
    "TOKEN = os.getenv(\"MAPBOX_TOKEN\")\n",
    "px.set_mapbox_access_token(TOKEN)\n",
    "MAPBOX_STYLE = \"dark\"\n",
    "MAPBOX_HEIGHT = 800\n",
    "\n",
    "# matplotlib configs\n",
    "matplotlib.font_manager.findSystemFonts(fontpaths=None, fontext=\"ttf\")\n",
    "plt.style.use(\"seaborn-colorblind\")\n",
    "plt.rcParams[\"font.family\"] = \"sans-serif\"\n",
    "plt.rcParams[\"font.sans-serif\"] = \"Open Sans\"\n",
    "rcParams[\"figure.figsize\"] = 15, 6\n",
    "\n",
    "# watermark\n",
    "%reload_ext watermark\n",
    "%watermark -a 'Ken Cavagnolo' -n -u -v -m -h -g -p jupyter,notebook,pandas,numpy,scipy"
   ]
  },
  {
   "cell_type": "markdown",
   "id": "81106bfc",
   "metadata": {},
   "source": [
    "## Load Data"
   ]
  },
  {
   "cell_type": "code",
   "execution_count": null,
   "id": "ed9814a4",
   "metadata": {
    "ExecuteTime": {
     "end_time": "2021-08-09T20:25:22.548271Z",
     "start_time": "2021-08-09T20:25:22.546102Z"
    }
   },
   "outputs": [],
   "source": [
    "df = pd.read_hdf(\"clean-data.h5\", \"data\")"
   ]
  },
  {
   "cell_type": "markdown",
   "id": "f3271d90",
   "metadata": {},
   "source": [
    "## Basic Stats"
   ]
  },
  {
   "cell_type": "code",
   "execution_count": null,
   "id": "cff1d0ac",
   "metadata": {},
   "outputs": [],
   "source": [
    "# column of interest\n",
    "data_col = \"col_a\""
   ]
  },
  {
   "cell_type": "code",
   "execution_count": null,
   "id": "532fb9d0",
   "metadata": {},
   "outputs": [],
   "source": [
    "# create a model Gaussian CDF\n",
    "mean, std = df[data_col].mean(), df[data_col].std()\n",
    "dist = sp.stats.norm(mean, std)\n",
    "\n",
    "# evaluate the model CDF\n",
    "xs = np.linspace(df[data_col].min(), df[data_col].max())\n",
    "ys = dist.cdf(xs)"
   ]
  },
  {
   "cell_type": "code",
   "execution_count": null,
   "id": "1f89fcf9",
   "metadata": {},
   "outputs": [],
   "source": [
    "# plot the model CDF\n",
    "fig, ax = plt.subplots()\n",
    "plt.plot(xs, ys, color='gray')\n",
    "\n",
    "# ECDF\n",
    "sns.ecdfplot(data=df, y=data_col, ax=ax)"
   ]
  },
  {
   "cell_type": "code",
   "execution_count": null,
   "id": "918432a7",
   "metadata": {},
   "outputs": [],
   "source": [
    "# PMF == range of discrete random variables\n",
    "probabilities = df[\"data_col\"].value_counts(normalize=True)\n",
    "sns.barplot(probabilities.index, probabilities.values)"
   ]
  },
  {
   "cell_type": "code",
   "execution_count": null,
   "id": "dfceef77",
   "metadata": {},
   "outputs": [],
   "source": [
    "# create a model Gaussian PDF\n",
    "ys = dist.pdf(xs)"
   ]
  },
  {
   "cell_type": "code",
   "execution_count": null,
   "id": "b2f57f09",
   "metadata": {},
   "outputs": [],
   "source": [
    "# plot the model PDF\n",
    "fig, ax = plt.subplots()\n",
    "plt.plot(xs, ys, color='gray')\n",
    "\n",
    "# PDF == range of continuous random variables\n",
    "sns.displot(data=df, x=data_col, kind=\"hist\")\n",
    "\n",
    "# KDE == smoothed range of continuous random variables\n",
    "sns.displot(data=df, x=data_col, kind=\"kde\")"
   ]
  },
  {
   "cell_type": "markdown",
   "id": "636c7649",
   "metadata": {},
   "source": [
    "## Correlations"
   ]
  },
  {
   "cell_type": "code",
   "execution_count": null,
   "id": "13bf1f06",
   "metadata": {},
   "outputs": [],
   "source": [
    "# DON'T BE DUPED! Corr works for linear relationships only\n",
    "corr_cols = [\"col_a\", \"col_b\", \"col_c\"]\n",
    "corr = df[corr_cols].corr()\n",
    "\n",
    "# Generate a mask for the upper triangle\n",
    "mask = np.triu(np.ones_like(corr, dtype=bool))\n",
    "\n",
    "# Set up the matplotlib figure\n",
    "f, ax = plt.subplots()\n",
    "\n",
    "# Generate a custom diverging colormap\n",
    "cmap = sns.diverging_palette(230, 20, as_cmap=True)\n",
    "\n",
    "# Draw the heatmap with the mask and correct aspect ratio\n",
    "sns.heatmap(corr, mask=mask, cmap=cmap, vmax=.3, center=0,\n",
    "            square=True, linewidths=.5, cbar_kws={\"shrink\": .5})"
   ]
  },
  {
   "cell_type": "markdown",
   "id": "9bfaebff",
   "metadata": {},
   "source": [
    "## Regressions"
   ]
  },
  {
   "cell_type": "code",
   "execution_count": null,
   "id": "bf9542a8",
   "metadata": {},
   "outputs": [],
   "source": [
    "# fit a linear regression model\n",
    "xs = df.col_a\n",
    "ys = df.col_b\n",
    "fit = sp.stats.linregress(xs, ys)\n",
    "print(fit)\n",
    "\n",
    "ax = sns.regplot(data=df, x=\"col_a\", y=\"col_b\", x_jitter=.1)"
   ]
  }
 ],
 "metadata": {
  "kernelspec": {
   "display_name": "Python 3 (ipykernel)",
   "language": "python",
   "name": "python3"
  },
  "language_info": {
   "codemirror_mode": {
    "name": "ipython",
    "version": 3
   },
   "file_extension": ".py",
   "mimetype": "text/x-python",
   "name": "python",
   "nbconvert_exporter": "python",
   "pygments_lexer": "ipython3",
   "version": "3.8.0"
  },
  "toc": {
   "base_numbering": 1,
   "nav_menu": {},
   "number_sections": true,
   "sideBar": true,
   "skip_h1_title": false,
   "title_cell": "Table of Contents",
   "title_sidebar": "Contents",
   "toc_cell": true,
   "toc_position": {
    "height": "calc(100% - 180px)",
    "left": "10px",
    "top": "150px",
    "width": "384px"
   },
   "toc_section_display": true,
   "toc_window_display": true
  }
 },
 "nbformat": 4,
 "nbformat_minor": 5
}
