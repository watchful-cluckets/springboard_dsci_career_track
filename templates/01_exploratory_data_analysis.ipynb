{
 "cells": [
  {
   "cell_type": "markdown",
   "id": "9a9117e2",
   "metadata": {
    "toc": true
   },
   "source": [
    "<h1>Table of Contents<span class=\"tocSkip\"></span></h1>\n",
    "<div class=\"toc\"><ul class=\"toc-item\"><li><span><a href=\"#Exploratory-Data-Analysis-(EDA)\" data-toc-modified-id=\"Exploratory-Data-Analysis-(EDA)-1\"><span class=\"toc-item-num\">1&nbsp;&nbsp;</span>Exploratory Data Analysis (EDA)</a></span><ul class=\"toc-item\"><li><span><a href=\"#Imports\" data-toc-modified-id=\"Imports-1.1\"><span class=\"toc-item-num\">1.1&nbsp;&nbsp;</span>Imports</a></span></li><li><span><a href=\"#Load-Data\" data-toc-modified-id=\"Load-Data-1.2\"><span class=\"toc-item-num\">1.2&nbsp;&nbsp;</span>Load Data</a></span></li><li><span><a href=\"#Data-Types\" data-toc-modified-id=\"Data-Types-1.3\"><span class=\"toc-item-num\">1.3&nbsp;&nbsp;</span>Data Types</a></span></li><li><span><a href=\"#Data-Ranges\" data-toc-modified-id=\"Data-Ranges-1.4\"><span class=\"toc-item-num\">1.4&nbsp;&nbsp;</span>Data Ranges</a></span></li><li><span><a href=\"#Uniqueness\" data-toc-modified-id=\"Uniqueness-1.5\"><span class=\"toc-item-num\">1.5&nbsp;&nbsp;</span>Uniqueness</a></span></li><li><span><a href=\"#Categoricals\" data-toc-modified-id=\"Categoricals-1.6\"><span class=\"toc-item-num\">1.6&nbsp;&nbsp;</span>Categoricals</a></span></li><li><span><a href=\"#Text\" data-toc-modified-id=\"Text-1.7\"><span class=\"toc-item-num\">1.7&nbsp;&nbsp;</span>Text</a></span></li><li><span><a href=\"#Uniformity\" data-toc-modified-id=\"Uniformity-1.8\"><span class=\"toc-item-num\">1.8&nbsp;&nbsp;</span>Uniformity</a></span></li><li><span><a href=\"#Cross-field-Validation\" data-toc-modified-id=\"Cross-field-Validation-1.9\"><span class=\"toc-item-num\">1.9&nbsp;&nbsp;</span>Cross-field Validation</a></span></li><li><span><a href=\"#Completeness\" data-toc-modified-id=\"Completeness-1.10\"><span class=\"toc-item-num\">1.10&nbsp;&nbsp;</span>Completeness</a></span><ul class=\"toc-item\"><li><span><a href=\"#Drop-NA?\" data-toc-modified-id=\"Drop-NA?-1.10.1\"><span class=\"toc-item-num\">1.10.1&nbsp;&nbsp;</span>Drop NA?</a></span></li><li><span><a href=\"#Replace-NA-w/-mean?\" data-toc-modified-id=\"Replace-NA-w/-mean?-1.10.2\"><span class=\"toc-item-num\">1.10.2&nbsp;&nbsp;</span>Replace NA w/ mean?</a></span></li><li><span><a href=\"#Impute-NA?\" data-toc-modified-id=\"Impute-NA?-1.10.3\"><span class=\"toc-item-num\">1.10.3&nbsp;&nbsp;</span>Impute NA?</a></span></li></ul></li><li><span><a href=\"#String-Comparison\" data-toc-modified-id=\"String-Comparison-1.11\"><span class=\"toc-item-num\">1.11&nbsp;&nbsp;</span>String Comparison</a></span></li><li><span><a href=\"#Record-Linkage\" data-toc-modified-id=\"Record-Linkage-1.12\"><span class=\"toc-item-num\">1.12&nbsp;&nbsp;</span>Record Linkage</a></span></li><li><span><a href=\"#Write-Data\" data-toc-modified-id=\"Write-Data-1.13\"><span class=\"toc-item-num\">1.13&nbsp;&nbsp;</span>Write Data</a></span></li></ul></li></ul></div>"
   ]
  },
  {
   "cell_type": "markdown",
   "id": "60f875de",
   "metadata": {},
   "source": [
    "# Exploratory Data Analysis (EDA)"
   ]
  },
  {
   "cell_type": "markdown",
   "id": "d86cd788",
   "metadata": {},
   "source": [
    "This notebook attempts to capture the basic steps involved in most exploratory data analysis (EDA). The EDA process is heavily focused on best practices, so don't be afraid to learn from others and use their process (with appropriate citation). For example, in the [Domino Data Lab Data Science Lifecycle](https://www.dominodatalab.com/resources/field-guide/managing-data-science-projects/) (a personal favorite of mine), EDA occupies a small but critical, time-consuming step in solving the right problem the right way.\n",
    "\n",
    "![img](../assets/dsci-lifecycle-eda.png)"
   ]
  },
  {
   "cell_type": "markdown",
   "id": "b83e4c35",
   "metadata": {},
   "source": [
    "## Imports"
   ]
  },
  {
   "cell_type": "code",
   "execution_count": null,
   "id": "b2206ad4",
   "metadata": {
    "ExecuteTime": {
     "end_time": "2021-08-09T19:05:05.675883Z",
     "start_time": "2021-08-09T19:05:05.562890Z"
    }
   },
   "outputs": [],
   "source": [
    "import glob\n",
    "import itertools\n",
    "import json\n",
    "import os\n",
    "import pickle\n",
    "import random\n",
    "import re\n",
    "import statistics\n",
    "from string import punctuation\n",
    "\n",
    "import geopandas as gpd\n",
    "import humanize\n",
    "import missingno as msno\n",
    "import numpy as np\n",
    "import pandas as pd\n",
    "import plotly.express as px\n",
    "import plotly.graph_objects as go\n",
    "import recordlinkage\n",
    "import requests\n",
    "import scipy as sp\n",
    "import seaborn as sns\n",
    "from dotenv import load_dotenv\n",
    "from pandas_profiling import ProfileReport\n",
    "\n",
    "%matplotlib inline\n",
    "import matplotlib as mpl\n",
    "import matplotlib.font_manager\n",
    "import matplotlib.pyplot as plt\n",
    "from matplotlib.pylab import rcParams\n",
    "from matplotlib.ticker import PercentFormatter\n",
    "\n",
    "# dot env for secrets\n",
    "load_dotenv()\n",
    "some_apikey = os.getenv(\"SOME_KEY\")\n",
    "\n",
    "# mapbox\n",
    "TOKEN = os.getenv(\"MAPBOX_TOKEN\")\n",
    "px.set_mapbox_access_token(TOKEN)\n",
    "MAPBOX_STYLE = \"dark\"\n",
    "MAPBOX_HEIGHT = 800\n",
    "\n",
    "# matplotlib configs\n",
    "matplotlib.font_manager.findSystemFonts(fontpaths=None, fontext=\"ttf\")\n",
    "plt.style.use(\"seaborn-colorblind\")\n",
    "plt.rcParams[\"font.family\"] = \"sans-serif\"\n",
    "plt.rcParams[\"font.sans-serif\"] = \"Open Sans\"\n",
    "rcParams[\"figure.figsize\"] = 15, 6\n",
    "\n",
    "# watermark\n",
    "%reload_ext watermark\n",
    "%watermark -a 'Ken Cavagnolo' -n -u -v -m -h -g -p jupyter,notebook,pandas,numpy,scipy"
   ]
  },
  {
   "cell_type": "markdown",
   "id": "4aa9bee9",
   "metadata": {},
   "source": [
    "## Load Data"
   ]
  },
  {
   "cell_type": "code",
   "execution_count": null,
   "id": "b3d49cae",
   "metadata": {},
   "outputs": [],
   "source": [
    "# load data\n",
    "df = pd.read_csv()"
   ]
  },
  {
   "cell_type": "code",
   "execution_count": null,
   "id": "44cb4381",
   "metadata": {
    "ExecuteTime": {
     "end_time": "2021-08-18T19:50:16.708337Z",
     "start_time": "2021-08-18T19:50:16.656056Z"
    }
   },
   "outputs": [],
   "source": [
    "# inspect\n",
    "profile_report = df.profile_report(\n",
    "    sort=None, explorative=True, html={\"style\": {\"full_width\": True}}, progress_bar=True\n",
    ")\n",
    "profile_report.to_file(\"../docs/example_profiling.html\")\n",
    "# profile_report"
   ]
  },
  {
   "cell_type": "code",
   "execution_count": null,
   "id": "ffd7d808",
   "metadata": {},
   "outputs": [],
   "source": [
    "# clean column names\n",
    "expression = \"[^A-Za-z0-9]+\"\n",
    "new_col_names = [re.sub(expression, \"_\", x).lower() for x in df.columns]\n",
    "df.columns = new_col_names"
   ]
  },
  {
   "cell_type": "markdown",
   "id": "dc4ccfc3",
   "metadata": {},
   "source": [
    "## Data Types"
   ]
  },
  {
   "cell_type": "code",
   "execution_count": null,
   "id": "ecddc0a4",
   "metadata": {},
   "outputs": [],
   "source": [
    "# clean dates\n",
    "df[\"date\"] = pd.to_datetime(df[\"date\"])"
   ]
  },
  {
   "cell_type": "code",
   "execution_count": null,
   "id": "da8fd196",
   "metadata": {},
   "outputs": [],
   "source": [
    "# drop complete duplicate\n",
    "df.drop_duplicates(inplace=True)"
   ]
  },
  {
   "cell_type": "markdown",
   "id": "d6817d74",
   "metadata": {},
   "source": [
    "## Data Ranges"
   ]
  },
  {
   "cell_type": "markdown",
   "id": "197449ed",
   "metadata": {},
   "source": [
    "- data sums to `{>, <, =} some_value`\n",
    "- data between values `min` or `max`\n",
    "- obvious outliers\n",
    "- column sum assertions"
   ]
  },
  {
   "cell_type": "code",
   "execution_count": null,
   "id": "26b63459",
   "metadata": {
    "ExecuteTime": {
     "end_time": "2021-08-09T17:16:21.907550Z",
     "start_time": "2021-08-09T17:16:21.898837Z"
    }
   },
   "outputs": [],
   "source": [
    "assert sum(df[\"col_a\"] < 0) == 0, \"There are some negative values\""
   ]
  },
  {
   "cell_type": "markdown",
   "id": "1a9078dc",
   "metadata": {},
   "source": [
    "## Uniqueness "
   ]
  },
  {
   "cell_type": "code",
   "execution_count": null,
   "id": "21732e95",
   "metadata": {},
   "outputs": [],
   "source": [
    "# replace dupes by some agg func\n",
    "dupe_cols = [\"col_a\", \"col_b\"]\n",
    "replacements = {\"col_c\": \"min\", \"col_d\": \"mean\"}\n",
    "df = df.groupby(by=dupe_cols).agg(replacements).reset_index()"
   ]
  },
  {
   "cell_type": "code",
   "execution_count": null,
   "id": "e80df0e1",
   "metadata": {},
   "outputs": [],
   "source": [
    "# check for dupes\n",
    "duplicates = df.duplicated(subset=dupe_cols, keep=False)\n",
    "assert df[duplicates == True].shape[0] == 0"
   ]
  },
  {
   "cell_type": "markdown",
   "id": "cef1ccfa",
   "metadata": {},
   "source": [
    "## Categoricals"
   ]
  },
  {
   "cell_type": "code",
   "execution_count": null,
   "id": "12ccd38e",
   "metadata": {},
   "outputs": [],
   "source": [
    "# look for possible categorical columns\n",
    "for col in cache_data.select_dtypes(include=[\"object\"]).columns:\n",
    "    if 2 < len(cache_data[col].value_counts()) < 10:\n",
    "        print(f\"Column may be categorical: {col}\")"
   ]
  },
  {
   "cell_type": "code",
   "execution_count": null,
   "id": "504bc884",
   "metadata": {},
   "outputs": [],
   "source": [
    "# check categories and membership\n",
    "set(df.col_e) ^ set(df.col_f)"
   ]
  },
  {
   "cell_type": "code",
   "execution_count": null,
   "id": "c839a26d",
   "metadata": {},
   "outputs": [],
   "source": [
    "# named categorical bins\n",
    "bins = [0, 60, 180, np.inf]\n",
    "labels = [\"short\", \"medium\", \"long\"]\n",
    "df[\"col_g_binned\"] = pd.cut(df[\"col_g\"], bins=bins, labels=labels)\n",
    "\n",
    "# Create mappings and replace\n",
    "mappings = {\n",
    "    \"Monday\": \"weekday\",\n",
    "    \"Tuesday\": \"weekday\",\n",
    "    \"Wednesday\": \"weekday\",\n",
    "    \"Thursday\": \"weekday\",\n",
    "    \"Friday\": \"weekday\",\n",
    "    \"Saturday\": \"weekend\",\n",
    "    \"Sunday\": \"weekend\",\n",
    "}\n",
    "df[\"dow\"] = df[\"day\"].replace(mappings)"
   ]
  },
  {
   "cell_type": "markdown",
   "id": "85968a4c",
   "metadata": {},
   "source": [
    "## Text"
   ]
  },
  {
   "cell_type": "code",
   "execution_count": null,
   "id": "d39cbc43",
   "metadata": {},
   "outputs": [],
   "source": [
    "# check strings for consistency\n",
    "check_cols = [\"col_h\", \"col_j\"]\n",
    "for col in check_cols:\n",
    "    sanity = df[col].str.len()\n",
    "    assert sanity.min() >= 10\n",
    "    assert df[col].str.contains(set(punctuation)).any() == False"
   ]
  },
  {
   "cell_type": "markdown",
   "id": "e092e269",
   "metadata": {},
   "source": [
    "## Uniformity"
   ]
  },
  {
   "cell_type": "markdown",
   "id": "80658a13",
   "metadata": {},
   "source": [
    "- dates\n",
    "- units of measure\n",
    "- geospatial coords"
   ]
  },
  {
   "cell_type": "code",
   "execution_count": null,
   "id": "ff7470f5",
   "metadata": {},
   "outputs": [],
   "source": [
    "# datetime coersion\n",
    "df[\"date\"] = pd.to_datetime(\n",
    "    df[\"date\"],\n",
    "    infer_datetime_format=True,  # Infer datetime format\n",
    "    errors=\"coerce\",  # Return missing value for error\n",
    ")"
   ]
  },
  {
   "cell_type": "markdown",
   "id": "3dc59b9a",
   "metadata": {},
   "source": [
    "## Cross-field Validation"
   ]
  },
  {
   "cell_type": "markdown",
   "id": "f08adc1f",
   "metadata": {},
   "source": [
    "- row-wise sum to each other, e.g. `col_a + col_b == col_total`\n",
    "- calculated values like ages, e.g. `today.year - bday.dt.year == age`"
   ]
  },
  {
   "cell_type": "code",
   "execution_count": null,
   "id": "c7520518",
   "metadata": {},
   "outputs": [],
   "source": [
    "# columns must sum\n",
    "cols = [\"a\", \"b\", \"c\", \"d\"]\n",
    "assert len(df[cols].sum(axis=1) != df.target_col) == 0, \"Inconsistent sums\""
   ]
  },
  {
   "cell_type": "markdown",
   "id": "88d2bddd",
   "metadata": {
    "ExecuteTime": {
     "end_time": "2021-08-09T17:28:41.300758Z",
     "start_time": "2021-08-09T17:28:41.298615Z"
    }
   },
   "source": [
    "## Completeness"
   ]
  },
  {
   "cell_type": "markdown",
   "id": "044f80d8",
   "metadata": {},
   "source": [
    "[Missing data...](https://en.wikipedia.org/wiki/Missing_data)\n",
    "\n",
    "- missing completely at random (MCAR) -- no systematic relationship between missing and other data, e.g. data corruption, entry error\n",
    "- missing at random (MAR) -- systematic relationship between missing and other measured data, e.g. missing humidity for low temperatures\n",
    "- missing not at random (MNAR) -- systematic relationship missing and unmeasured data, e.g. missing temps above 120 F"
   ]
  },
  {
   "cell_type": "code",
   "execution_count": null,
   "id": "20ec6109",
   "metadata": {},
   "outputs": [],
   "source": [
    "# overview\n",
    "msno.matrix(df.sample(250))\n",
    "\n",
    "# maybe sort a col?\n",
    "msno.matrix(df.sort_values(by=\"col_x\"))"
   ]
  },
  {
   "cell_type": "code",
   "execution_count": null,
   "id": "f799c8eb",
   "metadata": {},
   "outputs": [],
   "source": [
    "# missing summary\n",
    "df[df.col.isna()].describe()\n",
    "\n",
    "# complete summary\n",
    "df[~df.col.isna()].describe()"
   ]
  },
  {
   "cell_type": "code",
   "execution_count": null,
   "id": "883f2093",
   "metadata": {},
   "outputs": [],
   "source": [
    "# bar plot\n",
    "msno.bar(df.sample(1000))"
   ]
  },
  {
   "cell_type": "code",
   "execution_count": null,
   "id": "8b7c1056",
   "metadata": {},
   "outputs": [],
   "source": [
    "# heatmap\n",
    "msno.heatmap(df)"
   ]
  },
  {
   "cell_type": "code",
   "execution_count": null,
   "id": "e188d149",
   "metadata": {},
   "outputs": [],
   "source": [
    "# missing value connections\n",
    "msno.dendrogram(df)"
   ]
  },
  {
   "cell_type": "code",
   "execution_count": null,
   "id": "e93b3499",
   "metadata": {},
   "outputs": [],
   "source": [
    "# missing time values\n",
    "msno.matrix(df.set_index(pd.period_range(\"1/1/2011\", \"2/1/2015\", freq=\"M\")), freq=\"BQ\")"
   ]
  },
  {
   "cell_type": "markdown",
   "id": "400f5a72",
   "metadata": {},
   "source": [
    "### Drop NA?"
   ]
  },
  {
   "cell_type": "code",
   "execution_count": null,
   "id": "d0629dc5",
   "metadata": {},
   "outputs": [],
   "source": [
    "df.dropna(inplace=True)  # drop all na?\n",
    "df.dropna(subset=[\"col_y\"], inplace=True)  # drop some na?"
   ]
  },
  {
   "cell_type": "markdown",
   "id": "22f0e4fa",
   "metadata": {},
   "source": [
    "### Replace NA w/ mean?"
   ]
  },
  {
   "cell_type": "code",
   "execution_count": null,
   "id": "e9ac4bf2",
   "metadata": {},
   "outputs": [],
   "source": [
    "d_mean_val = df.col_d.mean()\n",
    "e_mean_val = df.col_e.mean()\n",
    "replacement = {\"col_d\": d_mean_val, \"col_e\": e_mean_val}\n",
    "df.fillna(replacement)"
   ]
  },
  {
   "cell_type": "markdown",
   "id": "fa44a171",
   "metadata": {},
   "source": [
    "### Impute NA?"
   ]
  },
  {
   "cell_type": "code",
   "execution_count": null,
   "id": "f30f1480",
   "metadata": {},
   "outputs": [],
   "source": [
    "df_partial = df.dropna(subset=[\"col_n\"])\n",
    "impute_val = df_partial.col_n * 5.0\n",
    "df.fillna({\"col_n\": impute_val}, inplace=True)\n",
    "print(df.isna().sum())"
   ]
  },
  {
   "cell_type": "markdown",
   "id": "bf400d8b",
   "metadata": {},
   "source": [
    "## String Comparison"
   ]
  },
  {
   "cell_type": "code",
   "execution_count": null,
   "id": "1454602c",
   "metadata": {},
   "outputs": [],
   "source": [
    "# mass replacement of user supplied data\n",
    "ground_truths = [\"airbnb_\", \"uber_\"]\n",
    "for truth in ground_truths:\n",
    "    possible_matches = fuzzywuzzy.process.extract(truth, df[\"uuid\"], limit=df.shape[0])\n",
    "    for match in possible_matches:\n",
    "        if match[1] > 80:\n",
    "            df.loc[df[\"uuid\"] == match[0], \"uuid\"] == truth"
   ]
  },
  {
   "cell_type": "markdown",
   "id": "cb505f7f",
   "metadata": {},
   "source": [
    "## Record Linkage"
   ]
  },
  {
   "cell_type": "code",
   "execution_count": null,
   "id": "dd784742",
   "metadata": {
    "ExecuteTime": {
     "end_time": "2021-08-09T19:10:31.512973Z",
     "start_time": "2021-08-09T19:10:31.453998Z"
    }
   },
   "outputs": [],
   "source": [
    "# use \"blocking\" to find record pairs\n",
    "indexer = recordlinkage.Index()\n",
    "indexer.block(\"uuid\")\n",
    "pairs = indexer.index(df1, df2)\n",
    "\n",
    "# create comparison object and set comparisons cols\n",
    "compare_obj = recordlinkage.Compare()\n",
    "\n",
    "# compare exact values\n",
    "compare_obj.exact(\"DOB\", \"birthday\", label=\"date_of_birth\")\n",
    "compare_obj.exact(\"STATE\", \"prov/st\", label=\"state\")\n",
    "\n",
    "# compare fuzzy values\n",
    "NAME_THRESH = 0.9\n",
    "ADDR_THRESH = 0.85\n",
    "compare_obj.string(\"LNAME\", \"surname\", label=\"last_name\", threshold=NAME_THRESH)\n",
    "compare_obj.string(\"ADDR\", \"address\", label=\"address\", threshold=ADDR_THRESH)\n",
    "\n",
    "# find matches with at least n_matches fields\n",
    "N_MATCHES = 4\n",
    "potential_matches = compare_obj.compute(pairs, df1, df2)\n",
    "potential_matches[potential_matches.sum(axis=1) >= N_MATCHES]"
   ]
  },
  {
   "cell_type": "code",
   "execution_count": null,
   "id": "4bd3974a",
   "metadata": {},
   "outputs": [],
   "source": [
    "# find the matches; matches are multi-level indices\n",
    "# more info here: https://pandas.pydata.org/docs/reference/api/pandas.Index.get_level_values.html\n",
    "matching_rows = potential_matches.index.get_level_values(1)\n",
    "df2_matched = df2[df2.index.isin(matching_rows)]\n",
    "\n",
    "# find unmatched\n",
    "df2_unmatched = df2[~df2.index.isin(matching_rows)]\n",
    "\n",
    "# combine\n",
    "df = df1.append(df2_unmatched)"
   ]
  },
  {
   "cell_type": "markdown",
   "id": "332c33cf",
   "metadata": {},
   "source": [
    "## Write Data"
   ]
  },
  {
   "cell_type": "code",
   "execution_count": null,
   "id": "0360f78a",
   "metadata": {},
   "outputs": [],
   "source": [
    "hdf_file = os.path.join(os.getcwd(), \"clean-data.h5\")\n",
    "df.to_hdf(\n",
    "    hdf_file,\n",
    "    \"data\",\n",
    "    mode=\"w\",\n",
    "    format=\"table\",\n",
    "    data_columns=True,\n",
    "    complevel=9,\n",
    "    complib=\"blosc:lz4\",\n",
    ")\n",
    "print(f\"File {hdf_file} has size {humanize.naturalsize(os.path.getsize(hdf_file))}\")"
   ]
  }
 ],
 "metadata": {
  "kernelspec": {
   "display_name": "Python 3 (ipykernel)",
   "language": "python",
   "name": "python3"
  },
  "language_info": {
   "codemirror_mode": {
    "name": "ipython",
    "version": 3
   },
   "file_extension": ".py",
   "mimetype": "text/x-python",
   "name": "python",
   "nbconvert_exporter": "python",
   "pygments_lexer": "ipython3",
   "version": "3.8.0"
  },
  "toc": {
   "base_numbering": 1,
   "nav_menu": {},
   "number_sections": true,
   "sideBar": true,
   "skip_h1_title": false,
   "title_cell": "Table of Contents",
   "title_sidebar": "Contents",
   "toc_cell": true,
   "toc_position": {
    "height": "calc(100% - 180px)",
    "left": "10px",
    "top": "150px",
    "width": "384px"
   },
   "toc_section_display": true,
   "toc_window_display": true
  },
  "varInspector": {
   "cols": {
    "lenName": 16,
    "lenType": 16,
    "lenVar": 40
   },
   "kernels_config": {
    "python": {
     "delete_cmd_postfix": "",
     "delete_cmd_prefix": "del ",
     "library": "var_list.py",
     "varRefreshCmd": "print(var_dic_list())"
    },
    "r": {
     "delete_cmd_postfix": ") ",
     "delete_cmd_prefix": "rm(",
     "library": "var_list.r",
     "varRefreshCmd": "cat(var_dic_list()) "
    }
   },
   "types_to_exclude": [
    "module",
    "function",
    "builtin_function_or_method",
    "instance",
    "_Feature"
   ],
   "window_display": false
  }
 },
 "nbformat": 4,
 "nbformat_minor": 5
}
