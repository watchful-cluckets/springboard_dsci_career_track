{
 "cells": [
  {
   "cell_type": "markdown",
   "id": "26d1a1b2",
   "metadata": {
    "toc": true
   },
   "source": [
    "<h1>Table of Contents<span class=\"tocSkip\"></span></h1>\n",
    "<div class=\"toc\"><ul class=\"toc-item\"><li><span><a href=\"#Research-and-Development-(RND)\" data-toc-modified-id=\"Research-and-Development-(RND)-1\"><span class=\"toc-item-num\">1&nbsp;&nbsp;</span>Research and Development (RND)</a></span><ul class=\"toc-item\"><li><span><a href=\"#Imports\" data-toc-modified-id=\"Imports-1.1\"><span class=\"toc-item-num\">1.1&nbsp;&nbsp;</span>Imports</a></span></li><li><span><a href=\"#Resource-Check\" data-toc-modified-id=\"Resource-Check-1.2\"><span class=\"toc-item-num\">1.2&nbsp;&nbsp;</span>Resource Check</a></span></li><li><span><a href=\"#Load-Data\" data-toc-modified-id=\"Load-Data-1.3\"><span class=\"toc-item-num\">1.3&nbsp;&nbsp;</span>Load Data</a></span></li><li><span><a href=\"#Basic-Stats\" data-toc-modified-id=\"Basic-Stats-1.4\"><span class=\"toc-item-num\">1.4&nbsp;&nbsp;</span>Basic Stats</a></span></li><li><span><a href=\"#Correlations\" data-toc-modified-id=\"Correlations-1.5\"><span class=\"toc-item-num\">1.5&nbsp;&nbsp;</span>Correlations</a></span></li><li><span><a href=\"#Regressions\" data-toc-modified-id=\"Regressions-1.6\"><span class=\"toc-item-num\">1.6&nbsp;&nbsp;</span>Regressions</a></span></li><li><span><a href=\"#ML-Preprocessing\" data-toc-modified-id=\"ML-Preprocessing-1.7\"><span class=\"toc-item-num\">1.7&nbsp;&nbsp;</span>ML Preprocessing</a></span></li></ul></li></ul></div>"
   ]
  },
  {
   "cell_type": "markdown",
   "id": "465feb58",
   "metadata": {},
   "source": [
    "# Research and Development (RND)"
   ]
  },
  {
   "cell_type": "markdown",
   "id": "a8f388c6",
   "metadata": {},
   "source": [
    "This notebook attempts to capture the basic steps involved in most initial research and development (RND) activities leading up to the scripting, modularization, and packaging of production-ready code. In the [Domino Data Lab Data Science Lifecycle](https://www.dominodatalab.com/resources/field-guide/managing-data-science-projects/) (a personal favorite of mine), RND aims to generate valuable insights that the business needs to make decisions.\n",
    "\n",
    "\n",
    "![img](../assets/dsci-lifecycle-rnd.png)"
   ]
  },
  {
   "cell_type": "markdown",
   "id": "416fe8fa",
   "metadata": {},
   "source": [
    "## Imports"
   ]
  },
  {
   "cell_type": "code",
   "execution_count": null,
   "id": "e1cb9f63",
   "metadata": {
    "ExecuteTime": {
     "end_time": "2021-08-11T19:46:36.586625Z",
     "start_time": "2021-08-11T19:46:36.583395Z"
    }
   },
   "outputs": [],
   "source": [
    "import datetime\n",
    "import glob\n",
    "import itertools\n",
    "import json\n",
    "import os\n",
    "import pickle\n",
    "import random\n",
    "import re\n",
    "from string import punctuation"
   ]
  },
  {
   "cell_type": "code",
   "execution_count": null,
   "id": "9e14e4f6",
   "metadata": {
    "ExecuteTime": {
     "end_time": "2021-08-11T19:46:40.185222Z",
     "start_time": "2021-08-11T19:46:40.181679Z"
    }
   },
   "outputs": [],
   "source": [
    "import fuzzywuzzy\n",
    "import geopandas as gpd\n",
    "import humanize\n",
    "import missingno as msno\n",
    "import numpy as np\n",
    "import pandas as pd\n",
    "import recordlinkage\n",
    "import scipy as sp\n",
    "import statistics\n",
    "import statsmodels.formula.api as smf\n",
    "from pandas_profiling import ProfileReport"
   ]
  },
  {
   "cell_type": "code",
   "execution_count": null,
   "id": "148c5309",
   "metadata": {
    "ExecuteTime": {
     "end_time": "2021-08-11T19:46:43.152983Z",
     "start_time": "2021-08-11T19:46:43.105563Z"
    }
   },
   "outputs": [],
   "source": [
    "SMALL_SIZE = 10\n",
    "MEDIUM_SIZE = 14\n",
    "BIGGER_SIZE = 18\n",
    "MAPBOX_STYLE = \"dark\"\n",
    "MAPBOX_HEIGHT = 800\n",
    "%matplotlib inline\n",
    "import seaborn as sns\n",
    "import matplotlib as mpl\n",
    "import matplotlib.font_manager\n",
    "import matplotlib.pyplot as plt\n",
    "import plotly.express as px\n",
    "import plotly.graph_objects as go\n",
    "from matplotlib.ticker import PercentFormatter\n",
    "px.set_mapbox_access_token(os.getenv(\"MAPBOX_TOKEN\"))\n",
    "matplotlib.font_manager.findSystemFonts(fontpaths=None, fontext=\"ttf\")\n",
    "plt.style.use(\"seaborn-colorblind\")\n",
    "plt.rcParams[\"font.family\"] = \"sans-serif\"\n",
    "plt.rcParams[\"font.sans-serif\"] = \"Open Sans\"\n",
    "plt.rcParams[\"figure.figsize\"] = 15, 6\n",
    "plt.rc('font', size=SMALL_SIZE)          # controls default text sizes\n",
    "plt.rc('axes', titlesize=SMALL_SIZE)     # fontsize of the axes title\n",
    "plt.rc('axes', labelsize=MEDIUM_SIZE)    # fontsize of the x and y labels\n",
    "plt.rc('xtick', labelsize=SMALL_SIZE)    # fontsize of the tick labels\n",
    "plt.rc('ytick', labelsize=SMALL_SIZE)    # fontsize of the tick labels\n",
    "plt.rc('legend', fontsize=SMALL_SIZE)    # legend fontsize\n",
    "plt.rc('figure', titlesize=BIGGER_SIZE)  # fontsize of the figure title"
   ]
  },
  {
   "cell_type": "code",
   "execution_count": null,
   "id": "d3c1c1b7",
   "metadata": {
    "ExecuteTime": {
     "end_time": "2021-08-11T19:46:47.728574Z",
     "start_time": "2021-08-11T19:46:47.724179Z"
    }
   },
   "outputs": [],
   "source": [
    "from sklearn import __version__ as sklearn_version\n",
    "from sklearn.decomposition import PCA\n",
    "from sklearn.dummy import DummyRegressor\n",
    "from sklearn.ensemble import RandomForestRegressor\n",
    "from sklearn.feature_selection import SelectKBest, f_regression\n",
    "from sklearn.impute import SimpleImputer\n",
    "from sklearn.linear_model import LinearRegression\n",
    "from sklearn.metrics import mean_absolute_error, mean_squared_error, r2_score\n",
    "from sklearn.model_selection import (GridSearchCV, cross_validate, learning_curve, train_test_split)\n",
    "from sklearn.pipeline import make_pipeline\n",
    "from sklearn.preprocessing import MinMaxScaler, StandardScaler, scale"
   ]
  },
  {
   "cell_type": "code",
   "execution_count": null,
   "id": "1ba3e79c",
   "metadata": {
    "ExecuteTime": {
     "end_time": "2021-08-11T19:47:14.317538Z",
     "start_time": "2021-08-11T19:47:14.313395Z"
    }
   },
   "outputs": [],
   "source": [
    "from numpy.random import default_rng\n",
    "RANDOM_SEED = 51\n",
    "rng = default_rng(seed)"
   ]
  },
  {
   "cell_type": "markdown",
   "id": "81106bfc",
   "metadata": {},
   "source": [
    "## Load Data"
   ]
  },
  {
   "cell_type": "code",
   "execution_count": null,
   "id": "ed9814a4",
   "metadata": {
    "ExecuteTime": {
     "end_time": "2021-08-09T20:25:22.548271Z",
     "start_time": "2021-08-09T20:25:22.546102Z"
    }
   },
   "outputs": [],
   "source": [
    "df = pd.read_hdf(\"clean-data.h5\", \"data\")"
   ]
  },
  {
   "cell_type": "markdown",
   "id": "f3271d90",
   "metadata": {},
   "source": [
    "## Basic Stats"
   ]
  },
  {
   "cell_type": "code",
   "execution_count": null,
   "id": "cff1d0ac",
   "metadata": {},
   "outputs": [],
   "source": [
    "# column of interest\n",
    "data_col = \"col_a\""
   ]
  },
  {
   "cell_type": "code",
   "execution_count": null,
   "id": "532fb9d0",
   "metadata": {},
   "outputs": [],
   "source": [
    "# create a model Gaussian CDF\n",
    "mean, std = df[data_col].mean(), df[data_col].std()\n",
    "dist = sp.stats.norm(mean, std)\n",
    "\n",
    "# evaluate the model CDF\n",
    "xs = np.linspace(df[data_col].min(), df[data_col].max())\n",
    "ys = dist.cdf(xs)"
   ]
  },
  {
   "cell_type": "code",
   "execution_count": null,
   "id": "1f89fcf9",
   "metadata": {},
   "outputs": [],
   "source": [
    "# plot the model CDF\n",
    "fig, ax = plt.subplots()\n",
    "plt.plot(xs, ys, color=\"gray\")\n",
    "\n",
    "# ECDF\n",
    "sns.ecdfplot(data=df, y=data_col, ax=ax)"
   ]
  },
  {
   "cell_type": "code",
   "execution_count": null,
   "id": "918432a7",
   "metadata": {},
   "outputs": [],
   "source": [
    "# PMF == range of discrete random variables\n",
    "probabilities = df[\"data_col\"].value_counts(normalize=True)\n",
    "sns.barplot(probabilities.index, probabilities.values)"
   ]
  },
  {
   "cell_type": "code",
   "execution_count": null,
   "id": "dfceef77",
   "metadata": {},
   "outputs": [],
   "source": [
    "# create a model Gaussian PDF\n",
    "ys = dist.pdf(xs)"
   ]
  },
  {
   "cell_type": "code",
   "execution_count": null,
   "id": "b2f57f09",
   "metadata": {},
   "outputs": [],
   "source": [
    "# plot the model PDF\n",
    "fig, ax = plt.subplots()\n",
    "plt.plot(xs, ys, color=\"gray\")\n",
    "\n",
    "# PDF == range of continuous random variables\n",
    "sns.displot(data=df, x=data_col, kind=\"hist\")\n",
    "\n",
    "# KDE == smoothed range of continuous random variables\n",
    "sns.displot(data=df, x=data_col, kind=\"kde\")"
   ]
  },
  {
   "cell_type": "markdown",
   "id": "636c7649",
   "metadata": {},
   "source": [
    "## Correlations"
   ]
  },
  {
   "cell_type": "code",
   "execution_count": null,
   "id": "13bf1f06",
   "metadata": {},
   "outputs": [],
   "source": [
    "# DON'T BE DUPED! Corr works for linear relationships only\n",
    "corr_cols = [\"col_a\", \"col_b\", \"col_c\"]\n",
    "corr = df[corr_cols].corr()\n",
    "\n",
    "# Generate a mask for the upper triangle\n",
    "mask = np.triu(np.ones_like(corr, dtype=bool))\n",
    "\n",
    "# Set up the matplotlib figure\n",
    "f, ax = plt.subplots()\n",
    "\n",
    "# Generate a custom diverging colormap\n",
    "cmap = sns.diverging_palette(230, 20, as_cmap=True)\n",
    "\n",
    "# Draw the heatmap with the mask and correct aspect ratio\n",
    "sns.heatmap(\n",
    "    corr,\n",
    "    mask=mask,\n",
    "    cmap=cmap,\n",
    "    vmax=0.3,\n",
    "    center=0,\n",
    "    square=True,\n",
    "    linewidths=0.5,\n",
    "    cbar_kws={\"shrink\": 0.5},\n",
    ")"
   ]
  },
  {
   "cell_type": "markdown",
   "id": "9bfaebff",
   "metadata": {},
   "source": [
    "## Regressions"
   ]
  },
  {
   "cell_type": "code",
   "execution_count": null,
   "id": "fe452976",
   "metadata": {},
   "outputs": [],
   "source": [
    "# use scipy linreg\n",
    "xs = df.col_a\n",
    "ys = df.col_b\n",
    "fit = sp.stats.linregress(xs, ys)\n",
    "print(fit)"
   ]
  },
  {
   "cell_type": "code",
   "execution_count": null,
   "id": "4b2b1198",
   "metadata": {},
   "outputs": [],
   "source": [
    "# use statsmodels linreg\n",
    "results = smf.ols(\"target ~ col_a + col_b + col_c + col_d\", data=df).fit()\n",
    "print(results.summary())\n",
    "\n",
    "# use statsmodels logreg\n",
    "results = smf.logit(\"target ~ col_a + col_b + C(col_c)\", data=df).fit()\n",
    "print(results.summary())\n",
    "\n",
    "# make predictions\n",
    "preds_df = pd.DataFrame(\n",
    "    dict(\n",
    "        col_a=np.linspace(0, 20),\n",
    "        col_b=30,\n",
    "        col_c=preds[\"col_a\"] ** 2,\n",
    "        col_d=preds[\"col_b\"] ** 2,\n",
    "    )\n",
    ")\n",
    "pred = results.predict(preds_df)"
   ]
  },
  {
   "cell_type": "code",
   "execution_count": null,
   "id": "bf9542a8",
   "metadata": {},
   "outputs": [],
   "source": [
    "# use seaborn linreg\n",
    "g = sns.regplot(data=df, x=\"col_a\", y=\"col_b\", n_boot=500, y_jitter=0.03)\n",
    "\n",
    "# use seaborn logreg\n",
    "g = sns.regplot(data=df, x=\"col_a\", y=\"col_b\", logistic=True, n_boot=500, y_jitter=0.03)"
   ]
  },
  {
   "cell_type": "markdown",
   "id": "f8bb6a8d",
   "metadata": {
    "ExecuteTime": {
     "end_time": "2021-08-11T16:13:14.885994Z",
     "start_time": "2021-08-11T16:13:14.883551Z"
    }
   },
   "source": [
    "## ML Preprocessing"
   ]
  },
  {
   "cell_type": "code",
   "execution_count": null,
   "id": "b6c607a6",
   "metadata": {},
   "outputs": [],
   "source": [
    "# define the target value\n",
    "target_col = \"price\"\n",
    "\n",
    "# define columns to drop\n",
    "drop_cols = [\"col_a\", \"col_b\", target_col]"
   ]
  },
  {
   "cell_type": "code",
   "execution_count": null,
   "id": "d54f0274",
   "metadata": {
    "ExecuteTime": {
     "end_time": "2021-08-11T19:47:22.622891Z",
     "start_time": "2021-08-11T19:47:22.610687Z"
    }
   },
   "outputs": [],
   "source": [
    "# create a train test split\n",
    "TEST_SIZE = 0.3\n",
    "X_train, X_test, y_train, y_test = train_test_split(\n",
    "    df.drop(columns=drop_cols),\n",
    "    df[target_col],\n",
    "    test_size=test_size,\n",
    "    random_state=RANDOM_SEED,\n",
    ")"
   ]
  },
  {
   "cell_type": "code",
   "execution_count": null,
   "id": "7dbaaf7d",
   "metadata": {},
   "outputs": [],
   "source": []
  }
 ],
 "metadata": {
  "kernelspec": {
   "display_name": "Python 3 (ipykernel)",
   "language": "python",
   "name": "python3"
  },
  "language_info": {
   "codemirror_mode": {
    "name": "ipython",
    "version": 3
   },
   "file_extension": ".py",
   "mimetype": "text/x-python",
   "name": "python",
   "nbconvert_exporter": "python",
   "pygments_lexer": "ipython3",
   "version": "3.8.0"
  },
  "toc": {
   "base_numbering": 1,
   "nav_menu": {},
   "number_sections": true,
   "sideBar": true,
   "skip_h1_title": false,
   "title_cell": "Table of Contents",
   "title_sidebar": "Contents",
   "toc_cell": true,
   "toc_position": {
    "height": "calc(100% - 180px)",
    "left": "10px",
    "top": "150px",
    "width": "384px"
   },
   "toc_section_display": true,
   "toc_window_display": true
  },
  "varInspector": {
   "cols": {
    "lenName": 16,
    "lenType": 16,
    "lenVar": 40
   },
   "kernels_config": {
    "python": {
     "delete_cmd_postfix": "",
     "delete_cmd_prefix": "del ",
     "library": "var_list.py",
     "varRefreshCmd": "print(var_dic_list())"
    },
    "r": {
     "delete_cmd_postfix": ") ",
     "delete_cmd_prefix": "rm(",
     "library": "var_list.r",
     "varRefreshCmd": "cat(var_dic_list()) "
    }
   },
   "types_to_exclude": [
    "module",
    "function",
    "builtin_function_or_method",
    "instance",
    "_Feature"
   ],
   "window_display": false
  }
 },
 "nbformat": 4,
 "nbformat_minor": 5
}
