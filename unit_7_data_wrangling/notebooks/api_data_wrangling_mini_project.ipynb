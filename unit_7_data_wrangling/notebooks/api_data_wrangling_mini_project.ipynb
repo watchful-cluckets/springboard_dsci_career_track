{
 "cells": [
  {
   "cell_type": "markdown",
   "metadata": {},
   "source": [
    "# Introduction"
   ]
  },
  {
   "cell_type": "markdown",
   "metadata": {},
   "source": [
    "This exercise will require you to pull some data from the Qunadl API. Qaundl is currently the most widely used aggregator of financial market data.\n",
    "\n",
    "As a first step, you will need to register a free account on the http://www.quandl.com website.\n",
    "\n",
    "Qaundl has a large number of data sources, but, unfortunately, most of them require a Premium subscription. Still, there are also a good number of free datasets.\n",
    "\n",
    "For this mini project, we will focus on equities data from the Frankfurt Stock Exhange (FSE), which is available for free. We'll try and analyze the stock prices of a company called Carl Zeiss Meditec, which manufactures tools for eye examinations, as well as medical lasers for laser eye surgery: https://www.zeiss.com/meditec/int/home.html. The company is listed under the stock ticker AFX_X.\n",
    "\n",
    "You can find the detailed Quandl API instructions here: https://docs.quandl.com/docs/time-series\n",
    "\n",
    "While there is a dedicated Python package for connecting to the Quandl API, we would prefer that you use the *requests* package, which can be easily downloaded using *pip* or *conda*. You can find the documentation for the package here: http://docs.python-requests.org/en/master/ \n",
    "\n",
    "Finally, apart from the *requests* package, you are encouraged to not use any third party Python packages, such as *pandas*, and instead focus on what's available in the Python Standard Library (the *collections* module might come in handy: https://pymotw.com/3/collections/ ).\n",
    "Also, since you won't have access to DataFrames, you are encouraged to us Python's native data structures - preferably dictionaries, though some questions can also be answered using lists.\n",
    "You can read more on these data structures here: https://docs.python.org/3/tutorial/datastructures.html\n",
    "\n",
    "Keep in mind that the JSON responses you will be getting from the API map almost one-to-one to Python's dictionaries. Unfortunately, they can be very nested, so make sure you read up on indexing dictionaries in the documentation provided above.\n",
    "\n",
    "These are your tasks for this mini project:\n",
    "\n",
    "1. ✅ Collect data from the Franfurt Stock Exchange, for the ticker AFX_X, for the whole year 2017 (keep in mind that the date format is YYYY-MM-DD).\n",
    "2. ✅ Convert the returned JSON object into a Python dictionary.\n",
    "3. ✅ Calculate what the highest and lowest opening prices were for the stock in this period.\n",
    "4. ✅ What was the largest change in any one day (based on High and Low price)?\n",
    "5. ✅ What was the largest change between any two days (based on Closing Price)?\n",
    "6. ✅ What was the average daily trading volume during this year?\n",
    "7. ✅ (Optional) What was the median trading volume during this year. (Note: you may need to implement your own function for calculating the median.)"
   ]
  },
  {
   "cell_type": "markdown",
   "metadata": {
    "heading_collapsed": true
   },
   "source": [
    "# Secrets"
   ]
  },
  {
   "cell_type": "markdown",
   "metadata": {
    "hidden": true
   },
   "source": [
    "<div class=\"alert alert-block alert-danger\">\n",
    "<b>API KEYS ARE SECRETS, DO NOT PUT THEM AS TEXT IN THIS NOTEBOOK</b></div>\n",
    "\n",
    "Yes, it is simplest to copy/paste your API key into this notebook and remember to delete it before committing to Github. But that is what is called a very \"fragile\" setup. If you forget once 💥 you're toast. Bots scraping GitHub will capture that key and abuse it in **SECONDS**. Never print your API key or any secret in a notebook. These are secrets, and secrets are never shared.\n",
    "\n",
    "There is a better way, and it's best you learn about it right now using your newly acquired knowledge about the shell, command line, and Python.\n",
    "\n",
    "Here's a great article: <https://www.askpython.com/python/python-dotenv-module>"
   ]
  },
  {
   "cell_type": "code",
   "execution_count": 1,
   "metadata": {
    "ExecuteTime": {
     "end_time": "2021-08-18T19:33:48.346393Z",
     "start_time": "2021-08-18T19:33:48.336423Z"
    },
    "hidden": true
   },
   "outputs": [],
   "source": [
    "# import the load_dotenv from the python-dotenv module\n",
    "from dotenv import load_dotenv\n",
    " \n",
    "# using existing module to specify location of the .env file\n",
    "from pathlib import Path\n",
    "import os\n",
    "\n",
    "load_dotenv()\n",
    "env_path = Path('.')/'.env'\n",
    "load_dotenv(dotenv_path=env_path)\n",
    "API_KEY = None\n",
    "DOMAIN = None"
   ]
  },
  {
   "cell_type": "markdown",
   "metadata": {
    "hidden": true
   },
   "source": [
    "<div class=\"alert alert-block alert-danger\">\n",
    "<b></b></div>"
   ]
  },
  {
   "cell_type": "markdown",
   "metadata": {
    "hidden": true
   },
   "source": [
    "After you register, you will be provided with a unique API key, that you should store:"
   ]
  },
  {
   "cell_type": "code",
   "execution_count": 2,
   "metadata": {
    "ExecuteTime": {
     "end_time": "2021-08-18T19:33:48.350700Z",
     "start_time": "2021-08-18T19:33:48.347921Z"
    },
    "hidden": true,
    "jupyter": {
     "outputs_hidden": true
    }
   },
   "outputs": [],
   "source": [
    "# Store the API key as a string - according to PEP8, constants are always named in all upper case\n",
    "#\n",
    "# API_KEY = 'YOUR_API_KEY_HERE'  # !!! DO NOT DO THIS !!! #\n",
    "\n",
    "# Do this instead...\n",
    "# retrieving keys and adding them to the project\n",
    "# from the .env file through their key names\n",
    "API_KEY = os.getenv(\"API_KEY\")\n",
    "DOMAIN = os.getenv(\"DOMAIN\")"
   ]
  },
  {
   "cell_type": "code",
   "execution_count": 3,
   "metadata": {
    "ExecuteTime": {
     "end_time": "2021-08-18T19:33:48.405050Z",
     "start_time": "2021-08-18T19:33:48.353238Z"
    },
    "hidden": true,
    "jupyter": {
     "outputs_hidden": true
    }
   },
   "outputs": [],
   "source": [
    "# First, import the relevant modules\n",
    "import json\n",
    "import requests"
   ]
  },
  {
   "cell_type": "markdown",
   "metadata": {
    "ExecuteTime": {
     "end_time": "2021-08-18T17:33:17.422766Z",
     "start_time": "2021-08-18T17:33:15.736130Z"
    },
    "collapsed": true,
    "hidden": true,
    "jupyter": {
     "outputs_hidden": true
    }
   },
   "source": [
    "Note: API's can change a bit with each version, for this exercise it is reccomended to use the \"V3\" quandl api at `https://www.quandl.com/api/v3/`"
   ]
  },
  {
   "cell_type": "markdown",
   "metadata": {
    "heading_collapsed": true
   },
   "source": [
    "# Collect Data"
   ]
  },
  {
   "cell_type": "code",
   "execution_count": 4,
   "metadata": {
    "ExecuteTime": {
     "end_time": "2021-08-18T19:33:49.796419Z",
     "start_time": "2021-08-18T19:33:48.406014Z"
    },
    "hidden": true,
    "jupyter": {
     "outputs_hidden": true
    }
   },
   "outputs": [
    {
     "name": "stdout",
     "output_type": "stream",
     "text": [
      "Hooray! I have data with size 381932\n"
     ]
    }
   ],
   "source": [
    "# Now, call the Quandl API and pull out a small sample of the data (only one day) to get a glimpse\n",
    "# into the JSON structure that will be returned\n",
    "\n",
    "# define some helpful constants\n",
    "DATABASE = \"FSE\"\n",
    "SYMBOL = \"AFX_X\"\n",
    "FORMAT = \"json\"\n",
    "\n",
    "# build a url to call\n",
    "# DO NOT PRINT THIS VARIABLE, it has your key in it\n",
    "url = f\"{DOMAIN}/datasets/{DATABASE}/{SYMBOL}/data.{FORMAT}?api_key={API_KEY}\"\n",
    "\n",
    "# make the call\n",
    "response = requests.get(url)\n",
    "\n",
    "# did you get anything?\n",
    "if response.status_code != 200:\n",
    "    print(\n",
    "        f\"Oops, received status code {response.status_code}, something went wrong\"\n",
    "    )\n",
    "    print(response.text)\n",
    "else:\n",
    "    print(f\"Hooray! I have data with size {len(response.text)}\")\n",
    "\n",
    "# what's in the response?\n"
   ]
  },
  {
   "cell_type": "code",
   "execution_count": 5,
   "metadata": {
    "ExecuteTime": {
     "end_time": "2021-08-18T19:33:49.813252Z",
     "start_time": "2021-08-18T19:33:49.797708Z"
    },
    "hidden": true,
    "jupyter": {
     "outputs_hidden": true
    }
   },
   "outputs": [
    {
     "name": "stdout",
     "output_type": "stream",
     "text": [
      "dataset_data 10\n"
     ]
    }
   ],
   "source": [
    "# Inspect the JSON structure of the object you created, and take note of how nested it is,\n",
    "# as well as the overall structure\n",
    "for k, v in response.json().items():\n",
    "    print(k, len(v))"
   ]
  },
  {
   "cell_type": "code",
   "execution_count": 6,
   "metadata": {
    "ExecuteTime": {
     "end_time": "2021-08-18T19:33:49.834692Z",
     "start_time": "2021-08-18T19:33:49.814369Z"
    },
    "hidden": true
   },
   "outputs": [
    {
     "name": "stdout",
     "output_type": "stream",
     "text": [
      "limit\n",
      "transform\n",
      "column_index\n",
      "column_names\n",
      "start_date\n",
      "end_date\n",
      "frequency\n",
      "data\n",
      "collapse\n",
      "order\n"
     ]
    }
   ],
   "source": [
    "for k in response.json()[\"dataset_data\"].keys():\n",
    "    print(k)"
   ]
  },
  {
   "cell_type": "markdown",
   "metadata": {
    "heading_collapsed": true
   },
   "source": [
    "# Convert Data"
   ]
  },
  {
   "cell_type": "code",
   "execution_count": 7,
   "metadata": {
    "ExecuteTime": {
     "end_time": "2021-08-18T19:33:49.844168Z",
     "start_time": "2021-08-18T19:33:49.835548Z"
    },
    "hidden": true,
    "jupyter": {
     "outputs_hidden": true
    }
   },
   "outputs": [],
   "source": [
    "# convert to a dictionary using the builtin .json() method\n",
    "afxx_data = response.json()[\"dataset_data\"]"
   ]
  },
  {
   "cell_type": "code",
   "execution_count": 8,
   "metadata": {
    "ExecuteTime": {
     "end_time": "2021-08-18T19:33:49.854338Z",
     "start_time": "2021-08-18T19:33:49.845055Z"
    },
    "hidden": true
   },
   "outputs": [
    {
     "data": {
      "text/plain": [
       "[['2020-12-01',\n",
       "  112.2,\n",
       "  112.2,\n",
       "  111.5,\n",
       "  112.0,\n",
       "  None,\n",
       "  51.0,\n",
       "  5703.0,\n",
       "  None,\n",
       "  None,\n",
       "  None],\n",
       " ['2020-11-30',\n",
       "  111.0,\n",
       "  113.6,\n",
       "  111.0,\n",
       "  112.1,\n",
       "  None,\n",
       "  315.0,\n",
       "  35111.5,\n",
       "  None,\n",
       "  None,\n",
       "  None],\n",
       " ['2020-11-27',\n",
       "  111.0,\n",
       "  111.5,\n",
       "  109.5,\n",
       "  111.2,\n",
       "  None,\n",
       "  155.0,\n",
       "  17168.5,\n",
       "  None,\n",
       "  None,\n",
       "  None]]"
      ]
     },
     "execution_count": 8,
     "metadata": {},
     "output_type": "execute_result"
    }
   ],
   "source": [
    "# look at a snapshot of the data\n",
    "afxx_data[\"data\"][:3]"
   ]
  },
  {
   "cell_type": "code",
   "execution_count": 9,
   "metadata": {
    "ExecuteTime": {
     "end_time": "2021-08-18T19:33:49.860062Z",
     "start_time": "2021-08-18T19:33:49.855338Z"
    },
    "hidden": true
   },
   "outputs": [
    {
     "name": "stdout",
     "output_type": "stream",
     "text": [
      "index 0 --> Date\n",
      "index 1 --> Open\n",
      "index 2 --> High\n",
      "index 3 --> Low\n",
      "index 4 --> Close\n",
      "index 5 --> Change\n",
      "index 6 --> Traded Volume\n",
      "index 7 --> Turnover\n",
      "index 8 --> Last Price of the Day\n",
      "index 9 --> Daily Traded Units\n",
      "index 10 --> Daily Turnover\n"
     ]
    }
   ],
   "source": [
    "# let's remind ourselves of the list index ordering\n",
    "for idx, column in enumerate(afxx_data[\"column_names\"]):\n",
    "    print(f\"index {idx} --> {column}\")"
   ]
  },
  {
   "cell_type": "code",
   "execution_count": 10,
   "metadata": {
    "ExecuteTime": {
     "end_time": "2021-08-18T19:33:49.865030Z",
     "start_time": "2021-08-18T19:33:49.860814Z"
    },
    "hidden": true
   },
   "outputs": [],
   "source": [
    "# we only want 2017 data; dates in \"column\" 0\n",
    "afxx_data_2017 = [x for x in afxx_data[\"data\"] if \"2017\" in x[0]]"
   ]
  },
  {
   "cell_type": "code",
   "execution_count": 11,
   "metadata": {
    "ExecuteTime": {
     "end_time": "2021-08-18T19:33:49.876756Z",
     "start_time": "2021-08-18T19:33:49.866071Z"
    },
    "hidden": true
   },
   "outputs": [
    {
     "data": {
      "text/plain": [
       "['2017-12-29',\n",
       " '2017-12-28',\n",
       " '2017-12-27',\n",
       " '2017-12-22',\n",
       " '2017-12-21',\n",
       " '2017-12-20',\n",
       " '2017-12-19',\n",
       " '2017-12-18',\n",
       " '2017-12-15',\n",
       " '2017-12-14',\n",
       " '2017-12-13',\n",
       " '2017-12-12',\n",
       " '2017-12-11',\n",
       " '2017-12-08',\n",
       " '2017-12-07',\n",
       " '2017-12-06',\n",
       " '2017-12-05',\n",
       " '2017-12-04',\n",
       " '2017-12-01',\n",
       " '2017-11-30',\n",
       " '2017-11-29',\n",
       " '2017-11-28',\n",
       " '2017-11-27',\n",
       " '2017-11-24',\n",
       " '2017-11-23',\n",
       " '2017-11-22',\n",
       " '2017-11-21',\n",
       " '2017-11-20',\n",
       " '2017-11-17',\n",
       " '2017-11-16',\n",
       " '2017-11-15',\n",
       " '2017-11-14',\n",
       " '2017-11-13',\n",
       " '2017-11-10',\n",
       " '2017-11-09',\n",
       " '2017-11-08',\n",
       " '2017-11-07',\n",
       " '2017-11-06',\n",
       " '2017-11-03',\n",
       " '2017-11-02',\n",
       " '2017-11-01',\n",
       " '2017-10-30',\n",
       " '2017-10-27',\n",
       " '2017-10-26',\n",
       " '2017-10-25',\n",
       " '2017-10-24',\n",
       " '2017-10-23',\n",
       " '2017-10-20',\n",
       " '2017-10-19',\n",
       " '2017-10-18',\n",
       " '2017-10-17',\n",
       " '2017-10-16',\n",
       " '2017-10-13',\n",
       " '2017-10-12',\n",
       " '2017-10-11',\n",
       " '2017-10-10',\n",
       " '2017-10-09',\n",
       " '2017-10-06',\n",
       " '2017-10-05',\n",
       " '2017-10-04',\n",
       " '2017-10-02',\n",
       " '2017-09-29',\n",
       " '2017-09-28',\n",
       " '2017-09-27',\n",
       " '2017-09-26',\n",
       " '2017-09-25',\n",
       " '2017-09-22',\n",
       " '2017-09-21',\n",
       " '2017-09-20',\n",
       " '2017-09-19',\n",
       " '2017-09-18',\n",
       " '2017-09-15',\n",
       " '2017-09-14',\n",
       " '2017-09-13',\n",
       " '2017-09-12',\n",
       " '2017-09-11',\n",
       " '2017-09-08',\n",
       " '2017-09-07',\n",
       " '2017-09-06',\n",
       " '2017-09-05',\n",
       " '2017-09-04',\n",
       " '2017-09-01',\n",
       " '2017-08-31',\n",
       " '2017-08-30',\n",
       " '2017-08-29',\n",
       " '2017-08-28',\n",
       " '2017-08-25',\n",
       " '2017-08-24',\n",
       " '2017-08-23',\n",
       " '2017-08-22',\n",
       " '2017-08-21',\n",
       " '2017-08-18',\n",
       " '2017-08-17',\n",
       " '2017-08-16',\n",
       " '2017-08-15',\n",
       " '2017-08-14',\n",
       " '2017-08-11',\n",
       " '2017-08-10',\n",
       " '2017-08-09',\n",
       " '2017-08-08',\n",
       " '2017-08-07',\n",
       " '2017-08-04',\n",
       " '2017-08-03',\n",
       " '2017-08-02',\n",
       " '2017-08-01',\n",
       " '2017-07-31',\n",
       " '2017-07-28',\n",
       " '2017-07-27',\n",
       " '2017-07-26',\n",
       " '2017-07-25',\n",
       " '2017-07-24',\n",
       " '2017-07-21',\n",
       " '2017-07-20',\n",
       " '2017-07-19',\n",
       " '2017-07-18',\n",
       " '2017-07-17',\n",
       " '2017-07-14',\n",
       " '2017-07-13',\n",
       " '2017-07-12',\n",
       " '2017-07-11',\n",
       " '2017-07-10',\n",
       " '2017-07-07',\n",
       " '2017-07-06',\n",
       " '2017-07-05',\n",
       " '2017-07-04',\n",
       " '2017-07-03',\n",
       " '2017-06-30',\n",
       " '2017-06-29',\n",
       " '2017-06-28',\n",
       " '2017-06-27',\n",
       " '2017-06-26',\n",
       " '2017-06-23',\n",
       " '2017-06-22',\n",
       " '2017-06-21',\n",
       " '2017-06-20',\n",
       " '2017-06-19',\n",
       " '2017-06-16',\n",
       " '2017-06-15',\n",
       " '2017-06-14',\n",
       " '2017-06-13',\n",
       " '2017-06-12',\n",
       " '2017-06-09',\n",
       " '2017-06-08',\n",
       " '2017-06-07',\n",
       " '2017-06-06',\n",
       " '2017-06-02',\n",
       " '2017-06-01',\n",
       " '2017-05-31',\n",
       " '2017-05-30',\n",
       " '2017-05-29',\n",
       " '2017-05-26',\n",
       " '2017-05-25',\n",
       " '2017-05-24',\n",
       " '2017-05-23',\n",
       " '2017-05-22',\n",
       " '2017-05-19',\n",
       " '2017-05-18',\n",
       " '2017-05-17',\n",
       " '2017-05-16',\n",
       " '2017-05-15',\n",
       " '2017-05-12',\n",
       " '2017-05-11',\n",
       " '2017-05-10',\n",
       " '2017-05-09',\n",
       " '2017-05-08',\n",
       " '2017-05-05',\n",
       " '2017-05-04',\n",
       " '2017-05-03',\n",
       " '2017-05-02',\n",
       " '2017-05-01',\n",
       " '2017-04-28',\n",
       " '2017-04-27',\n",
       " '2017-04-26',\n",
       " '2017-04-25',\n",
       " '2017-04-24',\n",
       " '2017-04-21',\n",
       " '2017-04-20',\n",
       " '2017-04-19',\n",
       " '2017-04-18',\n",
       " '2017-04-17',\n",
       " '2017-04-14',\n",
       " '2017-04-13',\n",
       " '2017-04-12',\n",
       " '2017-04-11',\n",
       " '2017-04-10',\n",
       " '2017-04-07',\n",
       " '2017-04-06',\n",
       " '2017-04-05',\n",
       " '2017-04-04',\n",
       " '2017-04-03',\n",
       " '2017-03-31',\n",
       " '2017-03-30',\n",
       " '2017-03-29',\n",
       " '2017-03-28',\n",
       " '2017-03-27',\n",
       " '2017-03-24',\n",
       " '2017-03-23',\n",
       " '2017-03-22',\n",
       " '2017-03-21',\n",
       " '2017-03-20',\n",
       " '2017-03-17',\n",
       " '2017-03-16',\n",
       " '2017-03-15',\n",
       " '2017-03-14',\n",
       " '2017-03-13',\n",
       " '2017-03-10',\n",
       " '2017-03-09',\n",
       " '2017-03-08',\n",
       " '2017-03-07',\n",
       " '2017-03-06',\n",
       " '2017-03-03',\n",
       " '2017-03-02',\n",
       " '2017-03-01',\n",
       " '2017-02-28',\n",
       " '2017-02-27',\n",
       " '2017-02-24',\n",
       " '2017-02-23',\n",
       " '2017-02-22',\n",
       " '2017-02-21',\n",
       " '2017-02-20',\n",
       " '2017-02-17',\n",
       " '2017-02-16',\n",
       " '2017-02-15',\n",
       " '2017-02-14',\n",
       " '2017-02-13',\n",
       " '2017-02-10',\n",
       " '2017-02-09',\n",
       " '2017-02-08',\n",
       " '2017-02-07',\n",
       " '2017-02-06',\n",
       " '2017-02-03',\n",
       " '2017-02-02',\n",
       " '2017-02-01',\n",
       " '2017-01-31',\n",
       " '2017-01-30',\n",
       " '2017-01-27',\n",
       " '2017-01-26',\n",
       " '2017-01-25',\n",
       " '2017-01-24',\n",
       " '2017-01-23',\n",
       " '2017-01-20',\n",
       " '2017-01-19',\n",
       " '2017-01-18',\n",
       " '2017-01-17',\n",
       " '2017-01-16',\n",
       " '2017-01-13',\n",
       " '2017-01-12',\n",
       " '2017-01-11',\n",
       " '2017-01-10',\n",
       " '2017-01-09',\n",
       " '2017-01-06',\n",
       " '2017-01-05',\n",
       " '2017-01-04',\n",
       " '2017-01-03',\n",
       " '2017-01-02']"
      ]
     },
     "execution_count": 11,
     "metadata": {},
     "output_type": "execute_result"
    }
   ],
   "source": [
    "# confirm the date range\n",
    "[x[0] for x in afxx_data_2017]"
   ]
  },
  {
   "cell_type": "markdown",
   "metadata": {
    "heading_collapsed": true
   },
   "source": [
    "# High/Low Open Prices"
   ]
  },
  {
   "cell_type": "markdown",
   "metadata": {
    "hidden": true
   },
   "source": [
    "A reminder on indices:\n",
    "- index 1 --> Open"
   ]
  },
  {
   "cell_type": "code",
   "execution_count": 12,
   "metadata": {
    "ExecuteTime": {
     "end_time": "2021-08-18T19:33:49.882994Z",
     "start_time": "2021-08-18T19:33:49.879518Z"
    },
    "hidden": true
   },
   "outputs": [
    {
     "name": "stdout",
     "output_type": "stream",
     "text": [
      "2017 max open price: 53.11\n",
      "2017 min open price: 34.00\n"
     ]
    }
   ],
   "source": [
    "# find the index (idx) we want\n",
    "idx = afxx_data['column_names'].index('Open')\n",
    "\n",
    "# list comprehension to the rescue!\n",
    "# the magical looking `if x[1]` is a cheap way to test for `None` values\n",
    "idx = afxx_data['column_names'].index('Open')\n",
    "open_prices = [x[idx] for x in afxx_data_2017 if x[idx]]\n",
    "\n",
    "# print results\n",
    "print(f\"2017 max open price: {max(open_prices):.2f}\")\n",
    "print(f\"2017 min open price: {min(open_prices):.2f}\")"
   ]
  },
  {
   "cell_type": "markdown",
   "metadata": {
    "heading_collapsed": true
   },
   "source": [
    "# Largest Interday Price Change"
   ]
  },
  {
   "cell_type": "markdown",
   "metadata": {
    "hidden": true
   },
   "source": [
    "A reminder on indices:\n",
    "- index 2 --> High\n",
    "- index 3 --> Low"
   ]
  },
  {
   "cell_type": "code",
   "execution_count": 13,
   "metadata": {
    "ExecuteTime": {
     "end_time": "2021-08-18T19:33:49.887960Z",
     "start_time": "2021-08-18T19:33:49.883757Z"
    },
    "hidden": true
   },
   "outputs": [
    {
     "name": "stdout",
     "output_type": "stream",
     "text": [
      "2017 largest interday price diff: 2.81\n"
     ]
    }
   ],
   "source": [
    "# find the index (idx) we want\n",
    "high_idx = afxx_data['column_names'].index('High')\n",
    "low_idx = afxx_data['column_names'].index('Low')\n",
    "\n",
    "# daily price diff is high-low\n",
    "interday_price_diffs = [x[high_idx] - x[low_idx] for x in afxx_data_2017 if x[high_idx] and x[low_idx]]\n",
    "\n",
    "# print result\n",
    "print(f\"2017 largest interday price diff: {max(interday_price_diffs):.2f}\")"
   ]
  },
  {
   "cell_type": "markdown",
   "metadata": {},
   "source": [
    "# Largest Day-to-Day Price Change"
   ]
  },
  {
   "cell_type": "markdown",
   "metadata": {},
   "source": [
    "Reminder of indices:\n",
    "- index 4 --> Close\n",
    "- index 5 --> Change\n",
    "\n",
    "We have a couple options, let's try them both for fun:\n",
    "1. Assume the `\"Change\"` value is the day-to-day change, in which case all we need is the `max` of that value.\n",
    "2. Calculate the daily close price change ourselves and take that `max`.\n",
    "\n",
    "\n",
    "These should be the same... right?"
   ]
  },
  {
   "cell_type": "code",
   "execution_count": 14,
   "metadata": {
    "ExecuteTime": {
     "end_time": "2021-08-18T19:33:49.937951Z",
     "start_time": "2021-08-18T19:33:49.888844Z"
    }
   },
   "outputs": [
    {
     "ename": "TypeError",
     "evalue": "'>' not supported between instances of 'NoneType' and 'NoneType'",
     "output_type": "error",
     "traceback": [
      "\u001b[0;31m---------------------------------------------------------------------------\u001b[0m",
      "\u001b[0;31mTypeError\u001b[0m                                 Traceback (most recent call last)",
      "\u001b[0;32m/tmp/ipykernel_824649/4230747446.py\u001b[0m in \u001b[0;36m<module>\u001b[0;34m\u001b[0m\n\u001b[1;32m      4\u001b[0m \u001b[0;31m# assume the change is right\u001b[0m\u001b[0;34m\u001b[0m\u001b[0;34m\u001b[0m\u001b[0;34m\u001b[0m\u001b[0m\n\u001b[1;32m      5\u001b[0m \u001b[0mdaily_price_changes\u001b[0m \u001b[0;34m=\u001b[0m \u001b[0;34m[\u001b[0m\u001b[0mx\u001b[0m\u001b[0;34m[\u001b[0m\u001b[0midx\u001b[0m\u001b[0;34m]\u001b[0m \u001b[0;32mfor\u001b[0m \u001b[0mx\u001b[0m \u001b[0;32min\u001b[0m \u001b[0mafxx_data_2017\u001b[0m\u001b[0;34m]\u001b[0m\u001b[0;34m\u001b[0m\u001b[0;34m\u001b[0m\u001b[0m\n\u001b[0;32m----> 6\u001b[0;31m \u001b[0mprint\u001b[0m\u001b[0;34m(\u001b[0m\u001b[0;34mf\"2017 largest daily price diff: {max(daily_price_changes):.2f}\"\u001b[0m\u001b[0;34m)\u001b[0m\u001b[0;34m\u001b[0m\u001b[0;34m\u001b[0m\u001b[0m\n\u001b[0m",
      "\u001b[0;31mTypeError\u001b[0m: '>' not supported between instances of 'NoneType' and 'NoneType'"
     ]
    }
   ],
   "source": [
    "# find the index (idx) we want\n",
    "idx = afxx_data['column_names'].index('Change')\n",
    "\n",
    "# assume the change is right\n",
    "daily_price_changes = [x[idx] for x in afxx_data_2017]\n",
    "print(f\"2017 largest daily price diff: {max(daily_price_changes):.2f}\")"
   ]
  },
  {
   "cell_type": "markdown",
   "metadata": {},
   "source": [
    "Well, look at that. The field is not populated :("
   ]
  },
  {
   "cell_type": "code",
   "execution_count": 15,
   "metadata": {
    "ExecuteTime": {
     "end_time": "2021-08-18T19:33:56.700098Z",
     "start_time": "2021-08-18T19:33:56.696498Z"
    }
   },
   "outputs": [],
   "source": [
    "# find the index (idx) we want\n",
    "idx = afxx_data['column_names'].index('Close')\n",
    "\n",
    "# calculate price changes ourselves\n",
    "daily_price_changes = []\n",
    "\n",
    "# there is no \"current price\", so we start with `None`\n",
    "yesterdays_price = None\n",
    "\n",
    "# iterate over all dates\n",
    "for data in afxx_data_2017:\n",
    "    \n",
    "    # get today's price\n",
    "    todays_price = data[idx]\n",
    "    \n",
    "    # we can only calculate a change if one exists\n",
    "    if yesterdays_price is not None:\n",
    "        \n",
    "        # note below that I use `abs()` because we don't know which \"largest\" we're looking for: up/down?\n",
    "        daily_price_changes.extend([abs(todays_price - yesterdays_price)])\n",
    "    \n",
    "    # if there is no yesterday's price, what to do? I guess use -1 as a safety?\n",
    "    else:\n",
    "        daily_price_changes.extend([-1])\n",
    "        \n",
    "    # remember today's price as yesterday's price for tomorrow\n",
    "    yesterdays_price = todays_price"
   ]
  },
  {
   "cell_type": "code",
   "execution_count": 16,
   "metadata": {
    "ExecuteTime": {
     "end_time": "2021-08-18T19:33:57.270255Z",
     "start_time": "2021-08-18T19:33:57.267664Z"
    }
   },
   "outputs": [
    {
     "name": "stdout",
     "output_type": "stream",
     "text": [
      "2017 largest daily price diff: 2.56\n"
     ]
    }
   ],
   "source": [
    "print(f\"2017 largest daily price diff: {max(daily_price_changes):.2f}\")"
   ]
  },
  {
   "cell_type": "markdown",
   "metadata": {},
   "source": [
    "# Average Trading Volume"
   ]
  },
  {
   "cell_type": "markdown",
   "metadata": {},
   "source": [
    "Reminder of indices:\n",
    "- index 6 --> Traded Volume"
   ]
  },
  {
   "cell_type": "code",
   "execution_count": 17,
   "metadata": {
    "ExecuteTime": {
     "end_time": "2021-08-18T19:33:58.192257Z",
     "start_time": "2021-08-18T19:33:58.188625Z"
    }
   },
   "outputs": [
    {
     "name": "stdout",
     "output_type": "stream",
     "text": [
      "2017 average trading volume: 89124\n"
     ]
    }
   ],
   "source": [
    "# find the index (idx) we want\n",
    "idx = afxx_data['column_names'].index('Traded Volume')\n",
    "\n",
    "trade_volumes = [x[idx] for x in afxx_data_2017 if x[idx]]\n",
    "average_volume = sum(trade_volumes) / len(trade_volumes)\n",
    "print(f\"2017 average trading volume: {average_volume:.0f}\")"
   ]
  },
  {
   "cell_type": "markdown",
   "metadata": {},
   "source": [
    "# Median Trading Volume"
   ]
  },
  {
   "cell_type": "code",
   "execution_count": 18,
   "metadata": {
    "ExecuteTime": {
     "end_time": "2021-08-18T19:33:58.655958Z",
     "start_time": "2021-08-18T19:33:58.653423Z"
    }
   },
   "outputs": [
    {
     "name": "stdout",
     "output_type": "stream",
     "text": [
      "Index of the median value: 127.5\n"
     ]
    }
   ],
   "source": [
    "# find the index (idx) we want\n",
    "idx = afxx_data['column_names'].index('Traded Volume')\n",
    "\n",
    "# lets first sort the volumes\n",
    "sorted_trade_volumes = sorted([x[idx] for x in afxx_data_2017 if x[idx]])\n",
    "\n",
    "# we're now assured that the middle of the sorted list is the median\n",
    "medians_index = len(sorted_trade_volumes) / 2\n",
    "\n",
    "# print this index, is it an integer?\n",
    "print(f\"Index of the median value: {medians_index}\")"
   ]
  },
  {
   "cell_type": "code",
   "execution_count": 19,
   "metadata": {
    "ExecuteTime": {
     "end_time": "2021-08-18T19:33:58.930898Z",
     "start_time": "2021-08-18T19:33:58.927165Z"
    }
   },
   "outputs": [
    {
     "name": "stdout",
     "output_type": "stream",
     "text": [
      "2017 upper-median volume: 76600\n",
      "2017 lower-median volume: 76286\n"
     ]
    }
   ],
   "source": [
    "# err, it's between two values, so let's look above and below, user's pick\n",
    "upper_median_idx = round(medians_index)\n",
    "lower_median_idx = len(sorted_trade_volumes) // 2\n",
    "\n",
    "# print the values\n",
    "upper_median = sorted_trade_volumes[upper_median_idx]\n",
    "lower_median = sorted_trade_volumes[lower_median_idx]\n",
    "\n",
    "print(f\"2017 upper-median volume: {upper_median:.0f}\")\n",
    "print(f\"2017 lower-median volume: {lower_median:.0f}\")"
   ]
  },
  {
   "cell_type": "code",
   "execution_count": 20,
   "metadata": {
    "ExecuteTime": {
     "end_time": "2021-08-18T19:33:59.855830Z",
     "start_time": "2021-08-18T19:33:59.165241Z"
    }
   },
   "outputs": [
    {
     "data": {
      "text/plain": [
       "Text(0.5, 0, 'Daily Trade Volume')"
      ]
     },
     "execution_count": 20,
     "metadata": {},
     "output_type": "execute_result"
    },
    {
     "data": {
      "image/png": "[encoded data removed]",
      "text/plain": [
       "<Figure size 1296x576 with 1 Axes>"
      ]
     },
     "metadata": {
      "needs_background": "light"
     },
     "output_type": "display_data"
    }
   ],
   "source": [
    "# for fun let's see this data and validate our assumptions\n",
    "import matplotlib.pyplot as plt\n",
    "import seaborn as sns\n",
    "\n",
    "# plot hist\n",
    "binsize = 20000\n",
    "bins = [\n",
    "    x for x in range(int(sorted_trade_volumes[0]),\n",
    "                     int(sorted_trade_volumes[-1] + binsize), binsize)\n",
    "]\n",
    "fig, ax = plt.subplots(figsize=(18, 8))\n",
    "sns.histplot(sorted_trade_volumes, ax=ax, bins=bins)\n",
    "plt.axvline(upper_median, color='r', linestyle='dashed')\n",
    "plt.axvline(lower_median, color='b', linestyle='dotted')\n",
    "plt.xlabel(\"Daily Trade Volume\")"
   ]
  }
 ],
 "metadata": {
  "kernelspec": {
   "display_name": "Python 3 (ipykernel)",
   "language": "python",
   "name": "python3"
  },
  "language_info": {
   "codemirror_mode": {
    "name": "ipython",
    "version": 3
   },
   "file_extension": ".py",
   "mimetype": "text/x-python",
   "name": "python",
   "nbconvert_exporter": "python",
   "pygments_lexer": "ipython3",
   "version": "3.8.0"
  },
  "toc": {
   "base_numbering": 1,
   "nav_menu": {},
   "number_sections": true,
   "sideBar": true,
   "skip_h1_title": false,
   "title_cell": "Table of Contents",
   "title_sidebar": "Contents",
   "toc_cell": false,
   "toc_position": {},
   "toc_section_display": true,
   "toc_window_display": false
  },
  "varInspector": {
   "cols": {
    "lenName": 16,
    "lenType": 16,
    "lenVar": 40
   },
   "kernels_config": {
    "python": {
     "delete_cmd_postfix": "",
     "delete_cmd_prefix": "del ",
     "library": "var_list.py",
     "varRefreshCmd": "print(var_dic_list())"
    },
    "r": {
     "delete_cmd_postfix": ") ",
     "delete_cmd_prefix": "rm(",
     "library": "var_list.r",
     "varRefreshCmd": "cat(var_dic_list()) "
    }
   },
   "types_to_exclude": [
    "module",
    "function",
    "builtin_function_or_method",
    "instance",
    "_Feature"
   ],
   "window_display": false
  }
 },
 "nbformat": 4,
 "nbformat_minor": 4
}
